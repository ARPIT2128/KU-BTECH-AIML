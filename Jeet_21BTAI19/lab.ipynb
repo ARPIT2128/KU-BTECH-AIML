{
  "nbformat": 4,
  "nbformat_minor": 0,
  "metadata": {
    "colab": {
      "name": "lab.ipynb",
      "provenance": [],
      "collapsed_sections": [],
      "authorship_tag": "ABX9TyPVAnmt3fBqH4mB64YLCizD",
      "include_colab_link": true
    },
    "kernelspec": {
      "name": "python3",
      "display_name": "Python 3"
    },
    "language_info": {
      "name": "python"
    }
  },
  "cells": [
    {
      "cell_type": "markdown",
      "metadata": {
        "id": "view-in-github",
        "colab_type": "text"
      },
      "source": [
        "<a href=\"https://colab.research.google.com/github/ARPIT2128/KU-BTECH-AIML/blob/main/Jeet_21BTAI19/lab.ipynb\" target=\"_parent\"><img src=\"https://colab.research.google.com/assets/colab-badge.svg\" alt=\"Open In Colab\"/></a>"
      ]
    },
    {
      "cell_type": "markdown",
      "source": [
        "# program 1"
      ],
      "metadata": {
        "id": "RlnqAfHMy-8d"
      }
    },
    {
      "cell_type": "code",
      "execution_count": null,
      "metadata": {
        "colab": {
          "base_uri": "https://localhost:8080/"
        },
        "id": "aXAVDxzoYY7i",
        "outputId": "70d4fc7b-92d6-48d2-8177-adb45fd47665"
      },
      "outputs": [
        {
          "output_type": "stream",
          "name": "stdout",
          "text": [
            "33\n"
          ]
        },
        {
          "output_type": "execute_result",
          "data": {
            "text/plain": [
              "int"
            ]
          },
          "metadata": {},
          "execution_count": 6
        }
      ],
      "source": [
        "a,b,c=11,11,11\n",
        "d=a+b+c\n",
        "print(d)\n",
        "type(d)"
      ]
    },
    {
      "cell_type": "code",
      "source": [
        "b=1+2j\n",
        "print(b)\n",
        "type(b)"
      ],
      "metadata": {
        "colab": {
          "base_uri": "https://localhost:8080/"
        },
        "id": "DugvdpgNYel_",
        "outputId": "fc1ca8ce-2b88-496e-f711-fd1e1795de4b"
      },
      "execution_count": null,
      "outputs": [
        {
          "output_type": "stream",
          "name": "stdout",
          "text": [
            "(1+2j)\n"
          ]
        },
        {
          "output_type": "execute_result",
          "data": {
            "text/plain": [
              "complex"
            ]
          },
          "metadata": {},
          "execution_count": 3
        }
      ]
    },
    {
      "cell_type": "code",
      "source": [
        "x=45.45\n",
        "print(x)\n",
        "type(x)"
      ],
      "metadata": {
        "colab": {
          "base_uri": "https://localhost:8080/"
        },
        "id": "EBw49pSgYzb6",
        "outputId": "625499c9-2fae-4453-a3f2-32108ab865f2"
      },
      "execution_count": null,
      "outputs": [
        {
          "output_type": "execute_result",
          "data": {
            "text/plain": [
              "float"
            ]
          },
          "metadata": {},
          "execution_count": 4
        }
      ]
    },
    {
      "cell_type": "code",
      "source": [
        "j=\"jeet\"\n",
        "print(j)\n",
        "type(j)"
      ],
      "metadata": {
        "colab": {
          "base_uri": "https://localhost:8080/"
        },
        "id": "DS0yzSePY-zM",
        "outputId": "7d7dc602-156a-4983-a686-788bda06da74"
      },
      "execution_count": null,
      "outputs": [
        {
          "output_type": "stream",
          "name": "stdout",
          "text": [
            "jeet\n"
          ]
        },
        {
          "output_type": "execute_result",
          "data": {
            "text/plain": [
              "str"
            ]
          },
          "metadata": {},
          "execution_count": 7
        }
      ]
    },
    {
      "cell_type": "code",
      "source": [
        "a=[\"karnavati\",\"university\"]\n",
        "print(a)\n",
        "type(a)edit"
      ],
      "metadata": {
        "colab": {
          "base_uri": "https://localhost:8080/"
        },
        "id": "GdsPoW76Zj6h",
        "outputId": "7aebfc16-1af2-4bdf-c6b4-dd6498e3be05"
      },
      "execution_count": null,
      "outputs": [
        {
          "output_type": "stream",
          "name": "stdout",
          "text": [
            "['karnavati', 'university']\n"
          ]
        },
        {
          "output_type": "execute_result",
          "data": {
            "text/plain": [
              "list"
            ]
          },
          "metadata": {},
          "execution_count": 8
        }
      ]
    },
    {
      "cell_type": "code",
      "source": [
        "e={\"abcde\":\"12345\",\"jeet\":\"19\"}\n",
        "print(e)\n",
        "type(e)"
      ],
      "metadata": {
        "colab": {
          "base_uri": "https://localhost:8080/"
        },
        "id": "aV4ZXWFUZ0eS",
        "outputId": "f31a5de8-0c74-408f-cc6a-7dbab472df5c"
      },
      "execution_count": null,
      "outputs": [
        {
          "output_type": "stream",
          "name": "stdout",
          "text": [
            "{'abcde': '12345', 'jeet': '19'}\n"
          ]
        },
        {
          "output_type": "execute_result",
          "data": {
            "text/plain": [
              "dict"
            ]
          },
          "metadata": {},
          "execution_count": 9
        }
      ]
    },
    {
      "cell_type": "code",
      "source": [
        "i=(\"python\",\"program\")edit\n",
        "print(i)\n",
        "type(i)"
      ],
      "metadata": {
        "colab": {
          "base_uri": "https://localhost:8080/"
        },
        "id": "FzJ0MK31abUx",
        "outputId": "39839d51-c2bb-457a-b64d-fefd0331815b"
      },
      "execution_count": null,
      "outputs": [
        {
          "output_type": "stream",
          "name": "stdout",
          "text": [
            "('python', 'program')\n"
          ]
        },
        {
          "output_type": "execute_result",
          "data": {
            "text/plain": [
              "tuple"
            ]
          },
          "metadata": {},
          "execution_count": 10
        }
      ]
    },
    {
      "cell_type": "markdown",
      "source": [
        "# Program 2"
      ],
      "metadata": {
        "id": "Xp1IwTM7zHst"
      }
    },
    {
      "cell_type": "code",
      "source": [
        "import math\n",
        "x1,y1=4,5\n",
        "x2,y2=1,1\n",
        "distance = math.sqrt((x1-x2) ** 2 + (y1-y2) ** 2)\n",
        "print(distance)"
      ],
      "metadata": {
        "id": "9MlVheeMzNE7",
        "outputId": "89c3d03e-37d0-41b5-bfa3-d1bc21cd189b",
        "colab": {
          "base_uri": "https://localhost:8080/"
        }
      },
      "execution_count": null,
      "outputs": [
        {
          "output_type": "stream",
          "name": "stdout",
          "text": [
            "5.0\n"
          ]
        }
      ]
    },
    {
      "cell_type": "markdown",
      "source": [
        "# Program 3"
      ],
      "metadata": {
        "id": "D-y2jsq-X0Gn"
      }
    },
    {
      "cell_type": "code",
      "source": [
        "num = int(input(\"Enter any numbers to test whether it is odd or even : \"))\n",
        "\n",
        "if(num % 2) == 0:\n",
        "  print(\"The number is even\")\n",
        "\n",
        "else:\n",
        "  print(\"The number is odd\")"
      ],
      "metadata": {
        "id": "nD3dZufNX7Zk",
        "colab": {
          "base_uri": "https://localhost:8080/"
        },
        "outputId": "c9c2c70f-3ba4-428c-8444-3a76e9e7d46f"
      },
      "execution_count": 1,
      "outputs": [
        {
          "output_type": "stream",
          "name": "stdout",
          "text": [
            "Enter any numbers to test whether it is odd or even : 2\n",
            "The number is even\n"
          ]
        }
      ]
    },
    {
      "cell_type": "code",
      "source": [
        "n = int(input(\"Enter a number : \"))\n",
        "\n",
        "s = 0\n",
        "t = n\n",
        "while t > 0:\n",
        "  digit = t % 10\n",
        "  s += digit ** 3\n",
        "  t //= 10\n",
        "\n",
        "if n == s:\n",
        "  print(n,\"is an Armstrong number\")\n",
        "\n",
        "else:\n",
        "  print(n,\"is not an Armstrong number\")\n"
      ],
      "metadata": {
        "colab": {
          "base_uri": "https://localhost:8080/"
        },
        "id": "3xlQ47wMjYid",
        "outputId": "ac5cc574-2237-4061-d291-6bcf9e9431ef"
      },
      "execution_count": 2,
      "outputs": [
        {
          "output_type": "stream",
          "name": "stdout",
          "text": [
            "Enter a number : 123\n",
            "123 is not an Armstrong number\n"
          ]
        }
      ]
    },
    {
      "cell_type": "markdown",
      "source": [
        "# Program 4"
      ],
      "metadata": {
        "id": "MjPTB4anjZ54"
      }
    },
    {
      "cell_type": "code",
      "source": [
        "a = int(input(\"Enter the Number : \"))\n",
        "i = 0\n",
        "while i<=a:\n",
        "  print(i)\n",
        "  i = i + 1"
      ],
      "metadata": {
        "colab": {
          "base_uri": "https://localhost:8080/"
        },
        "id": "TrTp99NWjcuz",
        "outputId": "1c925fdc-6c0e-4b6a-f510-fd5b23a8eb4a"
      },
      "execution_count": 3,
      "outputs": [
        {
          "output_type": "stream",
          "name": "stdout",
          "text": [
            "Enter the Number : 5\n",
            "0\n",
            "1\n",
            "2\n",
            "3\n",
            "4\n",
            "5\n"
          ]
        }
      ]
    },
    {
      "cell_type": "markdown",
      "source": [
        "# Program 5"
      ],
      "metadata": {
        "id": "LGHZzmIRjj52"
      }
    },
    {
      "cell_type": "code",
      "source": [
        "a = str(input(\"Enter a string : \"))\n",
        "b = { }\n",
        "for i in a:\n",
        "  b[i] = a.count(i)\n",
        "print(b)"
      ],
      "metadata": {
        "colab": {
          "base_uri": "https://localhost:8080/"
        },
        "id": "fkaR5G47jngr",
        "outputId": "fc381aef-dd26-475d-a7cf-3f4e257790b4"
      },
      "execution_count": 6,
      "outputs": [
        {
          "output_type": "stream",
          "name": "stdout",
          "text": [
            "Enter a string : hiii\n",
            "{'h': 1, 'i': 3}\n"
          ]
        }
      ]
    },
    {
      "cell_type": "markdown",
      "source": [
        "# Program 6"
      ],
      "metadata": {
        "id": "18c_9yXxjnw5"
      }
    },
    {
      "cell_type": "code",
      "source": [
        "list = [\"Jeet\",\"Patel\"]\n",
        "print(list)\n",
        "\n",
        "tuple = (\"Bhupendra\",\"Patel\")\n",
        "print(tuple)\n",
        "\n",
        "for i in list:\n",
        "  print(i)\n",
        "for i in tuple:\n",
        "  print(i)"
      ],
      "metadata": {
        "colab": {
          "base_uri": "https://localhost:8080/"
        },
        "id": "UOJyT6Nqjpcq",
        "outputId": "f68a2b82-2aac-4cd3-bb7b-d2f89c7fced5"
      },
      "execution_count": 7,
      "outputs": [
        {
          "output_type": "stream",
          "name": "stdout",
          "text": [
            "['Jeet', 'Patel']\n",
            "('Bhupendra', 'Patel')\n",
            "Jeet\n",
            "Patel\n",
            "Bhupendra\n",
            "Patel\n"
          ]
        }
      ]
    }
  ]
}