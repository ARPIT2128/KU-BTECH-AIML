{
  "nbformat": 4,
  "nbformat_minor": 0,
  "metadata": {
    "colab": {
      "name": "experiments1-15.ipynb",
      "provenance": [],
      "collapsed_sections": [],
      "authorship_tag": "ABX9TyPMfESGDRH0zkjx7MgQMBQX",
      "include_colab_link": true
    },
    "kernelspec": {
      "name": "python3",
      "display_name": "Python 3"
    },
    "language_info": {
      "name": "python"
    }
  },
  "cells": [
    {
      "cell_type": "markdown",
      "metadata": {
        "id": "view-in-github",
        "colab_type": "text"
      },
      "source": [
        "<a href=\"https://colab.research.google.com/github/ARPIT2128/KU-BTECH-AIML/blob/main/JAYMINTANNA_21BTAI42/experiments1_15.ipynb\" target=\"_parent\"><img src=\"https://colab.research.google.com/assets/colab-badge.svg\" alt=\"Open In Colab\"/></a>"
      ]
    },
    {
      "cell_type": "code",
      "execution_count": null,
      "metadata": {
        "colab": {
          "base_uri": "https://localhost:8080/"
        },
        "id": "DZHK-X4UJN0M",
        "outputId": "be3207cd-21a9-40a7-e9e0-0e713872ce1a"
      },
      "outputs": [
        {
          "output_type": "stream",
          "name": "stdout",
          "text": [
            "This is Python!!!\n"
          ]
        }
      ],
      "source": [
        "#experiment 1\n",
        "print('This is Python!!!')"
      ]
    },
    {
      "cell_type": "code",
      "source": [
        "var1=14\n",
        "print(var1)"
      ],
      "metadata": {
        "colab": {
          "base_uri": "https://localhost:8080/"
        },
        "id": "7-33X64iJqk3",
        "outputId": "553b8b1e-e5cc-4d91-9344-ba63ae41858e"
      },
      "execution_count": null,
      "outputs": [
        {
          "output_type": "stream",
          "name": "stdout",
          "text": [
            "14\n"
          ]
        }
      ]
    },
    {
      "cell_type": "code",
      "source": [
        "a='HI'\n",
        "print(type(a))"
      ],
      "metadata": {
        "colab": {
          "base_uri": "https://localhost:8080/"
        },
        "id": "CtDqKIfDJ2j2",
        "outputId": "b8d539b4-533f-4b8b-edcf-e07dffb9090f"
      },
      "execution_count": null,
      "outputs": [
        {
          "output_type": "stream",
          "name": "stdout",
          "text": [
            "<class 'str'>\n"
          ]
        }
      ]
    },
    {
      "cell_type": "code",
      "source": [
        "a=12.5\n",
        "print(type(a))"
      ],
      "metadata": {
        "colab": {
          "base_uri": "https://localhost:8080/"
        },
        "id": "eYtdPWkOKGos",
        "outputId": "45663269-8ba5-4cae-cb19-db7dfa14734e"
      },
      "execution_count": null,
      "outputs": [
        {
          "output_type": "stream",
          "name": "stdout",
          "text": [
            "<class 'float'>\n"
          ]
        }
      ]
    },
    {
      "cell_type": "code",
      "source": [
        "a=1+2j\n",
        "print(type(a))"
      ],
      "metadata": {
        "colab": {
          "base_uri": "https://localhost:8080/"
        },
        "id": "NL7LOwpvKNLb",
        "outputId": "ddba1329-f34c-4d92-8de4-f19baa17502d"
      },
      "execution_count": null,
      "outputs": [
        {
          "output_type": "stream",
          "name": "stdout",
          "text": [
            "<class 'complex'>\n"
          ]
        }
      ]
    },
    {
      "cell_type": "code",
      "source": [
        "a=True\n",
        "print(type(a))"
      ],
      "metadata": {
        "colab": {
          "base_uri": "https://localhost:8080/"
        },
        "id": "d5_Rj-LhKQ9K",
        "outputId": "ec37439e-1293-4635-c34d-08e1207ae314"
      },
      "execution_count": null,
      "outputs": [
        {
          "output_type": "stream",
          "name": "stdout",
          "text": [
            "<class 'bool'>\n"
          ]
        }
      ]
    },
    {
      "cell_type": "code",
      "source": [
        "print(9/4)\n",
        "print(9//4)\n",
        "print(9*4)\n",
        "print(9**4)\n",
        "print(9+4)\n",
        "print(9-5)\n",
        "print(9%4)"
      ],
      "metadata": {
        "colab": {
          "base_uri": "https://localhost:8080/"
        },
        "id": "xTRKwfhuKTxC",
        "outputId": "57257edc-89fc-49fe-cbf6-b7cfaf4833cb"
      },
      "execution_count": null,
      "outputs": [
        {
          "output_type": "stream",
          "name": "stdout",
          "text": [
            "2.25\n",
            "2\n",
            "36\n",
            "6561\n",
            "13\n",
            "4\n",
            "1\n"
          ]
        }
      ]
    },
    {
      "cell_type": "code",
      "source": [
        "a=10\n",
        "b=20\n",
        "print(a,b)"
      ],
      "metadata": {
        "colab": {
          "base_uri": "https://localhost:8080/"
        },
        "id": "uQdWZE6VKXQ9",
        "outputId": "d0acb941-f01a-46a8-f0ae-43141984c338"
      },
      "execution_count": null,
      "outputs": [
        {
          "output_type": "stream",
          "name": "stdout",
          "text": [
            "10 20\n"
          ]
        }
      ]
    },
    {
      "cell_type": "code",
      "source": [
        "print(a>b)\n",
        "print(a==b)\n",
        "x,y=5,5\n",
        "print(x==y)\n",
        "print(x!=y)\n"
      ],
      "metadata": {
        "colab": {
          "base_uri": "https://localhost:8080/"
        },
        "id": "r1BdkVuTKvZJ",
        "outputId": "1da2533a-6775-4ad5-805f-35480f447257"
      },
      "execution_count": null,
      "outputs": [
        {
          "output_type": "stream",
          "name": "stdout",
          "text": [
            "False\n",
            "False\n",
            "True\n",
            "False\n"
          ]
        }
      ]
    },
    {
      "cell_type": "code",
      "source": [
        "a=True\n",
        "b=False\n",
        "print(a|b)\n",
        "print(a&b)\n",
        "print(a or b)\n",
        "print(a and b)"
      ],
      "metadata": {
        "colab": {
          "base_uri": "https://localhost:8080/"
        },
        "id": "Drez9R9dLO1Z",
        "outputId": "dd1cb579-d378-420d-883d-2621c40a673b"
      },
      "execution_count": null,
      "outputs": [
        {
          "output_type": "stream",
          "name": "stdout",
          "text": [
            "True\n",
            "False\n",
            "True\n",
            "False\n"
          ]
        }
      ]
    },
    {
      "cell_type": "code",
      "source": [
        "my_string=\"My name is Jaymin\"\n",
        "print(my_string)\n",
        "print(type(my_string))"
      ],
      "metadata": {
        "colab": {
          "base_uri": "https://localhost:8080/"
        },
        "id": "5zgv1Ub_LYuk",
        "outputId": "3f4f345b-67ab-4a11-b849-4d86dea89599"
      },
      "execution_count": null,
      "outputs": [
        {
          "output_type": "stream",
          "name": "stdout",
          "text": [
            "My name is Jaymin\n",
            "<class 'str'>\n"
          ]
        }
      ]
    },
    {
      "cell_type": "code",
      "source": [
        "print(my_string[-2])"
      ],
      "metadata": {
        "colab": {
          "base_uri": "https://localhost:8080/"
        },
        "id": "uN7B9DbRL5iZ",
        "outputId": "2d42f947-bcd4-4ee9-bc32-eb631462d9c7"
      },
      "execution_count": null,
      "outputs": [
        {
          "output_type": "stream",
          "name": "stdout",
          "text": [
            "i\n"
          ]
        }
      ]
    },
    {
      "cell_type": "code",
      "source": [
        "string=\"Hello\"\n",
        "print(len(string))\n",
        "print(string.lower())\n",
        "print(string.upper())\n",
        "string='heya'\n",
        "print(string.replace('y','a'))\n",
        "string='hello ladies hello gentlemen hello everyone'\n",
        "print(string.count(\"hello\"))\n",
        "string=\"hi how are you?\"\n",
        "print(string.find(\"are\"))"
      ],
      "metadata": {
        "colab": {
          "base_uri": "https://localhost:8080/"
        },
        "id": "g56mC_-eMbsM",
        "outputId": "2360f85f-88fe-49c8-a820-da35f9c9f6c9"
      },
      "execution_count": null,
      "outputs": [
        {
          "output_type": "stream",
          "name": "stdout",
          "text": [
            "5\n",
            "hello\n",
            "HELLO\n",
            "heaa\n",
            "3\n",
            "7\n"
          ]
        }
      ]
    },
    {
      "cell_type": "code",
      "source": [
        "#experiment 2\n",
        "import math\n",
        "x1=int(input(\"Enter first x coordinate: \"))\n",
        "x2=int(input(\"Enter second x coordinate: \"))\n",
        "y1=int(input(\"Enter first y coordinate: \"))\n",
        "y2=int(input(\"Enter second y coordinate: \"))\n",
        "man_dist=abs((x2-x1)+(y2-y1))\n",
        "euc_dist=math.sqrt((pow((x2-x1),2))+(pow((y2-y1),2)))\n",
        "print(\"The manhattan distance is:\",man_dist,\"\\nThe euclidean distance is:\",euc_dist)"
      ],
      "metadata": {
        "id": "-7pc-srBMlyq"
      },
      "execution_count": null,
      "outputs": []
    },
    {
      "cell_type": "code",
      "source": [
        "#experiment 3\n",
        "x=input(\"Enter a number: \")\n",
        "for i in x:\n",
        "  if not(48<=ord(i)<=57):\n",
        "    a=False\n",
        "    break\n",
        "  else:\n",
        "    a=True\n",
        "if a == True:\n",
        "  if int(x)%2==0:\n",
        "    print(\"Even number!\")\n",
        "  else:\n",
        "    print(\"Odd number!\")\n",
        "else:\n",
        "  print(\"Not a number!\")"
      ],
      "metadata": {
        "id": "z6nodJLoIuzB"
      },
      "execution_count": null,
      "outputs": []
    },
    {
      "cell_type": "code",
      "source": [
        "#Armstrong number\n",
        "n=int(input(\"Enter a number to check: \"))\n",
        "n1=n\n",
        "n2=n\n",
        "count=0\n",
        "sum=0\n",
        "while n1!=0:\n",
        "  n1//=10\n",
        "  count+=1\n",
        "while n2!=0:\n",
        "  b=n2%10\n",
        "  sum+=pow(b,count)\n",
        "  n2//=10\n",
        "if n==sum:\n",
        "  print(\"Armstrong number!\")\n",
        "else:\n",
        "  print(\"Not an armstrong number!\")"
      ],
      "metadata": {
        "id": "WMESJZdkI6oM"
      },
      "execution_count": null,
      "outputs": []
    },
    {
      "cell_type": "code",
      "source": [
        "x=input(\"Enter a number: \")\n",
        "a=False\n",
        "for i in x:\n",
        "  if not(48<=ord(i)<=57):\n",
        "    print(\"Not a number!\")\n",
        "    a=False\n",
        "    break\n",
        "  else:\n",
        "    a=True\n",
        "if a==True:\n",
        "  x=int(x)\n",
        "  n1=n2=x\n",
        "  sum=count=0\n",
        "  while n1!=0:\n",
        "    n1//=10\n",
        "    count+=1\n",
        "  while n2!=0:\n",
        "    b=n2%10\n",
        "    sum+=pow(b,count)\n",
        "    n2//=10\n",
        "  if x==sum:\n",
        "    print(\"Armstrong number!\")\n",
        "  else:\n",
        "    print(\"Not an armstrong number!\")"
      ],
      "metadata": {
        "id": "MMWnP-tZI8u0"
      },
      "execution_count": null,
      "outputs": []
    },
    {
      "cell_type": "code",
      "source": [
        "#experiment 4\n",
        "n=int(input(\"Enter a number: \"))\n",
        "while (n!=-1):\n",
        "  print(n)\n",
        "  n=n-1"
      ],
      "metadata": {
        "id": "K7nJ9d09JClq"
      },
      "execution_count": null,
      "outputs": []
    },
    {
      "cell_type": "code",
      "source": [
        "#experiment 5\n",
        "str=input(\"enter string : \")\n",
        "f={} \n",
        "for i in str: \n",
        "    if i in f: \n",
        "        f[i]+=1\n",
        "    else: \n",
        "        f[i]=1\n",
        "print(f)"
      ],
      "metadata": {
        "id": "WAiRA0B1JPma"
      },
      "execution_count": null,
      "outputs": []
    },
    {
      "cell_type": "code",
      "source": [
        "#experiment 6\n",
        "lst1=[67,6748.74,\"ghg\"]  #this is a list\n",
        "tpl1=(546.65,65,\"hfg\",'bye')  #this is a tuple\n",
        "for i in lst1:\n",
        "  print(i)\n",
        "for i in tpl1:\n",
        "  print(i)"
      ],
      "metadata": {
        "id": "3I2VvvkMJR0T"
      },
      "execution_count": null,
      "outputs": []
    },
    {
      "cell_type": "code",
      "source": [
        "#experiment 7\n",
        "st=input(\"Enter a string: \")\n",
        "for i in st: \n",
        "  print(i)\n",
        "for i in st[::-1]:\n",
        "  print(i)\n",
        "st2=st[::-1]\n",
        "print(st2)\n",
        "count=0\n",
        "ch=input(\"Enter letter to count: \")\n",
        "for i in st:\n",
        "  if i==ch:\n",
        "    count+=1\n",
        "print(\"{} appears {} times\".format(ch,count))"
      ],
      "metadata": {
        "id": "XV7SLnuUJVBC",
        "colab": {
          "base_uri": "https://localhost:8080/"
        },
        "outputId": "bf0b688c-e026-417b-ecdf-f0d92f0a6fd4"
      },
      "execution_count": null,
      "outputs": [
        {
          "output_type": "stream",
          "name": "stdout",
          "text": [
            "Enter a string: abc\n",
            "a\n",
            "b\n",
            "c\n",
            "c\n",
            "b\n",
            "a\n",
            "cba\n",
            "Enter letter to count: c\n",
            "c appears 1 times\n"
          ]
        }
      ]
    },
    {
      "cell_type": "code",
      "source": [
        "#experiment 8\n",
        "def mean(l):\n",
        "  return sum(l)/len(l)\n",
        "def median(l):\n",
        "  l.sort()\n",
        "  le=len(l)\n",
        "  if le%2==0:\n",
        "    return l[le//2-1],l[le//2]\n",
        "  return l[le//2]\n",
        "def mode(l):\n",
        "  count=0\n",
        "  el=None\n",
        "  for i in l:\n",
        "    if l.count(i)>count:\n",
        "      el=i\n",
        "      count=l.count(i)\n",
        "  return el\n",
        "def range_lst(l):\n",
        "  return max(l)-min(l)\n",
        "lst1=[1,424,32,46,34,5,345,3,46,546]\n",
        "print(mean(lst1))\n",
        "print(median(lst1))\n",
        "print(mode(lst1))\n",
        "print(range_lst(lst1))"
      ],
      "metadata": {
        "id": "MWpkQ7SxJXAz",
        "colab": {
          "base_uri": "https://localhost:8080/"
        },
        "outputId": "5ac5ff1c-9485-4880-bf42-c1949e3b02b9"
      },
      "execution_count": null,
      "outputs": [
        {
          "output_type": "stream",
          "name": "stdout",
          "text": [
            "148.2\n",
            "(34, 46)\n",
            "46\n",
            "545\n"
          ]
        }
      ]
    },
    {
      "cell_type": "code",
      "source": [
        "#experiment 9\n",
        "def passdict(dct):\n",
        "  uname=input(\"Enter your username: \")\n",
        "  if uname in dct:\n",
        "    pwd=input(\"Enter your password: \")\n",
        "    if dct[uname]==pwd:\n",
        "      return \"You are now logged into the system.\"\n",
        "    return \"Invalid password.\"\n",
        "  return \"Invalid username.\"    "
      ],
      "metadata": {
        "id": "ctdX2fupeqKh"
      },
      "execution_count": null,
      "outputs": []
    },
    {
      "cell_type": "code",
      "source": [
        "#experiment 10\n",
        "def tptoint(tple):\n",
        "  return int(\"\".join(map(str,tple)))\n",
        "tpl=(1,3,4,56,56,4,33,5,34)\n",
        "print(tptoint(tpl))"
      ],
      "metadata": {
        "id": "Ttd0wnqAzJJN",
        "colab": {
          "base_uri": "https://localhost:8080/"
        },
        "outputId": "9cfef28a-f4fd-420b-c3f1-0d8c7046214d"
      },
      "execution_count": null,
      "outputs": [
        {
          "output_type": "stream",
          "name": "stdout",
          "text": [
            "1345656433534\n"
          ]
        }
      ]
    },
    {
      "cell_type": "code",
      "source": [
        "#experiment 11\n",
        "sortlst=lambda lst: sorted(lst,key=lambda x:x[1])\n",
        "print(sortlst([('Discrete Mathematics', 93), ('Python Programming', 95), ('Environmental Science', 88), ('Engineering Physics', 83)]))"
      ],
      "metadata": {
        "colab": {
          "base_uri": "https://localhost:8080/"
        },
        "id": "_hWQ4ez2znow",
        "outputId": "c74796ff-45aa-4abf-936d-1e482c9e08db"
      },
      "execution_count": null,
      "outputs": [
        {
          "output_type": "stream",
          "name": "stdout",
          "text": [
            "[('Engineering Physics', 83), ('Environmental Science', 88), ('Discrete Mathematics', 93), ('Python Programming', 95)]\n"
          ]
        }
      ]
    },
    {
      "cell_type": "code",
      "source": [
        "#experiment 12\n",
        "def toplatin(lst):\n",
        "  lst=list(lst)\n",
        "  for k in range(len(lst)):\n",
        "    if lst[k][0] in 'aeiou':\n",
        "      lst[k]=lst[k]+'yay'\n",
        "    elif set(lst[k]).isdisjoint(set(\"aeiou\")):\n",
        "      lst[k]=lst[k][-1]+lst[k][:-1]+'ay'\n",
        "    else:\n",
        "      has_vowel=False\n",
        "      for j,letter in enumerate(lst[k]):\n",
        "        if letter in 'aeiou':\n",
        "          lst[k]=lst[k][j:]+lst[k][:j]+'ay'\n",
        "          has_vowel=True\n",
        "          break\n",
        "  return tuple(lst)\n",
        "def fromplatin(lst):\n",
        "  lst=list(lst)\n",
        "  for i in range(len(lst)):\n",
        "    if lst[i][-3:]==\"yay\":\n",
        "      lst[i]=lst[i][:-3]\n",
        "    else:\n",
        "      lst[i]=lst[i][:-2]\n",
        "  return tuple(lst)\n",
        "print(toplatin((\"the\", \"quick\",\"brown\", \"fox\")))\n",
        "print(fromplatin(('fthyay', 'kquicay', 'nbroway', 'xfoay')))"
      ],
      "metadata": {
        "colab": {
          "base_uri": "https://localhost:8080/"
        },
        "id": "n8PjILMB1yLn",
        "outputId": "62899166-9c3d-4484-d6df-def36c575756"
      },
      "execution_count": null,
      "outputs": [
        {
          "output_type": "stream",
          "name": "stdout",
          "text": [
            "('ethay', 'uickqay', 'ownbray', 'oxfay')\n",
            "('fth', 'kquic', 'nbrow', 'xfo')\n"
          ]
        }
      ]
    },
    {
      "cell_type": "code",
      "source": [
        "#experiment 13\n",
        "def fibonacci(n):\n",
        "  if n<=1:\n",
        "    return n  \n",
        "  return (fibonacci(n-1)+fibonacci(n-2))\n",
        "print(fibonacci(7))"
      ],
      "metadata": {
        "id": "P5LedkY_5yd9",
        "colab": {
          "base_uri": "https://localhost:8080/"
        },
        "outputId": "8b0b4dc6-e2b7-4ef9-aff1-72540dc58ea8"
      },
      "execution_count": null,
      "outputs": [
        {
          "output_type": "stream",
          "name": "stdout",
          "text": [
            "13\n"
          ]
        }
      ]
    },
    {
      "cell_type": "code",
      "source": [
        "#experiment 14\n",
        "def linearSearch(lst,item):\n",
        "  for i in range(len(lst)):\n",
        "    if lst[i]==item:\n",
        "      return f\"The element {item} is at index {i}\"    #returns index of item\n",
        "  return -1    #if item is not in the list\n",
        "def binarySearch(lst,item):\n",
        "  lst.sort()\n",
        "  print(\"The sorted list is:\",lst)\n",
        "  low,high=0,len(lst)-1\n",
        "  while low<=high:\n",
        "    mid=(low+high)//2\n",
        "    mid_element=lst[mid]\n",
        "    if mid_element==item:\n",
        "      return f\"The element {item} is at index {mid}\"    #return index of middle element\n",
        "    if mid_element<item:\n",
        "      low=mid+1    #discarding the right part of the list because item is greater than middle element\n",
        "    elif mid_element>item:\n",
        "      high=mid-1    #discarding the left part of the list becasue item is smaller then middle element\n",
        "    return -1\n",
        "ls=[]\n",
        "n=int(input(\"Enter the number of elements: \"))\n",
        "print(\"Enter the elements: \")\n",
        "for i in range(n):\n",
        "  ls.append(int(input()))\n",
        "print(\"Your list is: \",ls)\n",
        "it=int(input(\"Enter item to search: \"))\n",
        "ch=int(input(\"Enter 0 for linear search and 1 for binary search: \"))\n",
        "if ch==0:\n",
        "  print(linearSearch(ls,it))\n",
        "else:\n",
        "  print(binarySearch(ls,it))\n"
      ],
      "metadata": {
        "id": "qXbI4OVOs7Vs",
        "colab": {
          "base_uri": "https://localhost:8080/"
        },
        "outputId": "fc85e1ba-ee88-4ffd-baa1-bb61ec495b47"
      },
      "execution_count": 6,
      "outputs": [
        {
          "output_type": "stream",
          "name": "stdout",
          "text": [
            "Enter the number of elements: 4\n",
            "Enter the elements: \n",
            "3\n",
            "6\n",
            "2\n",
            "8\n",
            "Your list is:  [3, 6, 2, 8]\n",
            "Enter item to search: 8\n",
            "Enter 0 for linear search and 1 for binary search: 1\n",
            "The sorted list is: [2, 3, 6, 8]\n",
            "-1\n"
          ]
        }
      ]
    },
    {
      "cell_type": "code",
      "source": [
        "7#experiment 15\n",
        "#merge sort\n",
        "def mergeSort(arr):\n",
        "    if len(arr) > 1:\n",
        "        mid = len(arr) // 2\n",
        "        L = arr[:mid]\n",
        "        R = arr[mid:]\n",
        "        mergeSort(L)\n",
        "        mergeSort(R)\n",
        "        i = j = k = 0\n",
        "\n",
        "        while i < len(L) and j < len(R):\n",
        "            if L[i] < R[j]:\n",
        "                arr[k] = L[i]\n",
        "                i += 1\n",
        "            else:\n",
        "                arr[k] = R[j]\n",
        "                j += 1\n",
        "            k += 1\n",
        "\n",
        "        while i < len(L):\n",
        "            arr[k] = L[i]\n",
        "            i += 1\n",
        "            k += 1\n",
        "\n",
        "        while j < len(R):\n",
        "            arr[k] = R[j]\n",
        "            j += 1\n",
        "            k += 1\n",
        "    return arr\n",
        "#selection sort\n",
        "def selectionSort(arr):\n",
        "    for i in range(len(arr)):\n",
        "        min_idx = i\n",
        "        for j in range(i + 1, len(arr)):\n",
        "            if arr[min_idx] > arr[j]:\n",
        "                min_idx = j\n",
        "        arr[i], arr[min_idx] = arr[min_idx], arr[i]\n",
        "    return arr\n",
        "#insertion sort\n",
        "def insertionSort(arr):\n",
        "    for step in range(1, len(arr)):\n",
        "        key = arr[step]\n",
        "        j = step - 1\n",
        "        while j >= 0 and key < arr[j]:\n",
        "            arr[j + 1] = arr[j]\n",
        "            j = j - 1\n",
        "        arr[j + 1] = key\n",
        "    return arr\n",
        "lst=[124,2353,45,457,67,45,6]\n",
        "print(mergeSort(lst))\n",
        "print(selectionSort(lst))\n",
        "print(insertionSort(lst))"
      ],
      "metadata": {
        "id": "sedxIMBuJq0G",
        "colab": {
          "base_uri": "https://localhost:8080/"
        },
        "outputId": "f05a5523-b8b8-4655-e05d-6d6185877403"
      },
      "execution_count": 7,
      "outputs": [
        {
          "output_type": "stream",
          "name": "stdout",
          "text": [
            "[6, 45, 45, 67, 124, 457, 2353]\n",
            "[6, 45, 45, 67, 124, 457, 2353]\n",
            "[6, 45, 45, 67, 124, 457, 2353]\n"
          ]
        }
      ]
    },
    {
      "cell_type": "code",
      "source": [
        ""
      ],
      "metadata": {
        "id": "TSUWCdbL9au5"
      },
      "execution_count": null,
      "outputs": []
    }
  ]
}