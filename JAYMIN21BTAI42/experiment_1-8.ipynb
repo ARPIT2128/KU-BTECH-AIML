{
  "nbformat": 4,
  "nbformat_minor": 0,
  "metadata": {
    "colab": {
      "name": "experiment_1-8.ipynb",
      "provenance": [],
      "collapsed_sections": [],
      "authorship_tag": "ABX9TyPLsv+9dae9K4QKI+2YZIBW",
      "include_colab_link": true
    },
    "kernelspec": {
      "name": "python3",
      "display_name": "Python 3"
    },
    "language_info": {
      "name": "python"
    }
  },
  "cells": [
    {
      "cell_type": "markdown",
      "metadata": {
        "id": "view-in-github",
        "colab_type": "text"
      },
      "source": [
        "<a href=\"https://colab.research.google.com/github/ARPIT2128/KU-BTECH-AIML/blob/main/JAYMIN21BTAI42/experiment_1-8.ipynb\" target=\"_parent\"><img src=\"https://colab.research.google.com/assets/colab-badge.svg\" alt=\"Open In Colab\"/></a>"
      ]
    },
    {
      "cell_type": "code",
      "execution_count": null,
      "metadata": {
        "colab": {
          "base_uri": "https://localhost:8080/"
        },
        "id": "DZHK-X4UJN0M",
        "outputId": "be3207cd-21a9-40a7-e9e0-0e713872ce1a"
      },
      "outputs": [
        {
          "output_type": "stream",
          "name": "stdout",
          "text": [
            "This is Python!!!\n"
          ]
        }
      ],
      "source": [
        "#experiment 1\n",
        "print('This is Python!!!')"
      ]
    },
    {
      "cell_type": "code",
      "source": [
        "var1=14\n",
        "print(var1)"
      ],
      "metadata": {
        "colab": {
          "base_uri": "https://localhost:8080/"
        },
        "id": "7-33X64iJqk3",
        "outputId": "553b8b1e-e5cc-4d91-9344-ba63ae41858e"
      },
      "execution_count": null,
      "outputs": [
        {
          "output_type": "stream",
          "name": "stdout",
          "text": [
            "14\n"
          ]
        }
      ]
    },
    {
      "cell_type": "code",
      "source": [
        "a=10\n",
        "print(type(a))"
      ],
      "metadata": {
        "colab": {
          "base_uri": "https://localhost:8080/"
        },
        "id": "9I5kTt8OJx6g",
        "outputId": "a463b245-94a1-4828-cee9-ae6c8de85b98"
      },
      "execution_count": null,
      "outputs": [
        {
          "output_type": "stream",
          "name": "stdout",
          "text": [
            "<class 'int'>\n"
          ]
        }
      ]
    },
    {
      "cell_type": "code",
      "source": [
        "a='HI'\n",
        "print(type(a))"
      ],
      "metadata": {
        "colab": {
          "base_uri": "https://localhost:8080/"
        },
        "id": "CtDqKIfDJ2j2",
        "outputId": "b8d539b4-533f-4b8b-edcf-e07dffb9090f"
      },
      "execution_count": null,
      "outputs": [
        {
          "output_type": "stream",
          "name": "stdout",
          "text": [
            "<class 'str'>\n"
          ]
        }
      ]
    },
    {
      "cell_type": "code",
      "source": [
        "a=12.5\n",
        "print(type(a))"
      ],
      "metadata": {
        "colab": {
          "base_uri": "https://localhost:8080/"
        },
        "id": "eYtdPWkOKGos",
        "outputId": "45663269-8ba5-4cae-cb19-db7dfa14734e"
      },
      "execution_count": null,
      "outputs": [
        {
          "output_type": "stream",
          "name": "stdout",
          "text": [
            "<class 'float'>\n"
          ]
        }
      ]
    },
    {
      "cell_type": "code",
      "source": [
        "a=1+2j\n",
        "print(type(a))"
      ],
      "metadata": {
        "colab": {
          "base_uri": "https://localhost:8080/"
        },
        "id": "NL7LOwpvKNLb",
        "outputId": "ddba1329-f34c-4d92-8de4-f19baa17502d"
      },
      "execution_count": null,
      "outputs": [
        {
          "output_type": "stream",
          "name": "stdout",
          "text": [
            "<class 'complex'>\n"
          ]
        }
      ]
    },
    {
      "cell_type": "code",
      "source": [
        "a=True\n",
        "print(type(a))"
      ],
      "metadata": {
        "colab": {
          "base_uri": "https://localhost:8080/"
        },
        "id": "d5_Rj-LhKQ9K",
        "outputId": "ec37439e-1293-4635-c34d-08e1207ae314"
      },
      "execution_count": null,
      "outputs": [
        {
          "output_type": "stream",
          "name": "stdout",
          "text": [
            "<class 'bool'>\n"
          ]
        }
      ]
    },
    {
      "cell_type": "code",
      "source": [
        "print(9/4)\n",
        "print(9//4)\n",
        "print(9*4)\n",
        "print(9**4)\n",
        "print(9+4)\n",
        "print(9-5)\n",
        "print(9%4)"
      ],
      "metadata": {
        "colab": {
          "base_uri": "https://localhost:8080/"
        },
        "id": "xTRKwfhuKTxC",
        "outputId": "57257edc-89fc-49fe-cbf6-b7cfaf4833cb"
      },
      "execution_count": null,
      "outputs": [
        {
          "output_type": "stream",
          "name": "stdout",
          "text": [
            "2.25\n",
            "2\n",
            "36\n",
            "6561\n",
            "13\n",
            "4\n",
            "1\n"
          ]
        }
      ]
    },
    {
      "cell_type": "code",
      "source": [
        "a=10\n",
        "b=20\n",
        "print(a,b)"
      ],
      "metadata": {
        "colab": {
          "base_uri": "https://localhost:8080/"
        },
        "id": "uQdWZE6VKXQ9",
        "outputId": "d0acb941-f01a-46a8-f0ae-43141984c338"
      },
      "execution_count": null,
      "outputs": [
        {
          "output_type": "stream",
          "name": "stdout",
          "text": [
            "10 20\n"
          ]
        }
      ]
    },
    {
      "cell_type": "code",
      "source": [
        "print(a>b)\n",
        "print(a==b)\n",
        "x,y=5,5\n",
        "print(x==y)\n",
        "print(x!=y)\n"
      ],
      "metadata": {
        "colab": {
          "base_uri": "https://localhost:8080/"
        },
        "id": "r1BdkVuTKvZJ",
        "outputId": "1da2533a-6775-4ad5-805f-35480f447257"
      },
      "execution_count": null,
      "outputs": [
        {
          "output_type": "stream",
          "name": "stdout",
          "text": [
            "False\n",
            "False\n",
            "True\n",
            "False\n"
          ]
        }
      ]
    },
    {
      "cell_type": "code",
      "source": [
        "a=True\n",
        "b=False\n",
        "print(a|b)\n",
        "print(a&b)\n",
        "print(a or b)\n",
        "print(a and b)"
      ],
      "metadata": {
        "colab": {
          "base_uri": "https://localhost:8080/"
        },
        "id": "Drez9R9dLO1Z",
        "outputId": "dd1cb579-d378-420d-883d-2621c40a673b"
      },
      "execution_count": null,
      "outputs": [
        {
          "output_type": "stream",
          "name": "stdout",
          "text": [
            "True\n",
            "False\n",
            "True\n",
            "False\n"
          ]
        }
      ]
    },
    {
      "cell_type": "code",
      "source": [
        "my_string=\"My name is Jaymin\"\n",
        "print(my_string)\n",
        "print(type(my_string))"
      ],
      "metadata": {
        "colab": {
          "base_uri": "https://localhost:8080/"
        },
        "id": "5zgv1Ub_LYuk",
        "outputId": "3f4f345b-67ab-4a11-b849-4d86dea89599"
      },
      "execution_count": null,
      "outputs": [
        {
          "output_type": "stream",
          "name": "stdout",
          "text": [
            "My name is Jaymin\n",
            "<class 'str'>\n"
          ]
        }
      ]
    },
    {
      "cell_type": "code",
      "source": [
        "print(my_string[-2])"
      ],
      "metadata": {
        "colab": {
          "base_uri": "https://localhost:8080/"
        },
        "id": "uN7B9DbRL5iZ",
        "outputId": "2d42f947-bcd4-4ee9-bc32-eb631462d9c7"
      },
      "execution_count": null,
      "outputs": [
        {
          "output_type": "stream",
          "name": "stdout",
          "text": [
            "i\n"
          ]
        }
      ]
    },
    {
      "cell_type": "code",
      "source": [
        "string=\"Hello\"\n",
        "print(len(string))\n",
        "print(string.lower())\n",
        "print(string.upper())\n",
        "string='heya'\n",
        "print(string.replace('y','a'))\n",
        "string='hello ladies hello gentlemen hello everyone'\n",
        "print(string.count(\"hello\"))\n",
        "string=\"hi how are you?\"\n",
        "print(string.find(\"are\"))"
      ],
      "metadata": {
        "colab": {
          "base_uri": "https://localhost:8080/"
        },
        "id": "g56mC_-eMbsM",
        "outputId": "2360f85f-88fe-49c8-a820-da35f9c9f6c9"
      },
      "execution_count": null,
      "outputs": [
        {
          "output_type": "stream",
          "name": "stdout",
          "text": [
            "5\n",
            "hello\n",
            "HELLO\n",
            "heaa\n",
            "3\n",
            "7\n"
          ]
        }
      ]
    },
    {
      "cell_type": "code",
      "source": [
        "#experiment 2\n",
        "import math\n",
        "x1=int(input(\"Enter first x coordinate: \"))\n",
        "x2=int(input(\"Enter second x coordinate: \"))\n",
        "y1=int(input(\"Enter first y coordinate: \"))\n",
        "y2=int(input(\"Enter second y coordinate: \"))\n",
        "man_dist=abs((x2-x1)+(y2-y1))\n",
        "euc_dist=math.sqrt((pow((x2-x1),2))+(pow((y2-y1),2)))\n",
        "print(\"The manhattan distance is:\",man_dist,\"\\nThe euclidean distance is:\",euc_dist)"
      ],
      "metadata": {
        "id": "-7pc-srBMlyq"
      },
      "execution_count": null,
      "outputs": []
    },
    {
      "cell_type": "code",
      "source": [
        "#experiment 3\n",
        "x=input(\"Enter a number: \")\n",
        "for i in x:\n",
        "  if not(48<=ord(i)<=57):\n",
        "    a=False\n",
        "    break\n",
        "  else:\n",
        "    a=True\n",
        "if a == True:\n",
        "  if int(x)%2==0:\n",
        "    print(\"Even number!\")\n",
        "  else:\n",
        "    print(\"Odd number!\")\n",
        "else:\n",
        "  print(\"Not a number!\")"
      ],
      "metadata": {
        "id": "z6nodJLoIuzB"
      },
      "execution_count": null,
      "outputs": []
    },
    {
      "cell_type": "code",
      "source": [
        "#Armstrong number\n",
        "n=int(input(\"Enter a number to check: \"))\n",
        "n1=n\n",
        "n2=n\n",
        "count=0\n",
        "sum=0\n",
        "while n1!=0:\n",
        "  n1//=10\n",
        "  count+=1\n",
        "while n2!=0:\n",
        "  b=n2%10\n",
        "  sum+=pow(b,count)\n",
        "  n2//=10\n",
        "if n==sum:\n",
        "  print(\"Armstrong number!\")\n",
        "else:\n",
        "  print(\"Not an armstrong number!\")"
      ],
      "metadata": {
        "id": "WMESJZdkI6oM"
      },
      "execution_count": null,
      "outputs": []
    },
    {
      "cell_type": "code",
      "source": [
        "x=input(\"Enter a number: \")\n",
        "a=False\n",
        "for i in x:\n",
        "  if not(48<=ord(i)<=57):\n",
        "    print(\"Not a number!\")\n",
        "    a=False\n",
        "    break\n",
        "  else:\n",
        "    a=True\n",
        "if a==True:\n",
        "  x=int(x)\n",
        "  n1=n2=x\n",
        "  sum=count=0\n",
        "  while n1!=0:\n",
        "    n1//=10\n",
        "    count+=1\n",
        "  while n2!=0:\n",
        "    b=n2%10\n",
        "    sum+=pow(b,count)\n",
        "    n2//=10\n",
        "  if x==sum:\n",
        "    print(\"Armstrong number!\")\n",
        "  else:\n",
        "    print(\"Not an armstrong number!\")"
      ],
      "metadata": {
        "id": "MMWnP-tZI8u0"
      },
      "execution_count": null,
      "outputs": []
    },
    {
      "cell_type": "code",
      "source": [
        "#experiment 4\n",
        "n=int(input(\"Enter a number: \"))\n",
        "while (n!=-1):\n",
        "  print(n)\n",
        "  n=n-1"
      ],
      "metadata": {
        "id": "K7nJ9d09JClq"
      },
      "execution_count": null,
      "outputs": []
    },
    {
      "cell_type": "code",
      "source": [
        "#experiment5\n",
        "str=input(\"enter string : \")\n",
        "f={} \n",
        "for i in str: \n",
        "    if i in f: \n",
        "        f[i]+=1\n",
        "    else: \n",
        "        f[i]=1\n",
        "print(f)"
      ],
      "metadata": {
        "id": "WAiRA0B1JPma"
      },
      "execution_count": null,
      "outputs": []
    },
    {
      "cell_type": "code",
      "source": [
        "#experiment 6\n",
        "lst1=[67,6748.74,\"ghg\"]  #this is a list\n",
        "tpl1=(546.65,65,\"hfg\",'bye')  #this is a tuple\n",
        "for i in lst1:\n",
        "  print(i)\n",
        "for i in tpl1:\n",
        "  print(i)"
      ],
      "metadata": {
        "id": "3I2VvvkMJR0T"
      },
      "execution_count": null,
      "outputs": []
    },
    {
      "cell_type": "code",
      "source": [
        "#experiment 7a\n",
        "import sympy\n",
        "sum=0\n",
        "for i in range(0,2000001):\n",
        "  if (sympy.isprime(i))==True:\n",
        "    sum+=i\n",
        "print(sum)\n",
        "#experiment 7b\n",
        "def fibonacci():\n",
        "  sequence=[1,2]\n",
        "  total=0\n",
        "  while sequence[-1]<4000000:\n",
        "    if sequence[-1]%2==0:\n",
        "      total+=sequence[-1]\n",
        "    sequence.append(sequence[-1]+sequence[-2])\n",
        "  print(total)\n",
        "fibonacci()"
      ],
      "metadata": {
        "id": "XV7SLnuUJVBC"
      },
      "execution_count": null,
      "outputs": []
    },
    {
      "cell_type": "code",
      "source": [
        "#experiment 8\n",
        "def dup(lst):\n",
        "  lst1=[]\n",
        "  for i in lst:\n",
        "    if i in lst1:\n",
        "      \n",
        "\n"
      ],
      "metadata": {
        "id": "MWpkQ7SxJXAz"
      },
      "execution_count": null,
      "outputs": []
    }
  ]
}