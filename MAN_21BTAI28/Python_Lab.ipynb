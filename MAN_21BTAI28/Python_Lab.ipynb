{
  "nbformat": 4,
  "nbformat_minor": 0,
  "metadata": {
    "colab": {
      "name": "Python Lab.ipynb",
      "provenance": [],
      "authorship_tag": "ABX9TyNKFKDAtxj/QSp/aRRn5lry",
      "include_colab_link": true
    },
    "kernelspec": {
      "name": "python3",
      "display_name": "Python 3"
    },
    "language_info": {
      "name": "python"
    }
  },
  "cells": [
    {
      "cell_type": "markdown",
      "metadata": {
        "id": "view-in-github",
        "colab_type": "text"
      },
      "source": [
        "<a href=\"https://colab.research.google.com/github/ARPIT2128/KU-BTECH-AIML/blob/main/MAN_21BTAI28/Python_Lab.ipynb\" target=\"_parent\"><img src=\"https://colab.research.google.com/assets/colab-badge.svg\" alt=\"Open In Colab\"/></a>"
      ]
    },
    {
      "cell_type": "markdown",
      "source": [
        "####EXPERIMENT 1####"
      ],
      "metadata": {
        "id": "jxlqxhGy9GQf"
      }
    },
    {
      "cell_type": "code",
      "execution_count": null,
      "metadata": {
        "colab": {
          "base_uri": "https://localhost:8080/"
        },
        "id": "RGzdP0OL89VS",
        "outputId": "8ff18194-c6e3-462d-a870-e715154164ab"
      },
      "outputs": [
        {
          "output_type": "stream",
          "name": "stdout",
          "text": [
            "enter the value of a:7\n",
            "7\n"
          ]
        },
        {
          "output_type": "execute_result",
          "data": {
            "text/plain": [
              "int"
            ]
          },
          "metadata": {},
          "execution_count": 1
        }
      ],
      "source": [
        "a=int(input(\"enter the value of a:\"))\n",
        "print(a)\n",
        "type(a)"
      ]
    },
    {
      "cell_type": "code",
      "source": [
        "b=input(\"enter the string:\")\n",
        "print(b)\n",
        "type(b)"
      ],
      "metadata": {
        "colab": {
          "base_uri": "https://localhost:8080/"
        },
        "id": "0dLabhxp9VXy",
        "outputId": "24a0de16-1579-441c-8e03-05fb7f2a1452"
      },
      "execution_count": null,
      "outputs": [
        {
          "output_type": "stream",
          "name": "stdout",
          "text": [
            "enter the string:man\n",
            "man\n"
          ]
        },
        {
          "output_type": "execute_result",
          "data": {
            "text/plain": [
              "str"
            ]
          },
          "metadata": {},
          "execution_count": 2
        }
      ]
    },
    {
      "cell_type": "code",
      "source": [
        "c=float(input(\"enter the float value:\"))\n",
        "print(c)\n",
        "type(c)"
      ],
      "metadata": {
        "colab": {
          "base_uri": "https://localhost:8080/"
        },
        "id": "Og38K3dj9YAs",
        "outputId": "82d2c266-5848-4714-c737-d26e7965168e"
      },
      "execution_count": null,
      "outputs": [
        {
          "output_type": "stream",
          "name": "stdout",
          "text": [
            "enter the float value:44.7\n",
            "44.7\n"
          ]
        },
        {
          "output_type": "execute_result",
          "data": {
            "text/plain": [
              "float"
            ]
          },
          "metadata": {},
          "execution_count": 3
        }
      ]
    },
    {
      "cell_type": "markdown",
      "source": [
        "####EXPEIMENT 2####\n"
      ],
      "metadata": {
        "id": "rrAg719v9j8j"
      }
    },
    {
      "cell_type": "code",
      "source": [
        "import math\n",
        "x1=int(input(\"enter the value of x1:\"))\n",
        "x2=int(input(\"enter the value of x2:\"))\n",
        "y1=int(input(\"enter the value of y1:\"))\n",
        "y2=int(input(\"enter the value of y2:\"))\n",
        "d=math.sqrt((x2-x1)**2+(y2-y1)**2)\n",
        "print('The distance between two points is:',d)"
      ],
      "metadata": {
        "colab": {
          "base_uri": "https://localhost:8080/"
        },
        "id": "5qyQMsQj9diM",
        "outputId": "4bc043df-1136-4d44-812c-1d9e51df5cd2"
      },
      "execution_count": null,
      "outputs": [
        {
          "output_type": "stream",
          "name": "stdout",
          "text": [
            "enter the value of x1:4\n",
            "enter the value of x2:5\n",
            "enter the value of y1:6\n",
            "enter the value of y2:7\n",
            "The distance between two points is: 1.4142135623730951\n"
          ]
        }
      ]
    },
    {
      "cell_type": "markdown",
      "source": [
        "####EXPEIMENT 3(A)####"
      ],
      "metadata": {
        "id": "38voZtCf9y64"
      }
    },
    {
      "cell_type": "code",
      "source": [
        "x=int(input(\"Enter a number:\"))\n",
        "if x%2==0:\n",
        "  print('x is an even number')\n",
        "else :\n",
        "  print('x is an odd number')"
      ],
      "metadata": {
        "colab": {
          "base_uri": "https://localhost:8080/"
        },
        "id": "L3L3juPk9vxR",
        "outputId": "95e7a7f5-5cc7-4f10-b52c-d24918d5e82f"
      },
      "execution_count": null,
      "outputs": [
        {
          "output_type": "stream",
          "name": "stdout",
          "text": [
            "Enter a number:4\n",
            "x is an even number\n"
          ]
        }
      ]
    },
    {
      "cell_type": "markdown",
      "source": [
        "####EXPERIMENT 3(B)####"
      ],
      "metadata": {
        "id": "xl2M9R9j9-Je"
      }
    },
    {
      "cell_type": "code",
      "source": [
        "num=int(input(\"enter the number:\"))\n",
        "sum=0\n",
        "temp=num\n",
        "while temp>0:\n",
        "    digit=temp%10\n",
        "    sum+=digit**3\n",
        "    temp//=10\n",
        "if num==sum:\n",
        "      print(num,\"is an armstrong number\")\n",
        "else:\n",
        "  print(num,\"is a not armstrong number\")"
      ],
      "metadata": {
        "colab": {
          "base_uri": "https://localhost:8080/"
        },
        "id": "aHT8Ar8H93vY",
        "outputId": "c1170222-0998-4dbe-9836-6f51d25ef8f5"
      },
      "execution_count": null,
      "outputs": [
        {
          "output_type": "stream",
          "name": "stdout",
          "text": [
            "enter the number:153\n",
            "153 is an armstrong number\n"
          ]
        }
      ]
    },
    {
      "cell_type": "markdown",
      "source": [
        "####EXPERIMENT 4####"
      ],
      "metadata": {
        "id": "WNW_oQ_R-RDN"
      }
    },
    {
      "cell_type": "code",
      "source": [
        "x=int(input(\"Enter the number :\"))\n",
        "while x >=0:\n",
        "  print(x)\n",
        "  x=x-1"
      ],
      "metadata": {
        "colab": {
          "base_uri": "https://localhost:8080/"
        },
        "id": "xRJJxR2L-B9k",
        "outputId": "031da17f-18ab-44c5-d144-cf6a73913779"
      },
      "execution_count": null,
      "outputs": [
        {
          "output_type": "stream",
          "name": "stdout",
          "text": [
            "Enter the number :5\n",
            "5\n",
            "4\n",
            "3\n",
            "2\n",
            "1\n",
            "0\n"
          ]
        }
      ]
    },
    {
      "cell_type": "markdown",
      "source": [
        "####EXPERIMENT 5####"
      ],
      "metadata": {
        "id": "0TSjSIRX-Y4A"
      }
    },
    {
      "cell_type": "code",
      "source": [
        "y=input(\"Enter the string:\")\n",
        "f={}\n",
        "for i in y:\n",
        "  if i in f:\n",
        "    f[i]+=1\n",
        "  else :\n",
        "    f[i]=1\n",
        "print(f)"
      ],
      "metadata": {
        "colab": {
          "base_uri": "https://localhost:8080/"
        },
        "id": "wsqijjiT-VTS",
        "outputId": "6617db95-7122-4452-b1a1-0ce99c9716e1"
      },
      "execution_count": null,
      "outputs": [
        {
          "output_type": "stream",
          "name": "stdout",
          "text": [
            "Enter the string:hello world\n",
            "{'h': 1, 'e': 1, 'l': 3, 'o': 2, ' ': 1, 'w': 1, 'r': 1, 'd': 1}\n"
          ]
        }
      ]
    },
    {
      "cell_type": "markdown",
      "source": [
        "####EXPERIMENT 6####"
      ],
      "metadata": {
        "id": "5HxA_f_W-iOD"
      }
    },
    {
      "cell_type": "code",
      "source": [
        "my_lists=[\"Man\",\"patel\",\"hello\"]\n",
        "print(my_lists)\n"
      ],
      "metadata": {
        "colab": {
          "base_uri": "https://localhost:8080/"
        },
        "id": "8aEhipE4-co6",
        "outputId": "799d1c28-e680-473d-fa56-5d08be201147"
      },
      "execution_count": null,
      "outputs": [
        {
          "output_type": "stream",
          "name": "stdout",
          "text": [
            "['Man', 'patel', 'hello']\n"
          ]
        }
      ]
    },
    {
      "cell_type": "code",
      "source": [
        "my_tuple=(\"Man\",\"patel\",\"hello\")\n",
        "print(my_tuple)"
      ],
      "metadata": {
        "colab": {
          "base_uri": "https://localhost:8080/"
        },
        "id": "ArNHIZmq-pIc",
        "outputId": "b7d1a847-4f88-4f90-a8d7-fb58ff4f2bcc"
      },
      "execution_count": null,
      "outputs": [
        {
          "output_type": "stream",
          "name": "stdout",
          "text": [
            "('Man', 'patel', 'hello')\n"
          ]
        }
      ]
    },
    {
      "cell_type": "code",
      "source": [
        "for i in my_lists:\n",
        "  print(i)\n",
        "for i in my_tuple:\n",
        "  print(i)"
      ],
      "metadata": {
        "colab": {
          "base_uri": "https://localhost:8080/"
        },
        "id": "-uLWpKDP-rxk",
        "outputId": "539fc2a9-651d-4b36-8356-058663548c54"
      },
      "execution_count": null,
      "outputs": [
        {
          "output_type": "stream",
          "name": "stdout",
          "text": [
            "Man\n",
            "patel\n",
            "hello\n",
            "Man\n",
            "patel\n",
            "hello\n"
          ]
        }
      ]
    },
    {
      "cell_type": "markdown",
      "source": [
        "EXPERIMENT 7.1"
      ],
      "metadata": {
        "id": "Ra3Bd9tY6T4i"
      }
    },
    {
      "cell_type": "code",
      "source": [
        "str = input (\"Enter the Word :- \")\n",
        "if str [ : 2] == \"0!\":\n",
        "  for i in range (len(str)) :\n",
        "    print (str[i])\n",
        "else :\n",
        "  print (\"Please enter again \")\n",
        "#the string must contain 0! at first two index values ."
      ],
      "metadata": {
        "id": "GBygm-4a-vLT",
        "outputId": "aa41baaa-443c-4a0d-e6eb-3e707c7eef72",
        "colab": {
          "base_uri": "https://localhost:8080/"
        }
      },
      "execution_count": null,
      "outputs": [
        {
          "output_type": "stream",
          "name": "stdout",
          "text": [
            "Enter the Word :- 0!manpatel\n",
            "0\n",
            "!\n",
            "m\n",
            "a\n",
            "n\n",
            "p\n",
            "a\n",
            "t\n",
            "e\n",
            "l\n"
          ]
        }
      ]
    },
    {
      "cell_type": "markdown",
      "source": [
        "EXPERIMENT 7.2"
      ],
      "metadata": {
        "id": "O0Hp5VNF6e3S"
      }
    },
    {
      "cell_type": "code",
      "source": [
        "str = input (\"Enter the Word :- \")\n",
        "for i in range (-1, -len(str) - 1, -1) :\n",
        "  print (str[i])\n"
      ],
      "metadata": {
        "id": "6vI15Qbb6Zv-",
        "outputId": "12ead329-0c21-4792-8f16-6d4c349514cf",
        "colab": {
          "base_uri": "https://localhost:8080/"
        }
      },
      "execution_count": null,
      "outputs": [
        {
          "output_type": "stream",
          "name": "stdout",
          "text": [
            "Enter the Word :- man patel\n",
            "l\n",
            "e\n",
            "t\n",
            "a\n",
            "p\n",
            " \n",
            "n\n",
            "a\n",
            "m\n"
          ]
        }
      ]
    },
    {
      "cell_type": "markdown",
      "source": [
        "EXPERIMENT 7.3"
      ],
      "metadata": {
        "id": "zaEOi4TO6c_e"
      }
    },
    {
      "cell_type": "code",
      "source": [
        "\n",
        "s = input(\"Enter a new string :\")\n",
        "new = s[-1: :-1]\n",
        "print(new)\n"
      ],
      "metadata": {
        "id": "tvgG5h3e6z_B",
        "outputId": "9428238b-4e3d-4692-88b8-f53e8143c811",
        "colab": {
          "base_uri": "https://localhost:8080/"
        }
      },
      "execution_count": null,
      "outputs": [
        {
          "output_type": "stream",
          "name": "stdout",
          "text": [
            "Enter a new string :Man Patel\n",
            "letaP naM\n"
          ]
        }
      ]
    },
    {
      "cell_type": "markdown",
      "source": [
        "EXPERIMENT 7.4"
      ],
      "metadata": {
        "id": "iTkKl-7x7BSL"
      }
    },
    {
      "cell_type": "code",
      "source": [
        "s = input(\"Enter a string :\")\n",
        "letter = input(\"Enter a letter which you want to count .\")\n",
        "count = 0\n",
        "for i in s :\n",
        "  if i == letter :\n",
        "      count += 1\n",
        "print(count)"
      ],
      "metadata": {
        "id": "4zq05XKW66ZV",
        "outputId": "bf1325ac-039a-43e2-b126-966503cccb5f",
        "colab": {
          "base_uri": "https://localhost:8080/"
        }
      },
      "execution_count": null,
      "outputs": [
        {
          "output_type": "stream",
          "name": "stdout",
          "text": [
            "Enter a string :Man Patel\n",
            "Enter a letter which you want to count .a\n",
            "2\n"
          ]
        }
      ]
    },
    {
      "cell_type": "markdown",
      "source": [
        "#Experiment 8.1"
      ],
      "metadata": {
        "id": "YAEO8M_i7mIf"
      }
    },
    {
      "cell_type": "code",
      "source": [
        "n = [12,45,8,2,46]\n",
        "l = len(n)\n",
        "t= 0\n",
        "for i in range(l) :\n",
        "  t = t + n[i]\n",
        "print(\"Total is \",t)\n",
        "mean = t/l\n",
        "print(mean)"
      ],
      "metadata": {
        "id": "Fi4PQ3cT7NHK",
        "outputId": "96e403c3-62d4-4cb1-d275-b29c2e59c6cb",
        "colab": {
          "base_uri": "https://localhost:8080/"
        }
      },
      "execution_count": null,
      "outputs": [
        {
          "output_type": "stream",
          "name": "stdout",
          "text": [
            "Total is  113\n",
            "22.6\n"
          ]
        }
      ]
    },
    {
      "cell_type": "markdown",
      "source": [
        "Experiment 8.2"
      ],
      "metadata": {
        "id": "UcHvFgFK7wzs"
      }
    },
    {
      "cell_type": "code",
      "source": [
        "numb = [2, 4, 5, 8, 9]\n",
        "no = len(numb)\n",
        "numb.sort()\n",
        "if no % 2 == 0:\n",
        "  median1 = numb[no//2]\n",
        "  median2 = numb[no//2 - 1]\n",
        "  median = (median1 + median2)/2\n",
        "else:\n",
        "  median = numb[no//2]\n",
        "print(\"The median of the given numbers \", numb, \"is\",(median))"
      ],
      "metadata": {
        "id": "Vwpz9faz7s_x",
        "outputId": "8af1e573-bad7-4a5c-ba74-031aaa154201",
        "colab": {
          "base_uri": "https://localhost:8080/"
        }
      },
      "execution_count": null,
      "outputs": [
        {
          "output_type": "stream",
          "name": "stdout",
          "text": [
            "The median of the given numbers  [2, 4, 5, 8, 9] is 5\n"
          ]
        }
      ]
    },
    {
      "cell_type": "code",
      "source": [
        "d = {\"rushi\" : \"pandya\" , \"shyam\": \"satasiya\", \"man\" :\"patel\",\"dhruvil\" :\"rasadiya\"}\n",
        "username = input(\"Enter the username :\")\n",
        "if username in d:\n",
        "  password = input(\"Enter the password :\")\n",
        "  if d[username]== password :\n",
        "    print(\"You are logged in to system !\")\n",
        "  else :\n",
        "    print(\"You have entered wrong password . \")\n",
        "else :\n",
        "  print(\"The person is not valid to login .\")"
      ],
      "metadata": {
        "id": "ynax7SfW78f-",
        "outputId": "fd09b77d-7319-40e6-fe16-449dafb86db5",
        "colab": {
          "base_uri": "https://localhost:8080/"
        }
      },
      "execution_count": null,
      "outputs": [
        {
          "output_type": "stream",
          "name": "stdout",
          "text": [
            "Enter the username :man\n",
            "Enter the password :patel\n",
            "You are logged in to system !\n"
          ]
        }
      ]
    },
    {
      "cell_type": "markdown",
      "source": [
        "Experiment 10"
      ],
      "metadata": {
        "id": "sP3KQoXq9K6s"
      }
    },
    {
      "cell_type": "code",
      "source": [
        "t = (1, 2, 3)\n",
        "i = ''.join(map(str, t))\n",
        "print(i)\n"
      ],
      "metadata": {
        "id": "-s3T_ncd9IMy",
        "outputId": "314c063b-1c7c-49cf-d0fe-569f34fa301e",
        "colab": {
          "base_uri": "https://localhost:8080/",
          "height": 200
        }
      },
      "execution_count": null,
      "outputs": [
        {
          "output_type": "error",
          "ename": "TypeError",
          "evalue": "ignored",
          "traceback": [
            "\u001b[0;31m---------------------------------------------------------------------------\u001b[0m",
            "\u001b[0;31mTypeError\u001b[0m                                 Traceback (most recent call last)",
            "\u001b[0;32m<ipython-input-17-ae98a6a4f595>\u001b[0m in \u001b[0;36m<module>\u001b[0;34m()\u001b[0m\n\u001b[1;32m      1\u001b[0m \u001b[0mt\u001b[0m \u001b[0;34m=\u001b[0m \u001b[0;34m(\u001b[0m\u001b[0;36m1\u001b[0m\u001b[0;34m,\u001b[0m \u001b[0;36m2\u001b[0m\u001b[0;34m,\u001b[0m \u001b[0;36m3\u001b[0m\u001b[0;34m)\u001b[0m\u001b[0;34m\u001b[0m\u001b[0;34m\u001b[0m\u001b[0m\n\u001b[0;32m----> 2\u001b[0;31m \u001b[0mi\u001b[0m \u001b[0;34m=\u001b[0m \u001b[0;34m''\u001b[0m\u001b[0;34m.\u001b[0m\u001b[0mjoin\u001b[0m\u001b[0;34m(\u001b[0m\u001b[0mmap\u001b[0m\u001b[0;34m(\u001b[0m\u001b[0mstr\u001b[0m\u001b[0;34m,\u001b[0m \u001b[0mt\u001b[0m\u001b[0;34m)\u001b[0m\u001b[0;34m)\u001b[0m\u001b[0;34m\u001b[0m\u001b[0;34m\u001b[0m\u001b[0m\n\u001b[0m\u001b[1;32m      3\u001b[0m \u001b[0mprint\u001b[0m\u001b[0;34m(\u001b[0m\u001b[0mi\u001b[0m\u001b[0;34m)\u001b[0m\u001b[0;34m\u001b[0m\u001b[0;34m\u001b[0m\u001b[0m\n",
            "\u001b[0;31mTypeError\u001b[0m: 'str' object is not callable"
          ]
        }
      ]
    },
    {
      "cell_type": "markdown",
      "source": [
        "#Experiment 11"
      ],
      "metadata": {
        "id": "V_rmvceG9bem"
      }
    },
    {
      "cell_type": "code",
      "source": [
        "subject_marks = [('Discrete Mathematics', 93), ('Python Programming', 95), ('Environment',96)]\n",
        "print(\"Original list of tuples:\")\n",
        "print(subject_marks)\n",
        "subject_marks.sort(key = lambda x: x[1])\n",
        "print(\"\\nSorting the List of Tuples:\")\n",
        "print(subject_marks)\n"
      ],
      "metadata": {
        "id": "DdA6O-OR9XWn",
        "outputId": "c4a61705-fd9d-48d7-b9b0-1ca64aa23dc7",
        "colab": {
          "base_uri": "https://localhost:8080/"
        }
      },
      "execution_count": null,
      "outputs": [
        {
          "output_type": "stream",
          "name": "stdout",
          "text": [
            "Original list of tuples:\n",
            "[('Discrete Mathematics', 93), ('Python Programming', 95), ('Environment', 96)]\n",
            "\n",
            "Sorting the List of Tuples:\n",
            "[('Discrete Mathematics', 93), ('Python Programming', 95), ('Environment', 96)]\n"
          ]
        }
      ]
    },
    {
      "cell_type": "markdown",
      "source": [
        "#Experiment 12"
      ],
      "metadata": {
        "id": "77GPnrhR-b_f"
      }
    },
    {
      "cell_type": "code",
      "source": [
        "# tup = eval(input(\"Enter a tuple :- \"))\n",
        "# index = 0\n",
        "# while index < len(tup):\n",
        "#   new = tup[ index ][1 : ] + tup[ index ][ 0 ] + \"ay\"\n",
        "#   print (new, end = \" \")\n",
        "#   index += 1\n"
      ],
      "metadata": {
        "id": "plDfQsAs9uPf"
      },
      "execution_count": null,
      "outputs": []
    },
    {
      "cell_type": "markdown",
      "source": [
        "#Experiment 13"
      ],
      "metadata": {
        "id": "bNYT3A8M_D0Q"
      }
    },
    {
      "cell_type": "code",
      "source": [
        "n = int(input(\"Enter a number till which you want fibonacci series: \"))\n",
        "n1 = 0\n",
        "n2=1\n",
        "print(\"Series\",n1,n2,end=\" \")\n",
        "for i in range(2,n):\n",
        "  new = n1 + n2\n",
        "  n1 = n2\n",
        "  n2 = new\n",
        "  print(new, end=\" \")\n",
        "print()"
      ],
      "metadata": {
        "id": "Y7UNcsuc_DTg",
        "outputId": "f5807db6-6d3a-4a70-9148-38572e833dc4",
        "colab": {
          "base_uri": "https://localhost:8080/"
        }
      },
      "execution_count": 24,
      "outputs": [
        {
          "output_type": "stream",
          "name": "stdout",
          "text": [
            "Enter a number till which you want fibonacci series: 10\n",
            "Series 0 1 1 2 3 5 8 13 21 34 \n"
          ]
        }
      ]
    },
    {
      "cell_type": "markdown",
      "source": [
        "Experiment 14"
      ],
      "metadata": {
        "id": "ocNwzaO7O-dX"
      }
    },
    {
      "cell_type": "code",
      "source": [
        "while True:\n",
        "    print(\"\\nMENU\")\n",
        "    print(\"1. Binary Search\")\n",
        "    print(\"2. Linear Search\")\n",
        "\n",
        "    print(\"3. Exit\")\n",
        "    choice = int(input(\"\\nEnter the Choice: \"))\n",
        "\n",
        "    if choice == 1:\n",
        "        def binary_search(list1, n):\n",
        "            low = 0\n",
        "            high = len(list1) - 1\n",
        "            mid = 0\n",
        "\n",
        "            while low <= high:\n",
        "\n",
        "                mid = (high + low) // 2\n",
        "\n",
        "                if list1[mid] < n:\n",
        "                    low = mid + 1\n",
        "\n",
        "                elif list1[mid] > n:\n",
        "                    high = mid - 1\n",
        "                else:\n",
        "                    return mid\n",
        "\n",
        "            return -1\n",
        "\n",
        "\n",
        "        list1 = []\n",
        "        i = 0\n",
        "        while i < 5:\n",
        "            list1.append(int(input(\"enter digits of array:\")))\n",
        "            i = i + 1\n",
        "\n",
        "        # list1.append(input(\"enter digit\"))\n",
        "        n = int(input(\"enter your target: \"))\n",
        "\n",
        "        # Function call\n",
        "        result = binary_search(list1, n)\n",
        "\n",
        "        if result != -1:\n",
        "            print(\"Element is present at index\", str(result))\n",
        "        else:\n",
        "            print(\"Element is not present in list1\")\n",
        "\n",
        "    if choice == 2:\n",
        "        def search(arr, x):\n",
        "\n",
        "            for i in range(len(arr)):\n",
        "\n",
        "                if arr[i] == x:\n",
        "                    return i\n",
        "\n",
        "            return -1\n",
        "\n",
        "\n",
        "        list1 = []\n",
        "        i = 0\n",
        "        while i < 5:\n",
        "            list1.append(int(input(\"enter digits of array:\")))\n",
        "            i = i + 1\n",
        "\n",
        "        # list1.append(input(\"enter digit\"))\n",
        "        n = int(input(\"enter your target: \"))\n",
        "\n",
        "        # Function call\n",
        "        result = search(list1, n)\n",
        "\n",
        "        if result != -1:\n",
        "            print(\"Element is present at index\", result)\n",
        "        else:\n",
        "            print(\"Element is not present in list1\")\n",
        "\n",
        "    break\n",
        "\n",
        "\n"
      ],
      "metadata": {
        "colab": {
          "base_uri": "https://localhost:8080/"
        },
        "id": "j7IFK-UfO7Cs",
        "outputId": "7b6ca897-fd22-445a-9cec-62e773224c5c"
      },
      "execution_count": 27,
      "outputs": [
        {
          "output_type": "stream",
          "name": "stdout",
          "text": [
            "\n",
            "MENU\n",
            "1. Binary Search\n",
            "2. Linear Search\n",
            "3. Exit\n",
            "\n",
            "Enter the Choice: 2\n",
            "enter digits of array:1\n",
            "enter digits of array:5\n",
            "enter digits of array:7\n",
            "enter digits of array:9\n",
            "enter digits of array:4\n",
            "enter your target: 9\n",
            "Element is present at index 3\n"
          ]
        }
      ]
    },
    {
      "cell_type": "markdown",
      "source": [
        "#Experiment 15.1"
      ],
      "metadata": {
        "id": "15QZjHrwP9bY"
      }
    },
    {
      "cell_type": "code",
      "source": [
        "list1=[30,5,6,8,5,2]\n",
        "print(list1)\n",
        "\n",
        "for i in range(len(list1)-1):\n",
        "\n",
        "  for j in range(i+1,len(list1)):\n",
        "\n",
        "    if list1[i] > list1[j]:\n",
        "\n",
        "      list1[i],list1[j] = list1[j],list1[i]\n",
        "\n",
        "print(list1)"
      ],
      "metadata": {
        "colab": {
          "base_uri": "https://localhost:8080/"
        },
        "id": "uc2gp4lXPc-b",
        "outputId": "f21677ba-cca8-4d15-8cf1-a4c5cb19ee50"
      },
      "execution_count": 29,
      "outputs": [
        {
          "output_type": "stream",
          "name": "stdout",
          "text": [
            "[30, 5, 6, 8, 5, 2]\n",
            "[2, 5, 5, 6, 8, 30]\n"
          ]
        }
      ]
    },
    {
      "cell_type": "markdown",
      "source": [
        "#Experiment 15.2"
      ],
      "metadata": {
        "id": "rXgasWvzQI6X"
      }
    },
    {
      "cell_type": "code",
      "source": [
        "list1=[10,4,25,1,5]\n",
        "print(list1)\n",
        "\n",
        "for i in range(1,len(list1)):\n",
        "\n",
        "  value0 = list1[i]                  \n",
        "\n",
        "  j = i-1\n",
        "\n",
        "  while j>=0 and value0<list1[j]:\n",
        "\n",
        "    list1[j+1] = list1[j]\n",
        "    j=j-1\n",
        "\n",
        "  list1[j+1] = value0\n",
        "  print(list1)"
      ],
      "metadata": {
        "id": "PjsnEOg8QIOu",
        "outputId": "c1ea777f-de38-4e69-ab92-1173183f6c62",
        "colab": {
          "base_uri": "https://localhost:8080/"
        }
      },
      "execution_count": 30,
      "outputs": [
        {
          "output_type": "stream",
          "name": "stdout",
          "text": [
            "[10, 4, 25, 1, 5]\n",
            "[4, 10, 25, 1, 5]\n",
            "[4, 10, 25, 1, 5]\n",
            "[1, 4, 10, 25, 5]\n",
            "[1, 4, 5, 10, 25]\n"
          ]
        }
      ]
    }
  ]
}