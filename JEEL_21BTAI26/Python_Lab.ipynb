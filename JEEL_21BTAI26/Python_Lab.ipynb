{
  "nbformat": 4,
  "nbformat_minor": 0,
  "metadata": {
    "colab": {
      "name": "Python Lab.ipynb",
      "provenance": [],
      "collapsed_sections": [],
      "authorship_tag": "ABX9TyPJikyHdzAjwShL0frADyOG",
      "include_colab_link": true
    },
    "kernelspec": {
      "name": "python3",
      "display_name": "Python 3"
    },
    "language_info": {
      "name": "python"
    }
  },
  "cells": [
    {
      "cell_type": "markdown",
      "metadata": {
        "id": "view-in-github",
        "colab_type": "text"
      },
      "source": [
        "<a href=\"https://colab.research.google.com/github/ARPIT2128/KU-BTECH-AIML/blob/main/JEEL_21BTAI26/Python_Lab.ipynb\" target=\"_parent\"><img src=\"https://colab.research.google.com/assets/colab-badge.svg\" alt=\"Open In Colab\"/></a>"
      ]
    },
    {
      "cell_type": "markdown",
      "source": [
        "Program : 1"
      ],
      "metadata": {
        "id": "Qfyl2Xnw7KrD"
      }
    },
    {
      "cell_type": "code",
      "execution_count": null,
      "metadata": {
        "colab": {
          "base_uri": "https://localhost:8080/"
        },
        "id": "CNi-LEnE-Nmt",
        "outputId": "2332ecc1-c0a5-4916-a0af-df265dfa620a"
      },
      "outputs": [
        {
          "output_type": "stream",
          "name": "stdout",
          "text": [
            "<class 'int'>\n"
          ]
        }
      ],
      "source": [
        "a = 10\n",
        "print(type(a))"
      ]
    },
    {
      "cell_type": "code",
      "source": [
        "b = 2.13\n",
        "print(type(b))"
      ],
      "metadata": {
        "colab": {
          "base_uri": "https://localhost:8080/"
        },
        "id": "RM8iVREl_mfE",
        "outputId": "1b8fb3c1-a824-42f5-ec08-1609cf064507"
      },
      "execution_count": null,
      "outputs": [
        {
          "output_type": "stream",
          "name": "stdout",
          "text": [
            "<class 'float'>\n"
          ]
        }
      ]
    },
    {
      "cell_type": "code",
      "source": [
        "c = 5 + 6j\n",
        "print(type(c))"
      ],
      "metadata": {
        "colab": {
          "base_uri": "https://localhost:8080/"
        },
        "id": "-AaQo6OG_r5n",
        "outputId": "c9fff506-e16c-413a-ef54-97006b899de4"
      },
      "execution_count": null,
      "outputs": [
        {
          "output_type": "stream",
          "name": "stdout",
          "text": [
            "<class 'complex'>\n"
          ]
        }
      ]
    },
    {
      "cell_type": "code",
      "source": [
        "d = (\"Hello\")\n",
        "print(type(d))"
      ],
      "metadata": {
        "colab": {
          "base_uri": "https://localhost:8080/"
        },
        "id": "FB24z-P-_wpf",
        "outputId": "c9373568-f6a2-4799-8245-97e25b11f5d8"
      },
      "execution_count": null,
      "outputs": [
        {
          "output_type": "stream",
          "name": "stdout",
          "text": [
            "<class 'str'>\n"
          ]
        }
      ]
    },
    {
      "cell_type": "code",
      "source": [
        "e = [\"Jeel\",\"Patel\"]\n",
        "print(type(e))"
      ],
      "metadata": {
        "colab": {
          "base_uri": "https://localhost:8080/"
        },
        "id": "xmwpCQgr_5an",
        "outputId": "a15b8ed4-9b0d-4547-8491-aec1301d257d"
      },
      "execution_count": null,
      "outputs": [
        {
          "output_type": "stream",
          "name": "stdout",
          "text": [
            "<class 'list'>\n"
          ]
        }
      ]
    },
    {
      "cell_type": "code",
      "source": [
        "f = {\"Hello\",\"World\"}\n",
        "print(type(f))"
      ],
      "metadata": {
        "colab": {
          "base_uri": "https://localhost:8080/"
        },
        "id": "xM1rzxcOAFLJ",
        "outputId": "6469a984-eaa3-47aa-ed09-6649bfe9bb9d"
      },
      "execution_count": null,
      "outputs": [
        {
          "output_type": "stream",
          "name": "stdout",
          "text": [
            "<class 'set'>\n"
          ]
        }
      ]
    },
    {
      "cell_type": "code",
      "source": [
        "g = dict(Name = \"Jeel\",Surname = \"Patel\")\n",
        "print(type(g))"
      ],
      "metadata": {
        "colab": {
          "base_uri": "https://localhost:8080/"
        },
        "id": "-f-TjNYXANAq",
        "outputId": "2ffad1c5-7688-43d7-def6-cf72a220185e"
      },
      "execution_count": null,
      "outputs": [
        {
          "output_type": "stream",
          "name": "stdout",
          "text": [
            "<class 'dict'>\n"
          ]
        }
      ]
    },
    {
      "cell_type": "code",
      "source": [
        "i = True\n",
        "print(type(i))"
      ],
      "metadata": {
        "colab": {
          "base_uri": "https://localhost:8080/"
        },
        "id": "6BNOOPbnAa_3",
        "outputId": "c97455fa-3be4-4bdb-b874-9e0420a921b9"
      },
      "execution_count": null,
      "outputs": [
        {
          "output_type": "stream",
          "name": "stdout",
          "text": [
            "<class 'bool'>\n"
          ]
        }
      ]
    },
    {
      "cell_type": "code",
      "source": [
        "j = False\n",
        "print(type(j))"
      ],
      "metadata": {
        "colab": {
          "base_uri": "https://localhost:8080/"
        },
        "id": "wdUUdFrtAhEq",
        "outputId": "386f649b-268a-419f-fe48-2a882e34fb08"
      },
      "execution_count": null,
      "outputs": [
        {
          "output_type": "stream",
          "name": "stdout",
          "text": [
            "<class 'bool'>\n"
          ]
        }
      ]
    },
    {
      "cell_type": "code",
      "source": [
        "v = tuple((\"Hiii\"))\n",
        "print(type(v))"
      ],
      "metadata": {
        "id": "ZVEVuZp_EB5m",
        "outputId": "4e3cd3cd-3a3a-4ba6-d34c-c73d6502488a",
        "colab": {
          "base_uri": "https://localhost:8080/"
        }
      },
      "execution_count": null,
      "outputs": [
        {
          "output_type": "stream",
          "name": "stdout",
          "text": [
            "<class 'tuple'>\n"
          ]
        }
      ]
    },
    {
      "cell_type": "code",
      "source": [
        "k = {'bye',12}\n",
        "print(type(k))"
      ],
      "metadata": {
        "colab": {
          "base_uri": "https://localhost:8080/"
        },
        "id": "YRHzWvyjAlVx",
        "outputId": "c6409ec9-e994-4eb1-9e47-1a0c22998cb0"
      },
      "execution_count": null,
      "outputs": [
        {
          "output_type": "stream",
          "name": "stdout",
          "text": [
            "<class 'set'>\n"
          ]
        }
      ]
    },
    {
      "cell_type": "markdown",
      "source": [
        "Program : 2"
      ],
      "metadata": {
        "id": "IqfVrAk-7RK5"
      }
    },
    {
      "cell_type": "code",
      "source": [
        "x1 = int(input(\"Enter x1 : \"))\n",
        "y1 = int(input(\"Enter y1 : \"))\n",
        "x2 = int(input(\"Enter x2 : \"))\n",
        "y2 = int(input(\"Enter y2: \"))\n",
        "\n",
        "result = ((((x2 - x1)**2) + ((y2 - y1)**2))**0.5)\n",
        "#result = math.sqrt((x1 - x2)**2 + (y1 - y2)**2)\n",
        "\n",
        "print(\"distance between\",(x1,y1),\"and\",(x2,y2),\"is : \",result)"
      ],
      "metadata": {
        "id": "rYuHjiFv7lVV",
        "colab": {
          "base_uri": "https://localhost:8080/"
        },
        "outputId": "b6b2fa28-f2b9-4e6e-b772-fca777929949"
      },
      "execution_count": 7,
      "outputs": [
        {
          "output_type": "stream",
          "name": "stdout",
          "text": [
            "Enter x1 : 5\n",
            "Enter y1 : 6\n",
            "Enter x2 : 2\n",
            "Enter y2: 3\n",
            "distance between (5, 6) and (2, 3) is :  4.242640687119285\n"
          ]
        }
      ]
    },
    {
      "cell_type": "markdown",
      "source": [
        "Program : 3"
      ],
      "metadata": {
        "id": "y76NHQH27q5P"
      }
    },
    {
      "cell_type": "code",
      "source": [
        "num = int(input(\"Enter any numbers to test whether it is odd or even : \"))\n",
        "\n",
        "if(num % 2) == 0:\n",
        "  print(\"The number is even\")\n",
        "\n",
        "else:\n",
        "  print(\"The number is odd\")"
      ],
      "metadata": {
        "id": "26KmhrHd7tq7",
        "colab": {
          "base_uri": "https://localhost:8080/"
        },
        "outputId": "2e531128-e85d-4297-dc97-571683599cf9"
      },
      "execution_count": 5,
      "outputs": [
        {
          "output_type": "stream",
          "name": "stdout",
          "text": [
            "Enter any numbers to test whether it is odd or even : 5\n",
            "The number is odd\n"
          ]
        }
      ]
    },
    {
      "cell_type": "code",
      "source": [
        "n = int(input(\"Enter a number : \"))\n",
        "\n",
        "s = 0\n",
        "t = n\n",
        "while t > 0:\n",
        "  digit = t % 10\n",
        "  s += digit ** 3\n",
        "  t //= 10\n",
        "\n",
        "if n == s:\n",
        "  print(n,\"is an Armstrong number\")\n",
        "\n",
        "else:\n",
        "  print(n,\"is not an Armstrong number\")\n"
      ],
      "metadata": {
        "id": "qzfLUuzS8ALk",
        "colab": {
          "base_uri": "https://localhost:8080/"
        },
        "outputId": "14c071c1-4030-4641-b869-d8b864c693fc"
      },
      "execution_count": 4,
      "outputs": [
        {
          "output_type": "stream",
          "name": "stdout",
          "text": [
            "Enter a number : 123\n",
            "123 is not an Armstrong number\n"
          ]
        }
      ]
    },
    {
      "cell_type": "markdown",
      "source": [
        "Program : 4"
      ],
      "metadata": {
        "id": "CStE7RW77uDC"
      }
    },
    {
      "cell_type": "code",
      "source": [
        "a = int(input(\"Enter the Number : \"))\n",
        "i = 0\n",
        "while i<=a:\n",
        "  print(i)\n",
        "  i = i + 1"
      ],
      "metadata": {
        "id": "3U4YJKqC7yW5",
        "colab": {
          "base_uri": "https://localhost:8080/"
        },
        "outputId": "8c3b4553-8bd9-4c2d-fc6b-f8fed9b3809a"
      },
      "execution_count": 3,
      "outputs": [
        {
          "output_type": "stream",
          "name": "stdout",
          "text": [
            "Enter the Number : 6\n",
            "0\n",
            "1\n",
            "2\n",
            "3\n",
            "4\n",
            "5\n",
            "6\n"
          ]
        }
      ]
    },
    {
      "cell_type": "markdown",
      "source": [
        "Program : 5"
      ],
      "metadata": {
        "id": "KWvxm3CD7ywC"
      }
    },
    {
      "cell_type": "code",
      "source": [
        "a = str(input(\"Enter a string : \"))\n",
        "b = { }\n",
        "for i in a:\n",
        "  b[i] = a.count(i)\n",
        "print(b)"
      ],
      "metadata": {
        "id": "oLRuyfID71Ua",
        "colab": {
          "base_uri": "https://localhost:8080/"
        },
        "outputId": "596a5652-7611-43fc-fddb-1858e5eee5ac"
      },
      "execution_count": 2,
      "outputs": [
        {
          "output_type": "stream",
          "name": "stdout",
          "text": [
            "Enter a string : jeel\n",
            "{'j': 1, 'e': 2, 'l': 1}\n"
          ]
        }
      ]
    },
    {
      "cell_type": "markdown",
      "source": [
        "Program : 6"
      ],
      "metadata": {
        "id": "xNZy7JzT71nx"
      }
    },
    {
      "cell_type": "code",
      "source": [
        "list = [\"Jeel\",\"Patel\"]\n",
        "print(list)\n",
        "\n",
        "tuple = (\"Khushi\",\"Patel\")\n",
        "print(tuple)\n",
        "\n",
        "for i in list:\n",
        "  print(i)\n",
        "for i in tuple:\n",
        "  print(i)"
      ],
      "metadata": {
        "id": "-nuwCW1U73Os",
        "colab": {
          "base_uri": "https://localhost:8080/"
        },
        "outputId": "d4961cc5-00ae-4d24-b4b5-97d672123fb8"
      },
      "execution_count": 1,
      "outputs": [
        {
          "output_type": "stream",
          "name": "stdout",
          "text": [
            "['Jeel', 'Patel']\n",
            "('Khushi', 'Patel')\n",
            "Jeel\n",
            "Patel\n",
            "Khushi\n",
            "Patel\n"
          ]
        }
      ]
    }
  ]
}