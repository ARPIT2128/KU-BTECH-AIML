{
  "nbformat": 4,
  "nbformat_minor": 0,
  "metadata": {
    "colab": {
      "name": "experiment--1to15.ipynb",
      "provenance": [],
      "collapsed_sections": [],
      "authorship_tag": "ABX9TyPRPQXDjSXhMQSBiM94nMOr",
      "include_colab_link": true
    },
    "kernelspec": {
      "name": "python3",
      "display_name": "Python 3"
    },
    "language_info": {
      "name": "python"
    }
  },
  "cells": [
    {
      "cell_type": "markdown",
      "metadata": {
        "id": "view-in-github",
        "colab_type": "text"
      },
      "source": [
        "<a href=\"https://colab.research.google.com/github/ARPIT2128/KU-BTECH-AIML/blob/main/Nishit%20Chaudhary_21BTAI08/experiment_1to15.ipynb\" target=\"_parent\"><img src=\"https://colab.research.google.com/assets/colab-badge.svg\" alt=\"Open In Colab\"/></a>"
      ]
    },
    {
      "cell_type": "code",
      "execution_count": null,
      "metadata": {
        "colab": {
          "base_uri": "https://localhost:8080/"
        },
        "id": "IAtn0ptSS7Tf",
        "outputId": "37673233-da7d-4553-b3bc-e9d89cc1c6df"
      },
      "outputs": [
        {
          "output_type": "stream",
          "name": "stdout",
          "text": [
            "This is Python!!!\n"
          ]
        }
      ],
      "source": [
        "#experiment 1\n",
        "print('This is Python!!!')"
      ]
    },
    {
      "cell_type": "code",
      "source": [
        "var1=14\n",
        "print(var1)"
      ],
      "metadata": {
        "colab": {
          "base_uri": "https://localhost:8080/"
        },
        "id": "PIv7zphNTHXw",
        "outputId": "c3399167-a049-467f-fe65-6cc5f4c95591"
      },
      "execution_count": null,
      "outputs": [
        {
          "output_type": "stream",
          "name": "stdout",
          "text": [
            "14\n"
          ]
        }
      ]
    },
    {
      "cell_type": "code",
      "source": [
        "a=10\n",
        "print(type(a))"
      ],
      "metadata": {
        "colab": {
          "base_uri": "https://localhost:8080/"
        },
        "id": "lW9iVP2NTIgz",
        "outputId": "4aad93d5-8af7-4a24-c380-8620a9d949f9"
      },
      "execution_count": null,
      "outputs": [
        {
          "output_type": "stream",
          "name": "stdout",
          "text": [
            "<class 'int'>\n"
          ]
        }
      ]
    },
    {
      "cell_type": "code",
      "source": [
        "a='HI'\n",
        "print(type(a))"
      ],
      "metadata": {
        "colab": {
          "base_uri": "https://localhost:8080/"
        },
        "id": "DOLEd_jnTMzj",
        "outputId": "29cc3942-395a-4214-dc9a-e41157bf1079"
      },
      "execution_count": null,
      "outputs": [
        {
          "output_type": "stream",
          "name": "stdout",
          "text": [
            "<class 'str'>\n"
          ]
        }
      ]
    },
    {
      "cell_type": "code",
      "source": [
        "a=12.5\n",
        "print(type(a))"
      ],
      "metadata": {
        "colab": {
          "base_uri": "https://localhost:8080/"
        },
        "id": "2cJ06oB3TOVE",
        "outputId": "52d873ae-9400-4f45-f019-5c3263ce96ca"
      },
      "execution_count": null,
      "outputs": [
        {
          "output_type": "stream",
          "name": "stdout",
          "text": [
            "<class 'float'>\n"
          ]
        }
      ]
    },
    {
      "cell_type": "code",
      "source": [
        "a=1+2j\n",
        "print(type(a))"
      ],
      "metadata": {
        "colab": {
          "base_uri": "https://localhost:8080/"
        },
        "id": "xIT1Vw_VTRnY",
        "outputId": "5e804f8d-b5d1-4257-c616-0777e52c28be"
      },
      "execution_count": null,
      "outputs": [
        {
          "output_type": "stream",
          "name": "stdout",
          "text": [
            "<class 'complex'>\n"
          ]
        }
      ]
    },
    {
      "cell_type": "code",
      "source": [
        "a=True\n",
        "print(type(a))"
      ],
      "metadata": {
        "colab": {
          "base_uri": "https://localhost:8080/"
        },
        "id": "guOTni-7TTZ0",
        "outputId": "023fb17a-6469-4631-bc1d-e3afd1a12336"
      },
      "execution_count": null,
      "outputs": [
        {
          "output_type": "stream",
          "name": "stdout",
          "text": [
            "<class 'bool'>\n"
          ]
        }
      ]
    },
    {
      "cell_type": "code",
      "source": [
        "print(9/4)\n",
        "print(9//4)\n",
        "print(9*4)\n",
        "print(9**4)\n",
        "print(9+4)\n",
        "print(9-5)\n",
        "print(9%4)"
      ],
      "metadata": {
        "colab": {
          "base_uri": "https://localhost:8080/"
        },
        "id": "IxXZpNJGTVl6",
        "outputId": "041d92e6-6dab-4399-e74e-2c0aa5073fe0"
      },
      "execution_count": null,
      "outputs": [
        {
          "output_type": "stream",
          "name": "stdout",
          "text": [
            "2.25\n",
            "2\n",
            "36\n",
            "6561\n",
            "13\n",
            "4\n",
            "1\n"
          ]
        }
      ]
    },
    {
      "cell_type": "code",
      "source": [
        "a=10\n",
        "b=20\n",
        "print(a,b)"
      ],
      "metadata": {
        "colab": {
          "base_uri": "https://localhost:8080/"
        },
        "id": "hoXg3jVYTXr3",
        "outputId": "b0715f5d-3047-4f0f-fe70-87c02aebeb41"
      },
      "execution_count": null,
      "outputs": [
        {
          "output_type": "stream",
          "name": "stdout",
          "text": [
            "10 20\n"
          ]
        }
      ]
    },
    {
      "cell_type": "code",
      "source": [
        "print(a>b)\n",
        "print(a==b)\n",
        "x,y=5,5\n",
        "print(x==y)\n",
        "print(x!=y)\n"
      ],
      "metadata": {
        "colab": {
          "base_uri": "https://localhost:8080/"
        },
        "id": "Q3ipPAznTZz1",
        "outputId": "0d73c1da-efb2-4941-c465-1e5219973b8f"
      },
      "execution_count": null,
      "outputs": [
        {
          "output_type": "stream",
          "name": "stdout",
          "text": [
            "False\n",
            "False\n",
            "True\n",
            "False\n"
          ]
        }
      ]
    },
    {
      "cell_type": "code",
      "source": [
        "a=True\n",
        "b=False\n",
        "print(a|b)\n",
        "print(a&b)\n",
        "print(a or b)\n",
        "print(a and b)\n"
      ],
      "metadata": {
        "colab": {
          "base_uri": "https://localhost:8080/"
        },
        "id": "UTD9aEtBTdjD",
        "outputId": "ce4086ac-7bc0-4b09-e8d7-4e1aae064fc6"
      },
      "execution_count": null,
      "outputs": [
        {
          "output_type": "stream",
          "name": "stdout",
          "text": [
            "True\n",
            "False\n",
            "True\n",
            "False\n"
          ]
        }
      ]
    },
    {
      "cell_type": "code",
      "source": [
        "my_string=\"My name is Jaymin\"\n",
        "print(my_string)\n",
        "print(type(my_string))"
      ],
      "metadata": {
        "colab": {
          "base_uri": "https://localhost:8080/"
        },
        "id": "F5Kv_rwdTgrF",
        "outputId": "3546f07b-1b9b-4120-a1c3-859481e42221"
      },
      "execution_count": null,
      "outputs": [
        {
          "output_type": "stream",
          "name": "stdout",
          "text": [
            "My name is Jaymin\n",
            "<class 'str'>\n"
          ]
        }
      ]
    },
    {
      "cell_type": "code",
      "source": [
        "string=\"Hello\"\n",
        "print(len(string))\n",
        "print(string.lower())\n",
        "print(string.upper())\n",
        "string='heya'\n",
        "print(string.replace('y','a'))\n",
        "string='hello ladies hello gentlemen hello everyone'\n",
        "print(string.count(\"hello\"))\n",
        "string=\"hi how are you?\"\n",
        "print(string.find(\"are\"))"
      ],
      "metadata": {
        "colab": {
          "base_uri": "https://localhost:8080/"
        },
        "id": "aMhuDlziTjfT",
        "outputId": "a419277b-b0f3-402b-dabb-158d3281ab88"
      },
      "execution_count": null,
      "outputs": [
        {
          "output_type": "stream",
          "name": "stdout",
          "text": [
            "5\n",
            "hello\n",
            "HELLO\n",
            "heaa\n",
            "3\n",
            "7\n"
          ]
        }
      ]
    },
    {
      "cell_type": "code",
      "source": [
        "#experiment 2\n",
        "import math\n",
        "x1=int(input(\"Enter first x coordinate: \"))\n",
        "x2=int(input(\"Enter second x coordinate: \"))\n",
        "y1=int(input(\"Enter first y coordinate: \"))\n",
        "y2=int(input(\"Enter second y coordinate: \"))\n",
        "man_dist=abs((x2-x1)+(y2-y1))\n",
        "euc_dist=math.sqrt((pow((x2-x1),2))+(pow((y2-y1),2)))\n",
        "print(\"The manhattan distance is:\",man_dist,\"\\nThe euclidean distance is:\",euc_dist)"
      ],
      "metadata": {
        "colab": {
          "base_uri": "https://localhost:8080/"
        },
        "id": "WDQxAwm_TmJ-",
        "outputId": "8c4946f7-e147-44df-d3b0-b41b08483af2"
      },
      "execution_count": null,
      "outputs": [
        {
          "output_type": "stream",
          "name": "stdout",
          "text": [
            "Enter first x coordinate: 4\n",
            "Enter second x coordinate: 4\n",
            "Enter first y coordinate: 5\n",
            "Enter second y coordinate: 6\n",
            "The manhattan distance is: 1 \n",
            "The euclidean distance is: 1.0\n"
          ]
        }
      ]
    },
    {
      "cell_type": "code",
      "source": [
        "#experiment 3\n",
        "x=input(\"Enter a number: \")\n",
        "for i in x:\n",
        "  if not(48<=ord(i)<=57):\n",
        "    a=False\n",
        "    break\n",
        "  else:\n",
        "    a=True\n",
        "if a == True:\n",
        "  if int(x)%2==0:\n",
        "    print(\"Even number!\")\n",
        "  else:\n",
        "    print(\"Odd number!\")\n",
        "else:\n",
        "  print(\"Not a number!\")"
      ],
      "metadata": {
        "colab": {
          "base_uri": "https://localhost:8080/"
        },
        "id": "FOCSjUrlTqk3",
        "outputId": "287cd160-943b-44c1-948c-fbaa33897839"
      },
      "execution_count": null,
      "outputs": [
        {
          "output_type": "stream",
          "name": "stdout",
          "text": [
            "Enter a number: 55\n",
            "Odd number!\n"
          ]
        }
      ]
    },
    {
      "cell_type": "code",
      "source": [
        "#Armstrong number\n",
        "n=int(input(\"Enter a number to check: \"))\n",
        "n1=n\n",
        "n2=n\n",
        "count=0\n",
        "sum=0\n",
        "while n1!=0:\n",
        "  n1//=10\n",
        "  count+=1\n",
        "while n2!=0:\n",
        "  b=n2%10\n",
        "  sum+=pow(b,count)\n",
        "  n2//=10\n",
        "if n==sum:\n",
        "  print(\"Armstrong number!\")\n",
        "else:\n",
        "  print(\"Not an armstrong number!\")"
      ],
      "metadata": {
        "colab": {
          "base_uri": "https://localhost:8080/"
        },
        "id": "JwObfPN_T43G",
        "outputId": "36b3a6de-c37a-46a5-bff4-6ab581e67c8d"
      },
      "execution_count": null,
      "outputs": [
        {
          "output_type": "stream",
          "name": "stdout",
          "text": [
            "Enter a number to check: 55\n",
            "Not an armstrong number!\n"
          ]
        }
      ]
    },
    {
      "cell_type": "code",
      "source": [
        "x=input(\"Enter a number: \")\n",
        "a=False\n",
        "for i in x:\n",
        "  if not(48<=ord(i)<=57):\n",
        "    print(\"Not a number!\")\n",
        "    a=False\n",
        "    break\n",
        "  else:\n",
        "    a=True\n",
        "if a==True:\n",
        "  x=int(x)\n",
        "  n1=n2=x\n",
        "  sum=count=0\n",
        "  while n1!=0:\n",
        "    n1//=10\n",
        "    count+=1\n",
        "  while n2!=0:\n",
        "    b=n2%10\n",
        "    sum+=pow(b,count)\n",
        "    n2//=10\n",
        "  if x==sum:\n",
        "    print(\"Armstrong number!\")\n",
        "  else:\n",
        "    print(\"Not an armstrong number!\")"
      ],
      "metadata": {
        "colab": {
          "base_uri": "https://localhost:8080/"
        },
        "id": "7zuVNVEfT-gO",
        "outputId": "13cd40f6-536f-4f2d-d177-ae221e4cd0f3"
      },
      "execution_count": null,
      "outputs": [
        {
          "output_type": "stream",
          "name": "stdout",
          "text": [
            "Enter a number: 55\n",
            "Not an armstrong number!\n"
          ]
        }
      ]
    },
    {
      "cell_type": "code",
      "source": [
        "#experiment 4\n",
        "n=int(input(\"Enter a number: \"))\n",
        "while (n!=-1):\n",
        "  print(n)\n",
        "  n=n-1"
      ],
      "metadata": {
        "colab": {
          "base_uri": "https://localhost:8080/"
        },
        "id": "iwkgYXSZUCtB",
        "outputId": "10f99302-f89c-423c-d5d9-599c7cf8ecbe"
      },
      "execution_count": null,
      "outputs": [
        {
          "output_type": "stream",
          "name": "stdout",
          "text": [
            "Enter a number: 66\n",
            "66\n",
            "65\n",
            "64\n",
            "63\n",
            "62\n",
            "61\n",
            "60\n",
            "59\n",
            "58\n",
            "57\n",
            "56\n",
            "55\n",
            "54\n",
            "53\n",
            "52\n",
            "51\n",
            "50\n",
            "49\n",
            "48\n",
            "47\n",
            "46\n",
            "45\n",
            "44\n",
            "43\n",
            "42\n",
            "41\n",
            "40\n",
            "39\n",
            "38\n",
            "37\n",
            "36\n",
            "35\n",
            "34\n",
            "33\n",
            "32\n",
            "31\n",
            "30\n",
            "29\n",
            "28\n",
            "27\n",
            "26\n",
            "25\n",
            "24\n",
            "23\n",
            "22\n",
            "21\n",
            "20\n",
            "19\n",
            "18\n",
            "17\n",
            "16\n",
            "15\n",
            "14\n",
            "13\n",
            "12\n",
            "11\n",
            "10\n",
            "9\n",
            "8\n",
            "7\n",
            "6\n",
            "5\n",
            "4\n",
            "3\n",
            "2\n",
            "1\n",
            "0\n"
          ]
        }
      ]
    },
    {
      "cell_type": "code",
      "source": [
        "#experiment5\n",
        "str=input(\"enter string : \")\n",
        "f={} \n",
        "for i in str: \n",
        "    if i in f: \n",
        "        f[i]+=1\n",
        "    else: \n",
        "        f[i]=1\n",
        "print(f)"
      ],
      "metadata": {
        "colab": {
          "base_uri": "https://localhost:8080/"
        },
        "id": "9trpJN4DUF_6",
        "outputId": "bf64ffb8-a37e-4caf-f14d-00345c533bb8"
      },
      "execution_count": null,
      "outputs": [
        {
          "output_type": "stream",
          "name": "stdout",
          "text": [
            "enter string : nishit\n",
            "{'n': 1, 'i': 2, 's': 1, 'h': 1, 't': 1}\n"
          ]
        }
      ]
    },
    {
      "cell_type": "code",
      "source": [
        "#experiment 6\n",
        "lst1=[67,6748.74,\"ghg\"]  #this is a list\n",
        "tpl1=(546.65,65,\"hfg\",'bye')  #this is a tuple\n",
        "for i in lst1:\n",
        "  print(i)\n",
        "for i in tpl1:\n",
        "  print(i)"
      ],
      "metadata": {
        "colab": {
          "base_uri": "https://localhost:8080/"
        },
        "id": "MUgZzUJhUJOE",
        "outputId": "a4a1777d-702d-46d5-8f22-004291d0b72a"
      },
      "execution_count": null,
      "outputs": [
        {
          "output_type": "stream",
          "name": "stdout",
          "text": [
            "67\n",
            "6748.74\n",
            "ghg\n",
            "546.65\n",
            "65\n",
            "hfg\n",
            "bye\n"
          ]
        }
      ]
    },
    {
      "cell_type": "code",
      "source": [
        "#experiment 7\n",
        "st=input(\"Enter a string: \")\n",
        "for i in st: \n",
        "  print(i)\n",
        "for i in st[::-1]:\n",
        "  print(i)\n",
        "st2=st[::-1]\n",
        "print(st2)\n",
        "count=0\n",
        "ch=input(\"Enter letter to count: \")\n",
        "for i in st:\n",
        "  if i==ch:\n",
        "    count+=1\n",
        "print(\"{} appears {} times\".format(ch,count))"
      ],
      "metadata": {
        "colab": {
          "base_uri": "https://localhost:8080/"
        },
        "id": "63mJDbAMFYf3",
        "outputId": "a08be994-0ff7-4df5-88cd-de4ffdce9548"
      },
      "execution_count": null,
      "outputs": [
        {
          "output_type": "stream",
          "name": "stdout",
          "text": [
            "Enter a string: Nishit\n",
            "N\n",
            "i\n",
            "s\n",
            "h\n",
            "i\n",
            "t\n",
            "t\n",
            "i\n",
            "h\n",
            "s\n",
            "i\n",
            "N\n",
            "tihsiN\n",
            "Enter letter to count: i\n",
            "i appears 2 times\n"
          ]
        }
      ]
    },
    {
      "cell_type": "code",
      "source": [
        "#experiment 8\n",
        "def mean(l):\n",
        "  return sum(l)/len(l)\n",
        "def median(l):\n",
        "  l.sort()\n",
        "  le=len(l)\n",
        "  if le%2==0:\n",
        "    return l[le//2-1],l[le//2]\n",
        "  return l[le//2]\n",
        "def mode(l):\n",
        "  count=0\n",
        "  el=None\n",
        "  for i in l:\n",
        "    if l.count(i)>count:\n",
        "      el=i\n",
        "      count=l.count(i)\n",
        "  return el\n",
        "def range(l):\n",
        "  return max(l)-min(l)\n",
        "lst1=[1,424,32,46,34,5,345,3,46,546]\n",
        "print(mean(lst1))\n",
        "print(median(lst1))\n",
        "print(mode(lst1))\n",
        "print(range(lst1))"
      ],
      "metadata": {
        "colab": {
          "base_uri": "https://localhost:8080/"
        },
        "id": "p8M5QdDkFiXQ",
        "outputId": "8d03ee3e-c7be-4d5a-bce1-b59a45954153"
      },
      "execution_count": null,
      "outputs": [
        {
          "output_type": "stream",
          "name": "stdout",
          "text": [
            "148.2\n",
            "(34, 46)\n",
            "46\n",
            "545\n"
          ]
        }
      ]
    },
    {
      "cell_type": "code",
      "source": [
        "#experiment 9\n",
        "def passdict(dct):\n",
        "  uname=input(\"Enter your username: \")\n",
        "  if uname in dct:\n",
        "    pwd=input(\"Enter your password: \")\n",
        "    if dct[uname]==pwd:\n",
        "      return \"You are now logged into the system.\"\n",
        "    return \"Invalid password.\"\n",
        "  return \"Invalid username.\" \n",
        "any_dict={\"Nishit\":\"Astralis99\"}\n",
        "print(passdict(any_dict))     "
      ],
      "metadata": {
        "colab": {
          "base_uri": "https://localhost:8080/"
        },
        "id": "t2YHrwBLFm-U",
        "outputId": "be2e7f64-99b5-4ee0-d407-57f602aaec67"
      },
      "execution_count": null,
      "outputs": [
        {
          "output_type": "stream",
          "name": "stdout",
          "text": [
            "Enter your username: Nishit\n",
            "Enter your password: Astralis\n",
            "Invalid password.\n"
          ]
        }
      ]
    },
    {
      "cell_type": "code",
      "source": [
        "#experiment 10\n",
        "def tptoint(tple):\n",
        "  return int(\"\".join(map(str,tple)))\n",
        "print(f\"{tptoint((1,2,3))}\")  "
      ],
      "metadata": {
        "colab": {
          "base_uri": "https://localhost:8080/"
        },
        "id": "u6wfEDwrGJ9J",
        "outputId": "06cf723e-ee11-4655-bd61-6ce8252ddf43"
      },
      "execution_count": null,
      "outputs": [
        {
          "output_type": "stream",
          "name": "stdout",
          "text": [
            "123\n"
          ]
        }
      ]
    },
    {
      "cell_type": "code",
      "source": [
        "#experiment 11\n",
        "sortlst=lambda lst: sorted(lst,key=lambda x:x[1])\n",
        "print(sortlst([('Discrete Mathematics', 83), ('Python Programming', 65), ('Environmental Science', 98), ('Engineering Physics', 53)]))"
      ],
      "metadata": {
        "colab": {
          "base_uri": "https://localhost:8080/"
        },
        "id": "3AeFIi8HGWA2",
        "outputId": "7c761022-3659-447c-e049-1b0693c47da3"
      },
      "execution_count": null,
      "outputs": [
        {
          "output_type": "stream",
          "name": "stdout",
          "text": [
            "[('Engineering Physics', 53), ('Python Programming', 65), ('Discrete Mathematics', 83), ('Environmental Science', 98)]\n"
          ]
        }
      ]
    },
    {
      "cell_type": "code",
      "source": [
        "#experiment 12\n",
        "def toplatin(lst):\n",
        "  lst=list(lst)\n",
        "  for k in range(len(lst)):\n",
        "    if lst[k][0] in 'aeiou':\n",
        "      lst[k]=lst[k]+'yay'\n",
        "    elif set(lst[k]).isdisjoint(set(\"aeiou\")):\n",
        "      lst[k]=lst[k][-1]+lst[k][:-1]+'ay'\n",
        "    else:\n",
        "      has_vowel=False\n",
        "      for j,letter in enumerate(lst[k]):\n",
        "        if letter in 'aeiou':\n",
        "          lst[k]=lst[k][j:]+lst[k][:j]+'ay'\n",
        "          has_vowel=True\n",
        "          break\n",
        "  return tuple(lst)\n",
        "def fromplatin(lst):\n",
        "  lst=list(lst)\n",
        "  for i in range(len(lst)):\n",
        "    if lst[i][-3:]==\"yay\":\n",
        "      lst[i]=lst[i][:-3]\n",
        "    else:\n",
        "      lst[i]=lst[i][:-2]\n",
        "  return tuple(lst)\n",
        "print(toplatin((\"the\", \"quick\",\"brown\", \"fox\")))\n",
        "print(fromplatin(('fthyay', 'kquicay', 'nbroway', 'xfoay')))"
      ],
      "metadata": {
        "id": "lt6mh_J7Hr5z"
      },
      "execution_count": null,
      "outputs": []
    },
    {
      "cell_type": "code",
      "source": [
        "#experiment 13\n",
        "def fibonacci(n):\n",
        "  if n<=1:\n",
        "    return n  \n",
        "  return (fibonacci(n-1)+fibonacci(n-2))\n",
        "print(fibonacci(17))"
      ],
      "metadata": {
        "colab": {
          "base_uri": "https://localhost:8080/"
        },
        "id": "gdmkNC_WHOoC",
        "outputId": "f1f66887-74e2-4ed2-c9b9-8d4b46b46c8b"
      },
      "execution_count": null,
      "outputs": [
        {
          "output_type": "stream",
          "name": "stdout",
          "text": [
            "1597\n"
          ]
        }
      ]
    },
    {
      "cell_type": "code",
      "source": [
        "#experiment 14\n",
        "def linearSearch(lst,item):\n",
        "  for i in range(len(lst)):\n",
        "    if lst[i]==item:\n",
        "      return f\"The element {item} is at index {i}\"    #returns index of item\n",
        "  return -1    #if item is not in the list\n",
        "def binarySearch(lst,item):\n",
        "  lst.sort()\n",
        "  print(\"The sorted list is:\",lst)\n",
        "  low,high=0,len(lst)-1\n",
        "  while low<=high:\n",
        "    mid=(low+high)//2\n",
        "    mid_element=lst[mid]\n",
        "    if mid_element==item:\n",
        "      return f\"The element {item} is at index {mid}\"    #return index of middle element\n",
        "    if mid_element<item:\n",
        "      low=mid+1    #discarding the right part of the list because item is greater than middle element\n",
        "    elif mid_element>item:\n",
        "      high=mid-1    #discarding the left part of the list becasue item is smaller then middle element\n",
        "    return -1\n",
        "ls=[]\n",
        "n=int(input(\"Enter the number of elements: \"))\n",
        "print(\"Enter the elements: \")\n",
        "for i in range(n):\n",
        "  ls.append(int(input()))\n",
        "print(\"Your list is: \",ls)\n",
        "it=int(input(\"Enter item to search: \"))\n",
        "ch=int(input(\"Enter 0 for linear search and 1 for binary search: \"))\n",
        "if ch==0:\n",
        "  print(linearSearch(ls,it))\n",
        "else:\n",
        "  print(binarySearch(ls,it))"
      ],
      "metadata": {
        "id": "AdJ7Im9nHcmo"
      },
      "execution_count": null,
      "outputs": []
    },
    {
      "cell_type": "code",
      "source": [
        "#experiment 15\n",
        "#merge sort\n",
        "def mergeSort(arr):\n",
        "    if len(arr) > 1:\n",
        "        mid = len(arr) // 2\n",
        "        L = arr[:mid]\n",
        "        R = arr[mid:]\n",
        "        mergeSort(L)\n",
        "        mergeSort(R)\n",
        "        i = j = k = 0\n",
        "\n",
        "        while i < len(L) and j < len(R):\n",
        "            if L[i] < R[j]:\n",
        "                arr[k] = L[i]\n",
        "                i += 1\n",
        "            else:\n",
        "                arr[k] = R[j]\n",
        "                j += 1\n",
        "            k += 1\n",
        "\n",
        "        while i < len(L):\n",
        "            arr[k] = L[i]\n",
        "            i += 1\n",
        "            k += 1\n",
        "\n",
        "        while j < len(R):\n",
        "            arr[k] = R[j]\n",
        "            j += 1\n",
        "            k += 1\n",
        "    return arr\n",
        "#selection sort\n",
        "def selectionSort(arr):\n",
        "    for i in range(len(arr)):\n",
        "        min_idx = i\n",
        "        for j in range(i + 1, len(arr)):\n",
        "            if arr[min_idx] > arr[j]:\n",
        "                min_idx = j\n",
        "        arr[i], arr[min_idx] = arr[min_idx], arr[i]\n",
        "    return arr\n",
        "#insertion sort\n",
        "def insertionSort(array):\n",
        "    for step in range(1, len(array)):\n",
        "        key = array[step]\n",
        "        j = step - 1\n",
        "        while j >= 0 and key < array[j]:\n",
        "            array[j + 1] = array[j]\n",
        "            j = j - 1\n",
        "        array[j + 1] = key\n",
        "    return array"
      ],
      "metadata": {
        "id": "BvBtnJIWHdgR"
      },
      "execution_count": null,
      "outputs": []
    }
  ]
}