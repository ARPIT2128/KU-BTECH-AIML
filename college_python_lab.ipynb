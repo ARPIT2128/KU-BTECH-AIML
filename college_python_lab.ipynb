{
  "nbformat": 4,
  "nbformat_minor": 0,
  "metadata": {
    "colab": {
      "name": "college python lab",
      "provenance": [],
      "collapsed_sections": [],
      "include_colab_link": true
    },
    "kernelspec": {
      "name": "python3",
      "display_name": "Python 3"
    },
    "language_info": {
      "name": "python"
    }
  },
  "cells": [
    {
      "cell_type": "markdown",
      "metadata": {
        "id": "view-in-github",
        "colab_type": "text"
      },
      "source": [
        "<a href=\"https://colab.research.google.com/github/ARPIT2128/KU-BTECH-AIML/blob/main/college_python_lab.ipynb\" target=\"_parent\"><img src=\"https://colab.research.google.com/assets/colab-badge.svg\" alt=\"Open In Colab\"/></a>"
      ]
    },
    {
      "cell_type": "code",
      "source": [
        "a = int(input(\"Enter an integer\"))\n",
        "b = input(\"Enter a string:\")\n",
        "c = float(input(\"Enter a number(float):\"))\n",
        "\n",
        "print (a, \"\\t\", b, \"\\t\", c)\n",
        "\n",
        "print(type(a))\n",
        "print(type(b))\n",
        "print(type(c))\n"
      ],
      "metadata": {
        "id": "wMlITj9ohHwh",
        "colab": {
          "base_uri": "https://localhost:8080/"
        },
        "outputId": "a02e1713-249e-4317-ddb3-5e6461135feb"
      },
      "execution_count": null,
      "outputs": [
        {
          "output_type": "stream",
          "name": "stdout",
          "text": [
            "Enter an integer6\n",
            "Enter a string:shraddha\n",
            "Enter a number(float):4.5\n",
            "6 \t shraddha \t 4.5\n",
            "<class 'int'>\n",
            "<class 'str'>\n",
            "<class 'float'>\n"
          ]
        }
      ]
    },
    {
      "cell_type": "code",
      "source": [
        "import math\n",
        "x1 = int(input(\"enter x1:\"))\n",
        "y1 = int(input(\"enter y1:\"))\n",
        "x2 = int(input(\"enter x2:\"))\n",
        "y2 = int(input(\"enter y2:\"))\n",
        "\n",
        "ans= math.sqrt ((x2-x1)**2 + (y2-y1)**2)\n",
        "print(ans)\n",
        "\n"
      ],
      "metadata": {
        "colab": {
          "base_uri": "https://localhost:8080/"
        },
        "id": "-RX7TdPhWpCA",
        "outputId": "24c23511-8951-4696-e794-b8f3e685e69e"
      },
      "execution_count": 9,
      "outputs": [
        {
          "output_type": "stream",
          "name": "stdout",
          "text": [
            "enter x1:6\n",
            "enter y1:7\n",
            "enter x2:8\n",
            "enter y2:9\n",
            "2.8284271247461903\n"
          ]
        }
      ]
    },
    {
      "cell_type": "code",
      "source": [
        "num = int(input(\"enter a number\"))\n",
        "mod = num % 2\n",
        "if mod > 0:\n",
        "  print(\"This is an odd number.\")\n",
        "else:\n",
        "  print(\"This is and even number.\")  "
      ],
      "metadata": {
        "colab": {
          "base_uri": "https://localhost:8080/"
        },
        "id": "3fmfx2jBdd45",
        "outputId": "7860ee72-5649-454e-d454-90cf01900f6c"
      },
      "execution_count": 11,
      "outputs": [
        {
          "output_type": "stream",
          "name": "stdout",
          "text": [
            "enter a number5\n",
            "This is an odd number.\n"
          ]
        }
      ]
    },
    {
      "cell_type": "code",
      "source": [
        ""
      ],
      "metadata": {
        "id": "wm8OiOhWei-g"
      },
      "execution_count": null,
      "outputs": []
    },
    {
      "cell_type": "code",
      "source": [
        ""
      ],
      "metadata": {
        "id": "orSHGkLzeiKl"
      },
      "execution_count": null,
      "outputs": []
    }
  ]
}