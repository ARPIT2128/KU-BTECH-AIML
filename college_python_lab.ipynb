{
  "nbformat": 4,
  "nbformat_minor": 0,
  "metadata": {
    "colab": {
      "name": "college python lab",
      "provenance": [],
      "collapsed_sections": [],
      "include_colab_link": true
    },
    "kernelspec": {
      "name": "python3",
      "display_name": "Python 3"
    },
    "language_info": {
      "name": "python"
    }
  },
  "cells": [
    {
      "cell_type": "markdown",
      "metadata": {
        "id": "view-in-github",
        "colab_type": "text"
      },
      "source": [
        "<a href=\"https://colab.research.google.com/github/ARPIT2128/KU-BTECH-AIML/blob/main/college_python_lab.ipynb\" target=\"_parent\"><img src=\"https://colab.research.google.com/assets/colab-badge.svg\" alt=\"Open In Colab\"/></a>"
      ]
    },
    {
      "cell_type": "code",
      "source": [
        "a = int(input(\"Enter an integer\"))\n",
        "b = input(\"Enter a string:\")\n",
        "c = float(input(\"Enter a number(float):\"))\n",
        "\n",
        "print (a, \"\\t\", b, \"\\t\", c)\n",
        "\n",
        "print(type(a))\n",
        "print(type(b))\n",
        "print(type(c))\n"
      ],
      "metadata": {
        "id": "wMlITj9ohHwh",
        "colab": {
          "base_uri": "https://localhost:8080/"
        },
        "outputId": "a02e1713-249e-4317-ddb3-5e6461135feb"
      },
      "execution_count": null,
      "outputs": [
        {
          "output_type": "stream",
          "name": "stdout",
          "text": [
            "Enter an integer6\n",
            "Enter a string:shraddha\n",
            "Enter a number(float):4.5\n",
            "6 \t shraddha \t 4.5\n",
            "<class 'int'>\n",
            "<class 'str'>\n",
            "<class 'float'>\n"
          ]
        }
      ]
    },
    {
      "cell_type": "code",
      "source": [
        ""
      ],
      "metadata": {
        "id": "-RX7TdPhWpCA"
      },
      "execution_count": null,
      "outputs": []
    }
  ]
}