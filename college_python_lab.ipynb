{
  "nbformat": 4,
  "nbformat_minor": 0,
  "metadata": {
    "colab": {
      "name": "college python lab",
      "provenance": [],
      "collapsed_sections": [],
      "include_colab_link": true
    },
    "kernelspec": {
      "name": "python3",
      "display_name": "Python 3"
    },
    "language_info": {
      "name": "python"
    }
  },
  "cells": [
    {
      "cell_type": "markdown",
      "metadata": {
        "id": "view-in-github",
        "colab_type": "text"
      },
      "source": [
        "<a href=\"https://colab.research.google.com/github/ARPIT2128/KU-BTECH-AIML/blob/main/college_python_lab.ipynb\" target=\"_parent\"><img src=\"https://colab.research.google.com/assets/colab-badge.svg\" alt=\"Open In Colab\"/></a>"
      ]
    },
    {
      "cell_type": "code",
      "source": [
        "a = int(input(\"Enter an integer\"))\n",
        "b = input(\"Enter a string:\")\n",
        "c = float(input(\"Enter a number(float):\"))\n",
        "\n",
        "print (a, \"\\t\", b, \"\\t\", c)\n",
        "\n",
        "print(type(a))\n",
        "print(type(b))\n",
        "print(type(c))\n"
      ],
      "metadata": {
        "id": "wMlITj9ohHwh",
        "colab": {
          "base_uri": "https://localhost:8080/"
        },
        "outputId": "a02e1713-249e-4317-ddb3-5e6461135feb"
      },
      "execution_count": null,
      "outputs": [
        {
          "output_type": "stream",
          "name": "stdout",
          "text": [
            "Enter an integer6\n",
            "Enter a string:shraddha\n",
            "Enter a number(float):4.5\n",
            "6 \t shraddha \t 4.5\n",
            "<class 'int'>\n",
            "<class 'str'>\n",
            "<class 'float'>\n"
          ]
        }
      ]
    },
    {
      "cell_type": "code",
      "source": [
        "import math\n",
        "x1 = int(input(\"enter x1:\"))\n",
        "y1 = int(input(\"enter y1:\"))\n",
        "x2 = int(input(\"enter x2:\"))\n",
        "y2 = int(input(\"enter y2:\"))\n",
        "\n",
        "ans= math.sqrt ((x2-x1)**2 + (y2-y1)**2)\n",
        "print(ans)\n",
        "\n"
      ],
      "metadata": {
        "colab": {
          "base_uri": "https://localhost:8080/"
        },
        "id": "-RX7TdPhWpCA",
        "outputId": "24c23511-8951-4696-e794-b8f3e685e69e"
      },
      "execution_count": null,
      "outputs": [
        {
          "output_type": "stream",
          "name": "stdout",
          "text": [
            "enter x1:6\n",
            "enter y1:7\n",
            "enter x2:8\n",
            "enter y2:9\n",
            "2.8284271247461903\n"
          ]
        }
      ]
    },
    {
      "cell_type": "code",
      "source": [
        "num = int(input(\"enter a number\"))\n",
        "mod = num % 2\n",
        "if mod > 0:\n",
        "  print(\"This is an odd number.\")\n",
        "else:\n",
        "  print(\"This is and even number.\")  "
      ],
      "metadata": {
        "colab": {
          "base_uri": "https://localhost:8080/"
        },
        "id": "3fmfx2jBdd45",
        "outputId": "7860ee72-5649-454e-d454-90cf01900f6c"
      },
      "execution_count": null,
      "outputs": [
        {
          "output_type": "stream",
          "name": "stdout",
          "text": [
            "enter a number5\n",
            "This is an odd number.\n"
          ]
        }
      ]
    },
    {
      "cell_type": "code",
      "source": [
        "number = 153\n",
        "temp = number\n",
        "add_sum = 0\n",
        "while temp!= 0:\n",
        "    k = temp%10 \n",
        "    add_sum +=k*k*k\n",
        "    temp = temp//10\n",
        "if add_sum==number:\n",
        "  print('armstrong Number')\n",
        "else:\n",
        "  print('not a armstrong number')\n",
        "        "
      ],
      "metadata": {
        "colab": {
          "base_uri": "https://localhost:8080/"
        },
        "id": "wm8OiOhWei-g",
        "outputId": "7a3257e0-4ab5-4b8d-ee9b-d280c8054481"
      },
      "execution_count": null,
      "outputs": [
        {
          "output_type": "stream",
          "name": "stdout",
          "text": [
            "armstrong Number\n"
          ]
        }
      ]
    },
    {
      "cell_type": "code",
      "source": [
        "num = int(input(\"Enter your number\"))\n",
        "while(num>=0):\n",
        "  print(num)\n",
        "  num=num-1"
      ],
      "metadata": {
        "id": "orSHGkLzeiKl",
        "colab": {
          "base_uri": "https://localhost:8080/"
        },
        "outputId": "4237184d-3946-44ce-a527-3a14337e413a"
      },
      "execution_count": null,
      "outputs": [
        {
          "output_type": "stream",
          "name": "stdout",
          "text": [
            "Enter your number8\n",
            "8\n",
            "7\n",
            "6\n",
            "5\n",
            "4\n",
            "3\n",
            "2\n",
            "1\n",
            "0\n"
          ]
        }
      ]
    },
    {
      "cell_type": "code",
      "source": [
        "str=input(\"enter strinhg\")\n",
        "f = {}\n",
        "for i in str:\n",
        "  if i in f:\n",
        "     f[i] += 1\n",
        "  else:\n",
        "     f[i] = 1\n",
        "  print(f)      \n"
      ],
      "metadata": {
        "colab": {
          "base_uri": "https://localhost:8080/"
        },
        "id": "RI69oKbkh4Ml",
        "outputId": "29c6c59a-dec2-4892-ce32-a7d946794a64"
      },
      "execution_count": null,
      "outputs": [
        {
          "output_type": "stream",
          "name": "stdout",
          "text": [
            "enter strinhgwoodhouse\n",
            "{'w': 1}\n",
            "{'w': 1, 'o': 1}\n",
            "{'w': 1, 'o': 2}\n",
            "{'w': 1, 'o': 2, 'd': 1}\n",
            "{'w': 1, 'o': 2, 'd': 1, 'h': 1}\n",
            "{'w': 1, 'o': 3, 'd': 1, 'h': 1}\n",
            "{'w': 1, 'o': 3, 'd': 1, 'h': 1, 'u': 1}\n",
            "{'w': 1, 'o': 3, 'd': 1, 'h': 1, 'u': 1, 's': 1}\n",
            "{'w': 1, 'o': 3, 'd': 1, 'h': 1, 'u': 1, 's': 1, 'e': 1}\n"
          ]
        }
      ]
    },
    {
      "cell_type": "code",
      "source": [
        "list = [\"shraddha\",\"hello\",\"bye\"]\n",
        "print(list)\n",
        "tuplex = (\"shraddha\",\"hello\",\"bye\")\n",
        "print(tuplex)\n",
        "for v in list:\n",
        "  print(v)\n",
        "  for v in tuplex:\n",
        "    print(v)"
      ],
      "metadata": {
        "colab": {
          "base_uri": "https://localhost:8080/"
        },
        "id": "CkeEs30iht5B",
        "outputId": "5421e55a-bfdc-4f90-83cd-5310e7fcc176"
      },
      "execution_count": null,
      "outputs": [
        {
          "output_type": "stream",
          "name": "stdout",
          "text": [
            "['shraddha', 'hello', 'bye']\n",
            "('shraddha', 'hello', 'bye')\n",
            "shraddha\n",
            "shraddha\n",
            "hello\n",
            "bye\n",
            "hello\n",
            "shraddha\n",
            "hello\n",
            "bye\n",
            "bye\n",
            "shraddha\n",
            "hello\n",
            "bye\n"
          ]
        }
      ]
    }
  ]
}