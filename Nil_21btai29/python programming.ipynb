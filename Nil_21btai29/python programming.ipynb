{
  "nbformat": 4,
  "nbformat_minor": 0,
  "metadata": {
    "colab": {
      "name": "Untitled0.ipynb",
      "provenance": [],
      "collapsed_sections": [],
      "authorship_tag": "ABX9TyNss3G9+G4WH1n+T0i5idCf",
      "include_colab_link": true
    },
    "kernelspec": {
      "name": "python3",
      "display_name": "Python 3"
    },
    "language_info": {
      "name": "python"
    }
  },
  "cells": [
    {
      "cell_type": "markdown",
      "metadata": {
        "id": "view-in-github",
        "colab_type": "text"
      },
      "source": [
        "<a href=\"https://colab.research.google.com/github/ARPIT2128/KU-BTECH-AIML/blob/main/Nil_21btai29/python%20programming.ipynb\" target=\"_parent\"><img src=\"https://colab.research.google.com/assets/colab-badge.svg\" alt=\"Open In Colab\"/></a>"
      ]
    },
    {
      "cell_type": "code",
      "execution_count": null,
      "metadata": {
        "colab": {
          "base_uri": "https://localhost:8080/"
        },
        "id": "wQuE8ukTOkOu",
        "outputId": "d0d2226a-917a-4e45-ae11-b4be4cc53fef"
      },
      "outputs": [
        {
          "output_type": "stream",
          "name": "stdout",
          "text": [
            "type of a: <class 'int'>\n",
            "\n",
            "type of b:  <class 'float'>\n",
            "\n",
            "type of c:  <class 'complex'>\n"
          ]
        }
      ],
      "source": [
        "a=5\n",
        "print(\"type of a:\" , type(a))\n",
        "\n",
        "b=5.0\n",
        "print(\"\\ntype of b: \" ,type(b))\n",
        "\n",
        "c =2 +4j\n",
        "print(\"\\ntype of c: \",type (c))"
      ]
    },
    {
      "cell_type": "code",
      "source": [
        "\n",
        "x1 = float(input('Enter x1: '))\n",
        "y1 = float(input('Enter y1: '))\n",
        "x2 = float(input('Enter x2: '))\n",
        "y2 = float(input('Enter y2: '))\n",
        "\n",
        "d = ( (x2-x1)**2 + (y2-y1)**2 ) ** 0.5\n",
        "\n",
        "print('Distance = %f' %(d))\n"
      ],
      "metadata": {
        "colab": {
          "base_uri": "https://localhost:8080/"
        },
        "id": "VgEi7J3UavSM",
        "outputId": "8fd78c10-6af0-4e41-f342-a6030af5a0ac"
      },
      "execution_count": 1,
      "outputs": [
        {
          "output_type": "stream",
          "name": "stdout",
          "text": [
            "Enter x1: 5\n",
            "Enter y1: 56\n",
            "Enter x2: 6\n",
            "Enter y2: 60\n",
            "Distance = 4.123106\n"
          ]
        }
      ]
    },
    {
      "cell_type": "code",
      "source": [
        "#3.a)\n",
        "x = (input('Enter value:'))\n",
        "if (type(x)) == int:\n",
        "    print('The variable a number')\n",
        "else:\n",
        "    print('The variable is not a number')\n",
        "num = int(input(\"Enter a number: \"))\n",
        "mod = num % 2\n",
        "if mod > 0:\n",
        "    print(\"This is an odd number.\")\n",
        "else:\n",
        "    print(\"This is an even number.\")\n",
        "\n",
        "\n"
      ],
      "metadata": {
        "colab": {
          "base_uri": "https://localhost:8080/"
        },
        "id": "cNJQ-y3jbcdH",
        "outputId": "31c0a285-b0d9-45a8-e5fc-2656640a60ff"
      },
      "execution_count": 2,
      "outputs": [
        {
          "output_type": "stream",
          "name": "stdout",
          "text": [
            "Enter value:5\n",
            "The variable is not a number\n",
            "Enter a number: 5\n",
            "This is an odd number.\n"
          ]
        }
      ]
    },
    {
      "cell_type": "code",
      "source": [
        "#3.b)\n",
        "num = int(input(\"Enter a number: \"))\n",
        "\n",
        "sum = 0\n",
        "\n",
        "temp = num\n",
        "while temp > 0:\n",
        "   digit = temp % 10\n",
        "   sum += digit ** 3\n",
        "   temp //= 10\n",
        "\n",
        "if num == sum:\n",
        "   print(num,\"is an Armstrong number\")\n",
        "else:\n",
        "   print(num,\"is not an Armstrong number\")\n",
        "\n"
      ],
      "metadata": {
        "colab": {
          "base_uri": "https://localhost:8080/"
        },
        "id": "nn1_z5nwb5PB",
        "outputId": "e6ce65ea-f971-467b-e93e-c765295b9076"
      },
      "execution_count": 4,
      "outputs": [
        {
          "output_type": "stream",
          "name": "stdout",
          "text": [
            "Enter a number: 55\n",
            "55 is not an Armstrong number\n"
          ]
        }
      ]
    },
    {
      "cell_type": "code",
      "source": [
        "num=int(input(\"Enter your number: \"))\n",
        "\n",
        "while(num>=0):\n",
        "\n",
        "    print(num)\n",
        "\n",
        "    num=num-1\n"
      ],
      "metadata": {
        "colab": {
          "base_uri": "https://localhost:8080/"
        },
        "id": "6Y6FNvvucKhV",
        "outputId": "6e5a8eff-92e0-466d-e2c7-f89f352f7a2a"
      },
      "execution_count": 5,
      "outputs": [
        {
          "output_type": "stream",
          "name": "stdout",
          "text": [
            "Enter your number: 3\n",
            "3\n",
            "2\n",
            "1\n",
            "0\n"
          ]
        }
      ]
    },
    {
      "cell_type": "code",
      "source": [
        "print()\n",
        "\n",
        "s=input(\"Enter a string: \")\n",
        "\n",
        "print()\n",
        "d={}\n",
        "i=0\n",
        "\n",
        "for j in s:\n",
        "  d[i]=j\n",
        "  i+=1\n",
        "\n",
        "print(d)\n"
      ],
      "metadata": {
        "colab": {
          "base_uri": "https://localhost:8080/"
        },
        "id": "hI3H0558cSCK",
        "outputId": "eff6f245-861f-455c-9d0d-2406057538f3"
      },
      "execution_count": 6,
      "outputs": [
        {
          "output_type": "stream",
          "name": "stdout",
          "text": [
            "\n",
            "Enter a string: 29\n",
            "\n",
            "{0: '2', 1: '9'}\n"
          ]
        }
      ]
    },
    {
      "cell_type": "code",
      "source": [
        "print()\n",
        "\n",
        "n1=int(input(\"Enter number of items to be added in the list: \"))\n",
        "\n",
        "print()\n",
        "\n",
        "l=[]\n",
        "\n",
        "for i in range(n1):\n",
        "  l.append(input(\"Enter element: \"))\n",
        "\n",
        "print()\n",
        "\n",
        "print(\"List:\",l)\n",
        "\n",
        "print()\n",
        "\n",
        "n2 = int(input(\"Enter number of items to be added in the tuple: \"))\n",
        "\n",
        "print()\n",
        "\n",
        "t=tuple()\n",
        "\n",
        "for i in range(n2):\n",
        "  e=int(input(\"Enter element: \"))\n",
        "  t=t+(e,)\n",
        "\n",
        "print()\n",
        "\n",
        "print(\"Tuple:\",t)\n",
        "\n",
        "5"
      ],
      "metadata": {
        "colab": {
          "base_uri": "https://localhost:8080/"
        },
        "id": "MqKE4uzxcXao",
        "outputId": "786b68ca-d3b8-40c9-eeb1-d0266e5d5b16"
      },
      "execution_count": 7,
      "outputs": [
        {
          "output_type": "stream",
          "name": "stdout",
          "text": [
            "\n",
            "Enter number of items to be added in the list: 4\n",
            "\n",
            "Enter element: 2\n",
            "Enter element: 3\n",
            "Enter element: 4\n",
            "Enter element: \n",
            "\n",
            "List: ['2', '3', '4', '']\n",
            "\n",
            "Enter number of items to be added in the tuple: 6\n",
            "\n",
            "Enter element: 1\n",
            "Enter element: 2\n",
            "Enter element: 5\n",
            "Enter element: 8\n",
            "Enter element: 6\n",
            "Enter element: 9\n",
            "\n",
            "Tuple: (1, 2, 5, 8, 6, 9)\n"
          ]
        }
      ]
    }
  ]
}