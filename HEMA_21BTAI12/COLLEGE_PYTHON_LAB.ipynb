{
  "nbformat": 4,
  "nbformat_minor": 0,
  "metadata": {
    "colab": {
      "name": "Untitled1.ipynb",
      "provenance": [],
      "collapsed_sections": [],
      "authorship_tag": "ABX9TyMclp/1YMhkvNlxkyaKx9RP",
      "include_colab_link": true
    },
    "kernelspec": {
      "name": "python3",
      "display_name": "Python 3"
    },
    "language_info": {
      "name": "python"
    }
  },
  "cells": [
    {
      "cell_type": "markdown",
      "metadata": {
        "id": "view-in-github",
        "colab_type": "text"
      },
      "source": [
        "<a href=\"https://colab.research.google.com/github/ARPIT2128/KU-BTECH-AIML/blob/main/HEMA_21BTAI12/COLLEGE_PYTHON_LAB.ipynb\" target=\"_parent\"><img src=\"https://colab.research.google.com/assets/colab-badge.svg\" alt=\"Open In Colab\"/></a>"
      ]
    },
    {
      "cell_type": "code",
      "execution_count": 1,
      "metadata": {
        "colab": {
          "base_uri": "https://localhost:8080/"
        },
        "id": "k4mNV_H5lu02",
        "outputId": "9a371499-6173-44fb-f9a2-53bdb1edbc80"
      },
      "outputs": [
        {
          "output_type": "stream",
          "name": "stdout",
          "text": [
            "type of a:  <class 'int'>\n",
            "\n",
            " type of b:  <class 'float'>\n",
            "\n",
            " type of c:  <class 'complex'>\n"
          ]
        }
      ],
      "source": [
        "a=29\n",
        "print(\"type of a: \",type(a))\n",
        "b=87.0\n",
        "print(\"\\n type of b: \",type(b))\n",
        "c=8+1j\n",
        "print(\"\\n type of c: \",type(c))"
      ]
    },
    {
      "cell_type": "code",
      "source": [
        "a1=float(input('Enter a1: '))\n",
        "b1=float(input('Enter b1: '))\n",
        "a2=float(input('Enter a2: '))\n",
        "b2=float(input('Enter b2: '))\n",
        "d=((a2-a1)**2 + (b2-b1)**2)**0.5\n",
        "print('\\n Diatance= %f' %(d))"
      ],
      "metadata": {
        "colab": {
          "base_uri": "https://localhost:8080/"
        },
        "id": "34g4lh6tl2sQ",
        "outputId": "4ee55151-15ac-44fa-f2b8-eba502c40a03"
      },
      "execution_count": 2,
      "outputs": [
        {
          "output_type": "stream",
          "name": "stdout",
          "text": [
            "Enter a1: 2\n",
            "Enter b1: 3\n",
            "Enter a2: 4\n",
            "Enter b2: 5\n",
            "\n",
            " Diatance= 2.828427\n"
          ]
        }
      ]
    },
    {
      "cell_type": "code",
      "source": [
        "x=(input('Enter value: '))\n",
        "if (type(x)) == int:\n",
        "  print('The variable is a number')\n",
        "else:\n",
        "  print('The variable is not anumber')\n",
        "num = int(input('Enter a number: '))\n",
        "mod = num%2\n",
        "if mod>0:\n",
        "  print(\"This is an odd number\")\n",
        "else:\n",
        "  print(\"This is an even number\")"
      ],
      "metadata": {
        "colab": {
          "base_uri": "https://localhost:8080/"
        },
        "id": "Aim1T442mnVd",
        "outputId": "b1f561d4-3d84-4703-86de-b500c8fbb78d"
      },
      "execution_count": 3,
      "outputs": [
        {
          "output_type": "stream",
          "name": "stdout",
          "text": [
            "Enter value: 3\n",
            "The variable is not anumber\n",
            "Enter a number: 42\n",
            "This is an even number\n"
          ]
        }
      ]
    },
    {
      "cell_type": "code",
      "source": [
        "num = int(input(\"Enter a number: \"))\n",
        "sum = 0\n",
        "temp = num\n",
        "while temp > 0:\n",
        "  digit=temp%10\n",
        "  sum+=digit**3\n",
        "  temp//=10\n",
        "if num == sum:\n",
        "  print(\"The number is an armstrong number.\")\n",
        "else:\n",
        "  print(\"The number is not an armstrong number.\")"
      ],
      "metadata": {
        "colab": {
          "base_uri": "https://localhost:8080/"
        },
        "id": "e22ua8XPm05P",
        "outputId": "2a224b48-9ef4-4aea-e098-ccfb43984d37"
      },
      "execution_count": 4,
      "outputs": [
        {
          "output_type": "stream",
          "name": "stdout",
          "text": [
            "Enter a number: 123\n",
            "The number is not an armstrong number.\n"
          ]
        }
      ]
    },
    {
      "cell_type": "code",
      "source": [
        "num=int(input(\"Enter your number: \"))\n",
        "while(num>=0):\n",
        "  print(num)\n",
        "  num=num-1"
      ],
      "metadata": {
        "colab": {
          "base_uri": "https://localhost:8080/"
        },
        "id": "jinjGoShm-Yu",
        "outputId": "63fda931-067d-47f6-bb50-e156fd0df067"
      },
      "execution_count": 5,
      "outputs": [
        {
          "output_type": "stream",
          "name": "stdout",
          "text": [
            "Enter your number: 7\n",
            "7\n",
            "6\n",
            "5\n",
            "4\n",
            "3\n",
            "2\n",
            "1\n",
            "0\n"
          ]
        }
      ]
    },
    {
      "cell_type": "code",
      "source": [
        "print()\n",
        "s=input(\"Enter a string: \")\n",
        "print()\n",
        "d={}\n",
        "i=0\n",
        "for j in s:\n",
        "  d[i]=j\n",
        "  i+=1\n",
        "print(d)"
      ],
      "metadata": {
        "colab": {
          "base_uri": "https://localhost:8080/"
        },
        "id": "Dio589jhnFtL",
        "outputId": "1719c1f1-fe43-4eb5-a7b4-89fb74536bbe"
      },
      "execution_count": 6,
      "outputs": [
        {
          "output_type": "stream",
          "name": "stdout",
          "text": [
            "\n",
            "Enter a string: 45\n",
            "\n",
            "{0: '4', 1: '5'}\n"
          ]
        }
      ]
    },
    {
      "cell_type": "code",
      "source": [
        "print()\n",
        "n1=int(input(\"Enter number of items to be added in the list: \"))\n",
        "print()\n",
        "1=[]\n",
        "for i in range(n1):\n",
        " 1.append(input(\"Enter element: \"))\n",
        "print()\n",
        "print(\"List: \",1)\n",
        "print()\n",
        "n2=int(input(\"Enter number of items to be added in the tuple: \"))\n",
        "print()\n",
        "t=tuple()\n",
        "for i in range(n2):\n",
        "  e=int(input(\"Enter element: \"))\n",
        "  t=t*(e)\n",
        "print()\n",
        "print(\"Tuple: \",t)"
      ],
      "metadata": {
        "id": "FNMkwrPznhGl"
      },
      "execution_count": null,
      "outputs": []
    }
  ]
}