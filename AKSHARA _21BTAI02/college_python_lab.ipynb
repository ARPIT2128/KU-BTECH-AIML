{
  "nbformat": 4,
  "nbformat_minor": 0,
  "metadata": {
    "colab": {
      "name": "college python lab",
      "provenance": [],
      "collapsed_sections": [],
      "authorship_tag": "ABX9TyNpxsqtNvTbda7cvNhRE71q",
      "include_colab_link": true
    },
    "kernelspec": {
      "name": "python3",
      "display_name": "Python 3"
    },
    "language_info": {
      "name": "python"
    }
  },
  "cells": [
    {
      "cell_type": "markdown",
      "metadata": {
        "id": "view-in-github",
        "colab_type": "text"
      },
      "source": [
        "<a href=\"https://colab.research.google.com/github/ARPIT2128/KU-BTECH-AIML/blob/main/AKSHARA%20_21BTAI02/college_python_lab.ipynb\" target=\"_parent\"><img src=\"https://colab.research.google.com/assets/colab-badge.svg\" alt=\"Open In Colab\"/></a>"
      ]
    },
    {
      "cell_type": "code",
      "source": [
        ""
      ],
      "metadata": {
        "id": "wMlITj9ohHwh"
      },
      "execution_count": null,
      "outputs": []
    },
    {
      "cell_type": "code",
      "execution_count": null,
      "metadata": {
        "colab": {
          "base_uri": "https://localhost:8080/"
        },
        "id": "QPBLWuMmVxk8",
        "outputId": "7bba9201-e606-48fc-c5fe-eae4da2e1dda"
      },
      "outputs": [
        {
          "output_type": "stream",
          "name": "stdout",
          "text": [
            "enter your nameakshara\n",
            "akshara\n",
            "7\n"
          ]
        }
      ],
      "source": [
        "name=input(\"enter your name\")\n",
        "print(name)\n",
        "print(len(name))"
      ]
    },
    {
      "cell_type": "code",
      "source": [
        "p=str(input(\"enter a string\"))\n",
        "b={}\n",
        "for i in p:\n",
        "   b[i]=p.count(i)\n",
        "print(b)"
      ],
      "metadata": {
        "colab": {
          "base_uri": "https://localhost:8080/"
        },
        "id": "MfzUJNsNgXzj",
        "outputId": "9ff963f1-9fe9-444a-c4db-bbf28e722ca0"
      },
      "execution_count": null,
      "outputs": [
        {
          "output_type": "stream",
          "name": "stdout",
          "text": [
            "enter a stringakshara\n",
            "{'a': 3, 'k': 1, 's': 1, 'h': 1, 'r': 1}\n"
          ]
        }
      ]
    },
    {
      "cell_type": "markdown",
      "source": [
        ""
      ],
      "metadata": {
        "id": "Qu6sAQZxat7-"
      }
    },
    {
      "cell_type": "markdown",
      "source": [
        ""
      ],
      "metadata": {
        "id": "y38Gpta7V4Gm"
      }
    },
    {
      "cell_type": "code",
      "source": [
        "my_list=[4,[\"hello\",\"world\"],[3.4,8.1]]\n",
        "print(my_list)\n",
        "print(my_list[-2:-1])\n",
        "my_list[1][0]=\"namaste\"\n",
        "print(my_list)\n"
      ],
      "metadata": {
        "colab": {
          "base_uri": "https://localhost:8080/"
        },
        "id": "A4nYqC1VWMz2",
        "outputId": "9ba0b32a-56fd-4083-82df-fd973e2670df"
      },
      "execution_count": null,
      "outputs": [
        {
          "output_type": "stream",
          "name": "stdout",
          "text": [
            "[4, ['hello', 'world'], [3.4, 8.1]]\n",
            "[['hello', 'world']]\n",
            "[4, ['namaste', 'world'], [3.4, 8.1]]\n"
          ]
        }
      ]
    },
    {
      "cell_type": "code",
      "source": [
        "odd=[3,5,7,9]\n",
        "odd.append(11)\n",
        "odd.extend([13,15,17])\n",
        "print(odd)\n"
      ],
      "metadata": {
        "colab": {
          "base_uri": "https://localhost:8080/",
          "height": 235
        },
        "id": "3LJl5f8abQWH",
        "outputId": "f68f2a17-03cd-41e0-8c2a-d2ef2fc26a31"
      },
      "execution_count": null,
      "outputs": [
        {
          "output_type": "stream",
          "name": "stdout",
          "text": [
            "[3, 5, 7, 9, 11, 13, 15, 17]\n"
          ]
        },
        {
          "output_type": "error",
          "ename": "AttributeError",
          "evalue": "ignored",
          "traceback": [
            "\u001b[0;31m---------------------------------------------------------------------------\u001b[0m",
            "\u001b[0;31mAttributeError\u001b[0m                            Traceback (most recent call last)",
            "\u001b[0;32m<ipython-input-126-765aa148be49>\u001b[0m in \u001b[0;36m<module>\u001b[0;34m()\u001b[0m\n\u001b[1;32m      3\u001b[0m \u001b[0modd\u001b[0m\u001b[0;34m.\u001b[0m\u001b[0mextend\u001b[0m\u001b[0;34m(\u001b[0m\u001b[0;34m[\u001b[0m\u001b[0;36m13\u001b[0m\u001b[0;34m,\u001b[0m\u001b[0;36m15\u001b[0m\u001b[0;34m,\u001b[0m\u001b[0;36m17\u001b[0m\u001b[0;34m]\u001b[0m\u001b[0;34m)\u001b[0m\u001b[0;34m\u001b[0m\u001b[0;34m\u001b[0m\u001b[0m\n\u001b[1;32m      4\u001b[0m \u001b[0mprint\u001b[0m\u001b[0;34m(\u001b[0m\u001b[0modd\u001b[0m\u001b[0;34m)\u001b[0m\u001b[0;34m\u001b[0m\u001b[0;34m\u001b[0m\u001b[0m\n\u001b[0;32m----> 5\u001b[0;31m \u001b[0modd\u001b[0m\u001b[0;34m.\u001b[0m\u001b[0menumerate\u001b[0m\u001b[0;34m(\u001b[0m\u001b[0;34m)\u001b[0m\u001b[0;34m\u001b[0m\u001b[0;34m\u001b[0m\u001b[0m\n\u001b[0m\u001b[1;32m      6\u001b[0m \u001b[0mprint\u001b[0m\u001b[0;34m(\u001b[0m\u001b[0modd\u001b[0m\u001b[0;34m)\u001b[0m\u001b[0;34m\u001b[0m\u001b[0;34m\u001b[0m\u001b[0m\n",
            "\u001b[0;31mAttributeError\u001b[0m: 'list' object has no attribute 'enumerate'"
          ]
        }
      ]
    },
    {
      "cell_type": "code",
      "source": [
        "new=[1,2,3,4]\n",
        "print(new+[5,6,7])\n",
        "print(new*3)\n",
        "new.insert(4,5)\n",
        "print(new)\n",
        "new[2:4]=[5,7]\n",
        "print(new)\n",
        "new.remove(5)\n",
        "new.pop(0)\n",
        "print(new)\n",
        "print(new.index(2))\n",
        "new.extend([3,5,6,7,2])\n",
        "print(new)\n",
        "print(new.count(2))\n",
        "new.sort()\n",
        "print(new)\n",
        "new.copy()\n",
        "print(new)\n",
        "print(min(new))\n",
        "print(max(new))\n",
        "print(sum(new))"
      ],
      "metadata": {
        "colab": {
          "base_uri": "https://localhost:8080/"
        },
        "id": "jYRFCperb4ao",
        "outputId": "6c293a5e-b1cb-43df-bd8c-25eb9daa1fd5"
      },
      "execution_count": null,
      "outputs": [
        {
          "output_type": "stream",
          "name": "stdout",
          "text": [
            "[1, 2, 3, 4, 5, 6, 7]\n",
            "[1, 2, 3, 4, 1, 2, 3, 4, 1, 2, 3, 4]\n",
            "[1, 2, 3, 4, 5]\n",
            "[1, 2, 5, 7, 5]\n",
            "[2, 7, 5]\n",
            "0\n",
            "[2, 7, 5, 3, 5, 6, 7, 2]\n",
            "2\n",
            "[2, 2, 3, 5, 5, 6, 7, 7]\n",
            "[2, 2, 3, 5, 5, 6, 7, 7]\n",
            "2\n",
            "7\n",
            "37\n"
          ]
        }
      ]
    },
    {
      "cell_type": "code",
      "source": [
        "a=True\n",
        "b=False\n",
        "c=b=a\n",
        "print(c)"
      ],
      "metadata": {
        "colab": {
          "base_uri": "https://localhost:8080/"
        },
        "id": "SrzLOseviaEz",
        "outputId": "9742783f-f734-4184-bb76-64f684102f2d"
      },
      "execution_count": null,
      "outputs": [
        {
          "output_type": "stream",
          "name": "stdout",
          "text": [
            "True\n"
          ]
        }
      ]
    },
    {
      "cell_type": "code",
      "source": [
        "a=[2,3,4]\n",
        "b=bytes(a)\n",
        "print(b)\n",
        "print(b[1])\n",
        "c=bytearray(a)\n",
        "print(c)\n",
        "c[1]=1\n",
        "print(c[1])"
      ],
      "metadata": {
        "colab": {
          "base_uri": "https://localhost:8080/"
        },
        "id": "pv55jyY4i3nv",
        "outputId": "6e6a78f7-b426-4ee8-cd2f-3069fecde33e"
      },
      "execution_count": null,
      "outputs": [
        {
          "output_type": "stream",
          "name": "stdout",
          "text": [
            "b'\\x02\\x03\\x04'\n",
            "3\n",
            "bytearray(b'\\x02\\x03\\x04')\n",
            "1\n"
          ]
        }
      ]
    },
    {
      "cell_type": "code",
      "source": [
        "d=(1,2,3,4,4,4,4)\n",
        "print(type(d))\n",
        "print(d[1])\n",
        "print(d.count(4))\n",
        "print(d.index(4))"
      ],
      "metadata": {
        "colab": {
          "base_uri": "https://localhost:8080/"
        },
        "id": "e7u0xncAkRZY",
        "outputId": "9366e82d-37f4-4370-fc24-fb9379ca3228"
      },
      "execution_count": null,
      "outputs": [
        {
          "output_type": "stream",
          "name": "stdout",
          "text": [
            "<class 'tuple'>\n",
            "2\n",
            "4\n",
            "3\n"
          ]
        }
      ]
    },
    {
      "cell_type": "code",
      "source": [
        "a={1,2,3,4}\n",
        "print(a)\n",
        "print(type(a))"
      ],
      "metadata": {
        "colab": {
          "base_uri": "https://localhost:8080/"
        },
        "id": "1mXig-hFmW0a",
        "outputId": "e866b182-bf00-4c48-adef-2fe7f1782418"
      },
      "execution_count": null,
      "outputs": [
        {
          "output_type": "stream",
          "name": "stdout",
          "text": [
            "{1, 2, 3, 4}\n",
            "<class 'set'>\n"
          ]
        }
      ]
    },
    {
      "cell_type": "code",
      "source": [
        "b=({1,2,3,4})\n",
        "print(b)\n",
        "print(type(b))"
      ],
      "metadata": {
        "colab": {
          "base_uri": "https://localhost:8080/"
        },
        "id": "G_bA6BLlmdaJ",
        "outputId": "4862214f-dc9d-422e-9c9b-ce1486258fa7"
      },
      "execution_count": null,
      "outputs": [
        {
          "output_type": "stream",
          "name": "stdout",
          "text": [
            "{1, 2, 3, 4}\n",
            "<class 'set'>\n"
          ]
        }
      ]
    },
    {
      "cell_type": "code",
      "source": [
        "key=[1,2,3]\n",
        "value=[\"hii\",'aagam','intelligent']\n",
        "a=dict(zip(key,value))\n",
        "print(a)"
      ],
      "metadata": {
        "colab": {
          "base_uri": "https://localhost:8080/"
        },
        "id": "xdTDZdkHnOHt",
        "outputId": "15c64a48-9335-439e-c245-334fe71a3048"
      },
      "execution_count": null,
      "outputs": [
        {
          "output_type": "stream",
          "name": "stdout",
          "text": [
            "{1: 'hii', 2: 'aagam', 3: 'intelligent'}\n"
          ]
        }
      ]
    },
    {
      "cell_type": "code",
      "source": [
        "a={1,2,3,5,3}\n",
        "a.add(5)\n",
        "a.remove(2)\n",
        "a.update([1,2,3],{11,23,12})\n",
        "a.discard(56)\n",
        "a.remove(3)\n",
        "print(a)\n",
        "print(a.pop())\n",
        "print(a.pop())\n"
      ],
      "metadata": {
        "colab": {
          "base_uri": "https://localhost:8080/"
        },
        "id": "YF-3H4Aln24-",
        "outputId": "00a606f8-3433-4305-babd-26efc6434642"
      },
      "execution_count": null,
      "outputs": [
        {
          "output_type": "stream",
          "name": "stdout",
          "text": [
            "{1, 2, 5, 23, 11, 12}\n",
            "1\n",
            "2\n"
          ]
        }
      ]
    },
    {
      "cell_type": "code",
      "source": [
        "a=({1,2,5,3,4})\n",
        "b=({4,5,6,7})\n",
        "print(a^b)\n",
        "print(a-b)\n",
        "print(a&b)\n",
        "print(a|b)\n",
        "print(5 in a)\n",
        "print(a.isdisjoint(b))\n"
      ],
      "metadata": {
        "colab": {
          "base_uri": "https://localhost:8080/"
        },
        "id": "cmliO5HXrEDp",
        "outputId": "33ccdd4e-9ecb-4327-f6ec-12f306f7643b"
      },
      "execution_count": null,
      "outputs": [
        {
          "output_type": "stream",
          "name": "stdout",
          "text": [
            "{1, 2, 3, 6, 7}\n",
            "{1, 2, 3}\n",
            "{4, 5}\n",
            "{1, 2, 3, 4, 5, 6, 7}\n",
            "True\n",
            "False\n",
            "<enumerate object at 0x7f9e05d50320>\n"
          ]
        }
      ]
    },
    {
      "cell_type": "code",
      "source": [
        "a=set()\n",
        "b={}\n",
        "print(type(b))"
      ],
      "metadata": {
        "colab": {
          "base_uri": "https://localhost:8080/"
        },
        "id": "y50lzG5go48X",
        "outputId": "7ea511b7-06d5-479c-975c-3bdbd11585f2"
      },
      "execution_count": null,
      "outputs": [
        {
          "output_type": "stream",
          "name": "stdout",
          "text": [
            "<class 'dict'>\n"
          ]
        }
      ]
    },
    {
      "cell_type": "code",
      "source": [
        "my_dict = {'a': 'apple', 'b': 'bat', 'c': 'car'}\n",
        "print(my_dict)\n",
        "\n"
      ],
      "metadata": {
        "colab": {
          "base_uri": "https://localhost:8080/"
        },
        "id": "CJtjUaEjhI93",
        "outputId": "af297700-bcb4-4ade-a767-98190f880c1e"
      },
      "execution_count": null,
      "outputs": [
        {
          "output_type": "stream",
          "name": "stdout",
          "text": [
            "{'a': 'apple', 'b': 'bat', 'c': 'car'}\n"
          ]
        }
      ]
    },
    {
      "cell_type": "markdown",
      "source": [
        "\n",
        "\n"
      ],
      "metadata": {
        "id": "1LKHR_rOhJc1"
      }
    }
  ]
}