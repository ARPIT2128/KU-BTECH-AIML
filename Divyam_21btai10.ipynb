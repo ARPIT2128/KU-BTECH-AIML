{
  "cells": [
    {
      "cell_type": "markdown",
      "metadata": {
        "id": "view-in-github",
        "colab_type": "text"
      },
      "source": [
        "<a href=\"https://colab.research.google.com/github/ARPIT2128/KU-BTECH-AIML/blob/main/Divyam_21btai10.ipynb\" target=\"_parent\"><img src=\"https://colab.research.google.com/assets/colab-badge.svg\" alt=\"Open In Colab\"/></a>"
      ]
    },
    {
      "cell_type": "code",
      "source": [
        "x1 = float(input(\"Give value of x1 :\"))\n",
        "x2 = float(input(\"Give value of x2 :\"))\n",
        "y1 = float(input(\"Give value of y1 :\"))\n",
        "y2 = float(input(\"Give value of y2 :\"))\n",
        "\n",
        "dist=(x1-y1**2)+(y1-y2**2)\n",
        "print(\"your answer\",dist)\n",
        "\n",
        "\n"
      ],
      "metadata": {
        "id": "Fv2PLF33bW9u",
        "outputId": "b241625d-a645-43da-bd61-af55129c21a2",
        "colab": {
          "base_uri": "https://localhost:8080/"
        }
      },
      "execution_count": 1,
      "outputs": [
        {
          "output_type": "stream",
          "name": "stdout",
          "text": [
            "Give value of x1 :34\n",
            "Give value of x2 :45\n",
            "Give value of y1 :56\n",
            "Give value of y2 :78\n",
            "your answer -9130.0\n"
          ]
        }
      ]
    }
  ],
  "metadata": {
    "colab": {
      "collapsed_sections": [],
      "name": "Welcome To Colaboratory",
      "toc_visible": true,
      "provenance": [],
      "include_colab_link": true
    },
    "kernelspec": {
      "display_name": "Python 3",
      "name": "python3"
    }
  },
  "nbformat": 4,
  "nbformat_minor": 0
}