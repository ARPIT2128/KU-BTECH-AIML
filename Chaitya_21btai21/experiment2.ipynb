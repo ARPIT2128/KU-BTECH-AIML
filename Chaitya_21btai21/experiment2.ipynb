{
  "nbformat": 4,
  "nbformat_minor": 0,
  "metadata": {
    "colab": {
      "name": "Untitled0.ipynb",
      "provenance": [],
      "toc_visible": true,
      "authorship_tag": "ABX9TyOxWiEBIQarjAFB0mjXfJ0B",
      "include_colab_link": true
    },
    "kernelspec": {
      "name": "python3",
      "display_name": "Python 3"
    },
    "language_info": {
      "name": "python"
    }
  },
  "cells": [
    {
      "cell_type": "markdown",
      "metadata": {
        "id": "view-in-github",
        "colab_type": "text"
      },
      "source": [
        "<a href=\"https://colab.research.google.com/github/ARPIT2128/KU-BTECH-AIML/blob/main/Chaitya_21btai21/experiment2.ipynb\" target=\"_parent\"><img src=\"https://colab.research.google.com/assets/colab-badge.svg\" alt=\"Open In Colab\"/></a>"
      ]
    },
    {
      "cell_type": "code",
      "source": [
        "#Write a program to demonstrate basic data type and purposefully raise indentation error along with its correction.\n",
        "\n",
        "#Input-->\n",
        "x=9\n",
        "print(\"type of x:\",type (x))\n",
        "y=7.0\n",
        "print(\"\\n type of y:\",type (y))\n",
        "z=2+4j\n",
        "print(\"\\n type of z:\",type (z))\n"
      ],
      "metadata": {
        "colab": {
          "base_uri": "https://localhost:8080/"
        },
        "id": "I3wp7XirZ3yT",
        "outputId": "bbc15ba8-bdb4-4117-efa0-e4a8a2cd0e13"
      },
      "execution_count": 2,
      "outputs": [
        {
          "output_type": "stream",
          "name": "stdout",
          "text": [
            "type of x: <class 'int'>\n",
            "\n",
            " type of y: <class 'float'>\n",
            "\n",
            " type of z: <class 'complex'>\n"
          ]
        }
      ]
    }
  ]
}