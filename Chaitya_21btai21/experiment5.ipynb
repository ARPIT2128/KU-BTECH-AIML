{
  "nbformat": 4,
  "nbformat_minor": 0,
  "metadata": {
    "colab": {
      "name": "Untitled0.ipynb",
      "provenance": [],
      "toc_visible": true,
      "authorship_tag": "ABX9TyMUktM44pIS13tX4wIlsfAj",
      "include_colab_link": true
    },
    "kernelspec": {
      "name": "python3",
      "display_name": "Python 3"
    },
    "language_info": {
      "name": "python"
    }
  },
  "cells": [
    {
      "cell_type": "markdown",
      "metadata": {
        "id": "view-in-github",
        "colab_type": "text"
      },
      "source": [
        "<a href=\"https://colab.research.google.com/github/ARPIT2128/KU-BTECH-AIML/blob/main/Chaitya_21btai21/experiment5.ipynb\" target=\"_parent\"><img src=\"https://colab.research.google.com/assets/colab-badge.svg\" alt=\"Open In Colab\"/></a>"
      ]
    },
    {
      "cell_type": "code",
      "source": [
        "#Write a program to count the number of characters in the string and store them in a dictionary data structure.\n",
        "\n",
        "#Input-->\n",
        "print()\n",
        "\n",
        "s=input(\"Enter a string: \")\n",
        "\n",
        "print()\n",
        "d={}\n",
        "i=0\n",
        "\n",
        "for j in s:\n",
        "  d[i]=j\n",
        "  i+=1\n",
        "\n",
        "print(d)"
      ],
      "metadata": {
        "colab": {
          "base_uri": "https://localhost:8080/"
        },
        "id": "Z-POs4ZjfqJC",
        "outputId": "81b6d858-8301-4518-d815-c29dfb1aca64"
      },
      "execution_count": 6,
      "outputs": [
        {
          "output_type": "stream",
          "name": "stdout",
          "text": [
            "\n",
            "Enter a string: 25\n",
            "\n",
            "{0: '2', 1: '5'}\n"
          ]
        }
      ]
    }
  ]
}