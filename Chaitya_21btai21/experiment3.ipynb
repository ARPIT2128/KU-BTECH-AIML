{
  "nbformat": 4,
  "nbformat_minor": 0,
  "metadata": {
    "colab": {
      "name": "Untitled0.ipynb",
      "provenance": [],
      "toc_visible": true,
      "authorship_tag": "ABX9TyNdQJ/3NvRKpYpQ80JKAzXZ",
      "include_colab_link": true
    },
    "kernelspec": {
      "name": "python3",
      "display_name": "Python 3"
    },
    "language_info": {
      "name": "python"
    }
  },
  "cells": [
    {
      "cell_type": "markdown",
      "metadata": {
        "id": "view-in-github",
        "colab_type": "text"
      },
      "source": [
        "<a href=\"https://colab.research.google.com/github/ARPIT2128/KU-BTECH-AIML/blob/main/Chaitya_21btai21/experiment3.ipynb\" target=\"_parent\"><img src=\"https://colab.research.google.com/assets/colab-badge.svg\" alt=\"Open In Colab\"/></a>"
      ]
    },
    {
      "cell_type": "code",
      "source": [
        "#(a)Write a program for checking given number is even or not.\n",
        "\n",
        "#Input-->\n",
        "x = (input('Enter value:'))\n",
        "if (type(x)) == int:\n",
        "    print('The variable a number')\n",
        "else:\n",
        "    print('The variable is not a number')\n",
        "num = int(input(\"Enter a number: \"))\n",
        "mod = num % 2\n",
        "if mod > 0:\n",
        "    print(\"This is an odd number.\")\n",
        "else:\n",
        "    print(\"This is an even number.\")\n"
      ],
      "metadata": {
        "colab": {
          "base_uri": "https://localhost:8080/"
        },
        "id": "TUclBEfGc7P5",
        "outputId": "75c542f5-0d58-49bd-86b9-d5428a31f44c"
      },
      "execution_count": 3,
      "outputs": [
        {
          "output_type": "stream",
          "name": "stdout",
          "text": [
            "Enter value:31\n",
            "The variable is not a number\n",
            "Enter a number: 33\n",
            "This is an odd number.\n"
          ]
        }
      ]
    },
    {
      "cell_type": "code",
      "source": [
        "#(b)Write a program to check given number is Armstrong number or not.\n",
        "\n",
        "#Input-->\n",
        "num = int(input(\"Enter a number: \"))\n",
        "\n",
        "sum = 0\n",
        "\n",
        "temp = num\n",
        "while temp > 0:\n",
        "   digit = temp % 10\n",
        "   sum += digit ** 3\n",
        "   temp //= 10\n",
        "\n",
        "if num == sum:\n",
        "   print(num,\"is an Armstrong number\")\n",
        "else:\n",
        "   print(num,\"is not an Armstrong number\")\n"
      ],
      "metadata": {
        "colab": {
          "base_uri": "https://localhost:8080/"
        },
        "id": "LW4qm3ajdIrA",
        "outputId": "be026458-0141-4016-d127-05a62cafda01"
      },
      "execution_count": 4,
      "outputs": [
        {
          "output_type": "stream",
          "name": "stdout",
          "text": [
            "Enter a number: 22\n",
            "22 is not an Armstrong number\n"
          ]
        }
      ]
    }
  ]
}