{
  "nbformat": 4,
  "nbformat_minor": 0,
  "metadata": {
    "colab": {
      "name": "Untitled0.ipynb",
      "provenance": [],
      "toc_visible": true,
      "authorship_tag": "ABX9TyNw0RqxZGrJntwfb1uTTp6C",
      "include_colab_link": true
    },
    "kernelspec": {
      "name": "python3",
      "display_name": "Python 3"
    },
    "language_info": {
      "name": "python"
    }
  },
  "cells": [
    {
      "cell_type": "markdown",
      "metadata": {
        "id": "view-in-github",
        "colab_type": "text"
      },
      "source": [
        "<a href=\"https://colab.research.google.com/github/ARPIT2128/KU-BTECH-AIML/blob/main/Chaitya_21btai21/experiment1.ipynb\" target=\"_parent\"><img src=\"https://colab.research.google.com/assets/colab-badge.svg\" alt=\"Open In Colab\"/></a>"
      ]
    },
    {
      "cell_type": "code",
      "execution_count": 1,
      "metadata": {
        "colab": {
          "base_uri": "https://localhost:8080/"
        },
        "id": "s2UL17-6XgE7",
        "outputId": "6f1e7bc7-50b2-4cde-fdb4-4f76fc171a41"
      },
      "outputs": [
        {
          "output_type": "stream",
          "name": "stdout",
          "text": [
            "Enter x1: 5\n",
            "Enter y1: 6\n",
            "Enter x2: 7\n",
            "Enter y2: 8\n",
            "Distance = 2.828427\n"
          ]
        }
      ],
      "source": [
        "#Write a program to compute Distance between two points taking input from the users.\n",
        " \n",
        "#Input--> \n",
        "x1 = float(input('Enter x1: '))\n",
        "y1 = float(input('Enter y1: '))\n",
        "x2 = float(input('Enter x2: '))\n",
        "y2 = float(input('Enter y2: '))\n",
        "\n",
        "# Calculating distance\n",
        "d = ( (x2-x1)**2 + (y2-y1)**2 ) ** 0.5\n",
        "\n",
        "# Displaying result\n",
        "print('Distance = %f' %(d))"
      ]
    }
  ]
}