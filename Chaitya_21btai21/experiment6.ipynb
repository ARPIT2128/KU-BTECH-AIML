{
  "nbformat": 4,
  "nbformat_minor": 0,
  "metadata": {
    "colab": {
      "name": "Untitled0.ipynb",
      "provenance": [],
      "toc_visible": true,
      "authorship_tag": "ABX9TyPXyQ1R6rGkvAcZL1xSBF2L",
      "include_colab_link": true
    },
    "kernelspec": {
      "name": "python3",
      "display_name": "Python 3"
    },
    "language_info": {
      "name": "python"
    }
  },
  "cells": [
    {
      "cell_type": "markdown",
      "metadata": {
        "id": "view-in-github",
        "colab_type": "text"
      },
      "source": [
        "<a href=\"https://colab.research.google.com/github/ARPIT2128/KU-BTECH-AIML/blob/main/Chaitya_21btai21/experiment6.ipynb\" target=\"_parent\"><img src=\"https://colab.research.google.com/assets/colab-badge.svg\" alt=\"Open In Colab\"/></a>"
      ]
    },
    {
      "cell_type": "code",
      "source": [
        "#Write a program to demonstrate list and tuple in python. Write a program using a for loop over a sequence.\n",
        "\n",
        "#Input-->\n",
        "print()\n",
        "\n",
        "n1=int(input(\"Enter number of items to be added in the list: \"))\n",
        "\n",
        "print()\n",
        "\n",
        "l=[]\n",
        "\n",
        "for i in range(n1):\n",
        "  l.append(input(\"Enter element: \"))\n",
        "\n",
        "print()\n",
        "\n",
        "print(\"List:\",l)\n",
        "\n",
        "print()\n",
        "\n",
        "n2 = int(input(\"Enter number of items to be added in the tuple: \"))\n",
        "\n",
        "print()\n",
        "\n",
        "t=tuple()\n",
        "\n",
        "for i in range(n2):\n",
        "  e=int(input(\"Enter element: \"))\n",
        "  t=t+(e,)\n",
        "\n",
        "print()\n",
        "\n",
        "print(\"Tuple:\",t)\n"
      ],
      "metadata": {
        "colab": {
          "base_uri": "https://localhost:8080/"
        },
        "id": "ir7qQARwgDkU",
        "outputId": "535d7af3-e0e6-48d1-ea7b-b973567729bb"
      },
      "execution_count": null,
      "outputs": [
        {
          "output_type": "stream",
          "name": "stdout",
          "text": [
            "\n",
            "Enter number of items to be added in the list: 3\n",
            "\n",
            "Enter element: 5\n",
            "Enter element: 6\n",
            "Enter element: 7\n",
            "\n",
            "List: ['5', '6', '7']\n",
            "\n",
            "Enter number of items to be added in the tuple: 5\n",
            "\n",
            "Enter element: 2\n",
            "Enter element: 3\n",
            "Enter element: 4\n",
            "Enter element: 5\n",
            "Enter element: 6\n",
            "\n",
            "Tuple: (2, 3, 4, 5, 6)\n"
          ]
        }
      ]
    }
  ]
}