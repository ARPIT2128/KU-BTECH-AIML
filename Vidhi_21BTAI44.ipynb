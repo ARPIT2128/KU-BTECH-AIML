{
  "nbformat": 4,
  "nbformat_minor": 0,
  "metadata": {
    "colab": {
      "name": "Untitled0.ipynb",
      "provenance": [],
      "authorship_tag": "ABX9TyOrgXlt0WR7d/skz+yY4Sff",
      "include_colab_link": true
    },
    "kernelspec": {
      "name": "python3",
      "display_name": "Python 3"
    },
    "language_info": {
      "name": "python"
    }
  },
  "cells": [
    {
      "cell_type": "markdown",
      "metadata": {
        "id": "view-in-github",
        "colab_type": "text"
      },
      "source": [
        "<a href=\"https://colab.research.google.com/github/ARPIT2128/KU-BTECH-AIML/blob/main/Vidhi_21BTAI44.ipynb\" target=\"_parent\"><img src=\"https://colab.research.google.com/assets/colab-badge.svg\" alt=\"Open In Colab\"/></a>"
      ]
    },
    {
      "cell_type": "code",
      "source": [
        "#EXPERIMENT 1\n",
        "a=20\n",
        "print(a)\n",
        "print(type(a))\n",
        "\n",
        "b=2.48\n",
        "print(b)\n",
        "print(type(b))\n",
        "\n",
        "c=2+4j\n",
        "print(c)\n",
        "print(type(c))\n",
        "\n",
        "d=\"Vidhi\"\n",
        "print(d)\n",
        "print(type(d))\n",
        "\n",
        "e=[1,2,3,\"vidhi\"]\n",
        "print(e)\n",
        "print(type(e))\n",
        "\n",
        "f=tuple(\"vidhi\")\n",
        "print(f)\n",
        "print(type(f))\n",
        "\n",
        "g=dict(clas=\"A\",grade=\"B\",name=\"C\")\n",
        "print(g)\n",
        "print(type(g))\n",
        "\n",
        "h=True\n",
        "print(h)\n",
        "print(type(h))\n",
        "\n",
        "i=False\n",
        "print(i)\n",
        "print(type(i))\n",
        "\n",
        "j={\"vidhi\"}\n",
        "print(j)\n",
        "print(type(j))"
      ],
      "metadata": {
        "colab": {
          "base_uri": "https://localhost:8080/"
        },
        "id": "0276WY_IZvGx",
        "outputId": "b3bc6130-6702-4ae5-8b24-b90e92e2d9f1"
      },
      "execution_count": 3,
      "outputs": [
        {
          "output_type": "stream",
          "name": "stdout",
          "text": [
            "20\n",
            "<class 'int'>\n",
            "2.48\n",
            "<class 'float'>\n",
            "(2+4j)\n",
            "<class 'complex'>\n",
            "Vidhi\n",
            "<class 'str'>\n",
            "[1, 2, 3, 'vidhi']\n",
            "<class 'list'>\n",
            "('v', 'i', 'd', 'h', 'i')\n",
            "<class 'tuple'>\n",
            "{'clas': 'A', 'grade': 'B', 'name': 'C'}\n",
            "<class 'dict'>\n",
            "True\n",
            "<class 'bool'>\n",
            "False\n",
            "<class 'bool'>\n",
            "{'vidhi'}\n",
            "<class 'set'>\n"
          ]
        }
      ]
    },
    {
      "cell_type": "code",
      "source": [
        "import math\n",
        "x1=int(input(\"Enter number X1=\"))\n",
        "x2=int(input(\"Enter number X2=\"))\n",
        "y1=int(input(\"Enter number Y1=\"))\n",
        "y2=int(input(\"Enter number Y2=\"))\n",
        "distance=math.sqrt((x2-x1)**2 + (y2-y1)**2)\n",
        "print(\"Distance between\",(x1,y1),\"and\",(x2,y2),\"is\",distance)"
      ],
      "metadata": {
        "colab": {
          "base_uri": "https://localhost:8080/"
        },
        "id": "91DI_FD4buXM",
        "outputId": "5079224d-fd90-4f45-fc94-b2f6fb7f7d08"
      },
      "execution_count": 5,
      "outputs": [
        {
          "output_type": "stream",
          "name": "stdout",
          "text": [
            "Enter number X1=2\n",
            "Enter number X2=4\n",
            "Enter number Y1=1\n",
            "Enter number Y2=1\n",
            "Distance between (2, 1) and (4, 1) is 2.0\n"
          ]
        }
      ]
    },
    {
      "cell_type": "code",
      "source": [
        "num = int(input(\"Enter the number=\"))\n",
        "if(num % 2==0):\n",
        "  print(\"EVEN\")\n",
        "else:\n",
        "  print(\"ODD\")"
      ],
      "metadata": {
        "colab": {
          "base_uri": "https://localhost:8080/"
        },
        "id": "hoaESeHXdP8c",
        "outputId": "27539f6d-6652-4db0-fa56-6f759b5ea669"
      },
      "execution_count": 6,
      "outputs": [
        {
          "output_type": "stream",
          "name": "stdout",
          "text": [
            "Enter the number=3\n",
            "ODD\n"
          ]
        }
      ]
    },
    {
      "cell_type": "code",
      "source": [
        "n1= int(input(\"Enter the number=\"))\n",
        "s = 0\n",
        "num = n1\n",
        "while num>0:\n",
        "  digit = num % 10\n",
        "  s += digit**3\n",
        "  num //= 10\n",
        "if n1 == s:\n",
        "  print(n1,\"is an armstrong number\")\n",
        "else:\n",
        "  print(n1,\"is not an armstrong number\")"
      ],
      "metadata": {
        "colab": {
          "base_uri": "https://localhost:8080/"
        },
        "id": "aP8C9BuPdl-g",
        "outputId": "e1b4b945-505c-4685-ee08-f053b255286d"
      },
      "execution_count": 12,
      "outputs": [
        {
          "output_type": "stream",
          "name": "stdout",
          "text": [
            "Enter the number=153\n",
            "153 is an armstrong number\n"
          ]
        }
      ]
    },
    {
      "cell_type": "code",
      "source": [
        "num = int(input(\"Enter the number=\"))\n",
        "i=0\n",
        "while i<=num:\n",
        "  print(i)\n",
        "  i = i+1"
      ],
      "metadata": {
        "colab": {
          "base_uri": "https://localhost:8080/"
        },
        "id": "uqNmZVBUfnM3",
        "outputId": "9ae09e03-87b2-486e-fbe4-63c7355e22ec"
      },
      "execution_count": 14,
      "outputs": [
        {
          "output_type": "stream",
          "name": "stdout",
          "text": [
            "Enter the number=8\n",
            "0\n",
            "1\n",
            "2\n",
            "3\n",
            "4\n",
            "5\n",
            "6\n",
            "7\n",
            "8\n"
          ]
        }
      ]
    },
    {
      "cell_type": "code",
      "source": [
        "a=str(input(\"Enter a string:\"))\n",
        "b={}\n",
        "for i in a:\n",
        "  b[i]=a.count(i)\n",
        "print(b)\n",
        "print(len(a))"
      ],
      "metadata": {
        "colab": {
          "base_uri": "https://localhost:8080/"
        },
        "id": "ClPaFACzf-kg",
        "outputId": "66adc801-17bc-4ab0-8230-ff4b230164ec"
      },
      "execution_count": 15,
      "outputs": [
        {
          "output_type": "stream",
          "name": "stdout",
          "text": [
            "Enter a string:vidhi\n",
            "{'v': 1, 'i': 2, 'd': 1, 'h': 1}\n",
            "5\n"
          ]
        }
      ]
    },
    {
      "cell_type": "code",
      "source": [
        ""
      ],
      "metadata": {
        "id": "Wty_35gTgZBJ"
      },
      "execution_count": null,
      "outputs": []
    }
  ]
}