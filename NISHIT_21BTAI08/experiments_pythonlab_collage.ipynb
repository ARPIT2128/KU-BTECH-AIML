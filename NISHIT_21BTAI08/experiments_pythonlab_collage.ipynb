{
  "nbformat": 4,
  "nbformat_minor": 0,
  "metadata": {
    "colab": {
      "name": "experiment--1to8.ipynb",
      "provenance": [],
      "collapsed_sections": [],
      "authorship_tag": "ABX9TyNgbw6KJCnp1k7jNi9eC6Ne",
      "include_colab_link": true
    },
    "kernelspec": {
      "name": "python3",
      "display_name": "Python 3"
    },
    "language_info": {
      "name": "python"
    }
  },
  "cells": [
    {
      "cell_type": "markdown",
      "metadata": {
        "id": "view-in-github",
        "colab_type": "text"
      },
      "source": [
        "<a href=\"https://colab.research.google.com/github/ARPIT2128/KU-BTECH-AIML/blob/main/NISHIT_21BTAI08/experiments_pythonlab_collage.ipynb\" target=\"_parent\"><img src=\"https://colab.research.google.com/assets/colab-badge.svg\" alt=\"Open In Colab\"/></a>"
      ]
    },
    {
      "cell_type": "code",
      "execution_count": null,
      "metadata": {
        "colab": {
          "base_uri": "https://localhost:8080/"
        },
        "id": "IAtn0ptSS7Tf",
        "outputId": "37673233-da7d-4553-b3bc-e9d89cc1c6df"
      },
      "outputs": [
        {
          "output_type": "stream",
          "name": "stdout",
          "text": [
            "This is Python!!!\n"
          ]
        }
      ],
      "source": [
        "#experiment 1\n",
        "print('This is Python!!!')"
      ]
    },
    {
      "cell_type": "code",
      "source": [
        "var1=14\n",
        "print(var1)"
      ],
      "metadata": {
        "colab": {
          "base_uri": "https://localhost:8080/"
        },
        "id": "PIv7zphNTHXw",
        "outputId": "c3399167-a049-467f-fe65-6cc5f4c95591"
      },
      "execution_count": null,
      "outputs": [
        {
          "output_type": "stream",
          "name": "stdout",
          "text": [
            "14\n"
          ]
        }
      ]
    },
    {
      "cell_type": "code",
      "source": [
        "a=10\n",
        "print(type(a))"
      ],
      "metadata": {
        "colab": {
          "base_uri": "https://localhost:8080/"
        },
        "id": "lW9iVP2NTIgz",
        "outputId": "4aad93d5-8af7-4a24-c380-8620a9d949f9"
      },
      "execution_count": null,
      "outputs": [
        {
          "output_type": "stream",
          "name": "stdout",
          "text": [
            "<class 'int'>\n"
          ]
        }
      ]
    },
    {
      "cell_type": "code",
      "source": [
        "a='HI'\n",
        "print(type(a))"
      ],
      "metadata": {
        "colab": {
          "base_uri": "https://localhost:8080/"
        },
        "id": "DOLEd_jnTMzj",
        "outputId": "29cc3942-395a-4214-dc9a-e41157bf1079"
      },
      "execution_count": null,
      "outputs": [
        {
          "output_type": "stream",
          "name": "stdout",
          "text": [
            "<class 'str'>\n"
          ]
        }
      ]
    },
    {
      "cell_type": "code",
      "source": [
        "a=12.5\n",
        "print(type(a))"
      ],
      "metadata": {
        "colab": {
          "base_uri": "https://localhost:8080/"
        },
        "id": "2cJ06oB3TOVE",
        "outputId": "52d873ae-9400-4f45-f019-5c3263ce96ca"
      },
      "execution_count": null,
      "outputs": [
        {
          "output_type": "stream",
          "name": "stdout",
          "text": [
            "<class 'float'>\n"
          ]
        }
      ]
    },
    {
      "cell_type": "code",
      "source": [
        "a=1+2j\n",
        "print(type(a))"
      ],
      "metadata": {
        "colab": {
          "base_uri": "https://localhost:8080/"
        },
        "id": "xIT1Vw_VTRnY",
        "outputId": "5e804f8d-b5d1-4257-c616-0777e52c28be"
      },
      "execution_count": null,
      "outputs": [
        {
          "output_type": "stream",
          "name": "stdout",
          "text": [
            "<class 'complex'>\n"
          ]
        }
      ]
    },
    {
      "cell_type": "code",
      "source": [
        "a=True\n",
        "print(type(a))"
      ],
      "metadata": {
        "colab": {
          "base_uri": "https://localhost:8080/"
        },
        "id": "guOTni-7TTZ0",
        "outputId": "023fb17a-6469-4631-bc1d-e3afd1a12336"
      },
      "execution_count": null,
      "outputs": [
        {
          "output_type": "stream",
          "name": "stdout",
          "text": [
            "<class 'bool'>\n"
          ]
        }
      ]
    },
    {
      "cell_type": "code",
      "source": [
        "print(9/4)\n",
        "print(9//4)\n",
        "print(9*4)\n",
        "print(9**4)\n",
        "print(9+4)\n",
        "print(9-5)\n",
        "print(9%4)"
      ],
      "metadata": {
        "colab": {
          "base_uri": "https://localhost:8080/"
        },
        "id": "IxXZpNJGTVl6",
        "outputId": "041d92e6-6dab-4399-e74e-2c0aa5073fe0"
      },
      "execution_count": null,
      "outputs": [
        {
          "output_type": "stream",
          "name": "stdout",
          "text": [
            "2.25\n",
            "2\n",
            "36\n",
            "6561\n",
            "13\n",
            "4\n",
            "1\n"
          ]
        }
      ]
    },
    {
      "cell_type": "code",
      "source": [
        "a=10\n",
        "b=20\n",
        "print(a,b)"
      ],
      "metadata": {
        "colab": {
          "base_uri": "https://localhost:8080/"
        },
        "id": "hoXg3jVYTXr3",
        "outputId": "b0715f5d-3047-4f0f-fe70-87c02aebeb41"
      },
      "execution_count": null,
      "outputs": [
        {
          "output_type": "stream",
          "name": "stdout",
          "text": [
            "10 20\n"
          ]
        }
      ]
    },
    {
      "cell_type": "code",
      "source": [
        "print(a>b)\n",
        "print(a==b)\n",
        "x,y=5,5\n",
        "print(x==y)\n",
        "print(x!=y)\n"
      ],
      "metadata": {
        "colab": {
          "base_uri": "https://localhost:8080/"
        },
        "id": "Q3ipPAznTZz1",
        "outputId": "0d73c1da-efb2-4941-c465-1e5219973b8f"
      },
      "execution_count": null,
      "outputs": [
        {
          "output_type": "stream",
          "name": "stdout",
          "text": [
            "False\n",
            "False\n",
            "True\n",
            "False\n"
          ]
        }
      ]
    },
    {
      "cell_type": "code",
      "source": [
        "a=True\n",
        "b=False\n",
        "print(a|b)\n",
        "print(a&b)\n",
        "print(a or b)\n",
        "print(a and b)\n"
      ],
      "metadata": {
        "colab": {
          "base_uri": "https://localhost:8080/"
        },
        "id": "UTD9aEtBTdjD",
        "outputId": "ce4086ac-7bc0-4b09-e8d7-4e1aae064fc6"
      },
      "execution_count": null,
      "outputs": [
        {
          "output_type": "stream",
          "name": "stdout",
          "text": [
            "True\n",
            "False\n",
            "True\n",
            "False\n"
          ]
        }
      ]
    },
    {
      "cell_type": "code",
      "source": [
        "my_string=\"My name is Jaymin\"\n",
        "print(my_string)\n",
        "print(type(my_string))"
      ],
      "metadata": {
        "colab": {
          "base_uri": "https://localhost:8080/"
        },
        "id": "F5Kv_rwdTgrF",
        "outputId": "3546f07b-1b9b-4120-a1c3-859481e42221"
      },
      "execution_count": null,
      "outputs": [
        {
          "output_type": "stream",
          "name": "stdout",
          "text": [
            "My name is Jaymin\n",
            "<class 'str'>\n"
          ]
        }
      ]
    },
    {
      "cell_type": "code",
      "source": [
        "string=\"Hello\"\n",
        "print(len(string))\n",
        "print(string.lower())\n",
        "print(string.upper())\n",
        "string='heya'\n",
        "print(string.replace('y','a'))\n",
        "string='hello ladies hello gentlemen hello everyone'\n",
        "print(string.count(\"hello\"))\n",
        "string=\"hi how are you?\"\n",
        "print(string.find(\"are\"))"
      ],
      "metadata": {
        "colab": {
          "base_uri": "https://localhost:8080/"
        },
        "id": "aMhuDlziTjfT",
        "outputId": "a419277b-b0f3-402b-dabb-158d3281ab88"
      },
      "execution_count": null,
      "outputs": [
        {
          "output_type": "stream",
          "name": "stdout",
          "text": [
            "5\n",
            "hello\n",
            "HELLO\n",
            "heaa\n",
            "3\n",
            "7\n"
          ]
        }
      ]
    },
    {
      "cell_type": "code",
      "source": [
        "#experiment 2\n",
        "import math\n",
        "x1=int(input(\"Enter first x coordinate: \"))\n",
        "x2=int(input(\"Enter second x coordinate: \"))\n",
        "y1=int(input(\"Enter first y coordinate: \"))\n",
        "y2=int(input(\"Enter second y coordinate: \"))\n",
        "man_dist=abs((x2-x1)+(y2-y1))\n",
        "euc_dist=math.sqrt((pow((x2-x1),2))+(pow((y2-y1),2)))\n",
        "print(\"The manhattan distance is:\",man_dist,\"\\nThe euclidean distance is:\",euc_dist)"
      ],
      "metadata": {
        "colab": {
          "base_uri": "https://localhost:8080/"
        },
        "id": "WDQxAwm_TmJ-",
        "outputId": "8c4946f7-e147-44df-d3b0-b41b08483af2"
      },
      "execution_count": null,
      "outputs": [
        {
          "output_type": "stream",
          "name": "stdout",
          "text": [
            "Enter first x coordinate: 4\n",
            "Enter second x coordinate: 4\n",
            "Enter first y coordinate: 5\n",
            "Enter second y coordinate: 6\n",
            "The manhattan distance is: 1 \n",
            "The euclidean distance is: 1.0\n"
          ]
        }
      ]
    },
    {
      "cell_type": "code",
      "source": [
        "#experiment 3\n",
        "x=input(\"Enter a number: \")\n",
        "for i in x:\n",
        "  if not(48<=ord(i)<=57):\n",
        "    a=False\n",
        "    break\n",
        "  else:\n",
        "    a=True\n",
        "if a == True:\n",
        "  if int(x)%2==0:\n",
        "    print(\"Even number!\")\n",
        "  else:\n",
        "    print(\"Odd number!\")\n",
        "else:\n",
        "  print(\"Not a number!\")"
      ],
      "metadata": {
        "colab": {
          "base_uri": "https://localhost:8080/"
        },
        "id": "FOCSjUrlTqk3",
        "outputId": "287cd160-943b-44c1-948c-fbaa33897839"
      },
      "execution_count": null,
      "outputs": [
        {
          "output_type": "stream",
          "name": "stdout",
          "text": [
            "Enter a number: 55\n",
            "Odd number!\n"
          ]
        }
      ]
    },
    {
      "cell_type": "code",
      "source": [
        "#Armstrong number\n",
        "n=int(input(\"Enter a number to check: \"))\n",
        "n1=n\n",
        "n2=n\n",
        "count=0\n",
        "sum=0\n",
        "while n1!=0:\n",
        "  n1//=10\n",
        "  count+=1\n",
        "while n2!=0:\n",
        "  b=n2%10\n",
        "  sum+=pow(b,count)\n",
        "  n2//=10\n",
        "if n==sum:\n",
        "  print(\"Armstrong number!\")\n",
        "else:\n",
        "  print(\"Not an armstrong number!\")"
      ],
      "metadata": {
        "colab": {
          "base_uri": "https://localhost:8080/"
        },
        "id": "JwObfPN_T43G",
        "outputId": "36b3a6de-c37a-46a5-bff4-6ab581e67c8d"
      },
      "execution_count": null,
      "outputs": [
        {
          "output_type": "stream",
          "name": "stdout",
          "text": [
            "Enter a number to check: 55\n",
            "Not an armstrong number!\n"
          ]
        }
      ]
    },
    {
      "cell_type": "code",
      "source": [
        "x=input(\"Enter a number: \")\n",
        "a=False\n",
        "for i in x:\n",
        "  if not(48<=ord(i)<=57):\n",
        "    print(\"Not a number!\")\n",
        "    a=False\n",
        "    break\n",
        "  else:\n",
        "    a=True\n",
        "if a==True:\n",
        "  x=int(x)\n",
        "  n1=n2=x\n",
        "  sum=count=0\n",
        "  while n1!=0:\n",
        "    n1//=10\n",
        "    count+=1\n",
        "  while n2!=0:\n",
        "    b=n2%10\n",
        "    sum+=pow(b,count)\n",
        "    n2//=10\n",
        "  if x==sum:\n",
        "    print(\"Armstrong number!\")\n",
        "  else:\n",
        "    print(\"Not an armstrong number!\")"
      ],
      "metadata": {
        "colab": {
          "base_uri": "https://localhost:8080/"
        },
        "id": "7zuVNVEfT-gO",
        "outputId": "13cd40f6-536f-4f2d-d177-ae221e4cd0f3"
      },
      "execution_count": null,
      "outputs": [
        {
          "output_type": "stream",
          "name": "stdout",
          "text": [
            "Enter a number: 55\n",
            "Not an armstrong number!\n"
          ]
        }
      ]
    },
    {
      "cell_type": "code",
      "source": [
        "#experiment 4\n",
        "n=int(input(\"Enter a number: \"))\n",
        "while (n!=-1):\n",
        "  print(n)\n",
        "  n=n-1"
      ],
      "metadata": {
        "colab": {
          "base_uri": "https://localhost:8080/"
        },
        "id": "iwkgYXSZUCtB",
        "outputId": "10f99302-f89c-423c-d5d9-599c7cf8ecbe"
      },
      "execution_count": null,
      "outputs": [
        {
          "output_type": "stream",
          "name": "stdout",
          "text": [
            "Enter a number: 66\n",
            "66\n",
            "65\n",
            "64\n",
            "63\n",
            "62\n",
            "61\n",
            "60\n",
            "59\n",
            "58\n",
            "57\n",
            "56\n",
            "55\n",
            "54\n",
            "53\n",
            "52\n",
            "51\n",
            "50\n",
            "49\n",
            "48\n",
            "47\n",
            "46\n",
            "45\n",
            "44\n",
            "43\n",
            "42\n",
            "41\n",
            "40\n",
            "39\n",
            "38\n",
            "37\n",
            "36\n",
            "35\n",
            "34\n",
            "33\n",
            "32\n",
            "31\n",
            "30\n",
            "29\n",
            "28\n",
            "27\n",
            "26\n",
            "25\n",
            "24\n",
            "23\n",
            "22\n",
            "21\n",
            "20\n",
            "19\n",
            "18\n",
            "17\n",
            "16\n",
            "15\n",
            "14\n",
            "13\n",
            "12\n",
            "11\n",
            "10\n",
            "9\n",
            "8\n",
            "7\n",
            "6\n",
            "5\n",
            "4\n",
            "3\n",
            "2\n",
            "1\n",
            "0\n"
          ]
        }
      ]
    },
    {
      "cell_type": "code",
      "source": [
        "#experiment5\n",
        "str=input(\"enter string : \")\n",
        "f={} \n",
        "for i in str: \n",
        "    if i in f: \n",
        "        f[i]+=1\n",
        "    else: \n",
        "        f[i]=1\n",
        "print(f)"
      ],
      "metadata": {
        "colab": {
          "base_uri": "https://localhost:8080/"
        },
        "id": "9trpJN4DUF_6",
        "outputId": "bf64ffb8-a37e-4caf-f14d-00345c533bb8"
      },
      "execution_count": null,
      "outputs": [
        {
          "output_type": "stream",
          "name": "stdout",
          "text": [
            "enter string : nishit\n",
            "{'n': 1, 'i': 2, 's': 1, 'h': 1, 't': 1}\n"
          ]
        }
      ]
    },
    {
      "cell_type": "code",
      "source": [
        "#experiment 6\n",
        "lst1=[67,6748.74,\"ghg\"]  #this is a list\n",
        "tpl1=(546.65,65,\"hfg\",'bye')  #this is a tuple\n",
        "for i in lst1:\n",
        "  print(i)\n",
        "for i in tpl1:\n",
        "  print(i)"
      ],
      "metadata": {
        "colab": {
          "base_uri": "https://localhost:8080/"
        },
        "id": "MUgZzUJhUJOE",
        "outputId": "a4a1777d-702d-46d5-8f22-004291d0b72a"
      },
      "execution_count": null,
      "outputs": [
        {
          "output_type": "stream",
          "name": "stdout",
          "text": [
            "67\n",
            "6748.74\n",
            "ghg\n",
            "546.65\n",
            "65\n",
            "hfg\n",
            "bye\n"
          ]
        }
      ]
    },
    {
      "cell_type": "code",
      "source": [
        "#experiment 7a\n",
        "import sympy\n",
        "sum=0\n",
        "for i in range(0,2000001):\n",
        "  if (sympy.isprime(i))==True:\n",
        "    sum+=i\n",
        "print(sum)\n",
        "#experiment 7b\n",
        "def fibonacci():\n",
        "  sequence=[1,2]\n",
        "  total=0\n",
        "  while sequence[-1]<4000000:\n",
        "    if sequence[-1]%2==0:\n",
        "      total+=sequence[-1]\n",
        "    sequence.append(sequence[-1]+sequence[-2])\n",
        "  print(total)\n",
        "fibonacci()"
      ],
      "metadata": {
        "colab": {
          "base_uri": "https://localhost:8080/"
        },
        "id": "KOPhls6vUMdg",
        "outputId": "47d34f25-a765-4296-e80f-96d942766ee0"
      },
      "execution_count": null,
      "outputs": [
        {
          "output_type": "stream",
          "name": "stdout",
          "text": [
            "142913828922\n",
            "4613732\n"
          ]
        }
      ]
    },
    {
      "cell_type": "code",
      "source": [
        "#experiment 8\n",
        "def dup(lst):\n",
        "  lst1=[]\n",
        "  for i in lst:\n",
        "    if i in lst1:"
      ],
      "metadata": {
        "id": "uABvFYP8URK3"
      },
      "execution_count": null,
      "outputs": []
    }
  ]
}