{
  "nbformat": 4,
  "nbformat_minor": 0,
  "metadata": {
    "colab": {
      "name": "Untitled0.ipynb",
      "provenance": [],
      "collapsed_sections": [],
      "authorship_tag": "ABX9TyOF1BOZmq17RQGJzPtGrqZZ",
      "include_colab_link": true
    },
    "kernelspec": {
      "name": "python3",
      "display_name": "Python 3"
    },
    "language_info": {
      "name": "python"
    }
  },
  "cells": [
    {
      "cell_type": "markdown",
      "metadata": {
        "id": "view-in-github",
        "colab_type": "text"
      },
      "source": [
        "<a href=\"https://colab.research.google.com/github/ARPIT2128/KU-BTECH-AIML/blob/main/KINAL_21BTAI39/COLLEGE_PYTHON-LAB.ipynb\" target=\"_parent\"><img src=\"https://colab.research.google.com/assets/colab-badge.svg\" alt=\"Open In Colab\"/></a>"
      ]
    },
    {
      "cell_type": "markdown",
      "source": [
        "Experiment-1"
      ],
      "metadata": {
        "id": "FJf3OcPQPIHA"
      }
    },
    {
      "cell_type": "code",
      "execution_count": null,
      "metadata": {
        "colab": {
          "base_uri": "https://localhost:8080/"
        },
        "id": "VU2gBoDhL1Xn",
        "outputId": "105d7485-bac3-41d7-f015-8b58956bdc48"
      },
      "outputs": [
        {
          "output_type": "stream",
          "name": "stdout",
          "text": [
            "enter the value of a:39\n",
            "39\n"
          ]
        },
        {
          "output_type": "execute_result",
          "data": {
            "text/plain": [
              "int"
            ]
          },
          "metadata": {},
          "execution_count": 2
        }
      ],
      "source": [
        "a=int(input(\"enter the value of a:\"))\n",
        "print(a)\n",
        "type(a)"
      ]
    },
    {
      "cell_type": "code",
      "source": [
        "b=input(\"enter the string:\")\n",
        "print(b)\n",
        "type(b)"
      ],
      "metadata": {
        "colab": {
          "base_uri": "https://localhost:8080/"
        },
        "id": "Uh2b2YoMPAit",
        "outputId": "da0440b0-e66e-4e30-c57a-50e274c939b8"
      },
      "execution_count": null,
      "outputs": [
        {
          "output_type": "stream",
          "name": "stdout",
          "text": [
            "enter the string:kinal\n",
            "kinal\n"
          ]
        },
        {
          "output_type": "execute_result",
          "data": {
            "text/plain": [
              "str"
            ]
          },
          "metadata": {},
          "execution_count": 3
        }
      ]
    },
    {
      "cell_type": "code",
      "source": [
        "c=float(input(\"enter the float value:\"))\n",
        "print(c)\n",
        "type(c)\n"
      ],
      "metadata": {
        "colab": {
          "base_uri": "https://localhost:8080/"
        },
        "id": "GeWP4xtvPLbC",
        "outputId": "5d3b8c11-99cf-4a27-a7c4-8f6f4f91b709"
      },
      "execution_count": null,
      "outputs": [
        {
          "output_type": "stream",
          "name": "stdout",
          "text": [
            "enter the float value:3.14\n",
            "3.14\n"
          ]
        },
        {
          "output_type": "execute_result",
          "data": {
            "text/plain": [
              "float"
            ]
          },
          "metadata": {},
          "execution_count": 4
        }
      ]
    },
    {
      "cell_type": "markdown",
      "source": [
        "Experiment-2"
      ],
      "metadata": {
        "id": "DkKbWgRhPRYK"
      }
    },
    {
      "cell_type": "code",
      "source": [
        "x1 = float(input(\"Give value of x1 :\"))\n",
        "x2 = float(input(\"Give value of x2 :\"))\n",
        "y1 = float(input(\"Give value of y1 :\"))\n",
        "y2 = float(input(\"Give value of y2 :\"))\n",
        "\n",
        "dist=(x1-y1**2)+(y1-y2**2)\n",
        "print(\"your answer\",dist)\n"
      ],
      "metadata": {
        "colab": {
          "base_uri": "https://localhost:8080/"
        },
        "id": "Yvyi9fPJPSMq",
        "outputId": "84033405-1ea3-4271-f65e-31bc582f5acf"
      },
      "execution_count": null,
      "outputs": [
        {
          "output_type": "stream",
          "name": "stdout",
          "text": [
            "Give value of x1 :34\n",
            "Give value of x2 :23\n",
            "Give value of y1 :56\n",
            "Give value of y2 :12\n",
            "your answer -3190.0\n"
          ]
        }
      ]
    },
    {
      "cell_type": "markdown",
      "source": [
        "Experiment-3"
      ],
      "metadata": {
        "id": "pU2WrcrTPZcA"
      }
    },
    {
      "cell_type": "code",
      "source": [
        "my_lists=[\"Kinal\",\"Suthar\"]\n",
        "print(my_lists)"
      ],
      "metadata": {
        "colab": {
          "base_uri": "https://localhost:8080/"
        },
        "id": "x5W3nLAmP5vb",
        "outputId": "91faabfc-0b02-469f-c4b0-64af3ca9c6d5"
      },
      "execution_count": null,
      "outputs": [
        {
          "output_type": "stream",
          "name": "stdout",
          "text": [
            "['Kinal', 'Suthar']\n"
          ]
        }
      ]
    },
    {
      "cell_type": "code",
      "source": [
        "my_tuple=(\"Kinal\",\"Suthar\")\n",
        "print(my_tuple)"
      ],
      "metadata": {
        "colab": {
          "base_uri": "https://localhost:8080/"
        },
        "id": "Z2mrjNAnP__8",
        "outputId": "bf241b6b-ea99-4440-89a9-92ddaeec3aaf"
      },
      "execution_count": null,
      "outputs": [
        {
          "output_type": "stream",
          "name": "stdout",
          "text": [
            "('Kinal', 'Suthar')\n"
          ]
        }
      ]
    },
    {
      "cell_type": "code",
      "source": [
        "for i in my_lists:\n",
        "  print(i)\n",
        "for i in my_tuple:\n",
        "  print(i)"
      ],
      "metadata": {
        "colab": {
          "base_uri": "https://localhost:8080/"
        },
        "id": "NdBYSoi2QHJ8",
        "outputId": "3b4e4e17-a946-44a8-f133-4eb7c806b183"
      },
      "execution_count": null,
      "outputs": [
        {
          "output_type": "stream",
          "name": "stdout",
          "text": [
            "Kinal\n",
            "Suthar\n",
            "Kinal\n",
            "Suthar\n"
          ]
        }
      ]
    },
    {
      "cell_type": "markdown",
      "source": [
        "Experiment-4(a)"
      ],
      "metadata": {
        "id": "VHKgjvZcQKIC"
      }
    },
    {
      "cell_type": "code",
      "source": [
        "num = int(input(\"Enter a number: \"))\n",
        "if (num % 2) == 0:\n",
        "   print(num, \" is even\")\n",
        "else:\n",
        "   print(num, \" is odd\")"
      ],
      "metadata": {
        "colab": {
          "base_uri": "https://localhost:8080/"
        },
        "id": "0f1MV1maQMI2",
        "outputId": "0abd2941-3453-4a98-82a4-a0ff7379badb"
      },
      "execution_count": null,
      "outputs": [
        {
          "output_type": "stream",
          "name": "stdout",
          "text": [
            "Enter a number: 23\n",
            "23  is odd\n"
          ]
        }
      ]
    },
    {
      "cell_type": "markdown",
      "source": [
        "Experiment-4(b)"
      ],
      "metadata": {
        "id": "Bq2x0IydQQgF"
      }
    },
    {
      "cell_type": "code",
      "source": [
        "num=input(\"Enter number:\")\n",
        "n=list(num)\n",
        "\n",
        "len_num=len(n)\n",
        "sum=0\n",
        "for i in range(len_num):\n",
        "    sum+=pow(int(n[i]),len_num)\n",
        "\n",
        "if(int(num)==sum):\n",
        "    print(\"It is armstrong\")\n",
        "else:\n",
        "    print(\"It is not armstrong\")"
      ],
      "metadata": {
        "colab": {
          "base_uri": "https://localhost:8080/"
        },
        "id": "KGDICSWGQRMG",
        "outputId": "2c893678-942d-4579-d02f-6c4d5adfe1be"
      },
      "execution_count": null,
      "outputs": [
        {
          "output_type": "stream",
          "name": "stdout",
          "text": [
            "Enter number:345\n",
            "It is not armstrong\n"
          ]
        }
      ]
    },
    {
      "cell_type": "markdown",
      "source": [
        "Experiment-5"
      ],
      "metadata": {
        "id": "WRBgfPgDQXLF"
      }
    },
    {
      "cell_type": "code",
      "source": [
        "x=int(input(\"Enter the number :\"))\n",
        "while x >=0:\n",
        "  print(x)\n",
        "  x=x-1\n",
        "  "
      ],
      "metadata": {
        "colab": {
          "base_uri": "https://localhost:8080/"
        },
        "id": "o15lBl2kQWs4",
        "outputId": "206a63f1-9905-45db-edc2-91c72c31eab9"
      },
      "execution_count": null,
      "outputs": [
        {
          "output_type": "stream",
          "name": "stdout",
          "text": [
            "Enter the number :5\n",
            "5\n",
            "4\n",
            "3\n",
            "2\n",
            "1\n",
            "0\n"
          ]
        }
      ]
    },
    {
      "cell_type": "markdown",
      "source": [
        "Experiment-6"
      ],
      "metadata": {
        "id": "E5ep0Zs1QcdT"
      }
    },
    {
      "cell_type": "code",
      "source": [
        "y=input(\"Enter the string:\")\n",
        "f={}\n",
        "for i in y:\n",
        "  if i in f:\n",
        "    f[i]+=1\n",
        "  else :\n",
        "    f[i]=1\n",
        "print(f)"
      ],
      "metadata": {
        "colab": {
          "base_uri": "https://localhost:8080/"
        },
        "id": "JUVDO_LwQbsk",
        "outputId": "26149ab6-de9d-4243-f92a-410ce116701a"
      },
      "execution_count": null,
      "outputs": [
        {
          "output_type": "stream",
          "name": "stdout",
          "text": [
            "Enter the string:kinal\n",
            "{'k': 1, 'i': 1, 'n': 1, 'a': 1, 'l': 1}\n"
          ]
        }
      ]
    },
    {
      "cell_type": "markdown",
      "source": [
        "Experiment-7"
      ],
      "metadata": {
        "id": "ulJNDr9uQitZ"
      }
    },
    {
      "cell_type": "code",
      "source": [
        "import sympy\n",
        "sum=0\n",
        "for i in range(0,3490001):\n",
        "  if(sympy.isprime(i))==True:\n",
        "    sum+=i\n",
        "print(sum)\n"
      ],
      "metadata": {
        "colab": {
          "base_uri": "https://localhost:8080/"
        },
        "id": "hqGV_K1SQke6",
        "outputId": "8712d466-9ed7-4e68-993f-c35c5b7f13a9"
      },
      "execution_count": null,
      "outputs": [
        {
          "output_type": "stream",
          "name": "stdout",
          "text": [
            "418447415491\n"
          ]
        }
      ]
    },
    {
      "cell_type": "code",
      "source": [
        "def fibonacci():\n",
        "  sequence=[1,2]\n",
        "  total=0\n",
        "  while sequence[-1]<600000:\n",
        "    if sequence[-1]%2==0:\n",
        "      total+=sequence[-1]\n",
        "    sequence.append(sequence[-1]+sequence[-2])\n",
        "  print(total)\n",
        "fibonacci()\n"
      ],
      "metadata": {
        "colab": {
          "base_uri": "https://localhost:8080/"
        },
        "id": "4sPqRbYKQpMZ",
        "outputId": "c94cb152-3853-47ae-e520-442d160a5e76"
      },
      "execution_count": null,
      "outputs": [
        {
          "output_type": "stream",
          "name": "stdout",
          "text": [
            "257114\n"
          ]
        }
      ]
    },
    {
      "cell_type": "code",
      "source": [
        "l=[1,2,3,4,5,6,9,4,3,6,7]\n",
        "l1=[]\n",
        "for i in l:\n",
        "    if i not in l1:\n",
        "        l1.append(i)\n",
        "    else:\n",
        "        print(i,end=' ')"
      ],
      "metadata": {
        "colab": {
          "base_uri": "https://localhost:8080/"
        },
        "id": "cgfQ89_fQrMZ",
        "outputId": "d5f93dbe-d2c7-413b-ab1b-236d5e0a760c"
      },
      "execution_count": null,
      "outputs": [
        {
          "output_type": "stream",
          "name": "stdout",
          "text": [
            "4 3 6 "
          ]
        }
      ]
    },
    {
      "cell_type": "code",
      "source": [
        "my_list=[\"kinal\",\"krishna\",\"divyam\"]\n",
        "print(my_list)\n",
        "my_tupple=[\"kinal\",\"krishna\",\"divyam\"]\n",
        "print(my_tupple)\n",
        "for i in my_list:\n",
        "  print(i)\n",
        "for i in my_tupple:\n",
        "  print(i)"
      ],
      "metadata": {
        "id": "UajQw7w2aAqR",
        "colab": {
          "base_uri": "https://localhost:8080/"
        },
        "outputId": "b02a9ac8-0269-4f31-ebb6-0425a3f0cc04"
      },
      "execution_count": null,
      "outputs": [
        {
          "output_type": "stream",
          "name": "stdout",
          "text": [
            "['kinal', 'krishna', 'divyam']\n",
            "['kinal', 'krishna', 'divyam']\n",
            "kinal\n",
            "krishna\n",
            "divyam\n",
            "kinal\n",
            "krishna\n",
            "divyam\n"
          ]
        }
      ]
    },
    {
      "cell_type": "code",
      "source": [
        "b=(input(\"enter the value:\"))\n",
        "a=False\n",
        "for i in b:\n",
        "  if i in ['0','1','2','3','4','5','6','7','8','9']:\n",
        "    a=True\n",
        "if a==True:\n",
        "  print(a)\n",
        "  print(\"int\")\n",
        "else:\n",
        "  print(\"str\")"
      ],
      "metadata": {
        "colab": {
          "base_uri": "https://localhost:8080/"
        },
        "id": "Ogp1Zn6BnFDG",
        "outputId": "68e000d3-813d-43f8-a47c-8b385073e87d"
      },
      "execution_count": null,
      "outputs": [
        {
          "output_type": "stream",
          "name": "stdout",
          "text": [
            "enter the value:12\n",
            "True\n",
            "int\n"
          ]
        }
      ]
    },
    {
      "cell_type": "markdown",
      "source": [
        "Experiment-9"
      ],
      "metadata": {
        "id": "y80mjvPOJWM3"
      }
    },
    {
      "cell_type": "code",
      "source": [
        "numb = [2, 4, 5, 8, 9]\n",
        "no = len(numb)\n",
        "numb.sort()\n",
        "if no % 2 == 0:\n",
        "  median1 = numb[no//2]\n",
        "  median2 = numb[no//2 - 1]\n",
        "  median = (median1 + median2)/2\n",
        "else:\n",
        "  median = numb[no//2]\n",
        "print(\"The median of the given numbers \", numb, \"is\",(median))"
      ],
      "metadata": {
        "colab": {
          "base_uri": "https://localhost:8080/"
        },
        "id": "o_9gda8KJVnA",
        "outputId": "e635689e-6e4d-4d3c-8fdb-dcd922df7a6b"
      },
      "execution_count": null,
      "outputs": [
        {
          "output_type": "stream",
          "name": "stdout",
          "text": [
            "The median of the given numbers  [2, 4, 5, 8, 9] is 5\n"
          ]
        }
      ]
    },
    {
      "cell_type": "code",
      "source": [
        "d = {\"Kinal\" : \"Kinal123\" , \"me\": \"singer\", \"chocolate\" :\"dairy milk\",\"orange\" :\"juice\"}\n",
        "username = input(\"Enter the username :\")\n",
        "if username in d:\n",
        "  password = input(\"Enter the password :\")\n",
        "  if d[username]== password :\n",
        "    print(\"You are logged in to system !\")\n",
        "  else :\n",
        "    print(\"You have entered wrong password . \")\n",
        "else :\n",
        "  print(\"The person is not valid to login .\")"
      ],
      "metadata": {
        "colab": {
          "base_uri": "https://localhost:8080/"
        },
        "id": "rMbOCXRSJd2Z",
        "outputId": "93ea7839-b4bb-4e17-d62e-7746df13ff19"
      },
      "execution_count": null,
      "outputs": [
        {
          "output_type": "stream",
          "name": "stdout",
          "text": [
            "Enter the username :Kinal\n",
            "Enter the password :Kinal123\n",
            "You are logged in to system !\n"
          ]
        }
      ]
    },
    {
      "cell_type": "markdown",
      "source": [
        "Experiment-11"
      ],
      "metadata": {
        "id": "eG7eebEbJ3TN"
      }
    },
    {
      "cell_type": "code",
      "source": [
        "subject_marks = [('Mathematics', 93), ('Python', 95), ('Environment',96)]\n",
        "print(\"Original list of tuples:\")\n",
        "print(subject_marks)\n",
        "subject_marks.sort(key = lambda x: x[1])\n",
        "print(\"\\nSorting the List of Tuples:\")\n",
        "print(subject_marks)"
      ],
      "metadata": {
        "colab": {
          "base_uri": "https://localhost:8080/"
        },
        "id": "pHdLWZvoJ6Jz",
        "outputId": "6d1be0fc-3402-4016-c4e2-ac0284908454"
      },
      "execution_count": null,
      "outputs": [
        {
          "output_type": "stream",
          "name": "stdout",
          "text": [
            "Original list of tuples:\n",
            "[('Mathematics', 93), ('Python', 95), ('Environment', 96)]\n",
            "\n",
            "Sorting the List of Tuples:\n",
            "[('Mathematics', 93), ('Python', 95), ('Environment', 96)]\n"
          ]
        }
      ]
    },
    {
      "cell_type": "code",
      "source": [
        "tup = eval(input(\"Enter a tuple :- \"))\n",
        "# index = 0\n",
        "# while index < len(tup):\n",
        "#   new = tup[ index ][1 : ] + tup[ index ][ 0 ] + \"ay\"\n",
        "#   print (new, end = \" \")\n",
        "#   index += 1"
      ],
      "metadata": {
        "id": "-EAJO4QRJ8hC"
      },
      "execution_count": null,
      "outputs": []
    },
    {
      "cell_type": "markdown",
      "source": [
        "Experiment-13"
      ],
      "metadata": {
        "id": "-lB0UvgOKBNC"
      }
    },
    {
      "cell_type": "code",
      "source": [
        "n = int(input(\"Enter a number till which you want fibonacci series: \"))\n",
        "n1 = 0\n",
        "n2=1\n",
        "print(\"Series\",n1,n2,end=\" \")\n",
        "for i in range(2,n):\n",
        "  new = n1 + n2\n",
        "  n1 = n2\n",
        "  n2 = new\n",
        "  print(new, end=\" \")\n",
        "print()"
      ],
      "metadata": {
        "colab": {
          "base_uri": "https://localhost:8080/"
        },
        "id": "0mavM94VJ-8P",
        "outputId": "58a23285-c1d6-4377-a05a-83d33cecddc1"
      },
      "execution_count": null,
      "outputs": [
        {
          "output_type": "stream",
          "name": "stdout",
          "text": [
            "Enter a number till which you want fibonacci series: 7\n",
            "Series 0 1 1 2 3 5 8 \n"
          ]
        }
      ]
    },
    {
      "cell_type": "code",
      "source": [
        "while True:\n",
        "    print(\"\\nMENU\")\n",
        "    print(\"1. Binary Search\")\n",
        "    print(\"2. Linear Search\")\n",
        "\n",
        "    print(\"3. Exit\")\n",
        "    choice = int(input(\"\\nEnter the Choice: \"))\n",
        "\n",
        "    if choice == 1:\n",
        "        def binary_search(list1, n):\n",
        "            low = 0\n",
        "            high = len(list1) - 1\n",
        "            mid = 0\n",
        "\n",
        "            while low <= high:\n",
        "\n",
        "                mid = (high + low) // 2\n",
        "\n",
        "                if list1[mid] < n:\n",
        "                    low = mid + 1\n",
        "\n",
        "                elif list1[mid] > n:\n",
        "                    high = mid - 1\n",
        "                else:\n",
        "                    return mid\n",
        "\n",
        "            return -1\n",
        "            list1 = []\n",
        "        i = 0\n",
        "        while i < 5:\n",
        "            list1.append(int(input(\"enter digits of array:\")))\n",
        "            i = i + 1\n",
        "\n",
        "        # list1.append(input(\"enter digit\"))\n",
        "        n = int(input(\"enter your target: \"))\n",
        "\n",
        "        # Function call\n",
        "        result = binary_search(list1, n)\n",
        "        if result != -1:\n",
        "            print(\"Element is present at index\", str(result))\n",
        "        else:\n",
        "            print(\"Element is not present in list1\")\n",
        "\n",
        "    if choice == 2:\n",
        "        def search(arr, x):\n",
        "\n",
        "            for i in range(len(arr)):\n",
        "\n",
        "                if arr[i] == x:\n",
        "                    return i\n",
        "\n",
        "            return -1\n",
        "\n",
        "\n",
        "        list1 = []\n",
        "        i = 0\n",
        "        while i < 5:\n",
        "            list1.append(int(input(\"enter digits of array:\")))\n",
        "            i = i + 1\n",
        "\n",
        "        # list1.append(input(\"enter digit\"))\n",
        "        n = int(input(\"enter your target: \"))\n",
        "\n",
        "        # Function call\n",
        "        result = search(list1, n)\n",
        "\n",
        "        if result != -1:\n",
        "            print(\"Element is present at index\", result)\n",
        "        else:\n",
        "            print(\"Element is not present in list1\")\n",
        "\n",
        "    break"
      ],
      "metadata": {
        "colab": {
          "base_uri": "https://localhost:8080/"
        },
        "id": "7vhe7Vq3OLpf",
        "outputId": "4213eb6d-c79b-45a6-f0dc-eaba99d20ae0"
      },
      "execution_count": 19,
      "outputs": [
        {
          "output_type": "stream",
          "name": "stdout",
          "text": [
            "\n",
            "MENU\n",
            "1. Binary Search\n",
            "2. Linear Search\n",
            "3. Exit\n",
            "\n",
            "Enter the Choice: 1\n",
            "enter digits of array:2\n",
            "enter digits of array:3\n",
            "enter digits of array:4\n",
            "enter digits of array:5\n",
            "enter digits of array:6\n",
            "enter your target: 2\n",
            "Element is present at index 0\n"
          ]
        }
      ]
    },
    {
      "cell_type": "markdown",
      "source": [
        "Experiment-15"
      ],
      "metadata": {
        "id": "nO0chGavKzJ6"
      }
    },
    {
      "cell_type": "code",
      "source": [
        "list1=[30,5,6,8,5,2]\n",
        "print(list1)\n",
        "\n",
        "for i in range(len(list1)-1):\n",
        "\n",
        "  for j in range(i+1,len(list1)):\n",
        "\n",
        "    if list1[i] > list1[j]:\n",
        "\n",
        "      list1[i],list1[j] = list1[j],list1[i]\n",
        "\n",
        "print(list1)"
      ],
      "metadata": {
        "colab": {
          "base_uri": "https://localhost:8080/"
        },
        "id": "EWtUi3YGKw4o",
        "outputId": "e747e731-cb7e-40c4-980f-01b5efd7bc01"
      },
      "execution_count": null,
      "outputs": [
        {
          "output_type": "stream",
          "name": "stdout",
          "text": [
            "[30, 5, 6, 8, 5, 2]\n",
            "[2, 5, 5, 6, 8, 30]\n"
          ]
        }
      ]
    },
    {
      "cell_type": "code",
      "source": [
        "t1=[10,4,25,1,5]\n",
        "print(list1)\n",
        "\n",
        "for i in range(1,len(list1)):\n",
        "\n",
        "  value0 = list1[i]                  \n",
        "\n",
        "  j = i-1\n",
        "\n",
        "  while j>=0 and value0<list1[j]:\n",
        "\n",
        "    list1[j+1] = list1[j]\n",
        "    j=j-1\n",
        "\n",
        "  list1[j+1] = value0\n",
        "  print(list1)"
      ],
      "metadata": {
        "colab": {
          "base_uri": "https://localhost:8080/"
        },
        "id": "7iuv7szVK5e2",
        "outputId": "04b594bc-2d0b-4bd1-9811-bace98939634"
      },
      "execution_count": null,
      "outputs": [
        {
          "output_type": "stream",
          "name": "stdout",
          "text": [
            "[2, 5, 5, 6, 8, 30]\n",
            "[2, 5, 5, 6, 8, 30]\n",
            "[2, 5, 5, 6, 8, 30]\n",
            "[2, 5, 5, 6, 8, 30]\n",
            "[2, 5, 5, 6, 8, 30]\n",
            "[2, 5, 5, 6, 8, 30]\n"
          ]
        }
      ]
    }
  ]
}