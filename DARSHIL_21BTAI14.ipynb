{
  "nbformat": 4,
  "nbformat_minor": 0,
  "metadata": {
    "colab": {
      "name": "Python lab.ipynb",
      "provenance": [],
      "collapsed_sections": [],
      "authorship_tag": "ABX9TyPJd+1RSdivi6qKQ9n+841O",
      "include_colab_link": true
    },
    "kernelspec": {
      "name": "python3",
      "display_name": "Python 3"
    },
    "language_info": {
      "name": "python"
    }
  },
  "cells": [
    {
      "cell_type": "markdown",
      "metadata": {
        "id": "view-in-github",
        "colab_type": "text"
      },
      "source": [
        "<a href=\"https://colab.research.google.com/github/ARPIT2128/KU-BTECH-AIML/blob/main/DARSHIL_21BTAI14.ipynb\" target=\"_parent\"><img src=\"https://colab.research.google.com/assets/colab-badge.svg\" alt=\"Open In Colab\"/></a>"
      ]
    },
    {
      "cell_type": "code",
      "execution_count": null,
      "metadata": {
        "colab": {
          "base_uri": "https://localhost:8080/"
        },
        "id": "4Z8lHCXTWr7z",
        "outputId": "0c18e656-4adf-4ffa-9c3a-3850616da7ce"
      },
      "outputs": [
        {
          "output_type": "stream",
          "name": "stdout",
          "text": [
            "<class 'int'>\n"
          ]
        }
      ],
      "source": [
        "a=10\n",
        "print(type(a))"
      ]
    },
    {
      "cell_type": "code",
      "source": [
        "b=12,13\n",
        "print(type(b))"
      ],
      "metadata": {
        "colab": {
          "base_uri": "https://localhost:8080/"
        },
        "id": "Bd5YvULjWvOV",
        "outputId": "7788a9fa-cf0e-45cb-c04a-492a2b010c88"
      },
      "execution_count": null,
      "outputs": [
        {
          "output_type": "stream",
          "name": "stdout",
          "text": [
            "<class 'tuple'>\n"
          ]
        }
      ]
    },
    {
      "cell_type": "code",
      "source": [
        "c=3+5j\n",
        "print(type(c))"
      ],
      "metadata": {
        "colab": {
          "base_uri": "https://localhost:8080/"
        },
        "id": "4rvpQMFSWyYv",
        "outputId": "f6c0c737-cd03-45ef-b1fc-c1cdd959f8ae"
      },
      "execution_count": null,
      "outputs": [
        {
          "output_type": "stream",
          "name": "stdout",
          "text": [
            "<class 'complex'>\n"
          ]
        }
      ]
    },
    {
      "cell_type": "code",
      "source": [
        "d=(\"Hello\")\n",
        "print(type(d))"
      ],
      "metadata": {
        "colab": {
          "base_uri": "https://localhost:8080/"
        },
        "id": "HP1uiKIwW1Qu",
        "outputId": "df50d120-4caa-4730-dcf5-f888bb954f71"
      },
      "execution_count": null,
      "outputs": [
        {
          "output_type": "stream",
          "name": "stdout",
          "text": [
            "<class 'str'>\n"
          ]
        }
      ]
    },
    {
      "cell_type": "code",
      "source": [
        "e=['Sky']\n",
        "print(type(e))"
      ],
      "metadata": {
        "colab": {
          "base_uri": "https://localhost:8080/"
        },
        "id": "ZcHlSrw8W3SP",
        "outputId": "2c3a03dc-e493-41f3-806d-63c6b7478969"
      },
      "execution_count": null,
      "outputs": [
        {
          "output_type": "stream",
          "name": "stdout",
          "text": [
            "<class 'list'>\n"
          ]
        }
      ]
    },
    {
      "cell_type": "code",
      "source": [
        "f=tuple((\"Sky\"))\n",
        "print(type(f))"
      ],
      "metadata": {
        "colab": {
          "base_uri": "https://localhost:8080/"
        },
        "id": "w-TFJPqMW8_h",
        "outputId": "1ba05ce0-bfde-4116-8cc3-f320cb6db1cf"
      },
      "execution_count": null,
      "outputs": [
        {
          "output_type": "stream",
          "name": "stdout",
          "text": [
            "<class 'tuple'>\n"
          ]
        }
      ]
    },
    {
      "cell_type": "code",
      "source": [
        "g=dict(Name = \"Sky\" , Work = \"Study\")\n",
        "print(type(g))"
      ],
      "metadata": {
        "colab": {
          "base_uri": "https://localhost:8080/"
        },
        "id": "wZuelWYtXAJr",
        "outputId": "0e1a1fa3-0ec8-4bba-9f2e-42af300ea6a5"
      },
      "execution_count": null,
      "outputs": [
        {
          "output_type": "stream",
          "name": "stdout",
          "text": [
            "<class 'dict'>\n"
          ]
        }
      ]
    },
    {
      "cell_type": "code",
      "source": [
        "h=True\n",
        "print(type(h))"
      ],
      "metadata": {
        "colab": {
          "base_uri": "https://localhost:8080/"
        },
        "id": "xm0gRC2DXDLY",
        "outputId": "5c3b3635-313f-49c4-f698-c6bbb9367f97"
      },
      "execution_count": null,
      "outputs": [
        {
          "output_type": "stream",
          "name": "stdout",
          "text": [
            "<class 'bool'>\n"
          ]
        }
      ]
    },
    {
      "cell_type": "code",
      "source": [
        "i=False\n",
        "print(type(i))"
      ],
      "metadata": {
        "colab": {
          "base_uri": "https://localhost:8080/"
        },
        "id": "w_ZmcbMUXGGB",
        "outputId": "6949f630-7049-43ed-cb9c-5d2f8fef960e"
      },
      "execution_count": null,
      "outputs": [
        {
          "output_type": "stream",
          "name": "stdout",
          "text": [
            "<class 'bool'>\n"
          ]
        }
      ]
    },
    {
      "cell_type": "code",
      "source": [
        "import math\n",
        "x1 = input(\"Enter Number x1 : \")\n",
        "x1 = int(x1)\n",
        "\n",
        "y1 = input(\"Enter Number y1 : \")\n",
        "y1 = int(y1)\n",
        "\n",
        "x2 = input(\"Enter Number x2 : \")\n",
        "x2 = int(x2)\n",
        "\n",
        "y2 = input(\"Enter Number y2 : \")\n",
        "y2 = int(y2)\n",
        "\n",
        "distance = math.sqrt((x1-x2) ** 2 + (y1-y2) ** 2)\n",
        "print(\"distance between\",(x1,y1),\"and\",(x2,y2),\"is : \",distance)"
      ],
      "metadata": {
        "colab": {
          "base_uri": "https://localhost:8080/"
        },
        "id": "SzfavRmFXI4X",
        "outputId": "18397f23-7774-4d4f-c503-9bbf74408deb"
      },
      "execution_count": null,
      "outputs": [
        {
          "output_type": "stream",
          "name": "stdout",
          "text": [
            "Enter Number x1 : 5\n",
            "Enter Number y1 : 1\n",
            "Enter Number x2 : 6\n",
            "Enter Number y2 : 4\n",
            "distance between (5, 1) and (6, 4) is :  3.1622776601683795\n"
          ]
        }
      ]
    },
    {
      "cell_type": "code",
      "source": [
        "p=int(input(\"Enter a number : \"))\n",
        "if p%2==0:\n",
        "  print(\"even\")\n",
        "else:\n",
        "    print(\"odd\")"
      ],
      "metadata": {
        "colab": {
          "base_uri": "https://localhost:8080/"
        },
        "id": "hOdrG2v9XNkP",
        "outputId": "4ad21a09-9b9f-4c7b-e3d6-95dfae5c6e0b"
      },
      "execution_count": null,
      "outputs": [
        {
          "output_type": "stream",
          "name": "stdout",
          "text": [
            "Enter a number : 5\n",
            "odd\n"
          ]
        }
      ]
    },
    {
      "cell_type": "code",
      "source": [
        "num = int(input(\"Enter a number :\"))\n",
        "s=0\n",
        "a=num\n",
        "while a>0:\n",
        "  digit = a%10\n",
        "  s+=digit**3\n",
        "  a//=10\n",
        "if num==s:\n",
        "  print(num,\"is a armstrong number\")\n",
        "else:\n",
        "  print(num,\"is not a armstrong number\")"
      ],
      "metadata": {
        "colab": {
          "base_uri": "https://localhost:8080/"
        },
        "id": "DCwSNjSuXUdG",
        "outputId": "e0c5a433-2334-4561-9083-4d583d71f9ce"
      },
      "execution_count": null,
      "outputs": [
        {
          "output_type": "stream",
          "name": "stdout",
          "text": [
            "Enter a number :5\n",
            "5 is not a armstrong number\n"
          ]
        }
      ]
    },
    {
      "cell_type": "code",
      "source": [
        "q=int(input(\"Enter a number : \"))\n",
        "i=0\n",
        "while i<=q:\n",
        "  print(i)\n",
        "  i = i+1"
      ],
      "metadata": {
        "colab": {
          "base_uri": "https://localhost:8080/"
        },
        "id": "E0EiTGYYXYlX",
        "outputId": "b5f8b6ba-e36d-4714-f914-4899d7b233a1"
      },
      "execution_count": null,
      "outputs": [
        {
          "output_type": "stream",
          "name": "stdout",
          "text": [
            "Enter a number : 5\n",
            "0\n",
            "1\n",
            "2\n",
            "3\n",
            "4\n",
            "5\n"
          ]
        }
      ]
    },
    {
      "cell_type": "code",
      "source": [
        "a=str(input(\"Enter a string : \"))\n",
        "b={}\n",
        "for i in a :\n",
        "  b[i] = a.count(i)\n",
        "print(b)"
      ],
      "metadata": {
        "colab": {
          "base_uri": "https://localhost:8080/"
        },
        "id": "Fb-gXdpnXea3",
        "outputId": "1e87443b-ca30-4f46-bd05-36eaf6d66a9b"
      },
      "execution_count": null,
      "outputs": [
        {
          "output_type": "stream",
          "name": "stdout",
          "text": [
            "Enter a string : Darshil\n",
            "{'D': 1, 'a': 1, 'r': 1, 's': 1, 'h': 1, 'i': 1, 'l': 1}\n"
          ]
        }
      ]
    },
    {
      "cell_type": "code",
      "source": [
        "list = [\"Sky\",\"Rutul\",\"Patel\"]\n",
        "print (list)"
      ],
      "metadata": {
        "colab": {
          "base_uri": "https://localhost:8080/"
        },
        "id": "jWLDBmr3Xg-b",
        "outputId": "62771380-2a23-4537-aafc-0596ca9b433d"
      },
      "execution_count": null,
      "outputs": [
        {
          "output_type": "stream",
          "name": "stdout",
          "text": [
            "['Sky', 'Rutul', 'Patel']\n"
          ]
        }
      ]
    },
    {
      "cell_type": "code",
      "source": [
        "tuple = (\"Sky\",\"Alpha\",\"Delta\")\n",
        "print(tuple)"
      ],
      "metadata": {
        "colab": {
          "base_uri": "https://localhost:8080/"
        },
        "id": "paE66nYDXjhi",
        "outputId": "3f71e838-6ba6-4f80-f23b-968c4edc90bd"
      },
      "execution_count": null,
      "outputs": [
        {
          "output_type": "stream",
          "name": "stdout",
          "text": [
            "('Sky', 'Alpha', 'Delta')\n"
          ]
        }
      ]
    },
    {
      "cell_type": "code",
      "source": [
        "for i in list:\n",
        "  print(i)\n",
        "for i in tuple:\n",
        "  print(i)"
      ],
      "metadata": {
        "colab": {
          "base_uri": "https://localhost:8080/"
        },
        "id": "LzSZBokBXmKB",
        "outputId": "8bdcc1d0-2a6d-495d-caa8-8790bb52d436"
      },
      "execution_count": null,
      "outputs": [
        {
          "output_type": "stream",
          "name": "stdout",
          "text": [
            "Sky\n",
            "Rutul\n",
            "Patel\n",
            "Sky\n",
            "Alpha\n",
            "Delta\n"
          ]
        }
      ]
    },
    {
      "cell_type": "code",
      "source": [
        "mytuple = (1, 'string', 4.43, 'xyz')\n",
        "print(mytuple)\n",
        "print(mytuple[1])\n",
        "print(type(mytuple))\n",
        "print(len(mytuple))"
      ],
      "metadata": {
        "id": "iDKPdXqNXo9A",
        "colab": {
          "base_uri": "https://localhost:8080/"
        },
        "outputId": "ebe32e04-4ab6-4b58-c7d4-e8e84ef7c84a"
      },
      "execution_count": 7,
      "outputs": [
        {
          "output_type": "stream",
          "name": "stdout",
          "text": [
            "(1, 'string', 4.43, 'xyz')\n",
            "string\n",
            "<class 'tuple'>\n",
            "4\n"
          ]
        }
      ]
    },
    {
      "cell_type": "code",
      "source": [
        "x = (\"apple\", \"banana\", \"cherry\")\n",
        "y = list(x)\n",
        "y[1] = \"kiwi\"\n",
        "x = tuple(y)\n",
        "\n",
        "print(x)"
      ],
      "metadata": {
        "colab": {
          "base_uri": "https://localhost:8080/"
        },
        "id": "Y86NIciuRN2D",
        "outputId": "d6555806-7e8c-414f-c62f-f0679e54d812"
      },
      "execution_count": 8,
      "outputs": [
        {
          "output_type": "stream",
          "name": "stdout",
          "text": [
            "('apple', 'kiwi', 'cherry')\n"
          ]
        }
      ]
    },
    {
      "cell_type": "code",
      "source": [
        "thistuple = (\"apple\", \"banana\", \"cherry\")\n",
        "y = list(thistuple)\n",
        "y.append(\"orange\")\n",
        "thistuple = tuple(y)\n",
        "print(thistuple)"
      ],
      "metadata": {
        "colab": {
          "base_uri": "https://localhost:8080/"
        },
        "id": "fyiMdvtOSx2_",
        "outputId": "04172d9f-4646-4290-c08e-7091e23c80a1"
      },
      "execution_count": 10,
      "outputs": [
        {
          "output_type": "stream",
          "name": "stdout",
          "text": [
            "('apple', 'banana', 'cherry', 'orange')\n"
          ]
        }
      ]
    },
    {
      "cell_type": "code",
      "source": [
        ""
      ],
      "metadata": {
        "id": "aWZaKRNDTAWh"
      },
      "execution_count": null,
      "outputs": []
    }
  ]
}