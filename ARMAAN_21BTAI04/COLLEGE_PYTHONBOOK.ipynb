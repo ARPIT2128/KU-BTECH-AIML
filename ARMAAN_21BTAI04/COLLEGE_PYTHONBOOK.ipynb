{
  "nbformat": 4,
  "nbformat_minor": 0,
  "metadata": {
    "colab": {
      "name": "COLLEGE_PYTHONBOOK.ipynb",
      "provenance": [],
      "collapsed_sections": [],
      "include_colab_link": true
    },
    "kernelspec": {
      "name": "python3",
      "display_name": "Python 3"
    },
    "language_info": {
      "name": "python"
    }
  },
  "cells": [
    {
      "cell_type": "markdown",
      "metadata": {
        "id": "view-in-github",
        "colab_type": "text"
      },
      "source": [
        "<a href=\"https://colab.research.google.com/github/ARPIT2128/KU-BTECH-AIML/blob/main/ARMAAN_21BTAI04/COLLEGE_PYTHONBOOK.ipynb\" target=\"_parent\"><img src=\"https://colab.research.google.com/assets/colab-badge.svg\" alt=\"Open In Colab\"/></a>"
      ]
    },
    {
      "cell_type": "code",
      "source": [
        "num1=int(input(\"enter the number:\"))\n",
        "print(num1)\n",
        "type(num1)"
      ],
      "metadata": {
        "colab": {
          "base_uri": "https://localhost:8080/"
        },
        "id": "iPDtpwOraLFC",
        "outputId": "43727db8-7023-4499-873a-de55c1acaddd"
      },
      "execution_count": null,
      "outputs": [
        {
          "output_type": "stream",
          "name": "stdout",
          "text": [
            "enter the number:55\n",
            "55\n"
          ]
        },
        {
          "output_type": "execute_result",
          "data": {
            "text/plain": [
              "int"
            ]
          },
          "metadata": {},
          "execution_count": 2
        }
      ]
    },
    {
      "cell_type": "code",
      "source": [
        "str=(input(\"enter the string:\"))\n",
        "print(str)\n",
        "type(str)"
      ],
      "metadata": {
        "colab": {
          "base_uri": "https://localhost:8080/"
        },
        "id": "SL5Wssc9aWcs",
        "outputId": "b18cd187-8e3b-4be6-c754-bcaea486d980"
      },
      "execution_count": null,
      "outputs": [
        {
          "output_type": "stream",
          "name": "stdout",
          "text": [
            "enter the string:Armaan\n",
            "Armaan\n"
          ]
        },
        {
          "output_type": "execute_result",
          "data": {
            "text/plain": [
              "str"
            ]
          },
          "metadata": {},
          "execution_count": 1
        }
      ]
    },
    {
      "cell_type": "code",
      "source": [
        "float_num = float(input(\"enter the float number:\"))\n",
        "print(float_num)\n",
        "type(float_num)"
      ],
      "metadata": {
        "colab": {
          "base_uri": "https://localhost:8080/"
        },
        "id": "OfoiguDlakvi",
        "outputId": "830d0760-d2bc-4f70-cd40-da51d63eaf3b"
      },
      "execution_count": null,
      "outputs": [
        {
          "output_type": "stream",
          "name": "stdout",
          "text": [
            "enter the float number:35.65\n",
            "35.65\n"
          ]
        },
        {
          "output_type": "execute_result",
          "data": {
            "text/plain": [
              "float"
            ]
          },
          "metadata": {},
          "execution_count": 4
        }
      ]
    },
    {
      "cell_type": "code",
      "source": [
        "import math\n",
        "x1=int(input(\"enter the value x1\"))\n",
        "x2=int(input(\"enter the value x2\"))\n",
        "y1=int(input(\"enter the value y1\"))\n",
        "y2=int(input(\"enter the value y2\"))\n",
        "d=math.sqrt((x2-x1)**2+(y2-y1)**2)\n",
        "print(\"the distance between two points is;\",d)"
      ],
      "metadata": {
        "colab": {
          "base_uri": "https://localhost:8080/"
        },
        "id": "jaZJ2p-Za1bT",
        "outputId": "19163866-771c-4d4c-c364-0996436b59ad"
      },
      "execution_count": null,
      "outputs": [
        {
          "output_type": "stream",
          "name": "stdout",
          "text": [
            "enter the value x12\n",
            "enter the value x23\n",
            "enter the value y13\n",
            "enter the value y24\n",
            "the distance between two points is; 1.4142135623730951\n"
          ]
        }
      ]
    },
    {
      "cell_type": "code",
      "source": [
        "num = int(input(\"enter the number: \"))\n",
        "if (num%2==0):\n",
        "    print('num is an even number')\n",
        "else:\n",
        "    print('num is an odd number')"
      ],
      "metadata": {
        "colab": {
          "base_uri": "https://localhost:8080/"
        },
        "id": "CCANZS-RbJrD",
        "outputId": "a7b4fa99-739a-42f9-d9b0-bba97bdb0a07"
      },
      "execution_count": null,
      "outputs": [
        {
          "output_type": "stream",
          "name": "stdout",
          "text": [
            "enter the number: 34\n",
            "num is an even number\n"
          ]
        }
      ]
    },
    {
      "cell_type": "code",
      "source": [
        "x=int(input(\"enter the number\"))\n",
        "while x>=0:\n",
        "     print(x)\n",
        "     x=x-1"
      ],
      "metadata": {
        "colab": {
          "base_uri": "https://localhost:8080/"
        },
        "id": "H0JTIEnzbW4K",
        "outputId": "33da0794-59f2-4e34-e1a0-8ad19f8018de"
      },
      "execution_count": null,
      "outputs": [
        {
          "output_type": "stream",
          "name": "stdout",
          "text": [
            "enter the number5\n",
            "5\n",
            "4\n",
            "3\n",
            "2\n",
            "1\n",
            "0\n"
          ]
        }
      ]
    },
    {
      "cell_type": "code",
      "source": [
        "str1=input(\"Enter a String\")\n",
        "dict = {}\n",
        "for i in str1: \n",
        "    dict[i] = str1.count(i)\n",
        "print (dict)"
      ],
      "metadata": {
        "colab": {
          "base_uri": "https://localhost:8080/"
        },
        "id": "CPTqDOANbvrn",
        "outputId": "5bd38964-2986-49d8-d881-d6c9a59ce387"
      },
      "execution_count": null,
      "outputs": [
        {
          "output_type": "stream",
          "name": "stdout",
          "text": [
            "Enter a Stringbanana\n",
            "{'b': 1, 'a': 3, 'n': 2}\n"
          ]
        }
      ]
    },
    {
      "cell_type": "code",
      "source": [
        "my_lists=[\"divya\",\"armaan\",\"kushal\"]\n",
        "my_tuple=(\"divya\",\"armaan\",\"kushal\")\n",
        "print(my_lists)\n",
        "print(my_tuple)\n",
        "for i in my_lists:\n",
        "    print(i)\n",
        "for i in my_tuple:\n",
        "    print(i)"
      ],
      "metadata": {
        "colab": {
          "base_uri": "https://localhost:8080/"
        },
        "id": "n6xD0LgPbrgY",
        "outputId": "e13fe963-ec59-4a17-938c-fab45a3a0b6e"
      },
      "execution_count": null,
      "outputs": [
        {
          "output_type": "stream",
          "name": "stdout",
          "text": [
            "['divya', 'armaan', 'kushal']\n",
            "('divya', 'armaan', 'kushal')\n",
            "divya\n",
            "armaan\n",
            "kushal\n",
            "divya\n",
            "armaan\n",
            "kushal\n"
          ]
        }
      ]
    },
    {
      "cell_type": "code",
      "execution_count": null,
      "metadata": {
        "colab": {
          "base_uri": "https://localhost:8080/"
        },
        "id": "JGNafGL8aHhY",
        "outputId": "0a1516b1-902a-4eb6-c913-9b426e84d3e9"
      },
      "outputs": [
        {
          "output_type": "stream",
          "name": "stdout",
          "text": [
            "Enter a number: 5\n",
            "The factorial of 5 number is 120\n"
          ]
        }
      ],
      "source": [
        "# write a program to calculate factorial of a given number\n",
        "num = int(input(\"Enter a number: \"))\n",
        "res = 1\n",
        "for i in range(1, num+1):\n",
        "    res = res * i\n",
        "print(f\"The factorial of {num} number is {res}\")"
      ]
    },
    {
      "cell_type": "markdown",
      "source": [
        "Experiment 7"
      ],
      "metadata": {
        "id": "Z2IwyeuvgWXn"
      }
    },
    {
      "cell_type": "code",
      "source": [
        "import sympy\n",
        "sum=0\n",
        "for i in range(0,3490001):\n",
        "  if(sympy.isprime(i))==True:\n",
        "    sum+=i\n",
        "print(sum)"
      ],
      "metadata": {
        "colab": {
          "base_uri": "https://localhost:8080/"
        },
        "id": "DFAtIHE5gTXY",
        "outputId": "8f656101-8ad4-45d1-f2da-0f9e91c63322"
      },
      "execution_count": 1,
      "outputs": [
        {
          "output_type": "stream",
          "name": "stdout",
          "text": [
            "418447415491\n"
          ]
        }
      ]
    },
    {
      "cell_type": "code",
      "source": [
        "def fibonacci():\n",
        "  sequence=[1,2]\n",
        "  total=0\n",
        "  while sequence[-1]<600000:\n",
        "    if sequence[-1]%2==0:\n",
        "      total+=sequence[-1]\n",
        "    sequence.append(sequence[-1]+sequence[-2])\n",
        "  print(total)\n",
        "fibonacci()"
      ],
      "metadata": {
        "colab": {
          "base_uri": "https://localhost:8080/"
        },
        "id": "666ycp8qgVjw",
        "outputId": "029b6e86-0b98-4fb7-e027-b668ba32c441"
      },
      "execution_count": 2,
      "outputs": [
        {
          "output_type": "stream",
          "name": "stdout",
          "text": [
            "257114\n"
          ]
        }
      ]
    },
    {
      "cell_type": "code",
      "source": [
        "l=[1,2,3,4,5,6,9,4,3,6,7]\n",
        "l1=[]\n",
        "for i in l:\n",
        "    if i not in l1:\n",
        "        l1.append(i)\n",
        "    else:\n",
        "        print(i,end=' ')"
      ],
      "metadata": {
        "colab": {
          "base_uri": "https://localhost:8080/"
        },
        "id": "UWy8MwMpgd-a",
        "outputId": "77b5064b-4fc3-449a-bb8b-895906587e18"
      },
      "execution_count": 3,
      "outputs": [
        {
          "output_type": "stream",
          "name": "stdout",
          "text": [
            "4 3 6 "
          ]
        }
      ]
    },
    {
      "cell_type": "markdown",
      "source": [
        "Experiment 8"
      ],
      "metadata": {
        "id": "H9vdnkKFghbY"
      }
    },
    {
      "cell_type": "code",
      "source": [
        "n = [12,45,8,2,46]\n",
        "l = len(n)\n",
        "t= 0\n",
        "for i in range(l) :\n",
        "  t = t + n[i]\n",
        "print(\"Total is \",t)\n",
        "mean = t/l\n",
        "print(mean)"
      ],
      "metadata": {
        "colab": {
          "base_uri": "https://localhost:8080/"
        },
        "id": "8l3xmNw2gg6X",
        "outputId": "0f848503-2d1f-4d8f-d7d0-96e2606fbc3f"
      },
      "execution_count": 4,
      "outputs": [
        {
          "output_type": "stream",
          "name": "stdout",
          "text": [
            "Total is  113\n",
            "22.6\n"
          ]
        }
      ]
    },
    {
      "cell_type": "markdown",
      "source": [
        "Experiment 9"
      ],
      "metadata": {
        "id": "yyiKjkJUgpRQ"
      }
    },
    {
      "cell_type": "code",
      "source": [
        "numb = [2, 4, 5, 8, 9]\n",
        "no = len(numb)\n",
        "numb.sort()\n",
        "if no % 2 == 0:\n",
        "  median1 = numb[no//2]\n",
        "  median2 = numb[no//2 - 1]\n",
        "  median = (median1 + median2)/2\n",
        "else:\n",
        "  median = numb[no//2]\n",
        "print(\"The median of the given numbers \", numb, \"is\",(median))\n"
      ],
      "metadata": {
        "colab": {
          "base_uri": "https://localhost:8080/"
        },
        "id": "gjZdpEMBgmHd",
        "outputId": "c1189fca-f9c7-4290-e034-02379ceaed65"
      },
      "execution_count": 5,
      "outputs": [
        {
          "output_type": "stream",
          "name": "stdout",
          "text": [
            "The median of the given numbers  [2, 4, 5, 8, 9] is 5\n"
          ]
        }
      ]
    },
    {
      "cell_type": "code",
      "source": [
        "d = {\"selena\" : \"gomez\" , \"me\": \"pie\", \"chocolate\" :\"cake\",\"mango\" :\"smoothie\"}\n",
        "username = input(\"Enter the username :\")\n",
        "if username in d:\n",
        "  password = input(\"Enter the password :\")\n",
        "  if d[username]== password :\n",
        "    print(\"You are logged in to system !\")\n",
        "  else :\n",
        "    print(\"You have entered wrong password . \")\n",
        "else :\n",
        "  print(\"The person is not valid to login .\")\n"
      ],
      "metadata": {
        "colab": {
          "base_uri": "https://localhost:8080/"
        },
        "id": "qvsSs4d-grWB",
        "outputId": "f24a85df-2855-4a2a-db89-97c6f0c6ee3b"
      },
      "execution_count": 7,
      "outputs": [
        {
          "output_type": "stream",
          "name": "stdout",
          "text": [
            "Enter the username :selena\n",
            "Enter the password :gomez\n",
            "You are logged in to system !\n"
          ]
        }
      ]
    },
    {
      "cell_type": "markdown",
      "source": [
        "Experiment 11"
      ],
      "metadata": {
        "id": "YehPN-D7g9OG"
      }
    },
    {
      "cell_type": "code",
      "source": [
        "subject_marks = [('Mathematics', 93), ('Python', 95), ('Environment',96)]\n",
        "print(\"Original list of tuples:\")\n",
        "print(subject_marks)\n",
        "subject_marks.sort(key = lambda x: x[1])\n",
        "print(\"\\nSorting the List of Tuples:\")\n",
        "print(subject_marks)"
      ],
      "metadata": {
        "colab": {
          "base_uri": "https://localhost:8080/"
        },
        "id": "9eO5kvbogtz4",
        "outputId": "acb93add-0457-49e8-ce52-ba1a6f2d2861"
      },
      "execution_count": 10,
      "outputs": [
        {
          "output_type": "stream",
          "name": "stdout",
          "text": [
            "Original list of tuples:\n",
            "[('Mathematics', 93), ('Python', 95), ('Environment', 96)]\n",
            "\n",
            "Sorting the List of Tuples:\n",
            "[('Mathematics', 93), ('Python', 95), ('Environment', 96)]\n"
          ]
        }
      ]
    },
    {
      "cell_type": "markdown",
      "source": [
        "Experiment 12"
      ],
      "metadata": {
        "id": "3J5E9KW8hGof"
      }
    },
    {
      "cell_type": "code",
      "source": [
        "# tup = eval(input(\"Enter a tuple :- \"))\n",
        "# index = 0\n",
        "# while index < len(tup):\n",
        "#   new = tup[ index ][1 : ] + tup[ index ][ 0 ] + \"ay\"\n",
        "#   print (new, end = \" \")\n",
        "#   index += 1"
      ],
      "metadata": {
        "id": "fpBitUL3g_yd"
      },
      "execution_count": 9,
      "outputs": []
    },
    {
      "cell_type": "markdown",
      "source": [
        "Experiment 13"
      ],
      "metadata": {
        "id": "udsD5SothITx"
      }
    },
    {
      "cell_type": "code",
      "source": [
        "n = int(input(\"Enter a number till which you want fibonacci series: \"))\n",
        "n1 = 0\n",
        "n2=1\n",
        "print(\"Series\",n1,n2,end=\" \")\n",
        "for i in range(2,n):\n",
        "  new = n1 + n2\n",
        "  n1 = n2\n",
        "  n2 = new\n",
        "  print(new, end=\" \")\n",
        "print()"
      ],
      "metadata": {
        "colab": {
          "base_uri": "https://localhost:8080/"
        },
        "id": "0QHvqJwkhCDf",
        "outputId": "67e1c064-de15-4d64-b964-d7953dcd2ce2"
      },
      "execution_count": 11,
      "outputs": [
        {
          "output_type": "stream",
          "name": "stdout",
          "text": [
            "Enter a number till which you want fibonacci series: 8\n",
            "Series 0 1 1 2 3 5 8 13 \n"
          ]
        }
      ]
    },
    {
      "cell_type": "code",
      "source": [
        "while True:\n",
        "    print(\"\\nMENU\")\n",
        "    print(\"1. Binary Search\")\n",
        "    print(\"2. Linear Search\")\n",
        "\n",
        "    print(\"3. Exit\")\n",
        "    choice = int(input(\"\\nEnter the Choice: \"))\n",
        "\n",
        "    if choice == 1:\n",
        "        def binary_search(list1, n):\n",
        "            low = 0\n",
        "            high = len(list1) - 1\n",
        "            mid = 0\n",
        "\n",
        "            while low <= high:\n",
        "\n",
        "                mid = (high + low) // 2\n",
        "\n",
        "                if list1[mid] < n:\n",
        "                    low = mid + 1\n",
        "\n",
        "                elif list1[mid] > n:\n",
        "                    high = mid - 1\n",
        "                else:\n",
        "                    return mid\n",
        "\n",
        "            return -1\n",
        "\n",
        "\n",
        "        list1 = []\n",
        "        i = 0\n",
        "        while i < 5:\n",
        "            list1.append(int(input(\"enter digits of array:\")))\n",
        "            i = i + 1\n",
        "\n",
        "        # list1.append(input(\"enter digit\"))\n",
        "        n = int(input(\"enter your target: \"))\n",
        "\n",
        "        # Function call\n",
        "        result = binary_search(list1, n)\n",
        "\n",
        "        if result != -1:\n",
        "            print(\"Element is present at index\", str(result))\n",
        "        else:\n",
        "            print(\"Element is not present in list1\")\n",
        "\n",
        "    if choice == 2:\n",
        "        def search(arr, x):\n",
        "\n",
        "            for i in range(len(arr)):\n",
        "\n",
        "                if arr[i] == x:\n",
        "                    return i\n",
        "\n",
        "            return -1\n",
        "\n",
        "\n",
        "        list1 = []\n",
        "        i = 0\n",
        "        while i < 5:\n",
        "            list1.append(int(input(\"enter digits of array:\")))\n",
        "            i = i + 1\n",
        "\n",
        "        # list1.append(input(\"enter digit\"))\n",
        "        n = int(input(\"enter your target: \"))\n",
        "\n",
        "        # Function call\n",
        "        result = search(list1, n)\n",
        "\n",
        "        if result != -1:\n",
        "            print(\"Element is present at index\", result)\n",
        "        else:\n",
        "            print(\"Element is not present in list1\")\n",
        "\n",
        "    break"
      ],
      "metadata": {
        "colab": {
          "base_uri": "https://localhost:8080/"
        },
        "id": "9JLSToDUhNS8",
        "outputId": "99a63e7f-a778-4f49-efef-caad58c58af9"
      },
      "execution_count": 12,
      "outputs": [
        {
          "output_type": "stream",
          "name": "stdout",
          "text": [
            "\n",
            "MENU\n",
            "1. Binary Search\n",
            "2. Linear Search\n",
            "3. Exit\n",
            "\n",
            "Enter the Choice: 1\n",
            "enter digits of array:1\n",
            "enter digits of array:2\n",
            "enter digits of array:3\n",
            "enter digits of array:4\n",
            "enter digits of array:5\n",
            "enter your target: 2\n",
            "Element is present at index 1\n"
          ]
        }
      ]
    },
    {
      "cell_type": "markdown",
      "source": [
        "Experiment 15"
      ],
      "metadata": {
        "id": "6QfbjTqKhiz2"
      }
    },
    {
      "cell_type": "code",
      "source": [
        "list1=[30,5,6,8,5,2]\n",
        "print(list1)\n",
        "\n",
        "for i in range(len(list1)-1):\n",
        "\n",
        "  for j in range(i+1,len(list1)):\n",
        "\n",
        "    if list1[i] > list1[j]:\n",
        "\n",
        "      list1[i],list1[j] = list1[j],list1[i]\n",
        "\n",
        "print(list1)"
      ],
      "metadata": {
        "colab": {
          "base_uri": "https://localhost:8080/"
        },
        "id": "TZgxjfDJhZGx",
        "outputId": "7c798fd6-f31f-4f27-8874-bbbdce781440"
      },
      "execution_count": 13,
      "outputs": [
        {
          "output_type": "stream",
          "name": "stdout",
          "text": [
            "[30, 5, 6, 8, 5, 2]\n",
            "[2, 5, 5, 6, 8, 30]\n"
          ]
        }
      ]
    },
    {
      "cell_type": "code",
      "source": [
        "t1=[10,4,25,1,5]\n",
        "print(list1)\n",
        "\n",
        "for i in range(1,len(list1)):\n",
        "\n",
        "  value0 = list1[i]                  \n",
        "\n",
        "  j = i-1\n",
        "\n",
        "  while j>=0 and value0<list1[j]:\n",
        "\n",
        "    list1[j+1] = list1[j]\n",
        "    j=j-1\n",
        "\n",
        "  list1[j+1] = value0\n",
        "  print(list1)"
      ],
      "metadata": {
        "colab": {
          "base_uri": "https://localhost:8080/"
        },
        "id": "b807sU5NhiX2",
        "outputId": "ea335a4a-cf75-460a-85a1-ca75a08143d3"
      },
      "execution_count": 14,
      "outputs": [
        {
          "output_type": "stream",
          "name": "stdout",
          "text": [
            "[2, 5, 5, 6, 8, 30]\n",
            "[2, 5, 5, 6, 8, 30]\n",
            "[2, 5, 5, 6, 8, 30]\n",
            "[2, 5, 5, 6, 8, 30]\n",
            "[2, 5, 5, 6, 8, 30]\n",
            "[2, 5, 5, 6, 8, 30]\n"
          ]
        }
      ]
    }
  ]
}