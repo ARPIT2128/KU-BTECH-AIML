{
  "nbformat": 4,
  "nbformat_minor": 0,
  "metadata": {
    "colab": {
      "name": "COLLEGE_PYTHONBOOK.ipynb",
      "provenance": [],
      "collapsed_sections": [],
      "authorship_tag": "ABX9TyM/cE3mw7KsP4tC9TzkAXFP",
      "include_colab_link": true
    },
    "kernelspec": {
      "name": "python3",
      "display_name": "Python 3"
    },
    "language_info": {
      "name": "python"
    }
  },
  "cells": [
    {
      "cell_type": "markdown",
      "metadata": {
        "id": "view-in-github",
        "colab_type": "text"
      },
      "source": [
        "<a href=\"https://colab.research.google.com/github/ARPIT2128/KU-BTECH-AIML/blob/main/ARMAAN_21BTAI04/COLLEGE_PYTHONBOOK.ipynb\" target=\"_parent\"><img src=\"https://colab.research.google.com/assets/colab-badge.svg\" alt=\"Open In Colab\"/></a>"
      ]
    },
    {
      "cell_type": "code",
      "source": [
        "num1=int(input(\"enter the number:\"))\n",
        "print(num1)\n",
        "type(num1)"
      ],
      "metadata": {
        "colab": {
          "base_uri": "https://localhost:8080/"
        },
        "id": "iPDtpwOraLFC",
        "outputId": "43727db8-7023-4499-873a-de55c1acaddd"
      },
      "execution_count": 2,
      "outputs": [
        {
          "output_type": "stream",
          "name": "stdout",
          "text": [
            "enter the number:55\n",
            "55\n"
          ]
        },
        {
          "output_type": "execute_result",
          "data": {
            "text/plain": [
              "int"
            ]
          },
          "metadata": {},
          "execution_count": 2
        }
      ]
    },
    {
      "cell_type": "code",
      "source": [
        "str=(input(\"enter the string:\"))\n",
        "print(str)\n",
        "type(str)"
      ],
      "metadata": {
        "colab": {
          "base_uri": "https://localhost:8080/"
        },
        "id": "SL5Wssc9aWcs",
        "outputId": "b18cd187-8e3b-4be6-c754-bcaea486d980"
      },
      "execution_count": 1,
      "outputs": [
        {
          "output_type": "stream",
          "name": "stdout",
          "text": [
            "enter the string:Armaan\n",
            "Armaan\n"
          ]
        },
        {
          "output_type": "execute_result",
          "data": {
            "text/plain": [
              "str"
            ]
          },
          "metadata": {},
          "execution_count": 1
        }
      ]
    },
    {
      "cell_type": "code",
      "source": [
        "float_num = float(input(\"enter the float number:\"))\n",
        "print(float_num)\n",
        "type(float_num)"
      ],
      "metadata": {
        "colab": {
          "base_uri": "https://localhost:8080/"
        },
        "id": "OfoiguDlakvi",
        "outputId": "830d0760-d2bc-4f70-cd40-da51d63eaf3b"
      },
      "execution_count": 4,
      "outputs": [
        {
          "output_type": "stream",
          "name": "stdout",
          "text": [
            "enter the float number:35.65\n",
            "35.65\n"
          ]
        },
        {
          "output_type": "execute_result",
          "data": {
            "text/plain": [
              "float"
            ]
          },
          "metadata": {},
          "execution_count": 4
        }
      ]
    },
    {
      "cell_type": "code",
      "source": [
        "import math\n",
        "x1=int(input(\"enter the value x1\"))\n",
        "x2=int(input(\"enter the value x2\"))\n",
        "y1=int(input(\"enter the value y1\"))\n",
        "y2=int(input(\"enter the value y2\"))\n",
        "d=math.sqrt((x2-x1)**2+(y2-y1)**2)\n",
        "print(\"the distance between two points is;\",d)"
      ],
      "metadata": {
        "colab": {
          "base_uri": "https://localhost:8080/"
        },
        "id": "jaZJ2p-Za1bT",
        "outputId": "19163866-771c-4d4c-c364-0996436b59ad"
      },
      "execution_count": 5,
      "outputs": [
        {
          "output_type": "stream",
          "name": "stdout",
          "text": [
            "enter the value x12\n",
            "enter the value x23\n",
            "enter the value y13\n",
            "enter the value y24\n",
            "the distance between two points is; 1.4142135623730951\n"
          ]
        }
      ]
    },
    {
      "cell_type": "code",
      "source": [
        "num = int(input(\"enter the number: \"))\n",
        "if (num%2==0):\n",
        "    print('num is an even number')\n",
        "else:\n",
        "    print('num is an odd number')"
      ],
      "metadata": {
        "colab": {
          "base_uri": "https://localhost:8080/"
        },
        "id": "CCANZS-RbJrD",
        "outputId": "a7b4fa99-739a-42f9-d9b0-bba97bdb0a07"
      },
      "execution_count": 6,
      "outputs": [
        {
          "output_type": "stream",
          "name": "stdout",
          "text": [
            "enter the number: 34\n",
            "num is an even number\n"
          ]
        }
      ]
    },
    {
      "cell_type": "code",
      "source": [
        "x=int(input(\"enter the number\"))\n",
        "while x>=0:\n",
        "     print(x)\n",
        "     x=x-1"
      ],
      "metadata": {
        "colab": {
          "base_uri": "https://localhost:8080/"
        },
        "id": "H0JTIEnzbW4K",
        "outputId": "33da0794-59f2-4e34-e1a0-8ad19f8018de"
      },
      "execution_count": 12,
      "outputs": [
        {
          "output_type": "stream",
          "name": "stdout",
          "text": [
            "enter the number5\n",
            "5\n",
            "4\n",
            "3\n",
            "2\n",
            "1\n",
            "0\n"
          ]
        }
      ]
    },
    {
      "cell_type": "code",
      "source": [
        "str1=input(\"Enter a String\")\n",
        "dict = {}\n",
        "for i in str1: \n",
        "    dict[i] = str1.count(i)\n",
        "print (dict)"
      ],
      "metadata": {
        "colab": {
          "base_uri": "https://localhost:8080/"
        },
        "id": "CPTqDOANbvrn",
        "outputId": "5bd38964-2986-49d8-d881-d6c9a59ce387"
      },
      "execution_count": 14,
      "outputs": [
        {
          "output_type": "stream",
          "name": "stdout",
          "text": [
            "Enter a Stringbanana\n",
            "{'b': 1, 'a': 3, 'n': 2}\n"
          ]
        }
      ]
    },
    {
      "cell_type": "code",
      "source": [
        "my_lists=[\"divya\",\"armaan\",\"kushal\"]\n",
        "my_tuple=(\"divya\",\"armaan\",\"kushal\")\n",
        "print(my_lists)\n",
        "print(my_tuple)\n",
        "for i in my_lists:\n",
        "    print(i)\n",
        "for i in my_tuple:\n",
        "    print(i)"
      ],
      "metadata": {
        "colab": {
          "base_uri": "https://localhost:8080/"
        },
        "id": "n6xD0LgPbrgY",
        "outputId": "e13fe963-ec59-4a17-938c-fab45a3a0b6e"
      },
      "execution_count": 15,
      "outputs": [
        {
          "output_type": "stream",
          "name": "stdout",
          "text": [
            "['divya', 'armaan', 'kushal']\n",
            "('divya', 'armaan', 'kushal')\n",
            "divya\n",
            "armaan\n",
            "kushal\n",
            "divya\n",
            "armaan\n",
            "kushal\n"
          ]
        }
      ]
    },
    {
      "cell_type": "code",
      "execution_count": 16,
      "metadata": {
        "colab": {
          "base_uri": "https://localhost:8080/"
        },
        "id": "JGNafGL8aHhY",
        "outputId": "0a1516b1-902a-4eb6-c913-9b426e84d3e9"
      },
      "outputs": [
        {
          "output_type": "stream",
          "name": "stdout",
          "text": [
            "Enter a number: 5\n",
            "The factorial of 5 number is 120\n"
          ]
        }
      ],
      "source": [
        "# write a program to calculate factorial of a given number\n",
        "num = int(input(\"Enter a number: \"))\n",
        "res = 1\n",
        "for i in range(1, num+1):\n",
        "    res = res * i\n",
        "print(f\"The factorial of {num} number is {res}\")"
      ]
    }
  ]
}