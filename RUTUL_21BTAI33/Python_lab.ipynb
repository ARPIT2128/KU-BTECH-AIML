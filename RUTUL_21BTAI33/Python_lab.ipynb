{
  "nbformat": 4,
  "nbformat_minor": 0,
  "metadata": {
    "colab": {
      "name": "Python lab.ipynb",
      "provenance": [],
      "collapsed_sections": [],
      "authorship_tag": "ABX9TyO9YhKA0K4QgCw+M2HBX/X4",
      "include_colab_link": true
    },
    "kernelspec": {
      "name": "python3",
      "display_name": "Python 3"
    },
    "language_info": {
      "name": "python"
    }
  },
  "cells": [
    {
      "cell_type": "markdown",
      "metadata": {
        "id": "view-in-github",
        "colab_type": "text"
      },
      "source": [
        "<a href=\"https://colab.research.google.com/github/ARPIT2128/KU-BTECH-AIML/blob/main/RUTUL_21BTAI33/Python_lab.ipynb\" target=\"_parent\"><img src=\"https://colab.research.google.com/assets/colab-badge.svg\" alt=\"Open In Colab\"/></a>"
      ]
    },
    {
      "cell_type": "markdown",
      "source": [
        "Program 1"
      ],
      "metadata": {
        "id": "uZwm6fzHWwbf"
      }
    },
    {
      "cell_type": "code",
      "execution_count": null,
      "metadata": {
        "colab": {
          "base_uri": "https://localhost:8080/"
        },
        "id": "byXwW4C2-oWl",
        "outputId": "2b18639f-7638-492c-d811-3f9c124bf147"
      },
      "outputs": [
        {
          "output_type": "stream",
          "name": "stdout",
          "text": [
            "<class 'int'>\n"
          ]
        }
      ],
      "source": [
        "a=10\n",
        "print(type(a))"
      ]
    },
    {
      "cell_type": "code",
      "source": [
        "b=12,13\n",
        "print(type(b))"
      ],
      "metadata": {
        "colab": {
          "base_uri": "https://localhost:8080/"
        },
        "id": "Mb3hVFAU_M8Z",
        "outputId": "2ddb2e77-95b7-410a-d637-538b98421ff4"
      },
      "execution_count": null,
      "outputs": [
        {
          "output_type": "stream",
          "name": "stdout",
          "text": [
            "<class 'tuple'>\n"
          ]
        }
      ]
    },
    {
      "cell_type": "code",
      "source": [
        "c=3+5j\n",
        "print(type(c))"
      ],
      "metadata": {
        "colab": {
          "base_uri": "https://localhost:8080/"
        },
        "id": "pra1GTq6ADCd",
        "outputId": "dd7b2f5a-8228-4b06-f6aa-88e9c3d3faaa"
      },
      "execution_count": null,
      "outputs": [
        {
          "output_type": "stream",
          "name": "stdout",
          "text": [
            "<class 'complex'>\n"
          ]
        }
      ]
    },
    {
      "cell_type": "code",
      "source": [
        "d=(\"Hello\")\n",
        "print(type(d))"
      ],
      "metadata": {
        "colab": {
          "base_uri": "https://localhost:8080/"
        },
        "id": "6MbSn5KSADGH",
        "outputId": "949118ad-c43f-4e50-ee50-357ad49c8285"
      },
      "execution_count": null,
      "outputs": [
        {
          "output_type": "stream",
          "name": "stdout",
          "text": [
            "<class 'str'>\n"
          ]
        }
      ]
    },
    {
      "cell_type": "code",
      "source": [
        "e=['Sky']\n",
        "print(type(e))"
      ],
      "metadata": {
        "colab": {
          "base_uri": "https://localhost:8080/"
        },
        "id": "MS0iimmzADJx",
        "outputId": "2ec564b9-d500-45e3-dd73-ac383bfbb41c"
      },
      "execution_count": null,
      "outputs": [
        {
          "output_type": "stream",
          "name": "stdout",
          "text": [
            "<class 'list'>\n"
          ]
        }
      ]
    },
    {
      "cell_type": "code",
      "source": [
        "f=tuple((\"Sky\"))\n",
        "print(type(f))"
      ],
      "metadata": {
        "colab": {
          "base_uri": "https://localhost:8080/"
        },
        "id": "UmbsbD8aADM4",
        "outputId": "36614477-109a-4f88-8854-82e621e176cf"
      },
      "execution_count": null,
      "outputs": [
        {
          "output_type": "stream",
          "name": "stdout",
          "text": [
            "<class 'tuple'>\n"
          ]
        }
      ]
    },
    {
      "cell_type": "code",
      "source": [
        "g=dict(Name = \"Sky\" , Work = \"Study\")\n",
        "print(type(g))"
      ],
      "metadata": {
        "colab": {
          "base_uri": "https://localhost:8080/"
        },
        "id": "Jn5dmHzyADQR",
        "outputId": "83347bde-aaa5-41ca-9928-746d469cc526"
      },
      "execution_count": null,
      "outputs": [
        {
          "output_type": "stream",
          "name": "stdout",
          "text": [
            "<class 'dict'>\n"
          ]
        }
      ]
    },
    {
      "cell_type": "code",
      "source": [
        "h=True\n",
        "print(type(h))"
      ],
      "metadata": {
        "colab": {
          "base_uri": "https://localhost:8080/"
        },
        "id": "XC_sEtEVADU9",
        "outputId": "1022e904-8f3a-4d7a-c0ac-6aa967775907"
      },
      "execution_count": null,
      "outputs": [
        {
          "output_type": "stream",
          "name": "stdout",
          "text": [
            "<class 'bool'>\n"
          ]
        }
      ]
    },
    {
      "cell_type": "code",
      "source": [
        "i=False\n",
        "print(type(i))"
      ],
      "metadata": {
        "colab": {
          "base_uri": "https://localhost:8080/"
        },
        "id": "JpT2CIntADYm",
        "outputId": "d0d0f195-1a70-44b1-ce38-c1e4de179124"
      },
      "execution_count": null,
      "outputs": [
        {
          "output_type": "stream",
          "name": "stdout",
          "text": [
            "<class 'bool'>\n"
          ]
        }
      ]
    },
    {
      "cell_type": "code",
      "source": [
        "y={'malani',19}\n",
        "print(type(y))"
      ],
      "metadata": {
        "colab": {
          "base_uri": "https://localhost:8080/"
        },
        "id": "gEe_teloADbu",
        "outputId": "22c3f215-9c82-4937-d914-089b5c5ae05b"
      },
      "execution_count": null,
      "outputs": [
        {
          "output_type": "stream",
          "name": "stdout",
          "text": [
            "<class 'set'>\n"
          ]
        }
      ]
    },
    {
      "cell_type": "markdown",
      "source": [
        "Program 2"
      ],
      "metadata": {
        "id": "aJ_Evd8PW24L"
      }
    },
    {
      "cell_type": "code",
      "source": [
        "import math\n",
        "x1 = input(\"Enter Number x1 : \")\n",
        "x1 = int(x1)\n",
        "\n",
        "y1 = input(\"Enter Number y1 : \")\n",
        "y1 = int(y1)\n",
        "\n",
        "x2 = input(\"Enter Number x2 : \")\n",
        "x2 = int(x2)\n",
        "\n",
        "y2 = input(\"Enter Number y2 : \")\n",
        "y2 = int(y2)\n",
        "\n",
        "distance = math.sqrt((x1-x2) ** 2 + (y1-y2) ** 2)\n",
        "print(\"distance between\",(x1,y1),\"and\",(x2,y2),\"is : \",distance)"
      ],
      "metadata": {
        "colab": {
          "base_uri": "https://localhost:8080/"
        },
        "id": "vVlnaJHvW4-J",
        "outputId": "7c99b9bc-d0dd-4765-e5b9-bed0f239de02"
      },
      "execution_count": null,
      "outputs": [
        {
          "output_type": "stream",
          "name": "stdout",
          "text": [
            "Enter Number x1 : 5\n",
            "Enter Number y1 : 1\n",
            "Enter Number x2 : 6\n",
            "Enter Number y2 : 4\n",
            "distance between (5, 1) and (6, 4) is :  3.1622776601683795\n"
          ]
        }
      ]
    },
    {
      "cell_type": "markdown",
      "source": [
        "Program 3"
      ],
      "metadata": {
        "id": "S3MzycycXHiq"
      }
    },
    {
      "cell_type": "code",
      "source": [
        "p=int(input(\"Enter a number : \"))\n",
        "if p%2==0:\n",
        "  print(\"even\")\n",
        "else:\n",
        "    print(\"odd\")"
      ],
      "metadata": {
        "colab": {
          "base_uri": "https://localhost:8080/"
        },
        "id": "tu7l2z3uXK4S",
        "outputId": "813e9861-ea4f-417f-e603-d0a734165ca8"
      },
      "execution_count": null,
      "outputs": [
        {
          "output_type": "stream",
          "name": "stdout",
          "text": [
            "Enter a number : 66\n",
            "even\n"
          ]
        }
      ]
    },
    {
      "cell_type": "code",
      "source": [
        "num = int(input(\"Enter a number :\"))\n",
        "s=0\n",
        "a=num\n",
        "while a>0:\n",
        "  digit = a%10\n",
        "  s+=digit**3\n",
        "  a//=10\n",
        "if num==s:\n",
        "  print(num,\"is a armstrong number\")\n",
        "else:\n",
        "  print(num,\"is not a armstrong number\")"
      ],
      "metadata": {
        "colab": {
          "base_uri": "https://localhost:8080/"
        },
        "id": "F8hhz2qqXaAu",
        "outputId": "b44ac6f5-d42b-4600-f399-020515c0d26e"
      },
      "execution_count": null,
      "outputs": [
        {
          "output_type": "stream",
          "name": "stdout",
          "text": [
            "Enter a number :67\n",
            "67 is not a armstrong number\n"
          ]
        }
      ]
    },
    {
      "cell_type": "markdown",
      "source": [
        "Program 4"
      ],
      "metadata": {
        "id": "XimZ71MeXjS3"
      }
    },
    {
      "cell_type": "code",
      "source": [
        "q=int(input(\"Enter a number : \"))\n",
        "i=0\n",
        "while i<=q:\n",
        "  print(i)\n",
        "  i = i+1"
      ],
      "metadata": {
        "colab": {
          "base_uri": "https://localhost:8080/"
        },
        "id": "B81TLB2YXnJs",
        "outputId": "332f637e-730d-4c0c-9913-4fe76c88bfb8"
      },
      "execution_count": null,
      "outputs": [
        {
          "output_type": "stream",
          "name": "stdout",
          "text": [
            "Enter a number : 6\n",
            "0\n",
            "1\n",
            "2\n",
            "3\n",
            "4\n",
            "5\n",
            "6\n"
          ]
        }
      ]
    },
    {
      "cell_type": "markdown",
      "source": [
        "Program 5"
      ],
      "metadata": {
        "id": "_yAld-LiX1v1"
      }
    },
    {
      "cell_type": "code",
      "source": [
        "a=str(input(\"Enter a string : \"))\n",
        "b={}\n",
        "for i in a :\n",
        "  b[i] = a.count(i)\n",
        "print(b)"
      ],
      "metadata": {
        "colab": {
          "base_uri": "https://localhost:8080/"
        },
        "id": "xjAs3Am3X6RE",
        "outputId": "1c297ebd-37b1-4dbb-89a3-d8c129961208"
      },
      "execution_count": null,
      "outputs": [
        {
          "output_type": "stream",
          "name": "stdout",
          "text": [
            "Enter a string : alpha\n",
            "{'a': 2, 'l': 1, 'p': 1, 'h': 1}\n"
          ]
        }
      ]
    },
    {
      "cell_type": "markdown",
      "source": [
        "Program 6"
      ],
      "metadata": {
        "id": "9UGhXU3BYCzj"
      }
    },
    {
      "cell_type": "code",
      "source": [
        "list = [\"Sky\",\"Rutul\",\"Patel\"]\n",
        "print (list)"
      ],
      "metadata": {
        "colab": {
          "base_uri": "https://localhost:8080/"
        },
        "id": "zhvMVGD0YFJf",
        "outputId": "d98faa4a-6a3d-476b-8b57-26d95b06b8b7"
      },
      "execution_count": null,
      "outputs": [
        {
          "output_type": "stream",
          "name": "stdout",
          "text": [
            "['Sky', 'Rutul', 'Patel']\n"
          ]
        }
      ]
    },
    {
      "cell_type": "code",
      "source": [
        "tuple = (\"Sky\",\"Alpha\",\"Delta\")\n",
        "print(tuple)"
      ],
      "metadata": {
        "colab": {
          "base_uri": "https://localhost:8080/"
        },
        "id": "DrxN4-9pYNwE",
        "outputId": "14bc8dfe-d51d-4575-979d-c026e2c0406a"
      },
      "execution_count": null,
      "outputs": [
        {
          "output_type": "stream",
          "name": "stdout",
          "text": [
            "('Sky', 'Alpha', 'Delta')\n"
          ]
        }
      ]
    },
    {
      "cell_type": "code",
      "source": [
        "for i in list:\n",
        "  print(i)\n",
        "for i in tuple:\n",
        "  print(i)"
      ],
      "metadata": {
        "colab": {
          "base_uri": "https://localhost:8080/"
        },
        "id": "fBKhj1OlYNeG",
        "outputId": "c3a157f9-bf1d-491a-aa9e-9f83097b6874"
      },
      "execution_count": null,
      "outputs": [
        {
          "output_type": "stream",
          "name": "stdout",
          "text": [
            "Sky\n",
            "Rutul\n",
            "Patel\n",
            "Sky\n",
            "Alpha\n",
            "Delta\n"
          ]
        }
      ]
    }
  ]
}