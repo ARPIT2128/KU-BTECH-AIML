{
  "nbformat": 4,
  "nbformat_minor": 0,
  "metadata": {
    "colab": {
      "name": "Python_Lab_work.ipynb",
      "provenance": [],
      "collapsed_sections": [],
      "authorship_tag": "ABX9TyO38BowspRLHec1c9RwN6Yv",
      "include_colab_link": true
    },
    "kernelspec": {
      "name": "python3",
      "display_name": "Python 3"
    },
    "language_info": {
      "name": "python"
    }
  },
  "cells": [
    {
      "cell_type": "markdown",
      "metadata": {
        "id": "view-in-github",
        "colab_type": "text"
      },
      "source": [
        "<a href=\"https://colab.research.google.com/github/ARPIT2128/KU-BTECH-AIML/blob/main/bhoomi_21btai07.ipynb\" target=\"_parent\"><img src=\"https://colab.research.google.com/assets/colab-badge.svg\" alt=\"Open In Colab\"/></a>"
      ]
    },
    {
      "cell_type": "code",
      "execution_count": null,
      "metadata": {
        "colab": {
          "base_uri": "https://localhost:8080/"
        },
        "id": "m5gw1jO1rSNc",
        "outputId": "8912ac98-4180-457e-e151-88f8c96909fd"
      },
      "outputs": [
        {
          "output_type": "stream",
          "name": "stdout",
          "text": [
            "<class 'int'>\n",
            "<class 'str'>\n",
            "<class 'float'>\n",
            "<class 'complex'>\n",
            "<class 'bool'>\n"
          ]
        }
      ],
      "source": [
        "#datatypes\n",
        "a=10\n",
        "print(type(a))\n",
        "a=\"Hi\"\n",
        "print(type(a))\n",
        "a=12.5\n",
        "print(type(a))\n",
        "a=1+2j\n",
        "print(type(a))\n",
        "a=True\n",
        "print(type(a))\n",
        "\n"
      ]
    },
    {
      "cell_type": "code",
      "source": [
        "#Find Distance between 2 points\n",
        "import math as m\n",
        "x1=int(input(\"Enter value of x1: \"))\n",
        "y1=int(input(\"Enter value of y1: \"))\n",
        "x2=int(input(\"Enter value of x2: \"))\n",
        "y2=int(input(\"Enter value of y2: \"))\n",
        "d=m.sqrt((x2*x2-x1*x1)**2+(y2*y2-y1*y1)**2)\n",
        "print(\"Distance between 2 points: \",d)"
      ],
      "metadata": {
        "colab": {
          "base_uri": "https://localhost:8080/"
        },
        "id": "056Ab_RosP1h",
        "outputId": "0f7a3f7a-b354-4068-8719-e047fb8c5eda"
      },
      "execution_count": null,
      "outputs": [
        {
          "output_type": "stream",
          "name": "stdout",
          "text": [
            "Enter value of x1: 9\n",
            "Enter value of y1: 3\n",
            "Enter value of x2: 4\n",
            "Enter value of y2: 1\n",
            "Distance between 2 points:  65.49045732013177\n"
          ]
        }
      ]
    },
    {
      "cell_type": "code",
      "source": [
        "# Even or odd\n",
        "def abc():\n",
        "  a=int(input(\"Enter any number: \"))\n",
        "  if(a%2==0):\n",
        "    print(\"Even number\")\n",
        "  elif(a%2!=0):\n",
        "    print(\"odd number\")\n",
        "  else:\n",
        "    print(\"Invalid Value\")\n",
        "abc()"
      ],
      "metadata": {
        "colab": {
          "base_uri": "https://localhost:8080/"
        },
        "id": "E0gCHoRLtynn",
        "outputId": "5c63f88c-b105-4b4b-8297-bfd05271fdf0"
      },
      "execution_count": null,
      "outputs": [
        {
          "output_type": "stream",
          "name": "stdout",
          "text": [
            "Enter any number: 8\n",
            "Even number\n"
          ]
        }
      ]
    },
    {
      "cell_type": "code",
      "source": [
        "#Armstrong or not \n",
        "a=int(input(\"Enter number to check: \"))\n",
        "l=len(str(a))\n",
        "sum=0\n",
        "temp=a\n",
        "while temp>0:\n",
        "  k=temp%10\n",
        "  sum+=k**l\n",
        "  temp//=10\n",
        "if(sum==a):\n",
        "  print(\"Armstrong Number\")\n",
        "else:\n",
        "  print(\"Not an Armstrong Number\")"
      ],
      "metadata": {
        "colab": {
          "base_uri": "https://localhost:8080/"
        },
        "id": "1wwl8-pOuYaO",
        "outputId": "e158ffca-3e32-4ccb-a374-2fb82f6ba5d9"
      },
      "execution_count": null,
      "outputs": [
        {
          "output_type": "stream",
          "name": "stdout",
          "text": [
            "Enter number to check: 65\n",
            "Not an Armstrong Number\n"
          ]
        }
      ]
    },
    {
      "cell_type": "code",
      "source": [
        "#reversed countdown to zero\n",
        "def abc():\n",
        "  a=int(input(\"Enter Number: \"))\n",
        "  m=a\n",
        "  while(m>=0):\n",
        "    print(m)\n",
        "    m=m-1\n",
        "abc()"
      ],
      "metadata": {
        "colab": {
          "base_uri": "https://localhost:8080/"
        },
        "id": "8a7bl2EevL-X",
        "outputId": "fb12f1c0-74f8-483f-f040-a03e265b451c"
      },
      "execution_count": null,
      "outputs": [
        {
          "output_type": "stream",
          "name": "stdout",
          "text": [
            "Enter Number: 9\n",
            "9\n",
            "8\n",
            "7\n",
            "6\n",
            "5\n",
            "4\n",
            "3\n",
            "2\n",
            "1\n",
            "0\n"
          ]
        }
      ]
    },
    {
      "cell_type": "code",
      "source": [
        "# number of character in string \n",
        "str=input(\"Enter a string: \")\n",
        "dict={}\n",
        "for n in str:\n",
        "  keys=dict.keys()\n",
        "  if n in keys:\n",
        "    dict[n]+=1\n",
        "  else:\n",
        "    dict[n]=1\n",
        "print(dict)"
      ],
      "metadata": {
        "colab": {
          "base_uri": "https://localhost:8080/"
        },
        "id": "jozP51_3vpXn",
        "outputId": "5332aba0-f5f1-47d4-ec7a-111c3fac4198"
      },
      "execution_count": null,
      "outputs": [
        {
          "output_type": "stream",
          "name": "stdout",
          "text": [
            "Enter a string: bhoomi\n",
            "{'b': 1, 'h': 1, 'o': 2, 'm': 1, 'i': 1}\n"
          ]
        }
      ]
    },
    {
      "cell_type": "code",
      "source": [
        "a = ['foo', 'bar', 'baz', 'qux']\n",
        "print(type(a))\n",
        "b = (1,2,3,4,5)\n",
        "print(type(b))\n",
        "for i in a:\n",
        "  print(i)\n",
        "for i in b:\n",
        "  print(i)"
      ],
      "metadata": {
        "colab": {
          "base_uri": "https://localhost:8080/"
        },
        "id": "ONC3JBDo4rYh",
        "outputId": "9a9478cc-5f12-44ef-933f-46193b717acd"
      },
      "execution_count": null,
      "outputs": [
        {
          "output_type": "stream",
          "name": "stdout",
          "text": [
            "<class 'list'>\n",
            "<class 'tuple'>\n",
            "foo\n",
            "bar\n",
            "baz\n",
            "qux\n",
            "1\n",
            "2\n",
            "3\n",
            "4\n",
            "5\n"
          ]
        }
      ]
    },
    {
      "cell_type": "code",
      "source": [
        "str = input (\"Enter the Word :- \")\n",
        "if str [ : 2] == \"0!\":\n",
        "    for i in range (len(str)) :\n",
        "        print (str[i])\n",
        "else :\n",
        "    print (\"Please enter again \")\n",
        "    \n",
        "#2\n",
        "str = input (\"Enter the Word :- \")\n",
        "for i in range (-1, -len(str) - 1, -1) :\n",
        "    print (str[i])\n",
        "\n",
        "#3\n",
        "str = input (\"Enter the Word :- \")\n",
        "newstr = str[-1 : : -1]\n",
        "print (newstr)\n",
        "\n",
        "#4\n",
        "str = input (\"Enter the Word :- \")\n",
        "letter = input (\"Enter a letter to count :- \") \n",
        "count = 0\n",
        "for i in str :\n",
        "    if i == letter :\n",
        "        count += 1\n",
        "print (\"Number of letter :- \", count )\n"
      ],
      "metadata": {
        "colab": {
          "base_uri": "https://localhost:8080/"
        },
        "id": "p-ihEhBK50Mf",
        "outputId": "17b69392-da0b-4a4e-a72e-17fdfcdca7b6"
      },
      "execution_count": null,
      "outputs": [
        {
          "output_type": "stream",
          "name": "stdout",
          "text": [
            "Enter the Word :- hela\n",
            "Please enter again \n",
            "Enter the Word :- hello world\n",
            "d\n",
            "l\n",
            "r\n",
            "o\n",
            "w\n",
            " \n",
            "o\n",
            "l\n",
            "l\n",
            "e\n",
            "h\n",
            "Enter the Word :- bora hae\n",
            "eah arob\n",
            "Enter the Word :- blah balh\n",
            "Enter a letter to count :- b\n",
            "Number of letter :-  2\n"
          ]
        }
      ]
    },
    {
      "cell_type": "code",
      "source": [
        "def insertion_sort(num):\n",
        "    \n",
        "    for i in range(1, len(num)):\n",
        "        insert = num[i]\n",
        "        \n",
        "        j = i - 1\n",
        "        \n",
        "        while j >= 0 and num[j] > insert:\n",
        "            num[j + 1] = num[j]\n",
        "            j -= 1\n",
        "        \n",
        "        num[j + 1] = insert\n",
        "\n",
        "random_list_of_nums = [9, 1, 15, 28, 6]\n",
        "insertion_sort(random_list_of_nums)\n",
        "print(random_list_of_nums)"
      ],
      "metadata": {
        "colab": {
          "base_uri": "https://localhost:8080/"
        },
        "id": "Gjz6CkhLlXsf",
        "outputId": "9732c2c4-a4ff-4978-f534-85a9152c1d1b"
      },
      "execution_count": 1,
      "outputs": [
        {
          "output_type": "stream",
          "name": "stdout",
          "text": [
            "[1, 6, 9, 15, 28]\n"
          ]
        }
      ]
    },
    {
      "cell_type": "code",
      "source": [
        "def selection_sort(nums):\n",
        "  \n",
        "    for i in range(len(nums)):\n",
        "        lowestvalue = i\n",
        "\n",
        "        for j in range(i + 1, len(nums)):\n",
        "            if nums[j] < nums[lowestvalue]:\n",
        "                lowestvalue = j\n",
        "        \n",
        "        nums[i], nums[lowestvalue] = nums[lowestvalue], nums[i]\n",
        "\n",
        "random_list_of_nums = [12, 8, 3, 20, 11]\n",
        "selection_sort(random_list_of_nums)\n",
        "print(random_list_of_nums)"
      ],
      "metadata": {
        "colab": {
          "base_uri": "https://localhost:8080/"
        },
        "id": "CAb7diYulzH-",
        "outputId": "f957dd9e-10f7-4212-b907-cd4e4df6130d"
      },
      "execution_count": 2,
      "outputs": [
        {
          "output_type": "stream",
          "name": "stdout",
          "text": [
            "[3, 8, 11, 12, 20]\n"
          ]
        }
      ]
    },
    {
      "cell_type": "code",
      "source": [
        "def mergeSort(arr):\n",
        "\tif len(arr) > 1:\n",
        "\n",
        "\t\tmid = len(arr)//2\n",
        "\n",
        "\t\tL = arr[:mid]\n",
        "\t\tR = arr[mid:]\n",
        "\n",
        "\t\tmergeSort(L)\n",
        "\t\tmergeSort(R)\n",
        "\n",
        "\t\ti = j = k = 0\n",
        "\n",
        "\t\twhile i < len(L) and j < len(R):\n",
        "\t\t\tif L[i] < R[j]:\n",
        "\t\t\t\tarr[k] = L[i]\n",
        "\t\t\t\ti += 1\n",
        "\t\t\telse:\n",
        "\t\t\t\tarr[k] = R[j]\n",
        "\t\t\t\tj += 1\n",
        "\t\t\tk += 1\n",
        "\n",
        "\t\twhile i < len(L):\n",
        "\t\t\tarr[k] = L[i]\n",
        "\t\t\ti += 1\n",
        "\t\t\tk += 1\n",
        "\n",
        "\t\twhile j < len(R):\n",
        "\t\t\tarr[k] = R[j]\n",
        "\t\t\tj += 1\n",
        "\t\t\tk += 1\n",
        "\n",
        "def printList(arr):\n",
        "\tfor i in range(len(arr)):\n",
        "\t\tprint(arr[i], end=\" \")\n",
        "\tprint()\n",
        "\n",
        "if __name__ == '__main__':\n",
        "\tarr = [12, 11, 13, 5, 6, 7]\n",
        "\tprint(\"Given array is\", end=\"\\n\")\n",
        "\tprintList(arr)\n",
        "\tmergeSort(arr)\n",
        "\tprint(\"Sorted array is: \", end=\"\\n\")\n",
        "\tprintList(arr)"
      ],
      "metadata": {
        "colab": {
          "base_uri": "https://localhost:8080/"
        },
        "id": "JxPCzAIKmBAH",
        "outputId": "b88a034c-17c3-4d69-976f-8ce08e5a63c8"
      },
      "execution_count": 3,
      "outputs": [
        {
          "output_type": "stream",
          "name": "stdout",
          "text": [
            "Given array is\n",
            "12 11 13 5 6 7 \n",
            "Sorted array is: \n",
            "5 6 7 11 12 13 \n"
          ]
        }
      ]
    },
    {
      "cell_type": "code",
      "source": [
        "def binarySearch(arr, k, low, high):\n",
        "   \n",
        "    while low <= high:\n",
        "        mid = low + (high - low)//2\n",
        "        if arr[mid] == k:\n",
        "            return mid\n",
        "        elif arr[mid] < k:\n",
        "            low = mid + 1\n",
        "        else:\n",
        "            high = mid - 1\n",
        "    return -1\n",
        "\n",
        "arr = [1, 3, 5, 7, 9]\n",
        "\n",
        "k = 5\n",
        "result = binarySearch(arr, k, 0, len(arr)-1)\n",
        "\n",
        "if result != -1:\n",
        "    print(\"Element is present at index \" + str(result))\n",
        "else:\n",
        "    print(\"Not found\")"
      ],
      "metadata": {
        "colab": {
          "base_uri": "https://localhost:8080/"
        },
        "id": "cv0Tyx-fmLzs",
        "outputId": "f1898e57-0867-42be-b5bd-1aa773ec7410"
      },
      "execution_count": 4,
      "outputs": [
        {
          "output_type": "stream",
          "name": "stdout",
          "text": [
            "Element is present at index 2\n"
          ]
        }
      ]
    },
    {
      "cell_type": "code",
      "source": [
        "def LinearSearch(array, n, k):\n",
        "\n",
        "    for j in range(0, n):\n",
        "\n",
        "        if (array[j] == k):\n",
        "\n",
        "            return j\n",
        "\n",
        "    return -1\n",
        "\n",
        " \n",
        "array = [1, 3, 5, 7, 9]\n",
        "\n",
        "k = 7\n",
        "n = len(array)\n",
        "\n",
        "result = LinearSearch(array, n, k)\n",
        "\n",
        "if(result == -1):\n",
        "\n",
        "    print(\"Element not found\")\n",
        "\n",
        "else:\n",
        "\n",
        "    print(\"Element found at index: \", result)"
      ],
      "metadata": {
        "colab": {
          "base_uri": "https://localhost:8080/"
        },
        "id": "a6ydX9nRmVXY",
        "outputId": "dddecf88-82e3-457e-e593-62576bd39bbe"
      },
      "execution_count": 6,
      "outputs": [
        {
          "output_type": "stream",
          "name": "stdout",
          "text": [
            "Element found at index:  3\n"
          ]
        }
      ]
    },
    {
      "cell_type": "code",
      "source": [
        "subject_marks = [('Discrete Mathematics', 93), ('Python Programming', 95), ('Environmental Science', 88), ('Engineering Physics', 83)] \n",
        "print(\"Original list of tuples:\")\n",
        "print(subject_marks)\n",
        "subject_marks.sort(key = lambda x: x[1])\n",
        "print(\"\\nSorting the List of Tuples:\")\n",
        "print(subject_marks)"
      ],
      "metadata": {
        "colab": {
          "base_uri": "https://localhost:8080/"
        },
        "id": "Bo1WiyMEmftm",
        "outputId": "59cd5f33-cf3e-4884-add2-85cf4229627f"
      },
      "execution_count": 7,
      "outputs": [
        {
          "output_type": "stream",
          "name": "stdout",
          "text": [
            "Original list of tuples:\n",
            "[('Discrete Mathematics', 93), ('Python Programming', 95), ('Environmental Science', 88), ('Engineering Physics', 83)]\n",
            "\n",
            "Sorting the List of Tuples:\n",
            "[('Engineering Physics', 83), ('Environmental Science', 88), ('Discrete Mathematics', 93), ('Python Programming', 95)]\n"
          ]
        }
      ]
    },
    {
      "cell_type": "code",
      "source": [
        "def tuple_to_int(nums):\n",
        "    result = int(''.join(map(str,nums)))\n",
        "    return result\n",
        "\n",
        "nums = (1,2,3)\n",
        "print(\"Original tuple: \") \n",
        "print(nums)\n",
        "print(\"Convert the said tuple of positive integers into an integer:\")\n",
        "print(tuple_to_int(nums))"
      ],
      "metadata": {
        "colab": {
          "base_uri": "https://localhost:8080/"
        },
        "id": "qFQ1QO4hmlT8",
        "outputId": "45f71446-1d33-4f46-95b6-74176fb676ec"
      },
      "execution_count": 8,
      "outputs": [
        {
          "output_type": "stream",
          "name": "stdout",
          "text": [
            "Original tuple: \n",
            "(1, 2, 3)\n",
            "Convert the said tuple of positive integers into an integer:\n",
            "123\n"
          ]
        }
      ]
    },
    {
      "cell_type": "code",
      "source": [
        "dic = {'Path' : \"2003\",\n",
        "       'walla' : \"1809\",\n",
        "       'Portal' : \"1912\",\n",
        "       'Express' : \"2003\",\n",
        "       'Computer' : \"9834\",\n",
        "       'Python' : \"1990\",\n",
        "       'Mysql' : \"2001\",\n",
        "       'c++' : \"1996\",\n",
        "       'java' : \"1998\",\n",
        "       'html' : \"1999\" }\n",
        "\n",
        "username = input(\"Enter username :- \")\n",
        "\n",
        "if username in dic :\n",
        "    password = input(\"Enter password :- \")\n",
        "    if dic[username] == password :\n",
        "        print (\"You are now logged into the system.\")\n",
        "    else :\n",
        "        print (\"Invalid password.\")\n",
        "else :\n",
        "    print (\"You are not valid user.\")"
      ],
      "metadata": {
        "colab": {
          "base_uri": "https://localhost:8080/"
        },
        "id": "nlovBnqWmuYJ",
        "outputId": "1379b34c-9b42-4165-f89f-6be9c944ab63"
      },
      "execution_count": 9,
      "outputs": [
        {
          "output_type": "stream",
          "name": "stdout",
          "text": [
            "Enter username :- Express\n",
            "Enter password :- 2003\n",
            "You are now logged into the system.\n"
          ]
        }
      ]
    },
    {
      "cell_type": "code",
      "source": [
        "#Write a program to print the mean, median, mode and range of the list.\n",
        "\n",
        "#Mean\n",
        "num = [1, 2, 3, 4, 5]\n",
        "n = len(num)\n",
        "  \n",
        "get_sum = sum(num)\n",
        "mean = get_sum / n\n",
        "  \n",
        "print(\"Mean / Average is: \" + str(mean))\n",
        "\n",
        "#Median\n",
        "\n",
        "num = [1, 2, 3, 4, 5]\n",
        "n = len(num)\n",
        "num.sort()\n",
        "  \n",
        "if n % 2 == 0:\n",
        "    median1 = num[n//2]\n",
        "    median2 = num[n//2 - 1]\n",
        "    median = (median1 + median2)/2\n",
        "else:\n",
        "    median = num[n//2]\n",
        "print(\"Median is: \" + str(median))\n",
        "\n",
        "#Mode\n",
        "\n",
        "y= [11, 8, 8, 3, 4, 4, 5, 6, 6, 6, 7, 8]\n",
        "y.sort()\n",
        "L1=[]\n",
        "i = 0\n",
        "while i < len(y) :\n",
        "    L1.append(y.count(y[i]))\n",
        "    i += 1\n",
        "d1 = dict(zip(y, L1))\n",
        "d2={k for (k,v) in d1.items() if v == max(L1) }\n",
        "print(\"mode is \",(d2))\n",
        "\n",
        "#Range\n",
        "\n",
        "nums = [9, 4, 6, 6, 5, 2, 10, 12, 1, 4, 4, 6]\n",
        "\n",
        "minimum = min(nums)\n",
        "maximum = max(nums)\n",
        "\n",
        "print(f'The range is {minimum}, {maximum}')\n"
      ],
      "metadata": {
        "colab": {
          "base_uri": "https://localhost:8080/"
        },
        "id": "cPVe_-txm3vY",
        "outputId": "5f155826-82f3-4dc7-f0fd-b729752bd243"
      },
      "execution_count": 10,
      "outputs": [
        {
          "output_type": "stream",
          "name": "stdout",
          "text": [
            "Mean / Average is: 3.0\n",
            "Median is: 3\n",
            "mode is  {8, 6}\n",
            "The range is 1, 12\n"
          ]
        }
      ]
    }
  ]
}