{
  "nbformat": 4,
  "nbformat_minor": 0,
  "metadata": {
    "colab": {
      "name": "COLLEGE NOTEBOOK.ipynb",
      "provenance": [],
      "collapsed_sections": [],
      "authorship_tag": "ABX9TyMzYMebZ6Uc5B8SqFKOiLTV",
      "include_colab_link": true
    },
    "kernelspec": {
      "name": "python3",
      "display_name": "Python 3"
    },
    "language_info": {
      "name": "python"
    }
  },
  "cells": [
    {
      "cell_type": "markdown",
      "metadata": {
        "id": "view-in-github",
        "colab_type": "text"
      },
      "source": [
        "<a href=\"https://colab.research.google.com/github/ARPIT2128/KU-BTECH-AIML/blob/main/KUNJAN_21BTAI23/COLLEGE_NOTEBOOK.ipynb\" target=\"_parent\"><img src=\"https://colab.research.google.com/assets/colab-badge.svg\" alt=\"Open In Colab\"/></a>"
      ]
    },
    {
      "cell_type": "markdown",
      "source": [
        "EXPERIMENT 1"
      ],
      "metadata": {
        "id": "ezcc0J8SPPjx"
      }
    },
    {
      "cell_type": "code",
      "source": [
        "a=int(input(\"enter the value of a:\"))\n",
        "print(a)\n",
        "type(a)\n",
        "\n"
      ],
      "metadata": {
        "colab": {
          "base_uri": "https://localhost:8080/"
        },
        "id": "Quw6o7TxWOE-",
        "outputId": "f51c8358-3330-4fbd-ebb0-71d53408797b"
      },
      "execution_count": null,
      "outputs": [
        {
          "output_type": "stream",
          "name": "stdout",
          "text": [
            "enter the value of a:5\n",
            "5\n"
          ]
        },
        {
          "output_type": "execute_result",
          "data": {
            "text/plain": [
              "int"
            ]
          },
          "metadata": {},
          "execution_count": 52
        }
      ]
    },
    {
      "cell_type": "code",
      "source": [
        "b=input(\"enter the string:\")\n",
        "print(b)\n",
        "type(b)"
      ],
      "metadata": {
        "colab": {
          "base_uri": "https://localhost:8080/"
        },
        "id": "1vouJdDgYQ0N",
        "outputId": "69d8e623-518b-44cc-89a5-5c9fad49158c"
      },
      "execution_count": null,
      "outputs": [
        {
          "output_type": "stream",
          "name": "stdout",
          "text": [
            "enter the string:Kunjan\n",
            "Kunjan\n"
          ]
        },
        {
          "output_type": "execute_result",
          "data": {
            "text/plain": [
              "str"
            ]
          },
          "metadata": {},
          "execution_count": 50
        }
      ]
    },
    {
      "cell_type": "code",
      "source": [
        "c=float(input(\"enter the float value:\"))\n",
        "print(c)\n",
        "type(c)"
      ],
      "metadata": {
        "colab": {
          "base_uri": "https://localhost:8080/"
        },
        "id": "H6cp5HU9Ya5p",
        "outputId": "2d41c3be-55f7-4a74-97ac-9e4da7d99aa0"
      },
      "execution_count": null,
      "outputs": [
        {
          "output_type": "stream",
          "name": "stdout",
          "text": [
            "enter the float value:22.3\n",
            "22.3\n"
          ]
        },
        {
          "output_type": "execute_result",
          "data": {
            "text/plain": [
              "float"
            ]
          },
          "metadata": {},
          "execution_count": 51
        }
      ]
    },
    {
      "cell_type": "markdown",
      "source": [
        "EXPEIMENT 2"
      ],
      "metadata": {
        "id": "clzjJGwmOLVA"
      }
    },
    {
      "cell_type": "code",
      "source": [
        "import math\n",
        "x1=int(input(\"enter the value of x1:\"))\n",
        "x2=int(input(\"enter the value of x2:\"))\n",
        "y1=int(input(\"enter the value of y1:\"))\n",
        "y2=int(input(\"enter the value of y2:\"))\n",
        "d=math.sqrt((x2-x1)**2+(y2-y1)**2)\n",
        "print('The distance between two points is:',d)"
      ],
      "metadata": {
        "id": "OXRiqAP6bDie",
        "colab": {
          "base_uri": "https://localhost:8080/"
        },
        "outputId": "c28e71c2-68dd-485f-bb5f-e86b299511ea"
      },
      "execution_count": null,
      "outputs": [
        {
          "output_type": "stream",
          "name": "stdout",
          "text": [
            "enter the value of x1:4\n",
            "enter the value of x2:5\n",
            "enter the value of y1:6\n",
            "enter the value of y2:7\n",
            "The distance between two points is: 1.4142135623730951\n"
          ]
        }
      ]
    },
    {
      "cell_type": "markdown",
      "source": [
        "EXPERIMENT 3(A)"
      ],
      "metadata": {
        "id": "tpdqf6YtOXHA"
      }
    },
    {
      "cell_type": "code",
      "source": [
        "x=int(input(\"Enter a number:\"))\n",
        "if x%2==0:\n",
        "  print('x is an even number')\n",
        "else :\n",
        "  print('x is an odd number')\n"
      ],
      "metadata": {
        "colab": {
          "base_uri": "https://localhost:8080/"
        },
        "id": "d4F-mVfkKhHa",
        "outputId": "e58cd6a3-964d-4649-ff34-34d91acdf400"
      },
      "execution_count": null,
      "outputs": [
        {
          "output_type": "stream",
          "name": "stdout",
          "text": [
            "Enter a number:5\n",
            "x is an odd number\n"
          ]
        }
      ]
    },
    {
      "cell_type": "markdown",
      "source": [
        "EXPERIMENT 3(B)"
      ],
      "metadata": {
        "id": "r2x4qd2WOdcI"
      }
    },
    {
      "cell_type": "code",
      "source": [
        "num=int(input(\"enter the number:\"))\n",
        "sum=0\n",
        "temp=num\n",
        "while temp>0:\n",
        "    digit=temp%10\n",
        "    sum+=digit**3\n",
        "    temp//=10\n",
        "if num==sum:\n",
        "      print(num,\"is an armstrong number\")\n",
        "else:\n",
        "  print(num,\"is a not armstrong number\")"
      ],
      "metadata": {
        "colab": {
          "base_uri": "https://localhost:8080/"
        },
        "id": "hwdM9bErK0Ez",
        "outputId": "04e25ab3-02d4-45cc-8069-ca42b88ce832"
      },
      "execution_count": null,
      "outputs": [
        {
          "output_type": "stream",
          "name": "stdout",
          "text": [
            "enter the number:153\n",
            "153 is an armstrong number\n"
          ]
        }
      ]
    },
    {
      "cell_type": "markdown",
      "source": [
        "EXPERIMENT 4"
      ],
      "metadata": {
        "id": "P8opn1F-Oku3"
      }
    },
    {
      "cell_type": "code",
      "source": [
        "x=int(input(\"Enter the number :\"))\n",
        "while x >=0:\n",
        "  print(x)\n",
        "  x=x-1\n"
      ],
      "metadata": {
        "colab": {
          "base_uri": "https://localhost:8080/"
        },
        "id": "4h3eae5KLC4A",
        "outputId": "760ef2a5-3d6b-4285-d9d1-950409ae7b3e"
      },
      "execution_count": null,
      "outputs": [
        {
          "output_type": "stream",
          "name": "stdout",
          "text": [
            "Enter the number :5\n",
            "5\n",
            "4\n",
            "3\n",
            "2\n",
            "1\n",
            "0\n"
          ]
        }
      ]
    },
    {
      "cell_type": "markdown",
      "source": [
        "EXPERIMENT 5"
      ],
      "metadata": {
        "id": "Y8breGEnOnuP"
      }
    },
    {
      "cell_type": "code",
      "source": [
        "y=input(\"Enter the string:\")\n",
        "f={}\n",
        "for i in y:\n",
        "  if i in f:\n",
        "    f[i]+=1\n",
        "  else :\n",
        "    f[i]=1\n",
        "print(f)    "
      ],
      "metadata": {
        "colab": {
          "base_uri": "https://localhost:8080/"
        },
        "id": "TuDATavRLMq7",
        "outputId": "98f928de-8046-4c58-ccb6-317b7f3a4656"
      },
      "execution_count": null,
      "outputs": [
        {
          "output_type": "stream",
          "name": "stdout",
          "text": [
            "Enter the string:GET LOST\n",
            "{'G': 1, 'E': 1, 'T': 2, ' ': 1, 'L': 1, 'O': 1, 'S': 1}\n"
          ]
        }
      ]
    },
    {
      "cell_type": "markdown",
      "source": [
        "EXPERIMENT 6"
      ],
      "metadata": {
        "id": "wnzz0tcYOr6X"
      }
    },
    {
      "cell_type": "code",
      "source": [
        "my_lists=[\"Kunjan\",\"Manish\",\"Parikh\"]\n",
        "print(my_lists)"
      ],
      "metadata": {
        "colab": {
          "base_uri": "https://localhost:8080/"
        },
        "id": "yJg4OrA7LTRk",
        "outputId": "3425dbcd-96ca-4147-bfb8-2d99e91dba75"
      },
      "execution_count": null,
      "outputs": [
        {
          "output_type": "stream",
          "name": "stdout",
          "text": [
            "['Kunjan', 'Manish', 'Parikh']\n"
          ]
        }
      ]
    },
    {
      "cell_type": "code",
      "source": [
        "my_tuple=(\"Kunjan\",\"Manish\",\"Parikh\")\n",
        "print(my_tuple)"
      ],
      "metadata": {
        "colab": {
          "base_uri": "https://localhost:8080/"
        },
        "id": "IYXtaLL4Ld6d",
        "outputId": "4449a1d2-204d-47ac-d1a7-690fd53c5a81"
      },
      "execution_count": null,
      "outputs": [
        {
          "output_type": "stream",
          "name": "stdout",
          "text": [
            "('Kunjan', 'Manish', 'Parikh')\n"
          ]
        }
      ]
    },
    {
      "cell_type": "code",
      "source": [
        "for i in my_lists:\n",
        "  print(i)\n",
        "for i in my_tuple:\n",
        "  print(i)"
      ],
      "metadata": {
        "colab": {
          "base_uri": "https://localhost:8080/"
        },
        "id": "dczAmBA3Lgj0",
        "outputId": "0e166990-3e45-48ad-ee4b-778b98976e10"
      },
      "execution_count": null,
      "outputs": [
        {
          "output_type": "stream",
          "name": "stdout",
          "text": [
            "Kunjan\n",
            "Manish\n",
            "Parikh\n",
            "Kunjan\n",
            "Manish\n",
            "Parikh\n"
          ]
        }
      ]
    },
    {
      "cell_type": "markdown",
      "source": [
        "EXPERIMENT 7"
      ],
      "metadata": {
        "id": "yUM7grkrbk9L"
      }
    },
    {
      "cell_type": "code",
      "source": [
        "st=input(\"enter a string:\")\n",
        "for i in st:\n",
        "  print(i)\n",
        "for i in st[::-1] :\n",
        "  print(i)\n",
        "st2=st[::-1]\n",
        "print(st2)\n",
        "count=0\n",
        "ch=input(\"Enter the letter to count\")\n",
        "for i in st:\n",
        "  if i==ch:\n",
        "    count+=1\n",
        "print(\"{} appears {} times\".format(ch,count))"
      ],
      "metadata": {
        "id": "mC0RYIMOblJV",
        "outputId": "0798677a-96f9-477e-8478-0eb70b2c2682",
        "colab": {
          "base_uri": "https://localhost:8080/"
        }
      },
      "execution_count": 4,
      "outputs": [
        {
          "output_type": "stream",
          "name": "stdout",
          "text": [
            "enter a string:Kunjan\n",
            "K\n",
            "u\n",
            "n\n",
            "j\n",
            "a\n",
            "n\n",
            "n\n",
            "a\n",
            "j\n",
            "n\n",
            "u\n",
            "K\n",
            "najnuK\n",
            "Enter the letter to countK\n",
            "K appears 1 times\n"
          ]
        }
      ]
    },
    {
      "cell_type": "markdown",
      "source": [
        "EXPERIMENT 8"
      ],
      "metadata": {
        "id": "a1aLtZ-hbmNr"
      }
    },
    {
      "cell_type": "code",
      "source": [
        "def mean(l):\n",
        "  return sum(l)/len(l)\n",
        "def median(l):\n",
        "  l.sort()\n",
        "  le=len(l)\n",
        "  if le%2==0:\n",
        "    return l[le//2-l],l[le//2]\n",
        "  return l[le//2]\n",
        "def mode(l):\n",
        "  count=0\n",
        "  el=None\n",
        "  for i in l:\n",
        "    if l.count(i)>count:\n",
        "      el=i\n",
        "      count=l.count(i)\n",
        "    return el\n",
        "def range(l):\n",
        "  return max(l)-min(l)\n",
        "lst=[1,3,54,43,44,75,12,96,10]\n",
        "print(mean(lst))\n",
        "print(median(lst))\n",
        "print(mode(lst))\n",
        "print(range(lst))\n"
      ],
      "metadata": {
        "id": "LYRPEZ-IbmYK",
        "outputId": "f4e6c157-83de-4a41-bc05-0dbab98190bd",
        "colab": {
          "base_uri": "https://localhost:8080/"
        }
      },
      "execution_count": 5,
      "outputs": [
        {
          "output_type": "stream",
          "name": "stdout",
          "text": [
            "37.55555555555556\n",
            "43\n",
            "1\n",
            "95\n"
          ]
        }
      ]
    },
    {
      "cell_type": "markdown",
      "source": [
        "EXPERIMENT 9"
      ],
      "metadata": {
        "id": "NeUrM_fpbmpU"
      }
    },
    {
      "cell_type": "code",
      "source": [
        "def passdict(dct):\n",
        "  uname=input(\"Enter your username: \")\n",
        "  if uname in dct:\n",
        "    pwd=input(\"Enter your password: \")\n",
        "    if dct[uname]==pwd:\n",
        "      return \"You are now logged into the system.\"\n",
        "    return \"Invalid password.\"\n",
        "  return \"Invalid username.\" \n",
        "passdict({'Path' : \"2003\",\n",
        "       'walla' : \"1809\",\n",
        "       'Portal' : \"1912\",\n",
        "       'Express' : \"2003\",\n",
        "       'Computer' : \"9834\",\n",
        "       'Python' : \"1990\",\n",
        "       'Mysql' : \"2001\",\n",
        "       'c++' : \"1996\",\n",
        "       'java' : \"1998\",\n",
        "       'html' : \"1999\" })"
      ],
      "metadata": {
        "id": "rpo-VzRGbm0I",
        "outputId": "08efb0c8-d31f-4457-ba70-698850c47b1c",
        "colab": {
          "base_uri": "https://localhost:8080/",
          "height": 70
        }
      },
      "execution_count": 6,
      "outputs": [
        {
          "name": "stdout",
          "output_type": "stream",
          "text": [
            "Enter your username: Path\n",
            "Enter your password: 2003\n"
          ]
        },
        {
          "output_type": "execute_result",
          "data": {
            "text/plain": [
              "'You are now logged into the system.'"
            ],
            "application/vnd.google.colaboratory.intrinsic+json": {
              "type": "string"
            }
          },
          "metadata": {},
          "execution_count": 6
        }
      ]
    },
    {
      "cell_type": "markdown",
      "source": [
        "EXPERIMENT 10"
      ],
      "metadata": {
        "id": "mF5el0IhbnCk"
      }
    },
    {
      "cell_type": "code",
      "source": [
        "def tptoint(tple):\n",
        "  return int(\"\".join(map(str,tple)))\n",
        "print(tptoint((1,2,3,4)))"
      ],
      "metadata": {
        "id": "5ZutYtBnbnNX",
        "outputId": "29494b4f-3fae-41a6-b723-768f2c1702e1",
        "colab": {
          "base_uri": "https://localhost:8080/"
        }
      },
      "execution_count": 7,
      "outputs": [
        {
          "output_type": "stream",
          "name": "stdout",
          "text": [
            "1234\n"
          ]
        }
      ]
    },
    {
      "cell_type": "markdown",
      "source": [
        "EXPERIMENT 11"
      ],
      "metadata": {
        "id": "r7AdVPIPboVU"
      }
    },
    {
      "cell_type": "code",
      "source": [
        "sortlst=lambda lst: sorted(lst,key=lambda x:x[1])\n",
        "print(sortlst([('Discrete Mathematics', 93), ('Python Programming', 95), ('Environmental Science', 88), ('Engineering Physics', 83)]))"
      ],
      "metadata": {
        "id": "92dB3_KLbogH",
        "outputId": "d69dfe8e-1d64-4c26-f303-08d2c0d84d43",
        "colab": {
          "base_uri": "https://localhost:8080/"
        }
      },
      "execution_count": 8,
      "outputs": [
        {
          "output_type": "stream",
          "name": "stdout",
          "text": [
            "[('Engineering Physics', 83), ('Environmental Science', 88), ('Discrete Mathematics', 93), ('Python Programming', 95)]\n"
          ]
        }
      ]
    },
    {
      "cell_type": "markdown",
      "source": [
        "EXPERIMENT 12"
      ],
      "metadata": {
        "id": "wWi-zYnDboxb"
      }
    },
    {
      "cell_type": "code",
      "source": [
        "t=(\"The\",\"quick\",\"brown\",\"fox\")\n",
        "e=\"\"\n",
        "for i in t:\n",
        "  e+=i[1:].title()+i[0].lower()+\"ay\"\n",
        "e=e.rstrip()\n",
        "print(\"Encoded Message:\",e)\n",
        "l=e.split()\n",
        "d=\"\"\n",
        "for i in l:\n",
        "  a=i.strip(\"ay\")\n",
        "  d+=a[-1].upper()+a[:-1].lower()+\"\"\n",
        "d=d.rstrip()\n",
        "print(\"Decoded Message:\",d)"
      ],
      "metadata": {
        "id": "XSpB5gQ1bo8c",
        "outputId": "343220c2-5530-41ae-e65d-c49d9713f2a5",
        "colab": {
          "base_uri": "https://localhost:8080/"
        }
      },
      "execution_count": 9,
      "outputs": [
        {
          "output_type": "stream",
          "name": "stdout",
          "text": [
            "Encoded Message: HetayUickqayRownbayOxfay\n",
            "Decoded Message: Fhetayuickqayrownbayox\n"
          ]
        }
      ]
    },
    {
      "cell_type": "markdown",
      "source": [
        "EXPERIMENT 13"
      ],
      "metadata": {
        "id": "0lT50nbTOwXI"
      }
    },
    {
      "cell_type": "code",
      "source": [
        "def fibonacci(n):\n",
        "    if(n <= 1):\n",
        "        return n\n",
        "    else:\n",
        "        return(fibonacci(n-1) + fibonacci(n-2))\n",
        "n = int(input(\"Enter number of terms:\"))\n",
        "print(\"Fibonacci sequence:\")\n",
        "for i in range(n):\n",
        "    print(fibonacci(i))"
      ],
      "metadata": {
        "colab": {
          "base_uri": "https://localhost:8080/"
        },
        "id": "U0qkSokSLjYj",
        "outputId": "4502308b-836a-44b1-9603-04e5c8f81426"
      },
      "execution_count": 1,
      "outputs": [
        {
          "output_type": "stream",
          "name": "stdout",
          "text": [
            "Enter number of terms:4\n",
            "Fibonacci sequence:\n",
            "0\n",
            "1\n",
            "1\n",
            "2\n"
          ]
        }
      ]
    },
    {
      "cell_type": "markdown",
      "source": [
        "EXPERIMENT 14"
      ],
      "metadata": {
        "id": "OEEkZJ4Nbd9O"
      }
    },
    {
      "cell_type": "code",
      "source": [
        "def linearSearch(lst,item):\n",
        "  for i in range(len(lst)):\n",
        "    if lst[i]==item:\n",
        "      return f\"The element {item} is at index {i}\"    #returns index of item\n",
        "  return -1    #if item is not in the list\n",
        "def binarySearch(lst,item):\n",
        "  lst.sort()\n",
        "  print(\"The sorted list is:\",lst)\n",
        "  low,high=0,len(lst)-1\n",
        "  while low<=high:\n",
        "    mid=(low+high)//2\n",
        "    mid_element=lst[mid]\n",
        "    if mid_element==item:\n",
        "      return f\"The element {item} is at index {mid}\"    #return index of middle element\n",
        "    if mid_element<item:\n",
        "      low=mid+1    #discarding the right part of the list because item is greater than middle element\n",
        "    elif mid_element>item:\n",
        "      high=mid-1    #discarding the left part of the list becasue item is smaller then middle element\n",
        "    return -1\n",
        "ls=[]\n",
        "n=int(input(\"Enter the number of elements: \"))\n",
        "print(\"Enter the elements: \")\n",
        "for i in range(n):\n",
        "  ls.append(int(input()))\n",
        "print(\"Your list is: \",ls)\n",
        "it=int(input(\"Enter item to search: \"))\n",
        "ch=int(input(\"Enter 0 for linear search and 1 for binary search: \"))\n",
        "if ch==0:\n",
        "  print(linearSearch(ls,it))\n",
        "else:\n",
        "  print(binarySearch(ls,it))"
      ],
      "metadata": {
        "colab": {
          "base_uri": "https://localhost:8080/"
        },
        "id": "DKeePN7HLuH0",
        "outputId": "4bd53248-814b-4cb7-f066-a4cff368b7d9"
      },
      "execution_count": 2,
      "outputs": [
        {
          "output_type": "stream",
          "name": "stdout",
          "text": [
            "Enter the number of elements: 4\n",
            "Enter the elements: \n",
            "1234\n",
            "123\n",
            "12\n",
            "1\n",
            "Your list is:  [1234, 123, 12, 1]\n",
            "Enter item to search: 123\n",
            "Enter 0 for linear search and 1 for binary search: 0\n",
            "The element 123 is at index 1\n"
          ]
        }
      ]
    },
    {
      "cell_type": "markdown",
      "source": [
        "EXPERIMENT 15"
      ],
      "metadata": {
        "id": "7CDV5NNAO97g"
      }
    },
    {
      "cell_type": "code",
      "source": [
        "def mergeSort(arr):\n",
        "    if len(arr) > 1:\n",
        "        mid = len(arr) // 2\n",
        "        L = arr[:mid]\n",
        "        R = arr[mid:]\n",
        "        mergeSort(L)\n",
        "        mergeSort(R)\n",
        "        i = j = k = 0\n",
        "\n",
        "        while i < len(L) and j < len(R):\n",
        "            if L[i] < R[j]:\n",
        "                arr[k] = L[i]\n",
        "                i += 1\n",
        "            else:\n",
        "                arr[k] = R[j]\n",
        "                j += 1\n",
        "            k += 1\n",
        "\n",
        "        while i < len(L):\n",
        "            arr[k] = L[i]\n",
        "            i += 1\n",
        "            k += 1\n",
        "\n",
        "        while j < len(R):\n",
        "            arr[k] = R[j]\n",
        "            j += 1\n",
        "            k += 1\n",
        "    return arr\n",
        "\n",
        "arr = [12, 11, 13, 5, 6, 7]\n",
        "print(f\"\\nSorted List By MergeSort is\\n{mergeSort(arr)}\")\n",
        "\n",
        "\n",
        "\n",
        "#implementation of selection sort\n",
        "arrr = [12, 11, 13, 5, 6, 7]\n",
        "def selectionSort(arr):\n",
        "    for i in range(len(arr)):\n",
        "        min_idx = i\n",
        "        for j in range(i + 1, len(arr)):\n",
        "            if arr[min_idx] > arr[j]:\n",
        "                min_idx = j\n",
        "        arr[i], arr[min_idx] = arr[min_idx], arr[i]\n",
        "    return arr\n",
        "print(f\"\\nSorted List By SelectionSort is\\n{selectionSort(arrr)}\")\n",
        "\n",
        "\n",
        "\n",
        "#implementation of insertion sort\n",
        "def insertionSort(array):\n",
        "    for step in range(1, len(array)):\n",
        "        key = array[step]\n",
        "        j = step - 1\n",
        "        while j >= 0 and key < array[j]:\n",
        "            array[j + 1] = array[j]\n",
        "            j = j - 1\n",
        "        array[j + 1] = key\n",
        "    return array\n",
        "\n",
        "data = [12, 11, 13, 5, 6, 7]\n",
        "print(f'\\nSorted List By InsertionSort is\\n{insertionSort(data)}')"
      ],
      "metadata": {
        "colab": {
          "base_uri": "https://localhost:8080/"
        },
        "id": "q8uRHjnNL9TN",
        "outputId": "4192463c-e294-4e2c-a6ad-c9de4f215945"
      },
      "execution_count": 3,
      "outputs": [
        {
          "output_type": "stream",
          "name": "stdout",
          "text": [
            "\n",
            "Sorted List By MergeSort is\n",
            "[5, 6, 7, 11, 12, 13]\n",
            "\n",
            "Sorted List By SelectionSort is\n",
            "[5, 6, 7, 11, 12, 13]\n",
            "\n",
            "Sorted List By InsertionSort is\n",
            "[5, 6, 7, 11, 12, 13]\n"
          ]
        }
      ]
    },
    {
      "cell_type": "code",
      "source": [
        ""
      ],
      "metadata": {
        "id": "_jF1YIgHMMOt"
      },
      "execution_count": null,
      "outputs": []
    }
  ]
}