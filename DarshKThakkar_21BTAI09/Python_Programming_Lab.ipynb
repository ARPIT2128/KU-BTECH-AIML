{
  "cells": [
    {
      "cell_type": "markdown",
      "metadata": {
        "id": "view-in-github",
        "colab_type": "text"
      },
      "source": [
        "<a href=\"https://colab.research.google.com/github/ARPIT2128/KU-BTECH-AIML/blob/main/DarshKThakkar_21BTAI09/Python_Programming_Lab.ipynb\" target=\"_parent\"><img src=\"https://colab.research.google.com/assets/colab-badge.svg\" alt=\"Open In Colab\"/></a>"
      ]
    },
    {
      "cell_type": "markdown",
      "metadata": {
        "id": "LfPo4JVjbdlW"
      },
      "source": [
        "1. Write a program to demonstrate basic data types"
      ]
    },
    {
      "cell_type": "code",
      "execution_count": null,
      "metadata": {
        "id": "OpY2sXWabjy-"
      },
      "outputs": [],
      "source": [
        "i=10\n",
        "l=[1,2,3,4]\n",
        "d={1:\"A\",2:\"B\"}\n",
        "t=(1,2,3,4)\n",
        "s=\"Hello World\"\n",
        "f=6.2\n",
        "c=0+4j\n",
        "\n",
        "print(type(i))\n",
        "print(type(l))\n",
        "print(type(d))\n",
        "print(type(t))\n",
        "print(type(s))\n",
        "print(type(f))\n",
        "print(type(c))"
      ]
    },
    {
      "cell_type": "markdown",
      "metadata": {
        "id": "9-A8D8jp_2XT"
      },
      "source": [
        "2. Write a program to compute distance between two points taking input from the user (Pythagorean Therorem)"
      ]
    },
    {
      "cell_type": "code",
      "execution_count": null,
      "metadata": {
        "id": "SoWrhIo9ACyk"
      },
      "outputs": [],
      "source": [
        "print()\n",
        "\n",
        "print(\"A ●---------------------------● B\")\n",
        "\n",
        "print()\n",
        "\n",
        "print(\"For point A\")\n",
        "\n",
        "x1=int(input(\"Enter x-coordinates: \"))\n",
        "y1=int(input(\"Enter y-coordinates: \"))\n",
        "\n",
        "print()\n",
        "\n",
        "print(\"For point B\")\n",
        "\n",
        "x2=int(input(\"Enter x-coordinates: \"))\n",
        "y2=int(input(\"Enter y-coordinates: \"))\n",
        "\n",
        "print()\n",
        "\n",
        "dist=(((x2-x1)**2)+((y2-y1)**2))**0.5\n",
        "\n",
        "print(\"Distance AB =\",dist,\"units\")"
      ]
    },
    {
      "cell_type": "markdown",
      "metadata": {
        "id": "Q1gATTUHCVn8"
      },
      "source": [
        "3. (a) Write a program to check whether the given number is even or not.\n",
        "\n"
      ]
    },
    {
      "cell_type": "code",
      "execution_count": null,
      "metadata": {
        "id": "A2mE6L3yDFu6"
      },
      "outputs": [],
      "source": [
        "print()\n",
        "\n",
        "num=int(input(\"Enter a number: \"))\n",
        "\n",
        "print()\n",
        "\n",
        "if num%2==0:\n",
        "  print(\"The given number is even.\")\n",
        "\n",
        "else:\n",
        "  print(\"The given number is odd.\")"
      ]
    },
    {
      "cell_type": "markdown",
      "metadata": {
        "id": "yFWYauqHD0Av"
      },
      "source": [
        "3. (b) Write a program to check whether the given number is Armstrong or not."
      ]
    },
    {
      "cell_type": "code",
      "execution_count": null,
      "metadata": {
        "id": "XgpBqv6oD6FX"
      },
      "outputs": [],
      "source": [
        "print()\n",
        "\n",
        "num=input(\"Enter a positive integer: \")\n",
        "\n",
        "l=len(num)\n",
        "sum=0\n",
        "\n",
        "for i in num:\n",
        "  sum+=int(i)**l\n",
        "\n",
        "if sum==int(num):\n",
        "  print(\"The given number is an Armstrong number.\")\n",
        "\n",
        "else:\n",
        "  print(\"The given number is not an Armstrong number.\")"
      ]
    },
    {
      "cell_type": "markdown",
      "metadata": {
        "id": "si9AhG-5F3eO"
      },
      "source": [
        "4. Write a program using while loop that asks the user for a number and prints the countdown from that number to zero."
      ]
    },
    {
      "cell_type": "code",
      "execution_count": null,
      "metadata": {
        "id": "TMjZHhunGAAt"
      },
      "outputs": [],
      "source": [
        "print()\n",
        "\n",
        "num=int(input(\"Enter a positive integer: \"))\n",
        "\n",
        "print()\n",
        "\n",
        "while num>=0:\n",
        "  print(num)\n",
        "  num-=1"
      ]
    },
    {
      "cell_type": "markdown",
      "metadata": {
        "id": "rzmbDHk5GN5B"
      },
      "source": [
        "5. Write a program to count the number of characters in the string and store them in a dictionary data structure."
      ]
    },
    {
      "cell_type": "code",
      "execution_count": null,
      "metadata": {
        "colab": {
          "base_uri": "https://localhost:8080/"
        },
        "id": "yLNDKAYtPP3k",
        "outputId": "9ecb1981-b300-4858-b229-71cff4f7c4aa"
      },
      "outputs": [
        {
          "name": "stdout",
          "output_type": "stream",
          "text": [
            "\n",
            "Enter a string: Hello World\n",
            "\n",
            "{'H': 1, 'e': 1, 'l': 3, 'o': 2, ' ': 1, 'W': 1, 'r': 1, 'd': 1}\n"
          ]
        }
      ],
      "source": [
        "print()\n",
        "\n",
        "s=input(\"Enter a string: \")\n",
        "\n",
        "print()\n",
        "d={}\n",
        "i=0\n",
        "\n",
        "for j in s:\n",
        "\n",
        "  if j not in d:\n",
        "    d[j]=1\n",
        "  else:\n",
        "    d[j]+=1\n",
        "\n",
        "print(d)"
      ]
    },
    {
      "cell_type": "markdown",
      "metadata": {
        "id": "NACP8tnAG7_r"
      },
      "source": [
        "6. Write a program to demonstrate list and tuple in python. Write a program using a for loop over a sequence."
      ]
    },
    {
      "cell_type": "code",
      "execution_count": null,
      "metadata": {
        "colab": {
          "background_save": true
        },
        "id": "U59XC0k8HVBV"
      },
      "outputs": [],
      "source": [
        "print()\n",
        "\n",
        "n1=int(input(\"Enter number of items to be added in the list: \"))\n",
        "\n",
        "print()\n",
        "\n",
        "l=[]\n",
        "\n",
        "for i in range(n1):\n",
        "  l.append(input(\"Enter element: \"))\n",
        "\n",
        "print()\n",
        "\n",
        "print(\"List:\",l)\n",
        "\n",
        "print()\n",
        "\n",
        "n2 = int(input(\"Enter number of items to be added in the tuple: \"))\n",
        "\n",
        "print()\n",
        "\n",
        "t=tuple()\n",
        "\n",
        "for i in range(n2):\n",
        "  e=input(\"Enter element: \")\n",
        "  t=t+(e,)\n",
        "\n",
        "print()\n",
        "\n",
        "print(\"Tuple:\",t)"
      ]
    },
    {
      "cell_type": "markdown",
      "metadata": {
        "id": "9_w3wmwCLDep"
      },
      "source": [
        ""
      ]
    }
  ],
  "metadata": {
    "colab": {
      "collapsed_sections": [],
      "name": "Python Programming Lab.ipynb",
      "provenance": [],
      "include_colab_link": true
    },
    "kernelspec": {
      "display_name": "Python 3",
      "name": "python3"
    },
    "language_info": {
      "name": "python"
    }
  },
  "nbformat": 4,
  "nbformat_minor": 0
}