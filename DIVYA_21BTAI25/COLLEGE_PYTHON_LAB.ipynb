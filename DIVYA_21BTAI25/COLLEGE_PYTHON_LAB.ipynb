{
  "nbformat": 4,
  "nbformat_minor": 0,
  "metadata": {
    "colab": {
      "name": "COLLEGE PYTHON LAB.ipynb",
      "provenance": [],
      "collapsed_sections": [],
      "include_colab_link": true
    },
    "kernelspec": {
      "name": "python3",
      "display_name": "Python 3"
    },
    "language_info": {
      "name": "python"
    }
  },
  "cells": [
    {
      "cell_type": "markdown",
      "metadata": {
        "id": "view-in-github",
        "colab_type": "text"
      },
      "source": [
        "<a href=\"https://colab.research.google.com/github/ARPIT2128/KU-BTECH-AIML/blob/main/DIVYA_21BTAI25/COLLEGE_PYTHON_LAB.ipynb\" target=\"_parent\"><img src=\"https://colab.research.google.com/assets/colab-badge.svg\" alt=\"Open In Colab\"/></a>"
      ]
    },
    {
      "cell_type": "markdown",
      "source": [
        "EXPERIMENT 1:"
      ],
      "metadata": {
        "id": "xXsGM61VbIKq"
      }
    },
    {
      "cell_type": "code",
      "source": [
        "a=int(input(\"enter the number:\"))\n",
        "print(a)\n",
        "type(a)"
      ],
      "metadata": {
        "colab": {
          "base_uri": "https://localhost:8080/"
        },
        "id": "DwRgxgJFxlJu",
        "outputId": "2e9c874c-4584-436d-ee59-eff2cf3f0029"
      },
      "execution_count": null,
      "outputs": [
        {
          "output_type": "stream",
          "name": "stdout",
          "text": [
            "enter the number:3\n",
            "3\n"
          ]
        },
        {
          "output_type": "execute_result",
          "data": {
            "text/plain": [
              "int"
            ]
          },
          "metadata": {},
          "execution_count": 5
        }
      ]
    },
    {
      "cell_type": "code",
      "source": [
        "b=(input(\"enter the string:\"))\n",
        "print(b)\n",
        "type(b)"
      ],
      "metadata": {
        "colab": {
          "base_uri": "https://localhost:8080/"
        },
        "id": "c4moRBmFx6lY",
        "outputId": "a598406e-af0c-4457-8540-c1742ff035fc"
      },
      "execution_count": null,
      "outputs": [
        {
          "output_type": "stream",
          "name": "stdout",
          "text": [
            "enter the string:divya\n",
            "divya\n"
          ]
        },
        {
          "output_type": "execute_result",
          "data": {
            "text/plain": [
              "str"
            ]
          },
          "metadata": {},
          "execution_count": 7
        }
      ]
    },
    {
      "cell_type": "code",
      "source": [
        "c=float(input(\"enter the float  number:\"))\n",
        "print(c)\n",
        "type(c)"
      ],
      "metadata": {
        "colab": {
          "base_uri": "https://localhost:8080/"
        },
        "id": "2JZBrAKwyFuA",
        "outputId": "c4a50bbe-7d61-4e90-c9b2-26fd86ae3dce"
      },
      "execution_count": null,
      "outputs": [
        {
          "output_type": "stream",
          "name": "stdout",
          "text": [
            "enter the float  number:2.3\n",
            "2.3\n"
          ]
        },
        {
          "output_type": "execute_result",
          "data": {
            "text/plain": [
              "float"
            ]
          },
          "metadata": {},
          "execution_count": 8
        }
      ]
    },
    {
      "cell_type": "markdown",
      "source": [
        "EXPERIMENT 2"
      ],
      "metadata": {
        "id": "TkL2leT4bXqU"
      }
    },
    {
      "cell_type": "code",
      "source": [
        "import math\n",
        "x1=int(input(\"enter the value x1\"))\n",
        "x2=int(input(\"enter the value x2\"))\n",
        "y1=int(input(\"enter the value y1\"))\n",
        "y2=int(input(\"enter the value y2\"))\n",
        "d=math.sqrt((x2-x1)**2+(y2-y1)**2)\n",
        "print(\"the distance between two points is;\",d)"
      ],
      "metadata": {
        "colab": {
          "base_uri": "https://localhost:8080/"
        },
        "id": "mW7tw675ya8t",
        "outputId": "7b961631-3f42-4da9-db7b-47264baf5faf"
      },
      "execution_count": null,
      "outputs": [
        {
          "output_type": "stream",
          "name": "stdout",
          "text": [
            "enter the value x12\n",
            "enter the value x23\n",
            "enter the value y13\n",
            "enter the value y24\n",
            "the distance between two points is; 1.4142135623730951\n"
          ]
        }
      ]
    },
    {
      "cell_type": "markdown",
      "source": [
        "EXPERIMENT 3"
      ],
      "metadata": {
        "id": "q2A-oaStbbqh"
      }
    },
    {
      "cell_type": "code",
      "source": [
        "x=int(input(\"enter the number: \"))\n",
        "if (x%2==0):\n",
        "    print('x is an even number')\n",
        "else:\n",
        "    print('x is an odd number')    "
      ],
      "metadata": {
        "colab": {
          "base_uri": "https://localhost:8080/"
        },
        "id": "flLGdNwkzxby",
        "outputId": "df8f70b3-c673-4fe1-f8e6-3c3215713b1f"
      },
      "execution_count": null,
      "outputs": [
        {
          "output_type": "stream",
          "name": "stdout",
          "text": [
            "enter the number: 3\n",
            "x is an odd number\n"
          ]
        }
      ]
    },
    {
      "cell_type": "markdown",
      "source": [
        "EXPERIMENT 4(A)"
      ],
      "metadata": {
        "id": "-uVKQb0XbhvG"
      }
    },
    {
      "cell_type": "code",
      "source": [
        "num = int(input(\"enter the number\"))\n",
        "order = len(str(num))\n",
        "sum = 0\n",
        "temp = num\n",
        "while temp > 0:\n",
        "   digit = temp % 10\n",
        "   sum += digit ** order\n",
        "   temp //= 10                                                        \n",
        "if num == sum:\n",
        "   print(num,\"is an Armstrong number\")\n",
        "else:\n",
        "   print(num,\"is not an Armstrong number\")\n"
      ],
      "metadata": {
        "colab": {
          "base_uri": "https://localhost:8080/"
        },
        "id": "5WTWbdDp0S1V",
        "outputId": "194a0bad-508f-4995-c939-0cc3bda82c31"
      },
      "execution_count": null,
      "outputs": [
        {
          "output_type": "stream",
          "name": "stdout",
          "text": [
            "enter the number153\n",
            "153 is an Armstrong number\n"
          ]
        }
      ]
    },
    {
      "cell_type": "markdown",
      "source": [
        "EXPERIMENT 5"
      ],
      "metadata": {
        "id": "17IKbRtobv7k"
      }
    },
    {
      "cell_type": "code",
      "source": [
        "x=int(input(\"enter the number\"))\n",
        "while x>=0:\n",
        "     print(x)\n",
        "     x=x-1"
      ],
      "metadata": {
        "colab": {
          "base_uri": "https://localhost:8080/"
        },
        "id": "9_8iLoH80aXh",
        "outputId": "627f8f0e-c79d-4082-e6a7-e436e0813ac8"
      },
      "execution_count": null,
      "outputs": [
        {
          "output_type": "stream",
          "name": "stdout",
          "text": [
            "enter the number3\n",
            "3\n",
            "2\n",
            "1\n",
            "0\n"
          ]
        }
      ]
    },
    {
      "cell_type": "markdown",
      "source": [
        "EXPERIMENT 6"
      ],
      "metadata": {
        "id": "YehvBiqGb1MR"
      }
    },
    {
      "cell_type": "code",
      "source": [
        "str=input(\"Enter a String\")\n",
        "dict = {}\n",
        "for i in str: \n",
        "    dict[i] = str.count(i)\n",
        "print (dict) "
      ],
      "metadata": {
        "colab": {
          "base_uri": "https://localhost:8080/"
        },
        "id": "0fTJc1H01GsN",
        "outputId": "9ca7d4c7-6c2e-4a1e-c810-1eccb388047e"
      },
      "execution_count": null,
      "outputs": [
        {
          "output_type": "stream",
          "name": "stdout",
          "text": [
            "Enter a Stringdivya\n",
            "{'d': 1, 'i': 1, 'v': 1, 'y': 1, 'a': 1}\n"
          ]
        }
      ]
    },
    {
      "cell_type": "code",
      "source": [
        "my_lists=[\"divya\",\"armaan\",\"kushal\"]\n",
        "my_tuple=(\"divya\",\"armaan\",\"kushal\")\n",
        "print(my_lists)\n",
        "print(my_tuple)\n",
        "for i in my_lists:\n",
        "    print(i)\n",
        "for i in my_tuple:\n",
        "    print(i)    "
      ],
      "metadata": {
        "colab": {
          "base_uri": "https://localhost:8080/"
        },
        "id": "_F7iDw811OTy",
        "outputId": "140d03df-f6de-476b-930d-4cb288073dd4"
      },
      "execution_count": null,
      "outputs": [
        {
          "output_type": "stream",
          "name": "stdout",
          "text": [
            "['divya', 'armaan', 'kushal']\n",
            "('divya', 'armaan', 'kushal')\n",
            "divya\n",
            "armaan\n",
            "kushal\n",
            "divya\n",
            "armaan\n",
            "kushal\n"
          ]
        }
      ]
    },
    {
      "cell_type": "markdown",
      "source": [
        "EXPERIMENT 7"
      ],
      "metadata": {
        "id": "EOeZtdibcCpe"
      }
    },
    {
      "cell_type": "code",
      "source": [
        "import sympy\n",
        "sum=0\n",
        "for i in range(0,3490001):\n",
        "  if(sympy.isprime(i))==True:\n",
        "    sum+=i\n",
        "print(sum)"
      ],
      "metadata": {
        "id": "I3w0h2DoZLG7",
        "outputId": "65c44ed9-7820-4de3-be59-557998b2590d",
        "colab": {
          "base_uri": "https://localhost:8080/"
        }
      },
      "execution_count": 1,
      "outputs": [
        {
          "output_type": "stream",
          "name": "stdout",
          "text": [
            "418447415491\n"
          ]
        }
      ]
    },
    {
      "cell_type": "code",
      "source": [
        "def fibonacci():\n",
        "  sequence=[1,2]\n",
        "  total=0\n",
        "  while sequence[-1]<600000:\n",
        "    if sequence[-1]%2==0:\n",
        "      total+=sequence[-1]\n",
        "    sequence.append(sequence[-1]+sequence[-2])\n",
        "  print(total)\n",
        "fibonacci()"
      ],
      "metadata": {
        "id": "wg1KcZRvZYyc",
        "outputId": "c29aa698-54ee-4198-9bdf-10d92985aa75",
        "colab": {
          "base_uri": "https://localhost:8080/"
        }
      },
      "execution_count": 2,
      "outputs": [
        {
          "output_type": "stream",
          "name": "stdout",
          "text": [
            "257114\n"
          ]
        }
      ]
    },
    {
      "cell_type": "code",
      "source": [
        "l=[1,2,3,4,5,6,9,4,3,6,7]\n",
        "l1=[]\n",
        "for i in l:\n",
        "    if i not in l1:\n",
        "        l1.append(i)\n",
        "    else:\n",
        "        print(i,end=' ')"
      ],
      "metadata": {
        "id": "3SzCeromZc9Z",
        "outputId": "1577350d-b2bc-48ac-fb20-c7df4c1d6ab8",
        "colab": {
          "base_uri": "https://localhost:8080/"
        }
      },
      "execution_count": 3,
      "outputs": [
        {
          "output_type": "stream",
          "name": "stdout",
          "text": [
            "4 3 6 "
          ]
        }
      ]
    },
    {
      "cell_type": "markdown",
      "source": [
        "EXPERIMENT 8"
      ],
      "metadata": {
        "id": "PTUNz1JbcGjd"
      }
    },
    {
      "cell_type": "code",
      "source": [
        "n = [12,45,8,2,46]\n",
        "l = len(n)\n",
        "t= 0\n",
        "for i in range(l) :\n",
        "  t = t + n[i]\n",
        "print(\"Total is \",t)\n",
        "mean = t/l\n",
        "print(mean)"
      ],
      "metadata": {
        "id": "WhnHZ0KYZhgb",
        "outputId": "80974db3-7f30-4ae9-c560-9f2b68d056c9",
        "colab": {
          "base_uri": "https://localhost:8080/"
        }
      },
      "execution_count": 4,
      "outputs": [
        {
          "output_type": "stream",
          "name": "stdout",
          "text": [
            "Total is  113\n",
            "22.6\n"
          ]
        }
      ]
    },
    {
      "cell_type": "markdown",
      "source": [
        "EXPERIMENT 9"
      ],
      "metadata": {
        "id": "USG_MKrDcJs1"
      }
    },
    {
      "cell_type": "code",
      "source": [
        "numb = [2, 4, 5, 8, 9]\n",
        "no = len(numb)\n",
        "numb.sort()\n",
        "if no % 2 == 0:\n",
        "  median1 = numb[no//2]\n",
        "  median2 = numb[no//2 - 1]\n",
        "  median = (median1 + median2)/2\n",
        "else:\n",
        "  median = numb[no//2]\n",
        "print(\"The median of the given numbers \", numb, \"is\",(median))"
      ],
      "metadata": {
        "id": "zwaVPGd3Zl6m",
        "outputId": "991e82e6-c503-484f-c9f9-4a13b5ad7423",
        "colab": {
          "base_uri": "https://localhost:8080/"
        }
      },
      "execution_count": 5,
      "outputs": [
        {
          "output_type": "stream",
          "name": "stdout",
          "text": [
            "The median of the given numbers  [2, 4, 5, 8, 9] is 5\n"
          ]
        }
      ]
    },
    {
      "cell_type": "markdown",
      "source": [
        "EXPERIMENT 10"
      ],
      "metadata": {
        "id": "LkPW7FkGcNhw"
      }
    },
    {
      "cell_type": "code",
      "source": [
        "d = {\"divya\" : \"patel\" , \"me\": \"pie\", \"chocolate\" :\"cake\",\"mango\" :\"smoothie\"}\n",
        "username = input(\"Enter the username :\")\n",
        "if username in d:\n",
        "  password = input(\"Enter the password :\")\n",
        "  if d[username]== password :\n",
        "    print(\"You are logged in to system !\")\n",
        "  else :\n",
        "    print(\"You have entered wrong password . \")\n",
        "else :\n",
        "  print(\"The person is not valid to login .\")"
      ],
      "metadata": {
        "id": "v6Wo8dqTZsDM",
        "outputId": "2b7d1976-94f5-4bae-a649-0da49c26bba8",
        "colab": {
          "base_uri": "https://localhost:8080/"
        }
      },
      "execution_count": 7,
      "outputs": [
        {
          "output_type": "stream",
          "name": "stdout",
          "text": [
            "Enter the username :divya\n",
            "Enter the password :patel\n",
            "You are logged in to system !\n"
          ]
        }
      ]
    },
    {
      "cell_type": "markdown",
      "source": [
        "EXPERIMENT 11"
      ],
      "metadata": {
        "id": "ViNZfhMacRh4"
      }
    },
    {
      "cell_type": "code",
      "source": [
        "subject_marks = [('Discrete Mathematics', 93), ('Python Programming', 95), ('Environment',96)]\n",
        "print(\"Original list of tuples:\")\n",
        "print(subject_marks)\n",
        "subject_marks.sort(key = lambda x: x[1])\n",
        "print(\"\\nSorting the List of Tuples:\")\n",
        "print(subject_marks)"
      ],
      "metadata": {
        "id": "AxVbcrmuaCtc",
        "outputId": "7b957d7d-5113-42e9-f89a-6a1da55a3d1e",
        "colab": {
          "base_uri": "https://localhost:8080/"
        }
      },
      "execution_count": 8,
      "outputs": [
        {
          "output_type": "stream",
          "name": "stdout",
          "text": [
            "Original list of tuples:\n",
            "[('Discrete Mathematics', 93), ('Python Programming', 95), ('Environment', 96)]\n",
            "\n",
            "Sorting the List of Tuples:\n",
            "[('Discrete Mathematics', 93), ('Python Programming', 95), ('Environment', 96)]\n"
          ]
        }
      ]
    },
    {
      "cell_type": "markdown",
      "source": [
        "exp 12"
      ],
      "metadata": {
        "id": "SQBKyi0KcsBc"
      }
    },
    {
      "cell_type": "code",
      "source": [
        "# tup = eval(input(\"Enter a tuple :- \"))\n",
        "# index = 0\n",
        "# while index < len(tup):\n",
        "#   new = tup[ index ][1 : ] + tup[ index ][ 0 ] + \"ay\"\n",
        "#   print (new, end = \" \")\n",
        "#   index += 1"
      ],
      "metadata": {
        "id": "uCpoAST5aN1o"
      },
      "execution_count": 9,
      "outputs": []
    },
    {
      "cell_type": "markdown",
      "source": [
        "EXP 13"
      ],
      "metadata": {
        "id": "3dU0MS1xcuSB"
      }
    },
    {
      "cell_type": "code",
      "source": [
        "n = int(input(\"Enter a number till which you want fibonacci series: \"))\n",
        "n1 = 0\n",
        "n2=1\n",
        "print(\"Series\",n1,n2,end=\" \")\n",
        "for i in range(2,n):\n",
        "  new = n1 + n2\n",
        "  n1 = n2\n",
        "  n2 = new\n",
        "  print(new, end=\" \")\n",
        "print()"
      ],
      "metadata": {
        "id": "MD2fKTO7aSrM",
        "outputId": "99754893-3b6b-4504-d896-71d6051e64c1",
        "colab": {
          "base_uri": "https://localhost:8080/"
        }
      },
      "execution_count": 10,
      "outputs": [
        {
          "output_type": "stream",
          "name": "stdout",
          "text": [
            "Enter a number till which you want fibonacci series: 7\n",
            "Series 0 1 1 2 3 5 8 \n"
          ]
        }
      ]
    },
    {
      "cell_type": "markdown",
      "source": [
        "EXP 14"
      ],
      "metadata": {
        "id": "DcCNPoKwcy43"
      }
    },
    {
      "cell_type": "code",
      "source": [
        "while True:\n",
        "    print(\"\\nMENU\")\n",
        "    print(\"1. Binary Search\")\n",
        "    print(\"2. Linear Search\")\n",
        "\n",
        "    print(\"3. Exit\")\n",
        "    choice = int(input(\"\\nEnter the Choice: \"))\n",
        "\n",
        "    if choice == 1:\n",
        "        def binary_search(list1, n):\n",
        "            low = 0\n",
        "            high = len(list1) - 1\n",
        "            mid = 0\n",
        "\n",
        "            while low <= high:\n",
        "\n",
        "                mid = (high + low) // 2\n",
        "\n",
        "                if list1[mid] < n:\n",
        "                    low = mid + 1\n",
        "\n",
        "                elif list1[mid] > n:\n",
        "                    high = mid - 1\n",
        "                else:\n",
        "                    return mid\n",
        "\n",
        "            return -1\n",
        "\n",
        "\n",
        "        list1 = []\n",
        "        i = 0\n",
        "        while i < 5:\n",
        "            list1.append(int(input(\"enter digits of array:\")))\n",
        "            i = i + 1\n",
        "\n",
        "        # list1.append(input(\"enter digit\"))\n",
        "        n = int(input(\"enter your target: \"))\n",
        "\n",
        "        # Function call\n",
        "        result = binary_search(list1, n)\n",
        "\n",
        "        if result != -1:\n",
        "            print(\"Element is present at index\", str(result))\n",
        "        else:\n",
        "            print(\"Element is not present in list1\")\n",
        "\n",
        "    if choice == 2:\n",
        "        def search(arr, x):\n",
        "\n",
        "            for i in range(len(arr)):\n",
        "\n",
        "                if arr[i] == x:\n",
        "                    return i\n",
        "\n",
        "            return -1\n",
        "\n",
        "\n",
        "        list1 = []\n",
        "        i = 0\n",
        "        while i < 5:\n",
        "            list1.append(int(input(\"enter digits of array:\")))\n",
        "            i = i + 1\n",
        "\n",
        "        # list1.append(input(\"enter digit\"))\n",
        "        n = int(input(\"enter your target: \"))\n",
        "\n",
        "        # Function call\n",
        "        result = search(list1, n)\n",
        "\n",
        "        if result != -1:\n",
        "            print(\"Element is present at index\", result)\n",
        "        else:\n",
        "            print(\"Element is not present in list1\")\n",
        "\n",
        "    break\n",
        "\n",
        "\n"
      ],
      "metadata": {
        "id": "1wshJshjanIH",
        "outputId": "fc24ed75-b037-4143-cf8f-2298623a84c7",
        "colab": {
          "base_uri": "https://localhost:8080/"
        }
      },
      "execution_count": 12,
      "outputs": [
        {
          "output_type": "stream",
          "name": "stdout",
          "text": [
            "\n",
            "MENU\n",
            "1. Binary Search\n",
            "2. Linear Search\n",
            "3. Exit\n",
            "\n",
            "Enter the Choice: 1\n",
            "enter digits of array:1\n",
            "enter digits of array:2\n",
            "enter digits of array:3\n",
            "enter digits of array:4\n",
            "enter digits of array:5\n",
            "enter your target: 2\n",
            "Element is present at index 1\n"
          ]
        },
        {
          "output_type": "execute_result",
          "data": {
            "text/plain": [
              "2"
            ]
          },
          "metadata": {},
          "execution_count": 12
        }
      ]
    },
    {
      "cell_type": "markdown",
      "source": [
        "EXP 15"
      ],
      "metadata": {
        "id": "L5Jz52pYc17q"
      }
    },
    {
      "cell_type": "code",
      "source": [
        "list1=[30,5,6,8,5,2]\n",
        "print(list1)\n",
        "\n",
        "for i in range(len(list1)-1):\n",
        "\n",
        "  for j in range(i+1,len(list1)):\n",
        "\n",
        "    if list1[i] > list1[j]:\n",
        "\n",
        "      list1[i],list1[j] = list1[j],list1[i]\n",
        "\n",
        "print(list1)"
      ],
      "metadata": {
        "id": "yrRKMxZra4Cb",
        "outputId": "27d39ff7-550d-429f-dccb-eb78285a15b7",
        "colab": {
          "base_uri": "https://localhost:8080/"
        }
      },
      "execution_count": 13,
      "outputs": [
        {
          "output_type": "stream",
          "name": "stdout",
          "text": [
            "[30, 5, 6, 8, 5, 2]\n",
            "[2, 5, 5, 6, 8, 30]\n"
          ]
        }
      ]
    },
    {
      "cell_type": "code",
      "source": [
        "t1=[10,4,25,1,5]\n",
        "print(list1)\n",
        "\n",
        "for i in range(1,len(list1)):\n",
        "\n",
        "  value0 = list1[i]                  \n",
        "\n",
        "  j = i-1\n",
        "\n",
        "  while j>=0 and value0<list1[j]:\n",
        "\n",
        "    list1[j+1] = list1[j]\n",
        "    j=j-1\n",
        "\n",
        "  list1[j+1] = value0\n",
        "  print(list1)"
      ],
      "metadata": {
        "id": "2hZ1PjaVbDCQ",
        "outputId": "e408b312-c343-4aba-c9c4-d344b78058fb",
        "colab": {
          "base_uri": "https://localhost:8080/"
        }
      },
      "execution_count": 14,
      "outputs": [
        {
          "output_type": "stream",
          "name": "stdout",
          "text": [
            "[2, 5, 5, 6, 8, 30]\n",
            "[2, 5, 5, 6, 8, 30]\n",
            "[2, 5, 5, 6, 8, 30]\n",
            "[2, 5, 5, 6, 8, 30]\n",
            "[2, 5, 5, 6, 8, 30]\n",
            "[2, 5, 5, 6, 8, 30]\n"
          ]
        }
      ]
    }
  ]
}