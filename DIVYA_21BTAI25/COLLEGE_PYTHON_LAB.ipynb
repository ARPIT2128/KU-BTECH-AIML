{
  "nbformat": 4,
  "nbformat_minor": 0,
  "metadata": {
    "colab": {
      "name": "COLLEGE PYTHON LAB.ipynb",
      "provenance": [],
      "collapsed_sections": [],
      "authorship_tag": "ABX9TyMpboviLzaEptfKElnfoeiE",
      "include_colab_link": true
    },
    "kernelspec": {
      "name": "python3",
      "display_name": "Python 3"
    },
    "language_info": {
      "name": "python"
    }
  },
  "cells": [
    {
      "cell_type": "markdown",
      "metadata": {
        "id": "view-in-github",
        "colab_type": "text"
      },
      "source": [
        "<a href=\"https://colab.research.google.com/github/ARPIT2128/KU-BTECH-AIML/blob/main/DIVYA_21BTAI25/COLLEGE_PYTHON_LAB.ipynb\" target=\"_parent\"><img src=\"https://colab.research.google.com/assets/colab-badge.svg\" alt=\"Open In Colab\"/></a>"
      ]
    },
    {
      "cell_type": "code",
      "source": [
        "a=int(input(\"enter the number:\"))\n",
        "print(a)\n",
        "type(a)"
      ],
      "metadata": {
        "colab": {
          "base_uri": "https://localhost:8080/"
        },
        "id": "DwRgxgJFxlJu",
        "outputId": "2e9c874c-4584-436d-ee59-eff2cf3f0029"
      },
      "execution_count": null,
      "outputs": [
        {
          "output_type": "stream",
          "name": "stdout",
          "text": [
            "enter the number:3\n",
            "3\n"
          ]
        },
        {
          "output_type": "execute_result",
          "data": {
            "text/plain": [
              "int"
            ]
          },
          "metadata": {},
          "execution_count": 5
        }
      ]
    },
    {
      "cell_type": "code",
      "source": [
        "b=(input(\"enter the string:\"))\n",
        "print(b)\n",
        "type(b)"
      ],
      "metadata": {
        "colab": {
          "base_uri": "https://localhost:8080/"
        },
        "id": "c4moRBmFx6lY",
        "outputId": "a598406e-af0c-4457-8540-c1742ff035fc"
      },
      "execution_count": null,
      "outputs": [
        {
          "output_type": "stream",
          "name": "stdout",
          "text": [
            "enter the string:divya\n",
            "divya\n"
          ]
        },
        {
          "output_type": "execute_result",
          "data": {
            "text/plain": [
              "str"
            ]
          },
          "metadata": {},
          "execution_count": 7
        }
      ]
    },
    {
      "cell_type": "code",
      "source": [
        "c=float(input(\"enter the float  number:\"))\n",
        "print(c)\n",
        "type(c)"
      ],
      "metadata": {
        "colab": {
          "base_uri": "https://localhost:8080/"
        },
        "id": "2JZBrAKwyFuA",
        "outputId": "c4a50bbe-7d61-4e90-c9b2-26fd86ae3dce"
      },
      "execution_count": null,
      "outputs": [
        {
          "output_type": "stream",
          "name": "stdout",
          "text": [
            "enter the float  number:2.3\n",
            "2.3\n"
          ]
        },
        {
          "output_type": "execute_result",
          "data": {
            "text/plain": [
              "float"
            ]
          },
          "metadata": {},
          "execution_count": 8
        }
      ]
    },
    {
      "cell_type": "code",
      "source": [
        "import math\n",
        "x1=int(input(\"enter the value x1\"))\n",
        "x2=int(input(\"enter the value x2\"))\n",
        "y1=int(input(\"enter the value y1\"))\n",
        "y2=int(input(\"enter the value y2\"))\n",
        "d=math.sqrt((x2-x1)**2+(y2-y1)**2)\n",
        "print(\"the distance between two points is;\",d)"
      ],
      "metadata": {
        "colab": {
          "base_uri": "https://localhost:8080/"
        },
        "id": "mW7tw675ya8t",
        "outputId": "7b961631-3f42-4da9-db7b-47264baf5faf"
      },
      "execution_count": null,
      "outputs": [
        {
          "output_type": "stream",
          "name": "stdout",
          "text": [
            "enter the value x12\n",
            "enter the value x23\n",
            "enter the value y13\n",
            "enter the value y24\n",
            "the distance between two points is; 1.4142135623730951\n"
          ]
        }
      ]
    },
    {
      "cell_type": "code",
      "source": [
        "x=int(input(\"enter the number: \"))\n",
        "if (x%2==0):\n",
        "    print('x is an even number')\n",
        "else:\n",
        "    print('x is an odd number')    "
      ],
      "metadata": {
        "colab": {
          "base_uri": "https://localhost:8080/"
        },
        "id": "flLGdNwkzxby",
        "outputId": "df8f70b3-c673-4fe1-f8e6-3c3215713b1f"
      },
      "execution_count": null,
      "outputs": [
        {
          "output_type": "stream",
          "name": "stdout",
          "text": [
            "enter the number: 3\n",
            "x is an odd number\n"
          ]
        }
      ]
    },
    {
      "cell_type": "code",
      "source": [
        "num = int(input(\"enter the number\"))\n",
        "order = len(str(num))\n",
        "sum = 0\n",
        "temp = num\n",
        "while temp > 0:\n",
        "   digit = temp % 10\n",
        "   sum += digit ** order\n",
        "   temp //= 10                                                        \n",
        "if num == sum:\n",
        "   print(num,\"is an Armstrong number\")\n",
        "else:\n",
        "   print(num,\"is not an Armstrong number\")\n"
      ],
      "metadata": {
        "colab": {
          "base_uri": "https://localhost:8080/"
        },
        "id": "5WTWbdDp0S1V",
        "outputId": "194a0bad-508f-4995-c939-0cc3bda82c31"
      },
      "execution_count": null,
      "outputs": [
        {
          "output_type": "stream",
          "name": "stdout",
          "text": [
            "enter the number153\n",
            "153 is an Armstrong number\n"
          ]
        }
      ]
    },
    {
      "cell_type": "code",
      "source": [
        "x=int(input(\"enter the number\"))\n",
        "while x>=0:\n",
        "     print(x)\n",
        "     x=x-1"
      ],
      "metadata": {
        "colab": {
          "base_uri": "https://localhost:8080/"
        },
        "id": "9_8iLoH80aXh",
        "outputId": "627f8f0e-c79d-4082-e6a7-e436e0813ac8"
      },
      "execution_count": null,
      "outputs": [
        {
          "output_type": "stream",
          "name": "stdout",
          "text": [
            "enter the number3\n",
            "3\n",
            "2\n",
            "1\n",
            "0\n"
          ]
        }
      ]
    },
    {
      "cell_type": "code",
      "source": [
        "str=input(\"Enter a String\")\n",
        "dict = {}\n",
        "for i in str: \n",
        "    dict[i] = str.count(i)\n",
        "print (dict) "
      ],
      "metadata": {
        "colab": {
          "base_uri": "https://localhost:8080/"
        },
        "id": "0fTJc1H01GsN",
        "outputId": "9ca7d4c7-6c2e-4a1e-c810-1eccb388047e"
      },
      "execution_count": null,
      "outputs": [
        {
          "output_type": "stream",
          "name": "stdout",
          "text": [
            "Enter a Stringdivya\n",
            "{'d': 1, 'i': 1, 'v': 1, 'y': 1, 'a': 1}\n"
          ]
        }
      ]
    },
    {
      "cell_type": "code",
      "source": [
        "my_lists=[\"divya\",\"armaan\",\"kushal\"]\n",
        "my_tuple=(\"divya\",\"armaan\",\"kushal\")\n",
        "print(my_lists)\n",
        "print(my_tuple)\n",
        "for i in my_lists:\n",
        "    print(i)\n",
        "for i in my_tuple:\n",
        "    print(i)    "
      ],
      "metadata": {
        "colab": {
          "base_uri": "https://localhost:8080/"
        },
        "id": "_F7iDw811OTy",
        "outputId": "140d03df-f6de-476b-930d-4cb288073dd4"
      },
      "execution_count": null,
      "outputs": [
        {
          "output_type": "stream",
          "name": "stdout",
          "text": [
            "['divya', 'armaan', 'kushal']\n",
            "('divya', 'armaan', 'kushal')\n",
            "divya\n",
            "armaan\n",
            "kushal\n",
            "divya\n",
            "armaan\n",
            "kushal\n"
          ]
        }
      ]
    }
  ]
}