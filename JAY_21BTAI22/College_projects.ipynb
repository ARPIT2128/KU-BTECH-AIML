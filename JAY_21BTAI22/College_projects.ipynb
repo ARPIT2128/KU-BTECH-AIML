{
  "nbformat": 4,
  "nbformat_minor": 0,
  "metadata": {
    "colab": {
      "name": "College projects.ipynb",
      "provenance": [],
      "collapsed_sections": [],
      "authorship_tag": "ABX9TyN3YPNJMJx99hJR60qA8Tpl",
      "include_colab_link": true
    },
    "kernelspec": {
      "name": "python3",
      "display_name": "Python 3"
    },
    "language_info": {
      "name": "python"
    }
  },
  "cells": [
    {
      "cell_type": "markdown",
      "metadata": {
        "id": "view-in-github",
        "colab_type": "text"
      },
      "source": [
        "<a href=\"https://colab.research.google.com/github/ARPIT2128/KU-BTECH-AIML/blob/main/JAY_21BTAI22/College_projects.ipynb\" target=\"_parent\"><img src=\"https://colab.research.google.com/assets/colab-badge.svg\" alt=\"Open In Colab\"/></a>"
      ]
    },
    {
      "cell_type": "markdown",
      "source": [
        "1. Write a program to demonstrate basic data types and purposefully raise indentation error along with its correction."
      ],
      "metadata": {
        "id": "kXl5Sk3ksuPV"
      }
    },
    {
      "cell_type": "code",
      "source": [
        "a=29\n",
        "print(\"type of a:\",type (a))\n",
        "b=87.0\n",
        "print(\"\\n type of b:\",type (b))\n",
        "c=9+3j\n",
        "print(\"\\n type of c:\",type (c))"
      ],
      "metadata": {
        "colab": {
          "base_uri": "https://localhost:8080/"
        },
        "id": "jEbmMa4CjQzl",
        "outputId": "d2e5136c-c95b-4404-9515-08baa2492c77"
      },
      "execution_count": null,
      "outputs": [
        {
          "output_type": "stream",
          "name": "stdout",
          "text": [
            "type of a: <class 'int'>\n",
            "\n",
            " type of b: <class 'float'>\n",
            "\n",
            " type of c: <class 'complex'>\n"
          ]
        }
      ]
    },
    {
      "cell_type": "markdown",
      "source": [
        "2. Write a program to compute distance between two points taking input from the user."
      ],
      "metadata": {
        "id": "bcSieuY5tWg2"
      }
    },
    {
      "cell_type": "code",
      "execution_count": null,
      "metadata": {
        "colab": {
          "base_uri": "https://localhost:8080/"
        },
        "id": "2L-sGSd_iN3X",
        "outputId": "5c567f1b-6f5f-4f4e-9d6d-63aaf6dfd34a"
      },
      "outputs": [
        {
          "output_type": "stream",
          "name": "stdout",
          "text": [
            "Enter a1: 36\n",
            "Enter b1: 63\n",
            "Enter a2: 89\n",
            "Enter b2: 69\n",
            "Distance = 53.338541\n"
          ]
        }
      ],
      "source": [
        "a1 = float(input('Enter a1: '))\n",
        "b1 = float(input('Enter b1: '))\n",
        "a2 = float(input('Enter a2: '))\n",
        "b2 = float(input('Enter b2: '))\n",
        "\n",
        "d = ( (a2-a1)**2 + (b2-b1)**2 ) ** 0.5\n",
        "\n",
        "print('Distance = %f' %(d))"
      ]
    },
    {
      "cell_type": "markdown",
      "source": [
        "3(a). Write a program for checking whether the given number is even or not."
      ],
      "metadata": {
        "id": "9MvUi9hrtmH_"
      }
    },
    {
      "cell_type": "code",
      "source": [
        "x = (input('Enter value:'))\n",
        "if (type(x)) == int:\n",
        "    print('The variable a number')\n",
        "else:\n",
        "    print('The variable is not a number')\n",
        "num = int(input(\"Enter a number: \"))\n",
        "mod = num % 2\n",
        "if mod > 0:\n",
        "    print(\"This is an odd number.\")\n",
        "else:\n",
        "    print(\"This is an even number.\")\n",
        "    "
      ],
      "metadata": {
        "colab": {
          "base_uri": "https://localhost:8080/"
        },
        "id": "JcF7zLB5GQPK",
        "outputId": "bbd66dd8-baff-4065-84a1-9230af6e2dce"
      },
      "execution_count": null,
      "outputs": [
        {
          "output_type": "stream",
          "name": "stdout",
          "text": [
            "Enter value:12\n",
            "The variable is not a number\n",
            "Enter a number: 32\n",
            "This is an even number.\n"
          ]
        }
      ]
    },
    {
      "cell_type": "markdown",
      "source": [
        "3(b). Write a program to check given number is armstrong number or not."
      ],
      "metadata": {
        "id": "ayXEKJI7t6FH"
      }
    },
    {
      "cell_type": "code",
      "source": [
        "num = int(input(\"Enter a number: \"))\n",
        "\n",
        "sum = 0\n",
        "\n",
        "temp = num\n",
        "while temp > 0:\n",
        "   digit = temp % 10\n",
        "   sum += digit ** 3\n",
        "   temp //= 10\n",
        "\n",
        "if num == sum:\n",
        "   print(num,\"is an Armstrong number\")\n",
        "else:\n",
        "   print(num,\"is not an Armstrong number\")"
      ],
      "metadata": {
        "colab": {
          "base_uri": "https://localhost:8080/"
        },
        "id": "4mAdQ5x6GUOQ",
        "outputId": "0306e3d4-023c-4fd9-cb02-6684e1df759c"
      },
      "execution_count": null,
      "outputs": [
        {
          "output_type": "stream",
          "name": "stdout",
          "text": [
            "Enter a number: 370\n",
            "370 is an Armstrong number\n"
          ]
        }
      ]
    },
    {
      "cell_type": "markdown",
      "source": [
        "4. Write a program using a while loop that asks a user for a number and prints a countdown form that number to zero."
      ],
      "metadata": {
        "id": "HfxPmGj7uJhZ"
      }
    },
    {
      "cell_type": "code",
      "source": [
        "num=int(input(\"Enter your number: \"))\n",
        "\n",
        "while(num>=0):\n",
        "\n",
        "    print(num)\n",
        "\n",
        "    num=num-1"
      ],
      "metadata": {
        "colab": {
          "base_uri": "https://localhost:8080/"
        },
        "id": "GhUvBCVoAwoY",
        "outputId": "d77c26dc-3065-4201-c4a7-992823261f78"
      },
      "execution_count": null,
      "outputs": [
        {
          "output_type": "stream",
          "name": "stdout",
          "text": [
            "Enter your number: 14\n",
            "14\n",
            "13\n",
            "12\n",
            "11\n",
            "10\n",
            "9\n",
            "8\n",
            "7\n",
            "6\n",
            "5\n",
            "4\n",
            "3\n",
            "2\n",
            "1\n",
            "0\n"
          ]
        }
      ]
    },
    {
      "cell_type": "markdown",
      "source": [
        "5. Write a program to count the number of characters in the string and store them in a dictionary data structure.  "
      ],
      "metadata": {
        "id": "OXWq11-0um5J"
      }
    },
    {
      "cell_type": "code",
      "source": [
        "print()\n",
        "\n",
        "s=input(\"Enter a string: \")\n",
        "\n",
        "print()\n",
        "d={}\n",
        "i=0\n",
        "\n",
        "for j in s:\n",
        "  d[i]=j\n",
        "  i+=1\n",
        "\n",
        "print(d)"
      ],
      "metadata": {
        "colab": {
          "base_uri": "https://localhost:8080/"
        },
        "id": "SauWBqG7NU6v",
        "outputId": "0b80a1c5-6538-4204-e575-13ebadaa5ac2"
      },
      "execution_count": null,
      "outputs": [
        {
          "output_type": "stream",
          "name": "stdout",
          "text": [
            "\n",
            "Enter a string: 45\n",
            "\n",
            "{0: '4', 1: '5'}\n"
          ]
        }
      ]
    },
    {
      "cell_type": "markdown",
      "source": [
        ""
      ],
      "metadata": {
        "id": "NplFUnadvce9"
      }
    },
    {
      "cell_type": "markdown",
      "source": [
        "6. To demonstrate list and tuple in python. Write a program using a for loop over a sequence."
      ],
      "metadata": {
        "id": "UcyhMs53vqm9"
      }
    },
    {
      "cell_type": "code",
      "source": [
        "print()\n",
        "\n",
        "n1=int(input(\"Enter number of items to be added in the list: \"))\n",
        "\n",
        "print()\n",
        "\n",
        "l=[]\n",
        "\n",
        "for i in range(n1):\n",
        "  l.append(input(\"Enter element: \"))\n",
        "\n",
        "print()\n",
        "\n",
        "print(\"List:\",l)\n",
        "\n",
        "print()\n",
        "\n",
        "n2 = int(input(\"Enter number of items to be added in the tuple: \"))\n",
        "\n",
        "print()\n",
        "\n",
        "t=tuple()\n",
        "\n",
        "for i in range(n2):\n",
        "  e=int(input(\"Enter element: \"))\n",
        "  t=t+(e,)\n",
        "\n",
        "print()\n",
        "\n",
        "print(\"Tuple:\",t)\n",
        "\n",
        "print()"
      ],
      "metadata": {
        "colab": {
          "base_uri": "https://localhost:8080/"
        },
        "id": "Cb7XzNeKOPzn",
        "outputId": "ee3731f0-6378-490e-c658-eef2f35d3532"
      },
      "execution_count": null,
      "outputs": [
        {
          "output_type": "stream",
          "name": "stdout",
          "text": [
            "\n",
            "Enter number of items to be added in the list: 4\n",
            "\n",
            "Enter element: 1\n",
            "Enter element: 2\n",
            "Enter element: 3\n",
            "Enter element: 4\n",
            "\n",
            "List: ['1', '2', '3', '4']\n",
            "\n",
            "Enter number of items to be added in the tuple: 6\n",
            "\n",
            "Enter element: 1\n",
            "Enter element: 3\n",
            "Enter element: 6\n",
            "Enter element: 9\n",
            "Enter element: 13\n",
            "Enter element: 16\n",
            "\n",
            "Tuple: (1, 3, 6, 9, 13, 16)\n",
            "\n"
          ]
        }
      ]
    }
  ]
}