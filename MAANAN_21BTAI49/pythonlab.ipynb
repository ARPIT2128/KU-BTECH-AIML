{
  "cells": [
    {
      "cell_type": "markdown",
      "metadata": {
        "id": "view-in-github",
        "colab_type": "text"
      },
      "source": [
        "<a href=\"https://colab.research.google.com/github/ARPIT2128/KU-BTECH-AIML/blob/main/MAANAN_21BTAI49/pythonlab.ipynb\" target=\"_parent\"><img src=\"https://colab.research.google.com/assets/colab-badge.svg\" alt=\"Open In Colab\"/></a>"
      ]
    },
    {
      "cell_type": "code",
      "execution_count": null,
      "metadata": {
        "colab": {
          "base_uri": "https://localhost:8080/"
        },
        "id": "lYjdWLIqPr3T",
        "outputId": "97bcaa0e-99c6-4d15-aa22-91b6aeb8b80f"
      },
      "outputs": [
        {
          "name": "stdout",
          "output_type": "stream",
          "text": [
            "hello\n"
          ]
        }
      ],
      "source": [
        "print(\"hello\")"
      ]
    },
    {
      "cell_type": "code",
      "execution_count": null,
      "metadata": {
        "colab": {
          "base_uri": "https://localhost:8080/"
        },
        "id": "cJjvQxAcPuU3",
        "outputId": "12487dc5-0071-442f-9e63-333f08a5fd46"
      },
      "outputs": [
        {
          "name": "stdout",
          "output_type": "stream",
          "text": [
            "enter a number5\n",
            "you enter this number 5\n",
            "number is odd\n"
          ]
        }
      ],
      "source": [
        "#odd and even number\n",
        "\n",
        "num1=int(input(\"enter a number\"))\n",
        "print(\"you enter this number\" , num1)\n",
        "if num1%2==0:\n",
        "    print(\"number is even \")\n",
        "else:\n",
        "  print(\"number is odd\")"
      ]
    },
    {
      "cell_type": "code",
      "execution_count": null,
      "metadata": {
        "colab": {
          "base_uri": "https://localhost:8080/"
        },
        "id": "fhnnr0oxQTPf",
        "outputId": "ff7cc6ad-46dc-46e6-d0ed-3fe67d6294f2"
      },
      "outputs": [
        {
          "name": "stdout",
          "output_type": "stream",
          "text": [
            "enter a number3\n",
            "enter a second number4\n",
            "your third side =  5.0\n"
          ]
        }
      ],
      "source": [
        "#pythagoram theoram\n",
        "\n",
        "import math\n",
        "num1 = int(input(\"enter a number\"))\n",
        "num2 = int(input(\"enter a second number\"))\n",
        "\n",
        "c = math.sqrt(num1 ** 2 + num2 ** 2)\n",
        "print(\"your third side = \",c)"
      ]
    },
    {
      "cell_type": "code",
      "execution_count": null,
      "metadata": {
        "colab": {
          "base_uri": "https://localhost:8080/"
        },
        "id": "MrYpf1IZRZya",
        "outputId": "d309a16c-9118-44d0-a9c3-d5c7711b36c6"
      },
      "outputs": [
        {
          "name": "stdout",
          "output_type": "stream",
          "text": [
            "Enter a number: 153\n",
            "153 is an Armstrong number\n"
          ]
        }
      ],
      "source": [
        "# Python program to check if the number is an Armstrong number or not\n",
        "\n",
        "num = int(input(\"Enter a number: \"))\n",
        "sum = 0\n",
        "temp = num\n",
        "while temp > 0:\n",
        "   digit = temp % 10\n",
        "   sum += digit ** 3tce15\n",
        "   temp //= 10\n",
        "if num == sum:\n",
        "   print(num,\"is an Armstrong number\")\n",
        "else:\n",
        "   print(num,\"is not an Armstrong number\")\n"
      ]
    },
    {
      "cell_type": "code",
      "execution_count": null,
      "metadata": {
        "colab": {
          "base_uri": "https://localhost:8080/"
        },
        "id": "GQ802RKrUwkA",
        "outputId": "5b853ccf-f70f-41f0-bad9-5b2112252693"
      },
      "outputs": [
        {
          "name": "stdout",
          "output_type": "stream",
          "text": [
            "Enter your number5\n",
            "5\n",
            "4\n",
            "3\n",
            "2\n",
            "1\n",
            "0\n"
          ]
        }
      ],
      "source": [
        "#Write a program using while loop that asks the user for a number and prints a countdown from that number to 0\n",
        "\n",
        "num=int(input(\"Enter your number\"))\n",
        "\n",
        "while(num>=0):\n",
        "\n",
        "    print(num)\n",
        "\n",
        "    num=num-1"
      ]
    },
    {
      "cell_type": "code",
      "execution_count": null,
      "metadata": {
        "colab": {
          "base_uri": "https://localhost:8080/"
        },
        "id": "yUslscNpXREG",
        "outputId": "e7fc2333-9ccf-4e88-9541-222a8d7b9e1a"
      },
      "outputs": [
        {
          "name": "stdout",
          "output_type": "stream",
          "text": [
            "enter string : MAANAN\n",
            "{'M': 1, 'A': 3, 'N': 2}\n"
          ]
        }
      ],
      "source": [
        "#Ques. WAP to count the number of characters in the string and store them in a dictionary data structure\n",
        "\n",
        "str = input(\"enter string : \")\n",
        "\n",
        "f = {} \n",
        "\n",
        "for i in str: \n",
        "\n",
        "    if i in f: \n",
        "\n",
        "        f[i] += 1\n",
        "\n",
        "    else: \n",
        "\n",
        "        f[i] = 1\n",
        "\n",
        "print(f)"
      ]
    },
    {
      "cell_type": "code",
      "execution_count": null,
      "metadata": {
        "colab": {
          "background_save": true
        },
        "id": "oC0tUgLNX_jE",
        "outputId": "21631a2e-869d-4c13-b434-822328687dcb"
      },
      "outputs": [
        {
          "ename": "SyntaxError",
          "evalue": "ignored",
          "output_type": "error",
          "traceback": [
            "\u001b[0;36m  File \u001b[0;32m\"<ipython-input-2-ef7e2e6ee9ab>\"\u001b[0;36m, line \u001b[0;32m2\u001b[0m\n\u001b[0;31m    int main\u001b[0m\n\u001b[0m           ^\u001b[0m\n\u001b[0;31mSyntaxError\u001b[0m\u001b[0;31m:\u001b[0m invalid syntax\n"
          ]
        }
      ],
      "source": [
        "#include <stdio.h>\n",
        "int main \n",
        "printf(\"\")"
      ]
    }
  ],
  "metadata": {
    "colab": {
      "collapsed_sections": [],
      "name": "pythonlab.ipynb",
      "provenance": [],
      "authorship_tag": "ABX9TyOZCGY99zc9t5ioYE+HlOVv",
      "include_colab_link": true
    },
    "kernelspec": {
      "display_name": "Python 3",
      "name": "python3"
    },
    "language_info": {
      "name": "python"
    }
  },
  "nbformat": 4,
  "nbformat_minor": 0
}