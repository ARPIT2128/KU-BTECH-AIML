{
  "nbformat": 4,
  "nbformat_minor": 0,
  "metadata": {
    "colab": {
      "name": "labexam.ipynb",
      "provenance": [],
      "authorship_tag": "ABX9TyO8n7MyyruB8MI7S5SL1vSt",
      "include_colab_link": true
    },
    "kernelspec": {
      "name": "python3",
      "display_name": "Python 3"
    },
    "language_info": {
      "name": "python"
    }
  },
  "cells": [
    {
      "cell_type": "markdown",
      "metadata": {
        "id": "view-in-github",
        "colab_type": "text"
      },
      "source": [
        "<a href=\"https://colab.research.google.com/github/ARPIT2128/KU-BTECH-AIML/blob/main/MAANAN_21BTAI49/labexam.ipynb\" target=\"_parent\"><img src=\"https://colab.research.google.com/assets/colab-badge.svg\" alt=\"Open In Colab\"/></a>"
      ]
    },
    {
      "cell_type": "code",
      "execution_count": 2,
      "metadata": {
        "colab": {
          "base_uri": "https://localhost:8080/"
        },
        "id": "Y9lilIY-gcsZ",
        "outputId": "14e9002e-9783-4040-90ca-035cc732c111"
      },
      "outputs": [
        {
          "output_type": "stream",
          "name": "stdout",
          "text": [
            "Enter your number5\n",
            "5\n",
            "4\n",
            "3\n",
            "2\n",
            "1\n",
            "0\n"
          ]
        }
      ],
      "source": [
        "#Write a program using while loop that asks the user for a number and prints a countdown from that number to 0\n",
        "\n",
        "num=int(input(\"Enter your number\"))\n",
        "\n",
        "while(num>=0):\n",
        "\n",
        "    print(num)\n",
        "\n",
        "    num=num-1"
      ]
    },
    {
      "cell_type": "code",
      "source": [
        "#Ques. WAP to count the number of characters in the string and store them in a dictionary data structure\n",
        "\n",
        "str = input(\"enter string : \")\n",
        "\n",
        "f = {} \n",
        "\n",
        "for i in str: \n",
        "\n",
        "    if i in f: \n",
        "\n",
        "        f[i] += 1\n",
        "\n",
        "    else: \n",
        "\n",
        "        f[i] = 1\n",
        "\n",
        "print(f)"
      ],
      "metadata": {
        "colab": {
          "base_uri": "https://localhost:8080/"
        },
        "id": "Y9C-puxPggxI",
        "outputId": "2a026a9f-4429-40b2-e598-71f95303ce2d"
      },
      "execution_count": 3,
      "outputs": [
        {
          "output_type": "stream",
          "name": "stdout",
          "text": [
            "enter string : maanan\n",
            "{'m': 1, 'a': 3, 'n': 2}\n"
          ]
        }
      ]
    },
    {
      "cell_type": "code",
      "source": [
        ""
      ],
      "metadata": {
        "id": "Cb89ha6ygjEm"
      },
      "execution_count": null,
      "outputs": []
    }
  ]
}