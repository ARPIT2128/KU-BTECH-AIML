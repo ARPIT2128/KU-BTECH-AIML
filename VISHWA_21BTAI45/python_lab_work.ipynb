{
  "nbformat": 4,
  "nbformat_minor": 0,
  "metadata": {
    "colab": {
      "name": "python lab work.ipynb",
      "provenance": [],
      "collapsed_sections": [],
      "authorship_tag": "ABX9TyPQoBcuSwTxTitarB7VAq4g",
      "include_colab_link": true
    },
    "kernelspec": {
      "name": "python3",
      "display_name": "Python 3"
    },
    "language_info": {
      "name": "python"
    }
  },
  "cells": [
    {
      "cell_type": "markdown",
      "metadata": {
        "id": "view-in-github",
        "colab_type": "text"
      },
      "source": [
        "<a href=\"https://colab.research.google.com/github/ARPIT2128/KU-BTECH-AIML/blob/main/VISHWA_21BTAI45/python_lab_work.ipynb\" target=\"_parent\"><img src=\"https://colab.research.google.com/assets/colab-badge.svg\" alt=\"Open In Colab\"/></a>"
      ]
    },
    {
      "cell_type": "code",
      "execution_count": null,
      "metadata": {
        "colab": {
          "base_uri": "https://localhost:8080/"
        },
        "id": "QwOgyRqOW6TH",
        "outputId": "fe7b4bb8-29c3-4a4f-e3ce-b4b720b297eb"
      },
      "outputs": [
        {
          "output_type": "stream",
          "name": "stdout",
          "text": [
            "<class 'str'>\n",
            "<class 'float'>\n",
            "<class 'int'>\n"
          ]
        }
      ],
      "source": [
        "a='hi'\n",
        "print(type(a))\n",
        "a=12.5\n",
        "print(type(a))\n",
        "a=12\n",
        "print(type(a))"
      ]
    },
    {
      "cell_type": "code",
      "source": [
        "a=int(input(\"the value of first side: \"))\n",
        "b=int(input(\"the value of second side: \"))\n",
        "c=(a*a+b*b)\n",
        "print(\"the answer is: \",c)"
      ],
      "metadata": {
        "colab": {
          "base_uri": "https://localhost:8080/"
        },
        "id": "g1g_q2AeXroe",
        "outputId": "7cc21d98-5f73-4697-e2b8-a89ad3823068"
      },
      "execution_count": null,
      "outputs": [
        {
          "output_type": "stream",
          "name": "stdout",
          "text": [
            "the value of first side: 3\n",
            "the value of second side: 4\n",
            "the answer is:  25\n"
          ]
        }
      ]
    },
    {
      "cell_type": "code",
      "source": [
        "import math\n",
        "x1= float(input(\"enter x1:\"))\n",
        "y1= float(input(\"enter y1:\"))\n",
        "x2= float(input(\"enter x2:\"))\n",
        "y2= float(input(\"enter y2:\"))\n",
        "\n",
        "distance=math.sqrt( ((x1-x2)**2)+((y1-y2)**2) )\n",
        "print(\"the distance is : \",distance)"
      ],
      "metadata": {
        "colab": {
          "base_uri": "https://localhost:8080/"
        },
        "id": "kOXy9s4lYac2",
        "outputId": "6c2b0618-5326-4712-8410-5178715c0d07"
      },
      "execution_count": null,
      "outputs": [
        {
          "output_type": "stream",
          "name": "stdout",
          "text": [
            "enter x1:1\n",
            "enter y1:1\n",
            "enter x2:2\n",
            "enter y2:2\n",
            "the distance is :  1.4142135623730951\n"
          ]
        }
      ]
    },
    {
      "cell_type": "code",
      "source": [
        "num=int(input(\"enter the number: \"))\n",
        "if(num%2)==0:\n",
        "  print(\"the number is even\")\n",
        "else:\n",
        "  print(\"yje number is odd\")"
      ],
      "metadata": {
        "colab": {
          "base_uri": "https://localhost:8080/"
        },
        "id": "ZadyOve3ZcnA",
        "outputId": "fb51ffa6-dfa5-488b-e6d7-7359f5732968"
      },
      "execution_count": null,
      "outputs": [
        {
          "output_type": "stream",
          "name": "stdout",
          "text": [
            "enter the number: 3\n",
            "yje number is odd\n"
          ]
        }
      ]
    },
    {
      "cell_type": "code",
      "source": [
        "num = int(input(\"Enter a number: \"))\n",
        "order = len(str(num))\n",
        "sum = 0\n",
        "temp = num\n",
        "while temp > 0:\n",
        "   digit = temp % 10\n",
        "   sum += digit ** order\n",
        "   temp //= 10\n",
        "\n",
        "if num == sum:\n",
        "   print(num,\"is an Armstrong number\")\n",
        "else:\n",
        "   print(num,\"is not an Armstrong number\")"
      ],
      "metadata": {
        "colab": {
          "base_uri": "https://localhost:8080/"
        },
        "id": "0c2pZb1YZ0jA",
        "outputId": "53adbac9-1e44-469c-cf61-2a44acc52013"
      },
      "execution_count": null,
      "outputs": [
        {
          "output_type": "stream",
          "name": "stdout",
          "text": [
            "Enter a number: 407\n",
            "407 is an Armstrong number\n"
          ]
        }
      ]
    },
    {
      "cell_type": "code",
      "source": [
        "a=int(input(\"enter the number: \"))\n",
        "while(a>=0):\n",
        "  print(a)\n",
        "  a=a-1"
      ],
      "metadata": {
        "colab": {
          "base_uri": "https://localhost:8080/"
        },
        "id": "ZK-rVMhsbhBG",
        "outputId": "86f9696e-8f34-4f10-82b1-48baa1103a7a"
      },
      "execution_count": null,
      "outputs": [
        {
          "output_type": "stream",
          "name": "stdout",
          "text": [
            "enter the number: 4\n",
            "4\n",
            "3\n",
            "2\n",
            "1\n",
            "0\n"
          ]
        }
      ]
    },
    {
      "cell_type": "code",
      "source": [
        "str=input(\"enter a string\")\n",
        "dict={}\n",
        "for n in str:\n",
        "  keys=dict.keys()\n",
        "  if n in keys:\n",
        "    dict [n]+=1\n",
        "  else:\n",
        "    dict[n]=1\n",
        "print(dict)"
      ],
      "metadata": {
        "colab": {
          "base_uri": "https://localhost:8080/"
        },
        "id": "jeUoL8AHbw60",
        "outputId": "aaf2db86-c72a-4330-e8b2-a501b7efa8f8"
      },
      "execution_count": null,
      "outputs": [
        {
          "output_type": "stream",
          "name": "stdout",
          "text": [
            "enter a stringvishwa\n",
            "{'v': 1, 'i': 1, 's': 1, 'h': 1, 'w': 1, 'a': 1}\n"
          ]
        }
      ]
    },
    {
      "cell_type": "code",
      "source": [
        "set={1,2,3}\n",
        "print(set)"
      ],
      "metadata": {
        "id": "YiZuZGm7a-9j",
        "colab": {
          "base_uri": "https://localhost:8080/"
        },
        "outputId": "0ffc7458-858d-4596-bb7b-d0b5fa19f782"
      },
      "execution_count": null,
      "outputs": [
        {
          "output_type": "stream",
          "name": "stdout",
          "text": [
            "{1, 2, 3}\n"
          ]
        }
      ]
    },
    {
      "cell_type": "code",
      "source": [
        "def remove_and_split(string, word):\n",
        "  newstr=string.replace(word,\"\")\n",
        "  return newstr.strip()\n",
        "\n",
        "string=\"hello\"\n",
        "remove_and_split=string\n",
        "print(\"str\" +remove_and_split)"
      ],
      "metadata": {
        "colab": {
          "base_uri": "https://localhost:8080/"
        },
        "id": "HdN3h8MOfRAz",
        "outputId": "64a69653-9573-40a6-dd77-2b3d11256f72"
      },
      "execution_count": null,
      "outputs": [
        {
          "output_type": "stream",
          "name": "stdout",
          "text": [
            "strhello\n"
          ]
        }
      ]
    },
    {
      "cell_type": "code",
      "source": [
        "set1={1,2,3,4}\n",
        "set2={3,4,5,6}\n",
        "print(set1.union(set2))\n",
        "print(set1.difference(set2))\n",
        "print(set1.difference_update(set2))\n",
        "print(set1.symmetric_difference(set2))\n",
        "print(set1.symmetric_difference_update(set2))\n",
        "print(set1.intersection_update(set2))"
      ],
      "metadata": {
        "colab": {
          "base_uri": "https://localhost:8080/"
        },
        "id": "AzzQCUwlfTdN",
        "outputId": "29a61462-e563-4c8e-a454-9d3a6b3b88c5"
      },
      "execution_count": null,
      "outputs": [
        {
          "output_type": "stream",
          "name": "stdout",
          "text": [
            "{1, 2, 3, 4, 5, 6}\n",
            "{1, 2}\n",
            "None\n",
            "{1, 2, 3, 4, 5, 6}\n",
            "None\n",
            "None\n"
          ]
        }
      ]
    },
    {
      "cell_type": "code",
      "source": [
        "set1={1,2,3,4,5}\n",
        "set2={3,4,5,6,7}\n",
        "if set.isdisjoint(set2):\n",
        "  print(\"two sets have no items in common\")\n",
        "else:\n",
        "  print(\"two sets have items in common\")\n",
        "  print(set1.intersection(set2))"
      ],
      "metadata": {
        "colab": {
          "base_uri": "https://localhost:8080/"
        },
        "id": "bHOgIs8ugccx",
        "outputId": "9727175f-cbf3-4292-e045-21c736b9d854"
      },
      "execution_count": null,
      "outputs": [
        {
          "output_type": "stream",
          "name": "stdout",
          "text": [
            "two sets have items in common\n",
            "{3, 4, 5}\n"
          ]
        }
      ]
    },
    {
      "cell_type": "code",
      "source": [
        "l=[1,2,3,\"hello\"]\n",
        "t=(1,2,3,4,\"hii\")\n",
        "print(type(l))\n",
        "print(type(t))\n",
        "print(l,t)"
      ],
      "metadata": {
        "colab": {
          "base_uri": "https://localhost:8080/"
        },
        "id": "jGvAo_1whuIk",
        "outputId": "0c8616c1-5b3d-4071-95f9-a498885c7d47"
      },
      "execution_count": null,
      "outputs": [
        {
          "output_type": "stream",
          "name": "stdout",
          "text": [
            "<class 'list'>\n",
            "<class 'tuple'>\n",
            "[1, 2, 3, 'hello'] (1, 2, 3, 4, 'hii')\n"
          ]
        }
      ]
    },
    {
      "cell_type": "code",
      "source": [
        "l=list(input())\n",
        "for i in range(len(l)):\n",
        "  print(l[i])\n",
        "print(l)\n"
      ],
      "metadata": {
        "colab": {
          "base_uri": "https://localhost:8080/"
        },
        "id": "tKuTrrRZiU0U",
        "outputId": "d545c832-a90f-4670-8e0f-3441358d2fcd"
      },
      "execution_count": null,
      "outputs": [
        {
          "output_type": "stream",
          "name": "stdout",
          "text": [
            "hello\n",
            "h\n",
            "e\n",
            "l\n",
            "l\n",
            "o\n",
            "['h', 'e', 'l', 'l', 'o']\n"
          ]
        }
      ]
    }
  ]
}