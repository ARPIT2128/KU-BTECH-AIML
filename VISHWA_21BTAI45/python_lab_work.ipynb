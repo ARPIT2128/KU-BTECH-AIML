{
  "nbformat": 4,
  "nbformat_minor": 0,
  "metadata": {
    "colab": {
      "name": "python lab work.ipynb",
      "provenance": [],
      "collapsed_sections": [],
      "authorship_tag": "ABX9TyNcXb6em6b43+IXlmrOZGxz",
      "include_colab_link": true
    },
    "kernelspec": {
      "name": "python3",
      "display_name": "Python 3"
    },
    "language_info": {
      "name": "python"
    }
  },
  "cells": [
    {
      "cell_type": "markdown",
      "metadata": {
        "id": "view-in-github",
        "colab_type": "text"
      },
      "source": [
        "<a href=\"https://colab.research.google.com/github/ARPIT2128/KU-BTECH-AIML/blob/main/VISHWA_21BTAI45/python_lab_work.ipynb\" target=\"_parent\"><img src=\"https://colab.research.google.com/assets/colab-badge.svg\" alt=\"Open In Colab\"/></a>"
      ]
    },
    {
      "cell_type": "code",
      "execution_count": 3,
      "metadata": {
        "colab": {
          "base_uri": "https://localhost:8080/"
        },
        "id": "QwOgyRqOW6TH",
        "outputId": "fe7b4bb8-29c3-4a4f-e3ce-b4b720b297eb"
      },
      "outputs": [
        {
          "output_type": "stream",
          "name": "stdout",
          "text": [
            "<class 'str'>\n",
            "<class 'float'>\n",
            "<class 'int'>\n"
          ]
        }
      ],
      "source": [
        "a='hi'\n",
        "print(type(a))\n",
        "a=12.5\n",
        "print(type(a))\n",
        "a=12\n",
        "print(type(a))"
      ]
    },
    {
      "cell_type": "code",
      "source": [
        "a=int(input(\"the value of first side: \"))\n",
        "b=int(input(\"the value of second side: \"))\n",
        "c=(a*a+b*b)\n",
        "print(\"the answer is: \",c)"
      ],
      "metadata": {
        "colab": {
          "base_uri": "https://localhost:8080/"
        },
        "id": "g1g_q2AeXroe",
        "outputId": "7cc21d98-5f73-4697-e2b8-a89ad3823068"
      },
      "execution_count": 8,
      "outputs": [
        {
          "output_type": "stream",
          "name": "stdout",
          "text": [
            "the value of first side: 3\n",
            "the value of second side: 4\n",
            "the answer is:  25\n"
          ]
        }
      ]
    },
    {
      "cell_type": "code",
      "source": [
        "import math\n",
        "x1= float(input(\"enter x1:\"))\n",
        "y1= float(input(\"enter y1:\"))\n",
        "x2= float(input(\"enter x2:\"))\n",
        "y2= float(input(\"enter y2:\"))\n",
        "\n",
        "distance=math.sqrt( ((x1-x2)**2)+((y1-y2)**2) )\n",
        "print(\"the distance is : \",distance)"
      ],
      "metadata": {
        "colab": {
          "base_uri": "https://localhost:8080/"
        },
        "id": "kOXy9s4lYac2",
        "outputId": "6c2b0618-5326-4712-8410-5178715c0d07"
      },
      "execution_count": 9,
      "outputs": [
        {
          "output_type": "stream",
          "name": "stdout",
          "text": [
            "enter x1:1\n",
            "enter y1:1\n",
            "enter x2:2\n",
            "enter y2:2\n",
            "the distance is :  1.4142135623730951\n"
          ]
        }
      ]
    },
    {
      "cell_type": "code",
      "source": [
        "num=int(input(\"enter the number: \"))\n",
        "if(num%2)==0:\n",
        "  print(\"the number is even\")\n",
        "else:\n",
        "  print(\"yje number is odd\")"
      ],
      "metadata": {
        "colab": {
          "base_uri": "https://localhost:8080/"
        },
        "id": "ZadyOve3ZcnA",
        "outputId": "fb51ffa6-dfa5-488b-e6d7-7359f5732968"
      },
      "execution_count": 10,
      "outputs": [
        {
          "output_type": "stream",
          "name": "stdout",
          "text": [
            "enter the number: 3\n",
            "yje number is odd\n"
          ]
        }
      ]
    },
    {
      "cell_type": "code",
      "source": [
        "num = int(input(\"Enter a number: \"))\n",
        "order = len(str(num))\n",
        "sum = 0\n",
        "temp = num\n",
        "while temp > 0:\n",
        "   digit = temp % 10\n",
        "   sum += digit ** order\n",
        "   temp //= 10\n",
        "\n",
        "if num == sum:\n",
        "   print(num,\"is an Armstrong number\")\n",
        "else:\n",
        "   print(num,\"is not an Armstrong number\")"
      ],
      "metadata": {
        "colab": {
          "base_uri": "https://localhost:8080/"
        },
        "id": "0c2pZb1YZ0jA",
        "outputId": "53adbac9-1e44-469c-cf61-2a44acc52013"
      },
      "execution_count": 15,
      "outputs": [
        {
          "output_type": "stream",
          "name": "stdout",
          "text": [
            "Enter a number: 407\n",
            "407 is an Armstrong number\n"
          ]
        }
      ]
    },
    {
      "cell_type": "code",
      "source": [
        "a=int(input(\"enter the number: \"))\n",
        "while(a>=0):\n",
        "  print(a)\n",
        "  a=a-1"
      ],
      "metadata": {
        "colab": {
          "base_uri": "https://localhost:8080/"
        },
        "id": "ZK-rVMhsbhBG",
        "outputId": "86f9696e-8f34-4f10-82b1-48baa1103a7a"
      },
      "execution_count": 16,
      "outputs": [
        {
          "output_type": "stream",
          "name": "stdout",
          "text": [
            "enter the number: 4\n",
            "4\n",
            "3\n",
            "2\n",
            "1\n",
            "0\n"
          ]
        }
      ]
    },
    {
      "cell_type": "code",
      "source": [
        "str=input(\"enter a string\")\n",
        "dict={}\n",
        "for n in str:\n",
        "  keys=dict.keys()\n",
        "  if n in keys:\n",
        "    dict [n]+=1\n",
        "  else:\n",
        "    dict[n]=1\n",
        "print(dict)"
      ],
      "metadata": {
        "colab": {
          "base_uri": "https://localhost:8080/"
        },
        "id": "jeUoL8AHbw60",
        "outputId": "aaf2db86-c72a-4330-e8b2-a501b7efa8f8"
      },
      "execution_count": 18,
      "outputs": [
        {
          "output_type": "stream",
          "name": "stdout",
          "text": [
            "enter a stringvishwa\n",
            "{'v': 1, 'i': 1, 's': 1, 'h': 1, 'w': 1, 'a': 1}\n"
          ]
        }
      ]
    },
    {
      "cell_type": "code",
      "source": [
        ""
      ],
      "metadata": {
        "id": "YiZuZGm7a-9j"
      },
      "execution_count": null,
      "outputs": []
    }
  ]
}