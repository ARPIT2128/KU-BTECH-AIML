{
  "nbformat": 4,
  "nbformat_minor": 0,
  "metadata": {
    "colab": {
      "name": "python lab work.ipynb",
      "provenance": [],
      "collapsed_sections": [],
      "authorship_tag": "ABX9TyMZXZo4gAw4910nqPnVJ8QN",
      "include_colab_link": true
    },
    "kernelspec": {
      "name": "python3",
      "display_name": "Python 3"
    },
    "language_info": {
      "name": "python"
    }
  },
  "cells": [
    {
      "cell_type": "markdown",
      "metadata": {
        "id": "view-in-github",
        "colab_type": "text"
      },
      "source": [
        "<a href=\"https://colab.research.google.com/github/ARPIT2128/KU-BTECH-AIML/blob/main/VISHWA_21BTAI45/python_lab_work.ipynb\" target=\"_parent\"><img src=\"https://colab.research.google.com/assets/colab-badge.svg\" alt=\"Open In Colab\"/></a>"
      ]
    },
    {
      "cell_type": "code",
      "execution_count": null,
      "metadata": {
        "colab": {
          "base_uri": "https://localhost:8080/"
        },
        "id": "QwOgyRqOW6TH",
        "outputId": "fe7b4bb8-29c3-4a4f-e3ce-b4b720b297eb"
      },
      "outputs": [
        {
          "output_type": "stream",
          "name": "stdout",
          "text": [
            "<class 'str'>\n",
            "<class 'float'>\n",
            "<class 'int'>\n"
          ]
        }
      ],
      "source": [
        "a='hi'\n",
        "print(type(a))\n",
        "a=12.5\n",
        "print(type(a))\n",
        "a=12\n",
        "print(type(a))"
      ]
    },
    {
      "cell_type": "code",
      "source": [
        "a=int(input(\"the value of first side: \"))\n",
        "b=int(input(\"the value of second side: \"))\n",
        "c=(a*a+b*b)\n",
        "print(\"the answer is: \",c)"
      ],
      "metadata": {
        "colab": {
          "base_uri": "https://localhost:8080/"
        },
        "id": "g1g_q2AeXroe",
        "outputId": "7cc21d98-5f73-4697-e2b8-a89ad3823068"
      },
      "execution_count": null,
      "outputs": [
        {
          "output_type": "stream",
          "name": "stdout",
          "text": [
            "the value of first side: 3\n",
            "the value of second side: 4\n",
            "the answer is:  25\n"
          ]
        }
      ]
    },
    {
      "cell_type": "code",
      "source": [
        "import math\n",
        "x1= float(input(\"enter x1:\"))\n",
        "y1= float(input(\"enter y1:\"))\n",
        "x2= float(input(\"enter x2:\"))\n",
        "y2= float(input(\"enter y2:\"))\n",
        "\n",
        "distance=math.sqrt( ((x1-x2)**2)+((y1-y2)**2) )\n",
        "print(\"the distance is : \",distance)"
      ],
      "metadata": {
        "colab": {
          "base_uri": "https://localhost:8080/"
        },
        "id": "kOXy9s4lYac2",
        "outputId": "6c2b0618-5326-4712-8410-5178715c0d07"
      },
      "execution_count": null,
      "outputs": [
        {
          "output_type": "stream",
          "name": "stdout",
          "text": [
            "enter x1:1\n",
            "enter y1:1\n",
            "enter x2:2\n",
            "enter y2:2\n",
            "the distance is :  1.4142135623730951\n"
          ]
        }
      ]
    },
    {
      "cell_type": "code",
      "source": [
        "num=int(input(\"enter the number: \"))\n",
        "if(num%2)==0:\n",
        "  print(\"the number is even\")\n",
        "else:\n",
        "  print(\"yje number is odd\")"
      ],
      "metadata": {
        "colab": {
          "base_uri": "https://localhost:8080/"
        },
        "id": "ZadyOve3ZcnA",
        "outputId": "fb51ffa6-dfa5-488b-e6d7-7359f5732968"
      },
      "execution_count": null,
      "outputs": [
        {
          "output_type": "stream",
          "name": "stdout",
          "text": [
            "enter the number: 3\n",
            "yje number is odd\n"
          ]
        }
      ]
    },
    {
      "cell_type": "code",
      "source": [
        "num = int(input(\"Enter a number: \"))\n",
        "order = len(str(num))\n",
        "sum = 0\n",
        "temp = num\n",
        "while temp > 0:\n",
        "   digit = temp % 10\n",
        "   sum += digit ** order\n",
        "   temp //= 10\n",
        "\n",
        "if num == sum:\n",
        "   print(num,\"is an Armstrong number\")\n",
        "else:\n",
        "   print(num,\"is not an Armstrong number\")"
      ],
      "metadata": {
        "colab": {
          "base_uri": "https://localhost:8080/"
        },
        "id": "0c2pZb1YZ0jA",
        "outputId": "53adbac9-1e44-469c-cf61-2a44acc52013"
      },
      "execution_count": null,
      "outputs": [
        {
          "output_type": "stream",
          "name": "stdout",
          "text": [
            "Enter a number: 407\n",
            "407 is an Armstrong number\n"
          ]
        }
      ]
    },
    {
      "cell_type": "code",
      "source": [
        "a=int(input(\"enter the number: \"))\n",
        "while(a>=0):\n",
        "  print(a)\n",
        "  a=a-1"
      ],
      "metadata": {
        "colab": {
          "base_uri": "https://localhost:8080/"
        },
        "id": "ZK-rVMhsbhBG",
        "outputId": "86f9696e-8f34-4f10-82b1-48baa1103a7a"
      },
      "execution_count": null,
      "outputs": [
        {
          "output_type": "stream",
          "name": "stdout",
          "text": [
            "enter the number: 4\n",
            "4\n",
            "3\n",
            "2\n",
            "1\n",
            "0\n"
          ]
        }
      ]
    },
    {
      "cell_type": "code",
      "source": [
        "str=input(\"enter a string\")\n",
        "dict={}\n",
        "for n in str:\n",
        "  keys=dict.keys()\n",
        "  if n in keys:\n",
        "    dict [n]+=1\n",
        "  else:\n",
        "    dict[n]=1\n",
        "print(dict)"
      ],
      "metadata": {
        "colab": {
          "base_uri": "https://localhost:8080/"
        },
        "id": "jeUoL8AHbw60",
        "outputId": "aaf2db86-c72a-4330-e8b2-a501b7efa8f8"
      },
      "execution_count": null,
      "outputs": [
        {
          "output_type": "stream",
          "name": "stdout",
          "text": [
            "enter a stringvishwa\n",
            "{'v': 1, 'i': 1, 's': 1, 'h': 1, 'w': 1, 'a': 1}\n"
          ]
        }
      ]
    },
    {
      "cell_type": "code",
      "source": [
        "set={1,2,3}\n",
        "print(set)"
      ],
      "metadata": {
        "id": "YiZuZGm7a-9j",
        "colab": {
          "base_uri": "https://localhost:8080/"
        },
        "outputId": "0ffc7458-858d-4596-bb7b-d0b5fa19f782"
      },
      "execution_count": null,
      "outputs": [
        {
          "output_type": "stream",
          "name": "stdout",
          "text": [
            "{1, 2, 3}\n"
          ]
        }
      ]
    },
    {
      "cell_type": "code",
      "source": [
        "def remove_and_split(string, word):\n",
        "  newstr=string.replace(word,\"\")\n",
        "  return newstr.strip()\n",
        "\n",
        "string=\"hello\"\n",
        "remove_and_split=string\n",
        "print(\"str\" +remove_and_split)"
      ],
      "metadata": {
        "colab": {
          "base_uri": "https://localhost:8080/"
        },
        "id": "HdN3h8MOfRAz",
        "outputId": "64a69653-9573-40a6-dd77-2b3d11256f72"
      },
      "execution_count": null,
      "outputs": [
        {
          "output_type": "stream",
          "name": "stdout",
          "text": [
            "strhello\n"
          ]
        }
      ]
    },
    {
      "cell_type": "code",
      "source": [
        "set1={1,2,3,4}\n",
        "set2={3,4,5,6}\n",
        "print(set1.union(set2))\n",
        "print(set1.difference(set2))\n",
        "print(set1.difference_update(set2))\n",
        "print(set1.symmetric_difference(set2))\n",
        "print(set1.symmetric_difference_update(set2))\n",
        "print(set1.intersection_update(set2))"
      ],
      "metadata": {
        "colab": {
          "base_uri": "https://localhost:8080/"
        },
        "id": "AzzQCUwlfTdN",
        "outputId": "29a61462-e563-4c8e-a454-9d3a6b3b88c5"
      },
      "execution_count": null,
      "outputs": [
        {
          "output_type": "stream",
          "name": "stdout",
          "text": [
            "{1, 2, 3, 4, 5, 6}\n",
            "{1, 2}\n",
            "None\n",
            "{1, 2, 3, 4, 5, 6}\n",
            "None\n",
            "None\n"
          ]
        }
      ]
    },
    {
      "cell_type": "code",
      "source": [
        "set1={1,2,3,4,5}\n",
        "set2={3,4,5,6,7}\n",
        "if set.isdisjoint(set2):\n",
        "  print(\"two sets have no items in common\")\n",
        "else:\n",
        "  print(\"two sets have items in common\")\n",
        "  print(set1.intersection(set2))"
      ],
      "metadata": {
        "colab": {
          "base_uri": "https://localhost:8080/"
        },
        "id": "bHOgIs8ugccx",
        "outputId": "9727175f-cbf3-4292-e045-21c736b9d854"
      },
      "execution_count": null,
      "outputs": [
        {
          "output_type": "stream",
          "name": "stdout",
          "text": [
            "two sets have items in common\n",
            "{3, 4, 5}\n"
          ]
        }
      ]
    },
    {
      "cell_type": "code",
      "source": [
        "l=[1,2,3,\"hello\"]\n",
        "t=(1,2,3,4,\"hii\")\n",
        "print(type(l))\n",
        "print(type(t))\n",
        "print(l,t)"
      ],
      "metadata": {
        "colab": {
          "base_uri": "https://localhost:8080/"
        },
        "id": "jGvAo_1whuIk",
        "outputId": "0c8616c1-5b3d-4071-95f9-a498885c7d47"
      },
      "execution_count": null,
      "outputs": [
        {
          "output_type": "stream",
          "name": "stdout",
          "text": [
            "<class 'list'>\n",
            "<class 'tuple'>\n",
            "[1, 2, 3, 'hello'] (1, 2, 3, 4, 'hii')\n"
          ]
        }
      ]
    },
    {
      "cell_type": "code",
      "source": [
        "l=list(input())\n",
        "for i in range(len(l)):\n",
        "  print(l[i])\n",
        "print(l)\n"
      ],
      "metadata": {
        "colab": {
          "base_uri": "https://localhost:8080/"
        },
        "id": "tKuTrrRZiU0U",
        "outputId": "d545c832-a90f-4670-8e0f-3441358d2fcd"
      },
      "execution_count": null,
      "outputs": [
        {
          "output_type": "stream",
          "name": "stdout",
          "text": [
            "hello\n",
            "h\n",
            "e\n",
            "l\n",
            "l\n",
            "o\n",
            "['h', 'e', 'l', 'l', 'o']\n"
          ]
        }
      ]
    },
    {
      "cell_type": "code",
      "source": [
        "#(i)\n",
        "str = input (\"Enter the Word :- \")\n",
        "if str [ : 2] == \"0!\":\n",
        "    for i in range (len(str)) :\n",
        "        print (str[i])\n",
        "else :\n",
        "    print (\"Please enter again \")\n",
        "    \n",
        "#(ii)\n",
        "str = input (\"Enter the Word :- \")\n",
        "for i in range (-1, -len(str) - 1, -1) :\n",
        "    print (str[i])\n",
        "\n",
        "#(iii)\n",
        "str = input (\"Enter the Word :- \")\n",
        "newstr = str[-1 : : -1]\n",
        "print (newstr)\n",
        "\n",
        "#(iv)\n",
        "str = input (\"Enter the Word :- \")\n",
        "letter = input (\"Enter a letter to count :- \") \n",
        "count = 0\n",
        "for i in str :\n",
        "    if i == letter :\n",
        "        count += 1\n",
        "print (\"Number of letter :- \", count )\n"
      ],
      "metadata": {
        "colab": {
          "base_uri": "https://localhost:8080/"
        },
        "id": "74yPKHgOb_Zb",
        "outputId": "bcff20df-b221-4856-932a-732bcde3e323"
      },
      "execution_count": null,
      "outputs": [
        {
          "output_type": "stream",
          "name": "stdout",
          "text": [
            "Enter the Word :- python\n",
            "Please enter again \n",
            "Enter the Word :- python\n",
            "n\n",
            "o\n",
            "h\n",
            "t\n",
            "y\n",
            "p\n",
            "Enter the Word :- maths\n",
            "shtam\n",
            "Enter the Word :- science\n",
            "Enter a letter to count :- e\n",
            "Number of letter :-  2\n"
          ]
        }
      ]
    },
    {
      "cell_type": "code",
      "source": [
        "dic = {'Path' : \"2003\",\n",
        "       'walla' : \"1809\",\n",
        "       'Portal' : \"1912\",\n",
        "       'Express' : \"2003\",\n",
        "       'Computer' : \"9834\",\n",
        "       'Python' : \"1990\",\n",
        "       'Mysql' : \"2001\",\n",
        "       'c++' : \"1996\",\n",
        "       'java' : \"1998\",\n",
        "       'html' : \"1999\" }\n",
        "\n",
        "username = input(\"Enter username :- \")\n",
        "\n",
        "if username in dic :\n",
        "    password = input(\"Enter password :- \")\n",
        "    if dic[username] == password :\n",
        "        print (\"You are now logged into the system.\")\n",
        "    else :\n",
        "        print (\"Invalid password.\")\n",
        "else :\n",
        "    print (\"You are not valid user.\")\n",
        "\n"
      ],
      "metadata": {
        "colab": {
          "base_uri": "https://localhost:8080/"
        },
        "id": "A_mf8-9cdKf2",
        "outputId": "41bb51e1-e441-4046-c2ce-1b84ebab63e9"
      },
      "execution_count": null,
      "outputs": [
        {
          "output_type": "stream",
          "name": "stdout",
          "text": [
            "Enter username :- java\n",
            "Enter password :- 1998\n",
            "You are now logged into the system.\n"
          ]
        }
      ]
    },
    {
      "cell_type": "code",
      "source": [
        "subject_marks = [('English', 88), ('Science', 90), ('Maths', 97), ('Social sciences', 82)]\n",
        "print(\"Original list of tuples:\")\n",
        "print(subject_marks)\n",
        "subject_marks.sort(key = lambda x: x[1])\n",
        "print(\"\\nSorting the List of Tuples:\")\n",
        "print(subject_marks)"
      ],
      "metadata": {
        "colab": {
          "base_uri": "https://localhost:8080/"
        },
        "id": "H8RQf20ggJsn",
        "outputId": "688fe02c-2de1-43fc-8786-74271f40d080"
      },
      "execution_count": null,
      "outputs": [
        {
          "output_type": "stream",
          "name": "stdout",
          "text": [
            "Original list of tuples:\n",
            "[('English', 88), ('Science', 90), ('Maths', 97), ('Social sciences', 82)]\n",
            "\n",
            "Sorting the List of Tuples:\n",
            "[('Social sciences', 82), ('English', 88), ('Science', 90), ('Maths', 97)]\n"
          ]
        }
      ]
    },
    {
      "cell_type": "code",
      "source": [
        "tup = eval(input(\"Enter a tuple :- \"))\n",
        "index = 0\n",
        "while index < len(tup):\n",
        "    new = tup[ index ][1 : ] + tup[ index ][ 0 ] + \"ay\"\n",
        "    print (new, end = \" \")\n",
        "    index += 1"
      ],
      "metadata": {
        "colab": {
          "base_uri": "https://localhost:8080/"
        },
        "id": "YcPIVcZpiPTN",
        "outputId": "cbf3578a-2960-4360-fb4b-ba5dbf728fc2"
      },
      "execution_count": null,
      "outputs": [
        {
          "output_type": "stream",
          "name": "stdout",
          "text": [
            "Enter a tuple :- \"the\",\"fox\"\n",
            "hetay oxfay "
          ]
        }
      ]
    },
    {
      "cell_type": "code",
      "source": [
        "tup = eval(input(\"Enter a tuple :- \"))\n",
        "index = 0\n",
        "while index < len(tup):\n",
        "    new = tup[ index ][ -3 ] + tup[ index ][0 : -3 ] \n",
        "    print (new, end = \" \")\n",
        "    index += 1"
      ],
      "metadata": {
        "colab": {
          "base_uri": "https://localhost:8080/"
        },
        "id": "Yw3V4H4ziYiF",
        "outputId": "8aa27bac-570f-44a2-ca3f-485e8f8d7138"
      },
      "execution_count": null,
      "outputs": [
        {
          "output_type": "stream",
          "name": "stdout",
          "text": [
            "Enter a tuple :- \"the\",\"animal\"\n",
            "t mani "
          ]
        }
      ]
    },
    {
      "cell_type": "code",
      "source": [
        "def linear_Search(list1, n, key):  \n",
        "  \n",
        "    # Searching list1 sequentially  \n",
        "    for i in range(0, n):  \n",
        "        if (list1[i] == key):  \n",
        "            return i  \n",
        "    return -1  \n",
        "  \n",
        "  \n",
        "list1 = [1 ,3, 5, 4, 7, 9]  \n",
        "key = 7  \n",
        "  \n",
        "n = len(list1)  \n",
        "res = linear_Search(list1, n, key)  \n",
        "if(res == -1):  \n",
        "    print(\"Element not found\")  \n",
        "else:  \n",
        "    print(\"Element found at index: \", res)  "
      ],
      "metadata": {
        "id": "4f6aMq2olJrE",
        "colab": {
          "base_uri": "https://localhost:8080/"
        },
        "outputId": "0744bb4f-138b-48f1-c7d4-6b94f082b591"
      },
      "execution_count": 1,
      "outputs": [
        {
          "output_type": "stream",
          "name": "stdout",
          "text": [
            "Element found at index:  4\n"
          ]
        }
      ]
    },
    {
      "cell_type": "code",
      "source": [
        "def binary_searchiter(arr, n):\n",
        "    low = 0\n",
        "    high = len(arr) - 1\n",
        "    mid = 0\n",
        "    while low <= high:\n",
        "        mid = (high + low) // 2\n",
        "        if arr[mid] < n:\n",
        "            low = mid + 1\n",
        "        elif arr[mid] > n:\n",
        "            high = mid - 1\n",
        "        else: \n",
        "            return mid\n",
        "    return -1\n",
        "arr = [4, 7, 9, 16, 20, 25]\n",
        "n = 7\n",
        "r = binary_searchiter(arr, n)\n",
        "if r != -1:\n",
        "    print(\"Element found at index\", str(r))\n",
        "else: \n",
        "    print(\"Element is not present in array\")"
      ],
      "metadata": {
        "colab": {
          "base_uri": "https://localhost:8080/"
        },
        "id": "LuUJ-YpNDyEc",
        "outputId": "4c3cf86b-9a25-49ae-fcd4-9eb275eb6172"
      },
      "execution_count": 2,
      "outputs": [
        {
          "output_type": "stream",
          "name": "stdout",
          "text": [
            "Element found at index 1\n"
          ]
        }
      ]
    },
    {
      "cell_type": "code",
      "source": [
        "def recur_fibo(n):  \n",
        "   if n <= 1:  \n",
        "       return n  \n",
        "   else:  \n",
        "       return(recur_fibo(n-1) + recur_fibo(n-2))  \n",
        "\n",
        "nterms = int(input(\"How many terms? \"))  \n",
        "\n",
        "if nterms <= 0:  \n",
        "   print(\"Plese enter a positive integer\")  \n",
        "else:  \n",
        "   print(\"Fibonacci sequence:\")  \n",
        "   for i in range(nterms):  \n",
        "       print(recur_fibo(i))"
      ],
      "metadata": {
        "colab": {
          "base_uri": "https://localhost:8080/"
        },
        "id": "BomSY5rHDyLG",
        "outputId": "5f0e3eed-8a39-400c-bf7d-d31767dc26e6"
      },
      "execution_count": 3,
      "outputs": [
        {
          "output_type": "stream",
          "name": "stdout",
          "text": [
            "How many terms? 12\n",
            "Fibonacci sequence:\n",
            "0\n",
            "1\n",
            "1\n",
            "2\n",
            "3\n",
            "5\n",
            "8\n",
            "13\n",
            "21\n",
            "34\n",
            "55\n",
            "89\n"
          ]
        }
      ]
    },
    {
      "cell_type": "code",
      "source": [
        "def insertionSort(arr):\n",
        " \n",
        "    for i in range(1, len(arr)):\n",
        " \n",
        "        key = arr[i]\n",
        "        j = i-1\n",
        "        while j >= 0 and key < arr[j] :\n",
        "                arr[j + 1] = arr[j]\n",
        "                j -= 1\n",
        "        arr[j + 1] = key\n",
        "arr = [12, 11, 13, 5, 6]\n",
        "insertionSort(arr)\n",
        "for i in range(len(arr)):\n",
        "    print (\"% d\" % arr[i])"
      ],
      "metadata": {
        "colab": {
          "base_uri": "https://localhost:8080/"
        },
        "id": "BIH9T42QD9dg",
        "outputId": "8d1b4320-28e3-4181-c9c3-c5e5429fe5a1"
      },
      "execution_count": 4,
      "outputs": [
        {
          "output_type": "stream",
          "name": "stdout",
          "text": [
            " 5\n",
            " 6\n",
            " 11\n",
            " 12\n",
            " 13\n"
          ]
        }
      ]
    },
    {
      "cell_type": "code",
      "source": [
        "def mergeSort(arr):\n",
        "    if len(arr) > 1:\n",
        "  \n",
        "        mid = len(arr)//2\n",
        "        L = arr[:mid]\n",
        "        R = arr[mid:]\n",
        "        mergeSort(L)\n",
        "        mergeSort(R)\n",
        "  \n",
        "        i = j = k = 0\n",
        "        while i < len(L) and j < len(R):\n",
        "            if L[i] < R[j]:\n",
        "                arr[k] = L[i]\n",
        "                i += 1\n",
        "            else:\n",
        "                arr[k] = R[j]\n",
        "                j += 1\n",
        "            k += 1\n",
        "        while i < len(L):\n",
        "            arr[k] = L[i]\n",
        "            i += 1\n",
        "            k += 1\n",
        "  \n",
        "        while j < len(R):\n",
        "            arr[k] = R[j]\n",
        "            j += 1\n",
        "            k += 1\n",
        " \n",
        "def printList(arr):\n",
        "    for i in range(len(arr)):\n",
        "        print(arr[i], end=\" \")\n",
        "    print()\n",
        "  \n",
        "if __name__ == '__main__':\n",
        "    arr = [12, 11, 13, 5, 6, 7]\n",
        "    print(\"Given array is\", end=\"\\n\")\n",
        "    printList(arr)\n",
        "    mergeSort(arr)\n",
        "    print(\"Sorted array is: \", end=\"\\n\")\n",
        "    printList(arr)"
      ],
      "metadata": {
        "colab": {
          "base_uri": "https://localhost:8080/"
        },
        "id": "AQDWK8vPECfK",
        "outputId": "46016091-12f4-4840-f8ee-2bbc4e984efa"
      },
      "execution_count": 5,
      "outputs": [
        {
          "output_type": "stream",
          "name": "stdout",
          "text": [
            "Given array is\n",
            "12 11 13 5 6 7 \n",
            "Sorted array is: \n",
            "5 6 7 11 12 13 \n"
          ]
        }
      ]
    }
  ]
}