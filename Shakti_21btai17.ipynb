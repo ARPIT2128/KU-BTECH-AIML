{
  "nbformat": 4,
  "nbformat_minor": 0,
  "metadata": {
    "colab": {
      "name": "EXP-1",
      "provenance": [],
      "authorship_tag": "ABX9TyPDlf3L0x1U9ib/tVlNXRh2",
      "include_colab_link": true
    },
    "kernelspec": {
      "name": "python3",
      "display_name": "Python 3"
    },
    "language_info": {
      "name": "python"
    }
  },
  "cells": [
    {
      "cell_type": "markdown",
      "metadata": {
        "id": "view-in-github",
        "colab_type": "text"
      },
      "source": [
        "<a href=\"https://colab.research.google.com/github/ARPIT2128/KU-BTECH-AIML/blob/main/Shakti_21btai17.ipynb\" target=\"_parent\"><img src=\"https://colab.research.google.com/assets/colab-badge.svg\" alt=\"Open In Colab\"/></a>"
      ]
    },
    {
      "cell_type": "code",
      "execution_count": null,
      "metadata": {
        "colab": {
          "base_uri": "https://localhost:8080/"
        },
        "id": "liNOsDR25kLT",
        "outputId": "41e74639-3db8-433c-8d93-3e37412b0d02"
      },
      "outputs": [
        {
          "output_type": "stream",
          "name": "stdout",
          "text": [
            "<class 'int'>\n",
            "<class 'str'>\n",
            "<class 'float'>\n",
            "<class 'complex'>\n",
            "<class 'bool'>\n"
          ]
        }
      ],
      "source": [
        "a=10\n",
        "print(type(a))\n",
        "a=\"HI\"\n",
        "print(type(a))\n",
        "a=12.5\n",
        "print(type(a))\n",
        "a=1+2j\n",
        "print(type(a))\n",
        "a=True\n",
        "print(type(a))"
      ]
    },
    {
      "cell_type": "code",
      "source": [
        "import math as m\n",
        "x1=int(input(\"Enter x1:\"))\n",
        "y1=int(input(\"Enter y1:\"))\n",
        "x2=int(input(\"Enter x2:\"))\n",
        "y2=int(input(\"Enter y2:\"))\n",
        "d=m.sqrt((x2*x2-x1*x1)**2+(y2*y2-y1*y1)**2)\n",
        "print(\"Distance between 2 points=\",d)"
      ],
      "metadata": {
        "colab": {
          "base_uri": "https://localhost:8080/"
        },
        "id": "l5UtvdfujqXa",
        "outputId": "fab05c49-9233-4954-9086-d8b57edbdaca"
      },
      "execution_count": 1,
      "outputs": [
        {
          "output_type": "stream",
          "name": "stdout",
          "text": [
            "Enter x1:1\n",
            "Enter y1:2\n",
            "Enter x2:3\n",
            "Enter y2:4\n",
            "Distance between 2 points= 14.422205101855956\n"
          ]
        }
      ]
    },
    {
      "cell_type": "code",
      "source": [
        "a=int(input(\"Enter the number:\"))\n",
        "if(a%2==0):\n",
        "  print(\"Even number\")\n",
        "elif(a%2!=0):\n",
        "  print(\"Odd number\")\n",
        "else:\n",
        "  print(\"Enter valid numbe\")"
      ],
      "metadata": {
        "colab": {
          "base_uri": "https://localhost:8080/"
        },
        "id": "cN9OxMs8j_V5",
        "outputId": "7012f526-11e4-44be-c087-714e77f3f240"
      },
      "execution_count": 3,
      "outputs": [
        {
          "output_type": "stream",
          "name": "stdout",
          "text": [
            "Enter the number:14\n",
            "Even number\n"
          ]
        }
      ]
    },
    {
      "cell_type": "code",
      "source": [
        "a=int(input(\"Enter number to verify if it is armstrong number or not:\"))\n",
        "l=len(str(a))\n",
        "sum=0\n",
        "temp=a\n",
        "while temp>0:\n",
        "  k=temp%10\n",
        "  sum+=k**l\n",
        "  temp//=10\n",
        "if(sum==a):\n",
        "  print(\"Armstrong number\")\n",
        "else:\n",
        "  print(\"Not an armstrong number\")"
      ],
      "metadata": {
        "colab": {
          "base_uri": "https://localhost:8080/"
        },
        "id": "QtLK6Hq-kKDO",
        "outputId": "9a17656b-ec76-489e-eb34-653682bfb0b9"
      },
      "execution_count": 4,
      "outputs": [
        {
          "output_type": "stream",
          "name": "stdout",
          "text": [
            "Enter number to verify if it is armstrong number or not:15\n",
            "Not an armstrong number\n"
          ]
        }
      ]
    },
    {
      "cell_type": "code",
      "source": [
        "a=int(input(\"Enter value:\"))\n",
        "c=a\n",
        "while(c>=0):\n",
        "  print(c)\n",
        "  c=c-1"
      ],
      "metadata": {
        "colab": {
          "base_uri": "https://localhost:8080/"
        },
        "id": "Md8soQKbkZqZ",
        "outputId": "95b17227-a72e-44ab-8b66-06940050cd75"
      },
      "execution_count": 5,
      "outputs": [
        {
          "output_type": "stream",
          "name": "stdout",
          "text": [
            "Enter value:5\n",
            "5\n",
            "4\n",
            "3\n",
            "2\n",
            "1\n",
            "0\n"
          ]
        }
      ]
    },
    {
      "cell_type": "code",
      "source": [
        "str=input(\"Enter a String:\") \n",
        "dict={} \n",
        "for n in str: \n",
        "  keys = dict.keys() \n",
        "  if n in keys: \n",
        "     dict[n] += 1 \n",
        "  else: \n",
        "     dict[n] = 1 \n",
        "print (dict)"
      ],
      "metadata": {
        "colab": {
          "base_uri": "https://localhost:8080/"
        },
        "id": "vtSQW7LIke_5",
        "outputId": "71c44580-c3de-4699-a408-d76f21c6ebac"
      },
      "execution_count": 6,
      "outputs": [
        {
          "output_type": "stream",
          "name": "stdout",
          "text": [
            "Enter a String:shakti\n",
            "{'s': 1, 'h': 1, 'a': 1, 'k': 1, 't': 1, 'i': 1}\n"
          ]
        }
      ]
    }
  ]
}