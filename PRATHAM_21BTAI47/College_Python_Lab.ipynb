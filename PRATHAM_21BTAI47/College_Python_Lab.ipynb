{
  "nbformat": 4,
  "nbformat_minor": 0,
  "metadata": {
    "colab": {
      "name": "College Python Lab.ipynb",
      "provenance": [],
      "collapsed_sections": [],
      "authorship_tag": "ABX9TyOoyq3m4aaeuQnykSJJS4sA",
      "include_colab_link": true
    },
    "kernelspec": {
      "name": "python3",
      "display_name": "Python 3"
    },
    "language_info": {
      "name": "python"
    }
  },
  "cells": [
    {
      "cell_type": "markdown",
      "metadata": {
        "id": "view-in-github",
        "colab_type": "text"
      },
      "source": [
        "<a href=\"https://colab.research.google.com/github/ARPIT2128/KU-BTECH-AIML/blob/main/PRATHAM_21BTAI47/College_Python_Lab.ipynb\" target=\"_parent\"><img src=\"https://colab.research.google.com/assets/colab-badge.svg\" alt=\"Open In Colab\"/></a>"
      ]
    },
    {
      "cell_type": "markdown",
      "source": [
        "### Experiment 1"
      ],
      "metadata": {
        "id": "NMrgiCApdz1c"
      }
    },
    {
      "cell_type": "code",
      "execution_count": null,
      "metadata": {
        "colab": {
          "base_uri": "https://localhost:8080/"
        },
        "id": "RCvHep0FcT1Y",
        "outputId": "8ec4dbfb-3712-4328-d114-7a645f56c976"
      },
      "outputs": [
        {
          "output_type": "stream",
          "name": "stdout",
          "text": [
            "3555\n"
          ]
        },
        {
          "output_type": "execute_result",
          "data": {
            "text/plain": [
              "int"
            ]
          },
          "metadata": {},
          "execution_count": 14
        }
      ],
      "source": [
        "\n",
        "a,b,c=45,3445,65\n",
        "d=a+b+c\n",
        "print(d)\n",
        "type(d)\n"
      ]
    },
    {
      "cell_type": "code",
      "source": [
        "x=23.56\n",
        "print(x)\n",
        "type(x)"
      ],
      "metadata": {
        "colab": {
          "base_uri": "https://localhost:8080/"
        },
        "id": "GEAMjpBjeoEq",
        "outputId": "7f11aa01-cb74-4810-8453-2eedf7f70ba0"
      },
      "execution_count": null,
      "outputs": [
        {
          "output_type": "stream",
          "name": "stdout",
          "text": [
            "23.56\n"
          ]
        },
        {
          "output_type": "execute_result",
          "data": {
            "text/plain": [
              "float"
            ]
          },
          "metadata": {},
          "execution_count": 13
        }
      ]
    },
    {
      "cell_type": "code",
      "source": [
        ""
      ],
      "metadata": {
        "id": "1AKl6XVw6uAb"
      },
      "execution_count": null,
      "outputs": []
    },
    {
      "cell_type": "code",
      "source": [
        "y=34+3j\n",
        "print(y)\n",
        "type(y)"
      ],
      "metadata": {
        "colab": {
          "base_uri": "https://localhost:8080/"
        },
        "id": "l41piod5e19F",
        "outputId": "56ff211a-dcdf-418f-e3f4-6949deef8f31"
      },
      "execution_count": null,
      "outputs": [
        {
          "output_type": "stream",
          "name": "stdout",
          "text": [
            "(34+3j)\n"
          ]
        },
        {
          "output_type": "execute_result",
          "data": {
            "text/plain": [
              "complex"
            ]
          },
          "metadata": {},
          "execution_count": 12
        }
      ]
    },
    {
      "cell_type": "code",
      "source": [
        "s=\"pratham\"\n",
        "print(s)\n",
        "type(s)"
      ],
      "metadata": {
        "colab": {
          "base_uri": "https://localhost:8080/"
        },
        "id": "86PcCgztf14a",
        "outputId": "e03b11e9-870d-4f95-8e16-afba8dae0e49"
      },
      "execution_count": null,
      "outputs": [
        {
          "output_type": "stream",
          "name": "stdout",
          "text": [
            "pratham\n"
          ]
        },
        {
          "output_type": "execute_result",
          "data": {
            "text/plain": [
              "str"
            ]
          },
          "metadata": {},
          "execution_count": 11
        }
      ]
    },
    {
      "cell_type": "code",
      "source": [
        "m=[\"pratham\",\"parekh\"]\n",
        "\n",
        "print(m)\n",
        "type(m)"
      ],
      "metadata": {
        "colab": {
          "base_uri": "https://localhost:8080/"
        },
        "id": "B8tPIt4-gKYO",
        "outputId": "ac53bbc3-6de7-4514-ec91-8da71b234824"
      },
      "execution_count": null,
      "outputs": [
        {
          "output_type": "stream",
          "name": "stdout",
          "text": [
            "['pratham', 'parekh']\n"
          ]
        },
        {
          "output_type": "execute_result",
          "data": {
            "text/plain": [
              "list"
            ]
          },
          "metadata": {},
          "execution_count": 10
        }
      ]
    },
    {
      "cell_type": "code",
      "source": [
        "p={\"jeet\":\"9.56\",\"pratham\":\"47\"}\n",
        "print(p)\n",
        "type(p)"
      ],
      "metadata": {
        "colab": {
          "base_uri": "https://localhost:8080/"
        },
        "id": "CJTg-yTuglbl",
        "outputId": "a3bd3c42-8df8-43aa-c135-9d45a3a991e4"
      },
      "execution_count": null,
      "outputs": [
        {
          "output_type": "stream",
          "name": "stdout",
          "text": [
            "{'jeet': '9.56', 'pratham': '47'}\n"
          ]
        },
        {
          "output_type": "execute_result",
          "data": {
            "text/plain": [
              "dict"
            ]
          },
          "metadata": {},
          "execution_count": 9
        }
      ]
    },
    {
      "cell_type": "code",
      "source": [
        "u=(\"pratham\",\"parekh\")\n",
        "print(u)\n",
        "type(u)"
      ],
      "metadata": {
        "colab": {
          "base_uri": "https://localhost:8080/"
        },
        "id": "rfd1ZlumhNKd",
        "outputId": "eab65e9d-3a1e-46ce-d667-a0dba2516951"
      },
      "execution_count": null,
      "outputs": [
        {
          "output_type": "stream",
          "name": "stdout",
          "text": [
            "('pratham', 'parekh')\n"
          ]
        },
        {
          "output_type": "execute_result",
          "data": {
            "text/plain": [
              "tuple"
            ]
          },
          "metadata": {},
          "execution_count": 8
        }
      ]
    },
    {
      "cell_type": "markdown",
      "source": [
        "### Experiment 2"
      ],
      "metadata": {
        "id": "TdJvfpPdeAk9"
      }
    },
    {
      "cell_type": "code",
      "source": [
        "import math\n",
        "a1,b1=2,4\n",
        "a2,b2=6,7\n",
        "x=math.sqrt((a2-a1)**2 + (b2-b1)**2)\n",
        "print(x)"
      ],
      "metadata": {
        "colab": {
          "base_uri": "https://localhost:8080/"
        },
        "id": "ncH8cQYa6pkM",
        "outputId": "f5929ce1-e046-41c0-b004-6b1e29520092"
      },
      "execution_count": null,
      "outputs": [
        {
          "output_type": "stream",
          "name": "stdout",
          "text": [
            "5.0\n"
          ]
        }
      ]
    },
    {
      "cell_type": "markdown",
      "source": [
        "### Experiment 3"
      ],
      "metadata": {
        "id": "XDiKAHe4eIxV"
      }
    },
    {
      "cell_type": "code",
      "source": [
        "a=int(input(\"Enter a number :\"))\n",
        "if a%2==0:\n",
        "  print(\"The number is even.\")\n",
        "else:\n",
        "  print(\"The number is odd.\")"
      ],
      "metadata": {
        "colab": {
          "base_uri": "https://localhost:8080/"
        },
        "id": "-fi2MSRPee3i",
        "outputId": "e449d32c-f338-4f2f-9322-949587587de9"
      },
      "execution_count": null,
      "outputs": [
        {
          "output_type": "stream",
          "name": "stdout",
          "text": [
            "Enter a number :45\n",
            "The number is odd.\n"
          ]
        }
      ]
    },
    {
      "cell_type": "code",
      "source": [
        "num=int(input(\"Enter a number \"))\n",
        "sum = 0\n",
        "temp = num\n",
        "while temp > 0:\n",
        "  digit = temp%10\n",
        "  sum += digit**3\n",
        "  temp //= 10\n",
        "if num == sum:\n",
        "    print(num,\"is a armstrong number\")\n",
        "else:\n",
        "    print(num,\"is not a armstrong number\")"
      ],
      "metadata": {
        "colab": {
          "base_uri": "https://localhost:8080/"
        },
        "id": "W9n6v7xO7CIg",
        "outputId": "ccfbdf7a-54c3-46b3-94e5-b3dd0223d119"
      },
      "execution_count": null,
      "outputs": [
        {
          "output_type": "stream",
          "name": "stdout",
          "text": [
            "Enter a number 153\n",
            "153 is a armstrong number\n"
          ]
        }
      ]
    },
    {
      "cell_type": "markdown",
      "source": [
        "### Experiment 4"
      ],
      "metadata": {
        "id": "vnlG9ouwe6xm"
      }
    },
    {
      "cell_type": "code",
      "source": [
        "q=int(input(\"Enter a number:\"))\n",
        "i=0\n",
        "while i<=q:\n",
        "  print(i)\n",
        "  i=i+1"
      ],
      "metadata": {
        "colab": {
          "base_uri": "https://localhost:8080/"
        },
        "id": "YAZpE_QiX0b4",
        "outputId": "0964bca4-3b8c-4c85-c529-60fafa39690e"
      },
      "execution_count": null,
      "outputs": [
        {
          "output_type": "stream",
          "name": "stdout",
          "text": [
            "Enter a number:3\n",
            "0\n",
            "1\n",
            "2\n",
            "3\n"
          ]
        }
      ]
    },
    {
      "cell_type": "markdown",
      "source": [
        "## Experiment 5"
      ],
      "metadata": {
        "id": "qggbBZIte-9s"
      }
    },
    {
      "cell_type": "code",
      "source": [
        "a=str(input(\"Enter a string\"))\n",
        "b={}\n",
        "for i in a:\n",
        "  b[i]=a.count(i)\n",
        "print(b)"
      ],
      "metadata": {
        "colab": {
          "base_uri": "https://localhost:8080/"
        },
        "id": "pdSwH3lK89TW",
        "outputId": "5598bf80-a7a3-4d55-c364-f87a90554764"
      },
      "execution_count": null,
      "outputs": [
        {
          "output_type": "stream",
          "name": "stdout",
          "text": [
            "Enter a stringgfgg\n",
            "{'g': 3, 'f': 1}\n"
          ]
        }
      ]
    },
    {
      "cell_type": "markdown",
      "source": [
        "## Experiment 6"
      ],
      "metadata": {
        "id": "0uWJsfBafExm"
      }
    },
    {
      "cell_type": "code",
      "source": [
        "list=[\"Pratham\",\"21Btai47\",\"Btech\"]\n",
        "print(list)"
      ],
      "metadata": {
        "colab": {
          "base_uri": "https://localhost:8080/"
        },
        "id": "m-WUFc8w9HUH",
        "outputId": "b2e1472e-d40c-40aa-e864-e4ab704466bd"
      },
      "execution_count": null,
      "outputs": [
        {
          "output_type": "stream",
          "name": "stdout",
          "text": [
            "['Pratham', '21Btai47', 'Btech']\n"
          ]
        }
      ]
    },
    {
      "cell_type": "code",
      "source": [
        "tuple=(\"Birth\",\"April\",\"AIML\")\n",
        "print(tuple)"
      ],
      "metadata": {
        "colab": {
          "base_uri": "https://localhost:8080/"
        },
        "id": "KWfmiKeM9QSM",
        "outputId": "79916d8e-0829-4e05-a716-a0aee7a6a2ad"
      },
      "execution_count": null,
      "outputs": [
        {
          "output_type": "stream",
          "name": "stdout",
          "text": [
            "('Birth', 'April', 'AIML')\n"
          ]
        }
      ]
    },
    {
      "cell_type": "code",
      "source": [
        "for i in list:\n",
        "  print(i)\n",
        "for i in tuple:\n",
        "  print(i)"
      ],
      "metadata": {
        "colab": {
          "base_uri": "https://localhost:8080/"
        },
        "id": "GbMgP5yw9RYP",
        "outputId": "6b6a3120-8814-424d-db3c-a2bebf4e7883"
      },
      "execution_count": null,
      "outputs": [
        {
          "output_type": "stream",
          "name": "stdout",
          "text": [
            "Pratham\n",
            "21Btai47\n",
            "Btech\n",
            "Birth\n",
            "April\n",
            "AIML\n"
          ]
        }
      ]
    },
    {
      "cell_type": "markdown",
      "source": [
        "## Experiment 7"
      ],
      "metadata": {
        "id": "ANvbDcTAfOXr"
      }
    },
    {
      "cell_type": "code",
      "source": [
        "#(i)\n",
        "str = input (\"Enter the Word :- \")\n",
        "if str [ : 2] == \"0!\":\n",
        "    for i in range (len(a)) :\n",
        "        print (str[i])\n",
        "else :\n",
        "    print (\"Please enter again \")\n",
        "    \n",
        "#(ii)\n",
        "str = input (\"Enter the Word :- \")\n",
        "for i in range (-1, -len(str) - 1, -1) :\n",
        "    print (str[i])"
      ],
      "metadata": {
        "colab": {
          "base_uri": "https://localhost:8080/"
        },
        "id": "nTJvpUaLD3jR",
        "outputId": "4dcc89b2-bcc7-4a65-cdd0-7f5fe27fbb97"
      },
      "execution_count": null,
      "outputs": [
        {
          "output_type": "stream",
          "name": "stdout",
          "text": [
            "Enter the Word :- pratham\n",
            "Please enter again \n",
            "Enter the Word :- pratam\n",
            "m\n",
            "a\n",
            "t\n",
            "a\n",
            "r\n",
            "p\n"
          ]
        }
      ]
    },
    {
      "cell_type": "code",
      "source": [
        "#(iii)\n",
        "str = input (\"Enter the Word :- \")\n",
        "newstr = str[-1 : : -1]\n",
        "print (newstr)\n",
        "\n",
        "#(iv)\n",
        "str = input (\"Enter the Word :- \")\n",
        "letter = input (\"Enter a letter to count :- \") \n",
        "count = 0\n",
        "for i in str :\n",
        "    if i == letter :\n",
        "        count += 1\n",
        "print (\"Number of letter :- \", count )"
      ],
      "metadata": {
        "colab": {
          "base_uri": "https://localhost:8080/"
        },
        "id": "Mqm0-c-LEKP1",
        "outputId": "4350a38a-f58a-4882-fb81-e80843cf8bb9"
      },
      "execution_count": null,
      "outputs": [
        {
          "output_type": "stream",
          "name": "stdout",
          "text": [
            "Enter the Word :- pratham\n",
            "mahtarp\n",
            "Enter the Word :- pratham\n",
            "Enter a letter to count :- a\n",
            "Number of letter :-  2\n"
          ]
        }
      ]
    },
    {
      "cell_type": "markdown",
      "source": [
        "## Experiment 8"
      ],
      "metadata": {
        "id": "-EMpx3xnfVAK"
      }
    },
    {
      "cell_type": "code",
      "source": [
        "def mean(l):\n",
        "  return sum(l)/len(l)\n",
        "def median(l):\n",
        "  l.sort()\n",
        "  le=len(l)\n",
        "  if le%2==0:\n",
        "    return l[le//2-1],l[le//2]\n",
        "  return l[le//2]\n",
        "def mode(l):\n",
        "  count=0\n",
        "  el=None\n",
        "  for i in l:\n",
        "    if l.count(i)>count:\n",
        "      el=i\n",
        "      count=l.count(i)\n",
        "  return el\n",
        "def range(l):\n",
        "  return max(l)-min(l)\n",
        "lst=[10,20,30,40,50,60,70,80,90,100]\n",
        "print(mean(lst))\n",
        "print(median(lst))\n",
        "print(mode(lst))\n",
        "print(range(lst))"
      ],
      "metadata": {
        "colab": {
          "base_uri": "https://localhost:8080/"
        },
        "id": "lmJkWhl1OKWb",
        "outputId": "0e47f203-6d03-4ead-c183-0c3cfb7112ab"
      },
      "execution_count": null,
      "outputs": [
        {
          "output_type": "stream",
          "name": "stdout",
          "text": [
            "55.0\n",
            "(50, 60)\n",
            "10\n",
            "90\n"
          ]
        }
      ]
    },
    {
      "cell_type": "markdown",
      "source": [
        "## Experiment 9"
      ],
      "metadata": {
        "id": "HY1kyyBTfekx"
      }
    },
    {
      "cell_type": "code",
      "source": [
        "dic = {'Pratham' : \"2004\",\n",
        "       'Prasanna' : \"2000\",\n",
        "       'Jeel' : \"2001\",\n",
        "       'Rutul' : \"2003\",\n",
        "       'Kunjan' : \"2002\",\n",
        "       'Jeet' : \"2005\",\n",
        "       'Kunjan' : \"2006\",\n",
        "       'Vansh' : \"2007\",\n",
        "       'Nishit' : \"2008\",\n",
        "       'Jaimin' : \"2009\" }\n",
        "\n",
        "username = input(\"Enter username :- \")\n",
        "\n",
        "if username in dic :\n",
        "    password = input(\"Enter password :- \")\n",
        "    if dic[username] == password :\n",
        "        print (\"You are now logged into the system.\")\n",
        "    else :\n",
        "        print (\"Invalid password.\")\n",
        "else :\n",
        "    print (\"You are not valid user.\")"
      ],
      "metadata": {
        "colab": {
          "base_uri": "https://localhost:8080/"
        },
        "id": "UqokySonRSVb",
        "outputId": "4adb9163-c1f1-40c2-d648-c38f631bdd64"
      },
      "execution_count": null,
      "outputs": [
        {
          "output_type": "stream",
          "name": "stdout",
          "text": [
            "Enter username :- Pratham\n",
            "Enter password :- 2004\n",
            "You are now logged into the system.\n"
          ]
        }
      ]
    },
    {
      "cell_type": "markdown",
      "source": [
        "## Experiment 10"
      ],
      "metadata": {
        "id": "FnHcXmiOfmwq"
      }
    },
    {
      "cell_type": "code",
      "source": [
        "\n",
        "def tuple_to_int(nums):\n",
        "    result = int(''.join(map(str,nums)))\n",
        "    return result\n",
        "nums = (1,2,3)\n",
        "print(\"Original tuple: \") \n",
        "print(nums)\n",
        "print(\"Convert the said tuple of positive integers into an integer:\")\n",
        "print(tuple_to_int(nums))"
      ],
      "metadata": {
        "colab": {
          "base_uri": "https://localhost:8080/",
          "height": 374
        },
        "id": "MH_fTezgIjwu",
        "outputId": "d08388bb-4c6b-49db-80f0-f7fd9f80ccef"
      },
      "execution_count": null,
      "outputs": [
        {
          "output_type": "stream",
          "name": "stdout",
          "text": [
            "Original tuple: \n",
            "(1, 2, 3)\n",
            "Convert the said tuple of positive integers into an integer:\n"
          ]
        },
        {
          "output_type": "error",
          "ename": "TypeError",
          "evalue": "ignored",
          "traceback": [
            "\u001b[0;31m---------------------------------------------------------------------------\u001b[0m",
            "\u001b[0;31mTypeError\u001b[0m                                 Traceback (most recent call last)",
            "\u001b[0;32m<ipython-input-9-7372327a89ca>\u001b[0m in \u001b[0;36m<module>\u001b[0;34m()\u001b[0m\n\u001b[1;32m      7\u001b[0m \u001b[0mprint\u001b[0m\u001b[0;34m(\u001b[0m\u001b[0mnums\u001b[0m\u001b[0;34m)\u001b[0m\u001b[0;34m\u001b[0m\u001b[0;34m\u001b[0m\u001b[0m\n\u001b[1;32m      8\u001b[0m \u001b[0mprint\u001b[0m\u001b[0;34m(\u001b[0m\u001b[0;34m\"Convert the said tuple of positive integers into an integer:\"\u001b[0m\u001b[0;34m)\u001b[0m\u001b[0;34m\u001b[0m\u001b[0;34m\u001b[0m\u001b[0m\n\u001b[0;32m----> 9\u001b[0;31m \u001b[0mprint\u001b[0m\u001b[0;34m(\u001b[0m\u001b[0mtuple_to_int\u001b[0m\u001b[0;34m(\u001b[0m\u001b[0mnums\u001b[0m\u001b[0;34m)\u001b[0m\u001b[0;34m)\u001b[0m\u001b[0;34m\u001b[0m\u001b[0;34m\u001b[0m\u001b[0m\n\u001b[0m",
            "\u001b[0;32m<ipython-input-9-7372327a89ca>\u001b[0m in \u001b[0;36mtuple_to_int\u001b[0;34m(nums)\u001b[0m\n\u001b[1;32m      1\u001b[0m \u001b[0;34m\u001b[0m\u001b[0m\n\u001b[1;32m      2\u001b[0m \u001b[0;32mdef\u001b[0m \u001b[0mtuple_to_int\u001b[0m\u001b[0;34m(\u001b[0m\u001b[0mnums\u001b[0m\u001b[0;34m)\u001b[0m\u001b[0;34m:\u001b[0m\u001b[0;34m\u001b[0m\u001b[0;34m\u001b[0m\u001b[0m\n\u001b[0;32m----> 3\u001b[0;31m     \u001b[0mresult\u001b[0m \u001b[0;34m=\u001b[0m \u001b[0mint\u001b[0m\u001b[0;34m(\u001b[0m\u001b[0;34m''\u001b[0m\u001b[0;34m.\u001b[0m\u001b[0mjoin\u001b[0m\u001b[0;34m(\u001b[0m\u001b[0mmap\u001b[0m\u001b[0;34m(\u001b[0m\u001b[0mstr\u001b[0m\u001b[0;34m,\u001b[0m\u001b[0mnums\u001b[0m\u001b[0;34m)\u001b[0m\u001b[0;34m)\u001b[0m\u001b[0;34m)\u001b[0m\u001b[0;34m\u001b[0m\u001b[0;34m\u001b[0m\u001b[0m\n\u001b[0m\u001b[1;32m      4\u001b[0m     \u001b[0;32mreturn\u001b[0m \u001b[0mresult\u001b[0m\u001b[0;34m\u001b[0m\u001b[0;34m\u001b[0m\u001b[0m\n\u001b[1;32m      5\u001b[0m \u001b[0mnums\u001b[0m \u001b[0;34m=\u001b[0m \u001b[0;34m(\u001b[0m\u001b[0;36m1\u001b[0m\u001b[0;34m,\u001b[0m\u001b[0;36m2\u001b[0m\u001b[0;34m,\u001b[0m\u001b[0;36m3\u001b[0m\u001b[0;34m)\u001b[0m\u001b[0;34m\u001b[0m\u001b[0;34m\u001b[0m\u001b[0m\n",
            "\u001b[0;31mTypeError\u001b[0m: 'str' object is not callable"
          ]
        }
      ]
    },
    {
      "cell_type": "markdown",
      "source": [
        "## Experiment 11"
      ],
      "metadata": {
        "id": "kNupWvPWfqhB"
      }
    },
    {
      "cell_type": "code",
      "source": [
        "subject_marks = [('Discrete Mathematics', 93), ('Python Programming', 95), ('Environmental Science', 88), ('Engineering Physics', 83)]\n",
        "print(\"Original list of tuples:\")\n",
        "print(subject_marks)\n",
        "subject_marks.sort(key = lambda x: x[1])\n",
        "print(\"\\nSorting the List of Tuples:\")\n",
        "print(subject_marks)"
      ],
      "metadata": {
        "colab": {
          "base_uri": "https://localhost:8080/"
        },
        "id": "Lv4ngJtzKlXr",
        "outputId": "2fcd15a0-a106-4471-cf98-a23add31fc6f"
      },
      "execution_count": null,
      "outputs": [
        {
          "output_type": "stream",
          "name": "stdout",
          "text": [
            "Original list of tuples:\n",
            "[('Discrete Mathematics', 93), ('Python Programming', 95), ('Environmental Science', 88), ('Engineering Physics', 83)]\n",
            "\n",
            "Sorting the List of Tuples:\n",
            "[('Engineering Physics', 83), ('Environmental Science', 88), ('Discrete Mathematics', 93), ('Python Programming', 95)]\n"
          ]
        }
      ]
    },
    {
      "cell_type": "markdown",
      "source": [
        "## Experiment 12"
      ],
      "metadata": {
        "id": "rt8igk2spTnD"
      }
    },
    {
      "cell_type": "code",
      "source": [
        "tup = (\"The\", \"quick\", \"brown\", \"fox\")\n",
        "index = 0\n",
        "while index < len(tup):\n",
        "    new = tup[ index ][1 : ] + tup[ index ][ 0 ] + \"ay\"\n",
        "    print (new, end = \" \")\n",
        "    index += 1"
      ],
      "metadata": {
        "colab": {
          "base_uri": "https://localhost:8080/"
        },
        "id": "CmnrCrvQpKdk",
        "outputId": "870733ce-77c4-4019-b31a-01c649142d7e"
      },
      "execution_count": 4,
      "outputs": [
        {
          "output_type": "stream",
          "name": "stdout",
          "text": [
            "heTay uickqay rownbay oxfay "
          ]
        }
      ]
    },
    {
      "cell_type": "code",
      "source": [
        "tup =(\"heTay\",\"uickqay\",\"rownbay\", \"oxfay\") \n",
        "index = 0\n",
        "while index < len(tup):\n",
        "    new = tup[ index ][ -3 ] + tup[ index ][0 : -3 ] \n",
        "    print (new, end = \" \")\n",
        "    index += 1"
      ],
      "metadata": {
        "colab": {
          "base_uri": "https://localhost:8080/"
        },
        "id": "GNSOqbG_pM0P",
        "outputId": "24623c36-e6e6-4b62-d48a-af953b7563f1"
      },
      "execution_count": 5,
      "outputs": [
        {
          "output_type": "stream",
          "name": "stdout",
          "text": [
            "The quick brown fox "
          ]
        }
      ]
    },
    {
      "cell_type": "markdown",
      "source": [
        "## Experiment 13"
      ],
      "metadata": {
        "id": "2OBjkIDQf9Zv"
      }
    },
    {
      "cell_type": "code",
      "source": [
        "def fibonacci(n):\n",
        "    if(n <= 1):\n",
        "        return n\n",
        "    else:\n",
        "        return(fibonacci(n-1) + fibonacci(n-2))\n",
        "n = int(input(\"Enter number of terms:\"))\n",
        "print(\"Fibonacci sequence:\")\n",
        "for i in range(n):\n",
        "    print(fibonacci(i))"
      ],
      "metadata": {
        "colab": {
          "base_uri": "https://localhost:8080/"
        },
        "id": "BaPzkvdeL4IU",
        "outputId": "aeb448a3-bf0d-4b6d-dba3-88dfb04172f9"
      },
      "execution_count": null,
      "outputs": [
        {
          "output_type": "stream",
          "name": "stdout",
          "text": [
            "Enter number of terms:9\n",
            "Fibonacci sequence:\n",
            "0\n",
            "1\n",
            "1\n",
            "2\n",
            "3\n",
            "5\n",
            "8\n",
            "13\n",
            "21\n"
          ]
        }
      ]
    },
    {
      "cell_type": "markdown",
      "source": [
        "## Experiment 14"
      ],
      "metadata": {
        "id": "nYJld8Lem9Bp"
      }
    },
    {
      "cell_type": "code",
      "source": [
        "def linearSearch(lst,item):\n",
        "  for i in range(len(lst)):\n",
        "    if lst[i]==item:\n",
        "      return f\"The element {item} is at index {i}\"    #returns index of item\n",
        "  return -1    #if item is not in the list\n",
        "def binarySearch(lst,item):\n",
        "  lst.sort()\n",
        "  print(\"The sorted list is:\",lst)\n",
        "  low,high=0,len(lst)-1\n",
        "  while low<=high:\n",
        "    mid=(low+high)//2\n",
        "    mid_element=lst[mid]\n",
        "    if mid_element==item:\n",
        "      return f\"The element {item} is at index {mid}\"    #return index of middle element\n",
        "    if mid_element<item:\n",
        "      low=mid+1    #discarding the right part of the list because item is greater than middle element\n",
        "    elif mid_element>item:\n",
        "      high=mid-1    #discarding the left part of the list becasue item is smaller then middle element\n",
        "    return -1\n",
        "ls=[]\n",
        "n=int(input(\"Enter the number of elements: \"))\n",
        "print(\"Enter the elements: \")\n",
        "for i in range(n):\n",
        "  ls.append(int(input()))\n",
        "print(\"Your list is: \",ls)\n",
        "it=int(input(\"Enter item to search: \"))\n",
        "ch=int(input(\"Enter 0 for linear search and 1 for binary search: \"))\n",
        "if ch==0:\n",
        "  print(linearSearch(ls,it))\n",
        "else:\n",
        "  print(binarySearch(ls,it))"
      ],
      "metadata": {
        "colab": {
          "base_uri": "https://localhost:8080/"
        },
        "id": "NKJK2LIOk4VN",
        "outputId": "9f0fb7c7-781c-4bd0-8ea6-52301b6833e8"
      },
      "execution_count": 2,
      "outputs": [
        {
          "output_type": "stream",
          "name": "stdout",
          "text": [
            "Enter the number of elements: 5\n",
            "Enter the elements: \n",
            "0\n",
            "9\n",
            "9\n",
            "3\n",
            "4\n",
            "Your list is:  [0, 9, 9, 3, 4]\n",
            "Enter item to search: 9\n",
            "Enter 0 for linear search and 1 for binary search: 1\n",
            "The sorted list is: [0, 3, 4, 9, 9]\n",
            "-1\n"
          ]
        }
      ]
    },
    {
      "cell_type": "markdown",
      "source": [
        "## Experiment 15"
      ],
      "metadata": {
        "id": "1m2boVGXgB5I"
      }
    },
    {
      "cell_type": "code",
      "source": [
        "def mergeSort(arr):\n",
        "    if len(arr) > 1:\n",
        "        mid = len(arr) // 2\n",
        "        L = arr[:mid]\n",
        "        R = arr[mid:]\n",
        "        mergeSort(L)\n",
        "        mergeSort(R)\n",
        "        i = j = k = 0\n",
        "\n",
        "        while i < len(L) and j < len(R):\n",
        "            if L[i] < R[j]:\n",
        "                arr[k] = L[i]\n",
        "                i += 1\n",
        "            else:\n",
        "                arr[k] = R[j]\n",
        "                j += 1\n",
        "            k += 1\n",
        "\n",
        "        while i < len(L):\n",
        "            arr[k] = L[i]\n",
        "            i += 1\n",
        "            k += 1\n",
        "\n",
        "        while j < len(R):\n",
        "            arr[k] = R[j]\n",
        "            j += 1\n",
        "            k += 1\n",
        "    return arr\n",
        "\n",
        "arr = [12, 11, 13, 5, 6, 7]\n",
        "print(f\"\\nSorted List By MergeSort is\\n{mergeSort(arr)}\")\n",
        "\n",
        "\n",
        "\n",
        "#implementation of selection sort\n",
        "arrr = [12, 11, 13, 5, 6, 7]\n",
        "def selectionSort(arr):\n",
        "    for i in range(len(arr)):\n",
        "        min_idx = i\n",
        "        for j in range(i + 1, len(arr)):\n",
        "            if arr[min_idx] > arr[j]:\n",
        "                min_idx = j\n",
        "        arr[i], arr[min_idx] = arr[min_idx], arr[i]\n",
        "    return arr\n",
        "print(f\"\\nSorted List By SelectionSort is\\n{selectionSort(arrr)}\")\n",
        "\n",
        "\n",
        "\n",
        "#implementation of insertion sort\n",
        "def insertionSort(array):\n",
        "    for step in range(1, len(array)):\n",
        "        key = array[step]\n",
        "        j = step - 1\n",
        "        while j >= 0 and key < array[j]:\n",
        "            array[j + 1] = array[j]\n",
        "            j = j - 1\n",
        "        array[j + 1] = key\n",
        "    return array\n",
        "\n",
        "data = [12, 11, 13, 5, 6, 7]\n",
        "print(f'\\nSorted List By InsertionSort is\\n{insertionSort(data)}')"
      ],
      "metadata": {
        "colab": {
          "base_uri": "https://localhost:8080/"
        },
        "id": "vVmR74McS91V",
        "outputId": "2230879b-4b1c-4cad-9f30-11c4c2521f86"
      },
      "execution_count": null,
      "outputs": [
        {
          "output_type": "stream",
          "name": "stdout",
          "text": [
            "\n",
            "Sorted List By MergeSort is\n",
            "[5, 6, 7, 11, 12, 13]\n",
            "\n",
            "Sorted List By SelectionSort is\n",
            "[5, 6, 7, 11, 12, 13]\n",
            "\n",
            "Sorted List By InsertionSort is\n",
            "[5, 6, 7, 11, 12, 13]\n"
          ]
        }
      ]
    },
    {
      "cell_type": "code",
      "source": [
        ""
      ],
      "metadata": {
        "id": "zn1Mo3jqUKP6"
      },
      "execution_count": null,
      "outputs": []
    }
  ]
}