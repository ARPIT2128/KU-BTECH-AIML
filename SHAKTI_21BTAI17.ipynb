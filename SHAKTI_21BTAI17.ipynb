{
  "nbformat": 4,
  "nbformat_minor": 0,
  "metadata": {
    "colab": {
      "name": "SHAKTI_21BTAI17.ipynb",
      "provenance": [],
      "authorship_tag": "ABX9TyNx0Z2rG8oGrupd010BRlAp",
      "include_colab_link": true
    },
    "kernelspec": {
      "name": "python3",
      "display_name": "Python 3"
    },
    "language_info": {
      "name": "python"
    }
  },
  "cells": [
    {
      "cell_type": "markdown",
      "metadata": {
        "id": "view-in-github",
        "colab_type": "text"
      },
      "source": [
        "<a href=\"https://colab.research.google.com/github/ARPIT2128/KU-BTECH-AIML/blob/main/SHAKTI_21BTAI17.ipynb\" target=\"_parent\"><img src=\"https://colab.research.google.com/assets/colab-badge.svg\" alt=\"Open In Colab\"/></a>"
      ]
    },
    {
      "cell_type": "code",
      "execution_count": null,
      "metadata": {
        "colab": {
          "base_uri": "https://localhost:8080/"
        },
        "id": "liNOsDR25kLT",
        "outputId": "41e74639-3db8-433c-8d93-3e37412b0d02"
      },
      "outputs": [
        {
          "output_type": "stream",
          "name": "stdout",
          "text": [
            "<class 'int'>\n",
            "<class 'str'>\n",
            "<class 'float'>\n",
            "<class 'complex'>\n",
            "<class 'bool'>\n"
          ]
        }
      ],
      "source": [
        "a=10\n",
        "print(type(a))\n",
        "a=\"HI\"\n",
        "print(type(a))\n",
        "a=12.5\n",
        "print(type(a))\n",
        "a=1+2j\n",
        "print(type(a))\n",
        "a=True\n",
        "print(type(a))"
      ]
    },
    {
      "cell_type": "code",
      "source": [
        "import math as m\n",
        "x1=int(input(\"Enter x1:\"))\n",
        "y1=int(input(\"Enter y1:\"))\n",
        "x2=int(input(\"Enter x2:\"))\n",
        "y2=int(input(\"Enter y2:\"))\n",
        "d=m.sqrt((x2*x2-x1*x1)**2+(y2*y2-y1*y1)**2)\n",
        "print(\"Distance between 2 points=\",d)"
      ],
      "metadata": {
        "colab": {
          "base_uri": "https://localhost:8080/"
        },
        "id": "l5UtvdfujqXa",
        "outputId": "fab05c49-9233-4954-9086-d8b57edbdaca"
      },
      "execution_count": null,
      "outputs": [
        {
          "output_type": "stream",
          "name": "stdout",
          "text": [
            "Enter x1:1\n",
            "Enter y1:2\n",
            "Enter x2:3\n",
            "Enter y2:4\n",
            "Distance between 2 points= 14.422205101855956\n"
          ]
        }
      ]
    },
    {
      "cell_type": "code",
      "source": [
        "a=int(input(\"Enter the number:\"))\n",
        "if(a%2==0):\n",
        "  print(\"Even number\")\n",
        "elif(a%2!=0):\n",
        "  print(\"Odd number\")\n",
        "else:\n",
        "  print(\"Enter valid numbe\")"
      ],
      "metadata": {
        "colab": {
          "base_uri": "https://localhost:8080/"
        },
        "id": "cN9OxMs8j_V5",
        "outputId": "7012f526-11e4-44be-c087-714e77f3f240"
      },
      "execution_count": null,
      "outputs": [
        {
          "output_type": "stream",
          "name": "stdout",
          "text": [
            "Enter the number:14\n",
            "Even number\n"
          ]
        }
      ]
    },
    {
      "cell_type": "code",
      "source": [
        "a=int(input(\"Enter number to verify if it is armstrong number or not:\"))\n",
        "l=len(str(a))\n",
        "sum=0\n",
        "temp=a\n",
        "while temp>0:\n",
        "  k=temp%10\n",
        "  sum+=k**l\n",
        "  temp//=10\n",
        "if(sum==a):\n",
        "  print(\"Armstrong number\")\n",
        "else:\n",
        "  print(\"Not an armstrong number\")"
      ],
      "metadata": {
        "colab": {
          "base_uri": "https://localhost:8080/"
        },
        "id": "QtLK6Hq-kKDO",
        "outputId": "9a17656b-ec76-489e-eb34-653682bfb0b9"
      },
      "execution_count": null,
      "outputs": [
        {
          "output_type": "stream",
          "name": "stdout",
          "text": [
            "Enter number to verify if it is armstrong number or not:15\n",
            "Not an armstrong number\n"
          ]
        }
      ]
    },
    {
      "cell_type": "code",
      "source": [
        "a=int(input(\"Enter value:\"))\n",
        "c=a\n",
        "while(c>=0):\n",
        "  print(c)\n",
        "  c=c-1"
      ],
      "metadata": {
        "colab": {
          "base_uri": "https://localhost:8080/"
        },
        "id": "Md8soQKbkZqZ",
        "outputId": "95b17227-a72e-44ab-8b66-06940050cd75"
      },
      "execution_count": null,
      "outputs": [
        {
          "output_type": "stream",
          "name": "stdout",
          "text": [
            "Enter value:5\n",
            "5\n",
            "4\n",
            "3\n",
            "2\n",
            "1\n",
            "0\n"
          ]
        }
      ]
    },
    {
      "cell_type": "code",
      "source": [
        "str=input(\"Enter a String:\") \n",
        "dict={} \n",
        "for n in str: \n",
        "  keys = dict.keys() \n",
        "  if n in keys: \n",
        "     dict[n] += 1 \n",
        "  else: \n",
        "     dict[n] = 1 \n",
        "print (dict)"
      ],
      "metadata": {
        "colab": {
          "base_uri": "https://localhost:8080/"
        },
        "id": "vtSQW7LIke_5",
        "outputId": "22884345-5790-4509-952a-572ac862b342"
      },
      "execution_count": null,
      "outputs": [
        {
          "output_type": "stream",
          "name": "stdout",
          "text": [
            "Enter a String:shakti\n",
            "{'s': 1, 'h': 1, 'a': 1, 'k': 1, 't': 1, 'i': 1}\n"
          ]
        }
      ]
    },
    {
      "cell_type": "code",
      "source": [
        "v=[1,2,3,\"Hello\"]\n",
        "s=(1,2,3,4,\"Hello World\")\n",
        "print(type(v))\n",
        "print(type(s))\n",
        "print(v,s)\n"
      ],
      "metadata": {
        "id": "8FsPg_oc76YI",
        "outputId": "1229b50e-ae17-4541-b07a-b0a111d2e18d",
        "colab": {
          "base_uri": "https://localhost:8080/"
        }
      },
      "execution_count": null,
      "outputs": [
        {
          "output_type": "stream",
          "name": "stdout",
          "text": [
            "<class 'list'>\n",
            "<class 'tuple'>\n",
            "[1, 2, 3, 'Hello'] (1, 2, 3, 4, 'Hello World')\n"
          ]
        }
      ]
    },
    {
      "cell_type": "code",
      "source": [
        "v=list(input())\n",
        "for i in range (len(v)):\n",
        "               print(v[i])\n",
        "print(v)"
      ],
      "metadata": {
        "id": "ZpFIUOIF-Pb1",
        "outputId": "d255e19b-eaa9-4be4-cd0b-db522db5844a",
        "colab": {
          "base_uri": "https://localhost:8080/"
        }
      },
      "execution_count": null,
      "outputs": [
        {
          "output_type": "stream",
          "name": "stdout",
          "text": [
            "123\n",
            "1\n",
            "2\n",
            "3\n",
            "['1', '2', '3']\n"
          ]
        }
      ]
    },
    {
      "cell_type": "code",
      "source": [
        "str = input (\"Enter the Word :- \")\n",
        "if str [ : 2] == \"0!\":\n",
        "    for i in range (len(str)) :\n",
        "        print (str[i])\n",
        "else :\n",
        "    print (\"Please enter again \")"
      ],
      "metadata": {
        "id": "LmzV2DNHDDjV",
        "outputId": "5fc8d349-be36-4d5f-9ae3-a2851afaf60b",
        "colab": {
          "base_uri": "https://localhost:8080/"
        }
      },
      "execution_count": null,
      "outputs": [
        {
          "output_type": "stream",
          "name": "stdout",
          "text": [
            "Enter the Word :- python\n",
            "Please enter again \n"
          ]
        }
      ]
    },
    {
      "cell_type": "code",
      "source": [
        "str = input (\"Enter the Word :- \")\n",
        "for i in range (-1, -len(str) - 1, -1) :\n",
        "    print (str[i])\n"
      ],
      "metadata": {
        "id": "oMvtUwwZDmZU",
        "outputId": "ad12c0b6-1272-4459-89d7-4c15c5c165aa",
        "colab": {
          "base_uri": "https://localhost:8080/"
        }
      },
      "execution_count": null,
      "outputs": [
        {
          "output_type": "stream",
          "name": "stdout",
          "text": [
            "Enter the Word :- python\n",
            "n\n",
            "o\n",
            "h\n",
            "t\n",
            "y\n",
            "p\n"
          ]
        }
      ]
    },
    {
      "cell_type": "code",
      "source": [
        "str = input (\"Enter the Word :- \")\n",
        "newstr = str[-1 : : -1]\n",
        "print (newstr)\n"
      ],
      "metadata": {
        "id": "cnQr1TUeDw3q",
        "outputId": "3c7f7c18-43b2-42ed-c63e-6f6ec4536192",
        "colab": {
          "base_uri": "https://localhost:8080/"
        }
      },
      "execution_count": null,
      "outputs": [
        {
          "output_type": "stream",
          "name": "stdout",
          "text": [
            "Enter the Word :- python\n",
            "nohtyp\n"
          ]
        }
      ]
    },
    {
      "cell_type": "code",
      "source": [
        "str = input (\"Enter the Word :- \")\n",
        "letter = input (\"Enter a letter to count :- \") \n",
        "count = 0\n",
        "for i in str :\n",
        "    if i == letter :\n",
        "        count += 1\n",
        "print (\"Number of letter :- \", count )\n",
        "\n",
        " \n",
        "\n"
      ],
      "metadata": {
        "id": "OA0ECR5-D8aC",
        "outputId": "cff4f22c-67b0-4b5e-8f1b-6777d90a231f",
        "colab": {
          "base_uri": "https://localhost:8080/"
        }
      },
      "execution_count": null,
      "outputs": [
        {
          "output_type": "stream",
          "name": "stdout",
          "text": [
            "Enter the Word :- python\n",
            "Enter a letter to count :- h\n",
            "Number of letter :-  1\n"
          ]
        }
      ]
    },
    {
      "cell_type": "code",
      "source": [
        "dic = {'Path' : \"2003\",\n",
        "       'Computer' : \"9834\",\n",
        "       'Python' : \"1990\",\n",
        "       'Mysql' : \"2001\",\n",
        "       'html' : \"1999\" }\n",
        "\n",
        "username = input(\"Enter username :- \")\n",
        "\n",
        "if username in dic :\n",
        "    password = input(\"Enter password :- \")\n",
        "    if dic[username] == password :\n",
        "        print (\"You are now logged into the system.\")\n",
        "    else :\n",
        "        print (\"Invalid password.\")\n",
        "else :\n",
        "    print (\"You are not valid user.\")"
      ],
      "metadata": {
        "id": "q-rpiNwRQnCA",
        "outputId": "ac878afe-a80a-4208-e590-7ff72e5e69a6",
        "colab": {
          "base_uri": "https://localhost:8080/"
        }
      },
      "execution_count": null,
      "outputs": [
        {
          "output_type": "stream",
          "name": "stdout",
          "text": [
            "Enter username :- Path\n",
            "Enter password :- 2003\n",
            "You are now logged into the system.\n"
          ]
        }
      ]
    },
    {
      "cell_type": "code",
      "source": [
        "subject_marks = [('Discrete Maths', 93), ('Python Programming', 95), ('Environmental Science', 88), ('Engineering Physics', 83)]\n",
        "print(\"Original list of tuples:\")\n",
        "print(subject_marks)\n",
        "subject_marks.sort(key = lambda x: x[1])\n",
        "print(\"\\nSorting the List of Tuples:\")\n",
        "print(subject_marks)"
      ],
      "metadata": {
        "id": "uJSEeyNLjxaq",
        "outputId": "26120a0f-6fab-411b-b96b-6c39cb44a22e",
        "colab": {
          "base_uri": "https://localhost:8080/"
        }
      },
      "execution_count": null,
      "outputs": [
        {
          "output_type": "stream",
          "name": "stdout",
          "text": [
            "Original list of tuples:\n",
            "[('Discrete Maths', 93), ('Python Programming', 95), ('Environmental Science', 88), ('Engineering Physics', 83)]\n",
            "\n",
            "Sorting the List of Tuples:\n",
            "[('Engineering Physics', 83), ('Environmental Science', 88), ('Discrete Maths', 93), ('Python Programming', 95)]\n"
          ]
        }
      ]
    },
    {
      "cell_type": "code",
      "source": [
        "tup = eval(input(\"Enter a tuple :- \"))\n",
        "index = 0\n",
        "while index < len(tup):\n",
        "    new = tup[ index ][1 : ] + tup[ index ][ 0 ] + \"ay\"\n",
        "    print (new, end = \" \")\n",
        "    index += 1"
      ],
      "metadata": {
        "id": "T-Or_owslP2r",
        "outputId": "7e94d88d-413f-423a-c722-8131f8e34bc1",
        "colab": {
          "base_uri": "https://localhost:8080/"
        }
      },
      "execution_count": null,
      "outputs": [
        {
          "output_type": "stream",
          "name": "stdout",
          "text": [
            "Enter a tuple :- \"the\", \"quick\", \"brown\", \"fox\"\n",
            "hetay uickqay rownbay oxfay "
          ]
        }
      ]
    },
    {
      "cell_type": "code",
      "source": [
        "tup = eval(input(\"Enter a tuple :- \"))\n",
        "index = 0\n",
        "while index < len(tup):\n",
        "    new = tup[ index ][ -3 ] + tup[ index ][0 : -3 ] \n",
        "    print (new, end = \" \")\n",
        "    index += 1"
      ],
      "metadata": {
        "id": "f2dQwGKTns_p",
        "outputId": "8d4008e4-8edf-44f9-93bc-d5eacb81fc06",
        "colab": {
          "base_uri": "https://localhost:8080/"
        }
      },
      "execution_count": null,
      "outputs": [
        {
          "output_type": "stream",
          "name": "stdout",
          "text": [
            "Enter a tuple :- \"the\", \"quick\", \"brown\", \"fox\"\n",
            "t iqu obr f "
          ]
        }
      ]
    },
    {
      "cell_type": "code",
      "source": [
        ""
      ],
      "metadata": {
        "id": "QhLNuIx-oPMN"
      },
      "execution_count": null,
      "outputs": []
    }
  ]
}