{
  "cells": [
    {
      "cell_type": "markdown",
      "metadata": {
        "id": "view-in-github",
        "colab_type": "text"
      },
      "source": [
        "<a href=\"https://colab.research.google.com/github/ARPIT2128/KU-BTECH-AIML/blob/main/Krishna_21BTAI27/COLLEGE_PYTHON-LAB.ipynb\" target=\"_parent\"><img src=\"https://colab.research.google.com/assets/colab-badge.svg\" alt=\"Open In Colab\"/></a>"
      ]
    },
    {
      "cell_type": "code",
      "source": [
        "#1 Write a program to demonstrate basic data types and purposefully raise indentation error along with its correction.\n",
        "\n",
        "a = 10\n",
        "print(type(a))\n",
        "\n",
        "b = 2.13\n",
        "print(type(b))\n",
        "\n",
        "c = 5 + 6j\n",
        "print(type(c))\n",
        "\n",
        "d = (\"Hello\")\n",
        "print(type(d))\n",
        "\n",
        "e = [10,\"Patel\"]\n",
        "print(type(e))\n",
        "\n",
        "f = {\"Hello\",\"World\"}\n",
        "print(type(f))\n",
        "\n",
        "g = dict(Name = \"Jazz\",Surname = \"Patel\")\n",
        "print(type(g))\n",
        "\n",
        "i = True\n",
        "print(type(i))\n",
        "\n",
        "j = False\n",
        "print(type(j))\n",
        "\n",
        "v = tuple((\"Hiii\"))\n",
        "print(type(v))\n",
        "\n",
        "k = {'bye',12}\n",
        "print(type(k))\n"
      ],
      "metadata": {
        "id": "J0UOgX_Anb6w",
        "outputId": "aa3e81b1-48f6-4b42-b756-c05514314758",
        "colab": {
          "base_uri": "https://localhost:8080/"
        }
      },
      "execution_count": 1,
      "outputs": [
        {
          "output_type": "stream",
          "name": "stdout",
          "text": [
            "<class 'int'>\n",
            "<class 'float'>\n",
            "<class 'complex'>\n",
            "<class 'str'>\n",
            "<class 'list'>\n",
            "<class 'set'>\n",
            "<class 'dict'>\n",
            "<class 'bool'>\n",
            "<class 'bool'>\n",
            "<class 'tuple'>\n",
            "<class 'set'>\n"
          ]
        }
      ]
    },
    {
      "cell_type": "code",
      "source": [
        "#2 Write a program to compute distance between two points taking input from the user (Pythagorean Theorem).\n",
        "\n",
        "x1 = int(input(\"Enter x1 : \"))\n",
        "y1 = int(input(\"Enter y1 : \"))\n",
        "x2 = int(input(\"Enter x2 : \"))\n",
        "y2 = int(input(\"Enter y2: \"))\n",
        "\n",
        "result = ((((x2 - x1)**2) + ((y2 - y1)**2))**0.5)\n",
        "#result = math.sqrt((x1 - x2)**2 + (y1 - y2)**2)\n",
        "\n",
        "print(\"distance between\",(x1,y1),\"and\",(x2,y2),\"is : \",result)"
      ],
      "metadata": {
        "id": "TqrmWIjGnsT3",
        "outputId": "f1b0be2d-7200-443a-b066-d47c1a2d8724",
        "colab": {
          "base_uri": "https://localhost:8080/"
        }
      },
      "execution_count": 2,
      "outputs": [
        {
          "output_type": "stream",
          "name": "stdout",
          "text": [
            "Enter x1 : 5\n",
            "Enter y1 : 6\n",
            "Enter x2 : 2\n",
            "Enter y2: 3\n",
            "distance between (5, 6) and (2, 3) is :  4.242640687119285\n"
          ]
        }
      ]
    },
    {
      "cell_type": "code",
      "source": [
        "# 3 Write a program \n",
        "#(a) For checking whether the given number is even or not \n",
        "\n",
        "num = int(input(\"Enter any numbers to test whether it is odd or even : \"))\n",
        "\n",
        "if(num % 2) == 0:\n",
        "  print(\"The number is even\")\n",
        "\n",
        "else:\n",
        "  print(\"The number is odd\")"
      ],
      "metadata": {
        "id": "o4as5lWyoFT6",
        "outputId": "e4dda824-1904-4bd6-f962-621af80963b5",
        "colab": {
          "base_uri": "https://localhost:8080/"
        }
      },
      "execution_count": 3,
      "outputs": [
        {
          "output_type": "stream",
          "name": "stdout",
          "text": [
            "Enter any numbers to test whether it is odd or even : 7\n",
            "The number is odd\n"
          ]
        }
      ]
    },
    {
      "cell_type": "code",
      "source": [
        "#(b) To check whether given number is Armstrong or not.\n",
        "\n",
        "n = int(input(\"Enter a number : \"))\n",
        "\n",
        "s = 0\n",
        "t = n\n",
        "while t > 0:\n",
        "  digit = t % 10\n",
        "  s += digit ** 3\n",
        "  t //= 10\n",
        "\n",
        "if n == s:\n",
        "  print(n,\"is an Armstrong number\")\n",
        "\n",
        "else:\n",
        "  print(n,\"is not an Armstrong number\")"
      ],
      "metadata": {
        "id": "4SCKm2xAodFf",
        "outputId": "1f993f6d-bde9-40b4-806d-40922c7a14be",
        "colab": {
          "base_uri": "https://localhost:8080/"
        }
      },
      "execution_count": 4,
      "outputs": [
        {
          "output_type": "stream",
          "name": "stdout",
          "text": [
            "Enter a number : 36\n",
            "36 is not an Armstrong number\n"
          ]
        }
      ]
    },
    {
      "cell_type": "code",
      "source": [
        "#4 Write a program using a while loop that asks the user for a number and prints a countdown from that number to zero.\n",
        "\n",
        "a = int(input(\"Enter the Number : \"))\n",
        "i = 0\n",
        "while i<=a:\n",
        "  print(i)\n",
        "  i = i + 1"
      ],
      "metadata": {
        "id": "V49FEF1Lohrb",
        "outputId": "8c5b9056-fc03-43e2-a241-9dde11d85787",
        "colab": {
          "base_uri": "https://localhost:8080/"
        }
      },
      "execution_count": 5,
      "outputs": [
        {
          "output_type": "stream",
          "name": "stdout",
          "text": [
            "Enter the Number : 6\n",
            "0\n",
            "1\n",
            "2\n",
            "3\n",
            "4\n",
            "5\n",
            "6\n"
          ]
        }
      ]
    },
    {
      "cell_type": "code",
      "source": [
        "#5 Write a program to count the number of characters in the string and store them in a dictionary data structure.\n",
        "\n",
        "a = str(input(\"Enter a string : \"))\n",
        "b = { }\n",
        "for i in a:\n",
        "  b[i] = a.count(i)\n",
        "print(b)"
      ],
      "metadata": {
        "id": "9MNqXjstoq0Z",
        "outputId": "6765a73b-dbdd-41e1-f353-e1cb6c891719",
        "colab": {
          "base_uri": "https://localhost:8080/"
        }
      },
      "execution_count": 6,
      "outputs": [
        {
          "output_type": "stream",
          "name": "stdout",
          "text": [
            "Enter a string : this is krishna\n",
            "{'t': 1, 'h': 2, 'i': 3, 's': 3, ' ': 2, 'k': 1, 'r': 1, 'n': 1, 'a': 1}\n"
          ]
        }
      ]
    },
    {
      "cell_type": "code",
      "source": [
        "#6 Write a program to demonstrate list and tuple in python. Write a program using a for loop that loops over a sequence.\n",
        "\n",
        "list = [\"Path\",\"Python\"]\n",
        "print(list)\n",
        "\n",
        "tuple = (\"cotlin\",\"java\")\n",
        "print(tuple)\n",
        "\n",
        "for i in list:\n",
        "  print(i)\n",
        "for i in tuple:\n",
        "  print(i)"
      ],
      "metadata": {
        "id": "deh4IoPuow5o",
        "outputId": "f36118d0-5b62-4483-cffd-87b406d31858",
        "colab": {
          "base_uri": "https://localhost:8080/"
        }
      },
      "execution_count": 7,
      "outputs": [
        {
          "output_type": "stream",
          "name": "stdout",
          "text": [
            "['Path', 'Python']\n",
            "('cotlin', 'java')\n",
            "Path\n",
            "Python\n",
            "cotlin\n",
            "java\n"
          ]
        }
      ]
    },
    {
      "cell_type": "code",
      "source": [
        "#7  (a) After getting a word (of input) from the user, your program should use a while (or for) loop to print out each of the letters of the word. Just remember that strings in Python start with element 0!\n",
        "\n",
        "str = input (\"Enter the Word :- \")\n",
        "if str [ : 2] == \"0!\":\n",
        "    for i in range (len(str)) :\n",
        "        print (str[i])\n",
        "else :\n",
        "    print (\"Please enter again \")"
      ],
      "metadata": {
        "id": "Z8s24slco5Fd",
        "outputId": "e79626f9-5d10-46a3-9ee3-013d9cc731cc",
        "colab": {
          "base_uri": "https://localhost:8080/"
        }
      },
      "execution_count": 8,
      "outputs": [
        {
          "output_type": "stream",
          "name": "stdout",
          "text": [
            "Enter the Word :- world\n",
            "Please enter again \n"
          ]
        }
      ]
    },
    {
      "cell_type": "code",
      "source": [
        "#7 (b) Your program should then use another loop to print out each of the letters of the (same) word in reverse order!\n",
        "\n",
        "str = input (\"Enter the Word :- \")\n",
        "for i in range (-1, -len(str) - 1, -1) :\n",
        "    print (str[i])"
      ],
      "metadata": {
        "id": "00reDjoqpLMv",
        "outputId": "4af0919b-1eb3-480a-8c64-9ee74390d076",
        "colab": {
          "base_uri": "https://localhost:8080/"
        }
      },
      "execution_count": 9,
      "outputs": [
        {
          "output_type": "stream",
          "name": "stdout",
          "text": [
            "Enter the Word :- hello\n",
            "o\n",
            "l\n",
            "l\n",
            "e\n",
            "h\n"
          ]
        }
      ]
    },
    {
      "cell_type": "code",
      "source": [
        "#7 (c) Make a new variable that is the original word in reverse and print that variable. You can do this very easily in Python with a \"string slice\".\n",
        "\n",
        "str = input (\"Enter the Word :- \")\n",
        "newstr = str[-1 : : -1]\n",
        "print (newstr)"
      ],
      "metadata": {
        "id": "3ZC-9rA9pWXh",
        "outputId": "28695366-a967-4a85-8388-90f799f458b6",
        "colab": {
          "base_uri": "https://localhost:8080/"
        }
      },
      "execution_count": 10,
      "outputs": [
        {
          "output_type": "stream",
          "name": "stdout",
          "text": [
            "Enter the Word :- newspaper\n",
            "repapswen\n"
          ]
        }
      ]
    },
    {
      "cell_type": "code",
      "source": [
        "#7 (d) Ask the user for a letter to count. Use another loop to count how many times that letter appears in the original word. Print out this count.\n",
        "\n",
        "str = input (\"Enter the Word :- \")\n",
        "letter = input (\"Enter a letter to count :- \") \n",
        "count = 0\n",
        "for i in str :\n",
        "    if i == letter :\n",
        "        count += 1\n",
        "print (\"Number of letter :- \", count )"
      ],
      "metadata": {
        "id": "SRWpSWT4pcEj",
        "outputId": "e8891612-60db-41b0-e44d-a9b01ad9ae1a",
        "colab": {
          "base_uri": "https://localhost:8080/"
        }
      },
      "execution_count": 11,
      "outputs": [
        {
          "output_type": "stream",
          "name": "stdout",
          "text": [
            "Enter the Word :- python\n",
            "Enter a letter to count :- t\n",
            "Number of letter :-  1\n"
          ]
        }
      ]
    },
    {
      "cell_type": "code",
      "source": [
        "#8 Write a program to print the mean, median, mode and range of the list.\n",
        "#(a)Mean\n",
        "\n",
        "num = [1, 2, 3, 4, 5]\n",
        "n = len(num)\n",
        "s=0\n",
        "for i in num:\n",
        "  s=s+i\n",
        "print(s)\n",
        "mean=s/n\n",
        "print(\"mean is \",mean)"
      ],
      "metadata": {
        "id": "7b3vFsRxoAZ9",
        "outputId": "cdd067b2-8c80-4abb-e5c8-a8c7093488c4",
        "colab": {
          "base_uri": "https://localhost:8080/"
        }
      },
      "execution_count": 35,
      "outputs": [
        {
          "output_type": "stream",
          "name": "stdout",
          "text": [
            "15\n",
            "mean is  3.0\n"
          ]
        }
      ]
    },
    {
      "cell_type": "code",
      "source": [
        "#8 (b) Median\n",
        "\n",
        "n_num = [1, 2, 3, 4, 5]\n",
        "n = len(n_num)\n",
        "n_num.sort()\n",
        "  \n",
        "if n % 2 == 0:\n",
        "    median1 = n_num[n//2]\n",
        "    median2 = n_num[n//2 - 1]\n",
        "    median = (median1 + median2)/2\n",
        "else:\n",
        "    median = n_num[n//2]\n",
        "print(\"Median is: \" ,median)"
      ],
      "metadata": {
        "id": "k9m2zsTCqsAE",
        "outputId": "ae90b807-3924-4d66-912a-a87701a4b458",
        "colab": {
          "base_uri": "https://localhost:8080/"
        }
      },
      "execution_count": 36,
      "outputs": [
        {
          "output_type": "stream",
          "name": "stdout",
          "text": [
            "Median is:  3\n"
          ]
        }
      ]
    },
    {
      "cell_type": "code",
      "source": [
        "#8 (c) Mode\n",
        "\n",
        "y= [11, 8, 8, 3, 4, 4, 5, 6, 6, 6, 7, 8]\n",
        "y.sort()\n",
        "L1=[]\n",
        "i = 0\n",
        "while i < len(y) :\n",
        "    L1.append(y.count(y[i]))\n",
        "    i += 1\n",
        "d1 = dict(zip(y, L1))\n",
        "d2={k for (k,v) in d1.items() if v == max(L1) }\n",
        "print(\"mode is \",(d2))\n"
      ],
      "metadata": {
        "id": "a2U_cQIzq2JA",
        "outputId": "7d1d2435-3a5a-438b-d0ba-dbd51ba3d87a",
        "colab": {
          "base_uri": "https://localhost:8080/"
        }
      },
      "execution_count": 20,
      "outputs": [
        {
          "output_type": "stream",
          "name": "stdout",
          "text": [
            "mode is  {8, 6}\n"
          ]
        }
      ]
    },
    {
      "cell_type": "code",
      "source": [
        "#8 (d) Range\n",
        "\n",
        "nums = [9, 4, 6, 6, 5, 2, 10, 12, 1, 4, 4, 6]\n",
        "\n",
        "minimum = min(nums)\n",
        "maximum = max(nums)\n",
        "\n",
        "print(f'The range is {minimum}, {maximum}')"
      ],
      "metadata": {
        "id": "dkbNLHBnrGTD",
        "outputId": "b06ab8a9-62d7-4cfa-b775-ab56c790d93f",
        "colab": {
          "base_uri": "https://localhost:8080/"
        }
      },
      "execution_count": 21,
      "outputs": [
        {
          "output_type": "stream",
          "name": "stdout",
          "text": [
            "The range is 1, 12\n"
          ]
        }
      ]
    },
    {
      "cell_type": "code",
      "source": [
        "#9 Write a program that uses a dictionary that contains ten usernames and passwords. the program should ask the user to enter their usernames and passwords. if the username is not in the dictionary, the program should indicate that the person is not a valid user of the system. if the username is in the dictionary, but the user does not enter the right password, the program should say that the password is invalid. if the password is correct, then the program should tell the user that they are now logged into the system.\n",
        "\n",
        "dic = {'Path' : \"2003\",\n",
        "       'walla' : \"1809\",\n",
        "       'Portal' : \"1912\",\n",
        "       'Express' : \"2003\",\n",
        "       'Computer' : \"9834\",\n",
        "       'Python' : \"1990\",\n",
        "       'Mysql' : \"2001\",\n",
        "       'c++' : \"1996\",\n",
        "       'java' : \"1998\",\n",
        "       'html' : \"1999\" }\n",
        "\n",
        "username = input(\"Enter username :- \")\n",
        "\n",
        "if username in dic :\n",
        "    password = input(\"Enter password :- \")\n",
        "    if dic[username] == password :\n",
        "        print (\"You are now logged into the system.\")\n",
        "    else :\n",
        "        print (\"Invalid password.\")\n",
        "else :\n",
        "    print (\"You are not valid user.\")"
      ],
      "metadata": {
        "id": "bnAxH3QVrMI5",
        "outputId": "ccd908d6-f7b1-49da-e532-da41f3ab3251",
        "colab": {
          "base_uri": "https://localhost:8080/"
        }
      },
      "execution_count": 22,
      "outputs": [
        {
          "output_type": "stream",
          "name": "stdout",
          "text": [
            "Enter username :- krishna\n",
            "You are not valid user.\n"
          ]
        }
      ]
    },
    {
      "cell_type": "code",
      "source": [
        "#10 Write a Python program to convert a given tuple of positive integers into an integer. Original tuple: (1, 2, 3) Convert the said tuple of positive integers into an integer: 123\n",
        "\n",
        "nums=(1,2,3)\n",
        "res = int(''.join(map(str,nums)))\n",
        "print(res)\n"
      ],
      "metadata": {
        "id": "Fob6tx_GrSEB",
        "outputId": "93097165-2861-4cbb-a743-1d56a7031ce4",
        "colab": {
          "base_uri": "https://localhost:8080/",
          "height": 226
        }
      },
      "execution_count": 38,
      "outputs": [
        {
          "output_type": "error",
          "ename": "TypeError",
          "evalue": "ignored",
          "traceback": [
            "\u001b[0;31m---------------------------------------------------------------------------\u001b[0m",
            "\u001b[0;31mTypeError\u001b[0m                                 Traceback (most recent call last)",
            "\u001b[0;32m<ipython-input-38-2e37046de983>\u001b[0m in \u001b[0;36m<module>\u001b[0;34m()\u001b[0m\n\u001b[1;32m      2\u001b[0m \u001b[0;34m\u001b[0m\u001b[0m\n\u001b[1;32m      3\u001b[0m \u001b[0mnums\u001b[0m\u001b[0;34m=\u001b[0m\u001b[0;34m(\u001b[0m\u001b[0;36m1\u001b[0m\u001b[0;34m,\u001b[0m\u001b[0;36m2\u001b[0m\u001b[0;34m,\u001b[0m\u001b[0;36m3\u001b[0m\u001b[0;34m)\u001b[0m\u001b[0;34m\u001b[0m\u001b[0;34m\u001b[0m\u001b[0m\n\u001b[0;32m----> 4\u001b[0;31m \u001b[0mres\u001b[0m \u001b[0;34m=\u001b[0m \u001b[0mint\u001b[0m\u001b[0;34m(\u001b[0m\u001b[0;34m''\u001b[0m\u001b[0;34m.\u001b[0m\u001b[0mjoin\u001b[0m\u001b[0;34m(\u001b[0m\u001b[0mmap\u001b[0m\u001b[0;34m(\u001b[0m\u001b[0mstr\u001b[0m\u001b[0;34m,\u001b[0m\u001b[0mnums\u001b[0m\u001b[0;34m)\u001b[0m\u001b[0;34m)\u001b[0m\u001b[0;34m)\u001b[0m\u001b[0;34m\u001b[0m\u001b[0;34m\u001b[0m\u001b[0m\n\u001b[0m\u001b[1;32m      5\u001b[0m \u001b[0mprint\u001b[0m\u001b[0;34m(\u001b[0m\u001b[0mres\u001b[0m\u001b[0;34m)\u001b[0m\u001b[0;34m\u001b[0m\u001b[0;34m\u001b[0m\u001b[0m\n",
            "\u001b[0;31mTypeError\u001b[0m: 'str' object is not callable"
          ]
        }
      ]
    },
    {
      "cell_type": "code",
      "source": [
        "#11 Write a Python program to sort a list of tuples using Lambda. Original list of tuples: – Original list of tuples: – [('Discrete Mathematics', 93), ('Python Programming', 95), ('Environmental Science', 88), ('Engineering Physics', 83)] – Sorting the List of Tuples: – [('Engineering Physics', 83), ('Environmental Science', 88), ('Discrete Mathematics', 93), ('Python Programming', 95)]\n",
        "\n",
        "subject_marks = [('Discrete Mathematics', 93), ('Python Programming', 95), ('Environmental Science', 88), ('Engineering Physics', 83)] \n",
        "print(\"Original list of tuples:\")\n",
        "print(subject_marks)\n",
        "subject_marks.sort(key = lambda x: x[1])\n",
        "print(\"\\nSorting the List of Tuples:\")\n",
        "print(subject_marks)"
      ],
      "metadata": {
        "id": "jK2j08o6r0R2",
        "outputId": "bd390e71-9147-4ebb-ad43-09d1833b9186",
        "colab": {
          "base_uri": "https://localhost:8080/"
        }
      },
      "execution_count": 26,
      "outputs": [
        {
          "output_type": "stream",
          "name": "stdout",
          "text": [
            "Original list of tuples:\n",
            "[('Discrete Mathematics', 93), ('Python Programming', 95), ('Environmental Science', 88), ('Engineering Physics', 83)]\n",
            "\n",
            "Sorting the List of Tuples:\n",
            "[('Engineering Physics', 83), ('Environmental Science', 88), ('Discrete Mathematics', 93), ('Python Programming', 95)]\n"
          ]
        }
      ]
    },
    {
      "cell_type": "code",
      "source": [
        "#12 (a) Write a program that inputs a tuple having words of a string as its element e.g., (“The”,” quick”,” brown”, “fox”) and then translate each text element to pig Latin.\n",
        "\n",
        "tup = (\"The\", \"quick\", \"brown\", \"fox\")\n",
        "index = 0\n",
        "while index < len(tup):\n",
        "    new = tup[ index ][1 : ] + tup[ index ][ 0 ] + \"ay\"\n",
        "    print (new, end = \" \")\n",
        "    index += 1"
      ],
      "metadata": {
        "id": "BBtvHvr4r6E6",
        "outputId": "4d188474-af92-425a-99c6-61da7738f4cf",
        "colab": {
          "base_uri": "https://localhost:8080/"
        }
      },
      "execution_count": 27,
      "outputs": [
        {
          "output_type": "stream",
          "name": "stdout",
          "text": [
            "heTay uickqay rownbay oxfay "
          ]
        }
      ]
    },
    {
      "cell_type": "code",
      "source": [
        "#12 (b) Write a program that takes a tuple with words in pig latin (as created by previous question) and translate it back to original text.\n",
        "\n",
        "tup =(\"heTay\",\"uickqay\",\"rownbay\", \"oxfay\") \n",
        "index = 0\n",
        "while index < len(tup):\n",
        "    new = tup[ index ][ -3 ] + tup[ index ][0 : -3 ] \n",
        "    print (new, end = \" \")\n",
        "    index += 1"
      ],
      "metadata": {
        "id": "InLPxHkHsNdg",
        "outputId": "c3dfd135-8879-4f44-fd02-9e78fc232a6f",
        "colab": {
          "base_uri": "https://localhost:8080/"
        }
      },
      "execution_count": 28,
      "outputs": [
        {
          "output_type": "stream",
          "name": "stdout",
          "text": [
            "The quick brown fox "
          ]
        }
      ]
    },
    {
      "cell_type": "code",
      "source": [
        "#13 Write a program to print Fibonacci Series using recursion.\n",
        "\n",
        "def recur_fibo(n):  \n",
        "   if n <= 1:  \n",
        "       return n  \n",
        "   else:  \n",
        "       return(recur_fibo(n-1) + recur_fibo(n-2))  \n",
        "\n",
        "nterms = int(input(\"How many terms? \"))  \n",
        "\n",
        "if nterms <= 0:  \n",
        "   print(\"Plese enter a positive integer\")  \n",
        "else:  \n",
        "   print(\"Fibonacci sequence:\")  \n",
        "   for i in range(nterms):  \n",
        "       print(recur_fibo(i))"
      ],
      "metadata": {
        "id": "XjxAVnlysVAh",
        "outputId": "edaffa08-afd4-431a-bfa6-57703d5463e2",
        "colab": {
          "base_uri": "https://localhost:8080/"
        }
      },
      "execution_count": 29,
      "outputs": [
        {
          "output_type": "stream",
          "name": "stdout",
          "text": [
            "How many terms? 3\n",
            "Fibonacci sequence:\n",
            "0\n",
            "1\n",
            "1\n"
          ]
        }
      ]
    },
    {
      "cell_type": "code",
      "source": [
        "#14 Write a menu-driven program to implement linear search and binary search.\n",
        "\n",
        "def linearsearch(arr, x):\n",
        "  for i in range(len(arr)):\n",
        "    if arr[i] == x:\n",
        "      return i\n",
        "  return -1\n",
        "def binary_search(arr,x):\n",
        "  l=0\n",
        "  r=len(arr)-1\n",
        "  while(l<=r):\n",
        "    mid=(l+r)//2\n",
        "    if(arr[mid]==x):\n",
        "      return mid\n",
        "    elif(x<arr[mid]):\n",
        "      r=mid-1\n",
        "    elif(x>arr[mid]):\n",
        "      l=mid+1\n",
        "  return -1\n",
        "L=[5,4,3,10,9,2,1,8,6,7]\n",
        "print(\"List is :\",L)\n",
        "print(\" 1. Linear Search\\n 2.Binary Search\")\n",
        "c=int(input(\"Enter choice :\"))\n",
        "if c==1:\n",
        "  x=int(input(\"Enter element to be searched:\"))\n",
        "  L.sort()\n",
        "  print(\"Element found at index \"+str(linearsearch(L,x)))\n",
        "elif c==2:\n",
        "  x=int(input(\"Enter element to be searched:\"))\n",
        "  L.sort()\n",
        "  print(\"Element found at index \"+str(binary_search(L,x)))"
      ],
      "metadata": {
        "id": "Fiy7dzEssc5f",
        "outputId": "65a304b5-8f86-4608-a810-57c4544c1e5a",
        "colab": {
          "base_uri": "https://localhost:8080/",
          "height": 299
        }
      },
      "execution_count": 39,
      "outputs": [
        {
          "name": "stdout",
          "output_type": "stream",
          "text": [
            "List is : [5, 4, 3, 10, 9, 2, 1, 8, 6, 7]\n",
            " 1. Linear Search\n",
            " 2.Binary Search\n",
            "Enter choice :2\n",
            "Enter element to be searched:8\n"
          ]
        },
        {
          "output_type": "error",
          "ename": "TypeError",
          "evalue": "ignored",
          "traceback": [
            "\u001b[0;31m---------------------------------------------------------------------------\u001b[0m",
            "\u001b[0;31mTypeError\u001b[0m                                 Traceback (most recent call last)",
            "\u001b[0;32m<ipython-input-39-72f234b26ba6>\u001b[0m in \u001b[0;36m<module>\u001b[0;34m()\u001b[0m\n\u001b[1;32m     29\u001b[0m   \u001b[0mx\u001b[0m\u001b[0;34m=\u001b[0m\u001b[0mint\u001b[0m\u001b[0;34m(\u001b[0m\u001b[0minput\u001b[0m\u001b[0;34m(\u001b[0m\u001b[0;34m\"Enter element to be searched:\"\u001b[0m\u001b[0;34m)\u001b[0m\u001b[0;34m)\u001b[0m\u001b[0;34m\u001b[0m\u001b[0;34m\u001b[0m\u001b[0m\n\u001b[1;32m     30\u001b[0m   \u001b[0mL\u001b[0m\u001b[0;34m.\u001b[0m\u001b[0msort\u001b[0m\u001b[0;34m(\u001b[0m\u001b[0;34m)\u001b[0m\u001b[0;34m\u001b[0m\u001b[0;34m\u001b[0m\u001b[0m\n\u001b[0;32m---> 31\u001b[0;31m   \u001b[0mprint\u001b[0m\u001b[0;34m(\u001b[0m\u001b[0;34m\"Element found at index \"\u001b[0m\u001b[0;34m+\u001b[0m\u001b[0mstr\u001b[0m\u001b[0;34m(\u001b[0m\u001b[0mbinary_search\u001b[0m\u001b[0;34m(\u001b[0m\u001b[0mL\u001b[0m\u001b[0;34m,\u001b[0m\u001b[0mx\u001b[0m\u001b[0;34m)\u001b[0m\u001b[0;34m)\u001b[0m\u001b[0;34m)\u001b[0m\u001b[0;34m\u001b[0m\u001b[0;34m\u001b[0m\u001b[0m\n\u001b[0m",
            "\u001b[0;31mTypeError\u001b[0m: 'str' object is not callable"
          ]
        }
      ]
    },
    {
      "cell_type": "code",
      "source": [
        "#15 Write a program to implement merge sort, selection sort and insertion sort.\n",
        "\n",
        "#(a)merge sort\n",
        "\n",
        "def mergeSort(arr):\n",
        "\tif len(arr) > 1:\n",
        "\n",
        "\t\tmid = len(arr)//2\n",
        "\n",
        "\t\tL = arr[:mid]\n",
        "\t\tR = arr[mid:]\n",
        "\n",
        "\t\tmergeSort(L)\n",
        "\t\tmergeSort(R)\n",
        "\n",
        "\t\ti = j = k = 0\n",
        "\n",
        "\t\twhile i < len(L) and j < len(R):\n",
        "\t\t\tif L[i] < R[j]:\n",
        "\t\t\t\tarr[k] = L[i]\n",
        "\t\t\t\ti += 1\n",
        "\t\t\telse:\n",
        "\t\t\t\tarr[k] = R[j]\n",
        "\t\t\t\tj += 1\n",
        "\t\t\tk += 1\n",
        "\n",
        "\t\twhile i < len(L):\n",
        "\t\t\tarr[k] = L[i]\n",
        "\t\t\ti += 1\n",
        "\t\t\tk += 1\n",
        "\n",
        "\t\twhile j < len(R):\n",
        "\t\t\tarr[k] = R[j]\n",
        "\t\t\tj += 1\n",
        "\t\t\tk += 1\n",
        "\n",
        "def printList(arr):\n",
        "\tfor i in range(len(arr)):\n",
        "\t\tprint(arr[i], end=\" \")\n",
        "\tprint()\n",
        "\n",
        "if __name__ == '__main__':\n",
        "\tarr = [12, 11, 13, 5, 6, 7]\n",
        "\tprint(\"Given array is\", end=\"\\n\")\n",
        "\tprintList(arr)\n",
        "\tmergeSort(arr)\n",
        "\tprint(\"Sorted array is: \", end=\"\\n\")\n",
        "\tprintList(arr)"
      ],
      "metadata": {
        "id": "s0WNVFpPs2uP",
        "outputId": "68edc76c-eb71-431c-da4c-29b9597daaf4",
        "colab": {
          "base_uri": "https://localhost:8080/"
        }
      },
      "execution_count": 32,
      "outputs": [
        {
          "output_type": "stream",
          "name": "stdout",
          "text": [
            "Given array is\n",
            "12 11 13 5 6 7 \n",
            "Sorted array is: \n",
            "5 6 7 11 12 13 \n"
          ]
        }
      ]
    },
    {
      "cell_type": "code",
      "source": [
        "#15 (b) selection sort\n",
        "\n",
        "def selection_sort(nums):\n",
        "  \n",
        "    for i in range(len(nums)):\n",
        "        lowestvalue = i\n",
        "\n",
        "        for j in range(i + 1, len(nums)):\n",
        "            if nums[j] < nums[lowestvalue]:\n",
        "                lowestvalue = j\n",
        "        \n",
        "        nums[i], nums[lowestvalue] = nums[lowestvalue], nums[i]\n",
        "\n",
        "random_list_of_nums = [12, 8, 3, 20, 11]\n",
        "selection_sort(random_list_of_nums)\n",
        "print(random_list_of_nums)"
      ],
      "metadata": {
        "id": "XDaONXH8tBba",
        "outputId": "50398cbb-ac38-44b4-c1bc-2e84e224507a",
        "colab": {
          "base_uri": "https://localhost:8080/"
        }
      },
      "execution_count": 33,
      "outputs": [
        {
          "output_type": "stream",
          "name": "stdout",
          "text": [
            "[3, 8, 11, 12, 20]\n"
          ]
        }
      ]
    },
    {
      "cell_type": "code",
      "source": [
        "#15 (c) insertion sort.\n",
        "\n",
        "def insertion_sort(nums):\n",
        "    \n",
        "    for i in range(1, len(nums)):\n",
        "        item_to_insert = nums[i]\n",
        "        \n",
        "        j = i - 1\n",
        "        \n",
        "        while j >= 0 and nums[j] > item_to_insert:\n",
        "            nums[j + 1] = nums[j]\n",
        "            j -= 1\n",
        "        \n",
        "        nums[j + 1] = item_to_insert\n",
        "\n",
        "random_list_of_nums = [9, 1, 15, 28, 6]\n",
        "insertion_sort(random_list_of_nums)\n",
        "print(random_list_of_nums)"
      ],
      "metadata": {
        "id": "cukHBiGBtJNv",
        "outputId": "6b6940f2-e322-4461-8b54-bed0a8006e91",
        "colab": {
          "base_uri": "https://localhost:8080/"
        }
      },
      "execution_count": 34,
      "outputs": [
        {
          "output_type": "stream",
          "name": "stdout",
          "text": [
            "[1, 6, 9, 15, 28]\n"
          ]
        }
      ]
    }
  ],
  "metadata": {
    "colab": {
      "collapsed_sections": [],
      "name": "Welcome To Colaboratory",
      "toc_visible": true,
      "provenance": [],
      "include_colab_link": true
    },
    "kernelspec": {
      "display_name": "Python 3",
      "name": "python3"
    }
  },
  "nbformat": 4,
  "nbformat_minor": 0
}