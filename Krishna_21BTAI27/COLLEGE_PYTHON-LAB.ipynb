{
  "cells": [
    {
      "cell_type": "markdown",
      "metadata": {
        "id": "view-in-github",
        "colab_type": "text"
      },
      "source": [
        "<a href=\"https://colab.research.google.com/github/ARPIT2128/KU-BTECH-AIML/blob/main/Krishna_21BTAI27/COLLEGE_PYTHON-LAB.ipynb\" target=\"_parent\"><img src=\"https://colab.research.google.com/assets/colab-badge.svg\" alt=\"Open In Colab\"/></a>"
      ]
    },
    {
      "cell_type": "code",
      "source": [
        "var1 = 'this is a string'\n",
        "var2 = {3,5,3,6,21}\n",
        "var3 = 3.0\n",
        "var4 = [1,'hello',54,'23']\n",
        "print(type(var1))\n",
        "print(type(var2))\n",
        "print(type(var3))\n",
        "print(type(var4))"
      ],
      "metadata": {
        "id": "LTUFezDPNE7H"
      },
      "execution_count": null,
      "outputs": []
    },
    {
      "cell_type": "code",
      "source": [
        "cor = input().split()\n",
        "x1=int(cor[0])\n",
        "x2=int(cor[1])\n",
        "y1=int(cor[2])\n",
        "y2=int(cor[3])\n",
        "a=(x2-x1)**2\n",
        "b=(y2-y1)**2\n",
        "dist=(a+b)**.5\n",
        "print(\"distance between two points is: \",round(dist,3))\n"
      ],
      "metadata": {
        "id": "KKOhd1H5BDEe"
      },
      "execution_count": null,
      "outputs": []
    },
    {
      "cell_type": "code",
      "source": [
        "number=(list(map(int,input().split())))\n",
        "length_num=len(number)\n",
        "l1=list()\n",
        "l2=list()\n",
        "for i in range(length_num):\n",
        "\tif(number[i]%2==0):\n",
        "\t  l1.append(number[i])\n",
        "\telse:\n",
        "\t        l2.append(number[i])\n",
        "\tprint(\"The even number are {} \\nThe odd number are {}\".format(l1,l2))\n",
        "\n",
        "\n"
      ],
      "metadata": {
        "id": "1-TxoX6rBRnt"
      },
      "execution_count": null,
      "outputs": []
    },
    {
      "cell_type": "code",
      "source": [
        "num=input('Enter number:')\n",
        "n=list(num)\n",
        "\t\n",
        "\n",
        "len_num=len(n)\n",
        "sum=0\n",
        "for i in range(len_num):\n",
        "\t    sum+=pow(int(n[i]),len_num)\n",
        "\t\n",
        "\n",
        "if(int(num)==sum):\n",
        "\t    print(\"It is armstrong\")\n",
        "else:\n",
        "\t    print(\"It is not armstrong\")\n"
      ],
      "metadata": {
        "id": "U3ireV0_BqKL"
      },
      "execution_count": null,
      "outputs": []
    },
    {
      "cell_type": "code",
      "source": [
        "n = int(input('Enter number:'))\n",
        "print(\"COUNTDOWN BEGINS\")\n",
        "while(n>=0):\n",
        "\t   print(n,end=' ')\n",
        "     n-=1\n"
      ],
      "metadata": {
        "id": "rwXZU2-PB6xm"
      },
      "execution_count": null,
      "outputs": []
    },
    {
      "cell_type": "code",
      "source": [
        "def most_frequent(ch):\n",
        "\t    s = set(ch)\n",
        "\t    l = list(s)\n",
        "\t    d = {}\n",
        "\t    i,j = 0,0\n",
        "\t    while(i>=0 and i<len(l)):\n",
        "\t        j=0\n",
        "\t        count = 0 \n",
        "\t        while(j>=0 and j<len(ch)):\n",
        "\t            if l[i] == ch[j]:\n",
        "\t                count +=1\n",
        "\t            j+=1\n",
        "\t        d.update({l[i]:count})\n",
        "\t        i+=1\n",
        "\t    print(d)\n",
        "most_frequent('Mississippi')\n"
      ],
      "metadata": {
        "id": "ty27JCBjCOoM"
      },
      "execution_count": null,
      "outputs": []
    }
  ],
  "metadata": {
    "colab": {
      "collapsed_sections": [],
      "name": "Welcome To Colaboratory",
      "toc_visible": true,
      "provenance": [],
      "include_colab_link": true
    },
    "kernelspec": {
      "display_name": "Python 3",
      "name": "python3"
    }
  },
  "nbformat": 4,
  "nbformat_minor": 0
}