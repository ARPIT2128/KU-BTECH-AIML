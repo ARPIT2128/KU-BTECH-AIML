{
  "cells": [
    {
      "cell_type": "markdown",
      "metadata": {
        "id": "view-in-github",
        "colab_type": "text"
      },
      "source": [
        "<a href=\"https://colab.research.google.com/github/ARPIT2128/KU-BTECH-AIML/blob/main/Krishna_21BTAI27/COLLEGE_PYTHON-LAB.ipynb\" target=\"_parent\"><img src=\"https://colab.research.google.com/assets/colab-badge.svg\" alt=\"Open In Colab\"/></a>"
      ]
    },
    {
      "cell_type": "code",
      "source": [
        "var1 = 'this is a string'\n",
        "var2 = {3,5,3,6,21}\n",
        "var3 = 3.0\n",
        "var4 = [1,'hello',54,'23']\n",
        "print(type(var1))\n",
        "print(type(var2))\n",
        "print(type(var3))\n",
        "print(type(var4))"
      ],
      "metadata": {
        "id": "LTUFezDPNE7H",
        "colab": {
          "base_uri": "https://localhost:8080/"
        },
        "outputId": "0fe26184-6d41-4b9e-f06a-0de21f214feb"
      },
      "execution_count": 12,
      "outputs": [
        {
          "output_type": "stream",
          "name": "stdout",
          "text": [
            "<class 'str'>\n",
            "<class 'set'>\n",
            "<class 'float'>\n",
            "<class 'list'>\n"
          ]
        }
      ]
    },
    {
      "cell_type": "code",
      "source": [
        "number=(list(map(int,input().split())))\n",
        "length_num=len(number)\n",
        "l1=list()\n",
        "l2=list()\n",
        "for i in range(length_num):\n",
        "\tif(number[i]%2==0):\n",
        "\t  l1.append(number[i])\n",
        "\telse:\n",
        "\t        l2.append(number[i])\n",
        "\tprint(\"The even number are {} \\nThe odd number are {}\".format(l1,l2))\n",
        "\n",
        "\n"
      ],
      "metadata": {
        "colab": {
          "base_uri": "https://localhost:8080/"
        },
        "id": "1-TxoX6rBRnt",
        "outputId": "ff6f1399-7617-4259-a89d-aea73fa4c870"
      },
      "execution_count": 14,
      "outputs": [
        {
          "output_type": "stream",
          "name": "stdout",
          "text": [
            "2\n",
            "The even number are [2] \n",
            "The odd number are []\n"
          ]
        }
      ]
    },
    {
      "cell_type": "code",
      "source": [
        "num=input('Enter number:')\n",
        "n=list(num)\n",
        "\t\n",
        "\n",
        "len_num=len(n)\n",
        "sum=0\n",
        "for i in range(len_num):\n",
        "\t    sum+=pow(int(n[i]),len_num)\n",
        "\t\n",
        "\n",
        "if(int(num)==sum):\n",
        "\t    print(\"It is armstrong\")\n",
        "else:\n",
        "\t    print(\"It is not armstrong\")\n"
      ],
      "metadata": {
        "colab": {
          "base_uri": "https://localhost:8080/"
        },
        "id": "U3ireV0_BqKL",
        "outputId": "2872b28b-ceb2-4d71-b04e-d623bc7139d3"
      },
      "execution_count": 16,
      "outputs": [
        {
          "output_type": "stream",
          "name": "stdout",
          "text": [
            "Enter number:22\n",
            "It is not armstrong\n"
          ]
        }
      ]
    },
    {
      "cell_type": "code",
      "source": [
        "def most_frequent(ch):\n",
        "\t    s = set(ch)\n",
        "\t    l = list(s)\n",
        "\t    d = {}\n",
        "\t    i,j = 0,0\n",
        "\t    while(i>=0 and i<len(l)):\n",
        "\t        j=0\n",
        "\t        count = 0 \n",
        "\t        while(j>=0 and j<len(ch)):\n",
        "\t            if l[i] == ch[j]:\n",
        "\t                count +=1\n",
        "\t            j+=1\n",
        "\t        d.update({l[i]:count})\n",
        "\t        i+=1\n",
        "\t    print(d)\n",
        "most_frequent('Mississippi')\n"
      ],
      "metadata": {
        "colab": {
          "base_uri": "https://localhost:8080/"
        },
        "id": "ty27JCBjCOoM",
        "outputId": "1760f9ef-92b6-4381-9421-6d6486e114ee"
      },
      "execution_count": null,
      "outputs": [
        {
          "output_type": "stream",
          "name": "stdout",
          "text": [
            "{'p': 2, 's': 4, 'i': 4, 'M': 1}\n"
          ]
        }
      ]
    },
    {
      "cell_type": "code",
      "source": [
        "odd=[7,9,33,10]\n",
        "odd.append(11)\n",
        "odd.extend([13,15,17])\n",
        "print(odd)"
      ],
      "metadata": {
        "id": "SZXC-FX_EqEM",
        "outputId": "ddd7f483-8a02-4aac-b914-01e91336b1a7",
        "colab": {
          "base_uri": "https://localhost:8080/"
        }
      },
      "execution_count": 19,
      "outputs": [
        {
          "output_type": "stream",
          "name": "stdout",
          "text": [
            "[7, 9, 33, 10, 11, 13, 15, 17]\n"
          ]
        }
      ]
    },
    {
      "cell_type": "code",
      "source": [
        "p=str(input(\"enter a string\"))\n",
        "b={}\n",
        "for i in p:\n",
        "   b[i]=p.count(i)\n",
        "print(b)"
      ],
      "metadata": {
        "id": "0tFo2J6cF4aw",
        "outputId": "dad00dd6-cb47-46e4-982d-c729758e6356",
        "colab": {
          "base_uri": "https://localhost:8080/"
        }
      },
      "execution_count": 20,
      "outputs": [
        {
          "output_type": "stream",
          "name": "stdout",
          "text": [
            "enter a stringhello there\n",
            "{'h': 2, 'e': 3, 'l': 2, 'o': 1, ' ': 1, 't': 1, 'r': 1}\n"
          ]
        }
      ]
    },
    {
      "cell_type": "code",
      "source": [
        "my_list=[4,[\"hello\",\"world\"],[3.4,8.1]]\n",
        "print(my_list)\n",
        "print(my_list[-2:-1])\n",
        "my_list[1][0]=\"namaste\"\n",
        "print(my_list)"
      ],
      "metadata": {
        "id": "gI1wfNtwG-Ck",
        "outputId": "0fff55cd-44f6-45f9-8b9a-68f2a3a1010e",
        "colab": {
          "base_uri": "https://localhost:8080/"
        }
      },
      "execution_count": 21,
      "outputs": [
        {
          "output_type": "stream",
          "name": "stdout",
          "text": [
            "[4, ['hello', 'world'], [3.4, 8.1]]\n",
            "[['hello', 'world']]\n",
            "[4, ['namaste', 'world'], [3.4, 8.1]]\n"
          ]
        }
      ]
    }
  ],
  "metadata": {
    "colab": {
      "collapsed_sections": [],
      "name": "Welcome To Colaboratory",
      "toc_visible": true,
      "provenance": [],
      "include_colab_link": true
    },
    "kernelspec": {
      "display_name": "Python 3",
      "name": "python3"
    }
  },
  "nbformat": 4,
  "nbformat_minor": 0
}