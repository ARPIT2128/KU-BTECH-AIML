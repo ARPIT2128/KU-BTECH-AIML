{
  "nbformat": 4,
  "nbformat_minor": 0,
  "metadata": {
    "colab": {
      "name": "arpit@work.ipynb",
      "provenance": [],
      "collapsed_sections": [],
      "authorship_tag": "ABX9TyMggsCF/hBPdNtUZElmEUSm",
      "include_colab_link": true
    },
    "kernelspec": {
      "name": "python3",
      "display_name": "Python 3"
    },
    "language_info": {
      "name": "python"
    }
  },
  "cells": [
    {
      "cell_type": "markdown",
      "metadata": {
        "id": "view-in-github",
        "colab_type": "text"
      },
      "source": [
        "<a href=\"https://colab.research.google.com/github/ARPIT2128/KU-BTECH-AIML/blob/main/arpit_work.ipynb\" target=\"_parent\"><img src=\"https://colab.research.google.com/assets/colab-badge.svg\" alt=\"Open In Colab\"/></a>"
      ]
    },
    {
      "cell_type": "code",
      "source": [
        "message= \"PYTHON IS FUN\"\n",
        "print(message.lower())"
      ],
      "metadata": {
        "colab": {
          "base_uri": "https://localhost:8080/"
        },
        "id": "qSb3AXY-bo2D",
        "outputId": "c61d0662-be2a-442d-c788-d91f304f7840"
      },
      "execution_count": null,
      "outputs": [
        {
          "output_type": "stream",
          "name": "stdout",
          "text": [
            "python is fun\n"
          ]
        }
      ]
    },
    {
      "cell_type": "code",
      "source": [
        "string=\"this is a string\"\n",
        "bool_exp=True\n",
        "integer=3\n",
        "list_exp=[2,3,4,5,\"hello\",\"yellow\"]\n",
        "set_exp={2,3,4,5,5,5,5,5,3,4,4}\n",
        "dict_exp={\"name\":(\"Arpit\",\"ranjan\",\"lucky\"),\"address\":(\"b95/b\",\"sardarnagar\",\"ahmedabad\"),\"roll\":(\"21btai05\",\"no idea\",\"no idea\"),\"phone\":(9328140484,8003323006,7016096128)}\n",
        "frozen_set=({\"hello\",\"england\",\"ohayo\",\"japan\",\"gotten_morgen\",\"good morning germany\"})\n",
        "data_type=[string,bool_exp,integer,list_exp,set_exp,dict_exp,frozen_set]\n",
        "for i in range(len(data_type)):\n",
        "    print(type(data_type[i]))"
      ],
      "metadata": {
        "colab": {
          "base_uri": "https://localhost:8080/"
        },
        "id": "Ao4TmYbbwGCu",
        "outputId": "740a4a60-49de-453d-ae3a-08caa1c75981"
      },
      "execution_count": null,
      "outputs": [
        {
          "output_type": "stream",
          "name": "stdout",
          "text": [
            "<class 'str'>\n",
            "<class 'bool'>\n",
            "<class 'int'>\n",
            "<class 'list'>\n",
            "<class 'set'>\n",
            "<class 'dict'>\n",
            "<class 'set'>\n"
          ]
        }
      ]
    },
    {
      "cell_type": "code",
      "source": [
        "input_user=input().split()\n",
        "cor_x1,cor_y1=int(input_user[0]),int(input_user[1])\n",
        "cor_x2,cor_y2=int(input_user[2]),int(input_user[3])\n",
        "a=abs(cor_x2-cor_x1)\n",
        "b=abs(cor_y2-cor_y1)\n",
        "result=(a+b)**(0.5)\n",
        "print(round(result,5))"
      ],
      "metadata": {
        "colab": {
          "base_uri": "https://localhost:8080/"
        },
        "id": "iYBrvULyxC1F",
        "outputId": "f26bde45-65e6-4c2b-8f4f-1f4c573a5672"
      },
      "execution_count": null,
      "outputs": [
        {
          "output_type": "stream",
          "name": "stdout",
          "text": [
            "0 9 0 4\n",
            "2.23607\n"
          ]
        }
      ]
    },
    {
      "cell_type": "code",
      "source": [
        "org_number=input()\n",
        "number=list(map(int,org_number.rstrip()))\n",
        "len_n=len(number)\n",
        "sum_arm=0\n",
        "for i in range(len_n):\n",
        "    sum_arm+=pow(number[i],len_n)\n",
        "if(int(org_number)==sum_arm):\n",
        "    print(\"it is a armstrong\")\n",
        "else:\n",
        "    print(\"number is not armstrong\")"
      ],
      "metadata": {
        "colab": {
          "base_uri": "https://localhost:8080/"
        },
        "id": "vhmEhuooxaYs",
        "outputId": "7deb1ad9-f58a-4d18-8f4f-c0ab8a8de479"
      },
      "execution_count": null,
      "outputs": [
        {
          "output_type": "stream",
          "name": "stdout",
          "text": [
            "135\n",
            "number is not armstrong\n"
          ]
        }
      ]
    },
    {
      "cell_type": "code",
      "source": [
        "number=(list(map(int,input().rstrip().split())))\n",
        "len_n=len(number)\n",
        "l1=list()\n",
        "l2=list()\n",
        "for i in range(len_n):\n",
        "    if(number[i]%2==0):\n",
        "        l1.append(number[i])\n",
        "    else:\n",
        "        l2.append(number[i])\n",
        "print(\"THE EVEN NUMBER IS/ARE {} AND THE ODD NUMBER IS/ARE {}\".format(set(l1),set(l2)))"
      ],
      "metadata": {
        "colab": {
          "base_uri": "https://localhost:8080/"
        },
        "id": "aG9RHy1nxirC",
        "outputId": "bd8d0b8f-224e-4403-d411-68a7a4de8d95"
      },
      "execution_count": null,
      "outputs": [
        {
          "output_type": "stream",
          "name": "stdout",
          "text": [
            "0 1 2 3 4 5\n",
            "THE EVEN NUMBER IS/ARE {0, 2, 4} AND THE ODD NUMBER IS/ARE {1, 3, 5}\n"
          ]
        }
      ]
    },
    {
      "cell_type": "code",
      "source": [
        "num=int(input())\n",
        "x=True\n",
        "while x:\n",
        "    print(num)\n",
        "    num-=1\n",
        "    if(num==0):\n",
        "        x=False"
      ],
      "metadata": {
        "colab": {
          "base_uri": "https://localhost:8080/"
        },
        "id": "Ksz6gt_Jxp85",
        "outputId": "7a509cbd-8201-456b-8c0f-c0e5df731bfe"
      },
      "execution_count": null,
      "outputs": [
        {
          "output_type": "stream",
          "name": "stdout",
          "text": [
            "10\n",
            "10\n",
            "9\n",
            "8\n",
            "7\n",
            "6\n",
            "5\n",
            "4\n",
            "3\n",
            "2\n",
            "1\n"
          ]
        }
      ]
    },
    {
      "cell_type": "code",
      "source": [
        "string=list(input().replace(\" \",''))\n",
        "set_string=set(string)\n",
        "new_list=list(set_string)\n",
        "s_len=len(string)\n",
        "s_new_len=len(new_list)\n",
        "i=0\n",
        "c_dict=dict()\n",
        "while(i>=0 and i<s_new_len):\n",
        "    c=0\n",
        "    j=0  \n",
        "    while(j>=0 and j<s_len):\n",
        "        if(new_list[i]==string[j]):\n",
        "            c+=1\n",
        "        c_dict.update({new_list[i]:c})\n",
        "        j+=1\n",
        "    i+=1\n",
        "print(c_dict)"
      ],
      "metadata": {
        "colab": {
          "base_uri": "https://localhost:8080/"
        },
        "id": "Dc2So0hfxviv",
        "outputId": "57394b7d-5eb2-4af4-99d3-b6fe1c27a80f"
      },
      "execution_count": null,
      "outputs": [
        {
          "output_type": "stream",
          "name": "stdout",
          "text": [
            "\"hello world\"\n",
            "{'w': 1, 'd': 1, '\"': 2, 'r': 1, 'e': 1, 'o': 2, 'h': 1, 'l': 3}\n"
          ]
        }
      ]
    },
    {
      "cell_type": "code",
      "source": [
        "l=[1,2,3,\"Hello\"]\n",
        "t=(1,2,3,4,\"HelloWorld\")\n",
        "print(type(l),l,\"\\n\",type(t),t)"
      ],
      "metadata": {
        "colab": {
          "base_uri": "https://localhost:8080/"
        },
        "id": "lZUPPW-ex3kw",
        "outputId": "36c1bfd5-3ce7-4806-a956-f93c22a275d8"
      },
      "execution_count": null,
      "outputs": [
        {
          "output_type": "stream",
          "name": "stdout",
          "text": [
            "<class 'list'> [1, 2, 3, 'Hello'] \n",
            " <class 'tuple'> (1, 2, 3, 4, 'HelloWorld')\n"
          ]
        }
      ]
    },
    {
      "cell_type": "code",
      "source": [
        "l=list(input())\n",
        "for i in range(len(l)):\n",
        "    print(l[i])\n",
        "print(l)"
      ],
      "metadata": {
        "colab": {
          "base_uri": "https://localhost:8080/"
        },
        "id": "eY0gLhaFx8Fx",
        "outputId": "7ca024f1-d496-4536-a1e7-b0e3d801e118"
      },
      "execution_count": null,
      "outputs": [
        {
          "output_type": "stream",
          "name": "stdout",
          "text": [
            "[1,2,3,4,5,6]\n",
            "[\n",
            "1\n",
            ",\n",
            "2\n",
            ",\n",
            "3\n",
            ",\n",
            "4\n",
            ",\n",
            "5\n",
            ",\n",
            "6\n",
            "]\n",
            "['[', '1', ',', '2', ',', '3', ',', '4', ',', '5', ',', '6', ']']\n"
          ]
        }
      ]
    }
  ]
}