{
  "nbformat": 4,
  "nbformat_minor": 0,
  "metadata": {
    "colab": {
      "name": "Untitled2.ipynb",
      "provenance": [],
      "authorship_tag": "ABX9TyOm6YMW8AHggCT42fikcIUO",
      "include_colab_link": true
    },
    "kernelspec": {
      "name": "python3",
      "display_name": "Python 3"
    },
    "language_info": {
      "name": "python"
    }
  },
  "cells": [
    {
      "cell_type": "markdown",
      "metadata": {
        "id": "view-in-github",
        "colab_type": "text"
      },
      "source": [
        "<a href=\"https://colab.research.google.com/github/ARPIT2128/KU-BTECH-AIML/blob/main/KU-BTECH-AIML/KAMNA_21BTAI16/COLLEGE_PYTHON_LAB.ipynb\" target=\"_parent\"><img src=\"https://colab.research.google.com/assets/colab-badge.svg\" alt=\"Open In Colab\"/></a>"
      ]
    },
    {
      "cell_type": "code",
      "execution_count": 1,
      "metadata": {
        "colab": {
          "base_uri": "https://localhost:8080/"
        },
        "id": "ZMlBwhi8Hhfe",
        "outputId": "715d274a-af8d-4276-ba5b-fccc82169547"
      },
      "outputs": [
        {
          "output_type": "stream",
          "name": "stdout",
          "text": [
            "type of a:  <class 'int'>\n",
            "\n",
            " type of b:  <class 'float'>\n",
            "\n",
            " type of c:  <class 'complex'>\n"
          ]
        }
      ],
      "source": [
        "a=29\n",
        "print(\"type of a: \",type(a))\n",
        "b=87.0\n",
        "print(\"\\n type of b: \",type(b))\n",
        "c=8+1j\n",
        "print(\"\\n type of c: \",type(c))"
      ]
    }
  ]
}