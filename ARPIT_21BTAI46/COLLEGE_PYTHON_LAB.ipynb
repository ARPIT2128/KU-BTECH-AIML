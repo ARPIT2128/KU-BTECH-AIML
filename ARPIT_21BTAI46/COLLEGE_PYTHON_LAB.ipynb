{
  "cells": [
    {
      "cell_type": "markdown",
      "metadata": {
        "id": "view-in-github",
        "colab_type": "text"
      },
      "source": [
        "<a href=\"https://colab.research.google.com/github/ARPIT2128/KU-BTECH-AIML/blob/main/ARPIT_21BTAI46/COLLEGE_PYTHON_LAB.ipynb\" target=\"_parent\"><img src=\"https://colab.research.google.com/assets/colab-badge.svg\" alt=\"Open In Colab\"/></a>"
      ]
    },
    {
      "cell_type": "markdown",
      "metadata": {
        "id": "m36grIxSO45c"
      },
      "source": [
        "PYTHON LAB PROGRAMME 1 EXP\n",
        "\n",
        "\n"
      ]
    },
    {
      "cell_type": "code",
      "execution_count": null,
      "metadata": {
        "colab": {
          "base_uri": "https://localhost:8080/"
        },
        "id": "okzWijbgO8NO",
        "outputId": "b066df2f-4c9f-4e7c-8a69-1d024398b335"
      },
      "outputs": [
        {
          "name": "stdout",
          "output_type": "stream",
          "text": [
            "<class 'str'>\n",
            "<class 'bool'>\n",
            "<class 'int'>\n",
            "<class 'list'>\n",
            "<class 'set'>\n",
            "<class 'dict'>\n",
            "<class 'set'>\n"
          ]
        }
      ],
      "source": [
        "string=\"this is a string\"\n",
        "bool_exp=True\n",
        "integer=3\n",
        "list_exp=[2,3,4,5,\"hello\",\"yellow\"]\n",
        "set_exp={2,3,4,5,5,5,5,5,3,4,4}\n",
        "dict_exp={\"name\":(\"Arpit\",\"Akshat\",\"Sonia\"),\"address\":(\"sec-19\",\"sec-21\",\"sec-23\"),\"roll\":(\"1BTAI12\",\"21BTAI212\",\"122BTAI21\"),\"phone\":(98765467,97565435,987654676)}\n",
        "frozen_set=({\"hello\",\"england\",\"ohayo\",\"japan\",\"gotten_morgen\",\"good morning germany\"})\n",
        "data_type=[string,bool_exp,integer,list_exp,set_exp,dict_exp,frozen_set]\n",
        "for i in range(len(data_type)):\n",
        "    print(type(data_type[i]))\n"
      ]
    },
    {
      "cell_type": "markdown",
      "metadata": {
        "id": "Aatzv6N-U8uL"
      },
      "source": [
        "PYTHON LAB PROGRAMME 2 EXP\n"
      ]
    },
    {
      "cell_type": "code",
      "execution_count": null,
      "metadata": {
        "colab": {
          "base_uri": "https://localhost:8080/"
        },
        "id": "-ZGeNHNRSZMh",
        "outputId": "e71cc52d-832f-4ca7-ae43-71ec449f2d37"
      },
      "outputs": [
        {
          "name": "stdout",
          "output_type": "stream",
          "text": [
            "0 9 0 4\n",
            "2.23607\n"
          ]
        }
      ],
      "source": [
        "input_user=input().split()\n",
        "cor_x1,cor_y1=int(input_user[0]),int(input_user[1])\n",
        "cor_x2,cor_y2=int(input_user[2]),int(input_user[3])\n",
        "a=abs(cor_x2-cor_x1)\n",
        "b=abs(cor_y2-cor_y1)\n",
        "result=(a+b)**(0.5)\n",
        "print(round(result,5))"
      ]
    },
    {
      "cell_type": "markdown",
      "metadata": {
        "id": "AYOdsBbWDP9i"
      },
      "source": [
        "PYTHON LAB PROGRAMME 3(b) EXP\n",
        "\n",
        "\n"
      ]
    },
    {
      "cell_type": "code",
      "execution_count": null,
      "metadata": {
        "id": "g-1tyYk5Xs_4",
        "colab": {
          "base_uri": "https://localhost:8080/"
        },
        "outputId": "afc0bdf7-7965-4512-cbcf-7fc410b9afd8"
      },
      "outputs": [
        {
          "output_type": "stream",
          "name": "stdout",
          "text": [
            "153\n",
            "it is a armstrong\n"
          ]
        }
      ],
      "source": [
        "org_number=input()\n",
        "number=list(map(int,org_number.rstrip()))\n",
        "len_n=len(number)\n",
        "sum_arm=0\n",
        "for i in range(len_n):\n",
        "    sum_arm+=pow(number[i],len_n)\n",
        "if(int(org_number)==sum_arm):\n",
        "    print(\"it is a armstrong\")\n",
        "else:\n",
        "    print(\"number is not armstrong\")"
      ]
    },
    {
      "cell_type": "markdown",
      "metadata": {
        "id": "T0kqp4oh9Kgy"
      },
      "source": [
        "PYTHON LAB PROGRAMME 3(a)EXP\n",
        "\n",
        "\n"
      ]
    },
    {
      "cell_type": "code",
      "execution_count": null,
      "metadata": {
        "colab": {
          "base_uri": "https://localhost:8080/"
        },
        "id": "phF5dl0bDqVw",
        "outputId": "0dd95761-3532-4fd7-9fda-85ab664f896f"
      },
      "outputs": [
        {
          "output_type": "stream",
          "name": "stdout",
          "text": [
            "9 4 3 4 5 4 8 7\n",
            "THE EVEN NUMBER IS/ARE [4, 4, 4, 8] AND THE ODD NUMBER IS/ARE [9, 3, 5, 7]\n"
          ]
        }
      ],
      "source": [
        "number=(list(map(int,input().rstrip().split())))\n",
        "len_n=len(number)\n",
        "l1=list()\n",
        "l2=list()\n",
        "for i in range(len_n):\n",
        "    if(number[i]%2==0):\n",
        "        l1.append(number[i])\n",
        "    else:\n",
        "        l2.append(number[i])\n",
        "print(\"THE EVEN NUMBER IS/ARE {} AND THE ODD NUMBER IS/ARE {}\".format(set(l1),set(l2)))"
      ]
    },
    {
      "cell_type": "markdown",
      "source": [
        "**PYTHON LAB PROGRAMME 4**"
      ],
      "metadata": {
        "id": "mkj2CY27JnNR"
      }
    },
    {
      "cell_type": "code",
      "source": [
        "num=int(input())\n",
        "x=True\n",
        "while x:\n",
        "    print(num)\n",
        "    num-=1\n",
        "    if(num==0):\n",
        "        x=False"
      ],
      "metadata": {
        "colab": {
          "base_uri": "https://localhost:8080/"
        },
        "id": "nReJAK4GWFFb",
        "outputId": "e58139a7-f93a-451a-f6da-e4be2b1fa6b7"
      },
      "execution_count": null,
      "outputs": [
        {
          "output_type": "stream",
          "name": "stdout",
          "text": [
            "6\n",
            "6\n",
            "5\n",
            "4\n",
            "3\n",
            "2\n",
            "1\n"
          ]
        }
      ]
    },
    {
      "cell_type": "markdown",
      "source": [
        "**PYTHON LAB PROGRAMME 5**"
      ],
      "metadata": {
        "id": "DfWrjs0BVTmV"
      }
    },
    {
      "cell_type": "code",
      "execution_count": null,
      "metadata": {
        "id": "1ZYJAbuPFpr_",
        "colab": {
          "base_uri": "https://localhost:8080/"
        },
        "outputId": "46cdfd75-ce2b-4af8-a040-40810d3d09c5"
      },
      "outputs": [
        {
          "output_type": "stream",
          "name": "stdout",
          "text": [
            "hello this is a string\n",
            "{'h': 2, 'a': 1, 'n': 1, 'g': 1, 'l': 2, 'o': 1, 'e': 1, 'r': 1, 'i': 3, 's': 3, 't': 2}\n"
          ]
        }
      ],
      "source": [
        "string=list(input().replace(\" \",''))\n",
        "set_string=set(string)\n",
        "new_list=list(set_string)\n",
        "s_len=len(string)\n",
        "s_new_len=len(new_list)\n",
        "i=0\n",
        "c_dict=dict()\n",
        "while(i>=0 and i<s_new_len):\n",
        "    c=0\n",
        "    j=0  \n",
        "    while(j>=0 and j<s_len):\n",
        "        if(new_list[i]==string[j]):\n",
        "            c+=1\n",
        "        c_dict.update({new_list[i]:c})\n",
        "        j+=1\n",
        "    i+=1\n",
        "print(c_dict)"
      ]
    },
    {
      "cell_type": "markdown",
      "source": [
        "**PYTHON LAB PROGRAMME 6(A)**"
      ],
      "metadata": {
        "id": "dJCqWU-iWc8f"
      }
    },
    {
      "cell_type": "code",
      "source": [
        "l=[1,2,3,\"Hello\"]\n",
        "t=(1,2,3,4,\"HelloWorld\")\n",
        "print(type(l),l,\"\\n\",type(t),t)"
      ],
      "metadata": {
        "id": "LggIExiVc7cG",
        "colab": {
          "base_uri": "https://localhost:8080/"
        },
        "outputId": "b7963155-f1ce-4055-a7c9-c4e4e630ae7e"
      },
      "execution_count": null,
      "outputs": [
        {
          "output_type": "stream",
          "name": "stdout",
          "text": [
            "<class 'list'> [1, 2, 3, 'Hello'] \n",
            " <class 'tuple'> (1, 2, 3, 4, 'HelloWorld')\n"
          ]
        }
      ]
    },
    {
      "cell_type": "markdown",
      "source": [
        "**PYTHON LAB PROGRAMME 6(B)**"
      ],
      "metadata": {
        "id": "M1lJ5UePXT_0"
      }
    },
    {
      "cell_type": "code",
      "source": [
        "l=list(input())\n",
        "for i in range(len(l)):\n",
        "    print(l[i])\n",
        "print(l)"
      ],
      "metadata": {
        "colab": {
          "base_uri": "https://localhost:8080/"
        },
        "id": "QkrFPtbpdLfH",
        "outputId": "f8187031-4d56-4eec-e810-b053fe42eca2"
      },
      "execution_count": 2,
      "outputs": [
        {
          "output_type": "stream",
          "name": "stdout",
          "text": [
            "1 2 Hello\n",
            "1\n",
            " \n",
            "2\n",
            " \n",
            "H\n",
            "e\n",
            "l\n",
            "l\n",
            "o\n",
            "['1', ' ', '2', ' ', 'H', 'e', 'l', 'l', 'o']\n"
          ]
        }
      ]
    },
    {
      "cell_type": "code",
      "source": [
        ""
      ],
      "metadata": {
        "id": "UpFi8prFfiPB"
      },
      "execution_count": null,
      "outputs": []
    }
  ],
  "metadata": {
    "colab": {
      "collapsed_sections": [],
      "name": "COLLEGE PYTHON LAB.ipynb",
      "provenance": [],
      "authorship_tag": "ABX9TyN9dHfvGBt8AyJZ4V8C3Xu4",
      "include_colab_link": true
    },
    "kernelspec": {
      "display_name": "Python 3",
      "name": "python3"
    },
    "language_info": {
      "name": "python"
    }
  },
  "nbformat": 4,
  "nbformat_minor": 0
}