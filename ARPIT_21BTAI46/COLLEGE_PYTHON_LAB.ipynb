{
  "cells": [
    {
      "cell_type": "markdown",
      "metadata": {
        "id": "view-in-github",
        "colab_type": "text"
      },
      "source": [
        "<a href=\"https://colab.research.google.com/github/ARPIT2128/KU-BTECH-AIML/blob/main/ARPIT_21BTAI46/COLLEGE_PYTHON_LAB.ipynb\" target=\"_parent\"><img src=\"https://colab.research.google.com/assets/colab-badge.svg\" alt=\"Open In Colab\"/></a>"
      ]
    },
    {
      "cell_type": "markdown",
      "source": [
        "***NAME-ARPIT SHARMA***   \n",
        "\n",
        "***SEM-2***\n",
        "\n",
        "***ENROLL-21BTAI46***\n",
        "\n",
        "***SUBJECT-PYTHON PROGRMMING LAB***"
      ],
      "metadata": {
        "id": "PkN_xpUpuK96"
      }
    },
    {
      "cell_type": "markdown",
      "source": [
        "\n",
        "\n",
        "---\n",
        "\n"
      ],
      "metadata": {
        "id": "xYs3Ja-QvETw"
      }
    },
    {
      "cell_type": "markdown",
      "metadata": {
        "id": "m36grIxSO45c"
      },
      "source": [
        "**1.Write a program to demonstrate basic data types and purposefully raise indentation error along with its correction.**\n",
        "\n",
        "\n",
        "\n"
      ]
    },
    {
      "cell_type": "code",
      "execution_count": null,
      "metadata": {
        "colab": {
          "base_uri": "https://localhost:8080/"
        },
        "id": "okzWijbgO8NO",
        "outputId": "b066df2f-4c9f-4e7c-8a69-1d024398b335"
      },
      "outputs": [
        {
          "name": "stdout",
          "output_type": "stream",
          "text": [
            "<class 'str'>\n",
            "<class 'bool'>\n",
            "<class 'int'>\n",
            "<class 'list'>\n",
            "<class 'set'>\n",
            "<class 'dict'>\n",
            "<class 'set'>\n"
          ]
        }
      ],
      "source": [
        "string=\"this is a string\"\n",
        "bool_exp=True\n",
        "integer=3\n",
        "list_exp=[2,3,4,5,\"hello\",\"yellow\"]\n",
        "set_exp={2,3,4,5,5,5,5,5,3,4,4}\n",
        "dict_exp={\"name\":(\"Arpit\",\"Akshat\",\"Sonia\"),\"address\":(\"sec-19\",\"sec-21\",\"sec-23\"),\"roll\":(\"1BTAI12\",\"21BTAI212\",\"122BTAI21\"),\"phone\":(98765467,97565435,987654676)}\n",
        "frozen_set=({\"hello\",\"england\",\"ohayo\",\"japan\",\"gotten_morgen\",\"good morning germany\"})\n",
        "data_type=[string,bool_exp,integer,list_exp,set_exp,dict_exp,frozen_set]\n",
        "for i in range(len(data_type)):\n",
        "    print(type(data_type[i]))\n"
      ]
    },
    {
      "cell_type": "markdown",
      "source": [
        "\n",
        "\n",
        "---\n",
        "\n"
      ],
      "metadata": {
        "id": "X59laQQpvL--"
      }
    },
    {
      "cell_type": "markdown",
      "metadata": {
        "id": "Aatzv6N-U8uL"
      },
      "source": [
        "**2.Write a program to compute distance between two points taking input from the user (Pythagorean Theorem).**\n",
        "\n",
        "\n"
      ]
    },
    {
      "cell_type": "code",
      "execution_count": null,
      "metadata": {
        "colab": {
          "base_uri": "https://localhost:8080/"
        },
        "id": "-ZGeNHNRSZMh",
        "outputId": "e71cc52d-832f-4ca7-ae43-71ec449f2d37"
      },
      "outputs": [
        {
          "name": "stdout",
          "output_type": "stream",
          "text": [
            "0 9 0 4\n",
            "2.23607\n"
          ]
        }
      ],
      "source": [
        "input_user=input().split()\n",
        "cor_x1,cor_y1=int(input_user[0]),int(input_user[1])\n",
        "cor_x2,cor_y2=int(input_user[2]),int(input_user[3])\n",
        "a=abs(cor_x2-cor_x1)\n",
        "b=abs(cor_y2-cor_y1)\n",
        "result=(a+b)**(0.5)\n",
        "print(round(result,5))"
      ]
    },
    {
      "cell_type": "markdown",
      "source": [
        "\n",
        "\n",
        "---\n",
        "\n"
      ],
      "metadata": {
        "id": "FnCLq4M6vOfP"
      }
    },
    {
      "cell_type": "markdown",
      "metadata": {
        "id": "AYOdsBbWDP9i"
      },
      "source": [
        "**3.(a) For checking whether the given number is even or not**\n",
        "\n",
        "\n"
      ]
    },
    {
      "cell_type": "code",
      "execution_count": null,
      "metadata": {
        "colab": {
          "base_uri": "https://localhost:8080/"
        },
        "id": "phF5dl0bDqVw",
        "outputId": "0dd95761-3532-4fd7-9fda-85ab664f896f"
      },
      "outputs": [
        {
          "output_type": "stream",
          "name": "stdout",
          "text": [
            "9 4 3 4 5 4 8 7\n",
            "THE EVEN NUMBER IS/ARE [4, 4, 4, 8] AND THE ODD NUMBER IS/ARE [9, 3, 5, 7]\n"
          ]
        }
      ],
      "source": [
        "number=(list(map(int,input().rstrip().split())))\n",
        "len_n=len(number)\n",
        "l1=list()\n",
        "l2=list()\n",
        "for i in range(len_n):\n",
        "    if(number[i]%2==0):\n",
        "        l1.append(number[i])\n",
        "    else:\n",
        "        l2.append(number[i])\n",
        "print(\"THE EVEN NUMBER IS/ARE {} AND THE ODD NUMBER IS/ARE {}\".format(set(l1),set(l2)))"
      ]
    },
    {
      "cell_type": "markdown",
      "source": [
        "**3.(b) To check whether given number is Armstrong or not.**"
      ],
      "metadata": {
        "id": "Y_iHbuwhq9FG"
      }
    },
    {
      "cell_type": "code",
      "execution_count": null,
      "metadata": {
        "id": "g-1tyYk5Xs_4",
        "colab": {
          "base_uri": "https://localhost:8080/"
        },
        "outputId": "afc0bdf7-7965-4512-cbcf-7fc410b9afd8"
      },
      "outputs": [
        {
          "output_type": "stream",
          "name": "stdout",
          "text": [
            "153\n",
            "it is a armstrong\n"
          ]
        }
      ],
      "source": [
        "org_number=input()\n",
        "number=list(map(int,org_number.rstrip()))\n",
        "len_n=len(number)\n",
        "sum_arm=0\n",
        "for i in range(len_n):\n",
        "    sum_arm+=pow(number[i],len_n)\n",
        "if(int(org_number)==sum_arm):\n",
        "    print(\"it is a armstrong\")\n",
        "else:\n",
        "    print(\"number is not armstrong\")"
      ]
    },
    {
      "cell_type": "markdown",
      "source": [
        "\n",
        "\n",
        "---\n",
        "\n"
      ],
      "metadata": {
        "id": "H1IbjSVovSSi"
      }
    },
    {
      "cell_type": "markdown",
      "source": [
        "**4.Write a program using a while loop that asks the user for a number and prints a countdown from that number to zero.**"
      ],
      "metadata": {
        "id": "mkj2CY27JnNR"
      }
    },
    {
      "cell_type": "code",
      "source": [
        "num=int(input())\n",
        "x=True\n",
        "while x:\n",
        "    print(num)\n",
        "    num-=1\n",
        "    if(num==0):\n",
        "        x=False"
      ],
      "metadata": {
        "colab": {
          "base_uri": "https://localhost:8080/"
        },
        "id": "nReJAK4GWFFb",
        "outputId": "e58139a7-f93a-451a-f6da-e4be2b1fa6b7"
      },
      "execution_count": null,
      "outputs": [
        {
          "output_type": "stream",
          "name": "stdout",
          "text": [
            "6\n",
            "6\n",
            "5\n",
            "4\n",
            "3\n",
            "2\n",
            "1\n"
          ]
        }
      ]
    },
    {
      "cell_type": "markdown",
      "source": [
        "\n",
        "\n",
        "---\n",
        "\n"
      ],
      "metadata": {
        "id": "37tKbFMOvTjQ"
      }
    },
    {
      "cell_type": "markdown",
      "source": [
        "**5.Write a program to count the number of characters in the string and store them in a dictionary data structure.**"
      ],
      "metadata": {
        "id": "DfWrjs0BVTmV"
      }
    },
    {
      "cell_type": "code",
      "execution_count": null,
      "metadata": {
        "id": "1ZYJAbuPFpr_",
        "colab": {
          "base_uri": "https://localhost:8080/"
        },
        "outputId": "46cdfd75-ce2b-4af8-a040-40810d3d09c5"
      },
      "outputs": [
        {
          "output_type": "stream",
          "name": "stdout",
          "text": [
            "hello this is a string\n",
            "{'h': 2, 'a': 1, 'n': 1, 'g': 1, 'l': 2, 'o': 1, 'e': 1, 'r': 1, 'i': 3, 's': 3, 't': 2}\n"
          ]
        }
      ],
      "source": [
        "string=list(input().replace(\" \",''))\n",
        "set_string=set(string)\n",
        "new_list=list(set_string)\n",
        "s_len=len(string)\n",
        "s_new_len=len(new_list)\n",
        "i=0\n",
        "c_dict=dict()\n",
        "while(i>=0 and i<s_new_len):\n",
        "    c=0\n",
        "    j=0  \n",
        "    while(j>=0 and j<s_len):\n",
        "        if(new_list[i]==string[j]):\n",
        "            c+=1\n",
        "        c_dict.update({new_list[i]:c})\n",
        "        j+=1\n",
        "    i+=1\n",
        "print(c_dict)"
      ]
    },
    {
      "cell_type": "markdown",
      "source": [
        "\n",
        "\n",
        "---\n",
        "\n"
      ],
      "metadata": {
        "id": "3UEGi231vVMd"
      }
    },
    {
      "cell_type": "markdown",
      "source": [
        "**6.Write a program to demonstrate list and tuple in python**"
      ],
      "metadata": {
        "id": "iWyR3ttErYK2"
      }
    },
    {
      "cell_type": "code",
      "source": [
        "l=[1,2,3,\"Hello\"]\n",
        "t=(1,2,3,4,\"HelloWorld\")\n",
        "print(type(l),l,\"\\n\",type(t),t)"
      ],
      "metadata": {
        "id": "LggIExiVc7cG",
        "colab": {
          "base_uri": "https://localhost:8080/"
        },
        "outputId": "b7963155-f1ce-4055-a7c9-c4e4e630ae7e"
      },
      "execution_count": null,
      "outputs": [
        {
          "output_type": "stream",
          "name": "stdout",
          "text": [
            "<class 'list'> [1, 2, 3, 'Hello'] \n",
            " <class 'tuple'> (1, 2, 3, 4, 'HelloWorld')\n"
          ]
        }
      ]
    },
    {
      "cell_type": "markdown",
      "source": [
        "**6.Write a program using a for loop that loops over a sequence**"
      ],
      "metadata": {
        "id": "M1lJ5UePXT_0"
      }
    },
    {
      "cell_type": "code",
      "source": [
        "l=list(input())\n",
        "for i in range(len(l)):\n",
        "    print(l[i])\n",
        "print(l)"
      ],
      "metadata": {
        "colab": {
          "base_uri": "https://localhost:8080/"
        },
        "id": "QkrFPtbpdLfH",
        "outputId": "f8187031-4d56-4eec-e810-b053fe42eca2"
      },
      "execution_count": null,
      "outputs": [
        {
          "output_type": "stream",
          "name": "stdout",
          "text": [
            "1 2 Hello\n",
            "1\n",
            " \n",
            "2\n",
            " \n",
            "H\n",
            "e\n",
            "l\n",
            "l\n",
            "o\n",
            "['1', ' ', '2', ' ', 'H', 'e', 'l', 'l', 'o']\n"
          ]
        }
      ]
    },
    {
      "cell_type": "markdown",
      "source": [
        "\n",
        "\n",
        "---\n",
        "\n"
      ],
      "metadata": {
        "id": "9ouqJmw0vbb6"
      }
    },
    {
      "cell_type": "markdown",
      "source": [
        "**7.Write a python program that should perform the following four tasks:**\n",
        "\n",
        "\n",
        "1.After getting a word (of input) from the user, your program should use a while (or for) loop to print out each of the letters of the word. just remember that strings in python start with element 0!\n",
        "\n",
        "2.Your program should then use another loop to print out each of the letters of the (same) word in reverse order.\n",
        "\n",
        "3.Make a new variable that is the original word in reverse and print that variable. you can do this easily in python with a “string slice”.\n",
        "\n",
        "4.Ask the user for a letter to count. Use another loop to count how many times that letter appears in the original word. print out this count"
      ],
      "metadata": {
        "id": "cPgzu2eJZAHK"
      }
    },
    {
      "cell_type": "code",
      "source": [
        "org_word=input()\n",
        "word=org_word\n",
        "rev=word[::-1]\n",
        "for i in word:\n",
        "    print(i)\n",
        "print()\n",
        "for i in range(1,len(word)+1):\n",
        "    print(word[-i])\n",
        "print(rev)\n",
        "f=input()\n",
        "c=0\n",
        "for i in word:\n",
        "    if(i == f):\n",
        "        c+=1\n",
        "print(f\"{c} is the number of occurence of {f} in the word {org_word}\")"
      ],
      "metadata": {
        "id": "UpFi8prFfiPB"
      },
      "execution_count": null,
      "outputs": []
    },
    {
      "cell_type": "markdown",
      "source": [
        "\n",
        "\n",
        "---\n",
        "\n"
      ],
      "metadata": {
        "id": "vQoyPWwhvdmW"
      }
    },
    {
      "cell_type": "markdown",
      "source": [
        "**8.Write a program to print the mean, median, mode and range of the list**"
      ],
      "metadata": {
        "id": "5vzW-78Ewb-G"
      }
    },
    {
      "cell_type": "code",
      "source": [
        "l=[int(input()) for i in range(int(input(\"enter limit\")))]\n",
        "mean=sum(l)//len(l)\n",
        "sort_list=sorted(l)\n",
        "if((len(l)+1)/2 == (len(l)+1)//2):\n",
        "    median=sort_list[int((len(l)+1)/2)]\n",
        "else:\n",
        "    median1=sort_list[int((len(l))/2)]\n",
        "    median2=sort_list[int((len(l)-1)/2)]\n",
        "    median=(median1+median2)//2\n",
        "mode=max(set(l),key=l.count)\n",
        "range=max(l)-min(l)\n",
        "print(f\"{mean} \\n {median} \\n {mode}\\n {range}\")"
      ],
      "metadata": {
        "colab": {
          "base_uri": "https://localhost:8080/"
        },
        "id": "gFU3PSxsaGPA",
        "outputId": "accc6f40-e832-40f1-e8e1-3059ba87ebcf"
      },
      "execution_count": null,
      "outputs": [
        {
          "output_type": "stream",
          "name": "stdout",
          "text": [
            "enter limit5\n",
            "12\n",
            "21\n",
            "43\n",
            "23\n",
            "23\n",
            "24 \n",
            " 23 \n",
            " 23\n",
            " range(1, 5)\n"
          ]
        }
      ]
    },
    {
      "cell_type": "markdown",
      "source": [
        "\n",
        "\n",
        "---\n",
        "\n"
      ],
      "metadata": {
        "id": "afNT09JXvfPO"
      }
    },
    {
      "cell_type": "markdown",
      "source": [
        "**9.Write a program that uses a dictionary that contains ten usernames and passwords. the program should ask the user to enter their usernames and passwords. if the username is not in the dictionary, the program should indicate that the person is not a valid user of the system. if the username is in the dictionary, but the user does not enter the right password, the program should say that the password is invalid. if the password is correct, then the program should tell the user that they are now logged into the system.**"
      ],
      "metadata": {
        "id": "RRYWHp-hwPky"
      }
    },
    {
      "cell_type": "code",
      "source": [
        "login={\"john\":\"john112\",\"grian\":\"grian211\",\"subham\":\"joshi1234\",\"raja\":\"shivraj44\"}\n",
        "def login_system(username=input()):\n",
        "    if(username in login):\n",
        "        z=input()\n",
        "        if(z== login.get(username)):\n",
        "            return print(\"you have now logged in to the system\")\n",
        "        else:\n",
        "            print(\"incorrect password\")\n",
        "            return login_system()\n",
        "    else:\n",
        "            print(\"the username does not exist\")\n",
        "\n",
        "login_system()\n"
      ],
      "metadata": {
        "id": "bk2ZIuBMwPPf"
      },
      "execution_count": null,
      "outputs": []
    },
    {
      "cell_type": "markdown",
      "source": [
        "\n",
        "\n",
        "---\n",
        "\n"
      ],
      "metadata": {
        "id": "uXlcPO-fviCX"
      }
    },
    {
      "cell_type": "markdown",
      "source": [
        " **10.Write a Python program to convert a given tuple of positive integers into an integer. Original tuple: (1, 2, 3) Convert the said tuple of positive integers into an integer: 123**"
      ],
      "metadata": {
        "id": "6QXdoLsl4beF"
      }
    },
    {
      "cell_type": "code",
      "source": [
        "tup=(1,2,3)\n",
        "integer=int(\"\".join(map(str,tup)))\n",
        "print(integer)"
      ],
      "metadata": {
        "colab": {
          "base_uri": "https://localhost:8080/"
        },
        "id": "9xEjQdG64a4j",
        "outputId": "2172e881-7d9b-43eb-e6e5-e07323006984"
      },
      "execution_count": null,
      "outputs": [
        {
          "output_type": "stream",
          "name": "stdout",
          "text": [
            "123\n"
          ]
        }
      ]
    },
    {
      "cell_type": "markdown",
      "source": [
        "**11.Write a Python program to sort a list of tuples using Lambda. Original list of tuples: – Original list of tuples: – [('Discrete Mathematics', 93), ('Python Programming', 95), ('Environmental Science', 88), ('Engineering Physics', 83)] – Sorting the List of Tuples: – [('Engineering Physics', 83), ('Environmental Science', 88), ('Discrete Mathematics', 93), ('Python Programming', 95)]**"
      ],
      "metadata": {
        "id": "f8yfn4nUs9Hl"
      }
    },
    {
      "cell_type": "code",
      "source": [
        "l=[('Discrete Mathematics', 93), ('Python Programming', 95), ('Environmental Science', 88), ('Engineering Physics', 83)]\n",
        "l.sort(key=lambda a: a[1])\n",
        "print(l)"
      ],
      "metadata": {
        "id": "7sAPSuH91HMV"
      },
      "execution_count": null,
      "outputs": []
    },
    {
      "cell_type": "markdown",
      "source": [
        "\n",
        "\n",
        "---\n",
        "\n"
      ],
      "metadata": {
        "id": "D_Ja0Pg2vkR5"
      }
    },
    {
      "cell_type": "markdown",
      "source": [
        "**12.(a) Write a program that inputs a tuple having words of a string as its element e.g., (“The”,” quick”,” brown”, “fox”) and then translate each text element to pig Latin**"
      ],
      "metadata": {
        "id": "LoPZUBgGfnmb"
      }
    },
    {
      "cell_type": "code",
      "source": [
        "a=tuple(input().split())\n",
        "b=[]\n",
        "c=[\"a\",\"e\",\"i\",\"o\",\"u\"]\n",
        "for i in a:\n",
        "    if( i[0] in c):\n",
        "        b.append(i+\"way\")\n",
        "    elif( i[0] not in c ):\n",
        "        st=\"\"\n",
        "        for j in i:\n",
        "            if(j not in c):\n",
        "                st+=j\n",
        "            else:\n",
        "                break\n",
        "        b.append(i[i.index(j):]+st+\"ay\")\n",
        "b=tuple(b)\n",
        "print(a,\"\\n\",b)\n",
        "f=zip(a,b)\n",
        "#decryption\n",
        "d=[]\n",
        "for i in b:\n",
        "    if(i[0] in c):\n",
        "        d.append(i.replace(\"way\",\"\"))\n",
        "    elif(i[0] not in c):\n",
        "        for i in l:\n",
        "            i=i.split()\n",
        "            b=i[-1]+i.rstrip(i[-1])\n",
        "            a+=b.title()+\" \"\n",
        "        a.rstrip()\n",
        "print(d)"
      ],
      "metadata": {
        "colab": {
          "base_uri": "https://localhost:8080/"
        },
        "id": "Bm71I2urYL3Q",
        "outputId": "40571227-2e24-4e8e-da54-b770248e21f5"
      },
      "execution_count": null,
      "outputs": [
        {
          "output_type": "stream",
          "name": "stdout",
          "text": [
            "hello iojaa\n",
            "('hello', 'iojaa') \n",
            " ('ellohay', 'iojaaway')\n",
            "['ellohay', 'iojaa']\n"
          ]
        }
      ]
    },
    {
      "cell_type": "markdown",
      "source": [
        "\n",
        "\n",
        "---\n",
        "\n"
      ],
      "metadata": {
        "id": "GphzIrQovmlN"
      }
    },
    {
      "cell_type": "markdown",
      "source": [
        "**13.Write a program to print Fibonacci Series using recursion.**"
      ],
      "metadata": {
        "id": "gw2bKk4-v-bg"
      }
    },
    {
      "cell_type": "code",
      "source": [
        "def fib(n, a = 0, b = 1):\n",
        "    if n == 0:\n",
        "        return a\n",
        "    if n == 1:\n",
        "        return b\n",
        "    print(b,\" \",end=\"\")\n",
        "    return fib(n - 1, b, a + b)\n",
        "\n",
        "\n",
        "n = int(input())\n",
        "print(\"0 \",end=\"\")\n",
        "\n",
        "#print(\"fib(\"+str(n)+\") = \"+str(fib(n)))\n",
        "fib(n)\n"
      ],
      "metadata": {
        "colab": {
          "base_uri": "https://localhost:8080/"
        },
        "id": "vTlgsvKQv-G3",
        "outputId": "62229b44-7b0d-4e03-e3e8-8d94e569b9e7"
      },
      "execution_count": null,
      "outputs": [
        {
          "output_type": "stream",
          "name": "stdout",
          "text": [
            "9\n",
            "0 1  1  2  3  5  8  13  21  "
          ]
        },
        {
          "output_type": "execute_result",
          "data": {
            "text/plain": [
              "34"
            ]
          },
          "metadata": {},
          "execution_count": 6
        }
      ]
    },
    {
      "cell_type": "markdown",
      "source": [
        "\n",
        "\n",
        "---\n",
        "\n"
      ],
      "metadata": {
        "id": "5dh6u_xqvn1u"
      }
    },
    {
      "cell_type": "markdown",
      "source": [
        "**14.Write a menu-driven program to implement linear search and binary search**"
      ],
      "metadata": {
        "id": "5pJModQp4OwM"
      }
    },
    {
      "cell_type": "code",
      "source": [
        "while True:\n",
        "    print(\"\\nMENU\")\n",
        "    print(\"1. Binary Search\")\n",
        "    print(\"2. Linear Search\")\n",
        "    print(\"3. Exit\")\n",
        "    choice = int(input(\"\\nEnter the Choice: \"))\n",
        "\n",
        "    if choice == 1:\n",
        "        def binary_search(list1, n):\n",
        "            low = 0\n",
        "            high = len(list1) - 1\n",
        "            mid = 0\n",
        "\n",
        "            while low <= high:\n",
        "\n",
        "                mid = (high + low) // 2\n",
        "\n",
        "                if list1[mid] < n:\n",
        "                    low = mid + 1\n",
        "\n",
        "                elif list1[mid] > n:\n",
        "                    high = mid - 1\n",
        "                else:\n",
        "                    return mid\n",
        "\n",
        "            return -1\n",
        "\n",
        "\n",
        "        list1 = []\n",
        "        i = 0\n",
        "        while i < 5:\n",
        "            list1.append(int(input(\"enter digits of array:\")))\n",
        "            i = i + 1\n",
        "\n",
        "\n",
        "        n = int(input(\"enter your target: \"))\n",
        "\n",
        "        result = binary_search(list1, n)\n",
        "\n",
        "        if result != -1:\n",
        "            print(\"Element is present at index\", str(result))\n",
        "        else:\n",
        "            print(\"Element is not present in list1\")\n",
        "\n",
        "    if choice == 2:\n",
        "        def search(arr, x):\n",
        "\n",
        "            for i in range(len(arr)):\n",
        "\n",
        "                if arr[i] == x:\n",
        "                    return i\n",
        "\n",
        "            return -1\n",
        "\n",
        "\n",
        "        list1 = []\n",
        "        i = 0\n",
        "        while i < 5:\n",
        "            list1.append(int(input(\"enter digits of array:\")))\n",
        "            i = i + 1\n",
        "\n",
        " \n",
        "        n = int(input(\"enter your target: \"))\n",
        "\n",
        "\n",
        "        result = search(list1, n)\n",
        "\n",
        "        if result != -1:\n",
        "            print(\"Element is present at index\", result)\n",
        "        else:\n",
        "            print(\"Element is not present in list1\")\n",
        "\n",
        "    break"
      ],
      "metadata": {
        "id": "saZqdeSgyHWU",
        "colab": {
          "base_uri": "https://localhost:8080/"
        },
        "outputId": "3bfc22ea-0dbf-40ab-feb9-b0b410ff8c49"
      },
      "execution_count": null,
      "outputs": [
        {
          "output_type": "stream",
          "name": "stdout",
          "text": [
            "\n",
            "MENU\n",
            "1. Binary Search\n",
            "2. Linear Search\n",
            "3. Exit\n",
            "\n",
            "Enter the Choice: 1\n",
            "enter digits of array:1\n",
            "enter digits of array:2\n",
            "enter digits of array:3\n",
            "enter digits of array:4\n",
            "enter digits of array:5\n",
            "enter your target: 3\n",
            "Element is present at index 2\n"
          ]
        }
      ]
    },
    {
      "cell_type": "markdown",
      "source": [
        "\n",
        "\n",
        "---\n",
        "\n"
      ],
      "metadata": {
        "id": "Cf8H03PuvqBi"
      }
    },
    {
      "cell_type": "markdown",
      "source": [
        "**15.Write a program to implement merge sort, selection sort and insertion sort**"
      ],
      "metadata": {
        "id": "3NJ3wf4Z3b18"
      }
    },
    {
      "cell_type": "code",
      "source": [
        "c#Merge-Sort\n",
        "def mergeSort(myList):\n",
        "  if len(myList) > 1:\n",
        "    mid = len(myList) // 2\n",
        "    left = myList[:mid]\n",
        "    right = myList[mid:]\n",
        "    mergeSort(left)\n",
        "    mergeSort(right)\n",
        "    i=j=k=0\n",
        "    while i < len(left) and j < len(right):\n",
        "      if left[i] <= right[j]:\n",
        "        myList[k] = left[i]\n",
        "        i += 1\n",
        "      else:\n",
        "        myList[k] = right[j]\n",
        "        j += 1\n",
        "        k += 1\n",
        "      while i < len(left):\n",
        "        myList[k] = left[i]\n",
        "        i += 1\n",
        "        k += 1\n",
        "      while j < len(right):\n",
        "        myList[k]=right[j]\n",
        "        j += 1\n",
        "        k += 1\n",
        "myList = [54,26,93,17,77,31,44,55,20]\n",
        "mergeSort(myList)\n",
        "print(\"Sorted Array in Ascending Order:\\n\", myList"
      ],
      "metadata": {
        "id": "QDcd0SHBUANp"
      },
      "execution_count": null,
      "outputs": []
    },
    {
      "cell_type": "code",
      "source": [
        "list1=[30,5,6,8,5,2]\n",
        "print(list1)\n",
        "\n",
        "for i in range(len(list1)-1):\n",
        "\n",
        "  for j in range(i+1,len(list1)):\n",
        "\n",
        "    if list1[i] > list1[j]:\n",
        "\n",
        "      list1[i],list1[j] = list1[j],list1[i]\n",
        "\n",
        "print(list1)"
      ],
      "metadata": {
        "id": "zIOt7BaPxoYG",
        "colab": {
          "base_uri": "https://localhost:8080/"
        },
        "outputId": "71cb7f10-f49b-47b0-aa9d-e74ebfe2cde0"
      },
      "execution_count": null,
      "outputs": [
        {
          "output_type": "stream",
          "name": "stdout",
          "text": [
            "[30, 5, 6, 8, 5, 2]\n",
            "[2, 5, 5, 6, 8, 30]\n"
          ]
        }
      ]
    },
    {
      "cell_type": "code",
      "source": [
        "list1=[10,4,25,1,5]\n",
        "print(list1)\n",
        "\n",
        "for i in range(1,len(list1)):\n",
        "\n",
        "  value0 = list1[i]                  \n",
        "\n",
        "  j = i-1\n",
        "\n",
        "  while j>=0 and value0<list1[j]:\n",
        "\n",
        "    list1[j+1] = list1[j]\n",
        "    j=j-1\n",
        "\n",
        "  list1[j+1] = value0\n",
        "  print(list1)"
      ],
      "metadata": {
        "colab": {
          "base_uri": "https://localhost:8080/"
        },
        "id": "X2RBb0MS3TLD",
        "outputId": "f9fe3f6f-ea0f-4a97-9978-6a2829437a78"
      },
      "execution_count": null,
      "outputs": [
        {
          "output_type": "stream",
          "name": "stdout",
          "text": [
            "[10, 4, 25, 1, 5]\n",
            "[1, 4, 5, 10, 25]\n"
          ]
        }
      ]
    }
  ],
  "metadata": {
    "colab": {
      "collapsed_sections": [],
      "name": "COLLEGE PYTHON LAB.ipynb",
      "provenance": [],
      "authorship_tag": "ABX9TyOTReF3JmUcfrcn8DvYhnye",
      "include_colab_link": true
    },
    "kernelspec": {
      "display_name": "Python 3",
      "name": "python3"
    },
    "language_info": {
      "name": "python"
    }
  },
  "nbformat": 4,
  "nbformat_minor": 0
}