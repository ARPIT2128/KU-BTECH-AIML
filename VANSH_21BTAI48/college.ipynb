{
  "nbformat": 4,
  "nbformat_minor": 0,
  "metadata": {
    "colab": {
      "name": "college.ipynb",
      "provenance": [],
      "collapsed_sections": [],
      "authorship_tag": "ABX9TyMc4cz1725L1O/z184+9wsT",
      "include_colab_link": true
    },
    "kernelspec": {
      "name": "python3",
      "display_name": "Python 3"
    },
    "language_info": {
      "name": "python"
    }
  },
  "cells": [
    {
      "cell_type": "markdown",
      "metadata": {
        "id": "view-in-github",
        "colab_type": "text"
      },
      "source": [
        "<a href=\"https://colab.research.google.com/github/ARPIT2128/KU-BTECH-AIML/blob/main/VANSH_21BTAI48/college.ipynb\" target=\"_parent\"><img src=\"https://colab.research.google.com/assets/colab-badge.svg\" alt=\"Open In Colab\"/></a>"
      ]
    },
    {
      "cell_type": "code",
      "source": [
        "a=int(input(\"enter a integer : \"))\n",
        "b=input(\"enter a string : \")\n",
        "c=float(input(\"enter a number(float) : \"))\n",
        "\n",
        "print(a,\"\\t\",b,\"\\t\",c)\n",
        "\n",
        "print(type(a))\n",
        "print(type(b))\n",
        "print(type(c))"
      ],
      "metadata": {
        "colab": {
          "base_uri": "https://localhost:8080/"
        },
        "id": "j3ZO0vlGMbhK",
        "outputId": "3679fc9a-6db3-404a-d2b7-159a5505febd"
      },
      "execution_count": 1,
      "outputs": [
        {
          "output_type": "stream",
          "name": "stdout",
          "text": [
            "enter a integer : 6\n",
            "enter a string : mnbj\n",
            "enter a number(float) : 8.9\n",
            "6 \t mnbj \t 8.9\n",
            "<class 'int'>\n",
            "<class 'str'>\n",
            "<class 'float'>\n"
          ]
        }
      ]
    },
    {
      "cell_type": "code",
      "source": [
        "mport math\n",
        "x1=int(input(\"enter x1 : \"))\n",
        "y1=int(input(\"enter y1 : \"))\n",
        "x2=int(input(\"enter x2 : \"))\n",
        "y2=int(input(\"enter y2 : \"))\n",
        "\n",
        "ans= math.sqrt((x2-x1)**2 + (y2-y1)**2 )\n",
        "\n",
        "print(ans)"
      ],
      "metadata": {
        "id": "qJ2nZwIkHCyO"
      },
      "execution_count": null,
      "outputs": []
    },
    {
      "cell_type": "code",
      "source": [
        "x=int(input(\"enter a number. : \"))\n",
        "\n",
        "if(x%2==0):\n",
        "  print(\"x is even\")\n",
        "else:\n",
        "  print(\"x is odd\") "
      ],
      "metadata": {
        "id": "q-CSGDTSHYOE"
      },
      "execution_count": null,
      "outputs": []
    },
    {
      "cell_type": "code",
      "source": [
        "x=input(\"enter a number: \")\n",
        "a=False\n",
        "for i in x:\n",
        "  if not(48<=ord(i)<=57):\n",
        "    print(\"not a number \")\n",
        "    a=False\n",
        "    break\n",
        "  else:\n",
        "    a=True\n",
        "if a==True:\n",
        "  x=int(x)\n",
        "  n1=n2=x\n",
        "  sum=count=0\n",
        "  while n1!=0:\n",
        "    n1//=10\n",
        "    count+=1\n",
        "  while n2!=0:\n",
        "    b=n2%10\n",
        "    sum+=pow(b,count)\n",
        "    n2//=10\n",
        "  if x==sum:\n",
        "    print(\"armstrong number!\")\n",
        "  else:\n",
        "    print(\"not an armstrong number sed :(\")"
      ],
      "metadata": {
        "id": "tMAwCJnvHZUE"
      },
      "execution_count": null,
      "outputs": []
    },
    {
      "cell_type": "code",
      "source": [
        "i=int(input())\n",
        "\n",
        "\n",
        "while i!=-1:\n",
        "  print(i)\n",
        "  i=i-1"
      ],
      "metadata": {
        "id": "tyxHQd4fHcuZ"
      },
      "execution_count": null,
      "outputs": []
    },
    {
      "cell_type": "code",
      "source": [
        "a=\"Enter a string\"\n",
        "b={}\n",
        "for i in a:\n",
        "  b[i]=a.count(i)\n",
        "print(b)"
      ],
      "metadata": {
        "id": "IoQF67HeHt0s"
      },
      "execution_count": null,
      "outputs": []
    },
    {
      "cell_type": "code",
      "source": [
        "lists=[\"vansh\",\"hello\",\"bye\"]\n",
        "print(lists)"
      ],
      "metadata": {
        "id": "W9ymx7tnH5Kc"
      },
      "execution_count": null,
      "outputs": []
    },
    {
      "cell_type": "code",
      "source": [
        "tuple=(\"vansh\",\"hello\",\"bye\")\n",
        "print(tuple)"
      ],
      "metadata": {
        "id": "4t7mi54wH8GB"
      },
      "execution_count": null,
      "outputs": []
    },
    {
      "cell_type": "code",
      "source": [
        "for v in lists:\n",
        "  print(v)\n",
        "for v in tuple:\n",
        "  print(v) "
      ],
      "metadata": {
        "id": "0MB5H9_gICDG"
      },
      "execution_count": null,
      "outputs": []
    }
  ]
}