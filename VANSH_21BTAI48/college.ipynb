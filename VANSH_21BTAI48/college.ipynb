{
  "nbformat": 4,
  "nbformat_minor": 0,
  "metadata": {
    "colab": {
      "name": "college.ipynb",
      "provenance": [],
      "collapsed_sections": [],
      "authorship_tag": "ABX9TyNLacMtBE7hz6tA1YtKOukh",
      "include_colab_link": true
    },
    "kernelspec": {
      "name": "python3",
      "display_name": "Python 3"
    },
    "language_info": {
      "name": "python"
    }
  },
  "cells": [
    {
      "cell_type": "markdown",
      "metadata": {
        "id": "view-in-github",
        "colab_type": "text"
      },
      "source": [
        "<a href=\"https://colab.research.google.com/github/ARPIT2128/KU-BTECH-AIML/blob/main/VANSH_21BTAI48/college.ipynb\" target=\"_parent\"><img src=\"https://colab.research.google.com/assets/colab-badge.svg\" alt=\"Open In Colab\"/></a>"
      ]
    },
    {
      "cell_type": "code",
      "source": [
        "#exp 1\n",
        "a=int(input(\"enter a integer : \"))\n",
        "b=input(\"enter a string : \")\n",
        "c=float(input(\"enter a number(float) : \"))\n",
        "\n",
        "print(a,\"\\t\",b,\"\\t\",c)\n",
        "\n",
        "print(type(a))\n",
        "print(type(b))\n",
        "print(type(c))"
      ],
      "metadata": {
        "colab": {
          "base_uri": "https://localhost:8080/"
        },
        "id": "j3ZO0vlGMbhK",
        "outputId": "3679fc9a-6db3-404a-d2b7-159a5505febd"
      },
      "execution_count": null,
      "outputs": [
        {
          "output_type": "stream",
          "name": "stdout",
          "text": [
            "enter a integer : 6\n",
            "enter a string : mnbj\n",
            "enter a number(float) : 8.9\n",
            "6 \t mnbj \t 8.9\n",
            "<class 'int'>\n",
            "<class 'str'>\n",
            "<class 'float'>\n"
          ]
        }
      ]
    },
    {
      "cell_type": "code",
      "source": [
        "#exp 2\n",
        "import math\n",
        "x1=int(input(\"enter x1 : \"))\n",
        "y1=int(input(\"enter y1 : \"))\n",
        "x2=int(input(\"enter x2 : \"))\n",
        "y2=int(input(\"enter y2 : \"))\n",
        "\n",
        "ans= math.sqrt((x2-x1)**2 + (y2-y1)**2 )\n",
        "\n",
        "print(ans)"
      ],
      "metadata": {
        "id": "qJ2nZwIkHCyO",
        "colab": {
          "base_uri": "https://localhost:8080/"
        },
        "outputId": "4f7f97e2-3c68-4e65-e297-a39f93bf4c2c"
      },
      "execution_count": null,
      "outputs": [
        {
          "output_type": "stream",
          "name": "stdout",
          "text": [
            "enter x1 : 7\n",
            "enter y1 : 8\n",
            "enter x2 : 9\n",
            "enter y2 : 0\n",
            "8.246211251235321\n"
          ]
        }
      ]
    },
    {
      "cell_type": "code",
      "source": [
        "#exp 3(i)\n",
        "x=int(input(\"enter a number. : \"))\n",
        "\n",
        "if(x%2==0):\n",
        "  print(\"x is even\")\n",
        "else:\n",
        "  print(\"x is odd\") "
      ],
      "metadata": {
        "id": "q-CSGDTSHYOE"
      },
      "execution_count": null,
      "outputs": []
    },
    {
      "cell_type": "code",
      "source": [
        "#exp 3(ii)\n",
        "x=input(\"enter a number: \")\n",
        "a=False\n",
        "for i in x:\n",
        "  if not(48<=ord(i)<=57):\n",
        "    print(\"not a number \")\n",
        "    a=False\n",
        "    break\n",
        "  else:\n",
        "    a=True\n",
        "if a==True:\n",
        "  x=int(x)\n",
        "  n1=n2=x\n",
        "  sum=count=0\n",
        "  while n1!=0:\n",
        "    n1//=10\n",
        "    count+=1\n",
        "  while n2!=0:\n",
        "    b=n2%10\n",
        "    sum+=pow(b,count)\n",
        "    n2//=10\n",
        "  if x==sum:\n",
        "    print(\"armstrong number!\")\n",
        "  else:\n",
        "    print(\"not an armstrong number sed :(\")"
      ],
      "metadata": {
        "id": "tMAwCJnvHZUE",
        "colab": {
          "base_uri": "https://localhost:8080/"
        },
        "outputId": "75c83fd7-33c2-46ac-efa6-8c1d02c3df8b"
      },
      "execution_count": null,
      "outputs": [
        {
          "output_type": "stream",
          "name": "stdout",
          "text": [
            "enter a number: sjncdjin\n",
            "not a number \n"
          ]
        }
      ]
    },
    {
      "cell_type": "code",
      "source": [
        "#exp4\n",
        "i=int(input())\n",
        "\n",
        "\n",
        "while i!=-1:\n",
        "  print(i)\n",
        "  i=i-1"
      ],
      "metadata": {
        "id": "tyxHQd4fHcuZ"
      },
      "execution_count": null,
      "outputs": []
    },
    {
      "cell_type": "code",
      "source": [
        "#exp 5\n",
        "a=\"Enter a string\"\n",
        "b={}\n",
        "for i in a:\n",
        "  b[i]=a.count(i)\n",
        "print(b)"
      ],
      "metadata": {
        "id": "IoQF67HeHt0s"
      },
      "execution_count": null,
      "outputs": []
    },
    {
      "cell_type": "code",
      "source": [
        "#exp 6\n",
        "lists=[\"vansh\",\"hello\",\"bye\"]\n",
        "print(lists)"
      ],
      "metadata": {
        "colab": {
          "base_uri": "https://localhost:8080/"
        },
        "id": "W9ymx7tnH5Kc",
        "outputId": "37d9c895-b82f-4e2a-bf91-c33dfbb99bb1"
      },
      "execution_count": null,
      "outputs": [
        {
          "output_type": "stream",
          "name": "stdout",
          "text": [
            "['vansh', 'hello', 'bye']\n"
          ]
        }
      ]
    },
    {
      "cell_type": "code",
      "source": [
        "#exp 6\n",
        "tuple=(\"vansh\",\"hello\",\"bye\")\n",
        "print(tuple)"
      ],
      "metadata": {
        "colab": {
          "base_uri": "https://localhost:8080/"
        },
        "id": "4t7mi54wH8GB",
        "outputId": "9809c85c-a058-4c9d-d1cf-ccea80c9e067"
      },
      "execution_count": null,
      "outputs": [
        {
          "output_type": "stream",
          "name": "stdout",
          "text": [
            "('vansh', 'hello', 'bye')\n"
          ]
        }
      ]
    },
    {
      "cell_type": "code",
      "source": [
        "#exp 6\n",
        "for v in lists:\n",
        "  print(v)\n",
        "for v in tuple:\n",
        "  print(v) "
      ],
      "metadata": {
        "colab": {
          "base_uri": "https://localhost:8080/"
        },
        "id": "0MB5H9_gICDG",
        "outputId": "946f39a0-1805-48e9-99e1-326ae21fee52"
      },
      "execution_count": null,
      "outputs": [
        {
          "output_type": "stream",
          "name": "stdout",
          "text": [
            "vansh\n",
            "hello\n",
            "bye\n",
            "vansh\n",
            "hello\n",
            "bye\n"
          ]
        }
      ]
    },
    {
      "cell_type": "code",
      "source": [
        "#random password genrator\n",
        "import random\n",
        "letters = ['a','b','c','d','e','f','g','h','i','j','k','l','m','n','o','p','q','r','s','t','u','v','w','x','y','z','A','B','C','D','F','G','H','I','J','K','L','M','N','O','P','Q','R','S','T','U','V','W','X','Y','Z']\n",
        "\n",
        "numbers = ['0','1','2','3','4','5','6','7','8','9']\n",
        "\n",
        "characters= ['!','@','#','$','%','$','%','&','*','~']\n",
        "\n",
        "n_letters = int(input(\"enter the number of letters you want : \"))\n",
        "n_numbers = int(input(\"enter the number of numbers you want : \"))\n",
        "n_characters = int(input(\"enter the number of characters you want : \"))\n",
        "\n",
        "pas=[]\n",
        "\n",
        "for i in range (0,n_letters):\n",
        "  pas.append(random.choice(letters))\n",
        "for i in range (0,n_numbers):\n",
        "  pas.append(random.choice(numbers))  \n",
        "for i in range (0,n_characters):\n",
        "  pas.append(random.choice(characters))\n",
        "\n",
        "random.shuffle(pas)\n",
        "pasf=\"\".join(pas)\n",
        "print(pasf)"
      ],
      "metadata": {
        "id": "-59CfPMzJS6k",
        "colab": {
          "base_uri": "https://localhost:8080/"
        },
        "outputId": "19e7b51b-e8cb-4010-af0c-113f05288818"
      },
      "execution_count": null,
      "outputs": [
        {
          "output_type": "stream",
          "name": "stdout",
          "text": [
            "enter the number of letters you want : 1\n",
            "enter the number of numbers you want : 1\n",
            "enter the number of characters you want : 1\n",
            "R#9\n"
          ]
        }
      ]
    },
    {
      "cell_type": "code",
      "source": [
        "#reverse a list\n",
        "\n",
        "li = [100,200,300,400,500]\n",
        "li.reverse()\n",
        "print(li)\n",
        "\n",
        "    \n"
      ],
      "metadata": {
        "id": "vZ6uAxFoAw7j",
        "colab": {
          "base_uri": "https://localhost:8080/"
        },
        "outputId": "59fefb27-d592-47b7-c656-704c28635f2c"
      },
      "execution_count": null,
      "outputs": [
        {
          "output_type": "stream",
          "name": "stdout",
          "text": [
            "[500, 400, 300, 200, 100]\n"
          ]
        }
      ]
    },
    {
      "cell_type": "code",
      "source": [
        "#exercise\n",
        "l1= [\"M\",\"Na\",\"i\",\"ke\"]\n",
        "l2 = [\"y\",\"me\",\"s\",\"liy\"]\n",
        "l3=[]\n",
        "\n",
        "for i in range(len(l1)):\n",
        "    l3.append(l1[i]+l2[i])\n",
        "     \n",
        "\n",
        "print(l3)         "
      ],
      "metadata": {
        "colab": {
          "base_uri": "https://localhost:8080/"
        },
        "id": "CiWWpSUaZ-jB",
        "outputId": "0af91825-b1f7-4bc2-8498-1cd7fd03b564"
      },
      "execution_count": null,
      "outputs": [
        {
          "output_type": "stream",
          "name": "stdout",
          "text": [
            "['My', 'Name', 'is', 'keliy']\n"
          ]
        }
      ]
    },
    {
      "cell_type": "code",
      "source": [
        "#exercise\n",
        "lis=[1,2,3,4,5,6,7]\n",
        "\n",
        "lis2 = []\n",
        "\n",
        "for i in range(len(lis)):\n",
        "\n",
        "  lis2.append(lis[i]*lis[i])\n",
        "\n",
        "print(lis2)"
      ],
      "metadata": {
        "colab": {
          "base_uri": "https://localhost:8080/"
        },
        "id": "F8BrNChmciU5",
        "outputId": "f8be25de-4ed6-402b-f52e-fe7b823241c1"
      },
      "execution_count": null,
      "outputs": [
        {
          "output_type": "stream",
          "name": "stdout",
          "text": [
            "[1, 4, 9, 16, 25, 36, 49]\n"
          ]
        }
      ]
    },
    {
      "cell_type": "code",
      "source": [
        "#exp 7\n",
        "st=input(\"Enter a string: \")\n",
        "for i in st: \n",
        "  print(i)\n",
        "for i in st[::-1]:\n",
        "  print(i)\n",
        "st2=st[::-1]\n",
        "print(st2)\n",
        "count=0\n",
        "ch=input(\"Enter letter to count: \")\n",
        "for i in st:\n",
        "  if i==ch:\n",
        "    count+=1\n",
        "print(\"{} appears {} times\".format(ch,count))"
      ],
      "metadata": {
        "colab": {
          "base_uri": "https://localhost:8080/"
        },
        "id": "kaSSaMEYAFKD",
        "outputId": "51d8d262-e054-43d8-9df7-41b1069c7257"
      },
      "execution_count": null,
      "outputs": [
        {
          "output_type": "stream",
          "name": "stdout",
          "text": [
            "Enter a string: hello\n",
            "h\n",
            "e\n",
            "l\n",
            "l\n",
            "o\n",
            "o\n",
            "l\n",
            "l\n",
            "e\n",
            "h\n",
            "olleh\n",
            "Enter letter to count: l\n",
            "l appears 2 times\n"
          ]
        }
      ]
    },
    {
      "cell_type": "code",
      "source": [
        "#exp 8\n",
        "def mean(l):\n",
        "  return sum(l)/len(l)\n",
        "def median(l):\n",
        "  l.sort()\n",
        "  le=len(l)\n",
        "  if le%2==0:\n",
        "    return l[le//2-1],l[le//2]\n",
        "  return l[le//2]\n",
        "def mode(l):\n",
        "  count=0\n",
        "  el=None\n",
        "  for i in l:\n",
        "    if l.count(i)>count:\n",
        "      el=i\n",
        "      count=l.count(i)\n",
        "  return el\n",
        "def range_lst(l):\n",
        "  return max(l)-min(l)\n",
        "\n",
        "h = [4,8,9,8,6,10,9]\n",
        "print(mean(h))\n",
        "print(median(h))\n",
        "print(mode(h))\n",
        "print(range_lst(h))"
      ],
      "metadata": {
        "colab": {
          "base_uri": "https://localhost:8080/"
        },
        "id": "pkt8UFxvAMsX",
        "outputId": "52f8afee-9e3a-4cdb-8128-6030cc4e4ba4"
      },
      "execution_count": 2,
      "outputs": [
        {
          "output_type": "stream",
          "name": "stdout",
          "text": [
            "7.714285714285714\n",
            "8\n",
            "8\n",
            "6\n"
          ]
        }
      ]
    },
    {
      "cell_type": "code",
      "source": [
        "#exp 9\n",
        "def passdict(dct):\n",
        "  uname=input(\"Enter your username: \")\n",
        "  if uname in dct:\n",
        "    pwd=input(\"Enter your password: \")\n",
        "    if dct[uname]==pwd:\n",
        "      return \"You are now logged into the system.\"\n",
        "    return \"Invalid password.\"\n",
        "  return \"Invalid username.\"   "
      ],
      "metadata": {
        "id": "CiOt0e4IAbfH"
      },
      "execution_count": null,
      "outputs": []
    },
    {
      "cell_type": "code",
      "source": [
        "#exp 10\n",
        "def tptoint(tple):\n",
        "  return int(\"\".join(map(str,tple)))"
      ],
      "metadata": {
        "id": "XfcrnPIJAhnD"
      },
      "execution_count": null,
      "outputs": []
    },
    {
      "cell_type": "code",
      "source": [
        "#exp 11\n",
        "sortlst=lambda lst: sorted(lst,key=lambda x:x[1])\n",
        "print(sortlst([('Discrete Mathematics', 93), ('Python Programming', 95), ('Environmental Science', 88), ('Engineering Physics', 83)]))"
      ],
      "metadata": {
        "colab": {
          "base_uri": "https://localhost:8080/"
        },
        "id": "uSnAS4pZAldp",
        "outputId": "1428c224-4546-4d6d-f3ee-a5994b6bdcf6"
      },
      "execution_count": null,
      "outputs": [
        {
          "output_type": "stream",
          "name": "stdout",
          "text": [
            "[('Engineering Physics', 83), ('Environmental Science', 88), ('Discrete Mathematics', 93), ('Python Programming', 95)]\n"
          ]
        }
      ]
    },
    {
      "cell_type": "code",
      "source": [
        "#exp 12\n",
        "def toplatin(lst):\n",
        "  lst=list(lst)\n",
        "  for i in range(len(lst)):\n",
        "    if lst[i][0] in 'aeiou':\n",
        "      lst[i]=lst[i]+'yay'\n",
        "    elif set(lst[i]).isdisjoint(set(\"aeiou\")):\n",
        "      lst[i]=lst[i][-1]+lst[i][:-1]+'ay'\n",
        "    else:\n",
        "      has_vowel=False\n",
        "      for j,letter in enumerate(lst[i]):\n",
        "        if letter in 'aeiou':\n",
        "          lst[i]=lst[i][j:]+lst[i][:j]+'ay'\n",
        "          has_vowel=True\n",
        "          break\n",
        "  return tuple(lst)\n",
        "def fromplatin(lst):\n",
        "  lst=list(lst)\n",
        "  for i in range(len(lst)):\n",
        "    if lst[i][-3:]==\"yay\":\n",
        "      lst[i]=lst[i][:-3]\n",
        "    else:\n",
        "      lst[i]=lst[i][:-2]\n",
        "  return list(lst)\n",
        "print(toplatin((\"the\", \"quick\",\"brown\", \"fox\")))\n",
        "print(fromplatin(('fthyay', 'kquicay', 'nbroway', 'xfoay')))"
      ],
      "metadata": {
        "id": "i6_vMCmSApT4"
      },
      "execution_count": null,
      "outputs": []
    },
    {
      "cell_type": "code",
      "source": [
        "#exp 13\n",
        "def fibonacci(n):\n",
        "  if n<=1:\n",
        "    return n  \n",
        "  return (fibonacci(n-1)+fibonacci(n-2))\n",
        "print(fibonacci(7))"
      ],
      "metadata": {
        "colab": {
          "base_uri": "https://localhost:8080/"
        },
        "id": "dORRSyjhAs4J",
        "outputId": "f256cf91-a336-4588-9857-0a2de5598311"
      },
      "execution_count": null,
      "outputs": [
        {
          "output_type": "stream",
          "name": "stdout",
          "text": [
            "13\n"
          ]
        }
      ]
    },
    {
      "cell_type": "code",
      "source": [
        "#exp 14\n",
        "def linearSearch(lst,item):\n",
        "  for i in range(len(lst)):\n",
        "    if lst[i]==item:\n",
        "      return f\"The element {item} is at index {i}\"    #returns index of item\n",
        "  return -1    #if item is not in the list\n",
        "def binarySearch(lst,item):\n",
        "  lst.sort()\n",
        "  print(\"The sorted list is:\",lst)\n",
        "  low,high=0,len(lst)-1\n",
        "  while low<=high:\n",
        "    mid=(low+high)//2\n",
        "    mid_element=lst[mid]\n",
        "    if mid_element==item:\n",
        "      return f\"The element {item} is at index {mid}\"    #return index of middle element\n",
        "    if mid_element<item:\n",
        "      low=mid+1    #discarding the right part of the list because item is greater than middle element\n",
        "    elif mid_element>item:\n",
        "      high=mid-1    #discarding the left part of the list becasue item is smaller then middle element\n",
        "    return -1\n",
        "ls=[]\n",
        "n=int(input(\"Enter the number of elements: \"))\n",
        "print(\"Enter the elements: \")\n",
        "for i in range(n):\n",
        "  ls.append(int(input()))\n",
        "print(\"Your list is: \",ls)\n",
        "it=int(input(\"Enter item to search: \"))\n",
        "ch=int(input(\"Enter 0 for linear search and 1 for binary search: \"))\n",
        "if ch==0:\n",
        "  print(linearSearch(ls,it))\n",
        "else:\n",
        "  print(binarySearch(ls,it))"
      ],
      "metadata": {
        "colab": {
          "base_uri": "https://localhost:8080/"
        },
        "id": "TdyQiD9CBEzP",
        "outputId": "313585e0-64c0-4f1d-8385-e4a35741b275"
      },
      "execution_count": 3,
      "outputs": [
        {
          "output_type": "stream",
          "name": "stdout",
          "text": [
            "Enter the number of elements: 5\n",
            "Enter the elements: \n",
            "1\n",
            "2\n",
            "5\n",
            "7\n",
            "4\n",
            "Your list is:  [1, 2, 5, 7, 4]\n",
            "Enter item to search: 5\n",
            "Enter 0 for linear search and 1 for binary search: 1\n",
            "The sorted list is: [1, 2, 4, 5, 7]\n",
            "-1\n"
          ]
        }
      ]
    },
    {
      "cell_type": "code",
      "source": [
        "\n",
        "#exp 15\n",
        "#merge sort\n",
        "def mergeSort(arr):\n",
        "    if len(arr) > 1:\n",
        "        mid = len(arr) // 2\n",
        "        L = arr[:mid]\n",
        "        R = arr[mid:]\n",
        "        mergeSort(L)\n",
        "        mergeSort(R)\n",
        "        i = j = k = 0\n",
        "\n",
        "        while i < len(L) and j < len(R):\n",
        "            if L[i] < R[j]:\n",
        "                arr[k] = L[i]\n",
        "                i += 1\n",
        "            else:\n",
        "                arr[k] = R[j]\n",
        "                j += 1\n",
        "            k += 1\n",
        "\n",
        "        while i < len(L):\n",
        "            arr[k] = L[i]\n",
        "            i += 1\n",
        "            k += 1\n",
        "\n",
        "        while j < len(R):\n",
        "            arr[k] = R[j]\n",
        "            j += 1\n",
        "            k += 1\n",
        "    return arr\n",
        "#selection sort\n",
        "def selectionSort(arr):\n",
        "    for i in range(len(arr)):\n",
        "        min_idx = i\n",
        "        for j in range(i + 1, len(arr)):\n",
        "            if arr[min_idx] > arr[j]:\n",
        "                min_idx = j\n",
        "        arr[i], arr[min_idx] = arr[min_idx], arr[i]\n",
        "    return arr\n",
        "#insertion sort\n",
        "def insertionSort(array):\n",
        "    for step in range(1, len(array)):\n",
        "        key = array[step]\n",
        "        j = step - 1\n",
        "        while j >= 0 and key < array[j]:\n",
        "            array[j + 1] = array[j]\n",
        "            j = j - 1\n",
        "        array[j + 1] = key\n",
        "    return array"
      ],
      "metadata": {
        "id": "qgpRKh6oBJRO"
      },
      "execution_count": null,
      "outputs": []
    },
    {
      "cell_type": "code",
      "source": [
        ""
      ],
      "metadata": {
        "id": "2sJDyB5GBUHV"
      },
      "execution_count": null,
      "outputs": []
    }
  ]
}