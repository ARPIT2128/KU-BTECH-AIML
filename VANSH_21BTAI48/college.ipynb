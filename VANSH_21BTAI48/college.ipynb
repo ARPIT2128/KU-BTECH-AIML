{
  "nbformat": 4,
  "nbformat_minor": 0,
  "metadata": {
    "colab": {
      "name": "college.ipynb",
      "provenance": [],
      "collapsed_sections": [],
      "authorship_tag": "ABX9TyOoVDFABIXCLPxbysRB8cj3",
      "include_colab_link": true
    },
    "kernelspec": {
      "name": "python3",
      "display_name": "Python 3"
    },
    "language_info": {
      "name": "python"
    }
  },
  "cells": [
    {
      "cell_type": "markdown",
      "metadata": {
        "id": "view-in-github",
        "colab_type": "text"
      },
      "source": [
        "<a href=\"https://colab.research.google.com/github/ARPIT2128/KU-BTECH-AIML/blob/main/VANSH_21BTAI48/college.ipynb\" target=\"_parent\"><img src=\"https://colab.research.google.com/assets/colab-badge.svg\" alt=\"Open In Colab\"/></a>"
      ]
    },
    {
      "cell_type": "code",
      "source": [
        "a=int(input(\"enter a integer : \"))\n",
        "b=input(\"enter a string : \")\n",
        "c=float(input(\"enter a number(float) : \"))\n",
        "\n",
        "print(a,\"\\t\",b,\"\\t\",c)\n",
        "\n",
        "print(type(a))\n",
        "print(type(b))\n",
        "print(type(c))"
      ],
      "metadata": {
        "colab": {
          "base_uri": "https://localhost:8080/"
        },
        "id": "j3ZO0vlGMbhK",
        "outputId": "3679fc9a-6db3-404a-d2b7-159a5505febd"
      },
      "execution_count": null,
      "outputs": [
        {
          "output_type": "stream",
          "name": "stdout",
          "text": [
            "enter a integer : 6\n",
            "enter a string : mnbj\n",
            "enter a number(float) : 8.9\n",
            "6 \t mnbj \t 8.9\n",
            "<class 'int'>\n",
            "<class 'str'>\n",
            "<class 'float'>\n"
          ]
        }
      ]
    },
    {
      "cell_type": "code",
      "source": [
        "mport math\n",
        "x1=int(input(\"enter x1 : \"))\n",
        "y1=int(input(\"enter y1 : \"))\n",
        "x2=int(input(\"enter x2 : \"))\n",
        "y2=int(input(\"enter y2 : \"))\n",
        "\n",
        "ans= math.sqrt((x2-x1)**2 + (y2-y1)**2 )\n",
        "\n",
        "print(ans)"
      ],
      "metadata": {
        "id": "qJ2nZwIkHCyO"
      },
      "execution_count": null,
      "outputs": []
    },
    {
      "cell_type": "code",
      "source": [
        "x=int(input(\"enter a number. : \"))\n",
        "\n",
        "if(x%2==0):\n",
        "  print(\"x is even\")\n",
        "else:\n",
        "  print(\"x is odd\") "
      ],
      "metadata": {
        "id": "q-CSGDTSHYOE"
      },
      "execution_count": null,
      "outputs": []
    },
    {
      "cell_type": "code",
      "source": [
        "x=input(\"enter a number: \")\n",
        "a=False\n",
        "for i in x:\n",
        "  if not(48<=ord(i)<=57):\n",
        "    print(\"not a number \")\n",
        "    a=False\n",
        "    break\n",
        "  else:\n",
        "    a=True\n",
        "if a==True:\n",
        "  x=int(x)\n",
        "  n1=n2=x\n",
        "  sum=count=0\n",
        "  while n1!=0:\n",
        "    n1//=10\n",
        "    count+=1\n",
        "  while n2!=0:\n",
        "    b=n2%10\n",
        "    sum+=pow(b,count)\n",
        "    n2//=10\n",
        "  if x==sum:\n",
        "    print(\"armstrong number!\")\n",
        "  else:\n",
        "    print(\"not an armstrong number sed :(\")"
      ],
      "metadata": {
        "id": "tMAwCJnvHZUE",
        "colab": {
          "base_uri": "https://localhost:8080/"
        },
        "outputId": "75c83fd7-33c2-46ac-efa6-8c1d02c3df8b"
      },
      "execution_count": null,
      "outputs": [
        {
          "output_type": "stream",
          "name": "stdout",
          "text": [
            "enter a number: sjncdjin\n",
            "not a number \n"
          ]
        }
      ]
    },
    {
      "cell_type": "code",
      "source": [
        "i=int(input())\n",
        "\n",
        "\n",
        "while i!=-1:\n",
        "  print(i)\n",
        "  i=i-1"
      ],
      "metadata": {
        "id": "tyxHQd4fHcuZ"
      },
      "execution_count": null,
      "outputs": []
    },
    {
      "cell_type": "code",
      "source": [
        "a=\"Enter a string\"\n",
        "b={}\n",
        "for i in a:\n",
        "  b[i]=a.count(i)\n",
        "print(b)"
      ],
      "metadata": {
        "id": "IoQF67HeHt0s"
      },
      "execution_count": null,
      "outputs": []
    },
    {
      "cell_type": "code",
      "source": [
        "lists=[\"vansh\",\"hello\",\"bye\"]\n",
        "print(lists)"
      ],
      "metadata": {
        "colab": {
          "base_uri": "https://localhost:8080/"
        },
        "id": "W9ymx7tnH5Kc",
        "outputId": "37d9c895-b82f-4e2a-bf91-c33dfbb99bb1"
      },
      "execution_count": null,
      "outputs": [
        {
          "output_type": "stream",
          "name": "stdout",
          "text": [
            "['vansh', 'hello', 'bye']\n"
          ]
        }
      ]
    },
    {
      "cell_type": "code",
      "source": [
        "tuple=(\"vansh\",\"hello\",\"bye\")\n",
        "print(tuple)"
      ],
      "metadata": {
        "colab": {
          "base_uri": "https://localhost:8080/"
        },
        "id": "4t7mi54wH8GB",
        "outputId": "9809c85c-a058-4c9d-d1cf-ccea80c9e067"
      },
      "execution_count": null,
      "outputs": [
        {
          "output_type": "stream",
          "name": "stdout",
          "text": [
            "('vansh', 'hello', 'bye')\n"
          ]
        }
      ]
    },
    {
      "cell_type": "code",
      "source": [
        "for v in lists:\n",
        "  print(v)\n",
        "for v in tuple:\n",
        "  print(v) "
      ],
      "metadata": {
        "colab": {
          "base_uri": "https://localhost:8080/"
        },
        "id": "0MB5H9_gICDG",
        "outputId": "946f39a0-1805-48e9-99e1-326ae21fee52"
      },
      "execution_count": null,
      "outputs": [
        {
          "output_type": "stream",
          "name": "stdout",
          "text": [
            "vansh\n",
            "hello\n",
            "bye\n",
            "vansh\n",
            "hello\n",
            "bye\n"
          ]
        }
      ]
    },
    {
      "cell_type": "code",
      "source": [
        "import random\n",
        "letters = ['a','b','c','d','e','f','g','h','i','j','k','l','m','n','o','p','q','r','s','t','u','v','w','x','y','z','A','B','C','D','F','G','H','I','J','K','L','M','N','O','P','Q','R','S','T','U','V','W','X','Y','Z']\n",
        "\n",
        "numbers = ['0','1','2','3','4','5','6','7','8','9']\n",
        "\n",
        "characters= ['!','@','#','$','%','$','%','&','*','~']\n",
        "\n",
        "n_letters = int(input(\"enter the number of letters you want : \"))\n",
        "n_numbers = int(input(\"enter the number of numbers you want : \"))\n",
        "n_characters = int(input(\"enter the number of characters you want : \"))\n",
        "\n",
        "pas=[]\n",
        "\n",
        "for i in range (0,n_letters):\n",
        "  pas.append(random.choice(letters))\n",
        "for i in range (0,n_numbers):\n",
        "  pas.append(random.choice(numbers))  \n",
        "for i in range (0,n_characters):\n",
        "  pas.append(random.choice(characters))\n",
        "\n",
        "random.shuffle(pas)\n",
        "pasf=\"\".join(pas)\n",
        "print(pasf)"
      ],
      "metadata": {
        "id": "-59CfPMzJS6k",
        "colab": {
          "base_uri": "https://localhost:8080/"
        },
        "outputId": "19e7b51b-e8cb-4010-af0c-113f05288818"
      },
      "execution_count": null,
      "outputs": [
        {
          "output_type": "stream",
          "name": "stdout",
          "text": [
            "enter the number of letters you want : 1\n",
            "enter the number of numbers you want : 1\n",
            "enter the number of characters you want : 1\n",
            "R#9\n"
          ]
        }
      ]
    },
    {
      "cell_type": "code",
      "source": [
        "#reverse a list\n",
        "\n",
        "li = [100,200,300,400,500]\n",
        "li.reverse()\n",
        "print(li)\n",
        "\n",
        "    \n"
      ],
      "metadata": {
        "id": "vZ6uAxFoAw7j",
        "colab": {
          "base_uri": "https://localhost:8080/"
        },
        "outputId": "59fefb27-d592-47b7-c656-704c28635f2c"
      },
      "execution_count": null,
      "outputs": [
        {
          "output_type": "stream",
          "name": "stdout",
          "text": [
            "[500, 400, 300, 200, 100]\n"
          ]
        }
      ]
    },
    {
      "cell_type": "code",
      "source": [
        "l1= [\"M\",\"Na\",\"i\",\"ke\"]\n",
        "l2 = [\"y\",\"me\",\"s\",\"liy\"]\n",
        "l3=[]\n",
        "\n",
        "for i in range(len(l1)):\n",
        "    l3.append(l1[i]+l2[i])\n",
        "     \n",
        "\n",
        "print(l3)         "
      ],
      "metadata": {
        "colab": {
          "base_uri": "https://localhost:8080/"
        },
        "id": "CiWWpSUaZ-jB",
        "outputId": "0af91825-b1f7-4bc2-8498-1cd7fd03b564"
      },
      "execution_count": null,
      "outputs": [
        {
          "output_type": "stream",
          "name": "stdout",
          "text": [
            "['My', 'Name', 'is', 'keliy']\n"
          ]
        }
      ]
    },
    {
      "cell_type": "code",
      "source": [
        "lis=[1,2,3,4,5,6,7]\n",
        "\n",
        "lis2 = []\n",
        "\n",
        "for i in range(len(lis)):\n",
        "\n",
        "  lis2.append(lis[i]*lis[i])\n",
        "\n",
        "print(lis2)"
      ],
      "metadata": {
        "colab": {
          "base_uri": "https://localhost:8080/"
        },
        "id": "F8BrNChmciU5",
        "outputId": "f8be25de-4ed6-402b-f52e-fe7b823241c1"
      },
      "execution_count": null,
      "outputs": [
        {
          "output_type": "stream",
          "name": "stdout",
          "text": [
            "[1, 4, 9, 16, 25, 36, 49]\n"
          ]
        }
      ]
    },
    {
      "cell_type": "code",
      "source": [
        "li1= [\"hello\",\"take\"]\n",
        "li2 = [\"dear\",\"sir\"]\n",
        "li3=[]\n",
        "\n",
        "for i in range(len(li1)):\n",
        "    li3.append(li1[i]+\" \"+li2[i])\n",
        "    if i != j:\n",
        "       for j in range(len(li1)):\n",
        "           li3.append(li1[j]+\" \"+li2[i])\n",
        "    else:\n",
        "       pass\n",
        "\n",
        "     \n",
        "\n",
        "print(li3)"
      ],
      "metadata": {
        "colab": {
          "base_uri": "https://localhost:8080/"
        },
        "id": "sosobJtzd5sE",
        "outputId": "e0294e09-a6ff-46d9-b140-c969fbdb080c"
      },
      "execution_count": null,
      "outputs": [
        {
          "output_type": "stream",
          "name": "stdout",
          "text": [
            "['hello dear', 'hello dear', 'take dear', 'take sir']\n"
          ]
        }
      ]
    }
  ]
}