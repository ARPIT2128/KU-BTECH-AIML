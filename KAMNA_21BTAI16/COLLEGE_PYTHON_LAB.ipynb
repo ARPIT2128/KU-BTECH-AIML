{
  "nbformat": 4,
  "nbformat_minor": 0,
  "metadata": {
    "colab": {
      "name": "Untitled2.ipynb",
      "provenance": [],
      "collapsed_sections": [],
      "authorship_tag": "ABX9TyMT7soZUCcsq4PoXVS9elzM",
      "include_colab_link": true
    },
    "kernelspec": {
      "name": "python3",
      "display_name": "Python 3"
    },
    "language_info": {
      "name": "python"
    }
  },
  "cells": [
    {
      "cell_type": "markdown",
      "metadata": {
        "id": "view-in-github",
        "colab_type": "text"
      },
      "source": [
        "<a href=\"https://colab.research.google.com/github/ARPIT2128/KU-BTECH-AIML/blob/main/KAMNA_21BTAI16/COLLEGE_PYTHON_LAB.ipynb\" target=\"_parent\"><img src=\"https://colab.research.google.com/assets/colab-badge.svg\" alt=\"Open In Colab\"/></a>"
      ]
    },
    {
      "cell_type": "code",
      "execution_count": 1,
      "metadata": {
        "colab": {
          "base_uri": "https://localhost:8080/"
        },
        "id": "ZMlBwhi8Hhfe",
        "outputId": "715d274a-af8d-4276-ba5b-fccc82169547"
      },
      "outputs": [
        {
          "output_type": "stream",
          "name": "stdout",
          "text": [
            "type of a:  <class 'int'>\n",
            "\n",
            " type of b:  <class 'float'>\n",
            "\n",
            " type of c:  <class 'complex'>\n"
          ]
        }
      ],
      "source": [
        "a=29\n",
        "print(\"type of a: \",type(a))\n",
        "b=87.0\n",
        "print(\"\\n type of b: \",type(b))\n",
        "c=8+1j\n",
        "print(\"\\n type of c: \",type(c))"
      ]
    },
    {
      "cell_type": "code",
      "source": [
        "a1=float(input('Enter a1: '))\n",
        "b1=float(input('Enter b1: '))\n",
        "a2=float(input('Enter a2: '))\n",
        "b2=float(input('Enter b2: '))\n",
        "d=((a2-a1)**2 + (b2-b1)**2)**0.5\n",
        "print('\\n Diatance= %f' %(d))"
      ],
      "metadata": {
        "colab": {
          "base_uri": "https://localhost:8080/"
        },
        "id": "h1c3ssXCbCcq",
        "outputId": "74748132-9f07-4843-b207-2b9eee9b4668"
      },
      "execution_count": 2,
      "outputs": [
        {
          "output_type": "stream",
          "name": "stdout",
          "text": [
            "Enter a1: 9\n",
            "Enter b1: 6\n",
            "Enter a2: 5\n",
            "Enter b2: 6\n",
            "\n",
            " Diatance= 4.000000\n"
          ]
        }
      ]
    },
    {
      "cell_type": "code",
      "source": [
        "x=(input('Enter value: '))\n",
        "if (type(x)) == int:\n",
        "  print('The variable is a number')\n",
        "else:\n",
        "  print('The variable is not anumber')\n",
        "num = int(input('Enter a number: '))\n",
        "mod = num%2\n",
        "if mod>0:\n",
        "  print(\"This is an odd number\")\n",
        "else:\n",
        "  print(\"This is an even number\")"
      ],
      "metadata": {
        "colab": {
          "base_uri": "https://localhost:8080/"
        },
        "id": "KlKP4JHVfiEO",
        "outputId": "7a2d1e6f-416a-4831-afb6-89fa3f29f731"
      },
      "execution_count": 3,
      "outputs": [
        {
          "output_type": "stream",
          "name": "stdout",
          "text": [
            "Enter value: 2\n",
            "The variable is not anumber\n",
            "Enter a number: 34\n",
            "This is an even number\n"
          ]
        }
      ]
    },
    {
      "cell_type": "code",
      "source": [
        "num = int(input(\"Enter a number: \"))\n",
        "sum = 0\n",
        "temp = num\n",
        "while temp > 0:\n",
        "  digit=temp%10\n",
        "  sum+=digit**3\n",
        "  temp//=10\n",
        "if num == sum:\n",
        "  print(\"The number is an armstrong number.\")\n",
        "else:\n",
        "  print(\"The number is not an armstrong number.\")"
      ],
      "metadata": {
        "colab": {
          "base_uri": "https://localhost:8080/"
        },
        "id": "r-feqbBufyGO",
        "outputId": "37b964d3-ae73-4ae7-8663-65957fd19622"
      },
      "execution_count": 4,
      "outputs": [
        {
          "output_type": "stream",
          "name": "stdout",
          "text": [
            "Enter a number: 154\n",
            "The number is not an armstrong number.\n"
          ]
        }
      ]
    },
    {
      "cell_type": "code",
      "source": [
        "num=int(input(\"Enter your number: \"))\n",
        "while(num>=0):\n",
        "  print(num)\n",
        "  num=num-1"
      ],
      "metadata": {
        "colab": {
          "base_uri": "https://localhost:8080/"
        },
        "id": "5q7V3NdkgbX_",
        "outputId": "fe2d7548-16b8-466a-bff8-bb5b8df6f3f7"
      },
      "execution_count": 7,
      "outputs": [
        {
          "output_type": "stream",
          "name": "stdout",
          "text": [
            "Enter your number: 8\n",
            "8\n",
            "7\n",
            "6\n",
            "5\n",
            "4\n",
            "3\n",
            "2\n",
            "1\n",
            "0\n"
          ]
        }
      ]
    },
    {
      "cell_type": "code",
      "source": [
        "print()\n",
        "s=input(\"Enter a string: \")\n",
        "print()\n",
        "d={}\n",
        "i=0\n",
        "for j in s:\n",
        "  d[i]=j\n",
        "  i+=1\n",
        "print(d)  "
      ],
      "metadata": {
        "colab": {
          "base_uri": "https://localhost:8080/"
        },
        "id": "CqINdroJhDyN",
        "outputId": "8525667c-3ff5-4a6b-9bd4-d56bc6a1a54c"
      },
      "execution_count": 8,
      "outputs": [
        {
          "output_type": "stream",
          "name": "stdout",
          "text": [
            "\n",
            "Enter a string: 23\n",
            "\n",
            "{0: '2', 1: '3'}\n"
          ]
        }
      ]
    },
    {
      "cell_type": "code",
      "source": [
        "print()\n",
        "n1=int(input(\"Enter number of items to be added in the list: \"))\n",
        "print()\n",
        "1=[]\n",
        "for i in range(n1):\n",
        " 1.append(input(\"Enter element: \"))\n",
        "print()\n",
        "print(\"List: \",1)\n",
        "print()\n",
        "n2=int(input(\"Enter number of items to be added in the tuple: \"))\n",
        "print()\n",
        "t=tuple()\n",
        "for i in range(n2):\n",
        "  e=int(input(\"Enter element: \"))\n",
        "  t=t*(e)\n",
        "print()\n",
        "print(\"Tuple: \",t)    "
      ],
      "metadata": {
        "id": "vHgZahnNhfTc"
      },
      "execution_count": null,
      "outputs": []
    }
  ]
}