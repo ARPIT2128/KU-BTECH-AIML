{
  "nbformat": 4,
  "nbformat_minor": 0,
  "metadata": {
    "colab": {
      "name": "Untitled3.ipynb",
      "provenance": [],
      "collapsed_sections": [],
      "authorship_tag": "ABX9TyPFxNylR16llYloTwzd9eRD",
      "include_colab_link": true
    },
    "kernelspec": {
      "name": "python3",
      "display_name": "Python 3"
    },
    "language_info": {
      "name": "python"
    }
  },
  "cells": [
    {
      "cell_type": "markdown",
      "metadata": {
        "id": "view-in-github",
        "colab_type": "text"
      },
      "source": [
        "<a href=\"https://colab.research.google.com/github/ARPIT2128/KU-BTECH-AIML/blob/main/KAMNA_21BTAI16/COLLEGE_PYTHON_LAB.ipynb\" target=\"_parent\"><img src=\"https://colab.research.google.com/assets/colab-badge.svg\" alt=\"Open In Colab\"/></a>"
      ]
    },
    {
      "cell_type": "code",
      "execution_count": 7,
      "metadata": {
        "colab": {
          "base_uri": "https://localhost:8080/"
        },
        "id": "s09RP0VAcRep",
        "outputId": "d3f177a8-ac14-400e-9586-25590b1602e3"
      },
      "outputs": [
        {
          "output_type": "stream",
          "name": "stdout",
          "text": [
            "Enter value: 8\n",
            "The variable is not anumber\n",
            "Enter a number: 65\n",
            "This is an odd number\n"
          ]
        }
      ],
      "source": [
        "x=(input('Enter value: '))\n",
        "if (type(x)) == int:\n",
        "  print('The variable is a number')\n",
        "else:\n",
        "  print('The variable is not anumber')\n",
        "num = int(input('Enter a number: '))\n",
        "mod = num%2\n",
        "if mod>0:\n",
        "  print(\"This is an odd number\")\n",
        "else:\n",
        "  print(\"This is an even number\")     "
      ]
    },
    {
      "cell_type": "code",
      "source": [
        "num = int(input(\"Enter a number: \"))\n",
        "sum = 0\n",
        "temp = num\n",
        "while temp > 0:\n",
        "  digit=temp%10\n",
        "  sum+=digit**3\n",
        "  temp//=10\n",
        "if num == sum:\n",
        "  print(\"The number is an armstrong number.\")\n",
        "else:\n",
        "  print(\"The number is not an armstrong number.\")   "
      ],
      "metadata": {
        "colab": {
          "base_uri": "https://localhost:8080/"
        },
        "id": "XUZah8h-djg4",
        "outputId": "038c0a1b-cbf6-409f-a691-5a16d819e2e9"
      },
      "execution_count": 6,
      "outputs": [
        {
          "output_type": "stream",
          "name": "stdout",
          "text": [
            "Enter a number: 123\n",
            "The number is not an armstrong number.\n"
          ]
        }
      ]
    }
  ]
}