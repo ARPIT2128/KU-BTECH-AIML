{
  "nbformat": 4,
  "nbformat_minor": 0,
  "metadata": {
    "colab": {
      "name": "Untitled2.ipynb",
      "provenance": [],
      "authorship_tag": "ABX9TyOj1nXScxc88lSzWDFQhBd/",
      "include_colab_link": true
    },
    "kernelspec": {
      "name": "python3",
      "display_name": "Python 3"
    },
    "language_info": {
      "name": "python"
    }
  },
  "cells": [
    {
      "cell_type": "markdown",
      "metadata": {
        "id": "view-in-github",
        "colab_type": "text"
      },
      "source": [
        "<a href=\"https://colab.research.google.com/github/ARPIT2128/KU-BTECH-AIML/blob/main/KAMNA_21BTAI16/COLLEGE_PYTHON_LAB.ipynb\" target=\"_parent\"><img src=\"https://colab.research.google.com/assets/colab-badge.svg\" alt=\"Open In Colab\"/></a>"
      ]
    },
    {
      "cell_type": "code",
      "execution_count": 1,
      "metadata": {
        "colab": {
          "base_uri": "https://localhost:8080/"
        },
        "id": "ZMlBwhi8Hhfe",
        "outputId": "715d274a-af8d-4276-ba5b-fccc82169547"
      },
      "outputs": [
        {
          "output_type": "stream",
          "name": "stdout",
          "text": [
            "type of a:  <class 'int'>\n",
            "\n",
            " type of b:  <class 'float'>\n",
            "\n",
            " type of c:  <class 'complex'>\n"
          ]
        }
      ],
      "source": [
        "a=29\n",
        "print(\"type of a: \",type(a))\n",
        "b=87.0\n",
        "print(\"\\n type of b: \",type(b))\n",
        "c=8+1j\n",
        "print(\"\\n type of c: \",type(c))"
      ]
    },
    {
      "cell_type": "code",
      "source": [
        "a1=float(input('Enter a1: '))\n",
        "b1=float(input('Enter b1: '))\n",
        "a2=float(input('Enter a2: '))\n",
        "b2=float(input('Enter b2: '))\n",
        "d=((a2-a1)**2 + (b2-b1)**2)**0.5\n",
        "print('\\n Diatance= %f' %(d))"
      ],
      "metadata": {
        "colab": {
          "base_uri": "https://localhost:8080/"
        },
        "id": "h1c3ssXCbCcq",
        "outputId": "74748132-9f07-4843-b207-2b9eee9b4668"
      },
      "execution_count": 2,
      "outputs": [
        {
          "output_type": "stream",
          "name": "stdout",
          "text": [
            "Enter a1: 9\n",
            "Enter b1: 6\n",
            "Enter a2: 5\n",
            "Enter b2: 6\n",
            "\n",
            " Diatance= 4.000000\n"
          ]
        }
      ]
    }
  ]
}