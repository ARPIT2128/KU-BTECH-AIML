{
  "nbformat": 4,
  "nbformat_minor": 0,
  "metadata": {
    "colab": {
      "name": "Untitled3.ipynb",
      "provenance": [],
      "authorship_tag": "ABX9TyPKQO2fWV+Z2TYBhGo3JMlF",
      "include_colab_link": true
    },
    "kernelspec": {
      "name": "python3",
      "display_name": "Python 3"
    },
    "language_info": {
      "name": "python"
    }
  },
  "cells": [
    {
      "cell_type": "markdown",
      "metadata": {
        "id": "view-in-github",
        "colab_type": "text"
      },
      "source": [
        "<a href=\"https://colab.research.google.com/github/ARPIT2128/KU-BTECH-AIML/blob/main/pal_21btai30/python_programming.ipynb\" target=\"_parent\"><img src=\"https://colab.research.google.com/assets/colab-badge.svg\" alt=\"Open In Colab\"/></a>"
      ]
    },
    {
      "cell_type": "code",
      "execution_count": null,
      "metadata": {
        "id": "TxG3QXpzQhdo"
      },
      "outputs": [],
      "source": [
        "x1 = float(input('Enter x1: '))\n",
        "y1 = float(input('Enter y1: '))\n",
        "x2 = float(input('Enter x2: '))\n",
        "y2 = float(input('Enter y2: '))\n",
        "\n",
        "# Calculating distance\n",
        "d = ( (x2-x1)**2 + (y2-y1)**2 ) ** 0.5\n",
        "\n",
        "# Displaying result\n",
        "print('Distance = %f' %(d))\n"
      ]
    },
    {
      "cell_type": "code",
      "source": [
        "x=9\n",
        "print(\"type of x:\",type (x))\n",
        "y=7.0\n",
        "print(\"\\n type of y:\",type (y))\n",
        "z=2+4j\n",
        "print(\"\\n type of z:\",type (z))\n",
        "\n"
      ],
      "metadata": {
        "id": "w7_jyNx-QpqS"
      },
      "execution_count": null,
      "outputs": []
    },
    {
      "cell_type": "code",
      "source": [
        "x = (input('Enter value:'))\n",
        "if (type(x)) == int:\n",
        "    print('The variable a number')\n",
        "else:\n",
        "    print('The variable is not a number')\n",
        "num = int(input(\"Enter a number: \"))\n",
        "mod = num % 2\n",
        "if mod > 0:\n",
        "    print(\"This is an odd number.\")\n",
        "else:\n",
        "    print(\"This is an even number.\")\n",
        "\n"
      ],
      "metadata": {
        "id": "ztRWaeqdQtb4"
      },
      "execution_count": null,
      "outputs": []
    },
    {
      "cell_type": "code",
      "source": [
        "num = int(input(\"Enter a number: \"))\n",
        "\n",
        "sum = 0\n",
        "\n",
        "temp = num\n",
        "while temp > 0:\n",
        "   digit = temp % 10\n",
        "   sum += digit ** 3\n",
        "   temp //= 10\n",
        "\n",
        "if num == sum:\n",
        "   print(num,\"is an Armstrong number\")\n",
        "else:\n",
        "   print(num,\"is not an Armstrong number\")\n",
        "\n"
      ],
      "metadata": {
        "id": "f6RuWs2RQ1Gq"
      },
      "execution_count": null,
      "outputs": []
    },
    {
      "cell_type": "code",
      "source": [
        "num=int(input(\"Enter your number: \"))\n",
        "\n",
        "while(num>=0):\n",
        "\n",
        "    print(num)\n",
        "\n",
        "    num=num-1\n",
        "\n"
      ],
      "metadata": {
        "id": "rpwomq90Q41I"
      },
      "execution_count": null,
      "outputs": []
    },
    {
      "cell_type": "code",
      "source": [
        "print()\n",
        "\n",
        "s=input(\"Enter a string: \")\n",
        "\n",
        "print()\n",
        "d={}\n",
        "i=0\n",
        "\n",
        "for j in s:\n",
        "  d[i]=j\n",
        "  i+=1\n",
        "\n",
        "print(d)\n",
        "\n"
      ],
      "metadata": {
        "id": "8TmsSpIhQ81s"
      },
      "execution_count": null,
      "outputs": []
    },
    {
      "cell_type": "code",
      "source": [
        "print()\n",
        "\n",
        "n1=int(input(\"Enter number of items to be added in the list: \"))\n",
        "\n",
        "print()\n",
        "\n",
        "l=[]\n",
        "\n",
        "for i in range(n1):\n",
        "  l.append(input(\"Enter element: \"))\n",
        "\n",
        "print()\n",
        "\n",
        "print(\"List:\",l)\n",
        "\n",
        "print()\n",
        "\n",
        "n2 = int(input(\"Enter number of items to be added in the tuple: \"))\n",
        "\n",
        "print()\n",
        "\n",
        "t=tuple()\n",
        "\n",
        "for i in range(n2):\n",
        "  e=int(input(\"Enter element: \"))\n",
        "  t=t+(e,)\n",
        "\n",
        "print()\n",
        "\n",
        "print(\"Tuple:\",t)\n",
        "\n"
      ],
      "metadata": {
        "id": "1NmHoYpkREtj"
      },
      "execution_count": null,
      "outputs": []
    }
  ]
}