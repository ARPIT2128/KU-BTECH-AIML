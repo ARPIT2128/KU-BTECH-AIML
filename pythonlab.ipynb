{
  "nbformat": 4,
  "nbformat_minor": 0,
  "metadata": {
    "colab": {
      "name": "pythonlab.ipynb",
      "provenance": [],
      "collapsed_sections": [],
      "authorship_tag": "ABX9TyMb+ZUc10jpXQyK7t2btvI3",
      "include_colab_link": true
    },
    "kernelspec": {
      "name": "python3",
      "display_name": "Python 3"
    },
    "language_info": {
      "name": "python"
    }
  },
  "cells": [
    {
      "cell_type": "markdown",
      "metadata": {
        "id": "view-in-github",
        "colab_type": "text"
      },
      "source": [
        "<a href=\"https://colab.research.google.com/github/ARPIT2128/KU-BTECH-AIML/blob/main/pythonlab.ipynb\" target=\"_parent\"><img src=\"https://colab.research.google.com/assets/colab-badge.svg\" alt=\"Open In Colab\"/></a>"
      ]
    },
    {
      "cell_type": "markdown",
      "source": [
        "Program 1"
      ],
      "metadata": {
        "id": "p2KFdpA5Ym_N"
      }
    },
    {
      "cell_type": "code",
      "execution_count": null,
      "metadata": {
        "colab": {
          "base_uri": "https://localhost:8080/"
        },
        "id": "byXwW4C2-oWl",
        "outputId": "2b18639f-7638-492c-d811-3f9c124bf147"
      },
      "outputs": [
        {
          "output_type": "stream",
          "name": "stdout",
          "text": [
            "<class 'int'>\n"
          ]
        }
      ],
      "source": [
        "a=10\n",
        "print(type(a))"
      ]
    },
    {
      "cell_type": "code",
      "source": [
        "b=12,13\n",
        "print(type(b))"
      ],
      "metadata": {
        "colab": {
          "base_uri": "https://localhost:8080/"
        },
        "id": "FbhbKdnQY9qX",
        "outputId": "ade59463-718e-46ef-cd3f-f9c7683b0291"
      },
      "execution_count": 2,
      "outputs": [
        {
          "output_type": "stream",
          "name": "stdout",
          "text": [
            "<class 'tuple'>\n"
          ]
        }
      ]
    },
    {
      "cell_type": "code",
      "source": [
        "c=3+5j\n",
        "print(type(c))"
      ],
      "metadata": {
        "colab": {
          "base_uri": "https://localhost:8080/"
        },
        "id": "l7V0NL_fZFBo",
        "outputId": "032c45b4-9fc8-4174-f300-7cb75109022a"
      },
      "execution_count": 3,
      "outputs": [
        {
          "output_type": "stream",
          "name": "stdout",
          "text": [
            "<class 'complex'>\n"
          ]
        }
      ]
    },
    {
      "cell_type": "code",
      "source": [
        "d=(\"Hello\")\n",
        "print(type(d))"
      ],
      "metadata": {
        "colab": {
          "base_uri": "https://localhost:8080/"
        },
        "id": "hUAO5y66ZLTN",
        "outputId": "e2ede819-af98-4d31-8f23-15be462d0e4f"
      },
      "execution_count": 4,
      "outputs": [
        {
          "output_type": "stream",
          "name": "stdout",
          "text": [
            "<class 'str'>\n"
          ]
        }
      ]
    },
    {
      "cell_type": "code",
      "source": [
        "e=['blue']\n",
        "print(type(e))"
      ],
      "metadata": {
        "colab": {
          "base_uri": "https://localhost:8080/"
        },
        "id": "blcvTHFEZPwk",
        "outputId": "8c80de31-7d4a-4c57-d5d8-c9a64632efc4"
      },
      "execution_count": 5,
      "outputs": [
        {
          "output_type": "stream",
          "name": "stdout",
          "text": [
            "<class 'list'>\n"
          ]
        }
      ]
    },
    {
      "cell_type": "code",
      "source": [
        "f=tuple((\"blue\"))\n",
        "print(type(f))"
      ],
      "metadata": {
        "colab": {
          "base_uri": "https://localhost:8080/"
        },
        "id": "bsywm87MZX4r",
        "outputId": "5358abc5-2b47-42c1-941c-397800f55fc7"
      },
      "execution_count": 6,
      "outputs": [
        {
          "output_type": "stream",
          "name": "stdout",
          "text": [
            "<class 'tuple'>\n"
          ]
        }
      ]
    },
    {
      "cell_type": "code",
      "source": [
        "g=dict(Name = \"blue\" , work = \"Study\")\n",
        "print(type(g))"
      ],
      "metadata": {
        "colab": {
          "base_uri": "https://localhost:8080/"
        },
        "id": "MJWkzLKrZdIx",
        "outputId": "4afe7029-38be-4bde-923e-365ce798a921"
      },
      "execution_count": 7,
      "outputs": [
        {
          "output_type": "stream",
          "name": "stdout",
          "text": [
            "<class 'dict'>\n"
          ]
        }
      ]
    },
    {
      "cell_type": "code",
      "source": [
        "h=True \n",
        "print(type(h))"
      ],
      "metadata": {
        "colab": {
          "base_uri": "https://localhost:8080/"
        },
        "id": "tOkwN1EpZluR",
        "outputId": "01387e34-7f87-47bd-8610-142e810658a2"
      },
      "execution_count": 8,
      "outputs": [
        {
          "output_type": "stream",
          "name": "stdout",
          "text": [
            "<class 'bool'>\n"
          ]
        }
      ]
    },
    {
      "cell_type": "code",
      "source": [
        "i=False\n",
        "print(type(i))"
      ],
      "metadata": {
        "colab": {
          "base_uri": "https://localhost:8080/"
        },
        "id": "m3XzBBXQZpfF",
        "outputId": "311bbaf6-a31f-4434-9dee-f6bd80a7b0a8"
      },
      "execution_count": 9,
      "outputs": [
        {
          "output_type": "stream",
          "name": "stdout",
          "text": [
            "<class 'bool'>\n"
          ]
        }
      ]
    },
    {
      "cell_type": "code",
      "source": [
        "y={'parmar', 20}\n",
        "print(type(y))"
      ],
      "metadata": {
        "colab": {
          "base_uri": "https://localhost:8080/"
        },
        "id": "QzdTayrTZtqf",
        "outputId": "cae1bb1f-d35e-416d-9dc3-f36aed789cea"
      },
      "execution_count": 10,
      "outputs": [
        {
          "output_type": "stream",
          "name": "stdout",
          "text": [
            "<class 'set'>\n"
          ]
        }
      ]
    },
    {
      "cell_type": "markdown",
      "source": [
        "Program 2"
      ],
      "metadata": {
        "id": "jGl98fDJaCP0"
      }
    },
    {
      "cell_type": "code",
      "source": [
        "import math\n",
        "x1 = int(input(\"Enter Number x1: \"))\n",
        "\n",
        "y1 = int(input(\"Enter Number y1: \"))\n",
        "\n",
        "x2 = int(input(\"Enter Number x2: \"))\n",
        "\n",
        "y2 = int(input(\"Enter Number y2: \"))\n",
        "\n",
        "distance = math.sqrt((x1 - x2) ** 2 + (y1 - y2) ** 2)\n",
        "print(\"distance between\", (x1, y1), \"and\", (x2, y2), \"is: \", distance)"
      ],
      "metadata": {
        "colab": {
          "base_uri": "https://localhost:8080/"
        },
        "id": "uw6l_oiuaEnd",
        "outputId": "42a4fb65-f980-4730-ec3d-c7421f1bb1f7"
      },
      "execution_count": 11,
      "outputs": [
        {
          "output_type": "stream",
          "name": "stdout",
          "text": [
            "Enter Number x1: 4\n",
            "Enter Number y1: 5\n",
            "Enter Number x2: 1\n",
            "Enter Number y2: 1\n",
            "distance between (4, 5) and (1, 1) is:  5.0\n"
          ]
        }
      ]
    },
    {
      "cell_type": "markdown",
      "source": [
        "Program 3"
      ],
      "metadata": {
        "id": "wq05X9Jcaz2Q"
      }
    },
    {
      "cell_type": "code",
      "source": [
        "#a\n",
        "p=int(input(\"Enter a number : \"))\n",
        "if p%2==0:\n",
        "  print(\"even\")\n",
        "else:\n",
        "  print(\"odd\")"
      ],
      "metadata": {
        "colab": {
          "base_uri": "https://localhost:8080/"
        },
        "id": "jE-TE208a15w",
        "outputId": "37ad4df5-750a-4682-c933-529b0b3eb04c"
      },
      "execution_count": 12,
      "outputs": [
        {
          "output_type": "stream",
          "name": "stdout",
          "text": [
            "Enter a number : 24\n",
            "even\n"
          ]
        }
      ]
    },
    {
      "cell_type": "code",
      "source": [
        "#a\n",
        "num=(input(\"Enter the number: \"))\n",
        "if num[0].isalpha ():\n",
        "  print (\"please enter integer number\")\n",
        "  num=int(input(\"Enter the integer number: \"))\n",
        "if int(num)%2==0:\n",
        "  print(\"given number is even\")\n",
        "else:\n",
        "  print(\"given number is odd\")"
      ],
      "metadata": {
        "colab": {
          "base_uri": "https://localhost:8080/"
        },
        "id": "BHUO8N8gbSc7",
        "outputId": "d967a5b0-d504-48b7-99fb-a3e31650aa84"
      },
      "execution_count": 19,
      "outputs": [
        {
          "output_type": "stream",
          "name": "stdout",
          "text": [
            "Enter the number: sdf\n",
            "please enter integer number\n",
            "Enter the integer number: 26\n",
            "given number is even\n"
          ]
        }
      ]
    },
    {
      "cell_type": "code",
      "source": [
        "#b\n",
        "num = int(input(\"Enter a number: \"))\n",
        "s=0\n",
        "a=num\n",
        "while a>0:\n",
        "  digit = a%10\n",
        "  s+=digit**3\n",
        "  a//=10\n",
        "if num==s:\n",
        "  print(num, \"is a armstrong number\")\n",
        "else:\n",
        "  print(num, \"is not a armstrong number\")\n",
        "  "
      ],
      "metadata": {
        "colab": {
          "base_uri": "https://localhost:8080/"
        },
        "id": "Ztao9s7VcC6u",
        "outputId": "3479702c-b20e-4073-be78-6d2417282748"
      },
      "execution_count": 20,
      "outputs": [
        {
          "output_type": "stream",
          "name": "stdout",
          "text": [
            "Enter a number: 426\n",
            "426 is not a armstrong number\n"
          ]
        }
      ]
    },
    {
      "cell_type": "markdown",
      "source": [
        "Program 4"
      ],
      "metadata": {
        "id": "AsLBb7pxcsVC"
      }
    },
    {
      "cell_type": "code",
      "source": [
        "q=int(input(\"Enter a number : \"))\n",
        "i=0\n",
        "while i<=q:\n",
        "  print(i)\n",
        "  i = i+1"
      ],
      "metadata": {
        "colab": {
          "base_uri": "https://localhost:8080/"
        },
        "id": "JlHN-V8Ectmb",
        "outputId": "0c56810a-200a-456a-cbff-60435ddf48f1"
      },
      "execution_count": 21,
      "outputs": [
        {
          "output_type": "stream",
          "name": "stdout",
          "text": [
            "Enter a number : 4\n",
            "0\n",
            "1\n",
            "2\n",
            "3\n",
            "4\n"
          ]
        }
      ]
    },
    {
      "cell_type": "markdown",
      "source": [
        "Program 5"
      ],
      "metadata": {
        "id": "YoA1fnTFc8HJ"
      }
    },
    {
      "cell_type": "code",
      "source": [
        "a=str(input(\"Enter a string: \"))\n",
        "b={}\n",
        "for i in a :\n",
        "  b[i] = a.count(i)\n",
        "print(b)"
      ],
      "metadata": {
        "colab": {
          "base_uri": "https://localhost:8080/"
        },
        "id": "t0550Lnrc89S",
        "outputId": "13e20d14-278a-4629-d033-bea186aa197e"
      },
      "execution_count": 22,
      "outputs": [
        {
          "output_type": "stream",
          "name": "stdout",
          "text": [
            "Enter a string: shanghai\n",
            "{'s': 1, 'h': 2, 'a': 2, 'n': 1, 'g': 1, 'i': 1}\n"
          ]
        }
      ]
    },
    {
      "cell_type": "markdown",
      "source": [
        "Program 6"
      ],
      "metadata": {
        "id": "yjXxgpRgjLcg"
      }
    },
    {
      "cell_type": "code",
      "source": [
        "list = [\"blue\", \"birds\", \"sky\"]\n",
        "print(list)"
      ],
      "metadata": {
        "colab": {
          "base_uri": "https://localhost:8080/"
        },
        "id": "CKp30j1rjMkU",
        "outputId": "86c89d4b-2498-4501-9677-f3f0b269224f"
      },
      "execution_count": 23,
      "outputs": [
        {
          "output_type": "stream",
          "name": "stdout",
          "text": [
            "['blue', 'birds', 'sky']\n"
          ]
        }
      ]
    },
    {
      "cell_type": "code",
      "source": [
        "tuple = (\"blue\", \"ocean\", \"water\")\n",
        "print(tuple)"
      ],
      "metadata": {
        "colab": {
          "base_uri": "https://localhost:8080/"
        },
        "id": "nmTtjbkbjmT-",
        "outputId": "9ddfb553-2098-4c01-94ab-7f3d7167726a"
      },
      "execution_count": 24,
      "outputs": [
        {
          "output_type": "stream",
          "name": "stdout",
          "text": [
            "('blue', 'ocean', 'water')\n"
          ]
        }
      ]
    },
    {
      "cell_type": "code",
      "source": [
        "for i in list:\n",
        "  print(i)\n",
        "for i in tuple:\n",
        "  print(i)"
      ],
      "metadata": {
        "colab": {
          "base_uri": "https://localhost:8080/"
        },
        "id": "ZhehQV9-jt0i",
        "outputId": "ec0cc7e4-4d4b-4585-e74f-5b525d08b3f2"
      },
      "execution_count": 25,
      "outputs": [
        {
          "output_type": "stream",
          "name": "stdout",
          "text": [
            "blue\n",
            "birds\n",
            "sky\n",
            "blue\n",
            "ocean\n",
            "water\n"
          ]
        }
      ]
    }
  ]
}