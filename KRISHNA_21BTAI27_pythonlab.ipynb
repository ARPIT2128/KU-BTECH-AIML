{
  "nbformat": 4,
  "nbformat_minor": 0,
  "metadata": {
    "colab": {
      "name": "KRISHNA_21BTAI27.pythonlab",
      "provenance": [],
      "collapsed_sections": [],
      "authorship_tag": "ABX9TyNR1cCpgCuqig2oT4dm1csN",
      "include_colab_link": true
    },
    "kernelspec": {
      "name": "python3",
      "display_name": "Python 3"
    },
    "language_info": {
      "name": "python"
    }
  },
  "cells": [
    {
      "cell_type": "markdown",
      "metadata": {
        "id": "view-in-github",
        "colab_type": "text"
      },
      "source": [
        "<a href=\"https://colab.research.google.com/github/ARPIT2128/KU-BTECH-AIML/blob/main/KRISHNA_21BTAI27_pythonlab.ipynb\" target=\"_parent\"><img src=\"https://colab.research.google.com/assets/colab-badge.svg\" alt=\"Open In Colab\"/></a>"
      ]
    },
    {
      "cell_type": "code",
      "execution_count": 1,
      "metadata": {
        "id": "o0nnsfWdUOMm",
        "colab": {
          "base_uri": "https://localhost:8080/"
        },
        "outputId": "3ce95b71-4498-455d-d155-744e41003243"
      },
      "outputs": [
        {
          "output_type": "stream",
          "name": "stdout",
          "text": [
            "enter x1 : 5\n",
            "enter x2 : 2\n",
            "enter y1 : 5\n",
            "enter y2 : 2\n",
            "distance between (5, 2) and (5, 2) is :  4.242640687119285\n"
          ]
        }
      ],
      "source": [
        "x1=int(input(\"enter x1 : \"))\n",
        "\n",
        "x2=int(input(\"enter x2 : \"))\n",
        "\n",
        "y1=int(input(\"enter y1 : \"))\n",
        "\n",
        "y2=int(input(\"enter y2 : \"))\n",
        "\n",
        "result= ((((x2 - x1 )**2) + ((y2-y1)**2) )**0.5)\n",
        "\n",
        "print(\"distance between\",(x1,x2),\"and\",(y1,y2),\"is : \",result)"
      ]
    },
    {
      "cell_type": "code",
      "source": [
        "l = [1,2,3,\"hello\"]\n",
        "t = (1,2,3,\"hello world\")\n",
        "\n",
        "print(type(l))\n",
        "print(type(t))\n",
        "print(l,t)"
      ],
      "metadata": {
        "colab": {
          "base_uri": "https://localhost:8080/"
        },
        "id": "nD6bJD14qe7-",
        "outputId": "049c6a5d-ac6c-42fc-8fc5-a84c2c72692f"
      },
      "execution_count": 2,
      "outputs": [
        {
          "output_type": "stream",
          "name": "stdout",
          "text": [
            "<class 'list'>\n",
            "<class 'tuple'>\n",
            "[1, 2, 3, 'hello'] (1, 2, 3, 'hello world')\n"
          ]
        }
      ]
    },
    {
      "cell_type": "code",
      "source": [
        "l = list(input())\n",
        "for i in range (len(l)):\n",
        "  print(l[i])\n",
        "  print(i)"
      ],
      "metadata": {
        "colab": {
          "base_uri": "https://localhost:8080/"
        },
        "id": "Uj9y6y9spyox",
        "outputId": "44b20db1-7efa-4bf0-ac9b-5ae62bfec7d3"
      },
      "execution_count": 3,
      "outputs": [
        {
          "output_type": "stream",
          "name": "stdout",
          "text": [
            "5\n",
            "5\n",
            "0\n"
          ]
        }
      ]
    },
    {
      "cell_type": "code",
      "source": [
        ""
      ],
      "metadata": {
        "id": "tIqc9bH9rBzw"
      },
      "execution_count": null,
      "outputs": []
    }
  ]
}