{
  "nbformat": 4,
  "nbformat_minor": 0,
  "metadata": {
    "colab": {
      "name": "pythonlab.ipynb",
      "provenance": [],
      "authorship_tag": "ABX9TyMDAhw2HK3Q1bjoe+/RnLyJ",
      "include_colab_link": true
    },
    "kernelspec": {
      "name": "python3",
      "display_name": "Python 3"
    },
    "language_info": {
      "name": "python"
    }
  },
  "cells": [
    {
      "cell_type": "markdown",
      "metadata": {
        "id": "view-in-github",
        "colab_type": "text"
      },
      "source": [
        "<a href=\"https://colab.research.google.com/github/ARPIT2128/KU-BTECH-AIML/blob/main/pythonlab_21BTAI49.ipynb\" target=\"_parent\"><img src=\"https://colab.research.google.com/assets/colab-badge.svg\" alt=\"Open In Colab\"/></a>"
      ]
    },
    {
      "cell_type": "markdown",
      "source": [
        "Expriment - 1 \n"
      ],
      "metadata": {
        "id": "znrqyYZliD_9"
      }
    },
    {
      "cell_type": "code",
      "execution_count": 1,
      "metadata": {
        "colab": {
          "base_uri": "https://localhost:8080/"
        },
        "id": "mD_QjeDQemjy",
        "outputId": "abd2d17d-5293-439a-b5d7-172d456c6719"
      },
      "outputs": [
        {
          "output_type": "stream",
          "name": "stdout",
          "text": [
            "<class 'str'>\n"
          ]
        }
      ],
      "source": [
        "#write a program to demonst\n",
        "x = \"HulkSmash\"\n",
        "print(type(x))"
      ]
    },
    {
      "cell_type": "code",
      "source": [
        "#Indentaion Error\n",
        "x=\"HulkSmash\"\n",
        "print(type(x))"
      ],
      "metadata": {
        "colab": {
          "base_uri": "https://localhost:8080/"
        },
        "id": "3Oz4YZsJf1w3",
        "outputId": "65a013fd-cb73-4e1c-ee0d-ae179a95db5d"
      },
      "execution_count": 5,
      "outputs": [
        {
          "output_type": "stream",
          "name": "stdout",
          "text": [
            "<class 'str'>\n"
          ]
        }
      ]
    },
    {
      "cell_type": "code",
      "source": [
        "c=float(input(\"enter the float value:\"))\n",
        "print(c)\n",
        "type(c)"
      ],
      "metadata": {
        "colab": {
          "base_uri": "https://localhost:8080/"
        },
        "id": "oe8CC2gUiOEa",
        "outputId": "400edde7-0f52-4e4f-cad1-ec6d26960f19"
      },
      "execution_count": 19,
      "outputs": [
        {
          "output_type": "stream",
          "name": "stdout",
          "text": [
            "enter the float value:7\n",
            "7.0\n"
          ]
        },
        {
          "output_type": "execute_result",
          "data": {
            "text/plain": [
              "float"
            ]
          },
          "metadata": {},
          "execution_count": 19
        }
      ]
    },
    {
      "cell_type": "markdown",
      "source": [
        "Expriment - 2 \n"
      ],
      "metadata": {
        "id": "H-gf8IlFiSuP"
      }
    },
    {
      "cell_type": "code",
      "source": [
        "import math\n",
        "x1=int(input(\"enter the value of x1:\"))\n",
        "x2=int(input(\"enter the value of x2:\"))\n",
        "y1=int(input(\"enter the value of y1:\"))\n",
        "y2=int(input(\"enter the value of y2:\"))\n",
        "d=math.sqrt((x2-x1)**2+(y2-y1)**2)\n",
        "print('The distance between two points is:',d)"
      ],
      "metadata": {
        "colab": {
          "base_uri": "https://localhost:8080/"
        },
        "id": "01If2uVSf4AI",
        "outputId": "81ff1bfa-3183-4d13-bf26-63cdc5eef340"
      },
      "execution_count": 20,
      "outputs": [
        {
          "output_type": "stream",
          "name": "stdout",
          "text": [
            "enter the value of x1:4\n",
            "enter the value of x2:5\n",
            "enter the value of y1:6\n",
            "enter the value of y2:7\n",
            "The distance between two points is: 1.4142135623730951\n"
          ]
        }
      ]
    },
    {
      "cell_type": "markdown",
      "source": [
        "EXPEIMENT 3(A)"
      ],
      "metadata": {
        "id": "Eg1WA45niiBi"
      }
    },
    {
      "cell_type": "code",
      "source": [
        "x=int(input(\"Enter a number:\"))\n",
        "if x%2==0:\n",
        "  print('x is an even number')\n",
        "else :\n",
        "  print('x is an odd number')"
      ],
      "metadata": {
        "colab": {
          "base_uri": "https://localhost:8080/"
        },
        "id": "OWhxIbdbf_hz",
        "outputId": "86e51c9c-12aa-4f25-e55f-a957d8199078"
      },
      "execution_count": 21,
      "outputs": [
        {
          "output_type": "stream",
          "name": "stdout",
          "text": [
            "Enter a number:5\n",
            "x is an odd number\n"
          ]
        }
      ]
    },
    {
      "cell_type": "markdown",
      "source": [
        "EXPERIMENT 3(B)"
      ],
      "metadata": {
        "id": "wLLxICIEipAW"
      }
    },
    {
      "cell_type": "code",
      "source": [
        "num=int(input(\"enter the number:\"))\n",
        "sum=0\n",
        "temp=num\n",
        "while temp>0:\n",
        "    digit=temp%10\n",
        "    sum+=digit**3\n",
        "    temp//=10\n",
        "if num==sum:\n",
        "      print(num,\"is an armstrong number\")\n",
        "else:\n",
        "  print(num,\"is a not armstrong number\")"
      ],
      "metadata": {
        "colab": {
          "base_uri": "https://localhost:8080/"
        },
        "id": "dHwXVqVwgCsQ",
        "outputId": "77b6abe2-fc4b-4f0f-ce6f-bbf393a3634b"
      },
      "execution_count": 22,
      "outputs": [
        {
          "output_type": "stream",
          "name": "stdout",
          "text": [
            "enter the number:5\n",
            "5 is a not armstrong number\n"
          ]
        }
      ]
    },
    {
      "cell_type": "markdown",
      "source": [
        "EXPERIMENT 4"
      ],
      "metadata": {
        "id": "3Pp2V_mciu0C"
      }
    },
    {
      "cell_type": "code",
      "source": [
        "x=int(input(\"Enter the number :\"))\n",
        "while x >=0:\n",
        "  print(x)\n",
        "  x=x-1"
      ],
      "metadata": {
        "colab": {
          "base_uri": "https://localhost:8080/"
        },
        "id": "QlGgYbNigEvI",
        "outputId": "5ef2a8d3-70b4-4d11-909e-8becf3dd079b"
      },
      "execution_count": 23,
      "outputs": [
        {
          "output_type": "stream",
          "name": "stdout",
          "text": [
            "Enter the number :5\n",
            "5\n",
            "4\n",
            "3\n",
            "2\n",
            "1\n",
            "0\n"
          ]
        }
      ]
    },
    {
      "cell_type": "markdown",
      "source": [
        "EXPERIMENT 5"
      ],
      "metadata": {
        "id": "pxJU12oni0OH"
      }
    },
    {
      "cell_type": "code",
      "source": [
        "y=input(\"Enter the string:\")\n",
        "f={}\n",
        "for i in y:\n",
        "  if i in f:\n",
        "    f[i]+=1\n",
        "  else :\n",
        "    f[i]=1\n",
        "print(f)"
      ],
      "metadata": {
        "colab": {
          "base_uri": "https://localhost:8080/"
        },
        "id": "XLs1gNELgGpQ",
        "outputId": "0de41257-b513-46c7-9eaa-7ac6e5b66264"
      },
      "execution_count": 24,
      "outputs": [
        {
          "output_type": "stream",
          "name": "stdout",
          "text": [
            "Enter the string:maanan\n",
            "{'m': 1, 'a': 3, 'n': 2}\n"
          ]
        }
      ]
    },
    {
      "cell_type": "markdown",
      "source": [
        "EXPERIMENT 6"
      ],
      "metadata": {
        "id": "jd23qjuXi7sU"
      }
    },
    {
      "cell_type": "code",
      "source": [
        "my_lists=[\"Man\",\"patel\",\"hello\"]\n",
        "print(my_lists)"
      ],
      "metadata": {
        "colab": {
          "base_uri": "https://localhost:8080/"
        },
        "id": "mKn8QvhagIkc",
        "outputId": "e65cacc5-b86d-48af-9109-a2a0f7c4bf14"
      },
      "execution_count": 25,
      "outputs": [
        {
          "output_type": "stream",
          "name": "stdout",
          "text": [
            "['Man', 'patel', 'hello']\n"
          ]
        }
      ]
    },
    {
      "cell_type": "code",
      "source": [
        "my_tuple=(\"Man\",\"patel\",\"hello\")\n",
        "print(my_tuple)"
      ],
      "metadata": {
        "colab": {
          "base_uri": "https://localhost:8080/"
        },
        "id": "S2QImCiHjC7V",
        "outputId": "a0a6e6b1-2265-40c0-cfd2-86391396ce31"
      },
      "execution_count": 26,
      "outputs": [
        {
          "output_type": "stream",
          "name": "stdout",
          "text": [
            "('Man', 'patel', 'hello')\n"
          ]
        }
      ]
    },
    {
      "cell_type": "code",
      "source": [
        "for i in my_lists:\n",
        "  print(i)\n",
        "for i in my_tuple:\n",
        "  print(i)"
      ],
      "metadata": {
        "colab": {
          "base_uri": "https://localhost:8080/"
        },
        "id": "HUnpFeEKjIy7",
        "outputId": "5dca4c68-74e6-4540-e3e0-64e3b1727fd6"
      },
      "execution_count": 27,
      "outputs": [
        {
          "output_type": "stream",
          "name": "stdout",
          "text": [
            "Man\n",
            "patel\n",
            "hello\n",
            "Man\n",
            "patel\n",
            "hello\n"
          ]
        }
      ]
    },
    {
      "cell_type": "markdown",
      "source": [
        "EXPERIMENT 7.1"
      ],
      "metadata": {
        "id": "_sikMXOkjLiS"
      }
    },
    {
      "cell_type": "code",
      "source": [
        "str = input (\"Enter the Word :- \")\n",
        "if str [ : 2] == \"0!\":\n",
        "  for i in range (len(str)) :\n",
        "    print (str[i])\n",
        "else :\n",
        "  print (\"Please enter again \")\n",
        "#the string must contain 0! at first two index values ."
      ],
      "metadata": {
        "colab": {
          "base_uri": "https://localhost:8080/"
        },
        "id": "wTsiF99lgMXq",
        "outputId": "183bc06a-bd44-47c3-c345-fd3adc6b9776"
      },
      "execution_count": 28,
      "outputs": [
        {
          "output_type": "stream",
          "name": "stdout",
          "text": [
            "Enter the Word :- maanan\n",
            "Please enter again \n"
          ]
        }
      ]
    },
    {
      "cell_type": "markdown",
      "source": [
        "\n",
        "EXPERIMENT 7.2"
      ],
      "metadata": {
        "id": "zKg3K4wMjd5Z"
      }
    },
    {
      "cell_type": "code",
      "source": [
        "str = input (\"Enter the Word :- \")\n",
        "for i in range (-1, -len(str) - 1, -1) :\n",
        "  print (str[i])"
      ],
      "metadata": {
        "colab": {
          "base_uri": "https://localhost:8080/"
        },
        "id": "uuiDsGxugPOW",
        "outputId": "5b79b953-d07c-4b48-ddf2-8ef7a1ce9955"
      },
      "execution_count": 29,
      "outputs": [
        {
          "output_type": "stream",
          "name": "stdout",
          "text": [
            "Enter the Word :- maanan\n",
            "n\n",
            "a\n",
            "n\n",
            "a\n",
            "a\n",
            "m\n"
          ]
        }
      ]
    },
    {
      "cell_type": "markdown",
      "source": [
        "EXPERIMENT 7.3"
      ],
      "metadata": {
        "id": "IBYU-fs1jmal"
      }
    },
    {
      "cell_type": "code",
      "source": [
        "s = input(\"Enter a new string :\")\n",
        "new = s[-1: :-1]\n",
        "print(new)"
      ],
      "metadata": {
        "colab": {
          "base_uri": "https://localhost:8080/"
        },
        "id": "KvrcSg74gRYh",
        "outputId": "8c215728-618e-41d7-b571-75980c8224f4"
      },
      "execution_count": 30,
      "outputs": [
        {
          "output_type": "stream",
          "name": "stdout",
          "text": [
            "Enter a new string :maanan\n",
            "nanaam\n"
          ]
        }
      ]
    },
    {
      "cell_type": "markdown",
      "source": [
        "EXPERIMENT 7.4"
      ],
      "metadata": {
        "id": "8nGtUFCijtB-"
      }
    },
    {
      "cell_type": "code",
      "source": [
        "s = input(\"Enter a string :\")\n",
        "letter = input(\"Enter a letter which you want to count .\")\n",
        "count = 0\n",
        "for i in s :\n",
        "  if i == letter :\n",
        "      count += 1\n",
        "print(count)"
      ],
      "metadata": {
        "colab": {
          "base_uri": "https://localhost:8080/"
        },
        "id": "bUlvxmOwgTQK",
        "outputId": "c40cf4cf-0a2f-47be-944c-ded3ecd2ae9a"
      },
      "execution_count": 31,
      "outputs": [
        {
          "output_type": "stream",
          "name": "stdout",
          "text": [
            "Enter a string :maanan\n",
            "Enter a letter which you want to count .5\n",
            "0\n"
          ]
        }
      ]
    },
    {
      "cell_type": "markdown",
      "source": [
        "Experiment 8.1"
      ],
      "metadata": {
        "id": "B4XpNV3Zj5VO"
      }
    },
    {
      "cell_type": "code",
      "source": [
        "n = [12,45,8,2,46]\n",
        "l = len(n)\n",
        "t= 0\n",
        "for i in range(l) :\n",
        "  t = t + n[i]\n",
        "print(\"Total is \",t)\n",
        "mean = t/l\n",
        "print(mean)"
      ],
      "metadata": {
        "colab": {
          "base_uri": "https://localhost:8080/"
        },
        "id": "DRVIlBubhIYw",
        "outputId": "974fc30d-8aba-4a59-a1b0-7a1fb4b01f75"
      },
      "execution_count": 32,
      "outputs": [
        {
          "output_type": "stream",
          "name": "stdout",
          "text": [
            "Total is  113\n",
            "22.6\n"
          ]
        }
      ]
    },
    {
      "cell_type": "markdown",
      "source": [
        "Experiment 8.2"
      ],
      "metadata": {
        "id": "hQu0QJUzj-9I"
      }
    },
    {
      "cell_type": "code",
      "source": [
        "numb = [2, 4, 5, 8, 9]\n",
        "no = len(numb)\n",
        "numb.sort()\n",
        "if no % 2 == 0:\n",
        "  median1 = numb[no//2]\n",
        "  median2 = numb[no//2 - 1]\n",
        "  median = (median1 + median2)/2\n",
        "else:\n",
        "  median = numb[no//2]\n",
        "print(\"The median of the given numbers \", numb, \"is\",(median))"
      ],
      "metadata": {
        "colab": {
          "base_uri": "https://localhost:8080/"
        },
        "id": "sD0YysAIj70m",
        "outputId": "009a9126-140d-47ab-c174-bbd4283e1bde"
      },
      "execution_count": 33,
      "outputs": [
        {
          "output_type": "stream",
          "name": "stdout",
          "text": [
            "The median of the given numbers  [2, 4, 5, 8, 9] is 5\n"
          ]
        }
      ]
    },
    {
      "cell_type": "code",
      "source": [
        "d = {\"rushi\" : \"pandya\" , \"shyam\": \"satasiya\", \"man\" :\"patel\",\"dhruvil\" :\"rasadiya\"}\n",
        "username = input(\"Enter the username :\")\n",
        "if username in d:\n",
        "  password = input(\"Enter the password :\")\n",
        "  if d[username]== password :\n",
        "    print(\"You are logged in to system !\")\n",
        "  else :\n",
        "    print(\"You have entered wrong password . \")\n",
        "else :\n",
        "  print(\"The person is not valid to login .\")"
      ],
      "metadata": {
        "colab": {
          "base_uri": "https://localhost:8080/"
        },
        "id": "zrMMv5mDkCgc",
        "outputId": "ebfd23fa-8306-4f4d-a868-881d44fb83c2"
      },
      "execution_count": 34,
      "outputs": [
        {
          "output_type": "stream",
          "name": "stdout",
          "text": [
            "Enter the username :maanan\n",
            "The person is not valid to login .\n"
          ]
        }
      ]
    },
    {
      "cell_type": "markdown",
      "source": [
        "Experiment 10"
      ],
      "metadata": {
        "id": "BS9Bpl-8kIhh"
      }
    },
    {
      "cell_type": "code",
      "source": [
        "#t = (1, 2, 3)\n",
        "#i = ''.join(map(str, t))\n",
        "#print(i)"
      ],
      "metadata": {
        "id": "WsjFII4pkEvS"
      },
      "execution_count": 36,
      "outputs": []
    },
    {
      "cell_type": "markdown",
      "source": [
        "Experiment 11"
      ],
      "metadata": {
        "id": "R5aYRfI6kTs9"
      }
    },
    {
      "cell_type": "code",
      "source": [
        "subject_marks = [('Discrete Mathematics', 93), ('Python Programming', 95), ('Environment',96)]\n",
        "print(\"Original list of tuples:\")\n",
        "print(subject_marks)\n",
        "subject_marks.sort(key = lambda x: x[1])\n",
        "print(\"\\nSorting the List of Tuples:\")\n",
        "print(subject_marks)"
      ],
      "metadata": {
        "colab": {
          "base_uri": "https://localhost:8080/"
        },
        "id": "bMGgCcOMkORS",
        "outputId": "26ab598f-4645-4066-b035-76220ad815ed"
      },
      "execution_count": 37,
      "outputs": [
        {
          "output_type": "stream",
          "name": "stdout",
          "text": [
            "Original list of tuples:\n",
            "[('Discrete Mathematics', 93), ('Python Programming', 95), ('Environment', 96)]\n",
            "\n",
            "Sorting the List of Tuples:\n",
            "[('Discrete Mathematics', 93), ('Python Programming', 95), ('Environment', 96)]\n"
          ]
        }
      ]
    },
    {
      "cell_type": "markdown",
      "source": [
        "Experiment 12"
      ],
      "metadata": {
        "id": "7SVfPwbPkYI_"
      }
    },
    {
      "cell_type": "code",
      "source": [
        "# tup = eval(input(\"Enter a tuple :- \"))\n",
        "# index = 0\n",
        "# while index < len(tup):\n",
        "#   new = tup[ index ][1 : ] + tup[ index ][ 0 ] + \"ay\"\n",
        "#   print (new, end = \" \")\n",
        "#   index += 1"
      ],
      "metadata": {
        "id": "ZxOw61XhkVpj"
      },
      "execution_count": 38,
      "outputs": []
    },
    {
      "cell_type": "markdown",
      "source": [
        "Experiment 13"
      ],
      "metadata": {
        "id": "gEo9tUr3kc9P"
      }
    },
    {
      "cell_type": "code",
      "source": [
        "n = int(input(\"Enter a number till which you want fibonacci series: \"))\n",
        "n1 = 0\n",
        "n2=1\n",
        "print(\"Series\",n1,n2,end=\" \")\n",
        "for i in range(2,n):\n",
        "  new = n1 + n2\n",
        "  n1 = n2\n",
        "  n2 = new\n",
        "  print(new, end=\" \")\n",
        "print()"
      ],
      "metadata": {
        "colab": {
          "base_uri": "https://localhost:8080/"
        },
        "id": "weu_K0K6ka9O",
        "outputId": "3c052d96-9211-4d1a-acbf-b8e52bedc67e"
      },
      "execution_count": 40,
      "outputs": [
        {
          "output_type": "stream",
          "name": "stdout",
          "text": [
            "Enter a number till which you want fibonacci series: 10\n",
            "Series 0 1 1 2 3 5 8 13 21 34 \n"
          ]
        }
      ]
    },
    {
      "cell_type": "markdown",
      "source": [
        "Experiment 14"
      ],
      "metadata": {
        "id": "R9sxpvxgkpmc"
      }
    },
    {
      "cell_type": "code",
      "source": [
        "while True:\n",
        "    print(\"\\nMENU\")\n",
        "    print(\"1. Binary Search\")\n",
        "    print(\"2. Linear Search\")\n",
        "\n",
        "    print(\"3. Exit\")\n",
        "    choice = int(input(\"\\nEnter the Choice: \"))\n",
        "\n",
        "    if choice == 1:\n",
        "        def binary_search(list1, n):\n",
        "            low = 0\n",
        "            high = len(list1) - 1\n",
        "            mid = 0\n",
        "\n",
        "            while low <= high:\n",
        "\n",
        "                mid = (high + low) // 2\n",
        "\n",
        "                if list1[mid] < n:\n",
        "                    low = mid + 1\n",
        "\n",
        "                elif list1[mid] > n:\n",
        "                    high = mid - 1\n",
        "                else:\n",
        "                    return mid\n",
        "\n",
        "            return -1\n",
        "\n",
        "\n",
        "        list1 = []\n",
        "        i = 0\n",
        "        while i < 5:\n",
        "            list1.append(int(input(\"enter digits of array:\")))\n",
        "            i = i + 1\n",
        "\n",
        "        # list1.append(input(\"enter digit\"))\n",
        "        n = int(input(\"enter your target: \"))\n",
        "\n",
        "        # Function call\n",
        "        result = binary_search(list1, n)\n",
        "\n",
        "        if result != -1:\n",
        "            print(\"Element is present at index\", str(result))\n",
        "        else:\n",
        "            print(\"Element is not present in list1\")\n",
        "\n",
        "    if choice == 2:\n",
        "        def search(arr, x):\n",
        "\n",
        "            for i in range(len(arr)):\n",
        "\n",
        "                if arr[i] == x:\n",
        "                    return i\n",
        "\n",
        "            return -1\n",
        "\n",
        "\n",
        "        list1 = []\n",
        "        i = 0\n",
        "        while i < 5:\n",
        "            list1.append(int(input(\"enter digits of array:\")))\n",
        "            i = i + 1\n",
        "\n",
        "        # list1.append(input(\"enter digit\"))\n",
        "        n = int(input(\"enter your target: \"))\n",
        "\n",
        "        # Function call\n",
        "        result = search(list1, n)\n",
        "\n",
        "        if result != -1:\n",
        "            print(\"Element is present at index\", result)\n",
        "        else:\n",
        "            print(\"Element is not present in list1\")\n",
        "\n",
        "    break"
      ],
      "metadata": {
        "colab": {
          "base_uri": "https://localhost:8080/"
        },
        "id": "w3aHhrGFkfXZ",
        "outputId": "a9e98ad3-d094-49ed-ec82-4322ee19138f"
      },
      "execution_count": 41,
      "outputs": [
        {
          "output_type": "stream",
          "name": "stdout",
          "text": [
            "\n",
            "MENU\n",
            "1. Binary Search\n",
            "2. Linear Search\n",
            "3. Exit\n",
            "\n",
            "Enter the Choice: 2\n",
            "enter digits of array:1\n",
            "enter digits of array:65\n",
            "enter digits of array:2\n",
            "enter digits of array:3\n",
            "enter digits of array:2\n",
            "enter your target: 4\n",
            "Element is not present in list1\n"
          ]
        }
      ]
    },
    {
      "cell_type": "markdown",
      "source": [
        "Experiment 15.1"
      ],
      "metadata": {
        "id": "vnUUykLCk_oH"
      }
    },
    {
      "cell_type": "code",
      "source": [
        "list1=[30,5,6,8,5,2]\n",
        "print(list1)\n",
        "\n",
        "for i in range(len(list1)-1):\n",
        "\n",
        "  for j in range(i+1,len(list1)):\n",
        "\n",
        "    if list1[i] > list1[j]:\n",
        "\n",
        "      list1[i],list1[j] = list1[j],list1[i]\n",
        "\n",
        "print(list1)"
      ],
      "metadata": {
        "colab": {
          "base_uri": "https://localhost:8080/"
        },
        "id": "oJ0ypTeMk3Bs",
        "outputId": "6d19ba7e-f4c3-4ed5-96d7-096ac6fa6d82"
      },
      "execution_count": 42,
      "outputs": [
        {
          "output_type": "stream",
          "name": "stdout",
          "text": [
            "[30, 5, 6, 8, 5, 2]\n",
            "[2, 5, 5, 6, 8, 30]\n"
          ]
        }
      ]
    },
    {
      "cell_type": "markdown",
      "source": [
        "Experiment 15.2"
      ],
      "metadata": {
        "id": "y8zvcsGjlGTB"
      }
    },
    {
      "cell_type": "code",
      "source": [
        "list1=[10,4,25,1,5]\n",
        "print(list1)\n",
        "\n",
        "for i in range(1,len(list1)):\n",
        "\n",
        "  value0 = list1[i]                  \n",
        "\n",
        "  j = i-1\n",
        "\n",
        "  while j>=0 and value0<list1[j]:\n",
        "\n",
        "    list1[j+1] = list1[j]\n",
        "    j=j-1\n",
        "\n",
        "  list1[j+1] = value0\n",
        "  print(list1)"
      ],
      "metadata": {
        "colab": {
          "base_uri": "https://localhost:8080/"
        },
        "id": "RaqrX0dllB9Z",
        "outputId": "7f40f6c6-df97-456f-f832-086664f4d525"
      },
      "execution_count": 43,
      "outputs": [
        {
          "output_type": "stream",
          "name": "stdout",
          "text": [
            "[10, 4, 25, 1, 5]\n",
            "[4, 10, 25, 1, 5]\n",
            "[4, 10, 25, 1, 5]\n",
            "[1, 4, 10, 25, 5]\n",
            "[1, 4, 5, 10, 25]\n"
          ]
        }
      ]
    },
    {
      "cell_type": "code",
      "source": [
        ""
      ],
      "metadata": {
        "id": "8RIzAEWxlJEI"
      },
      "execution_count": null,
      "outputs": []
    }
  ]
}