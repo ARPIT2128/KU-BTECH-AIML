{
  "nbformat": 4,
  "nbformat_minor": 0,
  "metadata": {
    "colab": {
      "name": "Python_Lab_work.ipynb",
      "provenance": [],
      "collapsed_sections": [],
      "authorship_tag": "ABX9TyMQy+UcikMMmFwELGBycdUc",
      "include_colab_link": true
    },
    "kernelspec": {
      "name": "python3",
      "display_name": "Python 3"
    },
    "language_info": {
      "name": "python"
    }
  },
  "cells": [
    {
      "cell_type": "markdown",
      "metadata": {
        "id": "view-in-github",
        "colab_type": "text"
      },
      "source": [
        "<a href=\"https://colab.research.google.com/github/ARPIT2128/KU-BTECH-AIML/blob/main/Bhoomi_21BTAI07.ipynb\" target=\"_parent\"><img src=\"https://colab.research.google.com/assets/colab-badge.svg\" alt=\"Open In Colab\"/></a>"
      ]
    },
    {
      "cell_type": "code",
      "execution_count": null,
      "metadata": {
        "colab": {
          "base_uri": "https://localhost:8080/"
        },
        "id": "m5gw1jO1rSNc",
        "outputId": "8912ac98-4180-457e-e151-88f8c96909fd"
      },
      "outputs": [
        {
          "output_type": "stream",
          "name": "stdout",
          "text": [
            "<class 'int'>\n",
            "<class 'str'>\n",
            "<class 'float'>\n",
            "<class 'complex'>\n",
            "<class 'bool'>\n"
          ]
        }
      ],
      "source": [
        "#datatypes\n",
        "a=10\n",
        "print(type(a))\n",
        "a=\"Hi\"\n",
        "print(type(a))\n",
        "a=12.5\n",
        "print(type(a))\n",
        "a=1+2j\n",
        "print(type(a))\n",
        "a=True\n",
        "print(type(a))\n",
        "\n"
      ]
    },
    {
      "cell_type": "code",
      "source": [
        "#Find Distance between 2 points\n",
        "import math as m\n",
        "x1=int(input(\"Enter value of x1: \"))\n",
        "y1=int(input(\"Enter value of y1: \"))\n",
        "x2=int(input(\"Enter value of x2: \"))\n",
        "y2=int(input(\"Enter value of y2: \"))\n",
        "d=m.sqrt((x2*x2-x1*x1)**2+(y2*y2-y1*y1)**2)\n",
        "print(\"Distance between 2 points: \",d)"
      ],
      "metadata": {
        "colab": {
          "base_uri": "https://localhost:8080/"
        },
        "id": "056Ab_RosP1h",
        "outputId": "0f7a3f7a-b354-4068-8719-e047fb8c5eda"
      },
      "execution_count": null,
      "outputs": [
        {
          "output_type": "stream",
          "name": "stdout",
          "text": [
            "Enter value of x1: 9\n",
            "Enter value of y1: 3\n",
            "Enter value of x2: 4\n",
            "Enter value of y2: 1\n",
            "Distance between 2 points:  65.49045732013177\n"
          ]
        }
      ]
    },
    {
      "cell_type": "code",
      "source": [
        "# Even or odd\n",
        "def abc():\n",
        "  a=int(input(\"Enter any number: \"))\n",
        "  if(a%2==0):\n",
        "    print(\"Even number\")\n",
        "  elif(a%2!=0):\n",
        "    print(\"odd number\")\n",
        "  else:\n",
        "    print(\"Invalid Value\")\n",
        "abc()"
      ],
      "metadata": {
        "colab": {
          "base_uri": "https://localhost:8080/"
        },
        "id": "E0gCHoRLtynn",
        "outputId": "5c63f88c-b105-4b4b-8297-bfd05271fdf0"
      },
      "execution_count": null,
      "outputs": [
        {
          "output_type": "stream",
          "name": "stdout",
          "text": [
            "Enter any number: 8\n",
            "Even number\n"
          ]
        }
      ]
    },
    {
      "cell_type": "code",
      "source": [
        "#Armstrong or not \n",
        "a=int(input(\"Enter number to check: \"))\n",
        "l=len(str(a))\n",
        "sum=0\n",
        "temp=a\n",
        "while temp>0:\n",
        "  k=temp%10\n",
        "  sum+=k**l\n",
        "  temp//=10\n",
        "if(sum==a):\n",
        "  print(\"Armstrong Number\")\n",
        "else:\n",
        "  print(\"Not an Armstrong Number\")"
      ],
      "metadata": {
        "colab": {
          "base_uri": "https://localhost:8080/"
        },
        "id": "1wwl8-pOuYaO",
        "outputId": "e158ffca-3e32-4ccb-a374-2fb82f6ba5d9"
      },
      "execution_count": null,
      "outputs": [
        {
          "output_type": "stream",
          "name": "stdout",
          "text": [
            "Enter number to check: 65\n",
            "Not an Armstrong Number\n"
          ]
        }
      ]
    },
    {
      "cell_type": "code",
      "source": [
        "#reversed countdown to zero\n",
        "def abc():\n",
        "  a=int(input(\"Enter Number: \"))\n",
        "  m=a\n",
        "  while(m>=0):\n",
        "    print(m)\n",
        "    m=m-1\n",
        "abc()"
      ],
      "metadata": {
        "colab": {
          "base_uri": "https://localhost:8080/"
        },
        "id": "8a7bl2EevL-X",
        "outputId": "fb12f1c0-74f8-483f-f040-a03e265b451c"
      },
      "execution_count": null,
      "outputs": [
        {
          "output_type": "stream",
          "name": "stdout",
          "text": [
            "Enter Number: 9\n",
            "9\n",
            "8\n",
            "7\n",
            "6\n",
            "5\n",
            "4\n",
            "3\n",
            "2\n",
            "1\n",
            "0\n"
          ]
        }
      ]
    },
    {
      "cell_type": "code",
      "source": [
        "# number of character in string \n",
        "str=input(\"Enter a string: \")\n",
        "dict={}\n",
        "for n in str:\n",
        "  keys=dict.keys()\n",
        "  if n in keys:\n",
        "    dict[n]+=1\n",
        "  else:\n",
        "    dict[n]=1\n",
        "print(dict)"
      ],
      "metadata": {
        "colab": {
          "base_uri": "https://localhost:8080/"
        },
        "id": "jozP51_3vpXn",
        "outputId": "5332aba0-f5f1-47d4-ec7a-111c3fac4198"
      },
      "execution_count": null,
      "outputs": [
        {
          "output_type": "stream",
          "name": "stdout",
          "text": [
            "Enter a string: bhoomi\n",
            "{'b': 1, 'h': 1, 'o': 2, 'm': 1, 'i': 1}\n"
          ]
        }
      ]
    }
  ]
}