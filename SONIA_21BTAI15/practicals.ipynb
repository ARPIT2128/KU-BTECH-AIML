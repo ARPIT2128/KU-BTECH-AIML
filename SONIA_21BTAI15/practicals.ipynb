{
  "nbformat": 4,
  "nbformat_minor": 0,
  "metadata": {
    "colab": {
      "name": "practicals.ipynb",
      "provenance": [],
      "authorship_tag": "ABX9TyOTzOOHCFTYRqrrpvfSYtDa",
      "include_colab_link": true
    },
    "kernelspec": {
      "name": "python3",
      "display_name": "Python 3"
    },
    "language_info": {
      "name": "python"
    }
  },
  "cells": [
    {
      "cell_type": "markdown",
      "metadata": {
        "id": "view-in-github",
        "colab_type": "text"
      },
      "source": [
        "<a href=\"https://colab.research.google.com/github/ARPIT2128/KU-BTECH-AIML/blob/main/SONIA_21BTAI15/practicals.ipynb\" target=\"_parent\"><img src=\"https://colab.research.google.com/assets/colab-badge.svg\" alt=\"Open In Colab\"/></a>"
      ]
    },
    {
      "cell_type": "code",
      "source": [
        "#Write a program to demonstrate basic data types\n",
        "num=5\n",
        "print(type(num))\n",
        "comp=2+3j\n",
        "print(type(comp))\n",
        "flnum=4.5\n",
        "print(type(flnum))\n",
        "string=\"Python\"\n",
        "print(type(string))\n",
        "val=True\n",
        "print(type(val))\n",
        "#purposefully raise indentation error\n",
        "i=1\n",
        "if i>0:\n",
        "  print(\"True\")\n",
        "#correction\n",
        "i=1\n",
        "if i>0:\n",
        "  print(\"True\")"
      ],
      "metadata": {
        "colab": {
          "base_uri": "https://localhost:8080/"
        },
        "id": "-4xEmO2UjkwE",
        "outputId": "2dfdb520-fb8b-4467-c524-445dbbbd2131"
      },
      "execution_count": null,
      "outputs": [
        {
          "output_type": "stream",
          "name": "stdout",
          "text": [
            "<class 'int'>\n",
            "<class 'complex'>\n",
            "<class 'float'>\n",
            "<class 'str'>\n",
            "<class 'bool'>\n",
            "True\n",
            "True\n"
          ]
        }
      ]
    },
    {
      "cell_type": "code",
      "source": [
        "#Write a program to compute distance between two points taking input from th\n",
        "import math\n",
        "x1=int(input(\"Enter x coordinate of point 1 \"))\n",
        "y1=int(input(\"Enter y coordinate of point 1 \"))\n",
        "x2=int(input(\"Enter x coordinate of point 2 \"))\n",
        "y2=int(input(\"Enter y coordinate of point 2 \"))\n",
        "c=math.sqrt((x2-x1)**2+(y2-y1)**2)\n",
        "print(round(c,3))"
      ],
      "metadata": {
        "colab": {
          "base_uri": "https://localhost:8080/"
        },
        "id": "ngc_Xxlwjlu_",
        "outputId": "8d9f41ad-9dc7-4119-8bf7-1aaa692e77cf"
      },
      "execution_count": null,
      "outputs": [
        {
          "output_type": "stream",
          "name": "stdout",
          "text": [
            "Enter x coordinate of point 1 2\n",
            "Enter y coordinate of point 1 3\n",
            "Enter x coordinate of point 2 4\n",
            "Enter y coordinate of point 2 5\n",
            "2.828\n"
          ]
        }
      ]
    },
    {
      "cell_type": "code",
      "source": [
        "#For checking whether the given number is even or not\n",
        "n=int(input(\"Enter number:\"))\n",
        "if n%2==0:\n",
        "  print(\"Even\")\n",
        "else:\n",
        "  print(\"Odd\")\n",
        "#To check whether given number is Armstrong or not.\n",
        "org_number=input(\"Enter a number:\")\n",
        "number=list(map(int,org_number.rstrip()))\n",
        "len_n=len(number)\n",
        "sum_arm=0\n",
        "for i in range(len_n):\n",
        "  sum_arm+=pow(number[i],len_n)\n",
        "if(int(org_number)==sum_arm):\n",
        "  print(\"It is a armstrong\")\n",
        "else:\n",
        "  print(\"Number is not armstrong\")"
      ],
      "metadata": {
        "colab": {
          "base_uri": "https://localhost:8080/"
        },
        "id": "l8NkurxYjrSd",
        "outputId": "99e58a27-66fc-471c-c222-17b84dc3cc13"
      },
      "execution_count": null,
      "outputs": [
        {
          "output_type": "stream",
          "name": "stdout",
          "text": [
            "Enter number:15\n",
            "Odd\n",
            "Enter a number:9747\n",
            "Number is not armstrong\n"
          ]
        }
      ]
    },
    {
      "cell_type": "code",
      "source": [
        "#Write a program using a while loop that asks the user for a number and prints countdown\n",
        "n=int(input(\"Enter number:\"))\n",
        "while n>=0:\n",
        "  print(n)\n",
        "  n-=1"
      ],
      "metadata": {
        "colab": {
          "base_uri": "https://localhost:8080/"
        },
        "id": "jZ1LwiJyjwmX",
        "outputId": "5c7512fa-bf80-4c0a-ea6d-80df5a5a42cf"
      },
      "execution_count": null,
      "outputs": [
        {
          "output_type": "stream",
          "name": "stdout",
          "text": [
            "Enter number:7\n",
            "7\n",
            "6\n",
            "5\n",
            "4\n",
            "3\n",
            "2\n",
            "1\n",
            "0\n"
          ]
        }
      ]
    },
    {
      "cell_type": "code",
      "source": [
        "#Write a program to count the number of characters in the string and store them in a dictionary data structure\n",
        "string=\"World\"\n",
        "d={}\n",
        "d[len(string)]=string\n",
        "for i in range(len(string)):\n",
        "  d[i]=string[i]\n",
        "print(d)\n"
      ],
      "metadata": {
        "colab": {
          "base_uri": "https://localhost:8080/"
        },
        "id": "T6UQjYlYjyyL",
        "outputId": "fbdc22b8-008c-4e7e-b281-d331078f5a71"
      },
      "execution_count": null,
      "outputs": [
        {
          "output_type": "stream",
          "name": "stdout",
          "text": [
            "{5: 'World', 0: 'W', 1: 'o', 2: 'r', 3: 'l', 4: 'd'}\n"
          ]
        }
      ]
    },
    {
      "cell_type": "code",
      "source": [
        "#Write a program to demonstrate list and tuple in python. Write a program using for loop that loops over a sequence \n",
        "l=[1,2,3,4,5]\n",
        "print(type(l))\n",
        "for i in l:\n",
        "  print(i)\n",
        "t=(1,2,3,4,5)\n",
        "print(type(t))\n",
        "for i in t:\n",
        "  print(i)\n"
      ],
      "metadata": {
        "colab": {
          "base_uri": "https://localhost:8080/"
        },
        "id": "DYaz3veUjz3g",
        "outputId": "8be7da66-241f-4afb-fe89-38017d53a094"
      },
      "execution_count": null,
      "outputs": [
        {
          "output_type": "stream",
          "name": "stdout",
          "text": [
            "<class 'list'>\n",
            "1\n",
            "2\n",
            "3\n",
            "4\n",
            "5\n",
            "<class 'tuple'>\n",
            "1\n",
            "2\n",
            "3\n",
            "4\n",
            "5\n"
          ]
        }
      ]
    },
    {
      "cell_type": "code",
      "source": [
        "# Get a word from user and print all its letter\n",
        "word=input(\"Enter a word \")\n",
        "for i in word:\n",
        "  print(i)\n",
        "# Use another loop to print out each of the letters of the (same) word in re\n",
        "print()\n",
        "for i in word[::-1]:\n",
        "  print(i)\n",
        "# Make a new variable that is the original word in reverse and print that va\n",
        "print()\n",
        "word_new=word[:]\n",
        "print(word_new)\n",
        "#Ask the user for a letter to count. Use another loop to count how many time\n",
        "print()\n",
        "c=input(\"Enter a character \")\n",
        "ct=0\n",
        "for i in word:\n",
        "  if i==c:\n",
        "    ct+=1\n",
        "print(ct)"
      ],
      "metadata": {
        "colab": {
          "base_uri": "https://localhost:8080/"
        },
        "id": "XMMYnIu1j3Dl",
        "outputId": "000208cb-907c-494c-a834-03cc401c4142"
      },
      "execution_count": null,
      "outputs": [
        {
          "output_type": "stream",
          "name": "stdout",
          "text": [
            "Enter a word hello\n",
            "h\n",
            "e\n",
            "l\n",
            "l\n",
            "o\n",
            "\n",
            "o\n",
            "l\n",
            "l\n",
            "e\n",
            "h\n",
            "\n",
            "hello\n",
            "\n",
            "Enter a character l\n",
            "2\n"
          ]
        }
      ]
    },
    {
      "cell_type": "code",
      "source": [
        "#Write a program to print the mean, median, mode and range of the list.\n",
        "import statistics as s\n",
        "l=[2,4,2,6,7,10,24,13,12,15]\n",
        "l.sort()\n",
        "print(\"Mean is:\",s.mean(l))\n",
        "print(\"Median is:\",s.median(l))\n",
        "print(\"Mode is:\",s.mode(l))"
      ],
      "metadata": {
        "colab": {
          "base_uri": "https://localhost:8080/"
        },
        "id": "RAJKgd1JkEok",
        "outputId": "a09fcfa9-d066-4540-fa5e-d1b019f5a522"
      },
      "execution_count": null,
      "outputs": [
        {
          "output_type": "stream",
          "name": "stdout",
          "text": [
            "Mean is: 9.5\n",
            "Median is: 8.5\n",
            "Mode is: 2\n"
          ]
        }
      ]
    },
    {
      "cell_type": "code",
      "source": [
        "#Write a program that uses a dictionary that contains ten usernames and pass\n",
        "#The program should ask the user to enter their usernames and passwords.\n",
        "#If the username is not in the dictionary, the program should indicate that\n",
        "#If the username is in the dictionary, but the user does not enter the right\n",
        "#If the password is correct, then the program should tell the user that they\n",
        "dic = {'apple':2003,'banana':2004,'grapes':2001,'watermelon':1999,'melon':2002}\n",
        "username = input(\"Enter username :\")\n",
        "if username in dic :\n",
        "  password = int(input(\"Enter password:\"))\n",
        "  if dic[username] == password :\n",
        "    print (\"You are now logged into the system.\")\n",
        "  else :\n",
        "    print (\"Invalid password.\")\n",
        "else :\n",
        "  print (\"You are not valid user.\")"
      ],
      "metadata": {
        "colab": {
          "base_uri": "https://localhost:8080/"
        },
        "id": "YGscmUBBkIxM",
        "outputId": "a4874837-ba4f-4c4b-b6bb-313f439d3c54"
      },
      "execution_count": null,
      "outputs": [
        {
          "output_type": "stream",
          "name": "stdout",
          "text": [
            "Enter username :banana\n",
            "Enter password:2003\n",
            "Invalid password.\n"
          ]
        }
      ]
    },
    {
      "cell_type": "code",
      "source": [
        "#Write a Python program to convert a given tuple of positive integers into an integer\n",
        "t=(1,2,3)\n",
        "s=''\n",
        "for i in t:\n",
        "  s+=str(i)\n",
        "print(int(s))"
      ],
      "metadata": {
        "colab": {
          "base_uri": "https://localhost:8080/"
        },
        "id": "abQmxVGGkKUx",
        "outputId": "5bc610f6-b103-4550-c46d-88ddc09059dd"
      },
      "execution_count": null,
      "outputs": [
        {
          "output_type": "stream",
          "name": "stdout",
          "text": [
            "123\n"
          ]
        }
      ]
    },
    {
      "cell_type": "code",
      "source": [
        "#Write a program that inputs a tuple having words of a string as its element\n",
        "t=(\"The\",\"quick\",\"brown\",\"fox\")\n",
        "l=[]\n",
        "for i in t:\n",
        "  st=''\n",
        "  st+=i[1:].title()+i[0].lower()+'ay'\n",
        "  l.append(st)\n",
        "print(tuple(l))\n",
        "l2=[]\n",
        "for i in l:\n",
        "  i=i.rstrip(\"ay\")\n",
        "  last=str(i[-1])\n",
        "  s=i[-1] + i.rstrip(last)\n",
        "  s2=s.title()+\" \"\n",
        "  l2.append(s2)\n",
        "print(tuple(l2))"
      ],
      "metadata": {
        "colab": {
          "base_uri": "https://localhost:8080/"
        },
        "id": "C-E8RSt1kWP-",
        "outputId": "43c8a4ae-f996-4e81-b136-095c37b4fbae"
      },
      "execution_count": null,
      "outputs": [
        {
          "output_type": "stream",
          "name": "stdout",
          "text": [
            "('Hetay', 'Uickqay', 'Rownbay', 'Oxfay')\n",
            "('The ', 'Quick ', 'Brown ', 'Fox ')\n"
          ]
        }
      ]
    },
    {
      "cell_type": "code",
      "source": [
        "# Program to display the Fibonacci sequence up to n-th term\n",
        "nterms = int(input(\"How many terms? \"))\n",
        "n1, n2 = 0, 1\n",
        "count = 0\n",
        "if nterms <= 0:\n",
        "  print(\"Please enter a positive integer\")\n",
        "elif nterms == 1:\n",
        "  print(\"Fibonacci sequence upto\",nterms,\":\")\n",
        "  print(n1)\n",
        "else:\n",
        "  print(\"Fibonacci sequence:\")\n",
        "while count < nterms:\n",
        "  print(n1)\n",
        "  nth = n1 + n2\n",
        "  n1 = n2\n",
        "  n2 = nth\n",
        "  count += 1"
      ],
      "metadata": {
        "colab": {
          "base_uri": "https://localhost:8080/"
        },
        "id": "zpC30DHIkbdn",
        "outputId": "af1488fa-9a81-4e19-bd5d-62a4a0f2fc69"
      },
      "execution_count": null,
      "outputs": [
        {
          "output_type": "stream",
          "name": "stdout",
          "text": [
            "How many terms? 10\n",
            "Fibonacci sequence:\n",
            "0\n",
            "1\n",
            "1\n",
            "2\n",
            "3\n",
            "5\n",
            "8\n",
            "13\n",
            "21\n",
            "34\n"
          ]
        }
      ]
    },
    {
      "cell_type": "code",
      "source": [
        "#Write a Python program to sort a list of tuples using Lambda.\n",
        "L=[('Discrete Mathematics', 93), ('Python Programming', 95),('Environmental',99)]\n",
        "print(\"Original list of tuples:\")\n",
        "L.sort(key = lambda x: x[1])\n",
        "print(L)\n",
        "print(\"Sorted List of Tuples:\")\n",
        "print(L)\n"
      ],
      "metadata": {
        "colab": {
          "base_uri": "https://localhost:8080/"
        },
        "id": "n9pdhiwKkQBh",
        "outputId": "1674a9e0-32d8-467a-e564-9ff7e918fa3f"
      },
      "execution_count": null,
      "outputs": [
        {
          "output_type": "stream",
          "name": "stdout",
          "text": [
            "Original list of tuples:\n",
            "[('Discrete Mathematics', 93), ('Python Programming', 95), ('Environmental', 99)]\n",
            "Sorted List of Tuples:\n",
            "[('Discrete Mathematics', 93), ('Python Programming', 95), ('Environmental', 99)]\n"
          ]
        }
      ]
    },
    {
      "cell_type": "code",
      "execution_count": null,
      "metadata": {
        "id": "VE2cOJaRAt-Q",
        "colab": {
          "base_uri": "https://localhost:8080/"
        },
        "outputId": "250fe7bc-38b9-442b-9255-96ce18679684"
      },
      "outputs": [
        {
          "output_type": "stream",
          "name": "stdout",
          "text": [
            "List is : [5, 4, 3, 10, 9, 2, 1, 8, 6, 7]\n",
            " 1. Linear Search\n",
            " 2.Binary Search\n",
            "Enter choice :2\n",
            "Enter element to be searched:8\n",
            "Element found at index 7\n"
          ]
        }
      ],
      "source": [
        "#Write a menu-driven program to implement linear search and binary search\n",
        "def linearsearch(arr, x):\n",
        "  for i in range(len(arr)):\n",
        "    if arr[i] == x:\n",
        "      return i\n",
        "  return -1\n",
        "def binary_search(arr,x):\n",
        "  l=0\n",
        "  r=len(arr)-1\n",
        "  while(l<=r):\n",
        "    mid=(l+r)//2\n",
        "    if(arr[mid]==x):\n",
        "      return mid\n",
        "    elif(x<arr[mid]):\n",
        "      r=mid-1\n",
        "    elif(x>arr[mid]):\n",
        "      l=mid+1\n",
        "  return -1\n",
        "L=[5,4,3,10,9,2,1,8,6,7]\n",
        "print(\"List is :\",L)\n",
        "print(\" 1. Linear Search\\n 2.Binary Search\")\n",
        "c=int(input(\"Enter choice :\"))\n",
        "if c==1:\n",
        "  x=int(input(\"Enter element to be searched:\"))\n",
        "  L.sort()\n",
        "  print(\"Element found at index \"+str(linearsearch(L,x)))\n",
        "elif c==2:\n",
        "  x=int(input(\"Enter element to be searched:\"))\n",
        "  L.sort()\n",
        "  print(\"Element found at index \"+str(binary_search(L,x)))"
      ]
    }
  ]
}