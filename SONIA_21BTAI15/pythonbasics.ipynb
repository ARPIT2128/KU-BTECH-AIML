{
  "nbformat": 4,
  "nbformat_minor": 0,
  "metadata": {
    "colab": {
      "name": "pythonbasics.ipynb",
      "provenance": [],
      "collapsed_sections": [],
      "authorship_tag": "ABX9TyOuVO12zJ61NjLBaND2BED6",
      "include_colab_link": true
    },
    "kernelspec": {
      "name": "python3",
      "display_name": "Python 3"
    },
    "language_info": {
      "name": "python"
    }
  },
  "cells": [
    {
      "cell_type": "markdown",
      "metadata": {
        "id": "view-in-github",
        "colab_type": "text"
      },
      "source": [
        "<a href=\"https://colab.research.google.com/github/ARPIT2128/KU-BTECH-AIML/blob/main/SONIA_21BTAI15/pythonbasics.ipynb\" target=\"_parent\"><img src=\"https://colab.research.google.com/assets/colab-badge.svg\" alt=\"Open In Colab\"/></a>"
      ]
    },
    {
      "cell_type": "markdown",
      "source": [
        "program 2"
      ],
      "metadata": {
        "id": "u2-7OFc_UpG3"
      }
    },
    {
      "cell_type": "code",
      "source": [
        "cor = input().split()\n",
        "x1=int(cor[0])\n",
        "x2=int(cor[1])\n",
        "y1=int(cor[2])\n",
        "y2=int(cor[3])\n",
        "a=(x2-x1)**2\n",
        "b=(y2-y1)**2\n",
        "dist=(a+b)**0.5\n",
        "print(\"distance between two points is: \",round(dist,3))"
      ],
      "metadata": {
        "colab": {
          "base_uri": "https://localhost:8080/"
        },
        "id": "-mT3vhnSUubn",
        "outputId": "b1b1e122-d7b1-4698-afe0-49257520781f"
      },
      "execution_count": null,
      "outputs": [
        {
          "output_type": "stream",
          "name": "stdout",
          "text": [
            "2 3 4 5\n",
            "distance between two points is:  1.414\n"
          ]
        }
      ]
    },
    {
      "cell_type": "markdown",
      "source": [
        "program 1"
      ],
      "metadata": {
        "id": "c3vfUh-1Uxn5"
      }
    },
    {
      "cell_type": "code",
      "source": [
        "var1 = 'this is a string'\n",
        "var2 = 21\n",
        "var3 = 3.0\n",
        "var4 = [1,'hello',54,'23']\n",
        "print(type(var1))\n",
        "print(type(var2))\n",
        "print(type(var3))\n",
        "print(type(var4))"
      ],
      "metadata": {
        "colab": {
          "base_uri": "https://localhost:8080/"
        },
        "id": "M0rfHSgNUH8M",
        "outputId": "6aa42dca-9629-41b9-9497-22539055a13c"
      },
      "execution_count": null,
      "outputs": [
        {
          "output_type": "stream",
          "name": "stdout",
          "text": [
            "<class 'str'>\n",
            "<class 'int'>\n",
            "<class 'float'>\n",
            "<class 'list'>\n"
          ]
        }
      ]
    },
    {
      "cell_type": "markdown",
      "source": [
        "program 3 (i) odd even"
      ],
      "metadata": {
        "id": "HJnfhImp3rze"
      }
    },
    {
      "cell_type": "code",
      "source": [
        "a=int(input())\n",
        "if a%2==0:\n",
        "  print(\"given number is even\")\n",
        "else:\n",
        "  print(\"given number is odd\")\n",
        "\n"
      ],
      "metadata": {
        "colab": {
          "base_uri": "https://localhost:8080/"
        },
        "id": "pne-XZgT3sas",
        "outputId": "99b9b9e8-f52b-4689-a398-ec015aff8319"
      },
      "execution_count": null,
      "outputs": [
        {
          "output_type": "stream",
          "name": "stdout",
          "text": [
            "99\n",
            "given number is odd\n"
          ]
        }
      ]
    },
    {
      "cell_type": "markdown",
      "source": [
        "program 3 (ii) armstrong number\n"
      ],
      "metadata": {
        "id": "um_r4PewAWyH"
      }
    },
    {
      "cell_type": "code",
      "source": [
        "count=0\n",
        "sum=0\n",
        "a=int(input())\n",
        "n=a\n",
        "while(n!=0):\n",
        "  n//=10\n",
        "  count+=1\n",
        "n=a\n",
        "for i in range (1,count+1):\n",
        "  r=n%10\n",
        "  sum+=(r**count)\n",
        "  n//=10\n",
        "if a==sum:\n",
        "  print(\"armstong!\")\n",
        "else:\n",
        "  print(\"not an armstrong\")"
      ],
      "metadata": {
        "colab": {
          "base_uri": "https://localhost:8080/"
        },
        "id": "Fj-0H8TzAbkg",
        "outputId": "0e75eef7-938e-4fac-8410-3224ff578c09"
      },
      "execution_count": null,
      "outputs": [
        {
          "output_type": "stream",
          "name": "stdout",
          "text": [
            "9474\n",
            "armstong!\n"
          ]
        }
      ]
    },
    {
      "cell_type": "markdown",
      "source": [
        "repeated char in a string"
      ],
      "metadata": {
        "id": "AV3ywHF0En17"
      }
    },
    {
      "cell_type": "code",
      "source": [
        "a=input().split()\n",
        "b=set(a)\n",
        "c=list(b)\n",
        "leng=len(a)\n",
        "leng1= len(b)\n",
        "i=0\n",
        "j=0\n",
        "while(i>=0 and i<leng1):\n",
        "  c1=0\n",
        "  while(i>=0 and j<leng):\n",
        "    if(c[i]==a[j]):\n",
        "      c1+=1\n",
        "    j+=1\n",
        "  if(c!=0):\n",
        "    print(\"the {} is repeated {} times in the string\")\n"
      ],
      "metadata": {
        "id": "ygoAyQOwEndy"
      },
      "execution_count": null,
      "outputs": []
    },
    {
      "cell_type": "markdown",
      "source": [
        "prime number"
      ],
      "metadata": {
        "id": "GcXcdkZG2MR0"
      }
    },
    {
      "cell_type": "code",
      "source": [
        "n=int(input())\n",
        "if n>1:\n",
        "  for i in range(2,int(n/2)+1):\n",
        "    if(n%i==0):\n",
        "      print(n,\"not a prime no.!\")\n",
        "      \n",
        "    else:\n",
        "      print(n,\"no. is prime!\")\n",
        "      break\n",
        "else:\n",
        "  print(n,\"no. is not prime\")"
      ],
      "metadata": {
        "id": "nJI-1WQiMr8C",
        "colab": {
          "base_uri": "https://localhost:8080/"
        },
        "outputId": "a52f15a0-4a1a-4a9c-8543-b39760bcfba5"
      },
      "execution_count": null,
      "outputs": [
        {
          "output_type": "stream",
          "name": "stdout",
          "text": [
            "5\n",
            "5 no. is prime!\n"
          ]
        }
      ]
    }
  ]
}