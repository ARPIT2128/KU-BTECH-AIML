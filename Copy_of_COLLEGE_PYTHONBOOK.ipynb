{
  "nbformat": 4,
  "nbformat_minor": 0,
  "metadata": {
    "colab": {
      "name": "Copy of COLLEGE_PYTHONBOOK.ipynb",
      "provenance": [],
      "collapsed_sections": [],
      "include_colab_link": true
    },
    "kernelspec": {
      "name": "python3",
      "display_name": "Python 3"
    },
    "language_info": {
      "name": "python"
    }
  },
  "cells": [
    {
      "cell_type": "markdown",
      "metadata": {
        "id": "view-in-github",
        "colab_type": "text"
      },
      "source": [
        "<a href=\"https://colab.research.google.com/github/ARPIT2128/KU-BTECH-AIML/blob/main/Copy_of_COLLEGE_PYTHONBOOK.ipynb\" target=\"_parent\"><img src=\"https://colab.research.google.com/assets/colab-badge.svg\" alt=\"Open In Colab\"/></a>"
      ]
    },
    {
      "cell_type": "code",
      "source": [
        "num1=int(input(\"enter the number:\"))\n",
        "print(num1)\n",
        "type(num1)"
      ],
      "metadata": {
        "colab": {
          "base_uri": "https://localhost:8080/"
        },
        "id": "iPDtpwOraLFC",
        "outputId": "43727db8-7023-4499-873a-de55c1acaddd"
      },
      "execution_count": null,
      "outputs": [
        {
          "output_type": "stream",
          "name": "stdout",
          "text": [
            "enter the number:55\n",
            "55\n"
          ]
        },
        {
          "output_type": "execute_result",
          "data": {
            "text/plain": [
              "int"
            ]
          },
          "metadata": {},
          "execution_count": 2
        }
      ]
    },
    {
      "cell_type": "code",
      "source": [
        "str=(input(\"enter the string:\"))\n",
        "print(str)\n",
        "type(str)"
      ],
      "metadata": {
        "colab": {
          "base_uri": "https://localhost:8080/"
        },
        "id": "SL5Wssc9aWcs",
        "outputId": "b18cd187-8e3b-4be6-c754-bcaea486d980"
      },
      "execution_count": null,
      "outputs": [
        {
          "output_type": "stream",
          "name": "stdout",
          "text": [
            "enter the string:Armaan\n",
            "Armaan\n"
          ]
        },
        {
          "output_type": "execute_result",
          "data": {
            "text/plain": [
              "str"
            ]
          },
          "metadata": {},
          "execution_count": 1
        }
      ]
    },
    {
      "cell_type": "code",
      "source": [
        ""
      ],
      "metadata": {
        "id": "Fke898-1W6h8"
      },
      "execution_count": null,
      "outputs": []
    },
    {
      "cell_type": "code",
      "source": [
        "float_num = float(input(\"enter the float number:\"))\n",
        "print(float_num)\n",
        "type(float_num)"
      ],
      "metadata": {
        "colab": {
          "base_uri": "https://localhost:8080/"
        },
        "id": "OfoiguDlakvi",
        "outputId": "830d0760-d2bc-4f70-cd40-da51d63eaf3b"
      },
      "execution_count": null,
      "outputs": [
        {
          "output_type": "stream",
          "name": "stdout",
          "text": [
            "enter the float number:35.65\n",
            "35.65\n"
          ]
        },
        {
          "output_type": "execute_result",
          "data": {
            "text/plain": [
              "float"
            ]
          },
          "metadata": {},
          "execution_count": 4
        }
      ]
    },
    {
      "cell_type": "code",
      "source": [
        "import math\n",
        "x1=int(input(\"enter the value x1\"))\n",
        "x2=int(input(\"enter the value x2\"))\n",
        "y1=int(input(\"enter the value y1\"))\n",
        "y2=int(input(\"enter the value y2\"))\n",
        "d=math.sqrt((x2-x1)**2+(y2-y1)**2)\n",
        "print(\"the distance between two points is;\",d)"
      ],
      "metadata": {
        "colab": {
          "base_uri": "https://localhost:8080/"
        },
        "id": "jaZJ2p-Za1bT",
        "outputId": "19163866-771c-4d4c-c364-0996436b59ad"
      },
      "execution_count": null,
      "outputs": [
        {
          "output_type": "stream",
          "name": "stdout",
          "text": [
            "enter the value x12\n",
            "enter the value x23\n",
            "enter the value y13\n",
            "enter the value y24\n",
            "the distance between two points is; 1.4142135623730951\n"
          ]
        }
      ]
    },
    {
      "cell_type": "code",
      "source": [
        "num = int(input(\"enter the number: \"))\n",
        "if (num%2==0):\n",
        "    print('num is an even number')\n",
        "else:\n",
        "    print('num is an odd number')"
      ],
      "metadata": {
        "colab": {
          "base_uri": "https://localhost:8080/"
        },
        "id": "CCANZS-RbJrD",
        "outputId": "a7b4fa99-739a-42f9-d9b0-bba97bdb0a07"
      },
      "execution_count": null,
      "outputs": [
        {
          "output_type": "stream",
          "name": "stdout",
          "text": [
            "enter the number: 34\n",
            "num is an even number\n"
          ]
        }
      ]
    },
    {
      "cell_type": "code",
      "source": [
        "x=int(input(\"enter the number\"))\n",
        "while x>=0:\n",
        "     print(x)\n",
        "     x=x-1"
      ],
      "metadata": {
        "colab": {
          "base_uri": "https://localhost:8080/"
        },
        "id": "H0JTIEnzbW4K",
        "outputId": "33da0794-59f2-4e34-e1a0-8ad19f8018de"
      },
      "execution_count": null,
      "outputs": [
        {
          "output_type": "stream",
          "name": "stdout",
          "text": [
            "enter the number5\n",
            "5\n",
            "4\n",
            "3\n",
            "2\n",
            "1\n",
            "0\n"
          ]
        }
      ]
    },
    {
      "cell_type": "code",
      "source": [
        "str1=input(\"Enter a String\")\n",
        "dict = {}\n",
        "for i in str1: \n",
        "    dict[i] = str1.count(i)\n",
        "print (dict)"
      ],
      "metadata": {
        "colab": {
          "base_uri": "https://localhost:8080/"
        },
        "id": "CPTqDOANbvrn",
        "outputId": "5bd38964-2986-49d8-d881-d6c9a59ce387"
      },
      "execution_count": null,
      "outputs": [
        {
          "output_type": "stream",
          "name": "stdout",
          "text": [
            "Enter a Stringbanana\n",
            "{'b': 1, 'a': 3, 'n': 2}\n"
          ]
        }
      ]
    },
    {
      "cell_type": "code",
      "source": [
        "my_lists=[\"divya\",\"armaan\",\"kushal\"]\n",
        "my_tuple=(\"divya\",\"armaan\",\"kushal\")\n",
        "print(my_lists)\n",
        "print(my_tuple)\n",
        "for i in my_lists:\n",
        "    print(i)\n",
        "for i in my_tuple:\n",
        "    print(i)"
      ],
      "metadata": {
        "colab": {
          "base_uri": "https://localhost:8080/"
        },
        "id": "n6xD0LgPbrgY",
        "outputId": "e13fe963-ec59-4a17-938c-fab45a3a0b6e"
      },
      "execution_count": null,
      "outputs": [
        {
          "output_type": "stream",
          "name": "stdout",
          "text": [
            "['divya', 'armaan', 'kushal']\n",
            "('divya', 'armaan', 'kushal')\n",
            "divya\n",
            "armaan\n",
            "kushal\n",
            "divya\n",
            "armaan\n",
            "kushal\n"
          ]
        }
      ]
    },
    {
      "cell_type": "code",
      "execution_count": null,
      "metadata": {
        "colab": {
          "base_uri": "https://localhost:8080/"
        },
        "id": "JGNafGL8aHhY",
        "outputId": "0a1516b1-902a-4eb6-c913-9b426e84d3e9"
      },
      "outputs": [
        {
          "output_type": "stream",
          "name": "stdout",
          "text": [
            "Enter a number: 5\n",
            "The factorial of 5 number is 120\n"
          ]
        }
      ],
      "source": [
        "# write a program to calculate factorial of a given number\n",
        "num = int(input(\"Enter a number: \"))\n",
        "res = 1\n",
        "for i in range(1, num+1):\n",
        "    res = res * i\n",
        "print(f\"The factorial of {num} number is {res}\")"
      ]
    },
    {
      "cell_type": "markdown",
      "source": [
        "Experiment 7.1"
      ],
      "metadata": {
        "id": "6scI5oEwXIeT"
      }
    },
    {
      "cell_type": "code",
      "source": [
        "str = input (\"Enter word:\")\n",
        "if str [ : 2] == \"0!\":\n",
        "  for i in range (len(str)) :\n",
        "    print (str[i])\n",
        "else :\n",
        "  print (\"Enter again \")"
      ],
      "metadata": {
        "id": "cfYhTGkpW9So",
        "outputId": "b2312b9d-016c-46c1-fc8d-45997ac796f0",
        "colab": {
          "base_uri": "https://localhost:8080/"
        }
      },
      "execution_count": null,
      "outputs": [
        {
          "output_type": "stream",
          "name": "stdout",
          "text": [
            "Enter word:0!armaan\n",
            "0\n",
            "!\n",
            "a\n",
            "r\n",
            "m\n",
            "a\n",
            "a\n",
            "n\n"
          ]
        }
      ]
    },
    {
      "cell_type": "markdown",
      "source": [
        "Experiment 7.2"
      ],
      "metadata": {
        "id": "3Ld7xz5RXmSH"
      }
    },
    {
      "cell_type": "code",
      "source": [
        "str = input (\"Enter word\")\n",
        "for i in range (-1, -len(str) - 1, -1) :\n",
        "  print (str[i])"
      ],
      "metadata": {
        "id": "NeD67AGgXYhR",
        "outputId": "85ab0371-747f-4ee9-86dd-331740bb6e31",
        "colab": {
          "base_uri": "https://localhost:8080/"
        }
      },
      "execution_count": null,
      "outputs": [
        {
          "output_type": "stream",
          "name": "stdout",
          "text": [
            "Enter wordarmaan mistry\n",
            "y\n",
            "r\n",
            "t\n",
            "s\n",
            "i\n",
            "m\n",
            " \n",
            "n\n",
            "a\n",
            "a\n",
            "m\n",
            "r\n",
            "a\n"
          ]
        }
      ]
    },
    {
      "cell_type": "markdown",
      "source": [
        "Experiment 7.3"
      ],
      "metadata": {
        "id": "qKkfZblAYFat"
      }
    },
    {
      "cell_type": "code",
      "source": [
        "s = input(\"Enter a new string :\")\n",
        "new = s[-1: :-1]\n",
        "print(new)"
      ],
      "metadata": {
        "id": "RKusRU6ZXtcj",
        "outputId": "f9bb4245-9274-4890-cb40-897ac51d4094",
        "colab": {
          "base_uri": "https://localhost:8080/"
        }
      },
      "execution_count": null,
      "outputs": [
        {
          "output_type": "stream",
          "name": "stdout",
          "text": [
            "Enter a new string :armaan mistry\n",
            "yrtsim naamra\n"
          ]
        }
      ]
    },
    {
      "cell_type": "markdown",
      "source": [
        "Experiment 7.4"
      ],
      "metadata": {
        "id": "MvbTmcitYZ2v"
      }
    },
    {
      "cell_type": "code",
      "source": [
        "s = input(\"Enter a string :\")\n",
        "letter = input(\"Enter a letter which you want to count .\")\n",
        "count = 0\n",
        "for i in s :\n",
        "  if i == letter :\n",
        "      count += 1\n",
        "print(count)"
      ],
      "metadata": {
        "id": "ySP6MvOvYKeY",
        "outputId": "6889b824-e389-481c-d9b6-ef6a729610ab",
        "colab": {
          "base_uri": "https://localhost:8080/"
        }
      },
      "execution_count": null,
      "outputs": [
        {
          "output_type": "stream",
          "name": "stdout",
          "text": [
            "Enter a string :armaan mistry\n",
            "Enter a letter which you want to count .a\n",
            "3\n"
          ]
        }
      ]
    },
    {
      "cell_type": "markdown",
      "source": [
        "Experiment 8.1"
      ],
      "metadata": {
        "id": "f0s6j3TKYeLe"
      }
    },
    {
      "cell_type": "code",
      "source": [
        "n = [12,45,8,2,46]\n",
        "l = len(n)\n",
        "t= 0\n",
        "for i in range(l) :\n",
        "  t = t + n[i]\n",
        "print(\"Total: \",t)\n",
        "mean = t/l\n",
        "print(mean)"
      ],
      "metadata": {
        "id": "9lhFH9owYSde",
        "outputId": "ab0a07a8-0290-45ee-9933-d5961db35846",
        "colab": {
          "base_uri": "https://localhost:8080/"
        }
      },
      "execution_count": null,
      "outputs": [
        {
          "output_type": "stream",
          "name": "stdout",
          "text": [
            "Total:  113\n",
            "22.6\n"
          ]
        }
      ]
    },
    {
      "cell_type": "markdown",
      "source": [
        "Experiment 8.2"
      ],
      "metadata": {
        "id": "xqalB_WcYqU9"
      }
    },
    {
      "cell_type": "code",
      "source": [
        "numb = [2, 4, 5, 8, 9]\n",
        "no = len(numb)\n",
        "numb.sort()\n",
        "if no % 2 == 0:\n",
        "  median1 = numb[no//2]\n",
        "  median2 = numb[no//2 - 1]\n",
        "  median = (median1 + median2)/2\n",
        "else:\n",
        "  median = numb[no//2]\n",
        "print(\"The median of the given numbers \", numb, \"is\",(median))"
      ],
      "metadata": {
        "id": "MqfQqTZZYk9D",
        "outputId": "66625978-97d7-48d7-de75-f54d77c365c1",
        "colab": {
          "base_uri": "https://localhost:8080/"
        }
      },
      "execution_count": null,
      "outputs": [
        {
          "output_type": "stream",
          "name": "stdout",
          "text": [
            "The median of the given numbers  [2, 4, 5, 8, 9] is 5\n"
          ]
        }
      ]
    },
    {
      "cell_type": "code",
      "source": [
        "d = {\"boywithuke\" : \"toxic\" , \"selena\": \"taki\", \"marshmellow\" :\"friends\",\"harry\" :\"asitwas\"}\n",
        "username = input(\"Enter the username :\")\n",
        "if username in d:\n",
        "  password = input(\"Enter the password :\")\n",
        "  if d[username]== password :\n",
        "    print(\"You are logged in!\")\n",
        "  else :\n",
        "    print(\"You have entered wrong password . \")\n",
        "else :\n",
        "  print(\"The person is not valid to login .\")"
      ],
      "metadata": {
        "id": "-Hu_ZHB0YpU2",
        "outputId": "e7776bbd-c954-4c14-a044-76224b8c5b66",
        "colab": {
          "base_uri": "https://localhost:8080/"
        }
      },
      "execution_count": null,
      "outputs": [
        {
          "output_type": "stream",
          "name": "stdout",
          "text": [
            "Enter the username :boywithuke\n",
            "Enter the password :toxic\n",
            "You are logged in!\n"
          ]
        }
      ]
    },
    {
      "cell_type": "markdown",
      "source": [
        "Experiment 10"
      ],
      "metadata": {
        "id": "G-Yc5-RUZj9k"
      }
    },
    {
      "cell_type": "code",
      "source": [
        "# t = (1, 2, 3)\n",
        "# i = ''.join(map(str, t))\n",
        "# print(i)"
      ],
      "metadata": {
        "id": "5wr6pM-LZeBX"
      },
      "execution_count": 1,
      "outputs": []
    },
    {
      "cell_type": "markdown",
      "source": [
        "Experiment 11"
      ],
      "metadata": {
        "id": "cUE-m77lZoYd"
      }
    },
    {
      "cell_type": "code",
      "source": [
        "sub_marks = [('Mathematics', 92), ('Python', 94), ('Environment',95)]\n",
        "print(\"Original list of tuples:\")\n",
        "print(sub_marks)\n",
        "sub_marks.sort(key = lambda x: x[1])\n",
        "print(\"\\nSorting the List of Tuples:\")\n",
        "print(sub_marks)"
      ],
      "metadata": {
        "id": "Jj2zHgnPZi08",
        "outputId": "618c47eb-a60e-40b2-da63-0cb8f361f3ad",
        "colab": {
          "base_uri": "https://localhost:8080/"
        }
      },
      "execution_count": null,
      "outputs": [
        {
          "output_type": "stream",
          "name": "stdout",
          "text": [
            "Original list of tuples:\n",
            "[('Mathematics', 92), ('Python', 94), ('Environment', 95)]\n",
            "\n",
            "Sorting the List of Tuples:\n",
            "[('Mathematics', 92), ('Python', 94), ('Environment', 95)]\n"
          ]
        }
      ]
    },
    {
      "cell_type": "markdown",
      "source": [
        "Experiment 12"
      ],
      "metadata": {
        "id": "2RzTTWX9Z7wy"
      }
    },
    {
      "cell_type": "code",
      "source": [
        "# tup = eval(input(\"Enter a tuple :- \"))\n",
        "# index = 0\n",
        "# while index < len(tup):\n",
        "#   new = tup[ index ][1 : ] + tup[ index ][ 0 ] + \"ay\"\n",
        "#   print (new, end = \" \")\n",
        "#   index += 1"
      ],
      "metadata": {
        "id": "fpANzVMpZ325"
      },
      "execution_count": null,
      "outputs": []
    },
    {
      "cell_type": "markdown",
      "source": [
        "Experiment 13"
      ],
      "metadata": {
        "id": "mXF73Um7aVB5"
      }
    },
    {
      "cell_type": "code",
      "source": [
        "n = int(input(\"Enter a number: \"))\n",
        "n1 = 0\n",
        "n2=1\n",
        "print(\"Series\",n1,n2,end=\" \")\n",
        "for i in range(2,n):\n",
        "  new = n1 + n2\n",
        "  n1 = n2\n",
        "  n2 = new\n",
        "  print(new, end=\" \")\n",
        "print()"
      ],
      "metadata": {
        "id": "I7qICxRraSAE",
        "outputId": "6565f612-3ee3-41c3-cb24-d69f2cbb61d2",
        "colab": {
          "base_uri": "https://localhost:8080/"
        }
      },
      "execution_count": null,
      "outputs": [
        {
          "output_type": "stream",
          "name": "stdout",
          "text": [
            "Enter a number: 10\n",
            "Series 0 1 1 2 3 5 8 13 21 34 \n"
          ]
        }
      ]
    },
    {
      "cell_type": "code",
      "source": [
        "while True:\n",
        "    print(\"\\nMENU\")\n",
        "    print(\"1. Binary Search\")\n",
        "    print(\"2. Linear Search\")\n",
        "\n",
        "    print(\"3. Exit\")\n",
        "    choice = int(input(\"\\nEnter the Choice: \"))\n",
        "\n",
        "    if choice == 1:\n",
        "        def binary_search(list1, n):\n",
        "            low = 0\n",
        "            high = len(list1) - 1\n",
        "            mid = 0\n",
        "\n",
        "            while low <= high:\n",
        "\n",
        "                mid = (high + low) // 2\n",
        "\n",
        "                if list1[mid] < n:\n",
        "                    low = mid + 1\n",
        "\n",
        "                elif list1[mid] > n:\n",
        "                    high = mid - 1\n",
        "                else:\n",
        "                    return mid\n",
        "\n",
        "            return -1\n",
        "\n",
        "        list1 = []\n",
        "        i = 0\n",
        "        while i < 5:\n",
        "            list1.append(int(input(\"enter digits of array:\")))\n",
        "            i = i + 1\n",
        "\n",
        "        # list1.append(input(\"enter digit\"))\n",
        "        n = int(input(\"enter your target: \"))\n",
        "\n",
        "        # Function call\n",
        "        result = binary_search(list1, n)\n",
        "\n",
        "        if result != -1:\n",
        "            print(\"Element is present at index\", str(result))\n",
        "        else:\n",
        "            print(\"Element is not present in list1\")\n",
        "\n",
        "    if choice == 2:\n",
        "        def search(arr, x):\n",
        "\n",
        "            for i in range(len(arr)):\n",
        "\n",
        "                if arr[i] == x:\n",
        "                    return i\n",
        "\n",
        "            return -1\n",
        "\n",
        "\n",
        "        list1 = []\n",
        "        i = 0\n",
        "        while i < 5:\n",
        "            list1.append(int(input(\"enter digits of array:\")))\n",
        "            i = i + 1\n",
        "\n",
        "        # list1.append(input(\"enter digit\"))\n",
        "        n = int(input(\"enter your target: \"))\n",
        "\n",
        "        # Function call\n",
        "        result = search(list1, n)\n",
        "\n",
        "        if result != -1:\n",
        "            print(\"Element is present at index\", result)\n",
        "        else:\n",
        "            print(\"Element is not present in list1\")\n",
        "\n",
        "    break"
      ],
      "metadata": {
        "id": "5IBwFXwXadgH",
        "outputId": "c37dbad0-b502-46c8-dc94-2c2fecd7b608",
        "colab": {
          "base_uri": "https://localhost:8080/"
        }
      },
      "execution_count": null,
      "outputs": [
        {
          "output_type": "stream",
          "name": "stdout",
          "text": [
            "\n",
            "MENU\n",
            "1. Binary Search\n",
            "2. Linear Search\n",
            "3. Exit\n",
            "\n",
            "Enter the Choice: 2\n",
            "enter digits of array:1\n",
            "enter digits of array:5\n",
            "enter digits of array:7\n",
            "enter digits of array:9\n",
            "enter digits of array:4\n",
            "enter your target: 9\n",
            "Element is present at index 3\n"
          ]
        }
      ]
    },
    {
      "cell_type": "markdown",
      "source": [
        "Experiment 15.1"
      ],
      "metadata": {
        "id": "2GuOWuTlbY7A"
      }
    },
    {
      "cell_type": "code",
      "source": [
        "list1=[30,5,6,8,5,2]\n",
        "print(list1)\n",
        "\n",
        "for i in range(len(list1)-1):\n",
        "\n",
        "  for j in range(i+1,len(list1)):\n",
        "\n",
        "    if list1[i] > list1[j]:\n",
        "\n",
        "      list1[i],list1[j] = list1[j],list1[i]\n",
        "\n",
        "print(list1)"
      ],
      "metadata": {
        "id": "iHNJNNzgbLcK",
        "outputId": "1c14f2e8-b47c-4969-94d0-57ff323c5f1c",
        "colab": {
          "base_uri": "https://localhost:8080/"
        }
      },
      "execution_count": null,
      "outputs": [
        {
          "output_type": "stream",
          "name": "stdout",
          "text": [
            "[30, 5, 6, 8, 5, 2]\n",
            "[2, 5, 5, 6, 8, 30]\n"
          ]
        }
      ]
    },
    {
      "cell_type": "markdown",
      "source": [
        "Experiment 15.2"
      ],
      "metadata": {
        "id": "VfnEm7CQbd6B"
      }
    },
    {
      "cell_type": "code",
      "source": [
        "list1=[10,4,25,1,5]\n",
        "print(list1)\n",
        "\n",
        "for i in range(1,len(list1)):\n",
        "\n",
        "  value0 = list1[i]                  \n",
        "\n",
        "  j = i-1\n",
        "\n",
        "  while j>=0 and value0<list1[j]:\n",
        "\n",
        "    list1[j+1] = list1[j]\n",
        "    j=j-1\n",
        "\n",
        "  list1[j+1] = value0\n",
        "  print(list1)"
      ],
      "metadata": {
        "id": "mqA7ChoybbwD",
        "outputId": "d95cfb5c-60fc-4685-ff57-db4472ab3aac",
        "colab": {
          "base_uri": "https://localhost:8080/"
        }
      },
      "execution_count": null,
      "outputs": [
        {
          "output_type": "stream",
          "name": "stdout",
          "text": [
            "[10, 4, 25, 1, 5]\n",
            "[4, 10, 25, 1, 5]\n",
            "[4, 10, 25, 1, 5]\n",
            "[1, 4, 10, 25, 5]\n",
            "[1, 4, 5, 10, 25]\n"
          ]
        }
      ]
    },
    {
      "cell_type": "code",
      "source": [
        ""
      ],
      "metadata": {
        "id": "oGrNd2-Nbf7M"
      },
      "execution_count": null,
      "outputs": []
    },
    {
      "cell_type": "code",
      "source": [
        ""
      ],
      "metadata": {
        "id": "9QBzYRTGa7qI"
      },
      "execution_count": null,
      "outputs": []
    },
    {
      "cell_type": "code",
      "source": [
        ""
      ],
      "metadata": {
        "id": "3C36qSQPaDIw"
      },
      "execution_count": null,
      "outputs": []
    },
    {
      "cell_type": "code",
      "source": [
        ""
      ],
      "metadata": {
        "id": "ei4BvygiZT--"
      },
      "execution_count": null,
      "outputs": []
    }
  ]
}