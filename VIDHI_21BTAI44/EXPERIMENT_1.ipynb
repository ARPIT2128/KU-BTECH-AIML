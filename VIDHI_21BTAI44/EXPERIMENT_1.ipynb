{
  "nbformat": 4,
  "nbformat_minor": 0,
  "metadata": {
    "colab": {
      "name": "EXPERIMENT 1.ipynb",
      "provenance": [],
      "authorship_tag": "ABX9TyM5yiJERecW0wh5UF5q76Uv",
      "include_colab_link": true
    },
    "kernelspec": {
      "name": "python3",
      "display_name": "Python 3"
    },
    "language_info": {
      "name": "python"
    }
  },
  "cells": [
    {
      "cell_type": "markdown",
      "metadata": {
        "id": "view-in-github",
        "colab_type": "text"
      },
      "source": [
        "<a href=\"https://colab.research.google.com/github/ARPIT2128/KU-BTECH-AIML/blob/main/VIDHI_21BTAI44/EXPERIMENT_1.ipynb\" target=\"_parent\"><img src=\"https://colab.research.google.com/assets/colab-badge.svg\" alt=\"Open In Colab\"/></a>"
      ]
    },
    {
      "cell_type": "code",
      "execution_count": null,
      "metadata": {
        "id": "kykwpeFUC1va"
      },
      "outputs": [],
      "source": [
        ""
      ]
    },
    {
      "cell_type": "code",
      "source": [
        "#EXPERIMENT 1\n",
        "a=20\n",
        "print(a)\n",
        "print(type(a))\n",
        "\n",
        "b=2.48\n",
        "print(b)\n",
        "print(type(b))\n",
        "\n",
        "c=2+4j\n",
        "print(c)\n",
        "print(type(c))\n",
        "\n",
        "d=\"Vidhi\"\n",
        "print(d)\n",
        "print(type(d))\n",
        "\n",
        "e=[1,2,3,\"vidhi\"]\n",
        "print(e)\n",
        "print(type(e))\n",
        "\n",
        "f=tuple(\"vidhi\")\n",
        "print(f)\n",
        "print(type(f))\n",
        "\n",
        "g=dict(clas=\"A\",grade=\"B\",name=\"C\")\n",
        "print(g)\n",
        "print(type(g))\n",
        "\n",
        "h=True\n",
        "print(h)\n",
        "print(type(h))\n",
        "\n",
        "i=False\n",
        "print(i)\n",
        "print(type(i))\n",
        "\n",
        "j={\"vidhi\"}\n",
        "print(j)\n",
        "print(type(j))"
      ],
      "metadata": {
        "colab": {
          "base_uri": "https://localhost:8080/"
        },
        "id": "0276WY_IZvGx",
        "outputId": "7e67cbc1-77ad-4a15-bfe0-f542eba7b2f5"
      },
      "execution_count": 1,
      "outputs": [
        {
          "output_type": "stream",
          "name": "stdout",
          "text": [
            "20\n",
            "<class 'int'>\n",
            "2.48\n",
            "<class 'float'>\n",
            "(2+4j)\n",
            "<class 'complex'>\n",
            "Vidhi\n",
            "<class 'str'>\n",
            "[1, 2, 3, 'vidhi']\n",
            "<class 'list'>\n",
            "('v', 'i', 'd', 'h', 'i')\n",
            "<class 'tuple'>\n",
            "{'clas': 'A', 'grade': 'B', 'name': 'C'}\n",
            "<class 'dict'>\n",
            "True\n",
            "<class 'bool'>\n",
            "False\n",
            "<class 'bool'>\n",
            "{'vidhi'}\n",
            "<class 'set'>\n"
          ]
        }
      ]
    }
  ]
}