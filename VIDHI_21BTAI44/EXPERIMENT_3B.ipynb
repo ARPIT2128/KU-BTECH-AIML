{
  "nbformat": 4,
  "nbformat_minor": 0,
  "metadata": {
    "colab": {
      "name": "EXPERIMENT 3B.ipynb",
      "provenance": [],
      "authorship_tag": "ABX9TyOLN9T3fIslPEJk8yDdj54I",
      "include_colab_link": true
    },
    "kernelspec": {
      "name": "python3",
      "display_name": "Python 3"
    },
    "language_info": {
      "name": "python"
    }
  },
  "cells": [
    {
      "cell_type": "markdown",
      "metadata": {
        "id": "view-in-github",
        "colab_type": "text"
      },
      "source": [
        "<a href=\"https://colab.research.google.com/github/ARPIT2128/KU-BTECH-AIML/blob/main/VIDHI_21BTAI44/EXPERIMENT_3B.ipynb\" target=\"_parent\"><img src=\"https://colab.research.google.com/assets/colab-badge.svg\" alt=\"Open In Colab\"/></a>"
      ]
    },
    {
      "cell_type": "code",
      "execution_count": 5,
      "metadata": {
        "colab": {
          "base_uri": "https://localhost:8080/"
        },
        "id": "1ijzmMWTe4v4",
        "outputId": "24f61294-bfd2-40e6-a45a-bcc2511bc7fc"
      },
      "outputs": [
        {
          "output_type": "stream",
          "name": "stdout",
          "text": [
            "Enter the number=153\n",
            "153 is an armstrong number\n"
          ]
        }
      ],
      "source": [
        "n1= int(input(\"Enter the number=\"))\n",
        "s = 0\n",
        "num = n1\n",
        "while num>0:\n",
        "  digit = num % 10\n",
        "  s += digit**3\n",
        "  num //= 10\n",
        "if n1 == s:\n",
        "  print(n1,\"is an armstrong number\")\n",
        "else:\n",
        "  print(n1,\"is not an armstrong number\")"
      ]
    }
  ]
}