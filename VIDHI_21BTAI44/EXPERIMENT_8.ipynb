{
  "nbformat": 4,
  "nbformat_minor": 0,
  "metadata": {
    "colab": {
      "name": "EXPERIMENT 8.ipynb",
      "provenance": [],
      "authorship_tag": "ABX9TyNblnulvB4VEZ1SveaMmTip",
      "include_colab_link": true
    },
    "kernelspec": {
      "name": "python3",
      "display_name": "Python 3"
    },
    "language_info": {
      "name": "python"
    }
  },
  "cells": [
    {
      "cell_type": "markdown",
      "metadata": {
        "id": "view-in-github",
        "colab_type": "text"
      },
      "source": [
        "<a href=\"https://colab.research.google.com/github/ARPIT2128/KU-BTECH-AIML/blob/main/VIDHI_21BTAI44/EXPERIMENT_8.ipynb\" target=\"_parent\"><img src=\"https://colab.research.google.com/assets/colab-badge.svg\" alt=\"Open In Colab\"/></a>"
      ]
    },
    {
      "cell_type": "code",
      "execution_count": 1,
      "metadata": {
        "colab": {
          "base_uri": "https://localhost:8080/"
        },
        "id": "J8Fy_xKK-bBb",
        "outputId": "ac920463-118b-46ed-96a0-838d843424d7"
      },
      "outputs": [
        {
          "output_type": "stream",
          "name": "stdout",
          "text": [
            "37.55555555555556\n",
            "43\n",
            "1\n",
            "95\n"
          ]
        }
      ],
      "source": [
        "def mean(l):\n",
        "  return sum(l)/len(l)\n",
        "def median(l):\n",
        "  l.sort()\n",
        "  le=len(l)\n",
        "  if le%2==0:\n",
        "    return l[le//2-l],l[le//2]\n",
        "  return l[le//2]\n",
        "def mode(l):\n",
        "  count=0\n",
        "  el=None\n",
        "  for i in l:\n",
        "    if l.count(i)>count:\n",
        "      el=i\n",
        "      count=l.count(i)\n",
        "    return el\n",
        "def range(l):\n",
        "  return max(l)-min(l)\n",
        "lst=[1,3,54,43,44,75,12,96,10]\n",
        "print(mean(lst))\n",
        "print(median(lst))\n",
        "print(mode(lst))\n",
        "print(range(lst))"
      ]
    }
  ]
}