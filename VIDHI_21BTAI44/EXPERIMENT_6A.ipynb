{
  "nbformat": 4,
  "nbformat_minor": 0,
  "metadata": {
    "colab": {
      "name": "EXPERIMENT 6A.ipynb",
      "provenance": [],
      "authorship_tag": "ABX9TyOR74O15xW2LV3rTVvoiIPm",
      "include_colab_link": true
    },
    "kernelspec": {
      "name": "python3",
      "display_name": "Python 3"
    },
    "language_info": {
      "name": "python"
    }
  },
  "cells": [
    {
      "cell_type": "markdown",
      "metadata": {
        "id": "view-in-github",
        "colab_type": "text"
      },
      "source": [
        "<a href=\"https://colab.research.google.com/github/ARPIT2128/KU-BTECH-AIML/blob/main/VIDHI_21BTAI44/EXPERIMENT_6A.ipynb\" target=\"_parent\"><img src=\"https://colab.research.google.com/assets/colab-badge.svg\" alt=\"Open In Colab\"/></a>"
      ]
    },
    {
      "cell_type": "code",
      "execution_count": 7,
      "metadata": {
        "colab": {
          "base_uri": "https://localhost:8080/"
        },
        "id": "1ijzmMWTe4v4",
        "outputId": "48beb232-f89d-4127-a1f7-30d88ffc2ded"
      },
      "outputs": [
        {
          "output_type": "stream",
          "name": "stdout",
          "text": [
            "<class 'list'> [1, 2, 3, 'Hello'] \n",
            " <class 'tuple'> (1, 2, 3, 4, 'HelloWorld')\n"
          ]
        }
      ],
      "source": [
        "l=[1,2,3,\"Hello\"]\n",
        "t=(1,2,3,4,\"HelloWorld\")\n",
        "print(type(l),l,\"\\n\",type(t),t)"
      ]
    }
  ]
}