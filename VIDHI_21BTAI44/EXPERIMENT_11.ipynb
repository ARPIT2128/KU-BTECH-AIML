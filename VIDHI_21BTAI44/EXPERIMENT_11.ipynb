{
  "nbformat": 4,
  "nbformat_minor": 0,
  "metadata": {
    "colab": {
      "name": "EXPERIMENT 11.ipynb",
      "provenance": [],
      "authorship_tag": "ABX9TyNpX/eVixUIcNkPyOQvJ4mX",
      "include_colab_link": true
    },
    "kernelspec": {
      "name": "python3",
      "display_name": "Python 3"
    },
    "language_info": {
      "name": "python"
    }
  },
  "cells": [
    {
      "cell_type": "markdown",
      "metadata": {
        "id": "view-in-github",
        "colab_type": "text"
      },
      "source": [
        "<a href=\"https://colab.research.google.com/github/ARPIT2128/KU-BTECH-AIML/blob/main/VIDHI_21BTAI44/EXPERIMENT_11.ipynb\" target=\"_parent\"><img src=\"https://colab.research.google.com/assets/colab-badge.svg\" alt=\"Open In Colab\"/></a>"
      ]
    },
    {
      "cell_type": "code",
      "execution_count": 6,
      "metadata": {
        "colab": {
          "base_uri": "https://localhost:8080/"
        },
        "id": "J8Fy_xKK-bBb",
        "outputId": "5328ce9a-2e3b-4a49-c0a8-252dee246295"
      },
      "outputs": [
        {
          "output_type": "stream",
          "name": "stdout",
          "text": [
            "[('Engineering Physics', 83), ('Environmental Science', 88), ('Discrete Mathematics', 93), ('Python Programming', 95)]\n"
          ]
        }
      ],
      "source": [
        "sortlst=lambda lst: sorted(lst,key=lambda x:x[1])\n",
        "print(sortlst([('Discrete Mathematics', 93), ('Python Programming', 95), ('Environmental Science', 88), ('Engineering Physics', 83)]))"
      ]
    }
  ]
}