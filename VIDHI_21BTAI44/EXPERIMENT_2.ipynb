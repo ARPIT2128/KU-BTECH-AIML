{
  "nbformat": 4,
  "nbformat_minor": 0,
  "metadata": {
    "colab": {
      "name": "EXPERIMENT 2.ipynb",
      "provenance": [],
      "authorship_tag": "ABX9TyNGsqaTl7dJVCuFzit02tyG",
      "include_colab_link": true
    },
    "kernelspec": {
      "name": "python3",
      "display_name": "Python 3"
    },
    "language_info": {
      "name": "python"
    }
  },
  "cells": [
    {
      "cell_type": "markdown",
      "metadata": {
        "id": "view-in-github",
        "colab_type": "text"
      },
      "source": [
        "<a href=\"https://colab.research.google.com/github/ARPIT2128/KU-BTECH-AIML/blob/main/VIDHI_21BTAI44/EXPERIMENT_2.ipynb\" target=\"_parent\"><img src=\"https://colab.research.google.com/assets/colab-badge.svg\" alt=\"Open In Colab\"/></a>"
      ]
    },
    {
      "cell_type": "code",
      "execution_count": 1,
      "metadata": {
        "colab": {
          "base_uri": "https://localhost:8080/"
        },
        "id": "1ijzmMWTe4v4",
        "outputId": "8502e41d-9226-4b60-e189-360bcdd3bcb5"
      },
      "outputs": [
        {
          "output_type": "stream",
          "name": "stdout",
          "text": [
            "Enter number X1=2\n",
            "Enter number X2=1\n",
            "Enter number Y1=2\n",
            "Enter number Y2=1\n",
            "Distance between (2, 2) and (1, 1) is 1.4142135623730951\n"
          ]
        }
      ],
      "source": [
        "import math\n",
        "x1=int(input(\"Enter number X1=\"))\n",
        "x2=int(input(\"Enter number X2=\"))\n",
        "y1=int(input(\"Enter number Y1=\"))\n",
        "y2=int(input(\"Enter number Y2=\"))\n",
        "distance=math.sqrt((x2-x1)**2 + (y2-y1)**2)\n",
        "print(\"Distance between\",(x1,y1),\"and\",(x2,y2),\"is\",distance)"
      ]
    }
  ]
}