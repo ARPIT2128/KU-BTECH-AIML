{
  "nbformat": 4,
  "nbformat_minor": 0,
  "metadata": {
    "colab": {
      "name": "EXPERIMENT 15.ipynb",
      "provenance": [],
      "authorship_tag": "ABX9TyOr1bfyBct9dNu4/UsPNmDd",
      "include_colab_link": true
    },
    "kernelspec": {
      "name": "python3",
      "display_name": "Python 3"
    },
    "language_info": {
      "name": "python"
    }
  },
  "cells": [
    {
      "cell_type": "markdown",
      "metadata": {
        "id": "view-in-github",
        "colab_type": "text"
      },
      "source": [
        "<a href=\"https://colab.research.google.com/github/ARPIT2128/KU-BTECH-AIML/blob/main/VIDHI_21BTAI44/EXPERIMENT_15.ipynb\" target=\"_parent\"><img src=\"https://colab.research.google.com/assets/colab-badge.svg\" alt=\"Open In Colab\"/></a>"
      ]
    },
    {
      "cell_type": "code",
      "execution_count": 2,
      "metadata": {
        "colab": {
          "base_uri": "https://localhost:8080/"
        },
        "id": "hzgvo-wjFd4o",
        "outputId": "0f226e4d-6d25-45b5-c690-940e6606966a"
      },
      "outputs": [
        {
          "output_type": "stream",
          "name": "stdout",
          "text": [
            "\n",
            "Sorted List By MergeSort is\n",
            "[5, 6, 7, 11, 12, 13]\n",
            "\n",
            "Sorted List By SelectionSort is\n",
            "[5, 6, 7, 11, 12, 13]\n",
            "\n",
            "Sorted List By InsertionSort is\n",
            "[5, 6, 7, 11, 12, 13]\n"
          ]
        }
      ],
      "source": [
        "def mergeSort(arr):\n",
        "    if len(arr) > 1:\n",
        "        mid = len(arr) // 2\n",
        "        L = arr[:mid]\n",
        "        R = arr[mid:]\n",
        "        mergeSort(L)\n",
        "        mergeSort(R)\n",
        "        i = j = k = 0\n",
        "\n",
        "        while i < len(L) and j < len(R):\n",
        "            if L[i] < R[j]:\n",
        "                arr[k] = L[i]\n",
        "                i += 1\n",
        "            else:\n",
        "                arr[k] = R[j]\n",
        "                j += 1\n",
        "            k += 1\n",
        "\n",
        "        while i < len(L):\n",
        "            arr[k] = L[i]\n",
        "            i += 1\n",
        "            k += 1\n",
        "\n",
        "        while j < len(R):\n",
        "            arr[k] = R[j]\n",
        "            j += 1\n",
        "            k += 1\n",
        "    return arr\n",
        "\n",
        "arr = [12, 11, 13, 5, 6, 7]\n",
        "print(f\"\\nSorted List By MergeSort is\\n{mergeSort(arr)}\")\n",
        "\n",
        "\n",
        "\n",
        "#implementation of selection sort\n",
        "arrr = [12, 11, 13, 5, 6, 7]\n",
        "def selectionSort(arr):\n",
        "    for i in range(len(arr)):\n",
        "        min_idx = i\n",
        "        for j in range(i + 1, len(arr)):\n",
        "            if arr[min_idx] > arr[j]:\n",
        "                min_idx = j\n",
        "        arr[i], arr[min_idx] = arr[min_idx], arr[i]\n",
        "    return arr\n",
        "print(f\"\\nSorted List By SelectionSort is\\n{selectionSort(arrr)}\")\n",
        "\n",
        "\n",
        "\n",
        "#implementation of insertion sort\n",
        "def insertionSort(array):\n",
        "    for step in range(1, len(array)):\n",
        "        key = array[step]\n",
        "        j = step - 1\n",
        "        while j >= 0 and key < array[j]:\n",
        "            array[j + 1] = array[j]\n",
        "            j = j - 1\n",
        "        array[j + 1] = key\n",
        "    return array\n",
        "\n",
        "data = [12, 11, 13, 5, 6, 7]\n",
        "print(f'\\nSorted List By InsertionSort is\\n{insertionSort(data)}')"
      ]
    }
  ]
}