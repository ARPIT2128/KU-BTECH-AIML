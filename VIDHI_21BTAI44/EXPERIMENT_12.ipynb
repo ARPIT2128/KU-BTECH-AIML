{
  "nbformat": 4,
  "nbformat_minor": 0,
  "metadata": {
    "colab": {
      "name": "EXPERIMENT 12.ipynb",
      "provenance": [],
      "authorship_tag": "ABX9TyNzYQrh0eu8Tm4NSetomppr",
      "include_colab_link": true
    },
    "kernelspec": {
      "name": "python3",
      "display_name": "Python 3"
    },
    "language_info": {
      "name": "python"
    }
  },
  "cells": [
    {
      "cell_type": "markdown",
      "metadata": {
        "id": "view-in-github",
        "colab_type": "text"
      },
      "source": [
        "<a href=\"https://colab.research.google.com/github/ARPIT2128/KU-BTECH-AIML/blob/main/VIDHI_21BTAI44/EXPERIMENT_12.ipynb\" target=\"_parent\"><img src=\"https://colab.research.google.com/assets/colab-badge.svg\" alt=\"Open In Colab\"/></a>"
      ]
    },
    {
      "cell_type": "code",
      "execution_count": 7,
      "metadata": {
        "colab": {
          "base_uri": "https://localhost:8080/"
        },
        "id": "J8Fy_xKK-bBb",
        "outputId": "c65a0a98-76c9-43ff-c204-bcd39e61d2e3"
      },
      "outputs": [
        {
          "output_type": "stream",
          "name": "stdout",
          "text": [
            "Encoded Message: HetayUickqayRownbayOxfay\n",
            "Decoded Message: Fhetayuickqayrownbayox\n"
          ]
        }
      ],
      "source": [
        "t=(\"The\",\"quick\",\"brown\",\"fox\")\n",
        "e=\"\"\n",
        "for i in t:\n",
        "  e+=i[1:].title()+i[0].lower()+\"ay\"\n",
        "e=e.rstrip()\n",
        "print(\"Encoded Message:\",e)\n",
        "l=e.split()\n",
        "d=\"\"\n",
        "for i in l:\n",
        "  a=i.strip(\"ay\")\n",
        "  d+=a[-1].upper()+a[:-1].lower()+\"\"\n",
        "d=d.rstrip()\n",
        "print(\"Decoded Message:\",d)"
      ]
    }
  ]
}