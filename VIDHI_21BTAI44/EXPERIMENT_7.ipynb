{
  "nbformat": 4,
  "nbformat_minor": 0,
  "metadata": {
    "colab": {
      "name": "EXPERIMENT 7.ipynb",
      "provenance": [],
      "authorship_tag": "ABX9TyNfDWx9a6Sc874JXbQuHdVf",
      "include_colab_link": true
    },
    "kernelspec": {
      "name": "python3",
      "display_name": "Python 3"
    },
    "language_info": {
      "name": "python"
    }
  },
  "cells": [
    {
      "cell_type": "markdown",
      "metadata": {
        "id": "view-in-github",
        "colab_type": "text"
      },
      "source": [
        "<a href=\"https://colab.research.google.com/github/ARPIT2128/KU-BTECH-AIML/blob/main/VIDHI_21BTAI44/EXPERIMENT_7.ipynb\" target=\"_parent\"><img src=\"https://colab.research.google.com/assets/colab-badge.svg\" alt=\"Open In Colab\"/></a>"
      ]
    },
    {
      "cell_type": "code",
      "execution_count": 2,
      "metadata": {
        "colab": {
          "base_uri": "https://localhost:8080/"
        },
        "id": "J8Fy_xKK-bBb",
        "outputId": "9d67c301-aa23-48f1-c2ec-6abdeaaf42e1"
      },
      "outputs": [
        {
          "output_type": "stream",
          "name": "stdout",
          "text": [
            "enter a string:VIDHI\n",
            "V\n",
            "I\n",
            "D\n",
            "H\n",
            "I\n",
            "I\n",
            "H\n",
            "D\n",
            "I\n",
            "V\n",
            "IHDIV\n",
            "Enter the letter to countMOOT\n",
            "MOOT appears 0 times\n"
          ]
        }
      ],
      "source": [
        "st=input(\"enter a string:\")\n",
        "for i in st:\n",
        "  print(i)\n",
        "for i in st[::-1] :\n",
        "  print(i)\n",
        "st2=st[::-1]\n",
        "print(st2)\n",
        "count=0\n",
        "ch=input(\"Enter the letter to count\")\n",
        "for i in st:\n",
        "  if i==ch:\n",
        "    count+=1\n",
        "print(\"{} appears {} times\".format(ch,count))"
      ]
    }
  ]
}