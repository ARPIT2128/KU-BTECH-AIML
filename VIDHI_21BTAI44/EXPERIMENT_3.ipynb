{
  "nbformat": 4,
  "nbformat_minor": 0,
  "metadata": {
    "colab": {
      "name": "EXPERIMENT 3.ipynb",
      "provenance": [],
      "authorship_tag": "ABX9TyOL7HghXuKset+zIKRseG8g",
      "include_colab_link": true
    },
    "kernelspec": {
      "name": "python3",
      "display_name": "Python 3"
    },
    "language_info": {
      "name": "python"
    }
  },
  "cells": [
    {
      "cell_type": "markdown",
      "metadata": {
        "id": "view-in-github",
        "colab_type": "text"
      },
      "source": [
        "<a href=\"https://colab.research.google.com/github/ARPIT2128/KU-BTECH-AIML/blob/main/VIDHI_21BTAI44/EXPERIMENT_3.ipynb\" target=\"_parent\"><img src=\"https://colab.research.google.com/assets/colab-badge.svg\" alt=\"Open In Colab\"/></a>"
      ]
    },
    {
      "cell_type": "code",
      "execution_count": 2,
      "metadata": {
        "colab": {
          "base_uri": "https://localhost:8080/"
        },
        "id": "1ijzmMWTe4v4",
        "outputId": "4d6d869b-eee7-4892-ac5b-a52f461d1c96"
      },
      "outputs": [
        {
          "output_type": "stream",
          "name": "stdout",
          "text": [
            "Enter the number=3\n",
            "ODD\n"
          ]
        }
      ],
      "source": [
        "num = int(input(\"Enter the number=\"))\n",
        "if(num % 2==0):\n",
        "  print(\"EVEN\")\n",
        "else:\n",
        "  print(\"ODD\")"
      ]
    }
  ]
}