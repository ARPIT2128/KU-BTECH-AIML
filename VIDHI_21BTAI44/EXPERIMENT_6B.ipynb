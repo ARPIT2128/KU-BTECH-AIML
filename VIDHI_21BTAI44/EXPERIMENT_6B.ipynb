{
  "nbformat": 4,
  "nbformat_minor": 0,
  "metadata": {
    "colab": {
      "name": "EXPERIMENT 6B.ipynb",
      "provenance": [],
      "authorship_tag": "ABX9TyPHOKd/+T0Ar3TU2BZPZVzv",
      "include_colab_link": true
    },
    "kernelspec": {
      "name": "python3",
      "display_name": "Python 3"
    },
    "language_info": {
      "name": "python"
    }
  },
  "cells": [
    {
      "cell_type": "markdown",
      "metadata": {
        "id": "view-in-github",
        "colab_type": "text"
      },
      "source": [
        "<a href=\"https://colab.research.google.com/github/ARPIT2128/KU-BTECH-AIML/blob/main/VIDHI_21BTAI44/EXPERIMENT_6B.ipynb\" target=\"_parent\"><img src=\"https://colab.research.google.com/assets/colab-badge.svg\" alt=\"Open In Colab\"/></a>"
      ]
    },
    {
      "cell_type": "code",
      "execution_count": 8,
      "metadata": {
        "colab": {
          "base_uri": "https://localhost:8080/"
        },
        "id": "1ijzmMWTe4v4",
        "outputId": "ecdeded6-243d-4787-cec5-eca493515406"
      },
      "outputs": [
        {
          "output_type": "stream",
          "name": "stdout",
          "text": [
            "HELLO\n",
            "H\n",
            "E\n",
            "L\n",
            "L\n",
            "O\n",
            "['H', 'E', 'L', 'L', 'O']\n"
          ]
        }
      ],
      "source": [
        "l=list(input())\n",
        "for i in range(len(l)):\n",
        "    print(l[i])\n",
        "print(l)"
      ]
    }
  ]
}