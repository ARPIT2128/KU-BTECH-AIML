{
  "nbformat": 4,
  "nbformat_minor": 0,
  "metadata": {
    "colab": {
      "name": "EXPERIMENT 14.ipynb",
      "provenance": [],
      "authorship_tag": "ABX9TyMs6cun6+luf5yXG9DB4ptq",
      "include_colab_link": true
    },
    "kernelspec": {
      "name": "python3",
      "display_name": "Python 3"
    },
    "language_info": {
      "name": "python"
    }
  },
  "cells": [
    {
      "cell_type": "markdown",
      "metadata": {
        "id": "view-in-github",
        "colab_type": "text"
      },
      "source": [
        "<a href=\"https://colab.research.google.com/github/ARPIT2128/KU-BTECH-AIML/blob/main/VIDHI_21BTAI44/EXPERIMENT_14.ipynb\" target=\"_parent\"><img src=\"https://colab.research.google.com/assets/colab-badge.svg\" alt=\"Open In Colab\"/></a>"
      ]
    },
    {
      "cell_type": "code",
      "execution_count": 23,
      "metadata": {
        "colab": {
          "base_uri": "https://localhost:8080/"
        },
        "id": "1ijzmMWTe4v4",
        "outputId": "ea8d7c5a-fdab-4d43-f3c0-13fc1012bbd0"
      },
      "outputs": [
        {
          "name": "stdout",
          "output_type": "stream",
          "text": [
            "[5, 6, 7, 13, 45, 67, 2]\n",
            "Enter the number you want to search45\n",
            "[5, 6, 7, 13, 45, 67, 2]\n",
            "\n",
            " MAIN MENU \n",
            "\n",
            "1. LINEAR SEARCH\n",
            "2. BINARY SEARCH\n",
            "Enter a number:2\n",
            "Element is present at index 4\n",
            "\n",
            " MAIN MENU \n",
            "\n",
            "1. LINEAR SEARCH\n",
            "2. BINARY SEARCH\n",
            "Enter a number:5\n"
          ]
        }
      ],
      "source": [
        "def linear_search():\n",
        "  print(\"nothing\")\n",
        "def binary_search(arr, low, high, x):\n",
        "  if high >= low:\n",
        "    mid = (high + low) // 2\n",
        "    if arr[mid] == x:\n",
        "      return mid\n",
        "    elif arr[mid] > x:\n",
        "      return binary_search(arr, low, mid - 1, x)\n",
        "    else:\n",
        "      return binary_search(arr, mid + 1, high, x)\n",
        "  else:\n",
        "    return -1\n",
        "\n",
        "# MAIN BODY\n",
        "arr=[5,6,7,13,45,67,2]\n",
        "'''n=int(input(\"enter the size of the list\"))\n",
        "for i in range(n):\n",
        "  arr[i] = int(input(\"enter the values of list:\"))\n",
        "  i += 1'''\n",
        "print(arr)\n",
        "x = int(input(\"Enter the number you want to search\"))\n",
        "print(arr)\n",
        "#creating options\n",
        "while True:\n",
        "  print(\"\\n MAIN MENU \\n\")\n",
        "  print(\"1. LINEAR SEARCH\")\n",
        "  print(\"2. BINARY SEARCH\")\n",
        "  choice=int(input(\"Enter a number:\"))\n",
        "  if choice == 1:\n",
        "    linear_search\n",
        "  elif choice == 2:\n",
        "    result = binary_search(arr, 0, len(arr)-1, x)\n",
        "    if result != -1:\n",
        "      print(\"Element is present at index\", str(result))\n",
        "    else:\n",
        "      print(\"Element is not present in array\")\n",
        "  else:\n",
        "    print(\"Incorrect Choice\")\n",
        "    break"
      ]
    }
  ]
}