{
  "cells": [
    {
      "cell_type": "markdown",
      "metadata": {
        "id": "view-in-github",
        "colab_type": "text"
      },
      "source": [
        "<a href=\"https://colab.research.google.com/github/ARPIT2128/KU-BTECH-AIML/blob/main/NIMITI_21BTAI37.ipynb\" target=\"_parent\"><img src=\"https://colab.research.google.com/assets/colab-badge.svg\" alt=\"Open In Colab\"/></a>"
      ]
    },
    {
      "cell_type": "code",
      "source": [
        "a = {1,2,3,4,5}\n",
        "b = 3.0\n",
        "c = (\"hello python\")\n",
        "d = 10\n",
        "e = [\"a\",\"b\",\"c\"]\n",
        "f = {\"a\",\"b\",\"c\"}\n",
        "g = ('a','b','c')\n",
        "h = 1+3j\n",
        "print(type(a))\n",
        "print(type(b))\n",
        "print(type(c))\n",
        "print(type(d))\n",
        "print(type(e))\n",
        "print(type(f))\n",
        "print(type(g))\n",
        "print(type(h))"
      ],
      "metadata": {
        "id": "QAoAw2xLt2xt",
        "outputId": "4faff023-7135-4cf8-92bd-764b09486df5",
        "colab": {
          "base_uri": "https://localhost:8080/"
        }
      },
      "execution_count": null,
      "outputs": [
        {
          "output_type": "stream",
          "name": "stdout",
          "text": [
            "<class 'set'>\n",
            "<class 'float'>\n",
            "<class 'str'>\n",
            "<class 'int'>\n",
            "<class 'list'>\n",
            "<class 'set'>\n",
            "<class 'tuple'>\n",
            "<class 'complex'>\n"
          ]
        }
      ]
    },
    {
      "cell_type": "code",
      "source": [
        "x1=int(input(\"enter x1 : \"))\n",
        "\n",
        "x2=int(input(\"enter x2 : \"))\n",
        "\n",
        "y1=int(input(\"enter y1 : \"))\n",
        "\n",
        "y2=int(input(\"enter y2 : \"))\n",
        "\n",
        "result= ((((x2 - x1 )**2) + ((y2-y1)**2) )**0.5)\n",
        "\n",
        "print(\"distance between\",(x1,x2),\"and\",(y1,y2),\"is : \",result)"
      ],
      "metadata": {
        "id": "0ZfQYtqixQzF",
        "outputId": "b2f25163-e89c-484c-9eed-f3fd100620ac",
        "colab": {
          "base_uri": "https://localhost:8080/"
        }
      },
      "execution_count": null,
      "outputs": [
        {
          "output_type": "stream",
          "name": "stdout",
          "text": [
            "enter x1 : 4\n",
            "enter x2 : 6\n",
            "enter y1 : 0\n",
            "enter y2 : 6\n",
            "distance between (4, 6) and (0, 6) is :  6.324555320336759\n"
          ]
        }
      ]
    },
    {
      "cell_type": "code",
      "source": [
        "num = int(input(\"Enter a number: \"))  \n",
        "if (num % 2) == 0:  \n",
        "   print(\"{0} is Even number\".format(num))  \n",
        "else:  \n",
        "   print(\"{0} is not an even number\".format(num))"
      ],
      "metadata": {
        "id": "EH0c1HGWzo-q",
        "outputId": "400b1306-dbab-41c0-fa1e-9377ad5c450b",
        "colab": {
          "base_uri": "https://localhost:8080/"
        }
      },
      "execution_count": null,
      "outputs": [
        {
          "output_type": "stream",
          "name": "stdout",
          "text": [
            "Enter a number: 25\n",
            "25 is not an even number\n"
          ]
        }
      ]
    },
    {
      "cell_type": "code",
      "source": [
        "num1 = int(input(\"Enter a number: \"))\n",
        "sum = 0\n",
        "temp = num\n",
        "while temp > 0:\n",
        "   digit = temp % 10\n",
        "   sum += digit ** 3\n",
        "   temp //= 10\n",
        "if num == sum:\n",
        "   print(num,\"is an Armstrong number\")\n",
        "else:\n",
        "   print(num,\"is not an Armstrong number\")"
      ],
      "metadata": {
        "id": "rVizEObK0fDU",
        "outputId": "2136d998-c20c-44d3-d26b-c6419c9be17b",
        "colab": {
          "base_uri": "https://localhost:8080/"
        }
      },
      "execution_count": null,
      "outputs": [
        {
          "output_type": "stream",
          "name": "stdout",
          "text": [
            "Enter a number: 235\n",
            "235 is not an Armstrong number\n"
          ]
        }
      ]
    },
    {
      "cell_type": "code",
      "source": [
        "num = int(input(\"Enter your number\"))\n",
        "while(num>=0):\n",
        "  print(num)\n",
        "  num = num-1"
      ],
      "metadata": {
        "id": "VKXx0tlX2iWV",
        "outputId": "ee32e85c-14b0-4737-ec36-b83dae027b8d",
        "colab": {
          "base_uri": "https://localhost:8080/"
        }
      },
      "execution_count": null,
      "outputs": [
        {
          "output_type": "stream",
          "name": "stdout",
          "text": [
            "Enter your number10\n",
            "10\n",
            "9\n",
            "8\n",
            "7\n",
            "6\n",
            "5\n",
            "4\n",
            "3\n",
            "2\n",
            "1\n",
            "0\n"
          ]
        }
      ]
    },
    {
      "cell_type": "code",
      "source": [
        "str=input(\"enter string: \")\n",
        "dict = {}\n",
        "for i in str:\n",
        "  dict[i] = str.count(i)\n",
        "print(dict)"
      ],
      "metadata": {
        "id": "GpqaaaHW3upk",
        "outputId": "fddd3aa6-45bd-498a-9532-8225731576da",
        "colab": {
          "base_uri": "https://localhost:8080/"
        }
      },
      "execution_count": null,
      "outputs": [
        {
          "output_type": "stream",
          "name": "stdout",
          "text": [
            "enter string: nimiti\n",
            "{'n': 1, 'i': 3, 'm': 1, 't': 1}\n"
          ]
        }
      ]
    },
    {
      "cell_type": "code",
      "source": [
        "list_num = [1,2,3,4]\n",
        "tup_num = [2,6,7,8]\n",
        "print(list_num)\n",
        "print(tup_num)"
      ],
      "metadata": {
        "id": "70ZwNWso68Ag",
        "outputId": "10e67d8f-aca0-495a-f3d5-72e348646f02",
        "colab": {
          "base_uri": "https://localhost:8080/"
        }
      },
      "execution_count": null,
      "outputs": [
        {
          "output_type": "stream",
          "name": "stdout",
          "text": [
            "[1, 2, 3, 4]\n",
            "[2, 6, 7, 8]\n"
          ]
        }
      ]
    },
    {
      "cell_type": "code",
      "source": [
        "str = \"i am nimiti\"\n",
        "for i in str:\n",
        "  print(i)"
      ],
      "metadata": {
        "id": "nNuq01KW7xnV",
        "outputId": "39d5e179-baee-4b97-bc3f-3b0d2f7fd749",
        "colab": {
          "base_uri": "https://localhost:8080/"
        }
      },
      "execution_count": null,
      "outputs": [
        {
          "output_type": "stream",
          "name": "stdout",
          "text": [
            "i\n",
            " \n",
            "a\n",
            "m\n",
            " \n",
            "n\n",
            "i\n",
            "m\n",
            "i\n",
            "t\n",
            "i\n"
          ]
        }
      ]
    }
  ],
  "metadata": {
    "colab": {
      "collapsed_sections": [],
      "name": "NIMITI_21BTAI37.ipynb",
      "toc_visible": true,
      "provenance": [],
      "include_colab_link": true
    },
    "kernelspec": {
      "display_name": "Python 3",
      "name": "python3"
    }
  },
  "nbformat": 4,
  "nbformat_minor": 0
}