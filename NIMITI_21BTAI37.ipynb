{
  "cells": [
    {
      "cell_type": "markdown",
      "metadata": {
        "id": "view-in-github",
        "colab_type": "text"
      },
      "source": [
        "<a href=\"https://colab.research.google.com/github/ARPIT2128/KU-BTECH-AIML/blob/main/NIMITI_21BTAI37.ipynb\" target=\"_parent\"><img src=\"https://colab.research.google.com/assets/colab-badge.svg\" alt=\"Open In Colab\"/></a>"
      ]
    },
    {
      "cell_type": "code",
      "source": [
        "#1\n",
        "a = {1,2,3,4,5}\n",
        "b = 3.0\n",
        "c = (\"hello python\")\n",
        "d = 10\n",
        "e = [\"a\",\"b\",\"c\"]\n",
        "f = {\"a\",\"b\",\"c\"}\n",
        "g = ('a','b','c')\n",
        "h = 1+3j\n",
        "print(type(a))\n",
        "print(type(b))\n",
        "print(type(c))\n",
        "print(type(d))\n",
        "print(type(e))\n",
        "print(type(f))\n",
        "print(type(g))\n",
        "print(type(h))"
      ],
      "metadata": {
        "id": "QAoAw2xLt2xt",
        "outputId": "4faff023-7135-4cf8-92bd-764b09486df5",
        "colab": {
          "base_uri": "https://localhost:8080/"
        }
      },
      "execution_count": null,
      "outputs": [
        {
          "output_type": "stream",
          "name": "stdout",
          "text": [
            "<class 'set'>\n",
            "<class 'float'>\n",
            "<class 'str'>\n",
            "<class 'int'>\n",
            "<class 'list'>\n",
            "<class 'set'>\n",
            "<class 'tuple'>\n",
            "<class 'complex'>\n"
          ]
        }
      ]
    },
    {
      "cell_type": "code",
      "source": [
        "#2\n",
        "x1=int(input(\"enter x1 : \"))\n",
        "\n",
        "x2=int(input(\"enter x2 : \"))\n",
        "\n",
        "y1=int(input(\"enter y1 : \"))\n",
        "\n",
        "y2=int(input(\"enter y2 : \"))\n",
        "\n",
        "result= ((((x2 - x1 )**2) + ((y2-y1)**2) )**0.5)\n",
        "\n",
        "print(\"distance between\",(x1,x2),\"and\",(y1,y2),\"is : \",result)"
      ],
      "metadata": {
        "id": "0ZfQYtqixQzF",
        "outputId": "b2f25163-e89c-484c-9eed-f3fd100620ac",
        "colab": {
          "base_uri": "https://localhost:8080/"
        }
      },
      "execution_count": null,
      "outputs": [
        {
          "output_type": "stream",
          "name": "stdout",
          "text": [
            "enter x1 : 4\n",
            "enter x2 : 6\n",
            "enter y1 : 0\n",
            "enter y2 : 6\n",
            "distance between (4, 6) and (0, 6) is :  6.324555320336759\n"
          ]
        }
      ]
    },
    {
      "cell_type": "code",
      "source": [
        "#3(1)\n",
        "num = int(input(\"Enter a number: \"))  \n",
        "if (num % 2) == 0:  \n",
        "   print(\"{0} is Even number\".format(num))  \n",
        "else:  \n",
        "   print(\"{0} is not an even number\".format(num))"
      ],
      "metadata": {
        "id": "EH0c1HGWzo-q",
        "outputId": "400b1306-dbab-41c0-fa1e-9377ad5c450b",
        "colab": {
          "base_uri": "https://localhost:8080/"
        }
      },
      "execution_count": null,
      "outputs": [
        {
          "output_type": "stream",
          "name": "stdout",
          "text": [
            "Enter a number: 25\n",
            "25 is not an even number\n"
          ]
        }
      ]
    },
    {
      "cell_type": "code",
      "source": [
        "(2)\n",
        "num1 = int(input(\"Enter a number: \"))\n",
        "sum = 0\n",
        "temp = num\n",
        "while temp > 0:\n",
        "   digit = temp % 10\n",
        "   sum += digit ** 3\n",
        "   temp //= 10\n",
        "if num == sum:\n",
        "   print(num,\"is an Armstrong number\")\n",
        "else:\n",
        "   print(num,\"is not an Armstrong number\")"
      ],
      "metadata": {
        "id": "rVizEObK0fDU",
        "outputId": "3c6d1db0-4034-414d-9b13-940115c4329c",
        "colab": {
          "base_uri": "https://localhost:8080/"
        }
      },
      "execution_count": null,
      "outputs": [
        {
          "output_type": "stream",
          "name": "stdout",
          "text": [
            "Enter a number: 521\n",
            "-1 is not an Armstrong number\n"
          ]
        }
      ]
    },
    {
      "cell_type": "code",
      "source": [
        "#4\n",
        "num = int(input(\"Enter your number\"))\n",
        "while(num>=0):\n",
        "  print(num)\n",
        "  num = num-1"
      ],
      "metadata": {
        "id": "VKXx0tlX2iWV",
        "outputId": "9bfebf0e-3aff-4054-868d-8a3b0049a695",
        "colab": {
          "base_uri": "https://localhost:8080/"
        }
      },
      "execution_count": null,
      "outputs": [
        {
          "output_type": "stream",
          "name": "stdout",
          "text": [
            "Enter your number10\n",
            "10\n",
            "9\n",
            "8\n",
            "7\n",
            "6\n",
            "5\n",
            "4\n",
            "3\n",
            "2\n",
            "1\n",
            "0\n"
          ]
        }
      ]
    },
    {
      "cell_type": "code",
      "source": [
        "#5\n",
        "str=input(\"enter string: \")\n",
        "dict = {}\n",
        "for i in str:\n",
        "  dict[i] = str.count(i)\n",
        "print(dict)"
      ],
      "metadata": {
        "id": "GpqaaaHW3upk",
        "outputId": "fddd3aa6-45bd-498a-9532-8225731576da",
        "colab": {
          "base_uri": "https://localhost:8080/"
        }
      },
      "execution_count": null,
      "outputs": [
        {
          "output_type": "stream",
          "name": "stdout",
          "text": [
            "enter string: nimiti\n",
            "{'n': 1, 'i': 3, 'm': 1, 't': 1}\n"
          ]
        }
      ]
    },
    {
      "cell_type": "code",
      "source": [
        "#6(1)\n",
        "list_num = [1,2,3,4]\n",
        "tup_num = [2,6,7,8]\n",
        "print(list_num)\n",
        "print(tup_num)"
      ],
      "metadata": {
        "id": "70ZwNWso68Ag",
        "outputId": "10e67d8f-aca0-495a-f3d5-72e348646f02",
        "colab": {
          "base_uri": "https://localhost:8080/"
        }
      },
      "execution_count": null,
      "outputs": [
        {
          "output_type": "stream",
          "name": "stdout",
          "text": [
            "[1, 2, 3, 4]\n",
            "[2, 6, 7, 8]\n"
          ]
        }
      ]
    },
    {
      "cell_type": "code",
      "source": [
        "(2)\n",
        "str = \"i am nimiti\"\n",
        "for i in str:\n",
        "  print(i)"
      ],
      "metadata": {
        "id": "nNuq01KW7xnV",
        "outputId": "39d5e179-baee-4b97-bc3f-3b0d2f7fd749",
        "colab": {
          "base_uri": "https://localhost:8080/"
        }
      },
      "execution_count": null,
      "outputs": [
        {
          "output_type": "stream",
          "name": "stdout",
          "text": [
            "i\n",
            " \n",
            "a\n",
            "m\n",
            " \n",
            "n\n",
            "i\n",
            "m\n",
            "i\n",
            "t\n",
            "i\n"
          ]
        }
      ]
    },
    {
      "cell_type": "code",
      "source": [
        "#7(i)\n",
        "str = input (\"Enter the Word :- \")\n",
        "if str [ : 2] == \"0!\":\n",
        "    for i in range (len(str)) :\n",
        "        print (str[i])\n",
        "else :\n",
        "    print(str)\n",
        "\n",
        "\n",
        "#(iii)\n",
        "str = input (\"Enter the Word :- \")\n",
        "newstr = str[-1 : : -1]\n",
        "print (newstr)\n",
        "\n",
        "#(iv)\n",
        "str = input (\"Enter the Word :- \")\n",
        "letter = input (\"Enter a letter to count :- \") \n",
        "count = 0\n",
        "for i in str :\n",
        "    if i == letter :\n",
        "        count += 1\n",
        "print (\"Number of letter :- \", count )\n"
      ],
      "metadata": {
        "colab": {
          "base_uri": "https://localhost:8080/"
        },
        "id": "2qXz4OWY0KmT",
        "outputId": "cf868b63-f070-4ede-e166-9d8bf0029a87"
      },
      "execution_count": 176,
      "outputs": [
        {
          "output_type": "stream",
          "name": "stdout",
          "text": [
            "Enter the Word :- hello\n",
            "hello\n",
            "Enter the Word :- hello\n",
            "olleh\n",
            "Enter the Word :- hello\n",
            "Enter a letter to count :- h\n",
            "Number of letter :-  1\n"
          ]
        }
      ]
    },
    {
      "cell_type": "code",
      "source": [
        "#8(1)\n",
        "import statistics\n",
        "statistics.mean([5, 3, 6, 8, 9, 12, 5])"
      ],
      "metadata": {
        "colab": {
          "base_uri": "https://localhost:8080/"
        },
        "id": "R25qF09c6mYT",
        "outputId": "9a9da60d-c002-45f4-b2ad-9b7a017edae8"
      },
      "execution_count": null,
      "outputs": [
        {
          "output_type": "execute_result",
          "data": {
            "text/plain": [
              "6.857142857142857"
            ]
          },
          "metadata": {},
          "execution_count": 30
        }
      ]
    },
    {
      "cell_type": "code",
      "source": [
        "#(2)\n",
        "import statistics\n",
        "statistics.median([5, 3, 6, 8, 9, 12, 5])"
      ],
      "metadata": {
        "colab": {
          "base_uri": "https://localhost:8080/"
        },
        "id": "tctkaibu9kUq",
        "outputId": "6c888d66-f7fa-4428-f614-75fcc11b3d72"
      },
      "execution_count": null,
      "outputs": [
        {
          "output_type": "execute_result",
          "data": {
            "text/plain": [
              "6"
            ]
          },
          "metadata": {},
          "execution_count": 18
        }
      ]
    },
    {
      "cell_type": "code",
      "source": [
        "#3\n",
        "import statistics\n",
        "statistics.mode([5, 3, 6, 8, 9, 12, 5])"
      ],
      "metadata": {
        "colab": {
          "base_uri": "https://localhost:8080/"
        },
        "id": "bOGpN-aH9nf-",
        "outputId": "4857ad28-e75f-42f7-87ef-344a4d5374ed"
      },
      "execution_count": null,
      "outputs": [
        {
          "output_type": "execute_result",
          "data": {
            "text/plain": [
              "5"
            ]
          },
          "metadata": {},
          "execution_count": 31
        }
      ]
    },
    {
      "cell_type": "code",
      "source": [
        "#4\n",
        "nums = [9, 4, 6, 6, 5, 2, 10, 12, 1, 4, 4, 6]\n",
        "\n",
        "minimum = min(nums)\n",
        "maximum = max(nums)\n",
        "\n",
        "range = maximum-minimum\n",
        "print(range)"
      ],
      "metadata": {
        "colab": {
          "base_uri": "https://localhost:8080/"
        },
        "id": "kp1Yd0GJARSm",
        "outputId": "e00131df-2785-4aa8-a52b-4e5030da88cb"
      },
      "execution_count": null,
      "outputs": [
        {
          "output_type": "stream",
          "name": "stdout",
          "text": [
            "11\n"
          ]
        }
      ]
    },
    {
      "cell_type": "code",
      "source": [
        "#9\n",
        "\n",
        "dic = {'Path' : \"2003\",\n",
        "       'walla' : \"1809\",\n",
        "       'Portal' : \"1912\",\n",
        "       'Express' : \"2003\",\n",
        "       'Computer' : \"9834\",\n",
        "       'Python' : \"1990\",\n",
        "       'Mysql' : \"2001\",\n",
        "       'c++' : \"1996\",\n",
        "       'java' : \"1998\",\n",
        "       'html' : \"1999\" }\n",
        "\n",
        "username = input(\"Enter username :- \")\n",
        "\n",
        "if username in dic :\n",
        "    password = input(\"Enter password :- \")\n",
        "    if dic[username] == password :\n",
        "        print (\"You are now logged into the system.\")\n",
        "    else :\n",
        "        print (\"Invalid password.\")\n",
        "else :\n",
        "    print (\"You are not valid user\")"
      ],
      "metadata": {
        "colab": {
          "base_uri": "https://localhost:8080/"
        },
        "id": "fsugsl8oQgRJ",
        "outputId": "a435db57-3f8b-4a0f-98c6-e20847b19233"
      },
      "execution_count": null,
      "outputs": [
        {
          "output_type": "stream",
          "name": "stdout",
          "text": [
            "Enter username :- Path\n",
            "Enter password :- 2003\n",
            "You are now logged into the system.\n"
          ]
        }
      ]
    },
    {
      "cell_type": "code",
      "source": [
        "#10"
      ],
      "metadata": {
        "id": "FkqKlC3-Uuxz"
      },
      "execution_count": 173,
      "outputs": []
    },
    {
      "cell_type": "code",
      "source": [
        "#11\n",
        "subject_marks = [('Discrete Mathematics', 93), ('Python Programming', 95), ('Engineering Physics', 83), ('Environmental sciences', 88)]\n",
        "print(\"Original list of tuples:\")\n",
        "print(subject_marks)\n",
        "subject_marks.sort(key = lambda x: x[1])\n",
        "print(\"\\nSorting the List of Tuples:\")\n",
        "print(subject_marks)\n",
        "  \n"
      ],
      "metadata": {
        "colab": {
          "base_uri": "https://localhost:8080/"
        },
        "id": "Em-_ADmOWMnD",
        "outputId": "4b41c5c7-32a9-45cd-cfcd-abb4722a6af5"
      },
      "execution_count": null,
      "outputs": [
        {
          "output_type": "stream",
          "name": "stdout",
          "text": [
            "Original list of tuples:\n",
            "[('Discrete Mathematics', 93), ('Python Programming', 95), ('Engineering Physics', 83), ('Environmental sciences', 88)]\n",
            "\n",
            "Sorting the List of Tuples:\n",
            "[('Engineering Physics', 83), ('Environmental sciences', 88), ('Discrete Mathematics', 93), ('Python Programming', 95)]\n"
          ]
        }
      ]
    },
    {
      "cell_type": "code",
      "source": [
        "#12(1)\n",
        "tup = eval(input(\"Enter a tuple :- \"))\n",
        "index = 0\n",
        "while index < len(tup):\n",
        "    new = tup[ index ][1 : ] + tup[ index ][ 0 ] + \"ay\"\n",
        "    print (new, end = \" \")\n",
        "    index = 1"
      ],
      "metadata": {
        "colab": {
          "base_uri": "https://localhost:8080/"
        },
        "id": "Jxw7YuuxgmZt",
        "outputId": "4e1cd5ef-7742-4008-ecbc-1cfbbb62f6e5"
      },
      "execution_count": null,
      "outputs": [
        {
          "output_type": "stream",
          "name": "stdout",
          "text": [
            "Enter a tuple :- \"the\",\"quick\",\"brown\",\"fox\"\n",
            "hetay uickqay rownbay oxfay "
          ]
        }
      ]
    },
    {
      "cell_type": "code",
      "source": [
        "(2)\n",
        "tup =(\"heTay\",\"uickqay\",\"rownbay\", \"oxfay\") \n",
        "index = 0\n",
        "while index < len(tup):\n",
        "    new = tup[ index ][ -3 ] + tup[ index ][0 : -3 ] \n",
        "    print (new, end = \" \")\n",
        "    index += 1"
      ],
      "metadata": {
        "id": "5Nj0H7TteSbm",
        "colab": {
          "base_uri": "https://localhost:8080/"
        },
        "outputId": "3056ecb9-f4e1-4503-ccb3-b6108ef23034"
      },
      "execution_count": 177,
      "outputs": [
        {
          "output_type": "stream",
          "name": "stdout",
          "text": [
            "The quick brown fox "
          ]
        }
      ]
    },
    {
      "cell_type": "code",
      "source": [
        "#13"
      ],
      "metadata": {
        "id": "pDK-DV-Ei6Ii"
      },
      "execution_count": null,
      "outputs": []
    },
    {
      "cell_type": "code",
      "source": [
        "#14"
      ],
      "metadata": {
        "id": "D_m1vnesjVge"
      },
      "execution_count": 181,
      "outputs": []
    },
    {
      "cell_type": "code",
      "source": [
        "#15"
      ],
      "metadata": {
        "id": "ky-XdPVVoMLx"
      },
      "execution_count": null,
      "outputs": []
    }
  ],
  "metadata": {
    "colab": {
      "collapsed_sections": [],
      "name": "NIMITI_21BTAI37.ipynb",
      "toc_visible": true,
      "provenance": [],
      "include_colab_link": true
    },
    "kernelspec": {
      "display_name": "Python 3",
      "name": "python3"
    }
  },
  "nbformat": 4,
  "nbformat_minor": 0
}