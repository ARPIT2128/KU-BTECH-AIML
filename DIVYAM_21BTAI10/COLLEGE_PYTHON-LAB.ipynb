{
  "nbformat": 4,
  "nbformat_minor": 0,
  "metadata": {
    "colab": {
      "name": "Untitled2.ipynb",
      "provenance": [],
      "authorship_tag": "ABX9TyOKZcwRQRZY+4mtxInJpTBQ",
      "include_colab_link": true
    },
    "kernelspec": {
      "name": "python3",
      "display_name": "Python 3"
    },
    "language_info": {
      "name": "python"
    }
  },
  "cells": [
    {
      "cell_type": "markdown",
      "metadata": {
        "id": "view-in-github",
        "colab_type": "text"
      },
      "source": [
        "<a href=\"https://colab.research.google.com/github/ARPIT2128/KU-BTECH-AIML/blob/main/DIVYAM_21BTAI10/COLLEGE_PYTHON-LAB.ipynb\" target=\"_parent\"><img src=\"https://colab.research.google.com/assets/colab-badge.svg\" alt=\"Open In Colab\"/></a>"
      ]
    },
    {
      "cell_type": "code",
      "execution_count": 1,
      "metadata": {
        "colab": {
          "base_uri": "https://localhost:8080/"
        },
        "id": "r8e8oFDVdFj3",
        "outputId": "e96c9d1f-423c-4dc8-ce42-eae229a82913"
      },
      "outputs": [
        {
          "output_type": "stream",
          "name": "stdout",
          "text": [
            "Give value of x1 :45\n",
            "Give value of x2 :56\n",
            "Give value of y1 :67\n",
            "Give value of y2 :78\n",
            "your answer -10461.0\n"
          ]
        }
      ],
      "source": [
        "x1 = float(input(\"Give value of x1 :\"))\n",
        "x2 = float(input(\"Give value of x2 :\"))\n",
        "y1 = float(input(\"Give value of y1 :\"))\n",
        "y2 = float(input(\"Give value of y2 :\"))\n",
        "\n",
        "dist=(x1-y1**2)+(y1-y2**2)\n",
        "print(\"your answer\",dist)\n",
        "\n",
        "\n"
      ]
    },
    {
      "cell_type": "code",
      "source": [
        "num = int(input(\"Enter a number: \"))\n",
        "if (num % 2) == 0:\n",
        "   print(num, \" is even\")\n",
        "else:\n",
        "   print(num, \" is odd\")"
      ],
      "metadata": {
        "colab": {
          "base_uri": "https://localhost:8080/"
        },
        "id": "8OAfcRM2hnPo",
        "outputId": "01b04a6e-73f2-4141-9f69-0b5a68fdba37"
      },
      "execution_count": 2,
      "outputs": [
        {
          "output_type": "stream",
          "name": "stdout",
          "text": [
            "Enter a number: 23\n",
            "23  is odd\n"
          ]
        }
      ]
    },
    {
      "cell_type": "code",
      "source": [
        "number=(list(map(int,input().split())))\n",
        "length_num=len(number)\n",
        "l1=list()\n",
        "l2=list()\n",
        "for i in range(length_num):\n",
        "    if(number[i]%2==0):\n",
        "        l1.append(number[i])\n",
        "    else:\n",
        "        l2.append(number[i])\n",
        "print(\"The even number are {} \\nThe odd number are {}\".format(l1,l2))"
      ],
      "metadata": {
        "colab": {
          "base_uri": "https://localhost:8080/"
        },
        "id": "EilJaZeRiMf7",
        "outputId": "c2f34421-7623-4049-c16a-5028c0253f29"
      },
      "execution_count": 5,
      "outputs": [
        {
          "output_type": "stream",
          "name": "stdout",
          "text": [
            "13\n",
            "The even number are [] \n",
            "The odd number are [13]\n"
          ]
        }
      ]
    }
  ]
}