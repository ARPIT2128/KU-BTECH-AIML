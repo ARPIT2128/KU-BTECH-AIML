{
  "nbformat": 4,
  "nbformat_minor": 0,
  "metadata": {
    "colab": {
      "name": "Untitled2.ipynb",
      "provenance": [],
      "authorship_tag": "ABX9TyNzbOghYT7Vfv4N4nYoyNsp",
      "include_colab_link": true
    },
    "kernelspec": {
      "name": "python3",
      "display_name": "Python 3"
    },
    "language_info": {
      "name": "python"
    }
  },
  "cells": [
    {
      "cell_type": "markdown",
      "metadata": {
        "id": "view-in-github",
        "colab_type": "text"
      },
      "source": [
        "<a href=\"https://colab.research.google.com/github/ARPIT2128/KU-BTECH-AIML/blob/main/DIVYAM_21BTAI10/COLLEGE_PYTHON-LAB.ipynb\" target=\"_parent\"><img src=\"https://colab.research.google.com/assets/colab-badge.svg\" alt=\"Open In Colab\"/></a>"
      ]
    },
    {
      "cell_type": "markdown",
      "source": [
        "Expirement-1"
      ],
      "metadata": {
        "id": "R2mZPa4ULZQm"
      }
    },
    {
      "cell_type": "code",
      "source": [
        "a=int(input(\"enter the value of a:\"))\n",
        "print(a)\n",
        "type(a)"
      ],
      "metadata": {
        "id": "-OMB0j_HKdLL",
        "outputId": "3af9b235-2627-425d-e240-abe47f95e330",
        "colab": {
          "base_uri": "https://localhost:8080/"
        }
      },
      "execution_count": 1,
      "outputs": [
        {
          "output_type": "stream",
          "name": "stdout",
          "text": [
            "enter the value of a:23\n",
            "23\n"
          ]
        },
        {
          "output_type": "execute_result",
          "data": {
            "text/plain": [
              "int"
            ]
          },
          "metadata": {},
          "execution_count": 1
        }
      ]
    },
    {
      "cell_type": "code",
      "source": [
        "b=input(\"enter the string:\")\n",
        "print(b)\n",
        "type(b)"
      ],
      "metadata": {
        "id": "QHRUVYCkKqq6",
        "outputId": "6e88035a-2ce7-4772-c221-1e358cd1ed30",
        "colab": {
          "base_uri": "https://localhost:8080/"
        }
      },
      "execution_count": 2,
      "outputs": [
        {
          "output_type": "stream",
          "name": "stdout",
          "text": [
            "enter the string:divyam\n",
            "divyam\n"
          ]
        },
        {
          "output_type": "execute_result",
          "data": {
            "text/plain": [
              "str"
            ]
          },
          "metadata": {},
          "execution_count": 2
        }
      ]
    },
    {
      "cell_type": "code",
      "source": [
        "c=float(input(\"enter the float value:\"))\n",
        "print(c)\n",
        "type(c)\n",
        "\n",
        "\n"
      ],
      "metadata": {
        "id": "Gze2ngTLKwT-",
        "outputId": "f240f397-5e4b-41e9-855b-697cca20f86e",
        "colab": {
          "base_uri": "https://localhost:8080/"
        }
      },
      "execution_count": 4,
      "outputs": [
        {
          "output_type": "stream",
          "name": "stdout",
          "text": [
            "enter the float value:3.14\n",
            "3.14\n"
          ]
        },
        {
          "output_type": "execute_result",
          "data": {
            "text/plain": [
              "float"
            ]
          },
          "metadata": {},
          "execution_count": 4
        }
      ]
    },
    {
      "cell_type": "markdown",
      "source": [
        "Experiment-2"
      ],
      "metadata": {
        "id": "vwQTRHObMAIl"
      }
    },
    {
      "cell_type": "code",
      "execution_count": null,
      "metadata": {
        "colab": {
          "base_uri": "https://localhost:8080/"
        },
        "id": "r8e8oFDVdFj3",
        "outputId": "e96c9d1f-423c-4dc8-ce42-eae229a82913"
      },
      "outputs": [
        {
          "output_type": "stream",
          "name": "stdout",
          "text": [
            "Give value of x1 :45\n",
            "Give value of x2 :56\n",
            "Give value of y1 :67\n",
            "Give value of y2 :78\n",
            "your answer -10461.0\n"
          ]
        }
      ],
      "source": [
        "x1 = float(input(\"Give value of x1 :\"))\n",
        "x2 = float(input(\"Give value of x2 :\"))\n",
        "y1 = float(input(\"Give value of y1 :\"))\n",
        "y2 = float(input(\"Give value of y2 :\"))\n",
        "\n",
        "dist=(x1-y1**2)+(y1-y2**2)\n",
        "print(\"your answer\",dist)\n",
        "\n",
        "\n"
      ]
    },
    {
      "cell_type": "markdown",
      "source": [
        "Experiment-3"
      ],
      "metadata": {
        "id": "fNJ1s1h3MbXa"
      }
    },
    {
      "cell_type": "code",
      "source": [
        "my_lists=[\"Divyam\",\"Chirag\",\"Patel\"]\n",
        "print(my_lists)"
      ],
      "metadata": {
        "id": "9BSqLNEzMGZ-",
        "outputId": "a712b4a3-e4b4-452f-a0d2-ccabb05ea43a",
        "colab": {
          "base_uri": "https://localhost:8080/"
        }
      },
      "execution_count": 8,
      "outputs": [
        {
          "output_type": "stream",
          "name": "stdout",
          "text": [
            "['Divyam', 'Chirag', 'Patel']\n"
          ]
        }
      ]
    },
    {
      "cell_type": "code",
      "source": [
        "my_tuple=(\"Divyam\",\"Chirag\",\"Patel\")\n",
        "print(my_tuple)"
      ],
      "metadata": {
        "id": "3aDyLlaRMOte",
        "outputId": "8c68e106-c48e-44ca-9a7c-7e7077e2f906",
        "colab": {
          "base_uri": "https://localhost:8080/"
        }
      },
      "execution_count": 10,
      "outputs": [
        {
          "output_type": "stream",
          "name": "stdout",
          "text": [
            "('Divyam', 'Chirag', 'Patel')\n"
          ]
        }
      ]
    },
    {
      "cell_type": "code",
      "source": [
        "for i in my_lists:\n",
        "  print(i)\n",
        "for i in my_tuple:\n",
        "  print(i)"
      ],
      "metadata": {
        "id": "tby_3mXIMWwR",
        "outputId": "99dd228f-bf63-4735-d498-016b16d31ffd",
        "colab": {
          "base_uri": "https://localhost:8080/"
        }
      },
      "execution_count": 11,
      "outputs": [
        {
          "output_type": "stream",
          "name": "stdout",
          "text": [
            "Divyam\n",
            "Chirag\n",
            "Patel\n",
            "Divyam\n",
            "Chirag\n",
            "Patel\n"
          ]
        }
      ]
    },
    {
      "cell_type": "markdown",
      "source": [
        "Experiment-4(a)"
      ],
      "metadata": {
        "id": "WQBYoQJ9MiX5"
      }
    },
    {
      "cell_type": "code",
      "source": [
        "num = int(input(\"Enter a number: \"))\n",
        "if (num % 2) == 0:\n",
        "   print(num, \" is even\")\n",
        "else:\n",
        "   print(num, \" is odd\")"
      ],
      "metadata": {
        "colab": {
          "base_uri": "https://localhost:8080/"
        },
        "id": "8OAfcRM2hnPo",
        "outputId": "01b04a6e-73f2-4141-9f69-0b5a68fdba37"
      },
      "execution_count": null,
      "outputs": [
        {
          "output_type": "stream",
          "name": "stdout",
          "text": [
            "Enter a number: 23\n",
            "23  is odd\n"
          ]
        }
      ]
    },
    {
      "cell_type": "markdown",
      "source": [
        "Experiment-4(b)"
      ],
      "metadata": {
        "id": "p4p2X2j6OHlj"
      }
    },
    {
      "cell_type": "code",
      "source": [
        "num=input(\"Enter number:\")\n",
        "n=list(num)\n",
        "\n",
        "len_num=len(n)\n",
        "sum=0\n",
        "for i in range(len_num):\n",
        "    sum+=pow(int(n[i]),len_num)\n",
        "\n",
        "if(int(num)==sum):\n",
        "    print(\"It is armstrong\")\n",
        "else:\n",
        "    print(\"It is not armstrong\")"
      ],
      "metadata": {
        "colab": {
          "base_uri": "https://localhost:8080/"
        },
        "id": "kmmv1tt3ixk1",
        "outputId": "b58d5998-620f-46b3-d36d-414f0f6df9e0"
      },
      "execution_count": null,
      "outputs": [
        {
          "output_type": "stream",
          "name": "stdout",
          "text": [
            "Enter number:23\n",
            "It is not armstrong\n"
          ]
        }
      ]
    },
    {
      "cell_type": "markdown",
      "source": [
        "Experiment-5"
      ],
      "metadata": {
        "id": "e4arsdWAOQMX"
      }
    },
    {
      "cell_type": "code",
      "source": [
        "x=int(input(\"Enter the number :\"))\n",
        "while x >=0:\n",
        "  print(x)\n",
        "  x=x-1"
      ],
      "metadata": {
        "id": "LegBnPfnOLxh",
        "outputId": "39bf6f4e-5b1a-4f2b-deb2-1ddbe7f9ec3a",
        "colab": {
          "base_uri": "https://localhost:8080/"
        }
      },
      "execution_count": 12,
      "outputs": [
        {
          "output_type": "stream",
          "name": "stdout",
          "text": [
            "Enter the number :5\n",
            "5\n",
            "4\n",
            "3\n",
            "2\n",
            "1\n",
            "0\n"
          ]
        }
      ]
    },
    {
      "cell_type": "markdown",
      "source": [
        "Experiment-6"
      ],
      "metadata": {
        "id": "-U2f42jcOb3I"
      }
    },
    {
      "cell_type": "code",
      "source": [
        "y=input(\"Enter the string:\")\n",
        "f={}\n",
        "for i in y:\n",
        "  if i in f:\n",
        "    f[i]+=1\n",
        "  else :\n",
        "    f[i]=1\n",
        "print(f)"
      ],
      "metadata": {
        "id": "vZlGxk4VOThk",
        "outputId": "cf2b4d07-e334-4526-c338-e98cf32e5707",
        "colab": {
          "base_uri": "https://localhost:8080/"
        }
      },
      "execution_count": 13,
      "outputs": [
        {
          "output_type": "stream",
          "name": "stdout",
          "text": [
            "Enter the string:divyam\n",
            "{'d': 1, 'i': 1, 'v': 1, 'y': 1, 'a': 1, 'm': 1}\n"
          ]
        }
      ]
    },
    {
      "cell_type": "markdown",
      "source": [
        "Experiment-7"
      ],
      "metadata": {
        "id": "IkJ4MFbEOl1B"
      }
    },
    {
      "cell_type": "code",
      "source": [
        "import sympy\n",
        "sum=0\n",
        "for i in range(0,3490001):\n",
        "  if(sympy.isprime(i))==True:\n",
        "    sum+=i\n",
        "print(sum)"
      ],
      "metadata": {
        "id": "-so-teG6OfB6",
        "outputId": "8281ee47-fc8a-4819-e9ec-99e2fd39d12e",
        "colab": {
          "base_uri": "https://localhost:8080/"
        }
      },
      "execution_count": 14,
      "outputs": [
        {
          "output_type": "stream",
          "name": "stdout",
          "text": [
            "418447415491\n"
          ]
        }
      ]
    },
    {
      "cell_type": "code",
      "source": [
        "def fibonacci():\n",
        "  sequence=[1,2]\n",
        "  total=0\n",
        "  while sequence[-1]<600000:\n",
        "    if sequence[-1]%2==0:\n",
        "      total+=sequence[-1]\n",
        "    sequence.append(sequence[-1]+sequence[-2])\n",
        "  print(total)\n",
        "fibonacci()"
      ],
      "metadata": {
        "id": "qv2Ti-YROoJt",
        "outputId": "45b9d832-8ef8-4092-dc31-0a1434ed5097",
        "colab": {
          "base_uri": "https://localhost:8080/"
        }
      },
      "execution_count": 15,
      "outputs": [
        {
          "output_type": "stream",
          "name": "stdout",
          "text": [
            "257114\n"
          ]
        }
      ]
    },
    {
      "cell_type": "code",
      "source": [
        "l=[1,2,3,4,5,6,9,4,3,6,7]\n",
        "l1=[]\n",
        "for i in l:\n",
        "    if i not in l1:\n",
        "        l1.append(i)\n",
        "    else:\n",
        "        print(i,end=' ')"
      ],
      "metadata": {
        "id": "Ny1kFj1ROru_",
        "outputId": "09cb2f08-9c4e-4ad2-dc39-d8ae0f99daff",
        "colab": {
          "base_uri": "https://localhost:8080/"
        }
      },
      "execution_count": 16,
      "outputs": [
        {
          "output_type": "stream",
          "name": "stdout",
          "text": [
            "4 3 6 "
          ]
        }
      ]
    }
  ]
}